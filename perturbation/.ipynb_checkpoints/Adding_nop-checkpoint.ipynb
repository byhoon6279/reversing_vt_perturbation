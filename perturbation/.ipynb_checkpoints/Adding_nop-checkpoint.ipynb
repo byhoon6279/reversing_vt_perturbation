{
 "cells": [
  {
   "cell_type": "code",
   "execution_count": 1,
   "id": "a151f81b-43e1-4081-9ecf-20b091290b70",
   "metadata": {
    "tags": []
   },
   "outputs": [
    {
     "name": "stdout",
     "output_type": "stream",
     "text": [
      "Directory '../sample/perturbated_sample/adding_nop/' created successfully.\n",
      "../sample/section_move_sample/PEview_new.exe\n",
      "32\n"
     ]
    },
    {
     "name": "stderr",
     "output_type": "stream",
     "text": [
      "10088it [08:29, 19.81it/s]"
     ]
    },
    {
     "name": "stdout",
     "output_type": "stream",
     "text": [
      "len_new_text:  145096\n",
      "modified_section_return save_dir :  ../sample/perturbated_sample/adding_nop/PEview_new_adding_15.exe\n",
      "Modified PE file saved as ../sample/perturbated_sample/adding_nop/PEview_new_adding_15.exe\n",
      "{}\n",
      "Done!! PEview_new.exe\n"
     ]
    },
    {
     "name": "stderr",
     "output_type": "stream",
     "text": [
      "\n"
     ]
    }
   ],
   "source": [
    "from adding_nop import *\n",
    "from common_function import *\n",
    "\n",
    "if __name__ == '__main__':\n",
    "        \n",
    "    sample_dir = '../sample/section_move_sample/'\n",
    "    save_dir = '../sample/perturbated_sample/adding_nop/'\n",
    "    \n",
    "    samples = list_files_by_size(sample_dir)\n",
    "    create_directory(save_dir)\n",
    "    \n",
    "    number_of_nop = 15\n",
    "    \n",
    "    for sample in samples:\n",
    "        save_dir = '../sample/perturbated_sample/adding_nop/'\n",
    "        if '.ipynb' in sample or '.pickle' in sample or '.txt' in sample or '.zip' in sample:\n",
    "            continue\n",
    "\n",
    "        if 'PEview_new.exe' not in sample:\n",
    "#         if '0c34ed46c75b33e392091d8fb7b4449b2fd78b6a56ae7d89f5e6441c48f10692_new.exe' in sample or 'PEview_new.exe' in sample or 'hello_32_new.exe' in sample:\n",
    "#         if 'hello_32_new.exe' not in sample:\n",
    "            continue\n",
    "\n",
    "        file_path = sample_dir+sample\n",
    "\n",
    "        print(file_path)\n",
    "                 \n",
    "        new_text, modified_address, caller_callee_dict, checking_target_address = make_new_text(file_path, number_of_nop)\n",
    "\n",
    "        if new_text is None:\n",
    "            print(f\"[+] Error : failed to make new_text section.\") \n",
    "        else:\n",
    "            print(\"len_new_text: \",len(new_text))\n",
    "            new_text = modify_headers(file_path, new_text)\n",
    "            save_dir = modify_section(file_path, new_text, save_dir,number_of_nop)\n",
    "            modify_tramp(save_dir, modified_address)\n",
    "            save_dir = modify_rdata(save_dir, modified_address)\n",
    "            valid_address_check(file_path, save_dir, caller_callee_dict, checking_target_address, modified_address, str(number_of_nop))\n",
    "            print(\"Done!!\",sample)"
   ]
  },
  {
   "cell_type": "code",
   "execution_count": 7,
   "id": "13d9cfaf-2885-416e-be96-9f99b68cb498",
   "metadata": {
    "tags": []
   },
   "outputs": [
    {
     "name": "stdout",
     "output_type": "stream",
     "text": [
      "Directory '../sample/perturbated_sample/adding_nop/' created successfully.\n",
      "../sample/section_move_sample/05ab5e2da3607795a37d8a9182f7f072a10a9bf3ee6e846f19dfb1c0db71be53_new.exe\n",
      "Error: .text section not found\n",
      "[+] Error : failed to make new_text section.\n",
      "../sample/section_move_sample/Frombook_new.exe\n",
      "32\n"
     ]
    },
    {
     "name": "stderr",
     "output_type": "stream",
     "text": [
      "0it [00:00, ?it/s]"
     ]
    },
    {
     "name": "stdout",
     "output_type": "stream",
     "text": [
      "0xeff008 0xeff00c je short 00EFF021h 7417 <class 'bytes'> 15724552 15724556 <class 'int'> JE_REL8_32 | 0 <class 'bytes'>\n",
      "  new_ins :  7421 \n",
      "\n"
     ]
    },
    {
     "name": "stderr",
     "output_type": "stream",
     "text": [
      "180it [00:07, 33.77it/s]"
     ]
    },
    {
     "name": "stdout",
     "output_type": "stream",
     "text": [
      "0xeff014 0xeff01e call 00F19E50h e837ae0100 <class 'bytes'> 15724564 15724574 <class 'int'> CALL_REL32_32 | 0 <class 'bytes'>\n",
      "  new_ins :  e84c2b0200 \n",
      "\n",
      "0xeff027 0xeff038 jmp near ptr 0A9D6DDC8h e99cede6a8 <class 'bytes'> 15724583 15724600 <class 'int'> JMP_REL32_32 | 0 <class 'bytes'>\n",
      "  new_ins :  e98bede6a8 \n",
      "\n",
      "0xeff063 0xeff085 je short 00EFF06Bh 7406 <class 'bytes'> 15724643 15724677 <class 'int'> JE_REL8_32 | 0 <class 'bytes'>\n",
      "  new_ins :  7407 \n",
      "\n",
      "0xeff0ba 0xeff0f8 je short 00EFF0C2h 7406 <class 'bytes'> 15724730 15724792 <class 'int'> JE_REL8_32 | 0 <class 'bytes'>\n",
      "  new_ins :  7407 \n",
      "\n",
      "0xeff10f 0xeff167 je short 00EFF117h 7406 <class 'bytes'> 15724815 15724903 <class 'int'> JE_REL8_32 | 0 <class 'bytes'>\n",
      "  new_ins :  7407 \n",
      "\n",
      "0xeff1c4 0xeff25b je short 00EFF1DDh 7417 <class 'bytes'> 15724996 15725147 <class 'int'> JE_REL8_32 | 0 <class 'bytes'>\n",
      "  new_ins :  741f \n",
      "\n",
      "0xeff1e4 0xeff285 je short 00EFF1F1h 740b <class 'bytes'> 15725028 15725189 <class 'int'> JE_REL8_32 | 0 <class 'bytes'>\n",
      "  new_ins :  740c \n",
      "\n",
      "0xeff1e6 0xeff287 call 00EFF030h e845feffff <class 'bytes'> 15725030 15725191 <class 'int'> CALL_REL32_32 | 0 <class 'bytes'>\n",
      "  new_ins :  e8b8fdffff \n",
      "\n",
      "0xeff1ef 0xeff291 jmp short 00EFF1F6h eb05 <class 'bytes'> 15725039 15725201 <class 'int'> JMP_REL8_32 | 0 <class 'bytes'>\n",
      "  new_ins :  eb05 \n",
      "\n",
      "0xeff1f1 0xeff293 call 00EFF030h e83afeffff <class 'bytes'> 15725041 15725203 <class 'int'> CALL_REL32_32 | 0 <class 'bytes'>\n",
      "  new_ins :  e8acfdffff \n",
      "\n",
      "0xeff1fa 0xeff29e jg short 00EFF1B5h 7fb9 <class 'bytes'> 15725050 15725214 <class 'int'> JG_REL8_32 | 0 <class 'bytes'>\n",
      "  new_ins :  7fa7 \n",
      "\n",
      "0xeff200 0xeff2a6 jl short 00EFF1B0h 7cae <class 'bytes'> 15725056 15725222 <class 'int'> JL_REL8_32 | 0 <class 'bytes'>\n",
      "  new_ins :  7c99 \n",
      "\n",
      "0xeff227 0xeff2dd je short 00EFF282h 7459 <class 'bytes'> 15725095 15725277 <class 'int'> JE_REL8_32 | 0 <class 'bytes'>\n",
      "  new_ins :  7476 \n",
      "\n",
      "0xeff255 0xeff31b call 00EFF180h e826ffffff <class 'bytes'> 15725141 15725339 <class 'int'> CALL_REL32_32 | 0 <class 'bytes'>\n",
      "  new_ins :  e8defeffff \n",
      "\n",
      "0xeff27a 0xeff34b jne short 00EFF230h 75b4 <class 'bytes'> 15725178 15725387 <class 'int'> JNE_REL8_32 | 0 <class 'bytes'>\n",
      "  new_ins :  759b \n",
      "\n",
      "0xeff287 0xeff35c jbe short 00EFF2F5h 766c <class 'bytes'> 15725191 15725404 <class 'int'> JBE_REL8_32 | 4 <class 'bytes'>\n",
      "  new_ins :  0F868f000000 \n",
      "\n",
      "0xeff28f 0xeff36b jle short 00EFF29Fh 7e0e <class 'bytes'> 15725199 15725419 <class 'int'> JLE_REL8_32 | 4 <class 'bytes'>\n",
      "  new_ins :  7e13 \n",
      "\n",
      "0xeff297 0xeff377 call 00F19E20h e884ab0100 <class 'bytes'> 15725207 15725431 <class 'int'> CALL_REL32_32 | 4 <class 'bytes'>\n",
      "  new_ins :  e8ae270200 \n",
      "\n",
      "0xeff2aa 0xeff38e je short 00EFF2B8h 740c <class 'bytes'> 15725226 15725454 <class 'int'> JE_REL8_32 | 4 <class 'bytes'>\n",
      "  new_ins :  7410 \n",
      "\n"
     ]
    },
    {
     "name": "stderr",
     "output_type": "stream",
     "text": [
      "350it [00:15, 28.35it/s]"
     ]
    },
    {
     "name": "stdout",
     "output_type": "stream",
     "text": [
      "0xeff2b0 0xeff397 call 00F19E50h e89bab0100 <class 'bytes'> 15725232 15725463 <class 'int'> CALL_REL32_32 | 4 <class 'bytes'>\n",
      "  new_ins :  e8d3270200 \n",
      "\n",
      "0xeff2d6 0xeff3c9 call 00EFF180h e8a5feffff <class 'bytes'> 15725270 15725513 <class 'int'> CALL_REL32_32 | 4 <class 'bytes'>\n",
      "  new_ins :  e830feffff \n",
      "\n",
      "0xeff315 0xeff420 je near ptr 00EFF402h 0f84e7000000 <class 'bytes'> 15725333 15725600 <class 'int'> JE_REL32_32 | 4 <class 'bytes'>\n",
      "  new_ins :  0f843d010000 \n",
      "\n",
      "0xeff338 0xeff44e je near ptr 00EFF3C9h 0f848b000000 <class 'bytes'> 15725368 15725646 <class 'int'> JE_REL32_32 | 4 <class 'bytes'>\n",
      "  new_ins :  0f84c0000000 \n",
      "\n",
      "0xeff34b 0xeff466 jmp short 00EFF350h eb03 <class 'bytes'> 15725387 15725670 <class 'int'> JMP_REL8_32 | 4 <class 'bytes'>\n",
      "  new_ins :  eb04 \n",
      "\n",
      "0xeff35d 0xeff480 call 00F01610h e8ae220000 <class 'bytes'> 15725405 15725696 <class 'int'> CALL_REL32_32 | 4 <class 'bytes'>\n",
      "  new_ins :  e8cf280000 \n",
      "\n",
      "0xeff3c4 0xeff50a jne short 00EFF350h 758a <class 'bytes'> 15725508 15725834 <class 'int'> JNE_REL8_32 | 8 <class 'bytes'>\n",
      "  new_ins :  0F855cffffff \n",
      "\n",
      "0xeff3d0 0xeff51e je short 00EFF401h 742f <class 'bytes'> 15725520 15725854 <class 'int'> JE_REL8_32 | 8 <class 'bytes'>\n",
      "  new_ins :  7441 \n",
      "\n",
      "0xeff3e2 0xeff538 call 00F01610h e829220000 <class 'bytes'> 15725538 15725880 <class 'int'> CALL_REL32_32 | 8 <class 'bytes'>\n",
      "  new_ins :  e817280000 \n",
      "\n",
      "0xeff3ee 0xeff547 je short 00EFF401h 7411 <class 'bytes'> 15725550 15725895 <class 'int'> JE_REL8_32 | 8 <class 'bytes'>\n",
      "  new_ins :  7418 \n"
     ]
    },
    {
     "name": "stderr",
     "output_type": "stream",
     "text": [
      "516it [00:15, 62.55it/s]"
     ]
    },
    {
     "name": "stdout",
     "output_type": "stream",
     "text": [
      "\n",
      "0xeff3ff 0xeff55f jb short 00EFF3F2h 72f1 <class 'bytes'> 15725567 15725919 <class 'int'> JB_REL8_32 | 8 <class 'bytes'>\n",
      "  new_ins :  72eb \n",
      "\n",
      "0xeff408 0xeff56d ja short 00EFF43Eh 7734 <class 'bytes'> 15725576 15725933 <class 'int'> JA_REL8_32 | 8 <class 'bytes'>\n",
      "  new_ins :  774c \n",
      "\n",
      "0xeff423 0xeff595 jne short 00EFF449h 7524 <class 'bytes'> 15725603 15725973 <class 'int'> JNE_REL8_32 | 8 <class 'bytes'>\n",
      "  new_ins :  7535 \n",
      "\n",
      "0xeff439 0xeff5b5 jg short 00EFF430h 7ff5 <class 'bytes'> 15725625 15726005 <class 'int'> JG_REL8_32 | 8 <class 'bytes'>\n",
      "  new_ins :  7ff0 \n",
      "\n",
      "0xeff459 0xeff5e4 call 00EFF210h e8b2fdffff <class 'bytes'> 15725657 15726052 <class 'int'> CALL_REL32_32 | 8 <class 'bytes'>\n",
      "  new_ins :  e8d3fcffff \n",
      "\n",
      "0xeff497 0xeff637 call 00EFF210h e874fdffff <class 'bytes'> 15725719 15726135 <class 'int'> CALL_REL32_32 | 8 <class 'bytes'>\n",
      "  new_ins :  e880fcffff \n",
      "\n",
      "0xeff4ac 0xeff654 jnp short 00EFF434h 7b86 <class 'bytes'> 15725740 15726164 <class 'int'> JNP_REL8_32 | 12 <class 'bytes'>\n",
      "  new_ins :  0F8B54ffffff \n",
      "\n",
      "0xeff4b8 0xeff66b je short 00EFF527h 746d <class 'bytes'> 15725752 15726187 <class 'int'> JE_REL8_32 | 16 <class 'bytes'>\n",
      "  new_ins :  0F8495000000 \n",
      "\n",
      "0xeff51f 0xeff6fd call 00EFF300h e8dcfdffff <class 'bytes'> 15725855 15726333 <class 'int'> CALL_REL32_32 | 16 <class 'bytes'>\n",
      "  new_ins :  e803fdffff \n",
      "\n",
      "0xeff52e 0xeff711 ja short 00EFF53Dh 770d <class 'bytes'> 15725870 15726353 <class 'int'> JA_REL8_32 | 16 <class 'bytes'>\n",
      "  new_ins :  7715 \n",
      "\n",
      "0xeff54f 0xeff742 call 00EFF210h e8bcfcffff <class 'bytes'> 15725903 15726402 <class 'int'> CALL_REL32_32 | 16 <class 'bytes'>\n",
      "  new_ins :  e879fbffff \n",
      "\n"
     ]
    },
    {
     "name": "stderr",
     "output_type": "stream",
     "text": [
      "582it [00:15, 82.26it/s]"
     ]
    },
    {
     "name": "stdout",
     "output_type": "stream",
     "text": [
      "0xeff55a 0xeff751 call 00EFF210h e8b1fcffff <class 'bytes'> 15725914 15726417 <class 'int'> CALL_REL32_32 | 16 <class 'bytes'>\n",
      "  new_ins :  e86afbffff \n",
      "\n",
      "0xeff5c3 0xeff7db call 00EFF210h e848fcffff <class 'bytes'> 15726019 15726555 <class 'int'> CALL_REL32_32 | 16 <class 'bytes'>\n",
      "  new_ins :  e8e0faffff \n",
      "\n",
      "0xeff5f4 0xeff820 call 00F015D0h e8d71f0000 <class 'bytes'> 15726068 15726624 <class 'int'> CALL_REL32_32 | 16 <class 'bytes'>\n",
      "  new_ins :  e8dd240000 \n",
      "\n",
      "0xeff600 0xeff82f je near ptr 00EFF68Ah 0f8484000000 <class 'bytes'> 15726080 15726639 <class 'int'> JE_REL32_32 | 16 <class 'bytes'>\n",
      "  new_ins :  0f84b6000000 \n",
      "\n",
      "0xeff61d 0xeff857 call 00F01610h e8ee1f0000 <class 'bytes'> 15726109 15726679 <class 'int'> CALL_REL32_32 | 16 <class 'bytes'>\n",
      "  new_ins :  e8fc240000 \n",
      "\n",
      "0xeff633 0xeff874 call 00EFF410h e8d8fdffff <class 'bytes'> 15726131 15726708 <class 'int'> CALL_REL32_32 | 16 <class 'bytes'>\n",
      "  new_ins :  e804fdffff \n",
      "\n",
      "0xeff648 0xeff891 call 00EFF4B0h e863feffff <class 'bytes'> 15726152 15726737 <class 'int'> CALL_REL32_32 | 16 <class 'bytes'>\n",
      "  new_ins :  e8c9fdffff \n",
      "\n",
      "0xeff65e 0xeff8ae call 00EFF530h e8cdfeffff <class 'bytes'> 15726174 15726766 <class 'int'> CALL_REL32_32 | 16 <class 'bytes'>\n",
      "  new_ins :  e860feffff \n",
      "\n"
     ]
    },
    {
     "name": "stderr",
     "output_type": "stream",
     "text": [
      "918it [00:15, 256.22it/s]"
     ]
    },
    {
     "name": "stdout",
     "output_type": "stream",
     "text": [
      "0xeff672 0xeff8ca call 00EFF300h e889fcffff <class 'bytes'> 15726194 15726794 <class 'int'> CALL_REL32_32 | 16 <class 'bytes'>\n",
      "  new_ins :  e836fbffff \n",
      "\n",
      "0xeff679 0xeff8d3 call 00F01640h e8c21f0000 <class 'bytes'> 15726201 15726803 <class 'int'> CALL_REL32_32 | 16 <class 'bytes'>\n",
      "  new_ins :  e8c1240000 \n",
      "\n",
      "0xeff69b 0xeff903 jbe short 00EFF6D4h 7637 <class 'bytes'> 15726235 15726851 <class 'int'> JBE_REL8_32 | 16 <class 'bytes'>\n",
      "  new_ins :  7643 \n",
      "\n"
     ]
    },
    {
     "name": "stderr",
     "output_type": "stream",
     "text": [
      "1261it [00:19, 129.94it/s]"
     ]
    },
    {
     "name": "stdout",
     "output_type": "stream",
     "text": [
      "0xf00d0c 0xf011c8 call 00F19D30h e81f900100 <class 'bytes'> 15731980 15733192 <class 'int'> CALL_REL32_32 | 16 <class 'bytes'>\n",
      "  new_ins :  e813080200 \n",
      "\n",
      "0xf00d18 0xf011d7 jne short 00F00D20h 7506 <class 'bytes'> 15731992 15733207 <class 'int'> JNE_REL8_32 | 16 <class 'bytes'>\n",
      "  new_ins :  750a \n",
      "\n",
      "0xf00d32 0xf011fb call 00F19DD0h e899900100 <class 'bytes'> 15732018 15733243 <class 'int'> CALL_REL32_32 | 16 <class 'bytes'>\n",
      "  new_ins :  e8c1080200 \n",
      "\n",
      "0xf00d4a 0xf01218 call 00F19DD0h e881900100 <class 'bytes'> 15732042 15733272 <class 'int'> CALL_REL32_32 | 16 <class 'bytes'>\n",
      "  new_ins :  e8a4080200 \n",
      "\n",
      "0xf00d62 0xf01235 call 00F19DD0h e869900100 <class 'bytes'> 15732066 15733301 <class 'int'> CALL_REL32_32 | 16 <class 'bytes'>\n",
      "  new_ins :  e887080200 \n",
      "\n"
     ]
    },
    {
     "name": "stderr",
     "output_type": "stream",
     "text": [
      "1605it [00:34, 50.09it/s] "
     ]
    },
    {
     "name": "stdout",
     "output_type": "stream",
     "text": [
      "0xf00d77 0xf0124f call 00F19DD0h e854900100 <class 'bytes'> 15732087 15733327 <class 'int'> CALL_REL32_32 | 16 <class 'bytes'>\n",
      "  new_ins :  e86d080200 \n",
      "\n",
      "0xf00e83 0xf013ac jne near ptr 00F00F9Dh 0f8514010000 <class 'bytes'> 15732355 15733676 <class 'int'> JNE_REL32_32 | 16 <class 'bytes'>\n",
      "  new_ins :  0f8561010000 \n",
      "\n",
      "0xf00f16 0xf01468 je near ptr 00F00FA5h 0f8489000000 <class 'bytes'> 15732502 15733864 <class 'int'> JE_REL32_32 | 16 <class 'bytes'>\n",
      "  new_ins :  0f84b2000000 \n",
      "\n",
      "0xf00f97 0xf0150d jl near ptr 00F00E91h 0f8cf4feffff <class 'bytes'> 15732631 15734029 <class 'int'> JL_REL32_32 | 16 <class 'bytes'>\n",
      "  new_ins :  0f8caafeffff \n",
      "\n",
      "0xf01172 0xf01776 je near ptr 00F013F0h 0f8478020000 <class 'bytes'> 15733106 15734646 <class 'int'> JE_REL32_32 | 16 <class 'bytes'>\n",
      "  new_ins :  0f8425030000 \n",
      "\n",
      "0xf01178 0xf0177c jmp short 00F01180h eb06 <class 'bytes'> 15733112 15734652 <class 'int'> JMP_REL8_32 | 16 <class 'bytes'>\n",
      "  new_ins :  eb07 \n",
      "\n",
      "0xf013ea 0xf01a9b jne near ptr 00F01180h 0f8590fdffff <class 'bytes'> 15733738 15735451 <class 'int'> JNE_REL32_32 | 16 <class 'bytes'>\n",
      "  new_ins :  0f85e4fcffff \n",
      "\n",
      "0xf015df 0xf01d17 jne short 00F015E6h 7505 <class 'bytes'> 15734239 15736087 <class 'int'> JNE_REL8_32 | 16 <class 'bytes'>\n",
      "  new_ins :  7508 \n",
      "\n"
     ]
    },
    {
     "name": "stderr",
     "output_type": "stream",
     "text": [
      "1928it [00:34, 84.60it/s]"
     ]
    },
    {
     "name": "stdout",
     "output_type": "stream",
     "text": [
      "0xf015f7 0xf01d39 call 00F00D90h e894f7ffff <class 'bytes'> 15734263 15736121 <class 'int'> CALL_REL32_32 | 16 <class 'bytes'>\n",
      "  new_ins :  e834f5ffff \n",
      "\n",
      "0xf01601 0xf01d45 js short 00F015E1h 78de <class 'bytes'> 15734273 15736133 <class 'int'> JS_REL8_32 | 16 <class 'bytes'>\n",
      "  new_ins :  78d2 \n",
      "\n",
      "0xf01627 0xf01d78 call 00F00FB0h e884f9ffff <class 'bytes'> 15734311 15736184 <class 'int'> CALL_REL32_32 | 16 <class 'bytes'>\n",
      "  new_ins :  e8b3f7ffff \n",
      "\n",
      "0xf0164e 0xf01dac call 00EFF000h e8add9ffff <class 'bytes'> 15734350 15736236 <class 'int'> CALL_REL32_32 | 16 <class 'bytes'>\n",
      "  new_ins :  e853d2ffff \n",
      "\n",
      "0xf0166b 0xf01dd4 call 00F1A0C0h e8508a0100 <class 'bytes'> 15734379 15736276 <class 'int'> CALL_REL32_32 | 16 <class 'bytes'>\n",
      "  new_ins :  e809010200 \n",
      "\n",
      "0xf01675 0xf01de0 je short 00F01681h 740a <class 'bytes'> 15734389 15736288 <class 'int'> JE_REL8_32 | 16 <class 'bytes'>\n",
      "  new_ins :  740c \n",
      "\n",
      "0xf0167c 0xf01de8 je short 00F01681h 7403 <class 'bytes'> 15734396 15736296 <class 'int'> JE_REL8_32 | 16 <class 'bytes'>\n",
      "  new_ins :  7404 \n",
      "\n",
      "0xf0167f 0xf01dec jne short 00F01677h 75f6 <class 'bytes'> 15734399 15736300 <class 'int'> JNE_REL8_32 | 16 <class 'bytes'>\n",
      "  new_ins :  75f4 \n",
      "\n",
      "0xf01682 0xf01df0 je short 00F0168Fh 740b <class 'bytes'> 15734402 15736304 <class 'int'> JE_REL8_32 | 16 <class 'bytes'>\n",
      "  new_ins :  740e \n",
      "\n",
      "0xf01689 0xf01df8 je short 00F0168Fh 7404 <class 'bytes'> 15734409 15736312 <class 'int'> JE_REL8_32 | 16 <class 'bytes'>\n",
      "  new_ins :  7406 \n",
      "\n",
      "0xf0168d 0xf01dfe jne short 00F01684h 75f5 <class 'bytes'> 15734413 15736318 <class 'int'> JNE_REL8_32 | 16 <class 'bytes'>\n",
      "  new_ins :  75f2 \n",
      "\n",
      "0xf01691 0xf01e03 je short 00F016ACh 7419 <class 'bytes'> 15734417 15736323 <class 'int'> JE_REL8_32 | 16 <class 'bytes'>\n",
      "  new_ins :  7421 \n",
      "\n",
      "0xf01695 0xf01e08 je short 00F016ACh 7415 <class 'bytes'> 15734421 15736328 <class 'int'> JE_REL8_32 | 16 <class 'bytes'>\n",
      "  new_ins :  741c \n",
      "\n",
      "0xf016a4 0xf01e1d call 00F19DD0h e827870100 <class 'bytes'> 15734436 15736349 <class 'int'> CALL_REL32_32 | 16 <class 'bytes'>\n",
      "  new_ins :  e89ffc0100 \n",
      "\n",
      "0xf01708 0xf01e9b call 00F1A510h e8038e0100 <class 'bytes'> 15734536 15736475 <class 'int'> CALL_REL32_32 | 16 <class 'bytes'>\n",
      "  new_ins :  e82f060200 \n",
      "\n",
      "0xf01712 0xf01ea7 je short 00F0171Eh 740a <class 'bytes'> 15734546 15736487 <class 'int'> JE_REL8_32 | 16 <class 'bytes'>\n",
      "  new_ins :  740c \n",
      "\n",
      "0xf01725 0xf01ec0 call 00F1A510h e8e68d0100 <class 'bytes'> 15734565 15736512 <class 'int'> CALL_REL32_32 | 16 <class 'bytes'>\n",
      "  new_ins :  e80a060200 \n",
      "\n",
      "0xf0172f 0xf01ecc jne short 00F0179Fh 756e <class 'bytes'> 15734575 15736524 <class 'int'> JNE_REL8_32 | 20 <class 'bytes'>\n",
      "  new_ins :  0F8593000000 \n",
      "\n"
     ]
    },
    {
     "name": "stderr",
     "output_type": "stream",
     "text": [
      "2046it [00:54, 25.09it/s]"
     ]
    },
    {
     "name": "stdout",
     "output_type": "stream",
     "text": [
      "0xf01738 0xf01edd call 00F1A510h e8d38d0100 <class 'bytes'> 15734584 15736541 <class 'int'> CALL_REL32_32 | 20 <class 'bytes'>\n",
      "  new_ins :  e8ed050200 \n",
      "\n",
      "0xf01742 0xf01ee9 jne short 00F0179Fh 755b <class 'bytes'> 15734594 15736553 <class 'int'> JNE_REL8_32 | 20 <class 'bytes'>\n",
      "  new_ins :  757a \n",
      "\n"
     ]
    },
    {
     "name": "stderr",
     "output_type": "stream",
     "text": [
      "2054it [00:58, 20.98it/s]"
     ]
    },
    {
     "name": "stdout",
     "output_type": "stream",
     "text": [
      "0xf0174b 0xf01ef6 call 00F1A510h e8c08d0100 <class 'bytes'> 15734603 15736566 <class 'int'> CALL_REL32_32 | 20 <class 'bytes'>\n",
      "  new_ins :  e8d4050200 \n",
      "\n",
      "0xf01755 0xf01f02 jne short 00F01795h 753e <class 'bytes'> 15734613 15736578 <class 'int'> JNE_REL8_32 | 20 <class 'bytes'>\n",
      "  new_ins :  7553 \n",
      "\n",
      "0xf0175e 0xf01f0f call 00F1A510h e8ad8d0100 <class 'bytes'> 15734622 15736591 <class 'int'> CALL_REL32_32 | 20 <class 'bytes'>\n",
      "  new_ins :  e8bb050200 \n",
      "\n",
      "0xf01768 0xf01f1b jne short 00F01795h 752b <class 'bytes'> 15734632 15736603 <class 'int'> JNE_REL8_32 | 20 <class 'bytes'>\n",
      "  new_ins :  753a \n",
      "\n",
      "0xf01771 0xf01f28 call 00F1A510h e89a8d0100 <class 'bytes'> 15734641 15736616 <class 'int'> CALL_REL32_32 | 20 <class 'bytes'>\n",
      "  new_ins :  e8a2050200 \n",
      "\n",
      "0xf0177b 0xf01f34 jne short 00F01795h 7518 <class 'bytes'> 15734651 15736628 <class 'int'> JNE_REL8_32 | 20 <class 'bytes'>\n",
      "  new_ins :  7521 \n",
      "\n",
      "0xf01784 0xf01f41 call 00F1A510h e8878d0100 <class 'bytes'> 15734660 15736641 <class 'int'> CALL_REL32_32 | 20 <class 'bytes'>\n",
      "  new_ins :  e889050200 \n",
      "\n",
      "0xf0178e 0xf01f4d jne short 00F01795h 7505 <class 'bytes'> 15734670 15736653 <class 'int'> JNE_REL8_32 | 20 <class 'bytes'>\n",
      "  new_ins :  7508 \n",
      "\n",
      "0xf017bc 0xf01f91 je near ptr 00F01B0Eh 0f844c030000 <class 'bytes'> 15734716 15736721 <class 'int'> JE_REL32_32 | 20 <class 'bytes'>\n",
      "  new_ins :  0f8442040000 \n",
      "\n",
      "0xf017c8 0xf01f9e ja near ptr 00F01B0Eh 0f8740030000 <class 'bytes'> 15734728 15736734 <class 'int'> JA_REL32_32 | 20 <class 'bytes'>\n",
      "  new_ins :  0f8735040000 \n",
      "\n"
     ]
    },
    {
     "name": "stderr",
     "output_type": "stream",
     "text": [
      "2120it [01:14, 12.55it/s]"
     ]
    },
    {
     "name": "stdout",
     "output_type": "stream",
     "text": [
      "0xf017ef 0xf01fcf call 00F19E50h e85c860100 <class 'bytes'> 15734767 15736783 <class 'int'> CALL_REL32_32 | 20 <class 'bytes'>\n",
      "  new_ins :  e89ffb0100 \n",
      "\n"
     ]
    },
    {
     "name": "stderr",
     "output_type": "stream",
     "text": [
      "2126it [01:18, 10.93it/s]"
     ]
    },
    {
     "name": "stdout",
     "output_type": "stream",
     "text": [
      "0xf01801 0xf01fe6 call 00F1A0E0h e8da880100 <class 'bytes'> 15734785 15736806 <class 'int'> CALL_REL32_32 | 20 <class 'bytes'>\n",
      "  new_ins :  e822ff0100 \n",
      "\n",
      "0xf0180b 0xf01ff2 jne short 00F0181Dh 7510 <class 'bytes'> 15734795 15736818 <class 'int'> JNE_REL8_32 | 20 <class 'bytes'>\n",
      "  new_ins :  7511 \n",
      "\n",
      "0xf01817 0xf01fff jne near ptr 00F01A1Dh 0f8500020000 <class 'bytes'> 15734807 15736831 <class 'int'> JNE_REL32_32 | 20 <class 'bytes'>\n",
      "  new_ins :  0f858f020000 \n",
      "\n",
      "0xf01827 0xf02013 jbe near ptr 00F01A1Dh 0f86f0010000 <class 'bytes'> 15734823 15736851 <class 'int'> JBE_REL32_32 | 20 <class 'bytes'>\n",
      "  new_ins :  0f867b020000 \n",
      "\n",
      "0xf0183d 0xf0202c je short 00F01855h 7416 <class 'bytes'> 15734845 15736876 <class 'int'> JE_REL8_32 | 20 <class 'bytes'>\n",
      "  new_ins :  741f \n",
      "\n",
      "0xf01845 0xf02035 je short 00F01855h 740e <class 'bytes'> 15734853 15736885 <class 'int'> JE_REL8_32 | 20 <class 'bytes'>\n",
      "  new_ins :  7416 \n",
      "\n",
      "0xf0184a 0xf0203c jb short 00F01830h 72e4 <class 'bytes'> 15734858 15736892 <class 'int'> JB_REL8_32 | 20 <class 'bytes'>\n",
      "  new_ins :  72df \n",
      "\n",
      "0xf01861 0xf0205c je near ptr 00F01A1Dh 0f84b6010000 <class 'bytes'> 15734881 15736924 <class 'int'> JE_REL32_32 | 20 <class 'bytes'>\n",
      "  new_ins :  0f8432020000 \n",
      "\n",
      "0xf01873 0xf02071 jne short 00F01887h 7512 <class 'bytes'> 15734899 15736945 <class 'int'> JNE_REL8_32 | 20 <class 'bytes'>\n",
      "  new_ins :  751a \n",
      "\n",
      "0xf01876 0xf02075 call 00F02AD0h e855120000 <class 'bytes'> 15734902 15736949 <class 'int'> CALL_REL32_32 | 20 <class 'bytes'>\n",
      "  new_ins :  e853170000 \n",
      "\n",
      "0xf0188b 0xf02093 jb near ptr 00F01B02h 0f8271020000 <class 'bytes'> 15734923 15736979 <class 'int'> JB_REL32_32 | 20 <class 'bytes'>\n",
      "  new_ins :  0f822e030000 \n",
      "\n",
      "0xf01893 0xf0209c ja near ptr 00F01B02h 0f8769020000 <class 'bytes'> 15734931 15736988 <class 'int'> JA_REL32_32 | 20 <class 'bytes'>\n",
      "  new_ins :  0f8725030000 \n",
      "\n"
     ]
    },
    {
     "name": "stderr",
     "output_type": "stream",
     "text": [
      "2226it [01:22, 13.43it/s]"
     ]
    },
    {
     "name": "stdout",
     "output_type": "stream",
     "text": [
      "0xf018b6 0xf020c7 call 00F19E00h e845850100 <class 'bytes'> 15734966 15737031 <class 'int'> CALL_REL32_32 | 20 <class 'bytes'>\n",
      "  new_ins :  e838fa0100 \n",
      "\n",
      "0xf018c9 0xf020de jbe short 00F01928h 765d <class 'bytes'> 15734985 15737054 <class 'int'> JBE_REL8_32 | 20 <class 'bytes'>\n",
      "  new_ins :  7677 \n",
      "\n",
      "0xf018da 0xf020f4 jne short 00F01919h 753d <class 'bytes'> 15735002 15737076 <class 'int'> JNE_REL8_32 | 20 <class 'bytes'>\n",
      "  new_ins :  754c \n",
      "\n",
      "0xf018e1 0xf020fc jne short 00F01919h 7536 <class 'bytes'> 15735009 15737084 <class 'int'> JNE_REL8_32 | 20 <class 'bytes'>\n",
      "  new_ins :  7544 \n",
      "\n",
      "0xf018eb 0xf02108 jmp short 00F018F0h eb03 <class 'bytes'> 15735019 15737096 <class 'int'> JMP_REL8_32 | 20 <class 'bytes'>\n",
      "  new_ins :  eb04 \n",
      "\n",
      "0xf018f4 0xf02113 jne short 00F018FCh 7506 <class 'bytes'> 15735028 15737107 <class 'int'> JNE_REL8_32 | 20 <class 'bytes'>\n",
      "  new_ins :  7507 \n",
      "\n",
      "0xf018fa 0xf0211a je short 00F01910h 7414 <class 'bytes'> 15735034 15737114 <class 'int'> JE_REL8_32 | 20 <class 'bytes'>\n",
      "  new_ins :  741b \n",
      "\n",
      "0xf018ff 0xf02121 jb short 00F018F0h 72ef <class 'bytes'> 15735039 15737121 <class 'int'> JB_REL8_32 | 20 <class 'bytes'>\n",
      "  new_ins :  72eb \n",
      "\n",
      "0xf0190e 0xf02135 jmp short 00F01922h eb12 <class 'bytes'> 15735054 15737141 <class 'int'> JMP_REL8_32 | 20 <class 'bytes'>\n",
      "  new_ins :  eb18 \n",
      "\n",
      "0xf01917 0xf02140 jmp short 00F01923h eb0a <class 'bytes'> 15735063 15737152 <class 'int'> JMP_REL8_32 | 20 <class 'bytes'>\n",
      "  new_ins :  eb0f \n",
      "\n",
      "0xf01926 0xf02155 jb short 00F018D0h 72a8 <class 'bytes'> 15735078 15737173 <class 'int'> JB_REL8_32 | 20 <class 'bytes'>\n",
      "  new_ins :  7290 \n",
      "\n",
      "0xf0193a 0xf0216f call 00F08A00h e8c1700000 <class 'bytes'> 15735098 15737199 <class 'int'> CALL_REL32_32 | 20 <class 'bytes'>\n",
      "  new_ins :  e8f18f0000 \n",
      "\n",
      "0xf01947 0xf0217f jne short 00F0198Eh 7545 <class 'bytes'> 15735111 15737215 <class 'int'> JNE_REL8_32 | 20 <class 'bytes'>\n",
      "  new_ins :  7558 \n",
      "\n",
      "0xf01955 0xf0218f jne short 00F01985h 752e <class 'bytes'> 15735125 15737231 <class 'int'> JNE_REL8_32 | 20 <class 'bytes'>\n",
      "  new_ins :  7539 \n",
      "\n",
      "0xf01962 0xf0219e call 00F02470h e8090b0000 <class 'bytes'> 15735138 15737246 <class 'int'> CALL_REL32_32 | 20 <class 'bytes'>\n",
      "  new_ins :  e8ec0d0000 \n",
      "\n",
      "0xf01975 0xf021b7 call 00F0B140h e8c6970000 <class 'bytes'> 15735157 15737271 <class 'int'> CALL_REL32_32 | 20 <class 'bytes'>\n",
      "  new_ins :  e888c20000 \n",
      "\n"
     ]
    },
    {
     "name": "stderr",
     "output_type": "stream",
     "text": [
      "2297it [01:27, 13.50it/s]"
     ]
    },
    {
     "name": "stdout",
     "output_type": "stream",
     "text": [
      "0xf0197d 0xf021c1 call 00F186A0h e81e6d0100 <class 'bytes'> 15735165 15737281 <class 'int'> CALL_REL32_32 | 20 <class 'bytes'>\n",
      "  new_ins :  e8efd90100 \n",
      "\n",
      "0xf01991 0xf021dd jne short 00F019B3h 7520 <class 'bytes'> 15735185 15737309 <class 'int'> JNE_REL8_32 | 20 <class 'bytes'>\n",
      "  new_ins :  752e \n",
      "\n",
      "0xf0199f 0xf021ed jne short 00F01A1Dh 757c <class 'bytes'> 15735199 15737325 <class 'int'> JNE_REL8_32 | 24 <class 'bytes'>\n",
      "  new_ins :  0F85a1000000 \n",
      "\n",
      "0xf019a2 0xf021f5 call 00F02D40h e899130000 <class 'bytes'> 15735202 15737333 <class 'int'> CALL_REL32_32 | 24 <class 'bytes'>\n",
      "  new_ins :  e8fe180000 \n",
      "\n",
      "0xf019b6 0xf02211 jne short 00F019DAh 7522 <class 'bytes'> 15735222 15737361 <class 'int'> JNE_REL8_32 | 24 <class 'bytes'>\n",
      "  new_ins :  752d \n",
      "\n",
      "0xf019c4 0xf02221 jne short 00F019F8h 7532 <class 'bytes'> 15735236 15737377 <class 'int'> JNE_REL8_32 | 24 <class 'bytes'>\n",
      "  new_ins :  7541 \n",
      "\n",
      "0xf019c9 0xf02228 call 00F02580h e8b20b0000 <class 'bytes'> 15735241 15737384 <class 'int'> CALL_REL32_32 | 24 <class 'bytes'>\n",
      "  new_ins :  e8c50e0000 \n",
      "\n",
      "0xf019dd 0xf02244 jne short 00F01A01h 7522 <class 'bytes'> 15735261 15737412 <class 'int'> JNE_REL8_32 | 24 <class 'bytes'>\n",
      "  new_ins :  752d \n",
      "\n",
      "0xf019eb 0xf02254 jne short 00F019F8h 750b <class 'bytes'> 15735275 15737428 <class 'int'> JNE_REL8_32 | 24 <class 'bytes'>\n",
      "  new_ins :  750e \n",
      "\n"
     ]
    },
    {
     "name": "stderr",
     "output_type": "stream",
     "text": [
      "2347it [01:27, 16.74it/s]"
     ]
    },
    {
     "name": "stdout",
     "output_type": "stream",
     "text": [
      "0xf019f0 0xf0225b call 00F02580h e88b0b0000 <class 'bytes'> 15735280 15737435 <class 'int'> CALL_REL32_32 | 24 <class 'bytes'>\n",
      "  new_ins :  e8920e0000 \n",
      "\n",
      "0xf01a04 0xf02277 jne short 00F01A26h 7520 <class 'bytes'> 15735300 15737463 <class 'int'> JNE_REL8_32 | 24 <class 'bytes'>\n",
      "  new_ins :  752a \n",
      "\n",
      "0xf01a12 0xf02287 jne short 00F01A1Dh 7509 <class 'bytes'> 15735314 15737479 <class 'int'> JNE_REL8_32 | 24 <class 'bytes'>\n",
      "  new_ins :  750b \n",
      "\n",
      "0xf01a15 0xf0228b call 00F028C0h e8a60e0000 <class 'bytes'> 15735317 15737483 <class 'int'> CALL_REL32_32 | 24 <class 'bytes'>\n",
      "  new_ins :  e89a120000 \n",
      "\n",
      "0xf01a29 0xf022a7 je short 00F01A3Ah 740f <class 'bytes'> 15735337 15737511 <class 'int'> JE_REL8_32 | 24 <class 'bytes'>\n",
      "  new_ins :  7412 \n",
      "\n",
      "0xf01a2e 0xf022ad je short 00F01A3Ah 740a <class 'bytes'> 15735342 15737517 <class 'int'> JE_REL8_32 | 24 <class 'bytes'>\n",
      "  new_ins :  740c \n",
      "\n",
      "0xf01a33 0xf022b3 je short 00F01A3Ah 7405 <class 'bytes'> 15735347 15737523 <class 'int'> JE_REL8_32 | 24 <class 'bytes'>\n",
      "  new_ins :  7406 \n",
      "\n",
      "0xf01a38 0xf022b9 jne short 00F01A64h 752a <class 'bytes'> 15735352 15737529 <class 'int'> JNE_REL8_32 | 24 <class 'bytes'>\n",
      "  new_ins :  7534 \n",
      "\n",
      "0xf01a48 0xf022cd je short 00F01A64h 741a <class 'bytes'> 15735368 15737549 <class 'int'> JE_REL8_32 | 24 <class 'bytes'>\n",
      "  new_ins :  7420 \n",
      "\n",
      "0xf01a57 0xf022de jne short 00F01A5Fh 7506 <class 'bytes'> 15735383 15737566 <class 'int'> JNE_REL8_32 | 24 <class 'bytes'>\n",
      "  new_ins :  7508 \n",
      "\n",
      "0xf01a62 0xf022ed jb short 00F01A50h 72ec <class 'bytes'> 15735394 15737581 <class 'int'> JB_REL8_32 | 24 <class 'bytes'>\n",
      "  new_ins :  72e7 \n",
      "\n",
      "0xf01a67 0xf022f3 jne short 00F01A84h 751b <class 'bytes'> 15735399 15737587 <class 'int'> JNE_REL8_32 | 24 <class 'bytes'>\n",
      "  new_ins :  7526 \n",
      "\n",
      "0xf01a75 0xf02306 call 00F024C0h e8460a0000 <class 'bytes'> 15735413 15737606 <class 'int'> CALL_REL32_32 | 24 <class 'bytes'>\n",
      "  new_ins :  e8ef0c0000 \n",
      "\n",
      "0xf01a89 0xf02322 jne short 00F01A90h 7505 <class 'bytes'> 15735433 15737634 <class 'int'> JNE_REL8_32 | 24 <class 'bytes'>\n",
      "  new_ins :  750a \n",
      "\n",
      "0xf01a8e 0xf02328 jne short 00F01B02h 7572 <class 'bytes'> 15735438 15737640 <class 'int'> JNE_REL8_32 | 28 <class 'bytes'>\n",
      "  new_ins :  0F8599000000 \n",
      "\n",
      "0xf01a93 0xf02332 jne short 00F01AADh 7518 <class 'bytes'> 15735443 15737650 <class 'int'> JNE_REL8_32 | 28 <class 'bytes'>\n",
      "  new_ins :  7522 \n",
      "\n",
      "0xf01a9e 0xf02341 call 00F02270h e8cd070000 <class 'bytes'> 15735454 15737665 <class 'int'> CALL_REL32_32 | 28 <class 'bytes'>\n",
      "  new_ins :  e8bd090000 \n",
      "\n",
      "0xf01ab0 0xf0235a jne short 00F01AE1h 752f <class 'bytes'> 15735472 15737690 <class 'int'> JNE_REL8_32 | 28 <class 'bytes'>\n",
      "  new_ins :  753f \n",
      "\n"
     ]
    },
    {
     "name": "stderr",
     "output_type": "stream",
     "text": [
      "2436it [01:31, 19.69it/s]"
     ]
    },
    {
     "name": "stdout",
     "output_type": "stream",
     "text": [
      "0xf01abd 0xf0236b call 00F19B30h e86e800100 <class 'bytes'> 15735485 15737707 <class 'int'> CALL_REL32_32 | 28 <class 'bytes'>\n",
      "  new_ins :  e8c0f30100 \n",
      "\n",
      "0xf01ac7 0xf02377 je short 00F01AE1h 7418 <class 'bytes'> 15735495 15737719 <class 'int'> JE_REL8_32 | 28 <class 'bytes'>\n",
      "  new_ins :  7422 \n",
      "\n",
      "0xf01ad2 0xf02386 call 00F02B40h e869100000 <class 'bytes'> 15735506 15737734 <class 'int'> CALL_REL32_32 | 28 <class 'bytes'>\n",
      "  new_ins :  e8d5140000 \n",
      "\n",
      "0xf01ae4 0xf0239f jne near ptr 00F01A1Dh 0f8533ffffff <class 'bytes'> 15735524 15737759 <class 'int'> JNE_REL32_32 | 28 <class 'bytes'>\n",
      "  new_ins :  0f85effeffff \n",
      "\n",
      "0xf01af3 0xf023b2 call 00F02910h e8180e0000 <class 'bytes'> 15735539 15737778 <class 'int'> CALL_REL32_32 | 28 <class 'bytes'>\n",
      "  new_ins :  e8da110000 \n",
      "\n",
      "0xf01b38 0xf02412 je short 00F01B3Fh 7405 <class 'bytes'> 15735608 15737874 <class 'int'> JE_REL8_32 | 28 <class 'bytes'>\n",
      "  new_ins :  740a \n",
      "\n",
      "0xf01b3d 0xf02418 jne short 00F01BBEh 757f <class 'bytes'> 15735613 15737880 <class 'int'> JNE_REL8_32 | 32 <class 'bytes'>\n",
      "  new_ins :  0F859e000000 \n",
      "\n",
      "0xf01b6f 0xf02459 call 00F19DD0h e85c820100 <class 'bytes'> 15735663 15737945 <class 'int'> CALL_REL32_32 | 32 <class 'bytes'>\n",
      "  new_ins :  e863f60100 \n",
      "\n",
      "0xf01b80 0xf0246d jne short 00F01B87h 7505 <class 'bytes'> 15735680 15737965 <class 'int'> JNE_REL8_32 | 32 <class 'bytes'>\n",
      "  new_ins :  7506 \n",
      "\n",
      "0xf01b85 0xf02473 jmp short 00F01B8Fh eb08 <class 'bytes'> 15735685 15737971 <class 'int'> JMP_REL8_32 | 32 <class 'bytes'>\n",
      "  new_ins :  eb0a \n",
      "\n",
      "0xf01b8a 0xf02479 jne short 00F01BB3h 7527 <class 'bytes'> 15735690 15737977 <class 'int'> JNE_REL8_32 | 32 <class 'bytes'>\n",
      "  new_ins :  7534 \n",
      "\n"
     ]
    },
    {
     "name": "stderr",
     "output_type": "stream",
     "text": [
      "2471it [01:39, 11.79it/s]"
     ]
    },
    {
     "name": "stdout",
     "output_type": "stream",
     "text": [
      "0xf01b93 0xf02486 call 00F1A1D0h e838860100 <class 'bytes'> 15735699 15737990 <class 'int'> CALL_REL32_32 | 32 <class 'bytes'>\n",
      "  new_ins :  e8d9fb0100 \n",
      "\n",
      "0xf01bab 0xf024a6 call 00F143E0h e830280100 <class 'bytes'> 15735723 15738022 <class 'int'> CALL_REL32_32 | 32 <class 'bytes'>\n",
      "  new_ins :  e84d7e0100 \n",
      "\n"
     ]
    },
    {
     "name": "stderr",
     "output_type": "stream",
     "text": [
      "2496it [01:45,  9.03it/s]"
     ]
    },
    {
     "name": "stdout",
     "output_type": "stream",
     "text": [
      "0xf01bf1 0xf02501 call 00F19E50h e85a820100 <class 'bytes'> 15735793 15738113 <class 'int'> CALL_REL32_32 | 32 <class 'bytes'>\n",
      "  new_ins :  e86df60100 \n",
      "\n",
      "0xf01c0b 0xf02520 call 00F19E50h e840820100 <class 'bytes'> 15735819 15738144 <class 'int'> CALL_REL32_32 | 32 <class 'bytes'>\n",
      "  new_ins :  e84ef60100 \n",
      "\n"
     ]
    },
    {
     "name": "stderr",
     "output_type": "stream",
     "text": [
      "2514it [01:52,  6.39it/s]"
     ]
    },
    {
     "name": "stdout",
     "output_type": "stream",
     "text": [
      "0xf01c26 0xf02541 call 00F19E50h e825820100 <class 'bytes'> 15735846 15738177 <class 'int'> CALL_REL32_32 | 32 <class 'bytes'>\n",
      "  new_ins :  e82df60100 \n",
      "\n"
     ]
    },
    {
     "name": "stderr",
     "output_type": "stream",
     "text": [
      "2527it [01:56,  5.75it/s]"
     ]
    },
    {
     "name": "stdout",
     "output_type": "stream",
     "text": [
      "0xf01c48 0xf0256a call 00F19E50h e803820100 <class 'bytes'> 15735880 15738218 <class 'int'> CALL_REL32_32 | 32 <class 'bytes'>\n",
      "  new_ins :  e804f60100 \n",
      "\n"
     ]
    },
    {
     "name": "stderr",
     "output_type": "stream",
     "text": [
      "2544it [01:57,  6.67it/s]"
     ]
    },
    {
     "name": "stdout",
     "output_type": "stream",
     "text": [
      "0xf01cbc 0xf025f8 call 00F0AF10h e84f920000 <class 'bytes'> 15735996 15738360 <class 'int'> CALL_REL32_32 | 32 <class 'bytes'>\n",
      "  new_ins :  e873bb0000 \n",
      "\n",
      "0xf01cc6 0xf02604 jne short 00F01CCEh 7506 <class 'bytes'> 15736006 15738372 <class 'int'> JNE_REL8_32 | 32 <class 'bytes'>\n",
      "  new_ins :  750a \n",
      "\n"
     ]
    },
    {
     "name": "stderr",
     "output_type": "stream",
     "text": [
      "2556it [02:01,  5.62it/s]"
     ]
    },
    {
     "name": "stdout",
     "output_type": "stream",
     "text": [
      "0xf01cd6 0xf0261b call 00F1A0C0h e8e5830100 <class 'bytes'> 15736022 15738395 <class 'int'> CALL_REL32_32 | 32 <class 'bytes'>\n",
      "  new_ins :  e8c2f80100 \n",
      "\n"
     ]
    },
    {
     "name": "stderr",
     "output_type": "stream",
     "text": [
      "2561it [02:01,  5.73it/s]"
     ]
    },
    {
     "name": "stdout",
     "output_type": "stream",
     "text": [
      "0xf01ce5 0xf0262e call 00F07DA0h e8b6600000 <class 'bytes'> 15736037 15738414 <class 'int'> CALL_REL32_32 | 32 <class 'bytes'>\n",
      "  new_ins :  e8727b0000 \n",
      "\n"
     ]
    },
    {
     "name": "stderr",
     "output_type": "stream",
     "text": [
      "2566it [02:05,  4.14it/s]"
     ]
    },
    {
     "name": "stdout",
     "output_type": "stream",
     "text": [
      "0xf01cf7 0xf02644 call 00F1A0A0h e8a4830100 <class 'bytes'> 15736055 15738436 <class 'int'> CALL_REL32_32 | 32 <class 'bytes'>\n",
      "  new_ins :  e86ff80100 \n",
      "\n"
     ]
    },
    {
     "name": "stderr",
     "output_type": "stream",
     "text": [
      "2571it [02:09,  3.21it/s]"
     ]
    },
    {
     "name": "stdout",
     "output_type": "stream",
     "text": [
      "0xf01d02 0xf02653 call 00F19DD0h e8c9800100 <class 'bytes'> 15736066 15738451 <class 'int'> CALL_REL32_32 | 32 <class 'bytes'>\n",
      "  new_ins :  e869f40100 \n",
      "\n"
     ]
    },
    {
     "name": "stderr",
     "output_type": "stream",
     "text": [
      "2573it [02:13,  2.33it/s]"
     ]
    },
    {
     "name": "stdout",
     "output_type": "stream",
     "text": [
      "0xf01d08 0xf0265a call 00F1A0A0h e893830100 <class 'bytes'> 15736072 15738458 <class 'int'> CALL_REL32_32 | 32 <class 'bytes'>\n",
      "  new_ins :  e859f80100 \n",
      "\n"
     ]
    },
    {
     "name": "stderr",
     "output_type": "stream",
     "text": [
      "2583it [02:17,  2.43it/s]"
     ]
    },
    {
     "name": "stdout",
     "output_type": "stream",
     "text": [
      "0xf01d24 0xf0267f call 00F1A000h e8d7820100 <class 'bytes'> 15736100 15738495 <class 'int'> CALL_REL32_32 | 32 <class 'bytes'>\n",
      "  new_ins :  e85ef70100 \n",
      "\n"
     ]
    },
    {
     "name": "stderr",
     "output_type": "stream",
     "text": [
      "2588it [02:20,  2.07it/s]"
     ]
    },
    {
     "name": "stdout",
     "output_type": "stream",
     "text": [
      "0xf01d30 0xf0268f call 00F1A1D0h e89b840100 <class 'bytes'> 15736112 15738511 <class 'int'> CALL_REL32_32 | 32 <class 'bytes'>\n",
      "  new_ins :  e8d0f90100 \n",
      "\n"
     ]
    },
    {
     "name": "stderr",
     "output_type": "stream",
     "text": [
      "2595it [02:24,  2.01it/s]"
     ]
    },
    {
     "name": "stdout",
     "output_type": "stream",
     "text": [
      "0xf01d45 0xf026aa call 00F19DD0h e886800100 <class 'bytes'> 15736133 15738538 <class 'int'> CALL_REL32_32 | 32 <class 'bytes'>\n",
      "  new_ins :  e812f40100 \n",
      "\n",
      "0xf01d54 0xf026bb je short 00F01D6Fh 7419 <class 'bytes'> 15736148 15738555 <class 'int'> JE_REL8_32 | 32 <class 'bytes'>\n",
      "  new_ins :  741f \n",
      "\n"
     ]
    },
    {
     "name": "stderr",
     "output_type": "stream",
     "text": [
      "2604it [02:28,  2.11it/s]"
     ]
    },
    {
     "name": "stdout",
     "output_type": "stream",
     "text": [
      "0xf01d67 0xf026d3 call 00F1A1D0h e864840100 <class 'bytes'> 15736167 15738579 <class 'int'> CALL_REL32_32 | 32 <class 'bytes'>\n",
      "  new_ins :  e88cf90100 \n",
      "\n"
     ]
    },
    {
     "name": "stderr",
     "output_type": "stream",
     "text": [
      "2610it [02:32,  1.94it/s]"
     ]
    },
    {
     "name": "stdout",
     "output_type": "stream",
     "text": [
      "0xf01d76 0xf026e7 call 00F1A1D0h e855840100 <class 'bytes'> 15736182 15738599 <class 'int'> CALL_REL32_32 | 32 <class 'bytes'>\n",
      "  new_ins :  e878f90100 \n",
      "\n"
     ]
    },
    {
     "name": "stderr",
     "output_type": "stream",
     "text": [
      "2625it [02:36,  2.56it/s]"
     ]
    },
    {
     "name": "stdout",
     "output_type": "stream",
     "text": [
      "0xf01dd8 0xf02757 call 00F19E50h e873800100 <class 'bytes'> 15736280 15738711 <class 'int'> CALL_REL32_32 | 32 <class 'bytes'>\n",
      "  new_ins :  e817f40100 \n",
      "\n"
     ]
    },
    {
     "name": "stderr",
     "output_type": "stream",
     "text": [
      "2642it [02:36,  4.13it/s]"
     ]
    },
    {
     "name": "stdout",
     "output_type": "stream",
     "text": [
      "0xf01e2e 0xf027bd call 00F09030h e8fd710000 <class 'bytes'> 15736366 15738813 <class 'int'> CALL_REL32_32 | 32 <class 'bytes'>\n",
      "  new_ins :  e8c9910000 \n",
      "\n"
     ]
    },
    {
     "name": "stderr",
     "output_type": "stream",
     "text": [
      "2648it [02:40,  3.20it/s]"
     ]
    },
    {
     "name": "stdout",
     "output_type": "stream",
     "text": [
      "0xf01e41 0xf027d5 call 00F1A0C0h e87a820100 <class 'bytes'> 15736385 15738837 <class 'int'> CALL_REL32_32 | 32 <class 'bytes'>\n",
      "  new_ins :  e808f70100 \n",
      "\n"
     ]
    },
    {
     "name": "stderr",
     "output_type": "stream",
     "text": [
      "2653it [02:41,  3.51it/s]"
     ]
    },
    {
     "name": "stdout",
     "output_type": "stream",
     "text": [
      "0xf01e52 0xf027ea call 00F09030h e8d9710000 <class 'bytes'> 15736402 15738858 <class 'int'> CALL_REL32_32 | 32 <class 'bytes'>\n",
      "  new_ins :  e89c910000 \n",
      "\n"
     ]
    },
    {
     "name": "stderr",
     "output_type": "stream",
     "text": [
      "2656it [02:45,  2.42it/s]"
     ]
    },
    {
     "name": "stdout",
     "output_type": "stream",
     "text": [
      "0xf01e5b 0xf027f5 call 00F1A0C0h e860820100 <class 'bytes'> 15736411 15738869 <class 'int'> CALL_REL32_32 | 32 <class 'bytes'>\n",
      "  new_ins :  e8e8f60100 \n",
      "\n"
     ]
    },
    {
     "name": "stderr",
     "output_type": "stream",
     "text": [
      "2664it [02:49,  2.30it/s]"
     ]
    },
    {
     "name": "stdout",
     "output_type": "stream",
     "text": [
      "0xf01e71 0xf02812 call 00F1A0C0h e84a820100 <class 'bytes'> 15736433 15738898 <class 'int'> CALL_REL32_32 | 32 <class 'bytes'>\n",
      "  new_ins :  e8cbf60100 \n",
      "\n"
     ]
    },
    {
     "name": "stderr",
     "output_type": "stream",
     "text": [
      "2668it [02:52,  1.89it/s]"
     ]
    },
    {
     "name": "stdout",
     "output_type": "stream",
     "text": [
      "0xf01e81 0xf02825 call 00F19DD0h e84a7f0100 <class 'bytes'> 15736449 15738917 <class 'int'> CALL_REL32_32 | 32 <class 'bytes'>\n",
      "  new_ins :  e897f20100 \n",
      "\n"
     ]
    },
    {
     "name": "stderr",
     "output_type": "stream",
     "text": [
      "2675it [02:56,  1.87it/s]"
     ]
    },
    {
     "name": "stdout",
     "output_type": "stream",
     "text": [
      "0xf01e9b 0xf02845 call 00F1A0C0h e820820100 <class 'bytes'> 15736475 15738949 <class 'int'> CALL_REL32_32 | 32 <class 'bytes'>\n",
      "  new_ins :  e898f60100 \n",
      "\n"
     ]
    },
    {
     "name": "stderr",
     "output_type": "stream",
     "text": [
      "2684it [02:57,  2.68it/s]"
     ]
    },
    {
     "name": "stdout",
     "output_type": "stream",
     "text": [
      "0xf01eb7 0xf02869 call 00F0AFD0h e814910000 <class 'bytes'> 15736503 15738985 <class 'int'> CALL_REL32_32 | 32 <class 'bytes'>\n",
      "  new_ins :  e8fcb90000 \n",
      "\n",
      "0xf01ec1 0xf02875 je short 00F01F2Bh 7468 <class 'bytes'> 15736513 15738997 <class 'int'> JE_REL8_32 | 36 <class 'bytes'>\n",
      "  new_ins :  0F8482000000 \n",
      "\n"
     ]
    },
    {
     "name": "stderr",
     "output_type": "stream",
     "text": [
      "2699it [03:00,  3.33it/s]"
     ]
    },
    {
     "name": "stdout",
     "output_type": "stream",
     "text": [
      "0xf01ede 0xf028a1 call 00F18110h e82d620100 <class 'bytes'> 15736542 15739041 <class 'int'> CALL_REL32_32 | 36 <class 'bytes'>\n",
      "  new_ins :  e82ecb0100 \n",
      "\n",
      "0xf01ee8 0xf028ad jne short 00F01F2Bh 7541 <class 'bytes'> 15736552 15739053 <class 'int'> JNE_REL8_32 | 36 <class 'bytes'>\n",
      "  new_ins :  754e \n",
      "\n"
     ]
    },
    {
     "name": "stderr",
     "output_type": "stream",
     "text": [
      "2707it [03:04,  2.89it/s]"
     ]
    },
    {
     "name": "stdout",
     "output_type": "stream",
     "text": [
      "0xf01ef9 0xf028c2 call 00F1A0A0h e8a2810100 <class 'bytes'> 15736569 15739074 <class 'int'> CALL_REL32_32 | 36 <class 'bytes'>\n",
      "  new_ins :  e8f1f50100 \n",
      "\n"
     ]
    },
    {
     "name": "stderr",
     "output_type": "stream",
     "text": [
      "2711it [03:08,  2.23it/s]"
     ]
    },
    {
     "name": "stdout",
     "output_type": "stream",
     "text": [
      "0xf01f09 0xf028d5 call 00F1A470h e862850100 <class 'bytes'> 15736585 15739093 <class 'int'> CALL_REL32_32 | 36 <class 'bytes'>\n",
      "  new_ins :  e815fb0100 \n",
      "\n"
     ]
    },
    {
     "name": "stderr",
     "output_type": "stream",
     "text": [
      "2717it [03:12,  1.99it/s]"
     ]
    },
    {
     "name": "stdout",
     "output_type": "stream",
     "text": [
      "0xf01f23 0xf028f4 call 00F1A470h e848850100 <class 'bytes'> 15736611 15739124 <class 'int'> CALL_REL32_32 | 36 <class 'bytes'>\n",
      "  new_ins :  e8f6fa0100 \n",
      "\n",
      "0xf01f33 0xf02908 call 00F016B0h e878f7ffff <class 'bytes'> 15736627 15739144 <class 'int'> CALL_REL32_32 | 36 <class 'bytes'>\n",
      "  new_ins :  e820f5ffff \n",
      "\n",
      "0xf01f47 0xf02920 je short 00F01F4Fh 7406 <class 'bytes'> 15736647 15739168 <class 'int'> JE_REL8_32 | 36 <class 'bytes'>\n",
      "  new_ins :  7408 \n",
      "\n",
      "0xf01f4d 0xf02928 jmp short 00F01F53h eb04 <class 'bytes'> 15736653 15739176 <class 'int'> JMP_REL8_32 | 36 <class 'bytes'>\n",
      "  new_ins :  eb06 \n",
      "\n"
     ]
    },
    {
     "name": "stderr",
     "output_type": "stream",
     "text": [
      "2734it [03:16,  2.75it/s]"
     ]
    },
    {
     "name": "stdout",
     "output_type": "stream",
     "text": [
      "0xf01f54 0xf02932 call 00F1A1D0h e877820100 <class 'bytes'> 15736660 15739186 <class 'int'> CALL_REL32_32 | 36 <class 'bytes'>\n",
      "  new_ins :  e82df70100 \n",
      "\n"
     ]
    },
    {
     "name": "stderr",
     "output_type": "stream",
     "text": [
      "2741it [03:20,  2.49it/s]"
     ]
    },
    {
     "name": "stdout",
     "output_type": "stream",
     "text": [
      "0xf01f6b 0xf0294f call 00F19D30h e8c07d0100 <class 'bytes'> 15736683 15739215 <class 'int'> CALL_REL32_32 | 36 <class 'bytes'>\n",
      "  new_ins :  e88cf00100 \n",
      "\n"
     ]
    },
    {
     "name": "stderr",
     "output_type": "stream",
     "text": [
      "2748it [03:23,  2.31it/s]"
     ]
    },
    {
     "name": "stdout",
     "output_type": "stream",
     "text": [
      "0xf01f85 0xf0296f call 00F19D30h e8a67d0100 <class 'bytes'> 15736709 15739247 <class 'int'> CALL_REL32_32 | 36 <class 'bytes'>\n",
      "  new_ins :  e86cf00100 \n",
      "\n",
      "0xf01f9a 0xf02987 je near ptr 00F020F2h 0f8452010000 <class 'bytes'> 15736730 15739271 <class 'int'> JE_REL32_32 | 36 <class 'bytes'>\n",
      "  new_ins :  0f8499010000 \n",
      "\n",
      "0xf01fa2 0xf02990 je near ptr 00F020F2h 0f844a010000 <class 'bytes'> 15736738 15739280 <class 'int'> JE_REL32_32 | 36 <class 'bytes'>\n",
      "  new_ins :  0f8490010000 \n",
      "\n"
     ]
    },
    {
     "name": "stderr",
     "output_type": "stream",
     "text": [
      "2760it [03:24,  3.39it/s]"
     ]
    },
    {
     "name": "stdout",
     "output_type": "stream",
     "text": [
      "0xf01fb4 0xf029a7 call 00F09030h e877700000 <class 'bytes'> 15736756 15739303 <class 'int'> CALL_REL32_32 | 36 <class 'bytes'>\n",
      "  new_ins :  e8df8f0000 \n",
      "\n"
     ]
    },
    {
     "name": "stderr",
     "output_type": "stream",
     "text": [
      "2765it [03:28,  2.60it/s]"
     ]
    },
    {
     "name": "stdout",
     "output_type": "stream",
     "text": [
      "0xf01fc7 0xf029be call 00F1A300h e834830100 <class 'bytes'> 15736775 15739326 <class 'int'> CALL_REL32_32 | 36 <class 'bytes'>\n",
      "  new_ins :  e848f80100 \n",
      "\n",
      "0xf01fd4 0xf029ce call 00F01660h e887f6ffff <class 'bytes'> 15736788 15739342 <class 'int'> CALL_REL32_32 | 36 <class 'bytes'>\n",
      "  new_ins :  e8eff3ffff \n",
      "\n"
     ]
    },
    {
     "name": "stderr",
     "output_type": "stream",
     "text": [
      "2771it [03:32,  2.25it/s]"
     ]
    },
    {
     "name": "stdout",
     "output_type": "stream",
     "text": [
      "0xf01fda 0xf029d5 call 00F1A0C0h e8e1800100 <class 'bytes'> 15736794 15739349 <class 'int'> CALL_REL32_32 | 36 <class 'bytes'>\n",
      "  new_ins :  e808f50100 \n",
      "\n"
     ]
    },
    {
     "name": "stderr",
     "output_type": "stream",
     "text": [
      "2777it [03:36,  2.04it/s]"
     ]
    },
    {
     "name": "stdout",
     "output_type": "stream",
     "text": [
      "0xf01fec 0xf029ec call 00F19DD0h e8df7d0100 <class 'bytes'> 15736812 15739372 <class 'int'> CALL_REL32_32 | 36 <class 'bytes'>\n",
      "  new_ins :  e8d0f00100 \n",
      "\n"
     ]
    },
    {
     "name": "stderr",
     "output_type": "stream",
     "text": [
      "2790it [03:39,  2.50it/s]"
     ]
    },
    {
     "name": "stdout",
     "output_type": "stream",
     "text": [
      "0xf02040 0xf02a4c call 00F19E50h e80b7e0100 <class 'bytes'> 15736896 15739468 <class 'int'> CALL_REL32_32 | 36 <class 'bytes'>\n",
      "  new_ins :  e822f10100 \n",
      "\n"
     ]
    },
    {
     "name": "stderr",
     "output_type": "stream",
     "text": [
      "2796it [03:40,  2.95it/s]"
     ]
    },
    {
     "name": "stdout",
     "output_type": "stream",
     "text": [
      "0xf02054 0xf02a65 call 00F08F00h e8a76e0000 <class 'bytes'> 15736916 15739493 <class 'int'> CALL_REL32_32 | 36 <class 'bytes'>\n",
      "  new_ins :  e8988d0000 \n",
      "\n",
      "0xf0206f 0xf02a84 je short 00F0209Eh 742d <class 'bytes'> 15736943 15739524 <class 'int'> JE_REL8_32 | 36 <class 'bytes'>\n",
      "  new_ins :  7437 \n",
      "\n",
      "0xf02079 0xf02a90 je short 00F0209Eh 7423 <class 'bytes'> 15736953 15739536 <class 'int'> JE_REL8_32 | 36 <class 'bytes'>\n",
      "  new_ins :  742b \n",
      "\n",
      "0xf02082 0xf02a9a je short 00F0209Eh 741a <class 'bytes'> 15736962 15739546 <class 'int'> JE_REL8_32 | 36 <class 'bytes'>\n",
      "  new_ins :  7421 \n",
      "\n"
     ]
    },
    {
     "name": "stderr",
     "output_type": "stream",
     "text": [
      "2813it [03:44,  3.54it/s]"
     ]
    },
    {
     "name": "stdout",
     "output_type": "stream",
     "text": [
      "0xf02096 0xf02ab4 call 00F19DD0h e8357d0100 <class 'bytes'> 15736982 15739572 <class 'int'> CALL_REL32_32 | 36 <class 'bytes'>\n",
      "  new_ins :  e808f00100 \n",
      "\n"
     ]
    },
    {
     "name": "stderr",
     "output_type": "stream",
     "text": [
      "2818it [03:45,  3.86it/s]"
     ]
    },
    {
     "name": "stdout",
     "output_type": "stream",
     "text": [
      "0xf020a8 0xf02aca call 00F08470h e8c3630000 <class 'bytes'> 15737000 15739594 <class 'int'> CALL_REL32_32 | 36 <class 'bytes'>\n",
      "  new_ins :  e8b67f0000 \n",
      "\n"
     ]
    },
    {
     "name": "stderr",
     "output_type": "stream",
     "text": [
      "2821it [03:50,  2.25it/s]"
     ]
    },
    {
     "name": "stdout",
     "output_type": "stream",
     "text": [
      "0xf020b3 0xf02ad7 call 00F19380h e8c8720100 <class 'bytes'> 15737011 15739607 <class 'int'> CALL_REL32_32 | 36 <class 'bytes'>\n",
      "  new_ins :  e850e20100 \n",
      "\n"
     ]
    },
    {
     "name": "stderr",
     "output_type": "stream",
     "text": [
      "2828it [03:54,  2.10it/s]"
     ]
    },
    {
     "name": "stdout",
     "output_type": "stream",
     "text": [
      "0xf020cb 0xf02af5 call 00F1A1D0h e800810100 <class 'bytes'> 15737035 15739637 <class 'int'> CALL_REL32_32 | 36 <class 'bytes'>\n",
      "  new_ins :  e86af50100 \n",
      "\n"
     ]
    },
    {
     "name": "stderr",
     "output_type": "stream",
     "text": [
      "2830it [03:57,  1.59it/s]"
     ]
    },
    {
     "name": "stdout",
     "output_type": "stream",
     "text": [
      "0xf020d1 0xf02afc call 00F1A0A0h e8ca7f0100 <class 'bytes'> 15737041 15739644 <class 'int'> CALL_REL32_32 | 36 <class 'bytes'>\n",
      "  new_ins :  e8b7f30100 \n",
      "\n",
      "0xf02110 0xf02b55 je near ptr 00F021C4h 0f84ae000000 <class 'bytes'> 15737104 15739733 <class 'int'> JE_REL32_32 | 36 <class 'bytes'>\n",
      "  new_ins :  0f84d1000000 \n",
      "\n",
      "0xf02117 0xf02b5d call 00F01B20h e804faffff <class 'bytes'> 15737111 15739741 <class 'int'> CALL_REL32_32 | 36 <class 'bytes'>\n",
      "  new_ins :  e890f8ffff \n",
      "\n",
      "0xf02126 0xf02b6e je near ptr 00F021C4h 0f8498000000 <class 'bytes'> 15737126 15739758 <class 'int'> JE_REL32_32 | 36 <class 'bytes'>\n",
      "  new_ins :  0f84b8000000 \n",
      "\n",
      "0xf02133 0xf02b7c je near ptr 00F021C4h 0f848b000000 <class 'bytes'> 15737139 15739772 <class 'int'> JE_REL32_32 | 36 <class 'bytes'>\n",
      "  new_ins :  0f84aa000000 \n",
      "\n"
     ]
    },
    {
     "name": "stderr",
     "output_type": "stream",
     "text": [
      "2877it [04:01,  5.01it/s]"
     ]
    },
    {
     "name": "stdout",
     "output_type": "stream",
     "text": [
      "0xf02167 0xf02bba call 00F19DD0h e8647c0100 <class 'bytes'> 15737191 15739834 <class 'int'> CALL_REL32_32 | 36 <class 'bytes'>\n",
      "  new_ins :  e802ef0100 \n",
      "\n"
     ]
    },
    {
     "name": "stderr",
     "output_type": "stream",
     "text": [
      "2882it [04:05,  3.84it/s]"
     ]
    },
    {
     "name": "stdout",
     "output_type": "stream",
     "text": [
      "0xf02176 0xf02bcd call 00F1A1D0h e855800100 <class 'bytes'> 15737206 15739853 <class 'int'> CALL_REL32_32 | 36 <class 'bytes'>\n",
      "  new_ins :  e892f40100 \n",
      "\n",
      "0xf02185 0xf02bde jbe short 00F0219Ah 7613 <class 'bytes'> 15737221 15739870 <class 'int'> JBE_REL8_32 | 36 <class 'bytes'>\n",
      "  new_ins :  7616 \n",
      "\n"
     ]
    },
    {
     "name": "stderr",
     "output_type": "stream",
     "text": [
      "2888it [04:08,  3.40it/s]"
     ]
    },
    {
     "name": "stdout",
     "output_type": "stream",
     "text": [
      "0xf02192 0xf02bed call 00F15DC0h e8293c0100 <class 'bytes'> 15737234 15739885 <class 'int'> CALL_REL32_32 | 36 <class 'bytes'>\n",
      "  new_ins :  e8389a0100 \n",
      "\n"
     ]
    },
    {
     "name": "stderr",
     "output_type": "stream",
     "text": [
      "2964it [04:10, 12.63it/s]"
     ]
    },
    {
     "name": "stdout",
     "output_type": "stream",
     "text": [
      "0xf021bb 0xf02c21 call 00F143E0h e820220100 <class 'bytes'> 15737275 15739937 <class 'int'> CALL_REL32_32 | 36 <class 'bytes'>\n",
      "  new_ins :  e8d2760100 \n",
      "\n",
      "0xf021df 0xf02c55 je short 00F02214h 7433 <class 'bytes'> 15737311 15739989 <class 'int'> JE_REL8_32 | 36 <class 'bytes'>\n",
      "  new_ins :  743b \n",
      "\n",
      "0xf021ee 0xf02c66 je short 00F02214h 7424 <class 'bytes'> 15737326 15740006 <class 'int'> JE_REL8_32 | 36 <class 'bytes'>\n",
      "  new_ins :  742a \n",
      "\n",
      "0xf021f7 0xf02c70 jne short 00F02214h 751b <class 'bytes'> 15737335 15740016 <class 'int'> JNE_REL8_32 | 36 <class 'bytes'>\n",
      "  new_ins :  7520 \n",
      "\n",
      "0xf02200 0xf02c7a jne short 00F02232h 7530 <class 'bytes'> 15737344 15740026 <class 'int'> JNE_REL8_32 | 36 <class 'bytes'>\n",
      "  new_ins :  753c \n",
      "\n",
      "0xf0220b 0xf02c87 jge short 00F02219h 7d0c <class 'bytes'> 15737355 15740039 <class 'int'> JGE_REL8_32 | 36 <class 'bytes'>\n",
      "  new_ins :  7d11 \n",
      "\n",
      "0xf0223a 0xf02cc3 call 00F017B0h e871f5ffff <class 'bytes'> 15737402 15740099 <class 'int'> CALL_REL32_32 | 36 <class 'bytes'>\n",
      "  new_ins :  e8b7f2ffff \n",
      "\n",
      "0xf02280 0xf02d1a je near ptr 00F02458h 0f84d2010000 <class 'bytes'> 15737472 15740186 <class 'int'> JE_REL32_32 | 36 <class 'bytes'>\n",
      "  new_ins :  0f844e020000 \n",
      "\n",
      "0xf0228b 0xf02d27 je near ptr 00F02458h 0f84c7010000 <class 'bytes'> 15737483 15740199 <class 'int'> JE_REL32_32 | 36 <class 'bytes'>\n",
      "  new_ins :  0f8441020000 \n",
      "\n",
      "0xf022a4 0xf02d46 call 00F19E50h e8a77b0100 <class 'bytes'> 15737508 15740230 <class 'int'> CALL_REL32_32 | 36 <class 'bytes'>\n",
      "  new_ins :  e828ee0100 \n",
      "\n"
     ]
    },
    {
     "name": "stderr",
     "output_type": "stream",
     "text": [
      "2984it [04:18,  6.69it/s]"
     ]
    },
    {
     "name": "stdout",
     "output_type": "stream",
     "text": [
      "0xf022bf 0xf02d67 call 00F19E50h e88c7b0100 <class 'bytes'> 15737535 15740263 <class 'int'> CALL_REL32_32 | 36 <class 'bytes'>\n",
      "  new_ins :  e807ee0100 \n",
      "\n"
     ]
    },
    {
     "name": "stderr",
     "output_type": "stream",
     "text": [
      "2998it [04:21,  5.81it/s]"
     ]
    },
    {
     "name": "stdout",
     "output_type": "stream",
     "text": [
      "0xf022e6 0xf02d97 call 00F19E50h e8657b0100 <class 'bytes'> 15737574 15740311 <class 'int'> CALL_REL32_32 | 36 <class 'bytes'>\n",
      "  new_ins :  e8d7ed0100 \n",
      "\n",
      "0xf022f5 0xf02da9 jne short 00F02325h 752e <class 'bytes'> 15737589 15740329 <class 'int'> JNE_REL8_32 | 36 <class 'bytes'>\n",
      "  new_ins :  753c \n",
      "\n",
      "0xf02303 0xf02dba je short 00F0230Eh 7409 <class 'bytes'> 15737603 15740346 <class 'int'> JE_REL8_32 | 36 <class 'bytes'>\n",
      "  new_ins :  740c \n",
      "\n",
      "0xf0230a 0xf02dc4 jb short 00F02300h 72f4 <class 'bytes'> 15737610 15740356 <class 'int'> JB_REL8_32 | 36 <class 'bytes'>\n",
      "  new_ins :  72f0 \n",
      "\n",
      "0xf0230c 0xf02dc6 jmp short 00F0233Ah eb2c <class 'bytes'> 15737612 15740358 <class 'int'> JMP_REL8_32 | 36 <class 'bytes'>\n",
      "  new_ins :  eb39 \n",
      "\n"
     ]
    },
    {
     "name": "stderr",
     "output_type": "stream",
     "text": [
      "3013it [04:25,  5.16it/s]"
     ]
    },
    {
     "name": "stdout",
     "output_type": "stream",
     "text": [
      "0xf02319 0xf02dd9 call 00F1A4C0h e8a2810100 <class 'bytes'> 15737625 15740377 <class 'int'> CALL_REL32_32 | 36 <class 'bytes'>\n",
      "  new_ins :  e87ff60100 \n",
      "\n",
      "0xf02323 0xf02de5 jmp short 00F0233Ah eb15 <class 'bytes'> 15737635 15740389 <class 'int'> JMP_REL8_32 | 36 <class 'bytes'>\n",
      "  new_ins :  eb1a \n",
      "\n"
     ]
    },
    {
     "name": "stderr",
     "output_type": "stream",
     "text": [
      "3020it [04:29,  4.23it/s]"
     ]
    },
    {
     "name": "stdout",
     "output_type": "stream",
     "text": [
      "0xf0232a 0xf02def call 00F19B30h e801780100 <class 'bytes'> 15737642 15740399 <class 'int'> CALL_REL32_32 | 36 <class 'bytes'>\n",
      "  new_ins :  e83ce90100 \n",
      "\n",
      "0xf02334 0xf02dfb je near ptr 00F023CEh 0f8494000000 <class 'bytes'> 15737652 15740411 <class 'int'> JE_REL32_32 | 36 <class 'bytes'>\n",
      "  new_ins :  0f84b9000000 \n",
      "\n"
     ]
    },
    {
     "name": "stderr",
     "output_type": "stream",
     "text": [
      "3030it [04:30,  4.93it/s]"
     ]
    },
    {
     "name": "stdout",
     "output_type": "stream",
     "text": [
      "0xf02349 0xf02e16 call 00F09030h e8e26c0000 <class 'bytes'> 15737673 15740438 <class 'int'> CALL_REL32_32 | 36 <class 'bytes'>\n",
      "  new_ins :  e8708b0000 \n",
      "\n"
     ]
    },
    {
     "name": "stderr",
     "output_type": "stream",
     "text": [
      "3034it [04:34,  3.53it/s]"
     ]
    },
    {
     "name": "stdout",
     "output_type": "stream",
     "text": [
      "0xf02355 0xf02e24 call 00F1A0C0h e8667d0100 <class 'bytes'> 15737685 15740452 <class 'int'> CALL_REL32_32 | 36 <class 'bytes'>\n",
      "  new_ins :  e8b9f00100 \n",
      "\n"
     ]
    },
    {
     "name": "stderr",
     "output_type": "stream",
     "text": [
      "3039it [04:38,  2.75it/s]"
     ]
    },
    {
     "name": "stdout",
     "output_type": "stream",
     "text": [
      "0xf02367 0xf02e3b call 00F1A230h e8c47e0100 <class 'bytes'> 15737703 15740475 <class 'int'> CALL_REL32_32 | 36 <class 'bytes'>\n",
      "  new_ins :  e8adf20100 \n",
      "\n"
     ]
    },
    {
     "name": "stderr",
     "output_type": "stream",
     "text": [
      "3042it [04:38,  2.87it/s]"
     ]
    },
    {
     "name": "stdout",
     "output_type": "stream",
     "text": [
      "0xf02370 0xf02e46 call 00F08470h e8fb600000 <class 'bytes'> 15737712 15740486 <class 'int'> CALL_REL32_32 | 36 <class 'bytes'>\n",
      "  new_ins :  e83a7c0000 \n",
      "\n"
     ]
    },
    {
     "name": "stderr",
     "output_type": "stream",
     "text": [
      "3048it [04:42,  2.37it/s]"
     ]
    },
    {
     "name": "stdout",
     "output_type": "stream",
     "text": [
      "0xf02383 0xf02e5e call 00F1A0C0h e8387d0100 <class 'bytes'> 15737731 15740510 <class 'int'> CALL_REL32_32 | 36 <class 'bytes'>\n",
      "  new_ins :  e87ff00100 \n",
      "\n"
     ]
    },
    {
     "name": "stderr",
     "output_type": "stream",
     "text": [
      "3052it [04:47,  1.76it/s]"
     ]
    },
    {
     "name": "stdout",
     "output_type": "stream",
     "text": [
      "0xf02393 0xf02e71 call 00F1AD40h e8a8890100 <class 'bytes'> 15737747 15740529 <class 'int'> CALL_REL32_32 | 36 <class 'bytes'>\n",
      "  new_ins :  e80f010200 \n",
      "\n"
     ]
    },
    {
     "name": "stderr",
     "output_type": "stream",
     "text": [
      "3058it [04:51,  1.69it/s]"
     ]
    },
    {
     "name": "stdout",
     "output_type": "stream",
     "text": [
      "0xf023a5 0xf02e88 call 00F1A230h e8867e0100 <class 'bytes'> 15737765 15740552 <class 'int'> CALL_REL32_32 | 36 <class 'bytes'>\n",
      "  new_ins :  e860f20100 \n",
      "\n"
     ]
    },
    {
     "name": "stderr",
     "output_type": "stream",
     "text": [
      "3066it [04:52,  2.17it/s]"
     ]
    },
    {
     "name": "stdout",
     "output_type": "stream",
     "text": [
      "0xf023c2 0xf02eac call 00F12A40h e879060100 <class 'bytes'> 15737794 15740588 <class 'int'> CALL_REL32_32 | 36 <class 'bytes'>\n",
      "  new_ins :  e80b520100 \n",
      "\n",
      "0xf023cc 0xf02eb8 jne short 00F023DAh 750c <class 'bytes'> 15737804 15740600 <class 'int'> JNE_REL8_32 | 36 <class 'bytes'>\n",
      "  new_ins :  7512 \n",
      "\n"
     ]
    },
    {
     "name": "stderr",
     "output_type": "stream",
     "text": [
      "3082it [04:56,  2.89it/s]"
     ]
    },
    {
     "name": "stdout",
     "output_type": "stream",
     "text": [
      "0xf023ec 0xf02ee3 call 00F19E50h e85f7a0100 <class 'bytes'> 15737836 15740643 <class 'int'> CALL_REL32_32 | 36 <class 'bytes'>\n",
      "  new_ins :  e88bec0100 \n",
      "\n"
     ]
    },
    {
     "name": "stderr",
     "output_type": "stream",
     "text": [
      "3087it [05:00,  2.33it/s]"
     ]
    },
    {
     "name": "stdout",
     "output_type": "stream",
     "text": [
      "0xf023ff 0xf02efa call 00F1A470h e86c800100 <class 'bytes'> 15737855 15740666 <class 'int'> CALL_REL32_32 | 36 <class 'bytes'>\n",
      "  new_ins :  e8f0f40100 \n",
      "\n"
     ]
    },
    {
     "name": "stderr",
     "output_type": "stream",
     "text": [
      "3091it [05:04,  1.86it/s]"
     ]
    },
    {
     "name": "stdout",
     "output_type": "stream",
     "text": [
      "0xf0240d 0xf02f0b call 00F1A9F0h e8de850100 <class 'bytes'> 15737869 15740683 <class 'int'> CALL_REL32_32 | 36 <class 'bytes'>\n",
      "  new_ins :  e858fc0100 \n",
      "\n"
     ]
    },
    {
     "name": "stderr",
     "output_type": "stream",
     "text": [
      "3096it [05:05,  2.23it/s]"
     ]
    },
    {
     "name": "stdout",
     "output_type": "stream",
     "text": [
      "0xf0241d 0xf02f1f call 00F08CE0h e8be680000 <class 'bytes'> 15737885 15740703 <class 'int'> CALL_REL32_32 | 36 <class 'bytes'>\n",
      "  new_ins :  e808860000 \n",
      "\n"
     ]
    },
    {
     "name": "stderr",
     "output_type": "stream",
     "text": [
      "3102it [05:07,  2.45it/s]"
     ]
    },
    {
     "name": "stdout",
     "output_type": "stream",
     "text": [
      "0xf0242d 0xf02f34 call 00F12E40h e80e0a0100 <class 'bytes'> 15737901 15740724 <class 'int'> CALL_REL32_32 | 36 <class 'bytes'>\n",
      "  new_ins :  e8c8560100 \n",
      "\n",
      "0xf02437 0xf02f40 je short 00F0244Ch 7413 <class 'bytes'> 15737911 15740736 <class 'int'> JE_REL8_32 | 36 <class 'bytes'>\n",
      "  new_ins :  741a \n",
      "\n",
      "0xf0246b 0xf02f89 jg short 00F024A8h 7f3b <class 'bytes'> 15737963 15740809 <class 'int'> JG_REL8_32 | 36 <class 'bytes'>\n",
      "  new_ins :  7f4e \n",
      "\n"
     ]
    },
    {
     "name": "stderr",
     "output_type": "stream",
     "text": [
      "3139it [05:08,  7.09it/s]"
     ]
    },
    {
     "name": "stdout",
     "output_type": "stream",
     "text": [
      "0xf0247d 0xf02fa2 call 00F0D660h e8deb10000 <class 'bytes'> 15737981 15740834 <class 'int'> CALL_REL32_32 | 36 <class 'bytes'>\n",
      "  new_ins :  e88ae40000 \n",
      "\n"
     ]
    },
    {
     "name": "stderr",
     "output_type": "stream",
     "text": [
      "3144it [05:09,  7.29it/s]"
     ]
    },
    {
     "name": "stdout",
     "output_type": "stream",
     "text": [
      "0xf02489 0xf02fb2 call 00F067A0h e812430000 <class 'bytes'> 15737993 15740850 <class 'int'> CALL_REL32_32 | 36 <class 'bytes'>\n",
      "  new_ins :  e8c8550000 \n",
      "\n"
     ]
    },
    {
     "name": "stderr",
     "output_type": "stream",
     "text": [
      "3148it [05:12,  4.55it/s]"
     ]
    },
    {
     "name": "stdout",
     "output_type": "stream",
     "text": [
      "0xf02496 0xf02fc2 call 00F18480h e8e55f0100 <class 'bytes'> 15738006 15740866 <class 'int'> CALL_REL32_32 | 36 <class 'bytes'>\n",
      "  new_ins :  e8f1c80100 \n",
      "\n"
     ]
    },
    {
     "name": "stderr",
     "output_type": "stream",
     "text": [
      "3154it [05:14,  4.22it/s]"
     ]
    },
    {
     "name": "stdout",
     "output_type": "stream",
     "text": [
      "0xf024a7 0xf02fd8 call 00F12A40h e894050100 <class 'bytes'> 15738023 15740888 <class 'int'> CALL_REL32_32 | 36 <class 'bytes'>\n",
      "  new_ins :  e8df500100 \n",
      "\n",
      "0xf024cf 0xf0300e je near ptr 00F0256Fh 0f849a000000 <class 'bytes'> 15738063 15740942 <class 'int'> JE_REL32_32 | 36 <class 'bytes'>\n",
      "  new_ins :  0f84c3000000 \n",
      "\n",
      "0xf024db 0xf0301b jae near ptr 00F0256Fh 0f838e000000 <class 'bytes'> 15738075 15740955 <class 'int'> JAE_REL32_32 | 36 <class 'bytes'>\n",
      "  new_ins :  0f83b6000000 \n",
      "\n"
     ]
    },
    {
     "name": "stderr",
     "output_type": "stream",
     "text": [
      "3178it [05:18,  5.17it/s]"
     ]
    },
    {
     "name": "stdout",
     "output_type": "stream",
     "text": [
      "0xf024f6 0xf0303b call 00F19E50h e855790100 <class 'bytes'> 15738102 15740987 <class 'int'> CALL_REL32_32 | 36 <class 'bytes'>\n",
      "  new_ins :  e833eb0100 \n",
      "\n"
     ]
    },
    {
     "name": "stderr",
     "output_type": "stream",
     "text": [
      "3184it [05:21,  3.81it/s]"
     ]
    },
    {
     "name": "stdout",
     "output_type": "stream",
     "text": [
      "0xf02507 0xf03051 call 00F19DD0h e8c4780100 <class 'bytes'> 15738119 15741009 <class 'int'> CALL_REL32_32 | 36 <class 'bytes'>\n",
      "  new_ins :  e86bea0100 \n",
      "\n"
     ]
    },
    {
     "name": "stderr",
     "output_type": "stream",
     "text": [
      "3192it [05:25,  3.22it/s]"
     ]
    },
    {
     "name": "stdout",
     "output_type": "stream",
     "text": [
      "0xf02523 0xf03074 call 00F19E50h e828790100 <class 'bytes'> 15738147 15741044 <class 'int'> CALL_REL32_32 | 36 <class 'bytes'>\n",
      "  new_ins :  e8faea0100 \n",
      "\n"
     ]
    },
    {
     "name": "stderr",
     "output_type": "stream",
     "text": [
      "3196it [05:29,  2.39it/s]"
     ]
    },
    {
     "name": "stdout",
     "output_type": "stream",
     "text": [
      "0xf0252e 0xf03082 call 00F1A9F0h e8bd840100 <class 'bytes'> 15738158 15741058 <class 'int'> CALL_REL32_32 | 36 <class 'bytes'>\n",
      "  new_ins :  e8e1fa0100 \n",
      "\n"
     ]
    },
    {
     "name": "stderr",
     "output_type": "stream",
     "text": [
      "3202it [05:30,  2.86it/s]"
     ]
    },
    {
     "name": "stdout",
     "output_type": "stream",
     "text": [
      "0xf0253e 0xf03097 call 00F08CE0h e89d670000 <class 'bytes'> 15738174 15741079 <class 'int'> CALL_REL32_32 | 36 <class 'bytes'>\n",
      "  new_ins :  e890840000 \n",
      "\n"
     ]
    },
    {
     "name": "stderr",
     "output_type": "stream",
     "text": [
      "3208it [05:32,  2.91it/s]"
     ]
    },
    {
     "name": "stdout",
     "output_type": "stream",
     "text": [
      "0xf0254e 0xf030ac call 00F12E40h e8ed080100 <class 'bytes'> 15738190 15741100 <class 'int'> CALL_REL32_32 | 36 <class 'bytes'>\n",
      "  new_ins :  e850550100 \n",
      "\n",
      "0xf02558 0xf030b8 je short 00F0256Fh 7415 <class 'bytes'> 15738200 15741112 <class 'int'> JE_REL8_32 | 36 <class 'bytes'>\n",
      "  new_ins :  741d \n",
      "\n"
     ]
    },
    {
     "name": "stderr",
     "output_type": "stream",
     "text": [
      "3242it [05:36,  5.35it/s]"
     ]
    },
    {
     "name": "stdout",
     "output_type": "stream",
     "text": [
      "0xf02594 0xf03110 call 00F19E50h e8b7780100 <class 'bytes'> 15738260 15741200 <class 'int'> CALL_REL32_32 | 36 <class 'bytes'>\n",
      "  new_ins :  e85eea0100 \n",
      "\n"
     ]
    },
    {
     "name": "stderr",
     "output_type": "stream",
     "text": [
      "3246it [05:40,  3.63it/s]"
     ]
    },
    {
     "name": "stdout",
     "output_type": "stream",
     "text": [
      "0xf0259f 0xf0311e call 00F1A9F0h e84c840100 <class 'bytes'> 15738271 15741214 <class 'int'> CALL_REL32_32 | 36 <class 'bytes'>\n",
      "  new_ins :  e845fa0100 \n",
      "\n"
     ]
    },
    {
     "name": "stderr",
     "output_type": "stream",
     "text": [
      "3252it [05:41,  4.02it/s]"
     ]
    },
    {
     "name": "stdout",
     "output_type": "stream",
     "text": [
      "0xf025af 0xf03133 call 00F08CE0h e82c670000 <class 'bytes'> 15738287 15741235 <class 'int'> CALL_REL32_32 | 36 <class 'bytes'>\n",
      "  new_ins :  e8f4830000 \n",
      "\n"
     ]
    },
    {
     "name": "stderr",
     "output_type": "stream",
     "text": [
      "3258it [05:43,  3.82it/s]"
     ]
    },
    {
     "name": "stdout",
     "output_type": "stream",
     "text": [
      "0xf025bf 0xf03148 call 00F12E40h e87c080100 <class 'bytes'> 15738303 15741256 <class 'int'> CALL_REL32_32 | 36 <class 'bytes'>\n",
      "  new_ins :  e8b4540100 \n",
      "\n",
      "0xf025cb 0xf03157 je short 00F025E3h 7416 <class 'bytes'> 15738315 15741271 <class 'int'> JE_REL8_32 | 36 <class 'bytes'>\n",
      "  new_ins :  741c \n",
      "\n"
     ]
    },
    {
     "name": "stderr",
     "output_type": "stream",
     "text": [
      "3265it [05:44,  4.17it/s]"
     ]
    },
    {
     "name": "stdout",
     "output_type": "stream",
     "text": [
      "0xf025d0 0xf0315e call 00F0D170h e89bab0000 <class 'bytes'> 15738320 15741278 <class 'int'> CALL_REL32_32 | 36 <class 'bytes'>\n",
      "  new_ins :  e825dc0000 \n",
      "\n",
      "0xf02602 0xf031a2 je near ptr 00F026C0h 0f84b8000000 <class 'bytes'> 15738370 15741346 <class 'int'> JE_REL32_32 | 36 <class 'bytes'>\n",
      "  new_ins :  0f84ef000000 \n",
      "\n",
      "0xf0260b 0xf031ac je near ptr 00F026C0h 0f84af000000 <class 'bytes'> 15738379 15741356 <class 'int'> JE_REL32_32 | 36 <class 'bytes'>\n",
      "  new_ins :  0f84e5000000 \n",
      "\n"
     ]
    },
    {
     "name": "stderr",
     "output_type": "stream",
     "text": [
      "3295it [05:48,  5.88it/s]"
     ]
    },
    {
     "name": "stdout",
     "output_type": "stream",
     "text": [
      "0xf0261c 0xf031c3 call 00F19E50h e82f780100 <class 'bytes'> 15738396 15741379 <class 'int'> CALL_REL32_32 | 36 <class 'bytes'>\n",
      "  new_ins :  e8abe90100 \n",
      "\n"
     ]
    },
    {
     "name": "stderr",
     "output_type": "stream",
     "text": [
      "3299it [05:52,  3.82it/s]"
     ]
    },
    {
     "name": "stdout",
     "output_type": "stream",
     "text": [
      "0xf02627 0xf031d1 call 00F1A9F0h e8c4830100 <class 'bytes'> 15738407 15741393 <class 'int'> CALL_REL32_32 | 36 <class 'bytes'>\n",
      "  new_ins :  e892f90100 \n",
      "\n"
     ]
    },
    {
     "name": "stderr",
     "output_type": "stream",
     "text": [
      "3305it [05:53,  4.21it/s]"
     ]
    },
    {
     "name": "stdout",
     "output_type": "stream",
     "text": [
      "0xf02637 0xf031e6 call 00F08CE0h e8a4660000 <class 'bytes'> 15738423 15741414 <class 'int'> CALL_REL32_32 | 36 <class 'bytes'>\n",
      "  new_ins :  e841830000 \n",
      "\n"
     ]
    },
    {
     "name": "stderr",
     "output_type": "stream",
     "text": [
      "3311it [05:55,  3.96it/s]"
     ]
    },
    {
     "name": "stdout",
     "output_type": "stream",
     "text": [
      "0xf02645 0xf031f9 call 00F12E40h e8f6070100 <class 'bytes'> 15738437 15741433 <class 'int'> CALL_REL32_32 | 36 <class 'bytes'>\n",
      "  new_ins :  e803540100 \n",
      "\n",
      "0xf02651 0xf03208 je short 00F026BFh 746c <class 'bytes'> 15738449 15741448 <class 'int'> JE_REL8_32 | 40 <class 'bytes'>\n",
      "  new_ins :  0F8487000000 \n",
      "\n"
     ]
    },
    {
     "name": "stderr",
     "output_type": "stream",
     "text": [
      "3322it [05:58,  3.53it/s]"
     ]
    },
    {
     "name": "stdout",
     "output_type": "stream",
     "text": [
      "0xf02669 0xf0322a call 00F19E50h e8e2770100 <class 'bytes'> 15738473 15741482 <class 'int'> CALL_REL32_32 | 40 <class 'bytes'>\n",
      "  new_ins :  e844e90100 \n",
      "\n"
     ]
    },
    {
     "name": "stderr",
     "output_type": "stream",
     "text": [
      "3324it [06:02,  2.37it/s]"
     ]
    },
    {
     "name": "stdout",
     "output_type": "stream",
     "text": [
      "0xf0266f 0xf03231 call 00F1A0C0h e84c7a0100 <class 'bytes'> 15738479 15741489 <class 'int'> CALL_REL32_32 | 40 <class 'bytes'>\n",
      "  new_ins :  e8acec0100 \n",
      "\n",
      "0xf0267e 0xf03243 ja short 00F026BFh 773f <class 'bytes'> 15738494 15741507 <class 'int'> JA_REL8_32 | 40 <class 'bytes'>\n",
      "  new_ins :  7750 \n",
      "\n"
     ]
    },
    {
     "name": "stderr",
     "output_type": "stream",
     "text": [
      "3333it [06:06,  2.39it/s]"
     ]
    },
    {
     "name": "stdout",
     "output_type": "stream",
     "text": [
      "0xf02689 0xf03252 call 00F19DD0h e842770100 <class 'bytes'> 15738505 15741522 <class 'int'> CALL_REL32_32 | 40 <class 'bytes'>\n",
      "  new_ins :  e86ae80100 \n",
      "\n"
     ]
    },
    {
     "name": "stderr",
     "output_type": "stream",
     "text": [
      "3372it [06:08,  6.07it/s]"
     ]
    },
    {
     "name": "stdout",
     "output_type": "stream",
     "text": [
      "0xf026f5 0xf032e2 call 00F12E40h e846070100 <class 'bytes'> 15738613 15741666 <class 'int'> CALL_REL32_32 | 40 <class 'bytes'>\n",
      "  new_ins :  e81a530100 \n",
      "\n",
      "0xf02702 0xf032f2 jne short 00F0270Ch 7508 <class 'bytes'> 15738626 15741682 <class 'int'> JNE_REL8_32 | 40 <class 'bytes'>\n",
      "  new_ins :  750d \n",
      "\n",
      "0xf02712 0xf03308 jne short 00F0271Eh 750a <class 'bytes'> 15738642 15741704 <class 'int'> JNE_REL8_32 | 40 <class 'bytes'>\n",
      "  new_ins :  750b \n",
      "\n"
     ]
    },
    {
     "name": "stderr",
     "output_type": "stream",
     "text": [
      "3389it [06:12,  5.13it/s]"
     ]
    },
    {
     "name": "stdout",
     "output_type": "stream",
     "text": [
      "0xf02726 0xf03320 call 00F1AFA0h e875880100 <class 'bytes'> 15738662 15741728 <class 'int'> CALL_REL32_32 | 40 <class 'bytes'>\n",
      "  new_ins :  e876ff0100 \n",
      "\n",
      "0xf02737 0xf03334 jae short 00F0279Bh 7362 <class 'bytes'> 15738679 15741748 <class 'int'> JAE_REL8_32 | 40 <class 'bytes'>\n",
      "  new_ins :  737d \n",
      "\n"
     ]
    },
    {
     "name": "stderr",
     "output_type": "stream",
     "text": [
      "3413it [06:16,  5.80it/s]"
     ]
    },
    {
     "name": "stdout",
     "output_type": "stream",
     "text": [
      "0xf02776 0xf03386 call 00F17D00h e885550100 <class 'bytes'> 15738742 15741830 <class 'int'> CALL_REL32_32 | 40 <class 'bytes'>\n",
      "  new_ins :  e88bba0100 \n",
      "\n",
      "0xf02780 0xf03392 js short 00F0278Ah 7808 <class 'bytes'> 15738752 15741842 <class 'int'> JS_REL8_32 | 40 <class 'bytes'>\n",
      "  new_ins :  780b \n",
      "\n",
      "0xf02799 0xf033b1 jb short 00F02740h 72a5 <class 'bytes'> 15738777 15741873 <class 'int'> JB_REL8_32 | 40 <class 'bytes'>\n",
      "  new_ins :  728b \n",
      "\n",
      "0xf027af 0xf033cf jge short 00F02806h 7d55 <class 'bytes'> 15738799 15741903 <class 'int'> JGE_REL8_32 | 40 <class 'bytes'>\n",
      "  new_ins :  7d68 \n",
      "\n"
     ]
    },
    {
     "name": "stderr",
     "output_type": "stream",
     "text": [
      "3444it [06:19,  6.60it/s]"
     ]
    },
    {
     "name": "stdout",
     "output_type": "stream",
     "text": [
      "0xf027d0 0xf033f9 call 00F19E50h e87b760100 <class 'bytes'> 15738832 15741945 <class 'int'> CALL_REL32_32 | 40 <class 'bytes'>\n",
      "  new_ins :  e875e70100 \n",
      "\n"
     ]
    },
    {
     "name": "stderr",
     "output_type": "stream",
     "text": [
      "3456it [06:23,  5.54it/s]"
     ]
    },
    {
     "name": "stdout",
     "output_type": "stream",
     "text": [
      "0xf0280e 0xf03442 call 00F19E50h e83d760100 <class 'bytes'> 15738894 15742018 <class 'int'> CALL_REL32_32 | 40 <class 'bytes'>\n",
      "  new_ins :  e82ce70100 \n",
      "\n"
     ]
    },
    {
     "name": "stderr",
     "output_type": "stream",
     "text": [
      "3474it [06:24,  7.08it/s]"
     ]
    },
    {
     "name": "stdout",
     "output_type": "stream",
     "text": [
      "0xf02856 0xf0349b call 00F08F00h e8a5660000 <class 'bytes'> 15738966 15742107 <class 'int'> CALL_REL32_32 | 40 <class 'bytes'>\n",
      "  new_ins :  e862830000 \n",
      "\n"
     ]
    },
    {
     "name": "stderr",
     "output_type": "stream",
     "text": [
      "3480it [06:28,  4.98it/s]"
     ]
    },
    {
     "name": "stdout",
     "output_type": "stream",
     "text": [
      "0xf02868 0xf034b2 call 00F1A230h e8c3790100 <class 'bytes'> 15738984 15742130 <class 'int'> CALL_REL32_32 | 40 <class 'bytes'>\n",
      "  new_ins :  e836ec0100 \n",
      "\n"
     ]
    },
    {
     "name": "stderr",
     "output_type": "stream",
     "text": [
      "3488it [06:29,  4.84it/s]"
     ]
    },
    {
     "name": "stdout",
     "output_type": "stream",
     "text": [
      "0xf02881 0xf034d2 call 00F12E40h e8ba050100 <class 'bytes'> 15739009 15742162 <class 'int'> CALL_REL32_32 | 40 <class 'bytes'>\n",
      "  new_ins :  e82a510100 \n",
      "\n",
      "0xf0288c 0xf034e0 je short 00F028B5h 7427 <class 'bytes'> 15739020 15742176 <class 'int'> JE_REL8_32 | 40 <class 'bytes'>\n",
      "  new_ins :  7438 \n",
      "\n",
      "0xf028bb 0xf03523 jge short 00F02900h 7d43 <class 'bytes'> 15739067 15742243 <class 'int'> JGE_REL8_32 | 40 <class 'bytes'>\n",
      "  new_ins :  7d55 \n",
      "\n"
     ]
    },
    {
     "name": "stderr",
     "output_type": "stream",
     "text": [
      "3525it [06:31,  9.00it/s]"
     ]
    },
    {
     "name": "stdout",
     "output_type": "stream",
     "text": [
      "0xf028ca 0xf0353a call 00F0D070h e8a1a70000 <class 'bytes'> 15739082 15742266 <class 'int'> CALL_REL32_32 | 40 <class 'bytes'>\n",
      "  new_ins :  e807d70000 \n",
      "\n",
      "0xf028da 0xf0354d je short 00F028FDh 7421 <class 'bytes'> 15739098 15742285 <class 'int'> JE_REL8_32 | 40 <class 'bytes'>\n",
      "  new_ins :  7427 \n",
      "\n"
     ]
    },
    {
     "name": "stderr",
     "output_type": "stream",
     "text": [
      "3535it [06:32,  8.91it/s]"
     ]
    },
    {
     "name": "stdout",
     "output_type": "stream",
     "text": [
      "0xf028f5 0xf0356d call 00F0CF90h e896a60000 <class 'bytes'> 15739125 15742317 <class 'int'> CALL_REL32_32 | 40 <class 'bytes'>\n",
      "  new_ins :  e8c4d50000 \n",
      "\n",
      "0xf02920 0xf035a7 je near ptr 00F02A4Ch 0f8426010000 <class 'bytes'> 15739168 15742375 <class 'int'> JE_REL32_32 | 40 <class 'bytes'>\n",
      "  new_ins :  0f846e010000 \n",
      "\n",
      "0xf0292b 0xf035b4 je near ptr 00F02A4Ch 0f841b010000 <class 'bytes'> 15739179 15742388 <class 'int'> JE_REL32_32 | 40 <class 'bytes'>\n",
      "  new_ins :  0f8461010000 \n",
      "\n"
     ]
    },
    {
     "name": "stderr",
     "output_type": "stream",
     "text": [
      "3567it [06:36,  8.79it/s]"
     ]
    },
    {
     "name": "stdout",
     "output_type": "stream",
     "text": [
      "0xf0295c 0xf035f0 call 00F19E50h e8ef740100 <class 'bytes'> 15739228 15742448 <class 'int'> CALL_REL32_32 | 40 <class 'bytes'>\n",
      "  new_ins :  e87ee50100 \n",
      "\n"
     ]
    },
    {
     "name": "stderr",
     "output_type": "stream",
     "text": [
      "3574it [06:39,  6.10it/s]"
     ]
    },
    {
     "name": "stdout",
     "output_type": "stream",
     "text": [
      "0xf02977 0xf03611 call 00F19E50h e8d4740100 <class 'bytes'> 15739255 15742481 <class 'int'> CALL_REL32_32 | 40 <class 'bytes'>\n",
      "  new_ins :  e85de50100 \n",
      "\n"
     ]
    },
    {
     "name": "stderr",
     "output_type": "stream",
     "text": [
      "3581it [06:40,  6.44it/s]"
     ]
    },
    {
     "name": "stdout",
     "output_type": "stream",
     "text": [
      "0xf0298b 0xf0362b call 00F09030h e8a0660000 <class 'bytes'> 15739275 15742507 <class 'int'> CALL_REL32_32 | 40 <class 'bytes'>\n",
      "  new_ins :  e85b830000 \n",
      "\n"
     ]
    },
    {
     "name": "stderr",
     "output_type": "stream",
     "text": [
      "3587it [06:41,  6.65it/s]"
     ]
    },
    {
     "name": "stdout",
     "output_type": "stream",
     "text": [
      "0xf0299c 0xf03641 call 00F09030h e88f660000 <class 'bytes'> 15739292 15742529 <class 'int'> CALL_REL32_32 | 40 <class 'bytes'>\n",
      "  new_ins :  e845830000 \n",
      "\n"
     ]
    },
    {
     "name": "stderr",
     "output_type": "stream",
     "text": [
      "3590it [06:44,  3.86it/s]"
     ]
    },
    {
     "name": "stdout",
     "output_type": "stream",
     "text": [
      "0xf029a8 0xf0364f call 00F1A0C0h e813770100 <class 'bytes'> 15739304 15742543 <class 'int'> CALL_REL32_32 | 40 <class 'bytes'>\n",
      "  new_ins :  e88ee80100 \n",
      "\n"
     ]
    },
    {
     "name": "stderr",
     "output_type": "stream",
     "text": [
      "3595it [06:45,  4.25it/s]"
     ]
    },
    {
     "name": "stdout",
     "output_type": "stream",
     "text": [
      "0xf029be 0xf03669 call 00F08470h e8ad5a0000 <class 'bytes'> 15739326 15742569 <class 'int'> CALL_REL32_32 | 40 <class 'bytes'>\n",
      "  new_ins :  e817740000 \n",
      "\n"
     ]
    },
    {
     "name": "stderr",
     "output_type": "stream",
     "text": [
      "3601it [06:49,  3.02it/s]"
     ]
    },
    {
     "name": "stdout",
     "output_type": "stream",
     "text": [
      "0xf029d1 0xf03681 call 00F1A0C0h e8ea760100 <class 'bytes'> 15739345 15742593 <class 'int'> CALL_REL32_32 | 40 <class 'bytes'>\n",
      "  new_ins :  e85ce80100 \n",
      "\n"
     ]
    },
    {
     "name": "stderr",
     "output_type": "stream",
     "text": [
      "3605it [06:53,  2.12it/s]"
     ]
    },
    {
     "name": "stdout",
     "output_type": "stream",
     "text": [
      "0xf029e1 0xf03694 call 00F1AD40h e85a830100 <class 'bytes'> 15739361 15742612 <class 'int'> CALL_REL32_32 | 40 <class 'bytes'>\n",
      "  new_ins :  e8ecf80100 \n",
      "\n"
     ]
    },
    {
     "name": "stderr",
     "output_type": "stream",
     "text": [
      "3611it [06:57,  1.92it/s]"
     ]
    },
    {
     "name": "stdout",
     "output_type": "stream",
     "text": [
      "0xf029f3 0xf036ab call 00F1A230h e838780100 <class 'bytes'> 15739379 15742635 <class 'int'> CALL_REL32_32 | 40 <class 'bytes'>\n",
      "  new_ins :  e83dea0100 \n",
      "\n"
     ]
    },
    {
     "name": "stderr",
     "output_type": "stream",
     "text": [
      "3619it [06:59,  2.42it/s]"
     ]
    },
    {
     "name": "stdout",
     "output_type": "stream",
     "text": [
      "0xf02a10 0xf036cf call 00F12A40h e82b000100 <class 'bytes'> 15739408 15742671 <class 'int'> CALL_REL32_32 | 40 <class 'bytes'>\n",
      "  new_ins :  e8e8490100 \n",
      "\n",
      "0xf02a1a 0xf036db je short 00F02A43h 7427 <class 'bytes'> 15739418 15742683 <class 'int'> JE_REL8_32 | 40 <class 'bytes'>\n",
      "  new_ins :  742f \n",
      "\n"
     ]
    },
    {
     "name": "stderr",
     "output_type": "stream",
     "text": [
      "3628it [07:00,  3.40it/s]"
     ]
    },
    {
     "name": "stdout",
     "output_type": "stream",
     "text": [
      "0xf02a2b 0xf036f1 call 00F094D0h e8a06a0000 <class 'bytes'> 15739435 15742705 <class 'int'> CALL_REL32_32 | 40 <class 'bytes'>\n",
      "  new_ins :  e893880000 \n",
      "\n"
     ]
    },
    {
     "name": "stderr",
     "output_type": "stream",
     "text": [
      "3659it [07:01,  7.03it/s]"
     ]
    },
    {
     "name": "stdout",
     "output_type": "stream",
     "text": [
      "0xf02a75 0xf03756 call 00F12A40h e8c6ff0000 <class 'bytes'> 15739509 15742806 <class 'int'> CALL_REL32_32 | 40 <class 'bytes'>\n",
      "  new_ins :  e861490100 \n",
      "\n"
     ]
    },
    {
     "name": "stderr",
     "output_type": "stream",
     "text": [
      "3664it [07:03,  5.90it/s]"
     ]
    },
    {
     "name": "stdout",
     "output_type": "stream",
     "text": [
      "0xf02a80 0xf03765 call 00F12A40h e8bbff0000 <class 'bytes'> 15739520 15742821 <class 'int'> CALL_REL32_32 | 40 <class 'bytes'>\n",
      "  new_ins :  e852490100 \n",
      "\n",
      "0xf02a8d 0xf03775 je short 00F02AC5h 7436 <class 'bytes'> 15739533 15742837 <class 'int'> JE_REL8_32 | 40 <class 'bytes'>\n",
      "  new_ins :  7446 \n",
      "\n",
      "0xf02a94 0xf0377e je short 00F02ABBh 7425 <class 'bytes'> 15739540 15742846 <class 'int'> JE_REL8_32 | 40 <class 'bytes'>\n",
      "  new_ins :  7430 \n",
      "\n"
     ]
    },
    {
     "name": "stderr",
     "output_type": "stream",
     "text": [
      "3678it [07:05,  6.41it/s]"
     ]
    },
    {
     "name": "stdout",
     "output_type": "stream",
     "text": [
      "0xf02aa8 0xf03798 call 00F12A40h e893ff0000 <class 'bytes'> 15739560 15742872 <class 'int'> CALL_REL32_32 | 40 <class 'bytes'>\n",
      "  new_ins :  e81f490100 \n",
      "\n"
     ]
    },
    {
     "name": "stderr",
     "output_type": "stream",
     "text": [
      "3683it [07:07,  5.40it/s]"
     ]
    },
    {
     "name": "stdout",
     "output_type": "stream",
     "text": [
      "0xf02ab3 0xf037a7 call 00F12A40h e888ff0000 <class 'bytes'> 15739571 15742887 <class 'int'> CALL_REL32_32 | 40 <class 'bytes'>\n",
      "  new_ins :  e810490100 \n",
      "\n"
     ]
    },
    {
     "name": "stderr",
     "output_type": "stream",
     "text": [
      "3687it [07:10,  3.44it/s]"
     ]
    },
    {
     "name": "stdout",
     "output_type": "stream",
     "text": [
      "0xf02abd 0xf037b4 call 00F19DB0h e8ee720100 <class 'bytes'> 15739581 15742900 <class 'int'> CALL_REL32_32 | 40 <class 'bytes'>\n",
      "  new_ins :  e8dbe20100 \n",
      "\n",
      "0xf02ae0 0xf037e4 je short 00F02B2Dh 744b <class 'bytes'> 15739616 15742948 <class 'int'> JE_REL8_32 | 40 <class 'bytes'>\n",
      "  new_ins :  7460 \n",
      "\n",
      "0xf02ae9 0xf037ee jne short 00F02B2Dh 7542 <class 'bytes'> 15739625 15742958 <class 'int'> JNE_REL8_32 | 40 <class 'bytes'>\n",
      "  new_ins :  7556 \n",
      "\n"
     ]
    },
    {
     "name": "stderr",
     "output_type": "stream",
     "text": [
      "3714it [07:12,  6.19it/s]"
     ]
    },
    {
     "name": "stdout",
     "output_type": "stream",
     "text": [
      "0xf02b00 0xf0380d call 00F12E40h e83b030100 <class 'bytes'> 15739648 15742989 <class 'int'> CALL_REL32_32 | 40 <class 'bytes'>\n",
      "  new_ins :  e8ef4d0100 \n",
      "\n",
      "0xf02b0c 0xf0381c je short 00F02B2Ch 741e <class 'bytes'> 15739660 15743004 <class 'int'> JE_REL8_32 | 40 <class 'bytes'>\n",
      "  new_ins :  7426 \n",
      "\n"
     ]
    },
    {
     "name": "stderr",
     "output_type": "stream",
     "text": [
      "3723it [07:17,  4.22it/s]"
     ]
    },
    {
     "name": "stdout",
     "output_type": "stream",
     "text": [
      "0xf02b1d 0xf03831 call 00F1D18Bh e869a60100 <class 'bytes'> 15739677 15743025 <class 'int'> CALL_REL32_32 | 40 <class 'bytes'>\n",
      "  new_ins :  e851230200 \n",
      "\n",
      "0xf02b4d 0xf03871 je near ptr 00F02D2Ah 0f84d7010000 <class 'bytes'> 15739725 15743089 <class 'int'> JE_REL32_32 | 40 <class 'bytes'>\n",
      "  new_ins :  0f8463020000 \n",
      "\n",
      "0xf02b57 0xf0387c je near ptr 00F02D2Ah 0f84cd010000 <class 'bytes'> 15739735 15743100 <class 'int'> JE_REL32_32 | 40 <class 'bytes'>\n",
      "  new_ins :  0f8458020000 \n",
      "\n"
     ]
    },
    {
     "name": "stderr",
     "output_type": "stream",
     "text": [
      "3754it [07:21,  5.66it/s]"
     ]
    },
    {
     "name": "stdout",
     "output_type": "stream",
     "text": [
      "0xf02b76 0xf038a4 call 00F19E50h e8d5720100 <class 'bytes'> 15739766 15743140 <class 'int'> CALL_REL32_32 | 40 <class 'bytes'>\n",
      "  new_ins :  e8cae20100 \n",
      "\n"
     ]
    },
    {
     "name": "stderr",
     "output_type": "stream",
     "text": [
      "3769it [07:21,  6.98it/s]"
     ]
    },
    {
     "name": "stdout",
     "output_type": "stream",
     "text": [
      "0xf02bbe 0xf038fa call 00F09030h e86d640000 <class 'bytes'> 15739838 15743226 <class 'int'> CALL_REL32_32 | 40 <class 'bytes'>\n",
      "  new_ins :  e88c800000 \n",
      "\n"
     ]
    },
    {
     "name": "stderr",
     "output_type": "stream",
     "text": [
      "3775it [07:25,  4.81it/s]"
     ]
    },
    {
     "name": "stdout",
     "output_type": "stream",
     "text": [
      "0xf02bd0 0xf03911 call 00F1A230h e85b760100 <class 'bytes'> 15739856 15743249 <class 'int'> CALL_REL32_32 | 40 <class 'bytes'>\n",
      "  new_ins :  e8d7e70100 \n",
      "\n"
     ]
    },
    {
     "name": "stderr",
     "output_type": "stream",
     "text": [
      "3778it [07:26,  4.78it/s]"
     ]
    },
    {
     "name": "stdout",
     "output_type": "stream",
     "text": [
      "0xf02bd9 0xf0391c call 00F08470h e892580000 <class 'bytes'> 15739865 15743260 <class 'int'> CALL_REL32_32 | 40 <class 'bytes'>\n",
      "  new_ins :  e864710000 \n",
      "\n"
     ]
    },
    {
     "name": "stderr",
     "output_type": "stream",
     "text": [
      "3784it [07:29,  3.45it/s]"
     ]
    },
    {
     "name": "stdout",
     "output_type": "stream",
     "text": [
      "0xf02bec 0xf03934 call 00F1A0C0h e8cf740100 <class 'bytes'> 15739884 15743284 <class 'int'> CALL_REL32_32 | 40 <class 'bytes'>\n",
      "  new_ins :  e8a9e50100 \n",
      "\n"
     ]
    },
    {
     "name": "stderr",
     "output_type": "stream",
     "text": [
      "3788it [07:34,  2.42it/s]"
     ]
    },
    {
     "name": "stdout",
     "output_type": "stream",
     "text": [
      "0xf02bfc 0xf03947 call 00F1AD40h e83f810100 <class 'bytes'> 15739900 15743303 <class 'int'> CALL_REL32_32 | 40 <class 'bytes'>\n",
      "  new_ins :  e839f60100 \n",
      "\n"
     ]
    },
    {
     "name": "stderr",
     "output_type": "stream",
     "text": [
      "3794it [07:38,  2.13it/s]"
     ]
    },
    {
     "name": "stdout",
     "output_type": "stream",
     "text": [
      "0xf02c0e 0xf0395e call 00F1A230h e81d760100 <class 'bytes'> 15739918 15743326 <class 'int'> CALL_REL32_32 | 40 <class 'bytes'>\n",
      "  new_ins :  e88ae70100 \n",
      "\n"
     ]
    },
    {
     "name": "stderr",
     "output_type": "stream",
     "text": [
      "3800it [07:39,  2.36it/s]"
     ]
    },
    {
     "name": "stdout",
     "output_type": "stream",
     "text": [
      "0xf02c1f 0xf03974 call 00F12A40h e81cfe0000 <class 'bytes'> 15739935 15743348 <class 'int'> CALL_REL32_32 | 40 <class 'bytes'>\n",
      "  new_ins :  e843470100 \n",
      "\n"
     ]
    },
    {
     "name": "stderr",
     "output_type": "stream",
     "text": [
      "3806it [07:41,  2.58it/s]"
     ]
    },
    {
     "name": "stdout",
     "output_type": "stream",
     "text": [
      "0xf02c2c 0xf03986 call 00F12A40h e80ffe0000 <class 'bytes'> 15739948 15743366 <class 'int'> CALL_REL32_32 | 40 <class 'bytes'>\n",
      "  new_ins :  e831470100 \n",
      "\n",
      "0xf02c34 0xf03990 call 00F02470h e837f8ffff <class 'bytes'> 15739956 15743376 <class 'int'> CALL_REL32_32 | 40 <class 'bytes'>\n",
      "  new_ins :  e8faf5ffff \n",
      "\n",
      "0xf02c3e 0xf0399c jne short 00F02C5Ah 751a <class 'bytes'> 15739966 15743388 <class 'int'> JNE_REL8_32 | 40 <class 'bytes'>\n",
      "  new_ins :  7524 \n",
      "\n",
      "0xf02c42 0xf039a1 je short 00F02C4Eh 740a <class 'bytes'> 15739970 15743393 <class 'int'> JE_REL8_32 | 40 <class 'bytes'>\n",
      "  new_ins :  740d \n",
      "\n"
     ]
    },
    {
     "name": "stderr",
     "output_type": "stream",
     "text": [
      "3817it [07:45,  2.73it/s]"
     ]
    },
    {
     "name": "stdout",
     "output_type": "stream",
     "text": [
      "0xf02c46 0xf039a7 call 00F19DB0h e865710100 <class 'bytes'> 15739974 15743399 <class 'int'> CALL_REL32_32 | 40 <class 'bytes'>\n",
      "  new_ins :  e8e8e00100 \n",
      "\n"
     ]
    },
    {
     "name": "stderr",
     "output_type": "stream",
     "text": [
      "3835it [07:47,  4.27it/s]"
     ]
    },
    {
     "name": "stdout",
     "output_type": "stream",
     "text": [
      "0xf02c78 0xf039e9 call 00F12A40h e8c3fd0000 <class 'bytes'> 15740024 15743465 <class 'int'> CALL_REL32_32 | 40 <class 'bytes'>\n",
      "  new_ins :  e8ce460100 \n",
      "\n",
      "0xf02c82 0xf039f5 je short 00F02CCFh 744b <class 'bytes'> 15740034 15743477 <class 'int'> JE_REL8_32 | 40 <class 'bytes'>\n",
      "  new_ins :  7467 \n",
      "\n"
     ]
    },
    {
     "name": "stderr",
     "output_type": "stream",
     "text": [
      "3843it [07:50,  3.47it/s]"
     ]
    },
    {
     "name": "stdout",
     "output_type": "stream",
     "text": [
      "0xf02c8c 0xf03a03 call 00F19E50h e8bf710100 <class 'bytes'> 15740044 15743491 <class 'int'> CALL_REL32_32 | 40 <class 'bytes'>\n",
      "  new_ins :  e86be10100 \n",
      "\n"
     ]
    },
    {
     "name": "stderr",
     "output_type": "stream",
     "text": [
      "3866it [07:54,  4.64it/s]"
     ]
    },
    {
     "name": "stdout",
     "output_type": "stream",
     "text": [
      "0xf02cc3 0xf03a50 call 00F186D0h e8085a0100 <class 'bytes'> 15740099 15743568 <class 'int'> CALL_REL32_32 | 40 <class 'bytes'>\n",
      "  new_ins :  e8a3c10100 \n",
      "\n",
      "0xf02ccd 0xf03a5c jne short 00F02CE6h 7517 <class 'bytes'> 15740109 15743580 <class 'int'> JNE_REL8_32 | 40 <class 'bytes'>\n",
      "  new_ins :  7521 \n",
      "\n",
      "0xf02cd2 0xf03a64 call 00F02A60h e889fdffff <class 'bytes'> 15740114 15743588 <class 'int'> CALL_REL32_32 | 40 <class 'bytes'>\n",
      "  new_ins :  e8cefcffff \n",
      "\n",
      "0xf02ce8 0xf03a82 je short 00F02CF4h 740a <class 'bytes'> 15740136 15743618 <class 'int'> JE_REL8_32 | 40 <class 'bytes'>\n",
      "  new_ins :  740d \n",
      "\n"
     ]
    },
    {
     "name": "stderr",
     "output_type": "stream",
     "text": [
      "3886it [07:57,  4.91it/s]"
     ]
    },
    {
     "name": "stdout",
     "output_type": "stream",
     "text": [
      "0xf02cec 0xf03a88 call 00F19DB0h e8bf700100 <class 'bytes'> 15740140 15743624 <class 'int'> CALL_REL32_32 | 40 <class 'bytes'>\n",
      "  new_ins :  e807e00100 \n",
      "\n"
     ]
    },
    {
     "name": "stderr",
     "output_type": "stream",
     "text": [
      "3894it [07:58,  5.34it/s]"
     ]
    },
    {
     "name": "stdout",
     "output_type": "stream",
     "text": [
      "0xf02d02 0xf03aa5 call 00F0B140h e839840000 <class 'bytes'> 15740162 15743653 <class 'int'> CALL_REL32_32 | 40 <class 'bytes'>\n",
      "  new_ins :  e89aa90000 \n",
      "\n"
     ]
    },
    {
     "name": "stderr",
     "output_type": "stream",
     "text": [
      "3899it [08:01,  4.02it/s]"
     ]
    },
    {
     "name": "stdout",
     "output_type": "stream",
     "text": [
      "0xf02d0e 0xf03ab5 call 00F17E10h e8fd500100 <class 'bytes'> 15740174 15743669 <class 'int'> CALL_REL32_32 | 40 <class 'bytes'>\n",
      "  new_ins :  e8d9b40100 \n",
      "\n"
     ]
    },
    {
     "name": "stderr",
     "output_type": "stream",
     "text": [
      "3902it [08:05,  2.94it/s]"
     ]
    },
    {
     "name": "stdout",
     "output_type": "stream",
     "text": [
      "0xf02d16 0xf03abf call 00F186A0h e885590100 <class 'bytes'> 15740182 15743679 <class 'int'> CALL_REL32_32 | 40 <class 'bytes'>\n",
      "  new_ins :  e8f1c00100 \n",
      "\n",
      "0xf02d4e 0xf03b0c call 00F026D0h e87df9ffff <class 'bytes'> 15740238 15743756 <class 'int'> CALL_REL32_32 | 40 <class 'bytes'>\n",
      "  new_ins :  e89df7ffff \n",
      "\n"
     ]
    },
    {
     "name": "stderr",
     "output_type": "stream",
     "text": [
      "3973it [08:08,  8.66it/s]"
     ]
    },
    {
     "name": "stdout",
     "output_type": "stream",
     "text": [
      "0xf02e7a 0xf03c66 call 00F19E50h e8d16f0100 <class 'bytes'> 15740538 15744102 <class 'int'> CALL_REL32_32 | 40 <class 'bytes'>\n",
      "  new_ins :  e808df0100 \n",
      "\n"
     ]
    },
    {
     "name": "stderr",
     "output_type": "stream",
     "text": [
      "3979it [08:09,  8.61it/s]"
     ]
    },
    {
     "name": "stdout",
     "output_type": "stream",
     "text": [
      "0xf02e8b 0xf03c7c call 00F09030h e8a0610000 <class 'bytes'> 15740555 15744124 <class 'int'> CALL_REL32_32 | 40 <class 'bytes'>\n",
      "  new_ins :  e80a7d0000 \n",
      "\n"
     ]
    },
    {
     "name": "stderr",
     "output_type": "stream",
     "text": [
      "3985it [08:13,  5.76it/s]"
     ]
    },
    {
     "name": "stdout",
     "output_type": "stream",
     "text": [
      "0xf02e9d 0xf03c93 call 00F1A230h e88e730100 <class 'bytes'> 15740573 15744147 <class 'int'> CALL_REL32_32 | 40 <class 'bytes'>\n",
      "  new_ins :  e855e40100 \n",
      "\n",
      "0xf02eaa 0xf03ca3 call 00F025F0h e841f7ffff <class 'bytes'> 15740586 15744163 <class 'int'> CALL_REL32_32 | 40 <class 'bytes'>\n",
      "  new_ins :  e8e0f4ffff \n",
      "\n"
     ]
    },
    {
     "name": "stderr",
     "output_type": "stream",
     "text": [
      "3993it [08:17,  4.47it/s]"
     ]
    },
    {
     "name": "stdout",
     "output_type": "stream",
     "text": [
      "0xf02ebb 0xf03cb7 call 00F19E00h e8406f0100 <class 'bytes'> 15740603 15744183 <class 'int'> CALL_REL32_32 | 40 <class 'bytes'>\n",
      "  new_ins :  e848de0100 \n",
      "\n"
     ]
    },
    {
     "name": "stderr",
     "output_type": "stream",
     "text": [
      "3999it [08:17,  4.80it/s]"
     ]
    },
    {
     "name": "stdout",
     "output_type": "stream",
     "text": [
      "0xf02ecc 0xf03ccd call 00F09030h e85f610000 <class 'bytes'> 15740620 15744205 <class 'int'> CALL_REL32_32 | 40 <class 'bytes'>\n",
      "  new_ins :  e8b97c0000 \n",
      "\n"
     ]
    },
    {
     "name": "stderr",
     "output_type": "stream",
     "text": [
      "4006it [08:21,  3.59it/s]"
     ]
    },
    {
     "name": "stdout",
     "output_type": "stream",
     "text": [
      "0xf02ee1 0xf03ce8 call 00F1A230h e84a730100 <class 'bytes'> 15740641 15744232 <class 'int'> CALL_REL32_32 | 40 <class 'bytes'>\n",
      "  new_ins :  e800e40100 \n",
      "\n"
     ]
    },
    {
     "name": "stderr",
     "output_type": "stream",
     "text": [
      "4012it [08:25,  2.84it/s]"
     ]
    },
    {
     "name": "stdout",
     "output_type": "stream",
     "text": [
      "0xf02ef3 0xf03cff call 00F1A230h e838730100 <class 'bytes'> 15740659 15744255 <class 'int'> CALL_REL32_32 | 40 <class 'bytes'>\n",
      "  new_ins :  e8e9e30100 \n",
      "\n",
      "0xf02f00 0xf03d0f call 00F025F0h e8ebf6ffff <class 'bytes'> 15740672 15744271 <class 'int'> CALL_REL32_32 | 40 <class 'bytes'>\n",
      "  new_ins :  e874f4ffff \n",
      "\n"
     ]
    },
    {
     "name": "stderr",
     "output_type": "stream",
     "text": [
      "4022it [08:29,  2.75it/s]"
     ]
    },
    {
     "name": "stdout",
     "output_type": "stream",
     "text": [
      "0xf02f12 0xf03d26 call 00F1A230h e819730100 <class 'bytes'> 15740690 15744294 <class 'int'> CALL_REL32_32 | 40 <class 'bytes'>\n",
      "  new_ins :  e8c2e30100 \n",
      "\n",
      "0xf02f1f 0xf03d36 call 00F025F0h e8ccf6ffff <class 'bytes'> 15740703 15744310 <class 'int'> CALL_REL32_32 | 40 <class 'bytes'>\n",
      "  new_ins :  e84df4ffff \n",
      "\n"
     ]
    },
    {
     "name": "stderr",
     "output_type": "stream",
     "text": [
      "4030it [08:33,  2.56it/s]"
     ]
    },
    {
     "name": "stdout",
     "output_type": "stream",
     "text": [
      "0xf02f30 0xf03d4a call 00F19E00h e8cb6e0100 <class 'bytes'> 15740720 15744330 <class 'int'> CALL_REL32_32 | 40 <class 'bytes'>\n",
      "  new_ins :  e8b5dd0100 \n",
      "\n"
     ]
    },
    {
     "name": "stderr",
     "output_type": "stream",
     "text": [
      "4036it [08:33,  3.02it/s]"
     ]
    },
    {
     "name": "stdout",
     "output_type": "stream",
     "text": [
      "0xf02f41 0xf03d60 call 00F09030h e8ea600000 <class 'bytes'> 15740737 15744352 <class 'int'> CALL_REL32_32 | 40 <class 'bytes'>\n",
      "  new_ins :  e8267c0000 \n",
      "\n"
     ]
    },
    {
     "name": "stderr",
     "output_type": "stream",
     "text": [
      "4043it [08:37,  2.56it/s]"
     ]
    },
    {
     "name": "stdout",
     "output_type": "stream",
     "text": [
      "0xf02f56 0xf03d7b call 00F1A230h e8d5720100 <class 'bytes'> 15740758 15744379 <class 'int'> CALL_REL32_32 | 40 <class 'bytes'>\n",
      "  new_ins :  e86de30100 \n",
      "\n"
     ]
    },
    {
     "name": "stderr",
     "output_type": "stream",
     "text": [
      "4049it [08:41,  2.21it/s]"
     ]
    },
    {
     "name": "stdout",
     "output_type": "stream",
     "text": [
      "0xf02f68 0xf03d92 call 00F1A230h e8c3720100 <class 'bytes'> 15740776 15744402 <class 'int'> CALL_REL32_32 | 40 <class 'bytes'>\n",
      "  new_ins :  e856e30100 \n",
      "\n",
      "0xf02f75 0xf03da2 call 00F025F0h e876f6ffff <class 'bytes'> 15740789 15744418 <class 'int'> CALL_REL32_32 | 40 <class 'bytes'>\n",
      "  new_ins :  e8e1f3ffff \n",
      "\n"
     ]
    },
    {
     "name": "stderr",
     "output_type": "stream",
     "text": [
      "4059it [08:47,  2.06it/s]"
     ]
    },
    {
     "name": "stdout",
     "output_type": "stream",
     "text": [
      "0xf02f87 0xf03db9 call 00F1A230h e8a4720100 <class 'bytes'> 15740807 15744441 <class 'int'> CALL_REL32_32 | 40 <class 'bytes'>\n",
      "  new_ins :  e82fe30100 \n",
      "\n",
      "0xf02f94 0xf03dc9 call 00F025F0h e857f6ffff <class 'bytes'> 15740820 15744457 <class 'int'> CALL_REL32_32 | 40 <class 'bytes'>\n",
      "  new_ins :  e8baf3ffff \n",
      "\n"
     ]
    },
    {
     "name": "stderr",
     "output_type": "stream",
     "text": [
      "4067it [08:50,  2.09it/s]"
     ]
    },
    {
     "name": "stdout",
     "output_type": "stream",
     "text": [
      "0xf02fa5 0xf03ddd call 00F19E00h e8566e0100 <class 'bytes'> 15740837 15744477 <class 'int'> CALL_REL32_32 | 40 <class 'bytes'>\n",
      "  new_ins :  e822dd0100 \n",
      "\n"
     ]
    },
    {
     "name": "stderr",
     "output_type": "stream",
     "text": [
      "4072it [08:52,  2.30it/s]"
     ]
    },
    {
     "name": "stdout",
     "output_type": "stream",
     "text": [
      "0xf02fb4 0xf03df0 call 00F0F100h e847c10000 <class 'bytes'> 15740852 15744496 <class 'int'> CALL_REL32_32 | 40 <class 'bytes'>\n",
      "  new_ins :  e886f80000 \n",
      "\n"
     ]
    },
    {
     "name": "stderr",
     "output_type": "stream",
     "text": [
      "4076it [08:55,  1.88it/s]"
     ]
    },
    {
     "name": "stdout",
     "output_type": "stream",
     "text": [
      "0xf02fc3 0xf03e02 call 00F1A0C0h e8f8700100 <class 'bytes'> 15740867 15744514 <class 'int'> CALL_REL32_32 | 40 <class 'bytes'>\n",
      "  new_ins :  e8dbe00100 \n",
      "\n",
      "0xf02fce 0xf03e0f jbe short 00F03025h 7655 <class 'bytes'> 15740878 15744527 <class 'int'> JBE_REL8_32 | 40 <class 'bytes'>\n",
      "  new_ins :  766d \n",
      "\n"
     ]
    },
    {
     "name": "stderr",
     "output_type": "stream",
     "text": [
      "4089it [08:59,  2.38it/s]"
     ]
    },
    {
     "name": "stdout",
     "output_type": "stream",
     "text": [
      "0xf02fe9 0xf03e33 call 00F1A230h e842720100 <class 'bytes'> 15740905 15744563 <class 'int'> CALL_REL32_32 | 40 <class 'bytes'>\n",
      "  new_ins :  e8b5e20100 \n",
      "\n",
      "0xf02ff6 0xf03e43 call 00F025F0h e8f5f5ffff <class 'bytes'> 15740918 15744579 <class 'int'> CALL_REL32_32 | 40 <class 'bytes'>\n",
      "  new_ins :  e840f3ffff \n",
      "\n"
     ]
    },
    {
     "name": "stderr",
     "output_type": "stream",
     "text": [
      "4101it [09:03,  2.61it/s]"
     ]
    },
    {
     "name": "stdout",
     "output_type": "stream",
     "text": [
      "0xf0300f 0xf03e63 call 00F1A230h e81c720100 <class 'bytes'> 15740943 15744611 <class 'int'> CALL_REL32_32 | 40 <class 'bytes'>\n",
      "  new_ins :  e885e20100 \n",
      "\n",
      "0xf0301c 0xf03e73 call 00F025F0h e8cff5ffff <class 'bytes'> 15740956 15744627 <class 'int'> CALL_REL32_32 | 40 <class 'bytes'>\n",
      "  new_ins :  e810f3ffff \n",
      "\n"
     ]
    },
    {
     "name": "stderr",
     "output_type": "stream",
     "text": [
      "4111it [09:07,  2.63it/s]"
     ]
    },
    {
     "name": "stdout",
     "output_type": "stream",
     "text": [
      "0xf03031 0xf03e8d call 00F19E00h e8ca6d0100 <class 'bytes'> 15740977 15744653 <class 'int'> CALL_REL32_32 | 40 <class 'bytes'>\n",
      "  new_ins :  e872dc0100 \n",
      "\n",
      "0xf03041 0xf03ea0 je short 00F03068h 7425 <class 'bytes'> 15740993 15744672 <class 'int'> JE_REL8_32 | 40 <class 'bytes'>\n",
      "  new_ins :  742e \n",
      "\n",
      "0xf03047 0xf03ea7 je short 00F03068h 741f <class 'bytes'> 15740999 15744679 <class 'int'> JE_REL8_32 | 40 <class 'bytes'>\n",
      "  new_ins :  7427 \n",
      "\n"
     ]
    },
    {
     "name": "stderr",
     "output_type": "stream",
     "text": [
      "4119it [09:11,  2.47it/s]"
     ]
    },
    {
     "name": "stdout",
     "output_type": "stream",
     "text": [
      "0xf0304a 0xf03eab call 00F1A0C0h e871700100 <class 'bytes'> 15741002 15744683 <class 'int'> CALL_REL32_32 | 40 <class 'bytes'>\n",
      "  new_ins :  e832e00100 \n",
      "\n"
     ]
    },
    {
     "name": "stderr",
     "output_type": "stream",
     "text": [
      "4126it [09:14,  2.30it/s]"
     ]
    },
    {
     "name": "stdout",
     "output_type": "stream",
     "text": [
      "0xf03060 0xf03ec7 call 00F19DD0h e86b6d0100 <class 'bytes'> 15741024 15744711 <class 'int'> CALL_REL32_32 | 40 <class 'bytes'>\n",
      "  new_ins :  e8f5db0100 \n",
      "\n"
     ]
    },
    {
     "name": "stderr",
     "output_type": "stream",
     "text": [
      "4133it [09:18,  2.15it/s]"
     ]
    },
    {
     "name": "stdout",
     "output_type": "stream",
     "text": [
      "0xf03075 0xf03ee2 call 00F1A230h e8b6710100 <class 'bytes'> 15741045 15744738 <class 'int'> CALL_REL32_32 | 40 <class 'bytes'>\n",
      "  new_ins :  e806e20100 \n",
      "\n"
     ]
    },
    {
     "name": "stderr",
     "output_type": "stream",
     "text": [
      "4167it [09:22,  5.06it/s]"
     ]
    },
    {
     "name": "stdout",
     "output_type": "stream",
     "text": [
      "0xf03087 0xf03ef9 call 00F1A230h e8a4710100 <class 'bytes'> 15741063 15744761 <class 'int'> CALL_REL32_32 | 40 <class 'bytes'>\n",
      "  new_ins :  e8efe10100 \n",
      "\n",
      "0xf03094 0xf03f09 call 00F025F0h e857f5ffff <class 'bytes'> 15741076 15744777 <class 'int'> CALL_REL32_32 | 40 <class 'bytes'>\n",
      "  new_ins :  e87af2ffff \n",
      "\n",
      "0xf0309a 0xf03f10 call 00F027B0h e811f7ffff <class 'bytes'> 15741082 15744784 <class 'int'> CALL_REL32_32 | 40 <class 'bytes'>\n",
      "  new_ins :  e8bbf4ffff \n",
      "\n",
      "0xf030c2 0xf03f45 je near ptr 00F0316Ah 0f84a2000000 <class 'bytes'> 15741122 15744837 <class 'int'> JE_REL32_32 | 40 <class 'bytes'>\n",
      "  new_ins :  0f84c2000000 \n",
      "\n",
      "0xf030d5 0xf03f5b je short 00F030DFh 7408 <class 'bytes'> 15741141 15744859 <class 'int'> JE_REL8_32 | 40 <class 'bytes'>\n",
      "  new_ins :  7409 \n",
      "\n",
      "0xf030dd 0xf03f64 jne short 00F030F0h 7511 <class 'bytes'> 15741149 15744868 <class 'int'> JNE_REL8_32 | 40 <class 'bytes'>\n",
      "  new_ins :  7513 \n",
      "\n",
      "0xf030e6 0xf03f6e jbe short 00F03102h 761a <class 'bytes'> 15741158 15744878 <class 'int'> JBE_REL8_32 | 40 <class 'bytes'>\n",
      "  new_ins :  761f \n",
      "\n",
      "0xf030ee 0xf03f77 je short 00F03102h 7412 <class 'bytes'> 15741166 15744887 <class 'int'> JE_REL8_32 | 40 <class 'bytes'>\n",
      "  new_ins :  7416 \n",
      "\n"
     ]
    },
    {
     "name": "stderr",
     "output_type": "stream",
     "text": [
      "4197it [09:23,  9.47it/s]"
     ]
    },
    {
     "name": "stdout",
     "output_type": "stream",
     "text": [
      "0xf030f4 0xf03f7f call 00F0C270h e877910000 <class 'bytes'> 15741172 15744895 <class 'int'> CALL_REL32_32 | 40 <class 'bytes'>\n",
      "  new_ins :  e8c2ba0000 \n",
      "\n",
      "0xf03105 0xf03f93 jne short 00F03139h 7532 <class 'bytes'> 15741189 15744915 <class 'int'> JNE_REL8_32 | 40 <class 'bytes'>\n",
      "  new_ins :  753c \n",
      "\n",
      "0xf0310a 0xf03f99 jne short 00F03139h 752d <class 'bytes'> 15741194 15744921 <class 'int'> JNE_REL8_32 | 40 <class 'bytes'>\n",
      "  new_ins :  7536 \n",
      "\n",
      "0xf03116 0xf03fa6 jbe short 00F03139h 7621 <class 'bytes'> 15741206 15744934 <class 'int'> JBE_REL8_32 | 40 <class 'bytes'>\n",
      "  new_ins :  7629 \n",
      "\n",
      "0xf0312e 0xf03fc4 call 00F03E10h e8dd0c0000 <class 'bytes'> 15741230 15744964 <class 'int'> CALL_REL32_32 | 40 <class 'bytes'>\n",
      "  new_ins :  e848100000 \n",
      "\n",
      "0xf0313f 0xf03fd8 je short 00F03151h 7410 <class 'bytes'> 15741247 15744984 <class 'int'> JE_REL8_32 | 40 <class 'bytes'>\n",
      "  new_ins :  7414 \n",
      "\n",
      "0xf03149 0xf03fe5 call 00F03930h e8e2070000 <class 'bytes'> 15741257 15744997 <class 'int'> CALL_REL32_32 | 40 <class 'bytes'>\n",
      "  new_ins :  e8ef090000 \n",
      "\n",
      "0xf03155 0xf03ff3 jl short 00F03169h 7c12 <class 'bytes'> 15741269 15745011 <class 'int'> JL_REL8_32 | 40 <class 'bytes'>\n",
      "  new_ins :  7c16 \n",
      "\n",
      "0xf03161 0xf04002 call 00F02100h e89aefffff <class 'bytes'> 15741281 15745026 <class 'int'> CALL_REL32_32 | 40 <class 'bytes'>\n",
      "  new_ins :  e837ebffff \n",
      "\n"
     ]
    },
    {
     "name": "stderr",
     "output_type": "stream",
     "text": [
      "4226it [09:25, 11.46it/s]"
     ]
    },
    {
     "name": "stdout",
     "output_type": "stream",
     "text": [
      "0xf0318f 0xf04042 call 00F12E40h e8acfc0000 <class 'bytes'> 15741327 15745090 <class 'int'> CALL_REL32_32 | 40 <class 'bytes'>\n",
      "  new_ins :  e8ba450100 \n",
      "\n",
      "0xf0319c 0xf04052 je near ptr 00F0325Dh 0f84bb000000 <class 'bytes'> 15741340 15745106 <class 'int'> JE_REL32_32 | 40 <class 'bytes'>\n",
      "  new_ins :  0f84dc000000 \n",
      "\n",
      "0xf031b2 0xf0406b je short 00F031A2h 74ee <class 'bytes'> 15741362 15745131 <class 'int'> JE_REL8_32 | 40 <class 'bytes'>\n",
      "  new_ins :  74eb \n",
      "\n",
      "0xf031c0 0xf0407b je short 00F031CAh 7408 <class 'bytes'> 15741376 15745147 <class 'int'> JE_REL8_32 | 40 <class 'bytes'>\n",
      "  new_ins :  7409 \n",
      "\n",
      "0xf031c8 0xf04084 jne short 00F031DBh 7511 <class 'bytes'> 15741384 15745156 <class 'int'> JNE_REL8_32 | 40 <class 'bytes'>\n",
      "  new_ins :  7513 \n",
      "\n",
      "0xf031d1 0xf0408e jbe short 00F031EDh 761a <class 'bytes'> 15741393 15745166 <class 'int'> JBE_REL8_32 | 40 <class 'bytes'>\n",
      "  new_ins :  761f \n",
      "\n",
      "0xf031d9 0xf04097 je short 00F031EDh 7412 <class 'bytes'> 15741401 15745175 <class 'int'> JE_REL8_32 | 40 <class 'bytes'>\n",
      "  new_ins :  7416 \n",
      "\n"
     ]
    },
    {
     "name": "stderr",
     "output_type": "stream",
     "text": [
      "4270it [09:26, 19.20it/s]"
     ]
    },
    {
     "name": "stdout",
     "output_type": "stream",
     "text": [
      "0xf031df 0xf0409f call 00F0C270h e88c900000 <class 'bytes'> 15741407 15745183 <class 'int'> CALL_REL32_32 | 40 <class 'bytes'>\n",
      "  new_ins :  e8a2b90000 \n",
      "\n",
      "0xf031f0 0xf040b3 jne short 00F03224h 7532 <class 'bytes'> 15741424 15745203 <class 'int'> JNE_REL8_32 | 40 <class 'bytes'>\n",
      "  new_ins :  753c \n",
      "\n",
      "0xf031f5 0xf040b9 jne short 00F03224h 752d <class 'bytes'> 15741429 15745209 <class 'int'> JNE_REL8_32 | 40 <class 'bytes'>\n",
      "  new_ins :  7536 \n",
      "\n",
      "0xf03201 0xf040c6 jbe short 00F03224h 7621 <class 'bytes'> 15741441 15745222 <class 'int'> JBE_REL8_32 | 40 <class 'bytes'>\n",
      "  new_ins :  7629 \n",
      "\n",
      "0xf03219 0xf040e4 call 00F03E10h e8f20b0000 <class 'bytes'> 15741465 15745252 <class 'int'> CALL_REL32_32 | 40 <class 'bytes'>\n",
      "  new_ins :  e8280f0000 \n",
      "\n",
      "0xf0322a 0xf040f8 je short 00F0323Ch 7410 <class 'bytes'> 15741482 15745272 <class 'int'> JE_REL8_32 | 40 <class 'bytes'>\n",
      "  new_ins :  7414 \n",
      "\n",
      "0xf03234 0xf04105 call 00F03930h e8f7060000 <class 'bytes'> 15741492 15745285 <class 'int'> CALL_REL32_32 | 40 <class 'bytes'>\n",
      "  new_ins :  e8cf080000 \n",
      "\n",
      "0xf03240 0xf04113 jl near ptr 00F031A2h 0f8c5cffffff <class 'bytes'> 15741504 15745299 <class 'int'> JL_REL32_32 | 40 <class 'bytes'>\n",
      "  new_ins :  0f8c3fffffff \n",
      "\n",
      "0xf03250 0xf04126 call 00F02100h e8abeeffff <class 'bytes'> 15741520 15745318 <class 'int'> CALL_REL32_32 | 40 <class 'bytes'>\n",
      "  new_ins :  e813eaffff \n",
      "\n",
      "0xf03258 0xf0412f jmp near ptr 00F031A2h e945ffffff <class 'bytes'> 15741528 15745327 "
     ]
    },
    {
     "name": "stderr",
     "output_type": "stream",
     "text": [
      "4285it [09:27, 24.20it/s]"
     ]
    },
    {
     "name": "stdout",
     "output_type": "stream",
     "text": [
      "<class 'int'> JMP_REL32_32 | 40 <class 'bytes'>\n",
      "  new_ins :  e924ffffff \n",
      "\n",
      "0xf03263 0xf0413f jbe short 00F0322Fh 76ca <class 'bytes'> 15741539 15745343 <class 'int'> JBE_REL8_32 | 40 <class 'bytes'>\n",
      "  new_ins :  76bf \n",
      "\n",
      "0xf0327f 0xf04165 jne short 00F03289h 7508 <class 'bytes'> 15741567 15745381 <class 'int'> JNE_REL8_32 | 40 <class 'bytes'>\n",
      "  new_ins :  750b \n",
      "\n",
      "0xf03290 0xf0417a jne short 00F03281h 75ef <class 'bytes'> 15741584 15745402 <class 'int'> JNE_REL8_32 | 40 <class 'bytes'>\n",
      "  new_ins :  75eb \n",
      "\n"
     ]
    },
    {
     "name": "stderr",
     "output_type": "stream",
     "text": [
      "4312it [09:28, 19.44it/s]"
     ]
    },
    {
     "name": "stdout",
     "output_type": "stream",
     "text": [
      "0xf032aa 0xf0419c call 00F12E40h e891fb0000 <class 'bytes'> 15741610 15745436 <class 'int'> CALL_REL32_32 | 40 <class 'bytes'>\n",
      "  new_ins :  e860440100 \n",
      "\n",
      "0xf032b6 0xf041ab je short 00F032D5h 741d <class 'bytes'> 15741622 15745451 <class 'int'> JE_REL8_32 | 40 <class 'bytes'>\n",
      "  new_ins :  7428 \n",
      "\n"
     ]
    },
    {
     "name": "stderr",
     "output_type": "stream",
     "text": [
      "4321it [09:33,  8.38it/s]"
     ]
    },
    {
     "name": "stdout",
     "output_type": "stream",
     "text": [
      "0xf032bd 0xf041b5 call 00F1D1A5h e8e39e0100 <class 'bytes'> 15741629 15745461 <class 'int'> CALL_REL32_32 | 40 <class 'bytes'>\n",
      "  new_ins :  e8e9190200 \n",
      "\n",
      "0xf03301 0xf04216 je short 00F03356h 7453 <class 'bytes'> 15741697 15745558 <class 'int'> JE_REL8_32 | 40 <class 'bytes'>\n",
      "  new_ins :  746a \n",
      "\n",
      "0xf03306 0xf0421c je short 00F03356h 744e <class 'bytes'> 15741702 15745564 <class 'int'> JE_REL8_32 | 40 <class 'bytes'>\n",
      "  new_ins :  7464 \n",
      "\n",
      "0xf0330e 0xf04226 ja short 00F03321h 7711 <class 'bytes'> 15741710 15745574 <class 'int'> JA_REL8_32 | 40 <class 'bytes'>\n",
      "  new_ins :  7718 \n",
      "\n"
     ]
    },
    {
     "name": "stderr",
     "output_type": "stream",
     "text": [
      "4362it [09:37,  9.52it/s]"
     ]
    },
    {
     "name": "stdout",
     "output_type": "stream",
     "text": [
      "0xf03314 0xf0422f call 00F19DD0h e8b76a0100 <class 'bytes'> 15741716 15745583 <class 'int'> CALL_REL32_32 | 40 <class 'bytes'>\n",
      "  new_ins :  e88dd80100 \n",
      "\n",
      "0xf0331f 0xf0423e jmp short 00F0336Bh eb4a <class 'bytes'> 15741727 15745598 <class 'int'> JMP_REL8_32 | 40 <class 'bytes'>\n",
      "  new_ins :  eb5e \n",
      "\n",
      "0xf03324 0xf04244 jne short 00F0333Fh 7519 <class 'bytes'> 15741732 15745604 <class 'int'> JNE_REL8_32 | 40 <class 'bytes'>\n",
      "  new_ins :  7521 \n",
      "\n",
      "0xf03328 0xf04249 je near ptr 00F034D7h 0f84a9010000 <class 'bytes'> 15741736 15745609 <class 'int'> JE_REL32_32 | 40 <class 'bytes'>\n",
      "  new_ins :  0f84f9010000 \n",
      "\n",
      "0xf03330 0xf04252 je near ptr 00F034A6h 0f8470010000 <class 'bytes'> 15741744 15745618 <class 'int'> JE_REL32_32 | 40 <class 'bytes'>\n",
      "  new_ins :  0f84b5010000 \n",
      "\n",
      "0xf03342 0xf0426b je near ptr 00F03471h 0f8429010000 <class 'bytes'> 15741762 15745643 <class 'int'> JE_REL32_32 | 40 <class 'bytes'>\n",
      "  new_ins :  0f845c010000 \n",
      "\n",
      "0xf0334b 0xf04275 je short 00F03356h 7409 <class 'bytes'> 15741771 15745653 <class 'int'> JE_REL8_32 | 40 <class 'bytes'>\n",
      "  new_ins :  740b \n",
      "\n",
      "0xf03350 0xf0427b jne short 00F0337Ch 752a <class 'bytes'> 15741776 15745659 <class 'int'> JNE_REL8_32 | 40 <class 'bytes'>\n",
      "  new_ins :  7534 \n",
      "\n",
      "0xf03354 0xf04280 jne short 00F03336h 75e0 <class 'bytes'> 15741780 15745664 <class 'int'> JNE_REL8_32 | 40 <class 'bytes'>\n",
      "  new_ins :  75d6 \n",
      "\n"
     ]
    },
    {
     "name": "stderr",
     "output_type": "stream",
     "text": [
      "4392it [09:40,  8.94it/s]"
     ]
    },
    {
     "name": "stdout",
     "output_type": "stream",
     "text": [
      "0xf0335a 0xf04289 call 00F19DD0h e8716a0100 <class 'bytes'> 15741786 15745673 <class 'int'> CALL_REL32_32 | 40 <class 'bytes'>\n",
      "  new_ins :  e833d80100 \n",
      "\n",
      "0xf0336e 0xf042a2 jae near ptr 00F03550h 0f83dc010000 <class 'bytes'> 15741806 15745698 <class 'int'> JAE_REL32_32 | 40 <class 'bytes'>\n",
      "  new_ins :  0f8338020000 \n",
      "\n",
      "0xf03377 0xf042ac jmp near ptr 00F032F1h e975ffffff <class 'bytes'> 15741815 15745708 <class 'int'> JMP_REL32_32 | 40 <class 'bytes'>\n",
      "  new_ins :  e950ffffff \n",
      "\n",
      "0xf0337f 0xf042b5 jne short 00F0339Ch 751b <class 'bytes'> 15741823 15745717 <class 'int'> JNE_REL8_32 | 40 <class 'bytes'>\n",
      "  new_ins :  7523 \n",
      "\n",
      "0xf03383 0xf042ba jne short 00F03336h 75b1 <class 'bytes'> 15741827 15745722 <class 'int'> JNE_REL8_32 | 40 <class 'bytes'>\n",
      "  new_ins :  759c \n",
      "\n"
     ]
    },
    {
     "name": "stderr",
     "output_type": "stream",
     "text": [
      "4427it [09:44,  9.76it/s]"
     ]
    },
    {
     "name": "stdout",
     "output_type": "stream",
     "text": [
      "0xf03389 0xf042c3 call 00F19DD0h e8426a0100 <class 'bytes'> 15741833 15745731 <class 'int'> CALL_REL32_32 | 40 <class 'bytes'>\n",
      "  new_ins :  e8f9d70100 \n",
      "\n",
      "0xf0339a 0xf042d8 jmp short 00F0336Bh ebcf <class 'bytes'> 15741850 15745752 <class 'int'> JMP_REL8_32 | 40 <class 'bytes'>\n",
      "  new_ins :  ebc4 \n",
      "\n",
      "0xf0339f 0xf042de jne short 00F033B0h 750f <class 'bytes'> 15741855 15745758 <class 'int'> JNE_REL8_32 | 40 <class 'bytes'>\n",
      "  new_ins :  7511 \n",
      "\n",
      "0xf033a5 0xf042e6 ja near ptr 00F03517h 0f876c010000 <class 'bytes'> 15741861 15745766 <class 'int'> JA_REL32_32 | 40 <class 'bytes'>\n",
      "  new_ins :  0f87ac010000 \n",
      "\n",
      "0xf033ab 0xf042ec jmp near ptr 00F034F5h e945010000 <class 'bytes'> 15741867 15745772 <class 'int'> JMP_REL32_32 | 40 <class 'bytes'>\n",
      "  new_ins :  e97d010000 \n",
      "\n",
      "0xf033b3 0xf042f5 jne near ptr 00F0343Ah 0f8581000000 <class 'bytes'> 15741875 15745781 <class 'int'> JNE_REL32_32 | 40 <class 'bytes'>\n",
      "  new_ins :  0f8591000000 \n",
      "\n",
      "0xf033bb 0xf042fe je near ptr 00F03517h 0f8456010000 <class 'bytes'> 15741883 15745790 <class 'int'> JE_REL32_32 | 40 <class 'bytes'>\n",
      "  new_ins :  0f8494010000 \n",
      "\n",
      "0xf033c3 0xf04307 je near ptr 00F03517h 0f844e010000 <class 'bytes'> 15741891 15745799 <class 'int'> JE_REL32_32 | 40 <class 'bytes'>\n",
      "  new_ins :  0f848b010000 \n",
      "\n",
      "0xf033cb 0xf04310 je near ptr 00F03517h 0f8446010000 <class 'bytes'> 15741899 15745808 <class 'int'> JE_REL32_32 | 40 <class 'bytes'>\n",
      "  new_ins :  0f8482010000 \n",
      "\n",
      "0xf033d3 0xf04319 je near ptr 00F03517h 0f843e010000 <class 'bytes'> 15741907 15745817 <class 'int'> JE_REL32_32 | 40 <class 'bytes'>\n",
      "  new_ins :  0f8479010000 \n",
      "\n",
      "0xf033db 0xf04322 je near ptr 00F03517h 0f8436010000 <class 'bytes'> 15741915 15745826 <class 'int'> JE_REL32_32 | 40 <class 'bytes'>\n",
      "  new_ins :  0f8470010000 \n",
      "\n",
      "0xf033e3 0xf0432b je near ptr 00F03356h 0f846dffffff <class 'bytes'> 15741923 15745835 <class 'int'> JE_REL32_32 | 40 <class 'bytes'>\n",
      "  new_ins :  0f8451ffffff \n",
      "\n",
      "0xf033eb 0xf04334 je near ptr 00F03356h 0f8465ffffff <class 'bytes'> 15741931 15745844 <class 'int'> JE_REL32_32 | 40 <class 'bytes'>\n",
      "  new_ins :  0f8448ffffff \n",
      "\n",
      "0xf033f3 0xf0433d je near ptr 00F03356h 0f845dffffff <class 'bytes'> 15741939 15745853 <class 'int'> JE_REL32_32 | 40 <class 'bytes'>\n",
      "  new_ins :  0f843fffffff \n",
      "\n",
      "0xf033fb 0xf04346 je near ptr 00F03356h 0f8455ffffff <class 'bytes'> 15741947 15745862 <class 'int'> JE_REL32_32 | 40 <class 'bytes'>\n",
      "  new_ins :  0f8436ffffff \n",
      "\n",
      "0xf03403 0xf0434f je near ptr 00F03356h 0f844dffffff <class 'bytes'> 15741955 15745871 <class 'int'> JE_REL32_32 | 40 <class 'bytes'>\n",
      "  new_ins :  0f842dffffff \n",
      "\n"
     ]
    },
    {
     "name": "stderr",
     "output_type": "stream",
     "text": [
      "4457it [09:44, 15.86it/s]"
     ]
    },
    {
     "name": "stdout",
     "output_type": "stream",
     "text": [
      "0xf0340b 0xf04358 je near ptr 00F03356h 0f8445ffffff <class 'bytes'> 15741963 15745880 <class 'int'> JE_REL32_32 | 40 <class 'bytes'>\n",
      "  new_ins :  0f8424ffffff \n",
      "\n",
      "0xf03413 0xf04361 je near ptr 00F03356h 0f843dffffff <class 'bytes'> 15741971 15745889 <class 'int'> JE_REL32_32 | 40 <class 'bytes'>\n",
      "  new_ins :  0f841bffffff \n",
      "\n",
      "0xf0341b 0xf0436a je near ptr 00F03356h 0f8435ffffff <class 'bytes'> 15741979 15745898 <class 'int'> JE_REL32_32 | 40 <class 'bytes'>\n",
      "  new_ins :  0f8412ffffff \n",
      "\n",
      "0xf03423 0xf04373 je near ptr 00F03356h 0f842dffffff <class 'bytes'> 15741987 15745907 <class 'int'> JE_REL32_32 | 40 <class 'bytes'>\n",
      "  new_ins :  0f8409ffffff \n",
      "\n",
      "0xf0342b 0xf0437c je near ptr 00F03356h 0f8425ffffff <class 'bytes'> 15741995 15745916 <class 'int'> JE_REL32_32 | 40 <class 'bytes'>\n",
      "  new_ins :  0f8400ffffff \n",
      "\n",
      "0xf03433 0xf04385 jne short 00F03444h 750f <class 'bytes'> 15742003 15745925 <class 'int'> JNE_REL8_32 | 40 <class 'bytes'>\n",
      "  new_ins :  7511 \n",
      "\n",
      "0xf03435 0xf04387 jmp near ptr 00F03356h e91cffffff <class 'bytes'> 15742005 15745927 <class 'int'> JMP_REL32_32 | 40 <class 'bytes'>\n",
      "  new_ins :  e9f6feffff \n",
      "\n",
      "0xf0343d 0xf04390 je short 00F03444h 7405 <class 'bytes'> 15742013 15745936 <class 'int'> JE_REL8_32 | 40 <class 'bytes'>\n",
      "  new_ins :  7406 \n",
      "\n",
      "0xf03442 0xf04396 jne short 00F03456h 7512 <class 'bytes'> 15742018 15745942 <class 'int'> JNE_REL8_32 | 40 <class 'bytes'>\n",
      "  new_ins :  7515 \n",
      "\n",
      "0xf03446 0xf0439b je short 00F0344Ch 7404 <class 'bytes'> 15742022 15745947 <class 'int'> JE_REL8_32 | 40 <class 'bytes'>\n",
      "  new_ins :  7405 \n",
      "\n",
      "0xf0344a 0xf043a0 jne short 00F03456h 750a <class 'bytes'> 15742026 15745952 <class 'int'> JNE_REL8_32 | 40 <class 'bytes'>\n",
      "  new_ins :  750b \n",
      "\n",
      "0xf03450 0xf043a7 je near ptr 00F034F5h 0f849f000000 <class 'bytes'> 15742032 15745959 <class 'int'> JE_REL32_32 | 40 <class 'bytes'>\n",
      "  new_ins :  0f84c1000000 \n",
      "\n",
      "0xf03459 0xf043b1 jne short 00F03462h 7507 <class 'bytes'> 15742041 15745969 <class 'int'> JNE_REL8_32 | 40 <class 'bytes'>\n",
      "  new_ins :  7508 \n",
      "\n",
      "0xf0345d 0xf043b6 jmp near ptr 00F03511h e9af000000 <class 'bytes'> 15742045 15745974 <class 'int'> JMP_REL32_32 | 40 <class 'bytes'>\n",
      "  new_ins :  e9d7000000 \n",
      "\n",
      "0xf03465 0xf043bf je short 00F03471h 740a <class 'bytes'> 15742053 15745983 <class 'int'> JE_REL8_32 | 40 <class 'bytes'>\n",
      "  new_ins :  740c \n",
      "\n"
     ]
    },
    {
     "name": "stderr",
     "output_type": "stream",
     "text": [
      "4473it [09:44, 21.02it/s]"
     ]
    },
    {
     "name": "stdout",
     "output_type": "stream",
     "text": [
      "0xf0346a 0xf043c5 je short 00F03471h 7405 <class 'bytes'> 15742058 15745989 <class 'int'> JE_REL8_32 | 40 <class 'bytes'>\n",
      "  new_ins :  7406 \n",
      "\n",
      "0xf0346f 0xf043cb jne short 00F0348Bh 751a <class 'bytes'> 15742063 15745995 <class 'int'> JNE_REL8_32 | 40 <class 'bytes'>\n",
      "  new_ins :  7521 \n",
      "\n"
     ]
    },
    {
     "name": "stderr",
     "output_type": "stream",
     "text": [
      "4486it [09:48,  9.58it/s]"
     ]
    },
    {
     "name": "stdout",
     "output_type": "stream",
     "text": [
      "0xf03475 0xf043d4 call 00F19DD0h e856690100 <class 'bytes'> 15742069 15746004 <class 'int'> CALL_REL32_32 | 40 <class 'bytes'>\n",
      "  new_ins :  e8e8d60100 \n",
      "\n",
      "0xf03486 0xf043e9 jmp near ptr 00F0336Bh e9e0feffff <class 'bytes'> 15742086 15746025 <class 'int'> JMP_REL32_32 | 40 <class 'bytes'>\n",
      "  new_ins :  e9b0feffff \n",
      "\n",
      "0xf0348e 0xf043f2 je near ptr 00F03531h 0f849d000000 <class 'bytes'> 15742094 15746034 <class 'int'> JE_REL32_32 | 40 <class 'bytes'>\n",
      "  new_ins :  0f84c1000000 \n",
      "\n",
      "0xf03497 0xf043fc je near ptr 00F03586h 0f84e9000000 <class 'bytes'> 15742103 15746044 <class 'int'> JE_REL32_32 | 40 <class 'bytes'>\n",
      "  new_ins :  0f8429010000 \n",
      "\n",
      "0xf034a0 0xf04406 jne short 00F034CAh 7528 <class 'bytes'> 15742112 15746054 <class 'int'> JNE_REL8_32 | 40 <class 'bytes'>\n",
      "  new_ins :  7531 \n",
      "\n",
      "0xf034a4 0xf0440b jne short 00F034C0h 751a <class 'bytes'> 15742116 15746059 <class 'int'> JNE_REL8_32 | 40 <class 'bytes'>\n",
      "  new_ins :  7521 \n",
      "\n"
     ]
    },
    {
     "name": "stderr",
     "output_type": "stream",
     "text": [
      "4495it [09:52,  6.14it/s]"
     ]
    },
    {
     "name": "stdout",
     "output_type": "stream",
     "text": [
      "0xf034aa 0xf04414 call 00F19DD0h e821690100 <class 'bytes'> 15742122 15746068 <class 'int'> CALL_REL32_32 | 40 <class 'bytes'>\n",
      "  new_ins :  e8a8d60100 \n",
      "\n",
      "0xf034bb 0xf04429 jmp near ptr 00F0336Bh e9abfeffff <class 'bytes'> 15742139 15746089 <class 'int'> JMP_REL32_32 | 40 <class 'bytes'>\n",
      "  new_ins :  e970feffff \n",
      "\n",
      "0xf034c2 0xf04431 jne near ptr 00F03336h 0f856efeffff <class 'bytes'> 15742146 15746097 <class 'int'> JNE_REL32_32 | 40 <class 'bytes'>\n",
      "  new_ins :  0f8521feffff \n",
      "\n",
      "0xf034c8 0xf04437 jmp short 00F034F5h eb2b <class 'bytes'> 15742152 15746103 <class 'int'> JMP_REL8_32 | 40 <class 'bytes'>\n",
      "  new_ins :  eb35 \n",
      "\n",
      "0xf034cd 0xf0443d jne near ptr 00F03336h 0f8563feffff <class 'bytes'> 15742157 15746109 <class 'int'> JNE_REL32_32 | 40 <class 'bytes'>\n",
      "  new_ins :  0f8515feffff \n",
      "\n",
      "0xf034d5 0xf04446 jne short 00F034F1h 751a <class 'bytes'> 15742165 15746118 <class 'int'> JNE_REL8_32 | 40 <class 'bytes'>\n",
      "  new_ins :  7521 \n",
      "\n"
     ]
    },
    {
     "name": "stderr",
     "output_type": "stream",
     "text": [
      "4511it [09:55,  5.40it/s]"
     ]
    },
    {
     "name": "stdout",
     "output_type": "stream",
     "text": [
      "0xf034db 0xf0444f call 00F19DD0h e8f0680100 <class 'bytes'> 15742171 15746127 <class 'int'> CALL_REL32_32 | 40 <class 'bytes'>\n",
      "  new_ins :  e86dd60100 \n",
      "\n",
      "0xf034ec 0xf04464 jmp near ptr 00F0336Bh e97afeffff <class 'bytes'> 15742188 15746148 <class 'int'> JMP_REL32_32 | 40 <class 'bytes'>\n",
      "  new_ins :  e935feffff \n",
      "\n",
      "0xf034f3 0xf0446c jne short 00F0350Fh 751a <class 'bytes'> 15742195 15746156 <class 'int'> JNE_REL8_32 | 40 <class 'bytes'>\n",
      "  new_ins :  7521 \n",
      "\n"
     ]
    },
    {
     "name": "stderr",
     "output_type": "stream",
     "text": [
      "4522it [09:59,  4.52it/s]"
     ]
    },
    {
     "name": "stdout",
     "output_type": "stream",
     "text": [
      "0xf034f9 0xf04475 call 00F19DD0h e8d2680100 <class 'bytes'> 15742201 15746165 <class 'int'> CALL_REL32_32 | 40 <class 'bytes'>\n",
      "  new_ins :  e847d60100 \n",
      "\n",
      "0xf0350a 0xf0448a jmp near ptr 00F0336Bh e95cfeffff <class 'bytes'> 15742218 15746186 <class 'int'> JMP_REL32_32 | 40 <class 'bytes'>\n",
      "  new_ins :  e90ffeffff \n",
      "\n",
      "0xf03511 0xf04492 jne near ptr 00F03336h 0f851ffeffff <class 'bytes'> 15742225 15746194 <class 'int'> JNE_REL32_32 | 40 <class 'bytes'>\n",
      "  new_ins :  0f85c0fdffff \n",
      "\n"
     ]
    },
    {
     "name": "stderr",
     "output_type": "stream",
     "text": [
      "4533it [10:03,  4.00it/s]"
     ]
    },
    {
     "name": "stdout",
     "output_type": "stream",
     "text": [
      "0xf0351b 0xf0449f call 00F19DD0h e8b0680100 <class 'bytes'> 15742235 15746207 <class 'int'> CALL_REL32_32 | 40 <class 'bytes'>\n",
      "  new_ins :  e81dd60100 \n",
      "\n",
      "0xf0352c 0xf044b4 jmp near ptr 00F0336Bh e93afeffff <class 'bytes'> 15742252 15746228 <class 'int'> JMP_REL32_32 | 40 <class 'bytes'>\n",
      "  new_ins :  e9e5fdffff \n",
      "\n",
      "0xf03533 0xf044bc jne near ptr 00F03336h 0f85fdfdffff <class 'bytes'> 15742259 15746236 <class 'int'> JNE_REL32_32 | 40 <class 'bytes'>\n",
      "  new_ins :  0f8596fdffff \n",
      "\n"
     ]
    },
    {
     "name": "stderr",
     "output_type": "stream",
     "text": [
      "4546it [10:06,  3.85it/s]"
     ]
    },
    {
     "name": "stdout",
     "output_type": "stream",
     "text": [
      "0xf03543 0xf044d1 call 00F19DD0h e888680100 <class 'bytes'> 15742275 15746257 <class 'int'> CALL_REL32_32 | 40 <class 'bytes'>\n",
      "  new_ins :  e8ebd50100 \n",
      "\n",
      "0xf03557 0xf044ea je short 00F0356Eh 7415 <class 'bytes'> 15742295 15746282 <class 'int'> JE_REL8_32 | 40 <class 'bytes'>\n",
      "  new_ins :  741c \n",
      "\n",
      "0xf0356c 0xf04506 jb short 00F03561h 72f3 <class 'bytes'> 15742316 15746310 <class 'int'> JB_REL8_32 | 40 <class 'bytes'>\n",
      "  new_ins :  72ef \n",
      "\n",
      "0xf03588 0xf0452e jne near ptr 00F03336h 0f85a8fdffff <class 'bytes'> 15742344 15746350 <class 'int'> JNE_REL32_32 | 40 <class 'bytes'>\n",
      "  new_ins :  0f8524fdffff \n",
      "\n",
      "0xf03598 0xf04543 jmp short 00F03543h eba9 <class 'bytes'> 15742360 15746371 <class 'int'> JMP_REL8_32 | 40 <class 'bytes'>\n",
      "  new_ins :  eb8c \n",
      "\n",
      "0xf035c1 0xf04578 je short 00F035C8h 7405 <class 'bytes'> 15742401 15746424 <class 'int'> JE_REL8_32 | 40 <class 'bytes'>\n",
      "  new_ins :  7406 \n",
      "\n",
      "0xf035c6 0xf0457e jne short 00F035FCh 7534 <class 'bytes'> 15742406 15746430 <class 'int'> JNE_REL8_32 | 40 <class 'bytes'>\n",
      "  new_ins :  753f \n",
      "\n"
     ]
    },
    {
     "name": "stderr",
     "output_type": "stream",
     "text": [
      "4607it [10:10,  7.85it/s]"
     ]
    },
    {
     "name": "stdout",
     "output_type": "stream",
     "text": [
      "0xf035d2 0xf0458f call 00F1A0E0h e8096b0100 <class 'bytes'> 15742418 15746447 <class 'int'> CALL_REL32_32 | 40 <class 'bytes'>\n",
      "  new_ins :  e879d90100 \n",
      "\n",
      "0xf035dc 0xf0459b je short 00F035E7h 7409 <class 'bytes'> 15742428 15746459 <class 'int'> JE_REL8_32 | 40 <class 'bytes'>\n",
      "  new_ins :  740a \n",
      "\n",
      "0xf035e5 0xf045a5 jmp short 00F035FFh eb18 <class 'bytes'> 15742437 15746469 <class 'int'> JMP_REL8_32 | 40 <class 'bytes'>\n",
      "  new_ins :  eb1c \n",
      "\n",
      "0xf035ea 0xf045ab je near ptr 00F03781h 0f8491010000 <class 'bytes'> 15742442 15746475 <class 'int'> JE_REL32_32 | 40 <class 'bytes'>\n",
      "  new_ins :  0f8409020000 \n",
      "\n",
      "0xf035fa 0xf045bd jmp short 00F035FFh eb03 <class 'bytes'> 15742458 15746493 <class 'int'> JMP_REL8_32 | 40 <class 'bytes'>\n",
      "  new_ins :  eb04 \n",
      "\n",
      "0xf03602 0xf045c7 jne short 00F03633h 752f <class 'bytes'> 15742466 15746503 <class 'int'> JNE_REL8_32 | 40 <class 'bytes'>\n",
      "  new_ins :  7539 \n",
      "\n"
     ]
    },
    {
     "name": "stderr",
     "output_type": "stream",
     "text": [
      "4625it [10:14,  6.87it/s]"
     ]
    },
    {
     "name": "stdout",
     "output_type": "stream",
     "text": [
      "0xf0360b 0xf045d4 call 00F1A0E0h e8d06a0100 <class 'bytes'> 15742475 15746516 <class 'int'> CALL_REL32_32 | 40 <class 'bytes'>\n",
      "  new_ins :  e834d90100 \n",
      "\n",
      "0xf03615 0xf045e0 je short 00F03620h 7409 <class 'bytes'> 15742485 15746528 <class 'int'> JE_REL8_32 | 40 <class 'bytes'>\n",
      "  new_ins :  740a \n",
      "\n",
      "0xf0361e 0xf045ea jmp short 00F03633h eb13 <class 'bytes'> 15742494 15746538 <class 'int'> JMP_REL8_32 | 40 <class 'bytes'>\n",
      "  new_ins :  eb16 \n",
      "\n",
      "0xf03623 0xf045f0 je near ptr 00F03781h 0f8458010000 <class 'bytes'> 15742499 15746544 <class 'int'> JE_REL32_32 | 40 <class 'bytes'>\n",
      "  new_ins :  0f84c4010000 \n",
      "\n"
     ]
    },
    {
     "name": "stderr",
     "output_type": "stream",
     "text": [
      "4654it [10:18,  7.17it/s]"
     ]
    },
    {
     "name": "stdout",
     "output_type": "stream",
     "text": [
      "0xf03677 0xf04659 call 00F19E50h e8d4670100 <class 'bytes'> 15742583 15746649 <class 'int'> CALL_REL32_32 | 40 <class 'bytes'>\n",
      "  new_ins :  e815d50100 \n",
      "\n"
     ]
    },
    {
     "name": "stderr",
     "output_type": "stream",
     "text": [
      "4667it [10:21,  6.08it/s]"
     ]
    },
    {
     "name": "stdout",
     "output_type": "stream",
     "text": [
      "0xf03698 0xf04686 call 00F19DD0h e833670100 <class 'bytes'> 15742616 15746694 <class 'int'> CALL_REL32_32 | 40 <class 'bytes'>\n",
      "  new_ins :  e836d40100 \n",
      "\n"
     ]
    },
    {
     "name": "stderr",
     "output_type": "stream",
     "text": [
      "4677it [10:25,  5.08it/s]"
     ]
    },
    {
     "name": "stdout",
     "output_type": "stream",
     "text": [
      "0xf036b2 0xf046a9 call 00F19DD0h e819670100 <class 'bytes'> 15742642 15746729 <class 'int'> CALL_REL32_32 | 40 <class 'bytes'>\n",
      "  new_ins :  e813d40100 \n",
      "\n",
      "0xf036c8 0xf046c8 call 00F032E0h e813fcffff <class 'bytes'> 15742664 15746760 <class 'int'> CALL_REL32_32 | 40 <class 'bytes'>\n",
      "  new_ins :  e819fbffff \n",
      "\n",
      "0xf036d2 0xf046d4 je near ptr 00F03781h 0f84a9000000 <class 'bytes'> 15742674 15746772 <class 'int'> JE_REL32_32 | 40 <class 'bytes'>\n",
      "  new_ins :  0f84e0000000 \n",
      "\n"
     ]
    },
    {
     "name": "stderr",
     "output_type": "stream",
     "text": [
      "4700it [10:29,  5.44it/s]"
     ]
    },
    {
     "name": "stdout",
     "output_type": "stream",
     "text": [
      "0xf036f1 0xf046fc call 00F19DD0h e8da660100 <class 'bytes'> 15742705 15746812 <class 'int'> CALL_REL32_32 | 40 <class 'bytes'>\n",
      "  new_ins :  e8c0d30100 \n",
      "\n"
     ]
    },
    {
     "name": "stderr",
     "output_type": "stream",
     "text": [
      "4707it [10:32,  4.38it/s]"
     ]
    },
    {
     "name": "stdout",
     "output_type": "stream",
     "text": [
      "0xf03704 0xf04715 call 00F19DD0h e8c7660100 <class 'bytes'> 15742724 15746837 <class 'int'> CALL_REL32_32 | 40 <class 'bytes'>\n",
      "  new_ins :  e8a7d30100 \n",
      "\n",
      "0xf03710 0xf04724 je short 00F03716h 7404 <class 'bytes'> 15742736 15746852 <class 'int'> JE_REL8_32 | 40 <class 'bytes'>\n",
      "  new_ins :  7405 \n",
      "\n",
      "0xf03714 0xf04729 jne short 00F0373Dh 7527 <class 'bytes'> 15742740 15746857 <class 'int'> JNE_REL8_32 | 40 <class 'bytes'>\n",
      "  new_ins :  7534 \n",
      "\n"
     ]
    },
    {
     "name": "stderr",
     "output_type": "stream",
     "text": [
      "4726it [10:36,  4.63it/s]"
     ]
    },
    {
     "name": "stdout",
     "output_type": "stream",
     "text": [
      "0xf03733 0xf04754 call 00F19DD0h e898660100 <class 'bytes'> 15742771 15746900 <class 'int'> CALL_REL32_32 | 40 <class 'bytes'>\n",
      "  new_ins :  e868d30100 \n",
      "\n",
      "0xf0373b 0xf0475d jmp short 00F03740h eb03 <class 'bytes'> 15742779 15746909 <class 'int'> JMP_REL8_32 | 40 <class 'bytes'>\n",
      "  new_ins :  eb04 \n",
      "\n"
     ]
    },
    {
     "name": "stderr",
     "output_type": "stream",
     "text": [
      "4737it [10:40,  4.16it/s]"
     ]
    },
    {
     "name": "stdout",
     "output_type": "stream",
     "text": [
      "0xf03750 0xf0477a call 00F19D70h e81b660100 <class 'bytes'> 15742800 15746938 <class 'int'> CALL_REL32_32 | 40 <class 'bytes'>\n",
      "  new_ins :  e8bbd20100 \n",
      "\n",
      "0xf0375a 0xf04786 je short 00F03781h 7425 <class 'bytes'> 15742810 15746950 <class 'int'> JE_REL8_32 | 40 <class 'bytes'>\n",
      "  new_ins :  7432 \n",
      "\n"
     ]
    },
    {
     "name": "stderr",
     "output_type": "stream",
     "text": [
      "4746it [10:43,  3.65it/s]"
     ]
    },
    {
     "name": "stdout",
     "output_type": "stream",
     "text": [
      "0xf03765 0xf04796 call 00F19DD0h e866660100 <class 'bytes'> 15742821 15746966 <class 'int'> CALL_REL32_32 | 40 <class 'bytes'>\n",
      "  new_ins :  e826d30100 \n",
      "\n"
     ]
    },
    {
     "name": "stderr",
     "output_type": "stream",
     "text": [
      "4754it [10:47,  3.09it/s]"
     ]
    },
    {
     "name": "stdout",
     "output_type": "stream",
     "text": [
      "0xf03779 0xf047b1 call 00F19D70h e8f2650100 <class 'bytes'> 15742841 15746993 <class 'int'> CALL_REL32_32 | 40 <class 'bytes'>\n",
      "  new_ins :  e884d20100 \n",
      "\n",
      "0xf0378e 0xf047cd jno short 00F0373Ah 71aa <class 'bytes'> 15742862 15747021 <class 'int'> JNO_REL8_32 | 40 <class 'bytes'>\n",
      "  new_ins :  718d \n",
      "\n"
     ]
    },
    {
     "name": "stderr",
     "output_type": "stream",
     "text": [
      "4775it [10:51,  3.87it/s]"
     ]
    },
    {
     "name": "stdout",
     "output_type": "stream",
     "text": [
      "0xf037a8 0xf047f2 call 00F19E50h e8a3660100 <class 'bytes'> 15742888 15747058 <class 'int'> CALL_REL32_32 | 40 <class 'bytes'>\n",
      "  new_ins :  e87cd30100 \n",
      "\n"
     ]
    },
    {
     "name": "stderr",
     "output_type": "stream",
     "text": [
      "4779it [10:55,  2.93it/s]"
     ]
    },
    {
     "name": "stdout",
     "output_type": "stream",
     "text": [
      "0xf037b3 0xf04800 call 00F1A9F0h e838720100 <class 'bytes'> 15742899 15747072 <class 'int'> CALL_REL32_32 | 40 <class 'bytes'>\n",
      "  new_ins :  e863e30100 \n",
      "\n"
     ]
    },
    {
     "name": "stderr",
     "output_type": "stream",
     "text": [
      "4785it [10:56,  3.34it/s]"
     ]
    },
    {
     "name": "stdout",
     "output_type": "stream",
     "text": [
      "0xf037c6 0xf04818 call 00F08CE0h e815550000 <class 'bytes'> 15742918 15747096 <class 'int'> CALL_REL32_32 | 40 <class 'bytes'>\n",
      "  new_ins :  e80f6d0000 \n",
      "\n",
      "0xf037d2 0xf04827 je near ptr 00F0391Fh 0f8447010000 <class 'bytes'> 15742930 15747111 <class 'int'> JE_REL32_32 | 40 <class 'bytes'>\n",
      "  new_ins :  0f8492010000 \n",
      "\n"
     ]
    },
    {
     "name": "stderr",
     "output_type": "stream",
     "text": [
      "4795it [10:59,  3.13it/s]"
     ]
    },
    {
     "name": "stdout",
     "output_type": "stream",
     "text": [
      "0xf037ea 0xf04844 call 00F19E50h e861660100 <class 'bytes'> 15742954 15747140 <class 'int'> CALL_REL32_32 | 40 <class 'bytes'>\n",
      "  new_ins :  e82ad30100 \n",
      "\n"
     ]
    },
    {
     "name": "stderr",
     "output_type": "stream",
     "text": [
      "4799it [11:04,  2.34it/s]"
     ]
    },
    {
     "name": "stdout",
     "output_type": "stream",
     "text": [
      "0xf037f8 0xf04855 call 00F1A9F0h e8f3710100 <class 'bytes'> 15742968 15747157 <class 'int'> CALL_REL32_32 | 40 <class 'bytes'>\n",
      "  new_ins :  e80ee30100 \n",
      "\n"
     ]
    },
    {
     "name": "stderr",
     "output_type": "stream",
     "text": [
      "4803it [11:04,  2.62it/s]"
     ]
    },
    {
     "name": "stdout",
     "output_type": "stream",
     "text": [
      "0xf03805 0xf04865 call 00F08CE0h e8d6540000 <class 'bytes'> 15742981 15747173 <class 'int'> CALL_REL32_32 | 40 <class 'bytes'>\n",
      "  new_ins :  e8c26c0000 \n",
      "\n",
      "0xf03812 0xf04875 je near ptr 00F0391Fh 0f8407010000 <class 'bytes'> 15742994 15747189 <class 'int'> JE_REL32_32 | 40 <class 'bytes'>\n",
      "  new_ins :  0f8444010000 \n",
      "\n"
     ]
    },
    {
     "name": "stderr",
     "output_type": "stream",
     "text": [
      "4813it [11:06,  3.28it/s]"
     ]
    },
    {
     "name": "stdout",
     "output_type": "stream",
     "text": [
      "0xf03823 0xf0488b call 00F12E40h e818f60000 <class 'bytes'> 15743011 15747211 <class 'int'> CALL_REL32_32 | 40 <class 'bytes'>\n",
      "  new_ins :  e8713d0100 \n",
      "\n"
     ]
    },
    {
     "name": "stderr",
     "output_type": "stream",
     "text": [
      "4820it [11:08,  3.43it/s]"
     ]
    },
    {
     "name": "stdout",
     "output_type": "stream",
     "text": [
      "0xf03839 0xf048a7 call 00F12E40h e802f60000 <class 'bytes'> 15743033 15747239 <class 'int'> CALL_REL32_32 | 40 <class 'bytes'>\n",
      "  new_ins :  e8553d0100 \n",
      "\n"
     ]
    },
    {
     "name": "stderr",
     "output_type": "stream",
     "text": [
      "4827it [11:10,  3.54it/s]"
     ]
    },
    {
     "name": "stdout",
     "output_type": "stream",
     "text": [
      "0xf0384f 0xf048c3 call 00F12E40h e8ecf50000 <class 'bytes'> 15743055 15747267 <class 'int'> CALL_REL32_32 | 40 <class 'bytes'>\n",
      "  new_ins :  e8393d0100 \n",
      "\n"
     ]
    },
    {
     "name": "stderr",
     "output_type": "stream",
     "text": [
      "4835it [11:12,  3.78it/s]"
     ]
    },
    {
     "name": "stdout",
     "output_type": "stream",
     "text": [
      "0xf0386b 0xf048e6 call 00F12E40h e8d0f50000 <class 'bytes'> 15743083 15747302 <class 'int'> CALL_REL32_32 | 40 <class 'bytes'>\n",
      "  new_ins :  e8163d0100 \n",
      "\n"
     ]
    },
    {
     "name": "stderr",
     "output_type": "stream",
     "text": [
      "4844it [11:13,  4.12it/s]"
     ]
    },
    {
     "name": "stdout",
     "output_type": "stream",
     "text": [
      "0xf03887 0xf0490a call 00F12E40h e8b4f50000 <class 'bytes'> 15743111 15747338 <class 'int'> CALL_REL32_32 | 40 <class 'bytes'>\n",
      "  new_ins :  e8f23c0100 \n",
      "\n"
     ]
    },
    {
     "name": "stderr",
     "output_type": "stream",
     "text": [
      "4863it [11:17,  4.61it/s]"
     ]
    },
    {
     "name": "stdout",
     "output_type": "stream",
     "text": [
      "0xf038f3 0xf04988 call 00F19DD0h e8d8640100 <class 'bytes'> 15743219 15747464 <class 'int'> CALL_REL32_32 | 40 <class 'bytes'>\n",
      "  new_ins :  e834d10100 \n",
      "\n"
     ]
    },
    {
     "name": "stderr",
     "output_type": "stream",
     "text": [
      "4869it [11:21,  3.46it/s]"
     ]
    },
    {
     "name": "stdout",
     "output_type": "stream",
     "text": [
      "0xf03905 0xf0499f call 00F19DD0h e8c6640100 <class 'bytes'> 15743237 15747487 <class 'int'> CALL_REL32_32 | 40 <class 'bytes'>\n",
      "  new_ins :  e81dd10100 \n",
      "\n"
     ]
    },
    {
     "name": "stderr",
     "output_type": "stream",
     "text": [
      "4875it [11:24,  2.78it/s]"
     ]
    },
    {
     "name": "stdout",
     "output_type": "stream",
     "text": [
      "0xf03917 0xf049b6 call 00F19DD0h e8b4640100 <class 'bytes'> 15743255 15747510 <class 'int'> CALL_REL32_32 | 40 <class 'bytes'>\n",
      "  new_ins :  e806d10100 \n",
      "\n",
      "0xf0396d 0xf04a2c jne short 00F039D9h 756a <class 'bytes'> 15743341 15747628 <class 'int'> JNE_REL8_32 | 44 <class 'bytes'>\n",
      "  new_ins :  0F858e000000 \n",
      "\n",
      "0xf0399e 0xf04a70 jne short 00F039BFh 751f <class 'bytes'> 15743390 15747696 <class 'int'> JNE_REL8_32 | 44 <class 'bytes'>\n",
      "  new_ins :  752b \n",
      "\n",
      "0xf039b2 0xf04a8c jne short 00F039BFh 750b <class 'bytes'> 15743410 15747724 <class 'int'> JNE_REL8_32 | 44 <class 'bytes'>\n",
      "  new_ins :  750f \n",
      "\n",
      "0xf039c4 0xf04aa4 je short 00F039CEh 7408 <class 'bytes'> 15743428 15747748 <class 'int'> JE_REL8_32 | 44 <class 'bytes'>\n",
      "  new_ins :  740b \n",
      "\n",
      "0xf03a05 0xf04afc je near ptr 00F03ABDh 0f84b2000000 <class 'bytes'> 15743493 15747836 <class 'int'> JE_REL32_32 | 44 <class 'bytes'>\n",
      "  new_ins :  0f84e0000000 \n",
      "\n"
     ]
    },
    {
     "name": "stderr",
     "output_type": "stream",
     "text": [
      "4982it [11:28, 11.58it/s]"
     ]
    },
    {
     "name": "stdout",
     "output_type": "stream",
     "text": [
      "0xf03a21 0xf04b1f call 00F19E50h e82a640100 <class 'bytes'> 15743521 15747871 <class 'int'> CALL_REL32_32 | 44 <class 'bytes'>\n",
      "  new_ins :  e84fd00100 \n",
      "\n"
     ]
    },
    {
     "name": "stderr",
     "output_type": "stream",
     "text": [
      "4986it [11:32,  8.14it/s]"
     ]
    },
    {
     "name": "stdout",
     "output_type": "stream",
     "text": [
      "0xf03a30 0xf04b31 call 00F1A0C0h e88b660100 <class 'bytes'> 15743536 15747889 <class 'int'> CALL_REL32_32 | 44 <class 'bytes'>\n",
      "  new_ins :  e8acd30100 \n",
      "\n"
     ]
    },
    {
     "name": "stderr",
     "output_type": "stream",
     "text": [
      "4992it [11:36,  6.11it/s]"
     ]
    },
    {
     "name": "stdout",
     "output_type": "stream",
     "text": [
      "0xf03a40 0xf04b46 call 00F19DD0h e88b630100 <class 'bytes'> 15743552 15747910 <class 'int'> CALL_REL32_32 | 44 <class 'bytes'>\n",
      "  new_ins :  e876cf0100 \n",
      "\n"
     ]
    },
    {
     "name": "stderr",
     "output_type": "stream",
     "text": [
      "4995it [11:39,  4.41it/s]"
     ]
    },
    {
     "name": "stdout",
     "output_type": "stream",
     "text": [
      "0xf03a4c 0xf04b54 call 00F1A0C0h e86f660100 <class 'bytes'> 15743564 15747924 <class 'int'> CALL_REL32_32 | 44 <class 'bytes'>\n",
      "  new_ins :  e889d30100 \n",
      "\n"
     ]
    },
    {
     "name": "stderr",
     "output_type": "stream",
     "text": [
      "5000it [11:43,  3.47it/s]"
     ]
    },
    {
     "name": "stdout",
     "output_type": "stream",
     "text": [
      "0xf03a65 0xf04b71 call 00F1A0C0h e856660100 <class 'bytes'> 15743589 15747953 <class 'int'> CALL_REL32_32 | 44 <class 'bytes'>\n",
      "  new_ins :  e86cd30100 \n",
      "\n"
     ]
    },
    {
     "name": "stderr",
     "output_type": "stream",
     "text": [
      "5007it [11:47,  2.98it/s]"
     ]
    },
    {
     "name": "stdout",
     "output_type": "stream",
     "text": [
      "0xf03a78 0xf04b8a call 00F1A0C0h e843660100 <class 'bytes'> 15743608 15747978 <class 'int'> CALL_REL32_32 | 44 <class 'bytes'>\n",
      "  new_ins :  e853d30100 \n",
      "\n"
     ]
    },
    {
     "name": "stderr",
     "output_type": "stream",
     "text": [
      "5011it [11:50,  2.42it/s]"
     ]
    },
    {
     "name": "stdout",
     "output_type": "stream",
     "text": [
      "0xf03a88 0xf04b9d call 00F19DD0h e843630100 <class 'bytes'> 15743624 15747997 <class 'int'> CALL_REL32_32 | 44 <class 'bytes'>\n",
      "  new_ins :  e81fcf0100 \n",
      "\n"
     ]
    },
    {
     "name": "stderr",
     "output_type": "stream",
     "text": [
      "5023it [11:52,  3.18it/s]"
     ]
    },
    {
     "name": "stdout",
     "output_type": "stream",
     "text": [
      "0xf03aad 0xf04bcc call 00F12A40h e88eef0000 <class 'bytes'> 15743661 15748044 <class 'int'> CALL_REL32_32 | 44 <class 'bytes'>\n",
      "  new_ins :  e8eb340100 \n",
      "\n",
      "0xf03ae5 0xf04c18 je near ptr 00F03DF9h 0f840e030000 <class 'bytes'> 15743717 15748120 <class 'int'> JE_REL32_32 | 44 <class 'bytes'>\n",
      "  new_ins :  0f84d1030000 \n",
      "\n",
      "0xf03af2 0xf04c26 je near ptr 00F03DF9h 0f8401030000 <class 'bytes'> 15743730 15748134 <class 'int'> JE_REL32_32 | 44 <class 'bytes'>\n",
      "  new_ins :  0f84c3030000 \n",
      "\n",
      "0xf03aff 0xf04c34 je near ptr 00F03DF9h 0f84f4020000 <class 'bytes'> 15743743 15748148 <class 'int'> JE_REL32_32 | 44 <class 'bytes'>\n",
      "  new_ins :  0f84b5030000 \n",
      "\n",
      "0xf03b0c 0xf04c42 je near ptr 00F03DF9h 0f84e7020000 <class 'bytes'> 15743756 15748162 <class 'int'> JE_REL32_32 | 44 <class 'bytes'>\n",
      "  new_ins :  0f84a7030000 \n",
      "\n",
      "0xf03b19 0xf04c50 je near ptr 00F03DF9h 0f84da020000 <class 'bytes'> 15743769 15748176 <class 'int'> JE_REL32_32 | 44 <class 'bytes'>\n",
      "  new_ins :  0f8499030000 \n",
      "\n",
      "0xf03b29 0xf04c62 jne near ptr 00F03DF9h 0f85ca020000 <class 'bytes'> 15743785 15748194 <class 'int'> JNE_REL32_32 | 44 <class 'bytes'>\n",
      "  new_ins :  0f8587030000 \n",
      "\n"
     ]
    },
    {
     "name": "stderr",
     "output_type": "stream",
     "text": [
      "5064it [11:56,  5.85it/s]"
     ]
    },
    {
     "name": "stdout",
     "output_type": "stream",
     "text": [
      "0xf03b46 0xf04c86 call 00F19E50h e805630100 <class 'bytes'> 15743814 15748230 <class 'int'> CALL_REL32_32 | 44 <class 'bytes'>\n",
      "  new_ins :  e8e8ce0100 \n",
      "\n"
     ]
    },
    {
     "name": "stderr",
     "output_type": "stream",
     "text": [
      "5067it [12:00,  4.20it/s]"
     ]
    },
    {
     "name": "stdout",
     "output_type": "stream",
     "text": [
      "0xf03b52 0xf04c94 call 00F1A0C0h e869650100 <class 'bytes'> 15743826 15748244 <class 'int'> CALL_REL32_32 | 44 <class 'bytes'>\n",
      "  new_ins :  e849d20100 \n",
      "\n"
     ]
    },
    {
     "name": "stderr",
     "output_type": "stream",
     "text": [
      "5073it [12:03,  3.40it/s]"
     ]
    },
    {
     "name": "stdout",
     "output_type": "stream",
     "text": [
      "0xf03b62 0xf04ca9 call 00F19DD0h e869620100 <class 'bytes'> 15743842 15748265 <class 'int'> CALL_REL32_32 | 44 <class 'bytes'>\n",
      "  new_ins :  e813ce0100 \n",
      "\n"
     ]
    },
    {
     "name": "stderr",
     "output_type": "stream",
     "text": [
      "5076it [12:07,  2.59it/s]"
     ]
    },
    {
     "name": "stdout",
     "output_type": "stream",
     "text": [
      "0xf03b6e 0xf04cb7 call 00F1A0C0h e84d650100 <class 'bytes'> 15743854 15748279 <class 'int'> CALL_REL32_32 | 44 <class 'bytes'>\n",
      "  new_ins :  e826d20100 \n",
      "\n"
     ]
    },
    {
     "name": "stderr",
     "output_type": "stream",
     "text": [
      "5081it [12:11,  2.20it/s]"
     ]
    },
    {
     "name": "stdout",
     "output_type": "stream",
     "text": [
      "0xf03b87 0xf04cd4 call 00F1A0C0h e834650100 <class 'bytes'> 15743879 15748308 <class 'int'> CALL_REL32_32 | 44 <class 'bytes'>\n",
      "  new_ins :  e809d20100 \n",
      "\n"
     ]
    },
    {
     "name": "stderr",
     "output_type": "stream",
     "text": [
      "5088it [12:14,  2.11it/s]"
     ]
    },
    {
     "name": "stdout",
     "output_type": "stream",
     "text": [
      "0xf03b9a 0xf04ced call 00F1A0C0h e821650100 <class 'bytes'> 15743898 15748333 <class 'int'> CALL_REL32_32 | 44 <class 'bytes'>\n",
      "  new_ins :  e8f0d10100 \n",
      "\n"
     ]
    },
    {
     "name": "stderr",
     "output_type": "stream",
     "text": [
      "5092it [12:18,  1.81it/s]"
     ]
    },
    {
     "name": "stdout",
     "output_type": "stream",
     "text": [
      "0xf03baa 0xf04d00 call 00F19DD0h e821620100 <class 'bytes'> 15743914 15748352 <class 'int'> CALL_REL32_32 | 44 <class 'bytes'>\n",
      "  new_ins :  e8bccd0100 \n",
      "\n"
     ]
    },
    {
     "name": "stderr",
     "output_type": "stream",
     "text": [
      "5095it [12:22,  1.50it/s]"
     ]
    },
    {
     "name": "stdout",
     "output_type": "stream",
     "text": [
      "0xf03bb6 0xf04d0e call 00F1A0C0h e805650100 <class 'bytes'> 15743926 15748366 <class 'int'> CALL_REL32_32 | 44 <class 'bytes'>\n",
      "  new_ins :  e8cfd10100 \n",
      "\n"
     ]
    },
    {
     "name": "stderr",
     "output_type": "stream",
     "text": [
      "5105it [12:25,  1.86it/s]"
     ]
    },
    {
     "name": "stdout",
     "output_type": "stream",
     "text": [
      "0xf03bd9 0xf04d39 call 00F1A0C0h e8e2640100 <class 'bytes'> 15743961 15748409 <class 'int'> CALL_REL32_32 | 44 <class 'bytes'>\n",
      "  new_ins :  e8a4d10100 \n",
      "\n"
     ]
    },
    {
     "name": "stderr",
     "output_type": "stream",
     "text": [
      "5110it [12:29,  1.71it/s]"
     ]
    },
    {
     "name": "stdout",
     "output_type": "stream",
     "text": [
      "0xf03bf2 0xf04d56 call 00F1A0C0h e8c9640100 <class 'bytes'> 15743986 15748438 <class 'int'> CALL_REL32_32 | 44 <class 'bytes'>\n",
      "  new_ins :  e887d10100 \n",
      "\n"
     ]
    },
    {
     "name": "stderr",
     "output_type": "stream",
     "text": [
      "5117it [12:33,  1.76it/s]"
     ]
    },
    {
     "name": "stdout",
     "output_type": "stream",
     "text": [
      "0xf03c05 0xf04d6f call 00F1A0C0h e8b6640100 <class 'bytes'> 15744005 15748463 <class 'int'> CALL_REL32_32 | 44 <class 'bytes'>\n",
      "  new_ins :  e86ed10100 \n",
      "\n"
     ]
    },
    {
     "name": "stderr",
     "output_type": "stream",
     "text": [
      "5121it [12:36,  1.57it/s]"
     ]
    },
    {
     "name": "stdout",
     "output_type": "stream",
     "text": [
      "0xf03c15 0xf04d82 call 00F19DD0h e8b6610100 <class 'bytes'> 15744021 15748482 <class 'int'> CALL_REL32_32 | 44 <class 'bytes'>\n",
      "  new_ins :  e83acd0100 \n",
      "\n"
     ]
    },
    {
     "name": "stderr",
     "output_type": "stream",
     "text": [
      "5127it [12:38,  1.89it/s]"
     ]
    },
    {
     "name": "stdout",
     "output_type": "stream",
     "text": [
      "0xf03c26 0xf04d98 call 00F12A40h e815ee0000 <class 'bytes'> 15744038 15748504 <class 'int'> CALL_REL32_32 | 44 <class 'bytes'>\n",
      "  new_ins :  e81f330100 \n",
      "\n",
      "0xf03c30 0xf04da4 je near ptr 00F03DF0h 0f84ba010000 <class 'bytes'> 15744048 15748516 <class 'int'> JE_REL32_32 | 44 <class 'bytes'>\n",
      "  new_ins :  0f8436020000 \n",
      "\n"
     ]
    },
    {
     "name": "stderr",
     "output_type": "stream",
     "text": [
      "5140it [12:42,  2.45it/s]"
     ]
    },
    {
     "name": "stdout",
     "output_type": "stream",
     "text": [
      "0xf03c59 0xf04dd6 call 00F19E50h e8f2610100 <class 'bytes'> 15744089 15748566 <class 'int'> CALL_REL32_32 | 44 <class 'bytes'>\n",
      "  new_ins :  e898cd0100 \n",
      "\n"
     ]
    },
    {
     "name": "stderr",
     "output_type": "stream",
     "text": [
      "5143it [12:46,  1.91it/s]"
     ]
    },
    {
     "name": "stdout",
     "output_type": "stream",
     "text": [
      "0xf03c65 0xf04de4 call 00F1A0C0h e856640100 <class 'bytes'> 15744101 15748580 <class 'int'> CALL_REL32_32 | 44 <class 'bytes'>\n",
      "  new_ins :  e8f9d00100 \n",
      "\n"
     ]
    },
    {
     "name": "stderr",
     "output_type": "stream",
     "text": [
      "5239it [12:49, 12.78it/s]"
     ]
    },
    {
     "name": "stdout",
     "output_type": "stream",
     "text": [
      "0xf03c7b 0xf04e00 call 00F19DD0h e850610100 <class 'bytes'> 15744123 15748608 <class 'int'> CALL_REL32_32 | 44 <class 'bytes'>\n",
      "  new_ins :  e8bccc0100 \n",
      "\n",
      "0xf03cb9 0xf04e50 jne near ptr 00F03DF0h 0f8531010000 <class 'bytes'> 15744185 15748688 <class 'int'> JNE_REL32_32 | 44 <class 'bytes'>\n",
      "  new_ins :  0f858a010000 \n",
      "\n",
      "0xf03ced 0xf04e92 jne short 00F03D3Ah 754b <class 'bytes'> 15744237 15748754 <class 'int'> JNE_REL8_32 | 44 <class 'bytes'>\n",
      "  new_ins :  7564 \n",
      "\n",
      "0xf03d0d 0xf04ebb jne short 00F03D3Ah 752b <class 'bytes'> 15744269 15748795 <class 'int'> JNE_REL8_32 | 44 <class 'bytes'>\n",
      "  new_ins :  753b \n",
      "\n",
      "0xf03d2d 0xf04ee7 jne short 00F03D3Ah 750b <class 'bytes'> 15744301 15748839 <class 'int'> JNE_REL8_32 | 44 <class 'bytes'>\n",
      "  new_ins :  750f \n",
      "\n",
      "0xf03d3f 0xf04eff je short 00F03D49h 7408 <class 'bytes'> 15744319 15748863 <class 'int'> JE_REL8_32 | 44 <class 'bytes'>\n",
      "  new_ins :  740b \n",
      "\n",
      "0xf03d4e 0xf04f13 je short 00F03D58h 7408 <class 'bytes'> 15744334 15748883 <class 'int'> JE_REL8_32 | 44 <class 'bytes'>\n",
      "  new_ins :  740b \n",
      "\n",
      "0xf03d6a 0xf04f38 call 00F1A0C0h e851630100 <class 'bytes'> 15744362 15748920 <class 'int'> CALL_REL32_32 | 44 <class 'bytes'>\n",
      "  new_ins :  e8a5cf0100 \n",
      "\n",
      "0xf03d80 0xf04f52 call 00F1A0C0h e83b630100 <class 'bytes'> 15744384 15748946 <class 'int'> CALL_REL32_32 | 44 <class 'bytes'>\n",
      "  new_ins :  e88bcf0100 \n",
      "\n",
      "0xf03d93 0xf04f68 call 00F1A0C0h e828630100 <class 'bytes'> 15744403 15748968 <class 'int'> CALL_REL32_32 | 44 <class 'bytes'>\n",
      "  new_ins :  e875cf0100 \n",
      "\n"
     ]
    },
    {
     "name": "stderr",
     "output_type": "stream",
     "text": [
      "5256it [13:04,  4.39it/s]"
     ]
    },
    {
     "name": "stdout",
     "output_type": "stream",
     "text": [
      "0xf03da6 0xf04f81 call 00F1A0C0h e815630100 <class 'bytes'> 15744422 15748993 <class 'int'> CALL_REL32_32 | 44 <class 'bytes'>\n",
      "  new_ins :  e85ccf0100 \n",
      "\n"
     ]
    },
    {
     "name": "stderr",
     "output_type": "stream",
     "text": [
      "5260it [13:08,  3.73it/s]"
     ]
    },
    {
     "name": "stdout",
     "output_type": "stream",
     "text": [
      "0xf03db6 0xf04f94 call 00F19DD0h e815600100 <class 'bytes'> 15744438 15749012 <class 'int'> CALL_REL32_32 | 44 <class 'bytes'>\n",
      "  new_ins :  e828cb0100 \n",
      "\n",
      "0xf03dc7 0xf04faa call 00F12A40h e874ec0000 <class 'bytes'> 15744455 15749034 <class 'int'> CALL_REL32_32 | 44 <class 'bytes'>\n",
      "  new_ins :  e80d310100 \n",
      "\n"
     ]
    },
    {
     "name": "stderr",
     "output_type": "stream",
     "text": [
      "5279it [13:11,  4.10it/s]"
     ]
    },
    {
     "name": "stdout",
     "output_type": "stream",
     "text": [
      "0xf03dd8 0xf04fc0 call 00F12A40h e863ec0000 <class 'bytes'> 15744472 15749056 <class 'int'> CALL_REL32_32 | 44 <class 'bytes'>\n",
      "  new_ins :  e8f7300100 \n",
      "\n",
      "0xf03de2 0xf04fcc je short 00F03DF0h 740c <class 'bytes'> 15744482 15749068 <class 'int'> JE_REL8_32 | 44 <class 'bytes'>\n",
      "  new_ins :  7412 \n",
      "\n",
      "0xf03e21 0xf05028 jne near ptr 00F03F15h 0f85ee000000 <class 'bytes'> 15744545 15749160 <class 'int'> JNE_REL32_32 | 44 <class 'bytes'>\n",
      "  new_ins :  0f8538010000 \n",
      "\n",
      "0xf03e35 0xf0503f je near ptr 00F03F14h 0f84d9000000 <class 'bytes'> 15744565 15749183 <class 'int'> JE_REL32_32 | 44 <class 'bytes'>\n",
      "  new_ins :  0f841f010000 \n",
      "\n",
      "0xf03e3f 0xf0504a je near ptr 00F03F14h 0f84cf000000 <class 'bytes'> 15744575 15749194 <class 'int'> JE_REL32_32 | 44 <class 'bytes'>\n",
      "  new_ins :  0f8414010000 \n",
      "\n",
      "0xf03e49 0xf05055 je near ptr 00F03F14h 0f84c5000000 <class 'bytes'> 15744585 15749205 <class 'int'> JE_REL32_32 | 44 <class 'bytes'>\n",
      "  new_ins :  0f8409010000 \n",
      "\n"
     ]
    },
    {
     "name": "stderr",
     "output_type": "stream",
     "text": [
      "5323it [13:13,  6.90it/s]"
     ]
    },
    {
     "name": "stdout",
     "output_type": "stream",
     "text": [
      "0xf03e59 0xf0506b call 00F12A40h e8e2eb0000 <class 'bytes'> 15744601 15749227 <class 'int'> CALL_REL32_32 | 44 <class 'bytes'>\n",
      "  new_ins :  e84c300100 \n",
      "\n",
      "0xf03e63 0xf05077 jne short 00F03EA7h 7542 <class 'bytes'> 15744611 15749239 <class 'int'> JNE_REL8_32 | 44 <class 'bytes'>\n",
      "  new_ins :  7554 \n",
      "\n",
      "0xf03e7c 0xf05096 call 00F03AD0h e84ffcffff <class 'bytes'> 15744636 15749270 <class 'int'> CALL_REL32_32 | 44 <class 'bytes'>\n",
      "  new_ins :  e861fbffff \n",
      "\n",
      "0xf03e86 0xf050a2 jne short 00F03EA7h 751f <class 'bytes'> 15744646 15749282 <class 'int'> JNE_REL8_32 | 44 <class 'bytes'>\n",
      "  new_ins :  7529 \n",
      "\n",
      "0xf03e8a 0xf050a8 call 00F039F0h e861fbffff <class 'bytes'> 15744650 15749288 <class 'int'> CALL_REL32_32 | 44 <class 'bytes'>\n",
      "  new_ins :  e834faffff \n",
      "\n",
      "0xf03e94 0xf050b4 jne short 00F03EA7h 7511 <class 'bytes'> 15744660 15749300 <class 'int'> JNE_REL8_32 | 44 <class 'bytes'>\n",
      "  new_ins :  7517 \n",
      "\n"
     ]
    },
    {
     "name": "stderr",
     "output_type": "stream",
     "text": [
      "5355it [13:15,  8.69it/s]"
     ]
    },
    {
     "name": "stdout",
     "output_type": "stream",
     "text": [
      "0xf03eae 0xf050d9 call 00F12A40h e88deb0000 <class 'bytes'> 15744686 15749337 <class 'int'> CALL_REL32_32 | 44 <class 'bytes'>\n",
      "  new_ins :  e8de2f0100 \n",
      "\n",
      "0xf03eb8 0xf050e5 je short 00F03F13h 7459 <class 'bytes'> 15744696 15749349 <class 'int'> JE_REL8_32 | 44 <class 'bytes'>\n",
      "  new_ins :  747b \n",
      "\n"
     ]
    },
    {
     "name": "stderr",
     "output_type": "stream",
     "text": [
      "5363it [13:18,  6.60it/s]"
     ]
    },
    {
     "name": "stdout",
     "output_type": "stream",
     "text": [
      "0xf03ec1 0xf050f2 call 00F19E50h e88a5f0100 <class 'bytes'> 15744705 15749362 <class 'int'> CALL_REL32_32 | 44 <class 'bytes'>\n",
      "  new_ins :  e87cca0100 \n",
      "\n"
     ]
    },
    {
     "name": "stderr",
     "output_type": "stream",
     "text": [
      "5421it [13:20, 12.95it/s]"
     ]
    },
    {
     "name": "stdout",
     "output_type": "stream",
     "text": [
      "0xf03eed 0xf0512b call 00F12E40h e84eef0000 <class 'bytes'> 15744749 15749419 <class 'int'> CALL_REL32_32 | 44 <class 'bytes'>\n",
      "  new_ins :  e8d1340100 \n",
      "\n",
      "0xf03ef7 0xf05137 je short 00F03F13h 741a <class 'bytes'> 15744759 15749431 <class 'int'> JE_REL8_32 | 44 <class 'bytes'>\n",
      "  new_ins :  7429 \n",
      "\n",
      "0xf03f1f 0xf05174 loope 00F03F76h e155 <class 'bytes'> 15744799 15749492 <class 'int'> LOOPE_REL8_32_ECX | 44 <class 'bytes'>\n",
      "  new_ins :  e16b \n",
      "\n",
      "0xf03f28 0xf05180 je short 00F03F40h 7416 <class 'bytes'> 15744808 15749504 <class 'int'> JE_REL8_32 | 44 <class 'bytes'>\n",
      "  new_ins :  741a \n",
      "\n",
      "0xf03f2f 0xf05189 je short 00F03F40h 740f <class 'bytes'> 15744815 15749513 <class 'int'> JE_REL8_32 | 44 <class 'bytes'>\n",
      "  new_ins :  7411 \n",
      "\n",
      "0xf03f38 0xf05193 jne short 00F03F40h 7506 <class 'bytes'> 15744824 15749523 <class 'int'> JNE_REL8_32 | 44 <class 'bytes'>\n",
      "  new_ins :  7507 \n",
      "\n",
      "0xf03f48 0xf051a6 je short 00F03F5Ch 7412 <class 'bytes'> 15744840 15749542 <class 'int'> JE_REL8_32 | 44 <class 'bytes'>\n",
      "  new_ins :  7415 \n",
      "\n",
      "0xf03f51 0xf051b0 je short 00F03F5Ch 7409 <class 'bytes'> 15744849 15749552 <class 'int'> JE_REL8_32 | 44 <class 'bytes'>\n",
      "  new_ins :  740b \n",
      "\n",
      "0xf03f54 0xf051b4 call 00F030B0h e857f1ffff <class 'bytes'> 15744852 15749556 <class 'int'> CALL_REL32_32 | 44 <class 'bytes'>\n",
      "  new_ins :  e873edffff \n",
      "\n"
     ]
    },
    {
     "name": "stderr",
     "output_type": "stream",
     "text": [
      "5449it [13:24, 10.72it/s]"
     ]
    },
    {
     "name": "stdout",
     "output_type": "stream",
     "text": [
      "0xf03fa5 0xf0521d call 00F19E50h e8a65e0100 <class 'bytes'> 15744933 15749661 <class 'int'> CALL_REL32_32 | 44 <class 'bytes'>\n",
      "  new_ins :  e851c90100 \n",
      "\n"
     ]
    },
    {
     "name": "stderr",
     "output_type": "stream",
     "text": [
      "5459it [13:27,  8.12it/s]"
     ]
    },
    {
     "name": "stdout",
     "output_type": "stream",
     "text": [
      "0xf03fbf 0xf05240 call 00F17D00h e83c3d0100 <class 'bytes'> 15744959 15749696 <class 'int'> CALL_REL32_32 | 44 <class 'bytes'>\n",
      "  new_ins :  e8d19b0100 \n",
      "\n",
      "0xf03fc9 0xf0524c js near ptr 00F040C7h 0f88f8000000 <class 'bytes'> 15744969 15749708 <class 'int'> JS_REL32_32 | 44 <class 'bytes'>\n",
      "  new_ins :  0f8840010000 \n",
      "\n"
     ]
    },
    {
     "name": "stderr",
     "output_type": "stream",
     "text": [
      "5478it [13:29,  8.67it/s]"
     ]
    },
    {
     "name": "stdout",
     "output_type": "stream",
     "text": [
      "0xf04013 0xf052a5 call 00F12E40h e828ee0000 <class 'bytes'> 15745043 15749797 <class 'int'> CALL_REL32_32 | 44 <class 'bytes'>\n",
      "  new_ins :  e857330100 \n",
      "\n",
      "0xf0401d 0xf052b1 je short 00F04026h 7407 <class 'bytes'> 15745053 15749809 <class 'int'> JE_REL8_32 | 44 <class 'bytes'>\n",
      "  new_ins :  740a \n",
      "\n"
     ]
    },
    {
     "name": "stderr",
     "output_type": "stream",
     "text": [
      "5490it [13:33,  6.57it/s]"
     ]
    },
    {
     "name": "stdout",
     "output_type": "stream",
     "text": [
      "0xf04030 0xf052cb call 00F19E50h e81b5e0100 <class 'bytes'> 15745072 15749835 <class 'int'> CALL_REL32_32 | 44 <class 'bytes'>\n",
      "  new_ins :  e8a3c80100 \n",
      "\n"
     ]
    },
    {
     "name": "stderr",
     "output_type": "stream",
     "text": [
      "5506it [13:33,  8.15it/s]"
     ]
    },
    {
     "name": "stdout",
     "output_type": "stream",
     "text": [
      "0xf04072 0xf0531c call 00F08F00h e8894e0000 <class 'bytes'> 15745138 15749916 <class 'int'> CALL_REL32_32 | 44 <class 'bytes'>\n",
      "  new_ins :  e8e1640000 \n",
      "\n"
     ]
    },
    {
     "name": "stderr",
     "output_type": "stream",
     "text": [
      "5512it [13:37,  5.35it/s]"
     ]
    },
    {
     "name": "stdout",
     "output_type": "stream",
     "text": [
      "0xf04083 0xf05332 call 00F1A230h e8a8610100 <class 'bytes'> 15745155 15749938 <class 'int'> CALL_REL32_32 | 44 <class 'bytes'>\n",
      "  new_ins :  e8b6cd0100 \n",
      "\n"
     ]
    },
    {
     "name": "stderr",
     "output_type": "stream",
     "text": [
      "5519it [13:39,  5.02it/s]"
     ]
    },
    {
     "name": "stdout",
     "output_type": "stream",
     "text": [
      "0xf04097 0xf0534c call 00F12E40h e8a4ed0000 <class 'bytes'> 15745175 15749964 <class 'int'> CALL_REL32_32 | 44 <class 'bytes'>\n",
      "  new_ins :  e8b0320100 \n",
      "\n",
      "0xf040a2 0xf0535a je short 00F040C7h 7423 <class 'bytes'> 15745186 15749978 <class 'int'> JE_REL8_32 | 44 <class 'bytes'>\n",
      "  new_ins :  7436 \n",
      "\n",
      "0xf040db 0xf053b0 je short 00F040FCh 741f <class 'bytes'> 15745243 15750064 <class 'int'> JE_REL8_32 | 44 <class 'bytes'>\n",
      "  new_ins :  7428 \n",
      "\n",
      "0xf040e3 0xf053ba jb short 00F040FCh 7217 <class 'bytes'> 15745251 15750074 <class 'int'> JB_REL8_32 | 44 <class 'bytes'>\n",
      "  new_ins :  721e \n",
      "\n",
      "0xf040ea 0xf053c2 jae short 00F040FCh 7310 <class 'bytes'> 15745258 15750082 <class 'int'> JAE_REL8_32 | 44 <class 'bytes'>\n",
      "  new_ins :  7316 \n",
      "\n"
     ]
    },
    {
     "name": "stderr",
     "output_type": "stream",
     "text": [
      "5568it [13:41,  9.54it/s]"
     ]
    },
    {
     "name": "stdout",
     "output_type": "stream",
     "text": [
      "0xf040f4 0xf053d1 call 00F14FE0h e8e70e0100 <class 'bytes'> 15745268 15750097 <class 'int'> CALL_REL32_32 | 44 <class 'bytes'>\n",
      "  new_ins :  e8935f0100 \n",
      "\n",
      "0xf04119 0xf05404 je short 00F04129h 740e <class 'bytes'> 15745305 15750148 <class 'int'> JE_REL8_32 | 44 <class 'bytes'>\n",
      "  new_ins :  7411 \n",
      "\n",
      "0xf04122 0xf0540e jne short 00F04132h 750e <class 'bytes'> 15745314 15750158 <class 'int'> JNE_REL8_32 | 44 <class 'bytes'>\n",
      "  new_ins :  7511 \n",
      "\n",
      "0xf04130 0xf0541f je short 00F0413Ch 740a <class 'bytes'> 15745328 15750175 <class 'int'> JE_REL8_32 | 44 <class 'bytes'>\n",
      "  new_ins :  740d \n",
      "\n",
      "0xf04134 0xf05424 jne short 00F0413Ch 7506 <class 'bytes'> 15745332 15750180 <class 'int'> JNE_REL8_32 | 44 <class 'bytes'>\n",
      "  new_ins :  7508 \n",
      "\n",
      "0xf0413e 0xf05431 je short 00F04157h 7417 <class 'bytes'> 15745342 15750193 <class 'int'> JE_REL8_32 | 44 <class 'bytes'>\n",
      "  new_ins :  741e \n",
      "\n",
      "0xf04148 0xf0543d ja short 00F04157h 770d <class 'bytes'> 15745352 15750205 <class 'int'> JA_REL8_32 | 44 <class 'bytes'>\n",
      "  new_ins :  7712 \n",
      "\n"
     ]
    },
    {
     "name": "stderr",
     "output_type": "stream",
     "text": [
      "5622it [13:44, 13.75it/s]"
     ]
    },
    {
     "name": "stdout",
     "output_type": "stream",
     "text": [
      "0xf0414f 0xf05448 call 00F14FE0h e88c0e0100 <class 'bytes'> 15745359 15750216 <class 'int'> CALL_REL32_32 | 44 <class 'bytes'>\n",
      "  new_ins :  e81c5f0100 \n",
      "\n",
      "0xf04171 0xf05475 jne short 00F0417Fh 750c <class 'bytes'> 15745393 15750261 <class 'int'> JNE_REL8_32 | 44 <class 'bytes'>\n",
      "  new_ins :  7510 \n",
      "\n",
      "0xf04174 0xf05479 call 00F02100h e887dfffff <class 'bytes'> 15745396 15750265 <class 'int'> CALL_REL32_32 | 44 <class 'bytes'>\n",
      "  new_ins :  e8c0d6ffff \n",
      "\n",
      "0xf04186 0xf0548f je short 00F04194h 740c <class 'bytes'> 15745414 15750287 <class 'int'> JE_REL8_32 | 44 <class 'bytes'>\n",
      "  new_ins :  7410 \n",
      "\n"
     ]
    },
    {
     "name": "stderr",
     "output_type": "stream",
     "text": [
      "5630it [13:47,  9.05it/s]"
     ]
    },
    {
     "name": "stdout",
     "output_type": "stream",
     "text": [
      "0xf04189 0xf05493 call 00F16660h e8d2240100 <class 'bytes'> 15745417 15750291 <class 'int'> CALL_REL32_32 | 44 <class 'bytes'>\n",
      "  new_ins :  e87c7c0100 \n",
      "\n",
      "0xf0419a 0xf054aa jbe short 00F041E0h 7644 <class 'bytes'> 15745434 15750314 <class 'int'> JBE_REL8_32 | 44 <class 'bytes'>\n",
      "  new_ins :  7657 \n",
      "\n",
      "0xf041a5 0xf054b8 je short 00F041E0h 7439 <class 'bytes'> 15745445 15750328 <class 'int'> JE_REL8_32 | 44 <class 'bytes'>\n",
      "  new_ins :  7449 \n",
      "\n",
      "0xf041ac 0xf054c0 je short 00F041DAh 742c <class 'bytes'> 15745452 15750336 <class 'int'> JE_REL8_32 | 44 <class 'bytes'>\n",
      "  new_ins :  7439 \n",
      "\n",
      "0xf041b4 0xf054ca jbe short 00F041DAh 7624 <class 'bytes'> 15745460 15750346 <class 'int'> JBE_REL8_32 | 44 <class 'bytes'>\n",
      "  new_ins :  762f \n",
      "\n",
      "0xf041bb 0xf054d2 jae short 00F041DAh 731d <class 'bytes'> 15745467 15750354 <class 'int'> JAE_REL8_32 | 44 <class 'bytes'>\n",
      "  new_ins :  7327 \n",
      "\n"
     ]
    },
    {
     "name": "stderr",
     "output_type": "stream",
     "text": [
      "5659it [13:50,  9.87it/s]"
     ]
    },
    {
     "name": "stdout",
     "output_type": "stream",
     "text": [
      "0xf041d2 0xf054f2 call 00F14FE0h e8090e0100 <class 'bytes'> 15745490 15750386 <class 'int'> CALL_REL32_32 | 44 <class 'bytes'>\n",
      "  new_ins :  e8725e0100 \n",
      "\n",
      "0xf041de 0xf05501 jb short 00F041A0h 72c0 <class 'bytes'> 15745502 15750401 <class 'int'> JB_REL8_32 | 44 <class 'bytes'>\n",
      "  new_ins :  72ae \n",
      "\n"
     ]
    },
    {
     "name": "stderr",
     "output_type": "stream",
     "text": [
      "5680it [13:53,  8.20it/s]"
     ]
    },
    {
     "name": "stdout",
     "output_type": "stream",
     "text": [
      "0xf041fe 0xf05530 call 00F19DD0h e8cd5b0100 <class 'bytes'> 15745534 15750448 <class 'int'> CALL_REL32_32 | 44 <class 'bytes'>\n",
      "  new_ins :  e88cc50100 \n",
      "\n"
     ]
    },
    {
     "name": "stderr",
     "output_type": "stream",
     "text": [
      "5683it [13:58,  5.08it/s]"
     ]
    },
    {
     "name": "stdout",
     "output_type": "stream",
     "text": [
      "0xf04206 0xf05539 call 00F1B470h e865720100 <class 'bytes'> 15745542 15750457 <class 'int'> CALL_REL32_32 | 44 <class 'bytes'>\n",
      "  new_ins :  e8e3e30100 \n",
      "\n"
     ]
    },
    {
     "name": "stderr",
     "output_type": "stream",
     "text": [
      "5688it [14:18,  1.53it/s]"
     ]
    },
    {
     "name": "stdout",
     "output_type": "stream",
     "text": [
      "0xf04214 0xf0554b jmp near ptr 69AF2A0Eh e9f5e7be68 <class 'bytes'> 15745556 15750475 <class 'int'> JMP_REL32_32 | 44 <class 'bytes'>\n",
      "  new_ins :  e913b8bf68 \n",
      "\n",
      "0xf0422a 0xf05569 jne short 00F04277h 754b <class 'bytes'> 15745578 15750505 <class 'int'> JNE_REL8_32 | 44 <class 'bytes'>\n",
      "  new_ins :  7564 \n",
      "\n",
      "0xf04232 0xf05574 je short 00F04276h 7442 <class 'bytes'> 15745586 15750516 <class 'int'> JE_REL8_32 | 44 <class 'bytes'>\n",
      "  new_ins :  7457 \n",
      "\n",
      "0xf0423a 0xf0557e jb short 00F04276h 723a <class 'bytes'> 15745594 15750526 <class 'int'> JB_REL8_32 | 44 <class 'bytes'>\n",
      "  new_ins :  724d \n",
      "\n",
      "0xf04242 0xf05587 ja short 00F04276h 7732 <class 'bytes'> 15745602 15750535 <class 'int'> JA_REL8_32 | 44 <class 'bytes'>\n",
      "  new_ins :  7744 \n",
      "\n",
      "0xf0424b 0xf05593 je short 00F04276h 7429 <class 'bytes'> 15745611 15750547 <class 'int'> JE_REL8_32 | 44 <class 'bytes'>\n",
      "  new_ins :  7438 \n",
      "\n",
      "0xf04257 0xf055a1 je short 00F04262h 7409 <class 'bytes'> 15745623 15750561 <class 'int'> JE_REL8_32 | 44 <class 'bytes'>\n",
      "  new_ins :  740e \n",
      "\n",
      "0xf0425c 0xf055a8 jb short 00F04250h 72f2 <class 'bytes'> 15745628 15750568 <class 'int'> JB_REL8_32 | 44 <class 'bytes'>\n",
      "  new_ins :  72ef \n",
      "\n"
     ]
    },
    {
     "name": "stderr",
     "output_type": "stream",
     "text": [
      "5727it [14:18,  6.67it/s]\n"
     ]
    },
    {
     "ename": "KeyboardInterrupt",
     "evalue": "",
     "output_type": "error",
     "traceback": [
      "\u001b[0;31m---------------------------------------------------------------------------\u001b[0m",
      "\u001b[0;31mKeyboardInterrupt\u001b[0m                         Traceback (most recent call last)",
      "\u001b[0;32m<ipython-input-7-14a606d93b50>\u001b[0m in \u001b[0;36m<module>\u001b[0;34m\u001b[0m\n\u001b[1;32m   1199\u001b[0m         \u001b[0mprint\u001b[0m\u001b[0;34m(\u001b[0m\u001b[0mfile_path\u001b[0m\u001b[0;34m)\u001b[0m\u001b[0;34m\u001b[0m\u001b[0;34m\u001b[0m\u001b[0m\n\u001b[1;32m   1200\u001b[0m \u001b[0;34m\u001b[0m\u001b[0m\n\u001b[0;32m-> 1201\u001b[0;31m         \u001b[0mnew_text\u001b[0m\u001b[0;34m,\u001b[0m \u001b[0mmodified_address\u001b[0m\u001b[0;34m,\u001b[0m \u001b[0mcaller_callee_dict\u001b[0m\u001b[0;34m,\u001b[0m \u001b[0mchecking_target_address\u001b[0m \u001b[0;34m=\u001b[0m \u001b[0mmake_new_text\u001b[0m\u001b[0;34m(\u001b[0m\u001b[0mfile_path\u001b[0m\u001b[0;34m,\u001b[0m \u001b[0mnumber_of_nop\u001b[0m\u001b[0;34m)\u001b[0m\u001b[0;34m\u001b[0m\u001b[0;34m\u001b[0m\u001b[0m\n\u001b[0m\u001b[1;32m   1202\u001b[0m \u001b[0;34m\u001b[0m\u001b[0m\n\u001b[1;32m   1203\u001b[0m         \u001b[0;32mif\u001b[0m \u001b[0mnew_text\u001b[0m \u001b[0;32mis\u001b[0m \u001b[0;32mNone\u001b[0m\u001b[0;34m:\u001b[0m\u001b[0;34m\u001b[0m\u001b[0;34m\u001b[0m\u001b[0m\n",
      "\u001b[0;32m<ipython-input-7-14a606d93b50>\u001b[0m in \u001b[0;36mmake_new_text\u001b[0;34m(file_path, number_of_nop)\u001b[0m\n\u001b[1;32m    775\u001b[0m                 \u001b[0mfrozen_dict\u001b[0m \u001b[0;34m=\u001b[0m \u001b[0mdict_to_frozenset\u001b[0m\u001b[0;34m(\u001b[0m\u001b[0mjump_dict\u001b[0m\u001b[0;34m)\u001b[0m\u001b[0;34m\u001b[0m\u001b[0;34m\u001b[0m\u001b[0m\n\u001b[1;32m    776\u001b[0m \u001b[0;34m\u001b[0m\u001b[0m\n\u001b[0;32m--> 777\u001b[0;31m                 \u001b[0madding_nop_cnt\u001b[0m\u001b[0;34m,\u001b[0m \u001b[0mincreace_instruction\u001b[0m\u001b[0;34m,\u001b[0m \u001b[0mincrease_address\u001b[0m \u001b[0;34m=\u001b[0m \u001b[0mcount_instructions\u001b[0m\u001b[0;34m(\u001b[0m\u001b[0minstr\u001b[0m\u001b[0;34m.\u001b[0m\u001b[0mip\u001b[0m\u001b[0;34m,\u001b[0m \u001b[0maddress\u001b[0m\u001b[0;34m,\u001b[0m \u001b[0msection_text\u001b[0m\u001b[0;34m,\u001b[0m \u001b[0mbit\u001b[0m\u001b[0;34m,\u001b[0m \u001b[0mnumber_of_nop\u001b[0m\u001b[0;34m,\u001b[0m \u001b[0mfrozen_dict\u001b[0m\u001b[0;34m,\u001b[0m \u001b[0mnop_cnt\u001b[0m\u001b[0;34m,\u001b[0m \u001b[0mincrease_instr\u001b[0m\u001b[0;34m,\u001b[0m \u001b[0mpe_data\u001b[0m\u001b[0;34m,\u001b[0m \u001b[0mtext_section\u001b[0m\u001b[0;34m,\u001b[0m \u001b[0mimage_base\u001b[0m\u001b[0;34m,\u001b[0m \u001b[0mvirtual_address\u001b[0m\u001b[0;34m)\u001b[0m\u001b[0;34m\u001b[0m\u001b[0;34m\u001b[0m\u001b[0m\n\u001b[0m\u001b[1;32m    778\u001b[0m                 \u001b[0;31m#adding_nop_cnt, increace_instruction, increase_address = count_instructions(instr.ip, address, section_text, bit, image_base,virtual_address,number_of_nop, jump_dict, nop_cnt, increase_instr, pe_data, text_section)\u001b[0m\u001b[0;34m\u001b[0m\u001b[0;34m\u001b[0m\u001b[0;34m\u001b[0m\u001b[0m\n\u001b[1;32m    779\u001b[0m \u001b[0;34m\u001b[0m\u001b[0m\n",
      "\u001b[0;32m<ipython-input-7-14a606d93b50>\u001b[0m in \u001b[0;36mcount_instructions\u001b[0;34m(first_address, second_address, section_data, bit, number_of_nop, jump_dict, nop_cnt, increase_instr, pe_data, text_section, image_base, virtual_address)\u001b[0m\n\u001b[1;32m    319\u001b[0m                         \u001b[0;31m#print(type(jump_dict))\u001b[0m\u001b[0;34m\u001b[0m\u001b[0;34m\u001b[0m\u001b[0;34m\u001b[0m\u001b[0m\n\u001b[1;32m    320\u001b[0m \u001b[0;34m\u001b[0m\u001b[0m\n\u001b[0;32m--> 321\u001b[0;31m                         \u001b[0mtotal_increase\u001b[0m \u001b[0;34m=\u001b[0m \u001b[0mcalculate_instruction_length_increase\u001b[0m\u001b[0;34m(\u001b[0m\u001b[0minstr\u001b[0m\u001b[0;34m.\u001b[0m\u001b[0mip\u001b[0m\u001b[0;34m,\u001b[0m \u001b[0mint\u001b[0m\u001b[0;34m(\u001b[0m\u001b[0maddress\u001b[0m\u001b[0;34m,\u001b[0m\u001b[0;36m16\u001b[0m\u001b[0;34m)\u001b[0m\u001b[0;34m,\u001b[0m \u001b[0msection_data\u001b[0m\u001b[0;34m,\u001b[0m \u001b[0mbit\u001b[0m\u001b[0;34m,\u001b[0m \u001b[0mjump_dict\u001b[0m\u001b[0;34m,\u001b[0m \u001b[0mincrease_address\u001b[0m\u001b[0;34m,\u001b[0m \u001b[0mnumber_of_nop\u001b[0m\u001b[0;34m,\u001b[0m \u001b[0mpe_data\u001b[0m\u001b[0;34m,\u001b[0m \u001b[0mtext_section\u001b[0m\u001b[0;34m,\u001b[0m \u001b[0mimage_base\u001b[0m\u001b[0;34m,\u001b[0m \u001b[0mvirtual_address\u001b[0m\u001b[0;34m)\u001b[0m\u001b[0;34m\u001b[0m\u001b[0;34m\u001b[0m\u001b[0m\n\u001b[0m\u001b[1;32m    322\u001b[0m \u001b[0;34m\u001b[0m\u001b[0m\n\u001b[1;32m    323\u001b[0m                         \u001b[0moffset\u001b[0m \u001b[0;34m=\u001b[0m \u001b[0mint\u001b[0m\u001b[0;34m(\u001b[0m\u001b[0maddress\u001b[0m\u001b[0;34m,\u001b[0m\u001b[0;36m16\u001b[0m\u001b[0;34m)\u001b[0m \u001b[0;34m-\u001b[0m \u001b[0minstr\u001b[0m\u001b[0;34m.\u001b[0m\u001b[0mip\u001b[0m \u001b[0;34m-\u001b[0m \u001b[0mlen\u001b[0m\u001b[0;34m(\u001b[0m\u001b[0minstr\u001b[0m\u001b[0;34m)\u001b[0m\u001b[0;34m\u001b[0m\u001b[0;34m\u001b[0m\u001b[0m\n",
      "\u001b[0;32m<ipython-input-7-14a606d93b50>\u001b[0m in \u001b[0;36mcalculate_instruction_length_increase\u001b[0;34m(first_address, second_address, section_data, bit, jump_dict, increase_address, number_of_nop, pe_data, text_section, image_base, virtual_address)\u001b[0m\n\u001b[1;32m    403\u001b[0m     \u001b[0;32mfor\u001b[0m \u001b[0minstr\u001b[0m \u001b[0;32min\u001b[0m \u001b[0mdecoder\u001b[0m\u001b[0;34m:\u001b[0m\u001b[0;34m\u001b[0m\u001b[0;34m\u001b[0m\u001b[0m\n\u001b[1;32m    404\u001b[0m \u001b[0;34m\u001b[0m\u001b[0m\n\u001b[0;32m--> 405\u001b[0;31m         \u001b[0;32mif\u001b[0m \u001b[0;34m(\u001b[0m\u001b[0minstr\u001b[0m\u001b[0;34m.\u001b[0m\u001b[0mip\u001b[0m \u001b[0;34m<\u001b[0m \u001b[0mstart_address\u001b[0m\u001b[0;34m)\u001b[0m\u001b[0;34m:\u001b[0m\u001b[0;34m\u001b[0m\u001b[0;34m\u001b[0m\u001b[0m\n\u001b[0m\u001b[1;32m    406\u001b[0m             \u001b[0;32mcontinue\u001b[0m\u001b[0;34m\u001b[0m\u001b[0;34m\u001b[0m\u001b[0m\n\u001b[1;32m    407\u001b[0m \u001b[0;34m\u001b[0m\u001b[0m\n",
      "\u001b[0;31mKeyboardInterrupt\u001b[0m: "
     ]
    }
   ],
   "source": [
    "import distorm3\n",
    "import pefile\n",
    "from pe_library import *\n",
    "from iced_x86 import *\n",
    "from typing import Union, Dict, Sequence \n",
    "from types import ModuleType\n",
    "from keystone import *\n",
    "import pickle\n",
    "import shutil\n",
    "import r2pipe\n",
    "from tqdm import tqdm\n",
    "from common_function import *\n",
    "from functools import lru_cache\n",
    "\n",
    "old_rawPointer = 0\n",
    "old_nextPointer = 0\n",
    "\n",
    "def modify_headers(file_path, new_text, fin = None):\n",
    "    pe = pefile.PE(file_path)\n",
    "    file_format = '.'+file_path.split('.')[-1]\n",
    "\n",
    "    # Find the .text section\n",
    "    text_section = None\n",
    "    for section in pe.sections:\n",
    "        if section.Name.strip(b'\\x00').lower() == b'.text' or section.Name.strip(b'\\x00').upper() == b'CODE':\n",
    "            text_section = section\n",
    "            break\n",
    "\n",
    "    if text_section is None:\n",
    "        print(\"Error: .text section not found\")\n",
    "        return\n",
    "\n",
    "    text_section.Misc = len(new_text)\n",
    "    new_size = int((len(new_text) + pe.OPTIONAL_HEADER.FileAlignment - 1) / pe.OPTIONAL_HEADER.FileAlignment) * pe.OPTIONAL_HEADER.FileAlignment\n",
    "    new_text = new_text + b'\\x00' * (new_size - len(new_text))\n",
    "\n",
    "    size_diff = new_size - text_section.SizeOfRawData\n",
    "    \n",
    "    if fin:\n",
    "        print(f\"[+] new Size of Raw Data: {hex(new_size)}\")\n",
    "        print(f\"[+] size diff: {hex(size_diff)}\")\n",
    "\n",
    "    text_section.SizeOfRawData = new_size\n",
    "    pe.OPTIONAL_HEADER.SizeOfImage = max(pe.OPTIONAL_HEADER.SizeOfImage, text_section.VirtualAddress + new_size)\n",
    "\n",
    "    prev_section = text_section\n",
    "    for section in pe.sections:\n",
    "        if section.VirtualAddress > text_section.VirtualAddress:\n",
    "            section.VirtualAddress = (prev_section.VirtualAddress + \n",
    "                                      (prev_section.Misc + pe.OPTIONAL_HEADER.SectionAlignment - 1) // pe.OPTIONAL_HEADER.SectionAlignment * pe.OPTIONAL_HEADER.SectionAlignment)\n",
    "            section.PointerToRawData += size_diff\n",
    "            prev_section = section\n",
    "\n",
    "    pe.write(filename=file_path.replace(file_format, \"_tmp\"+file_format))\n",
    "    pe.close()\n",
    "    return new_text\n",
    "\n",
    "def modify_section(file_path, new_text, save_dir, number_of_nop, fin = None):\n",
    "    global old_rawPointer\n",
    "    global old_nextPointer\n",
    "    number_of_nop = str(number_of_nop)\n",
    "    file_format = '.'+file_path.split('.')[-1]\n",
    "    \n",
    "    pe = pefile.PE(file_path)\n",
    "        \n",
    "    for section in pe.sections:\n",
    "        if section.Name.strip(b'\\x00').lower() == b'.text' or section.Name.strip(b'\\x00').upper() == b'CODE':\n",
    "            text_section = section\n",
    "            break\n",
    "    \n",
    "    tmp_file = file_path.replace(file_format, \"_tmp\"+file_format)\n",
    "    \n",
    "    with open(tmp_file, \"rb\") as tmp:\n",
    "        tmp_binary = tmp.read()\n",
    "\n",
    "    new_binary = tmp_binary[:old_rawPointer]\n",
    "    new_binary += new_text\n",
    "    new_binary += tmp_binary[text_section.PointerToRawData+text_section.SizeOfRawData:]\n",
    "\n",
    "    with open(file_path.replace(file_format, \"_adding_\"+number_of_nop+file_format), \"wb\") as f: \n",
    "        f.write(new_binary)\n",
    "        \n",
    "    os.remove(tmp_file)\n",
    "    \n",
    "    file_name = file_path.split('/')[-1].replace(file_format, \"_adding_\"+number_of_nop+file_format)\n",
    "    \n",
    "    if fin:\n",
    "        print(f\"[+] new size of binary : {len(new_binary)}\")\n",
    "        file_name = file_name.replace('_adding_'+number_of_nop+file_format,'_nop_fin_'+number_of_nop+file_format)\n",
    "        \n",
    "        directory, old_filename = os.path.split(save_dir)\n",
    "        new_path = os.path.join(directory, file_name)\n",
    "        \n",
    "        os.rename(file_path.replace(file_format, \"_adding_\"+number_of_nop+file_format), new_path)\n",
    "        #os.system('rm -rf ./'+save_dir)\n",
    "        print(\"modified_section_return save_dir : \",new_path)\n",
    "        return new_path\n",
    "\n",
    "    else:\n",
    "\n",
    "        os.rename(file_path.replace(file_format, \"_adding_\"+number_of_nop+file_format), save_dir+file_name)\n",
    "        print(\"modified_section_return save_dir : \",save_dir+file_name)\n",
    "        return save_dir+file_name\n",
    "\n",
    "def modify_tramp(save_dir,modified_address, fin = None):\n",
    "    file_path = save_dir\n",
    "    pe = pefile.PE(file_path)\n",
    "    pe_data = open(file_path, \"rb\").read()\n",
    "\n",
    "    # .tramp 섹션 찾기\n",
    "    section = next(section for section in pe.sections if section.Name.rstrip(b'\\x00') == b'.Tram')\n",
    "\n",
    "    virtual_address = section.VirtualAddress\n",
    "    image_base = pe.OPTIONAL_HEADER.ImageBase\n",
    "    \n",
    "    section_start = section.PointerToRawData\n",
    "    section_size = section.SizeOfRawData\n",
    "    \n",
    "    data = bytearray(pe.get_memory_mapped_image()[section_start:section_start + section_size])\n",
    "\n",
    "    old_value = None\n",
    "    new_value = None\n",
    "\n",
    "    for i in range(0, len(data)):\n",
    "        if '0x90' not in str(hex(data[i])):\n",
    "\n",
    "            old_value = data[i:i+5]\n",
    "            index = data.find(data[i:i+5])\n",
    "            instruction =  data[i:i+5].hex()\n",
    "            \n",
    "            present_address = hex(image_base+virtual_address+i)\n",
    "            instruction_len = int(len(data[i:i+5].hex())/2)\n",
    "            \n",
    "            offset = to_little_endian(instruction[2:])\n",
    "            int_operand = hex_to_signed_int(offset)\n",
    "\n",
    "            target_address = instruction_len + int(present_address,16) + int_operand\n",
    "            new_address = modified_address[target_address]\n",
    "            \n",
    "            new_offset = new_address - instruction_len - int(present_address,16)\n",
    "            \n",
    "            operand = hex(new_offset).replace('x','0',1)\n",
    "            \n",
    "            if len(operand)%2 !=0:\n",
    "                new_operand = '0'+operand\n",
    "                operand = new_operand\n",
    "            \n",
    "            operand = to_little_endian(operand)\n",
    "            operand += '0' * (8-len(operand))\n",
    "            \n",
    "            if fin:\n",
    "                print(\"Trampoline Address : \",hex(target_address),\"-->\",hex(new_address))\n",
    "                print(\".Tramp operand : \",operand,len(operand))\n",
    "                \n",
    "            new_value =  bytes.fromhex(('e9'+operand))\n",
    "\n",
    "            break\n",
    "\n",
    "    # 변경된 데이터를 PE 파일에 반영\n",
    "    pe.set_bytes_at_offset(section_start + index, new_value)\n",
    "\n",
    "    output_file_path = file_path \n",
    "    pe.write(output_file_path)\n",
    "    #print(f\"Modified PE file saved as {output_file_path}\")\n",
    "    \n",
    "def modify_rdata(save_dir, modified_address, fin = None):\n",
    "    # PE 파일 로드\n",
    "    file_path = save_dir\n",
    "    pe = pefile.PE(file_path)\n",
    "\n",
    "    # .rdata 섹션 찾기\n",
    "    for section in pe.sections:\n",
    "        if section.Name.decode().strip('\\x00').lower() in ['.data', '.rdata', 'data', 'const']: # add malware's custom section name if you want\n",
    "            section = section\n",
    "            rdata_start = section.VirtualAddress\n",
    "            rdata_end = rdata_start + section.Misc_VirtualSize\n",
    "            section_size = section.SizeOfRawData\n",
    "            section_start = section.PointerToRawData\n",
    "\n",
    "            data = bytearray(pe.get_memory_mapped_image()[rdata_start:rdata_start + section_size])\n",
    "            #print(data)\n",
    "\n",
    "            # 절대 주소 필터링을 위한 범위 설정\n",
    "            image_base = pe.OPTIONAL_HEADER.ImageBase\n",
    "            text_section = next(section for section in pe.sections if section.Name.rstrip(b'\\x00').lower() == b'.text' or section.Name.strip(b'\\x00').upper() == b'CODE')\n",
    "            text_start = text_section.VirtualAddress + image_base\n",
    "            text_end = text_start + text_section.Misc_VirtualSize\n",
    "\n",
    "            for i in range(0, section.Misc_VirtualSize, 4):\n",
    "                value = int.from_bytes(pe.get_data(rdata_start + i, 4), byteorder='little')\n",
    "\n",
    "                if text_start <= value < text_end:\n",
    "                    # 절대 주소 수정\n",
    "                    #try:\n",
    "                    if value in modified_address:\n",
    "                        #if modified_address[value]:\n",
    "                        new_address = modified_address[value]\n",
    "                        index = data.find(pe.get_data(rdata_start + i, 4))\n",
    "\n",
    "                        if fin:\n",
    "                            print(\"Modified Address : \", hex(value),\" --> \",hex(new_address))\n",
    "\n",
    "                        new_address = hex(new_address).replace('x','0',1)\n",
    "                        new_address = to_little_endian(new_address)\n",
    "                        pe.set_bytes_at_offset(section_start + index, bytes.fromhex(new_address))\n",
    "                   # except:\n",
    "                    else:\n",
    "                        continue\n",
    "\n",
    "    # 수정된 PE 파일 저장\n",
    "    output_file_path = save_dir\n",
    "    pe.write(output_file_path)\n",
    "    print(f\"Modified PE file saved as {output_file_path}\")\n",
    "    \n",
    "    return output_file_path\n",
    "\n",
    "\n",
    "def to_little_endian(hex_str):\n",
    "    # 2자리씩 끊어서 리스트로 만듭니다.\n",
    "    bytes_list = [hex_str[i:i+2] for i in range(0, len(hex_str), 2)]\n",
    "    # 리스트를 역순으로 뒤집습니다.\n",
    "    bytes_list.reverse()\n",
    "    # 다시 문자열로 결합합니다.\n",
    "    little_endian_str = ''.join(bytes_list)\n",
    "    return little_endian_str\n",
    "    \n",
    "    \n",
    "def should_add_nop(instruction):\n",
    "    control_flow_instructions = [\n",
    "        # 분기 명령어\n",
    "        'jmp', 'jz', 'je', 'jnz', 'jne', 'ja', 'jnbe', 'jb', 'jnae', 'jc', 'jae', 'jnb', 'jnc',\n",
    "        'jbe', 'jna', 'jg', 'jnle', 'jl', 'jnge', 'jge', 'jnl', 'jle', 'jng', 'jo', 'jno', 'js', 'jns',\n",
    "        # 호출 및 리턴 명령어\n",
    "        'call', 'ret', 'retf', 'iret', 'iretd', 'iretq',\n",
    "        # 인터럽트 명령어\n",
    "        'int', 'int3', 'into',\n",
    "        # 제어 흐름 변경 명령어\n",
    "        'loop', 'loope', 'loopne', 'syscall', 'sysret'\n",
    "    ]\n",
    "\n",
    "    opcode = instruction.split()[0].lower()\n",
    "    return opcode not in control_flow_instructions\n",
    "\n",
    "def negative_to_little_endian_hex(negative_integer):\n",
    "    # 음수를 32비트 2의 보수 16진수로 변환\n",
    "    hex_string = hex(negative_integer & 0xFFFFFFFF)[2:]\n",
    "\n",
    "    # 16진수 문자열을 8자리로 맞추기 위해 앞에 0을 추가\n",
    "    hex_string = hex_string.zfill(8)\n",
    "\n",
    "    # 16진수 문자열을 2자리씩 끊어서 리스트에 저장\n",
    "    hex_bytes = [hex_string[i:i+2] for i in range(0, len(hex_string), 2)]\n",
    "\n",
    "    # 바이트 순서를 반전하여 리틀 엔디안으로 변환\n",
    "    little_endian_hex = ''.join(reversed(hex_bytes))\n",
    "\n",
    "    return little_endian_hex\n",
    "\n",
    "def hex_to_signed_int(hex_str):\n",
    "    value = int(hex_str, 16)\n",
    "    if value & (1 << (len(hex_str) * 4 - 1)):\n",
    "        value -= 1 << (len(hex_str) * 4)\n",
    "    return value\n",
    "\n",
    "\n",
    "def dict_to_frozenset(d):\n",
    "    return frozenset(d.items())\n",
    "\n",
    "@lru_cache(maxsize=None)\n",
    "def decode_section_data(bit, section_data, addr):\n",
    "    return list(Decoder(bit, section_data, ip=addr))\n",
    "\n",
    "@lru_cache(maxsize=None)\n",
    "def count_instructions(first_address, second_address, section_data, bit, number_of_nop, jump_dict, nop_cnt, increase_instr, pe_data, text_section, image_base, virtual_address):\n",
    "    addr = image_base+virtual_address\n",
    "    #decoder = Decoder(bit, section_data, ip=addr)\n",
    "    decoder = decode_section_data(bit, section_data, addr)\n",
    "    jump_dict = dict(jump_dict)\n",
    "    \n",
    "    instruction_count = 0\n",
    "    increace_instruction =0\n",
    "    increase_address = {}\n",
    "    \n",
    "    start_address = min(first_address, second_address)\n",
    "    end_address = max(first_address, second_address)\n",
    "            \n",
    "    for instr in decoder:\n",
    "        \n",
    "        if (instr.ip < start_address):\n",
    "            continue\n",
    "            \n",
    "        #else:\n",
    "        if start_address <= instr.ip <= end_address:\n",
    "            if instr.ip == end_address:\n",
    "                break\n",
    "            else:\n",
    "                instr_str = str(instr)\n",
    "                if any(x in instr_str for x in ('ret', 'int 3', 'nop')):\n",
    "                    continue\n",
    "\n",
    "                if not should_add_nop(str(instr)):\n",
    "                    if len(instr)==2 and 'REL' in code_to_string(instr.code):\n",
    "                       \n",
    "                        present_instr = pe_data[text_section.PointerToRawData + (instr.ip-(image_base+virtual_address)):text_section.PointerToRawData + ((instr.next_ip)-(image_base+virtual_address))]\n",
    " \n",
    "                        operand = present_instr.hex()[2:]\n",
    "\n",
    "                        if 'ptr' in str(instr) and len(operand)>8:\n",
    "                            operand = present_instr.hex()[4:]\n",
    "\n",
    "                        address = hex(instr.ip+len(instr)+hex_to_signed_int(to_little_endian(operand))).replace('0x','',1).upper()   \n",
    "\n",
    "                        anc = count_instructions_between_addresses(instr.ip, int(address,16), section_data, bit, (image_base+virtual_address), number_of_nop)\n",
    "                        \n",
    "                       # frozen_dict = dict_to_frozenset(jump_dict)\n",
    "                        #print(type(jump_dict))\n",
    "\n",
    "                        total_increase = calculate_instruction_length_increase(instr.ip, int(address,16), section_data, bit, dict_to_frozenset(jump_dict), dict_to_frozenset(increase_address), number_of_nop, pe_data, text_section, image_base, virtual_address)\n",
    "\n",
    "                        offset = int(address,16) - instr.ip - len(instr)\n",
    "\n",
    "                        operand = offset + anc + total_increase\n",
    "\n",
    "                        if 0>offset:\n",
    "                            operand = offset - anc - total_increase\n",
    "\n",
    "                        #print(\"  \",hex(instr.ip), instr, operand, offset, anc, total_increase)\n",
    "                        if operand<=(-128) or operand>=127:\n",
    "                            increace_instruction+=1\n",
    "                            op_code = str(instr).split(' ')[0]\n",
    "\n",
    "                            new_ins_len = 5 if 'jmp' in op_code else 6\n",
    "                           # print(\"  \",hex(instr.ip), instr, operand, offset, anc, total_increase)\n",
    "                            increase_address[instr.ip] = int(new_ins_len - len(instr))\n",
    "                    continue\n",
    "\n",
    "                if instr.ip == end_address:\n",
    "                    break\n",
    "\n",
    "                if instr.ip == start_address:\n",
    "                    instruction_count += (1*number_of_nop)\n",
    "                    continue\n",
    "\n",
    "                instruction_count += (1*number_of_nop)\n",
    "                \n",
    "    return instruction_count, increace_instruction, increase_address\n",
    "\n",
    "@lru_cache(maxsize=None)\n",
    "def count_instructions_between_addresses(first_address, second_address, section_data, bit, addr, number_of_nop):\n",
    "    #decoder = Decoder(bit, section_data, ip=addr)\n",
    "    decoder = decode_section_data(bit, section_data, addr)\n",
    "         \n",
    "    instruction_count_num = 0\n",
    "    jump_counter = {}\n",
    "    \n",
    "    start_address = min(first_address, second_address)\n",
    "    end_address = max(first_address, second_address)\n",
    "\n",
    "    for instr in decoder:\n",
    "        \n",
    "        if (instr.ip < start_address):\n",
    "            continue\n",
    "            \n",
    "        if start_address <= instr.ip <= end_address:\n",
    "            if instr.ip == end_address:\n",
    "                break\n",
    "\n",
    "            else:\n",
    "                instr_str = str(instr)\n",
    "                if any(x in instr_str for x in ('ret', 'int 3', 'nop')):\n",
    "                    continue\n",
    "\n",
    "                if not should_add_nop(str(instr)):\n",
    "                    op_code = str(instr).split(' ')[0]\n",
    "                    new_ins_len = 5 if 'jmp' in op_code else 6\n",
    "                    continue\n",
    "\n",
    "                if instr.ip == end_address:\n",
    "                    break\n",
    "\n",
    "                if instr.ip == start_address:\n",
    "                    instruction_count_num += (1*number_of_nop)\n",
    "                    continue\n",
    "\n",
    "                instruction_count_num += (1*number_of_nop)\n",
    "    \n",
    "    return instruction_count_num\n",
    "\n",
    "@lru_cache(maxsize=None)\n",
    "def calculate_instruction_length_increase(first_address, second_address, section_data, bit, jump_dict, increase_address, number_of_nop, pe_data, text_section, image_base, virtual_address):\n",
    "    addr = image_base+virtual_address\n",
    "    #decoder = Decoder(bit, section_data, ip=addr)\n",
    "    decoder = decode_section_data(bit, section_data, addr)\n",
    "    jump_dict = dict(jump_dict)\n",
    "    increase_address = dict(increase_address)\n",
    "    total_increase = 0\n",
    "    \n",
    "    start_address = min(first_address, second_address)\n",
    "    end_address = max(first_address, second_address)\n",
    "\n",
    "    for instr in decoder:\n",
    "        \n",
    "        if (instr.ip < start_address):\n",
    "            continue\n",
    "            \n",
    "        if start_address <= instr.ip <= end_address:\n",
    "            if instr.ip == end_address:\n",
    "                break\n",
    "\n",
    "            else:\n",
    "                instr_str = str(instr)\n",
    "                if any(x in instr_str for x in ('ret', 'int 3', 'nop')):\n",
    "                    continue\n",
    "\n",
    "                if not should_add_nop(str(instr)):\n",
    "\n",
    "\n",
    "                    if len(instr)==2 and 'REL' in code_to_string(instr.code):\n",
    "                       \n",
    "                        present_instr = pe_data[text_section.PointerToRawData + (instr.ip-(image_base+virtual_address)):text_section.PointerToRawData + ((instr.next_ip)-(image_base+virtual_address))]\n",
    " \n",
    "                        operand = present_instr.hex()[2:]\n",
    "\n",
    "                        if 'ptr' in str(instr) and len(operand)>8:\n",
    "                            operand = present_instr.hex()[4:]\n",
    "\n",
    "                        address = hex(instr.ip+len(instr)+hex_to_signed_int(to_little_endian(operand))).replace('0x','',1).upper()   \n",
    "\n",
    "                        offset = int(address,16) - instr.ip - len(instr)\n",
    "\n",
    "                        anc = count_instructions_between_addresses(instr.ip, int(address,16), section_data, bit, addr, number_of_nop)\n",
    "\n",
    "                        if number_of_nop ==1:\n",
    "                            jmp_calibration = 0\n",
    "                            calibration = 0\n",
    "                        else:\n",
    "                            jmp_calibration = sum(value for i, value in increase_address.items() if instr.ip <= i <= int(address,16))\n",
    "                            calibration = sum(value for i, value in jump_dict.items() if start_address <= i <= end_address)\n",
    "\n",
    "                        operand = offset+anc+calibration+jmp_calibration\n",
    "\n",
    "                        if 0>offset:\n",
    "                            operand = offset-anc-calibration-jmp_calibration\n",
    "\n",
    "                        if operand<=(-128) or operand>=127:\n",
    "                            op_code = str(instr).split(' ')[0]\n",
    "\n",
    "                            new_ins_len = 5 if 'jmp' in op_code else 6\n",
    "\n",
    "                            total_increase += int(new_ins_len - len(instr))\n",
    "                    continue\n",
    "\n",
    "                if instr.ip == end_address:\n",
    "                    break\n",
    "\n",
    "                if instr.ip == start_address:\n",
    "                    continue\n",
    "                   \n",
    "    return total_increase\n",
    "\n",
    "def assemble_asm(asm_code, arch, mode, big_endian=False):\n",
    "    # 아키텍처와 모드에 맞게 Keystone 인스턴스 생성\n",
    "    ks = Ks(arch, mode)\n",
    "    \n",
    "    # 어셈블리 코드를 머신 코드로 변환\n",
    "    encoding, count = ks.asm(asm_code)\n",
    "    \n",
    "    # 변환된 머신 코드를 반환\n",
    "    return encoding\n",
    "\n",
    "def create_enum_dict(module: ModuleType) -> Dict[int, str]:\n",
    "    return {module.__dict__[key]:key for key in module.__dict__ if isinstance(module.__dict__[key], int)}\n",
    "\n",
    "CODE_TO_STRING: Dict[Code_, str] = create_enum_dict(Code)\n",
    "def code_to_string(value: Code_) -> str:\n",
    "    s = CODE_TO_STRING.get(value)\n",
    "    if s is None:\n",
    "        return str(value) + \" /*Code enum*/\"\n",
    "    return s\n",
    "\n",
    "def value_int_convert(value):\n",
    "    value = value[0].replace('h','',1)\n",
    "    value = value.replace(',','',1)\n",
    "    hex_value = value.replace('[','',1).replace(']','',1)\n",
    "    \n",
    "    if '80' in hex_value:\n",
    "        hex_value = value.replace('[','',1).replace(']','',1). replace('80','',1)\n",
    "        \n",
    "    value = int(hex_value,16)\n",
    "    return value, hex_value\n",
    "    \n",
    "def calc_offset(target_address, instr, ori_operand, op_code):\n",
    "    if instr.ip > target_address:\n",
    "        new_operand = target_address - instr.ip - len(instr)\n",
    "        operand = negative_to_little_endian_hex(new_operand)\n",
    "\n",
    "    if instr.ip < target_address:\n",
    "        new_operand = target_address - instr.ip - len(instr)\n",
    "        operand = hex(new_operand).replace('x','0',1) # target_address affset\n",
    "        operand = operand.replace('00','',1)\n",
    "\n",
    "        if len(ori_operand) - len(operand) != 0:\n",
    "            new_operand = '0'* int(len(ori_operand) - len(operand))\n",
    "            new_operand+= operand\n",
    "            operand = new_operand\n",
    "\n",
    "        operand = to_little_endian(operand)\n",
    "\n",
    "    new_ins = op_code+operand\n",
    "\n",
    "    return new_ins, op_code, operand \n",
    "\n",
    "def hex_string_to_bytes(hex_string):\n",
    "    # 입력 문자열에서 공백 제거 및 소문자 처리\n",
    "    hex_string = hex_string.strip().upper()\n",
    "    \n",
    "    # 16진수 문자열을 바이트로 변환\n",
    "    bytes_result = bytes.fromhex(hex_string)\n",
    "    \n",
    "    # 바이트 문자열을 반환\n",
    "    return bytes_result\n",
    "\n",
    "\n",
    "def is_prefixes(hex_string):\n",
    "    # 프리픽스 집합 정의\n",
    "    prefixes = {\n",
    "        '26', '2E', '36', '3E', '64', '65',  # Segment prefixes\n",
    "        '66',  # Operand size override prefix\n",
    "        '67',  # Address size override prefix\n",
    "        'F0',  # Lock prefix\n",
    "        'F2', 'F3'  # Repeat prefixes\n",
    "    }\n",
    "    \n",
    "    # 입력된 문자열을 대문자로 변환\n",
    "    hex_string = hex_string.upper()\n",
    "    \n",
    "    # 결과를 저장할 문자열\n",
    "    result = hex_string\n",
    "    removed_prefixes = []\n",
    "    \n",
    "    # 프리픽스를 제거할 때 사용할 변수\n",
    "    while len(result) > 2:\n",
    "        # 앞의 2바이트 추출\n",
    "        first_two_bytes = result[:2]\n",
    "        remaining_bytes = result[2:]\n",
    "        \n",
    "        # 2바이트를 검사하여 프리픽스인지 확인\n",
    "        if first_two_bytes in prefixes:\n",
    "            # 프리픽스가 포함된 경우 제거\n",
    "            removed_prefixes.append(first_two_bytes)\n",
    "            result = remaining_bytes\n",
    "        else:\n",
    "            # 프리픽스가 없으면 반복 종료\n",
    "            break\n",
    "            \n",
    "    removed_prefixes_str = ''.join(removed_prefixes)\n",
    "    \n",
    "    # 결과 반환: 지워진 프리픽스와 프리픽스가 지워진 문자열\n",
    "    return hex_string_to_bytes(removed_prefixes_str), hex_string_to_bytes(result)\n",
    "\n",
    "def make_new_text(file_path ,number_of_nop):\n",
    "    \n",
    "    global old_rawPointer\n",
    "    global old_nextPointer\n",
    "        \n",
    "    pe = pefile.PE(file_path)\n",
    "    pe_data = open(file_path, \"rb\").read()\n",
    "        \n",
    "    prev_section = None   \n",
    "    \n",
    "    for section in pe.sections:\n",
    "        if section.Name.strip(b'\\x00') == b'.text' or section.Name.strip(b'\\x00').upper() == b'CODE':\n",
    "            old_nextPointer = section.PointerToRawData\n",
    "            text_section = section\n",
    "            break\n",
    "        prev_section = section\n",
    "\n",
    "    if text_section is None or text_section.SizeOfRawData == 0:\n",
    "        print(\"Error: .text section not found\")\n",
    "        return None, None, None, None\n",
    "\n",
    "    old_rawPointer = text_section.PointerToRawData\n",
    "    old_size = text_section.Misc\n",
    "    virtual_address = text_section.VirtualAddress\n",
    "    image_base = pe.OPTIONAL_HEADER.ImageBase\n",
    "    section_text = pe_data[text_section.PointerToRawData: text_section.PointerToRawData + text_section.Misc]\n",
    "          \n",
    "    #bitness = 64 if pe.FILE_HEADER.Machine == 0x8664 else 32\n",
    "    \n",
    "    if pe.FILE_HEADER.Machine == 0x8664:\n",
    "        decoder = Decoder(64, section_text, ip = image_base+virtual_address)\n",
    "        bit = 64\n",
    "        address_pattern_short = re.compile(r'\\b,?[0-9A-Fa-f]{12}h\\b|,?\\[\\b[0-9A-Fa-f]{12}h\\b\\]')\n",
    "        \n",
    "    else:\n",
    "        decoder = Decoder(32, section_text, ip = image_base+virtual_address)\n",
    "        bit = 32\n",
    "        address_pattern_short = re.compile(r'\\b,?[0-9A-Fa-f]{6}h\\b|,?\\[\\b[0-9A-Fa-f]{6}h\\b\\]')\n",
    "    \n",
    "    print(bit)\n",
    "        \n",
    "    info_factory = InstructionInfoFactory()\n",
    "    formatter = Formatter(FormatterSyntax.NASM)\n",
    "    \n",
    "    new_text = b''\n",
    "    \n",
    "    text_start = text_section.VirtualAddress + image_base\n",
    "    text_end = text_start + text_section.Misc_VirtualSize\n",
    "     \n",
    "    jump_mappings = {\n",
    "    '70': '0F80',  # JO -> JNO\n",
    "    '71': '0F81',  # JNO -> JNO\n",
    "    '72': '0F82',  # JB/JNAE -> JB/JNAE\n",
    "    '73': '0F83',  # JAE/JNB -> JAE/JNB\n",
    "    '74': '0F84',  # JE/JZ -> JE/JZ\n",
    "    '75': '0F85',  # JNE/JNZ -> JNE/JNZ\n",
    "    '76': '0F86',  # JBE/JNA -> JBE/JNA\n",
    "    '77': '0F87',  # JA/JNBE -> JA/JNBE\n",
    "    '78': '0F88',  # JS -> JS\n",
    "    '79': '0F89',  # JNS -> JNS\n",
    "    '7A': '0F8A',  # JP/JPE -> JP/JPE\n",
    "    '7B': '0F8B',  # JNP/JPO -> JNP/JPO\n",
    "    '7C': '0F8C',  # JL/JNGE -> JL/JNGE\n",
    "    '7D': '0F8D',  # JGE/JNL -> JGE/JNL\n",
    "    '7E': '0F8E',  # JLE/JNG -> JLE/JNG\n",
    "    '7F': '0F8F',  # JG/JNLE -> JG/JNLE\n",
    "    'EB': 'E9',    # JMP -> JMP\n",
    "    'E2': '0F85',  # loop\n",
    "    'E0': '0F8A',  #loopne    \n",
    "    'E1': '0F82'  #loope   \n",
    "    }\n",
    "    \n",
    "    nop_cnt = 0\n",
    "    increase_instr = 0\n",
    "    \n",
    "    jump_dict={}\n",
    "    caller_callee_dict={}\n",
    "    checking_target_address={}\n",
    "    modified_address={}\n",
    "    \n",
    "    for instr in tqdm(decoder):\n",
    "        time.sleep(0.0001)\n",
    "        \n",
    "        checker_80 = 0\n",
    "        \n",
    "        disasm = formatter.format(instr)\n",
    "        op_code = instr.op_code()\n",
    "        \n",
    "        offsets = decoder.get_constant_offsets(instr)      \n",
    "        \n",
    "        present_instr = pe_data[text_section.PointerToRawData + (instr.ip-(image_base+virtual_address)):text_section.PointerToRawData + ((instr.next_ip)-(image_base+virtual_address))]\n",
    "        present_address = (instr.ip+nop_cnt+increase_instr)\n",
    "        \n",
    "        modified_address[instr.ip] = present_address\n",
    "        \n",
    "        if any(x in disasm for x in ('ret', 'int 3', 'nop')):\n",
    "            new_text += present_instr\n",
    "            continue\n",
    "        \n",
    "        op = disasm.split(' ')[0]\n",
    "        \n",
    "        if ('push' in op) or ('pop' in op) or ('test' in op) or ('xor' in op):\n",
    "            new_text += present_instr\n",
    "            new_text += (b'\\x90'*number_of_nop)\n",
    "            nop_cnt+=(1*number_of_nop) \n",
    "            continue \n",
    "            \n",
    "        prefixes = None\n",
    "        \n",
    "        prefixes, present_instr = is_prefixes(present_instr.hex().upper())\n",
    "        \n",
    "        #print(hex(instr.ip),hex(present_address),instr, present_instr.hex(), type(present_instr), instr.ip, present_address, type(instr.ip),code_to_string(instr.code),\"|\",increase_instr, type(present_instr))\n",
    "        \n",
    "        if 'REL' not in code_to_string(instr.code): # 절대주소\n",
    "            value = address_pattern_short.findall(str(instr))\n",
    "            \n",
    "            if value:\n",
    "                value, hex_value = value_int_convert(value)\n",
    "                \n",
    "            else:\n",
    "                saperator = [present_instr.hex()[i:i+2] for i in range(0, len(present_instr.hex()), 2)]\n",
    "                \n",
    "                if 'MOV_RM32_IMM32' in code_to_string(instr.code) and saperator[-1] =='80' and len(present_instr.hex()) == 14:\n",
    "                    value = present_instr[3:6].hex()\n",
    "                    hex_value =  to_little_endian(value)\n",
    "                    value = int(hex_value,16)\n",
    "                    checker_80 = 1\n",
    "                    \n",
    "                else:\n",
    "                    value = 0\n",
    "            \n",
    "            if text_start <= value <= text_end:\n",
    "                caller_callee_dict[instr.ip] = value\n",
    "                target_address = to_little_endian(hex_value)\n",
    "                target_address +='00'\n",
    "                op_code = present_instr.hex().replace(target_address.lower(),'')\n",
    "\n",
    "                adding_nop_cnt, increace_instruction, increase_address = count_instructions(instr.ip, value, section_text, bit, number_of_nop, dict_to_frozenset(jump_dict), nop_cnt, increase_instr, pe_data, text_section, image_base, virtual_address) \n",
    "                #adding_nop_cnt, increace_instruction, increase_address = count_instructions(instr.ip, value, section_text, bit, image_base,virtual_address,number_of_nop, jump_dict, nop_cnt, increase_instr, pe_data, text_section)\n",
    "                \n",
    "                i_cnt = sum(increase_address.values())\n",
    "                \n",
    "                if instr.ip < value:\n",
    "                    target_address = value + (nop_cnt + adding_nop_cnt + (increase_instr))+(i_cnt)\n",
    "\n",
    "                if instr.ip > value:\n",
    "                    if (len(increase_address) and (list(increase_address.keys())[0] == instr.ip)):\n",
    "                        i_cnt = 0\n",
    "                    \n",
    "                    target_address = value + (nop_cnt - adding_nop_cnt - (i_cnt)) + increase_instr\n",
    "                    \n",
    "                operand = hex(target_address).replace('x','0',1) # target_address affset\n",
    "                \n",
    "                if len(operand)>8:\n",
    "                    operand = operand[1:]\n",
    "                    #print(\"operand : \",operand, len(operand))\n",
    "                    \n",
    "                if len(operand)<8:\n",
    "                    operand = '0'+operand\n",
    "                    \n",
    "                operand = to_little_endian(operand)\n",
    "                \n",
    "                if checker_80 ==1:\n",
    "                    op_code = present_instr.hex()[:6]\n",
    "                    new_ins = op_code+operand+'80'\n",
    "                    new_ins = new_ins.replace('0080','80',1)\n",
    "                    \n",
    "                else: \n",
    "                    new_ins = op_code+operand\n",
    "\n",
    "                mc_code =  bytes.fromhex((new_ins))\n",
    "                new_text+= mc_code\n",
    "\n",
    "                checking_target_address[present_address] = target_address\n",
    "\n",
    "                if should_add_nop(str(instr)):\n",
    "                    new_text += (b'\\x90'*number_of_nop)\n",
    "                    nop_cnt+=(1*number_of_nop)\n",
    "                    continue\n",
    "                    \n",
    "            else:                \n",
    "                if prefixes:\n",
    "                    ins = prefixes+present_instr\n",
    "                    present_instr = ins\n",
    "                \n",
    "                new_text += present_instr\n",
    "                \n",
    "                if should_add_nop(str(instr)):\n",
    "                    new_text += (b'\\x90'*number_of_nop)\n",
    "                    nop_cnt+=(1*number_of_nop) \n",
    "                    continue           \n",
    "\n",
    "        if 'REL' in code_to_string(instr.code):\n",
    "                        \n",
    "            op_code = present_instr.hex()[:2]\n",
    "            operand = present_instr.hex()[2:]\n",
    "            \n",
    "            if 'ptr' in str(instr) and len(operand)>8:\n",
    "                op_code = present_instr.hex()[:4]\n",
    "                operand = present_instr.hex()[4:]\n",
    "            \n",
    "            ori_operand = operand\n",
    "            present_address = (instr.ip+nop_cnt+increase_instr) \n",
    "\n",
    "            address = instr.ip+len(instr)+hex_to_signed_int(to_little_endian(operand))\n",
    "\n",
    "            if instr.ip < address:\n",
    "\n",
    "                operand = to_little_endian(operand)\n",
    "                int_operand = hex_to_signed_int(operand)\n",
    "                \n",
    "                adding_nop_cnt, increace_instruction, increase_address = count_instructions(instr.ip, address, section_text, bit, number_of_nop, dict_to_frozenset(jump_dict), nop_cnt, increase_instr, pe_data, text_section, image_base, virtual_address) \n",
    "                #adding_nop_cnt, increace_instruction, increase_address = count_instructions(instr.ip, address, section_text, bit, image_base,virtual_address,number_of_nop, jump_dict, nop_cnt, increase_instr, pe_data, text_section)\n",
    "    \n",
    "                i_cnt=0\n",
    "                i_cnt = sum(increase_address.values())\n",
    "            \n",
    "                target_address = len(instr) + present_address + (int_operand + adding_nop_cnt + (i_cnt))\n",
    "                offset = target_address - present_address - len(instr)\n",
    "                \n",
    "                operand = hex(offset).replace('x','0',1)                                \n",
    "                operand = operand.replace('00','',1)\n",
    "\n",
    "                \n",
    "                if len(operand)%2 !=0:\n",
    "                    new_operand = '0'+operand\n",
    "                    operand = new_operand\n",
    "\n",
    "                operand = to_little_endian(operand)\n",
    "\n",
    "                if len(operand) != 8:\n",
    "                    operand += '0' * (8-len(operand))    \n",
    "                    \n",
    "                if offset<0:\n",
    "                    operand = negative_to_little_endian_hex(offset)\n",
    "                    operand = operand.replace('x','0',1)\n",
    "                    \n",
    "                    while 1:\n",
    "                        if len(ori_operand) == len(operand):\n",
    "                            break\n",
    "                        else:\n",
    "                            operand = operand.replace('ff','',1)\n",
    "                \n",
    "                new_ins = op_code+operand\n",
    "                \n",
    "                if prefixes:\n",
    "                    new_ins = prefixes.hex()+op_code+operand\n",
    "                                \n",
    "                if len(present_instr.hex()) != len(new_ins):\n",
    "                    if 'short' in str(instr) or 'loop' in str(instr):\n",
    "                        ori_operand = present_instr.hex()[2:]\n",
    "                        operand = to_little_endian(ori_operand)\n",
    "                        int_operand = hex_to_signed_int(operand)\n",
    "\n",
    "                        i_cnt = 0\n",
    "                        i_cnt = sum(increase_address.values())\n",
    "                        \n",
    "                        target_address = len(instr) + present_address + (int_operand + adding_nop_cnt + (i_cnt))\n",
    "\n",
    "                        offset = target_address - present_address - len(instr)\n",
    "\n",
    "                        operand = hex(offset).replace('x','0',1)\n",
    "                        \n",
    "                        if len(operand)%2 !=0:\n",
    "                            operand = operand.replace('0','',1)\n",
    " \n",
    "                        int_operand = int(operand,16)\n",
    "        \n",
    "                        if int_operand>=127:\n",
    "                            op_code = present_instr.hex()[:2]\n",
    "                            operand = present_instr.hex()[2:]\n",
    "                            op_code = jump_mappings[op_code.upper()]\n",
    "\n",
    "                            new_ins_len = 6\n",
    "                            \n",
    "                            if 'E9' in op_code:\n",
    "                                new_ins_len = 5\n",
    "                            \n",
    "                            if 'E2' in op_code:\n",
    "                                preprocessing_code = '4883C9FF' # dec cex\n",
    "                                op_code = preprocessing_code+op_code\n",
    "                                new_ins_len = 10\n",
    "                                \n",
    "                            int_operand = target_address - present_address - new_ins_len\n",
    "\n",
    "                            parm_operand = hex(int_operand).replace('0x','',1)\n",
    "                            \n",
    "                            if len(parm_operand)%2 !=0:\n",
    "                                new_parm_operand = '0'+ parm_operand\n",
    "                                parm_operand = new_parm_operand\n",
    "  \n",
    "                            new_operand = to_little_endian(parm_operand)\n",
    "\n",
    "                            operand = new_operand + '0' * (8-len(new_operand))\n",
    "\n",
    "                            increase_instr += new_ins_len - len(instr)\n",
    "                            jump_dict[instr.ip] = int(new_ins_len - len(instr))\n",
    "                            \n",
    "                        else:                            \n",
    "                            while 1:\n",
    "                                if len(ori_operand) == len(operand):\n",
    "                                    break\n",
    "                                else:\n",
    "                                    operand = operand.replace('0','',1)\n",
    "        \n",
    "                    new_ins = op_code+operand\n",
    "            \n",
    "                print(hex(instr.ip),hex(present_address),instr, present_instr.hex(), type(present_instr), instr.ip, present_address, type(instr.ip),code_to_string(instr.code),\"|\",increase_instr, type(present_instr))\n",
    "                print(\"  new_ins : \",new_ins,\"\\n\")\n",
    "                mc_code =  bytes.fromhex((new_ins))\n",
    "\n",
    "                new_text += mc_code  \n",
    "                checking_target_address[present_address] = target_address\n",
    "                caller_callee_dict[instr.ip] = address  \n",
    "\n",
    "                if should_add_nop(str(instr)):\n",
    "                    new_text += (b'\\x90'*number_of_nop)\n",
    "                    nop_cnt+=(1*number_of_nop)\n",
    "                    continue\n",
    "\n",
    "\n",
    "            elif instr.ip > address:\n",
    "                #print(\"    위로 뛸꺼고\")\n",
    "                                    \n",
    "                address = instr.ip+len(instr)+hex_to_signed_int(to_little_endian(operand))\n",
    "\n",
    "                operand = to_little_endian(operand)\n",
    "                int_operand = hex_to_signed_int(operand)\n",
    "\n",
    "                adding_nop_cnt, increace_instruction, increase_address = count_instructions(instr.ip, address, section_text, bit, number_of_nop, dict_to_frozenset(jump_dict), nop_cnt, increase_instr, pe_data, text_section, image_base, virtual_address) \n",
    "                #adding_nop_cnt, increace_instruction, increase_address = count_instructions(instr.ip, address, section_text, bit, image_base,virtual_address,number_of_nop, jump_dict, nop_cnt, increase_instr, pe_data, text_section)\n",
    "                \n",
    "                present_address = (instr.ip  + nop_cnt + increase_instr)\n",
    "\n",
    "                i_cnt = 0     \n",
    "                i_cnt = sum(increase_address.values())\n",
    "                \n",
    "                if (len(increase_address) and (list(increase_address.keys())[0] == instr.ip)):\n",
    "                    i_cnt = 0\n",
    "                \n",
    "                target_address = len(instr) + present_address + (int_operand - adding_nop_cnt - (i_cnt))\n",
    "                \n",
    "                offset = target_address - present_address - len(instr) \n",
    "                operand = negative_to_little_endian_hex(offset)\n",
    "                \n",
    "                new_ins = op_code+operand\n",
    "                \n",
    "                if prefixes:\n",
    "                    new_ins = prefixes.hex()+op_code+operand\n",
    "      \n",
    "                if len(present_instr.hex()) != len(new_ins):\n",
    "                    if 'ff' in new_ins:\n",
    "                        operand = operand.replace('ff','',)\n",
    "                        new_ins = op_code+operand\n",
    "                        \n",
    "                    if 'short' in str(instr) or 'loop' in str(instr):    \n",
    "                        i_cnt = 0                               \n",
    "                        i_cnt = sum(increase_address[i] for i in list(increase_address.keys()) if address <= i < instr.ip)\n",
    "                        \n",
    "                        target_address = len(instr) + present_address + (int_operand - adding_nop_cnt - (i_cnt))\n",
    "                        \n",
    "                        int_operand = target_address - present_address - len(instr)\n",
    "                        operand = negative_to_little_endian_hex(int_operand)      \n",
    "                        operand = operand.replace('ff','')\n",
    "\n",
    "                        if int_operand<=(-128): \n",
    "                            op_code = present_instr.hex()[:2]\n",
    "                            operand = present_instr.hex()[2:]\n",
    "                            op_code = jump_mappings[op_code.upper()]\n",
    "                            \n",
    "                            new_ins_len = 6\n",
    "                            \n",
    "                            if 'E9' in op_code:\n",
    "                                new_ins_len = 5\n",
    "                                \n",
    "                            if 'E2' in op_code:\n",
    "                                preprocessing_code = '4883C9FF' # dec ecx\n",
    "                                op_code = preprocessing_code+op_code\n",
    "                                new_ins_len = 10\n",
    "\n",
    "                            int_operand = target_address - present_address - new_ins_len\n",
    "                            new_operand = negative_to_little_endian_hex(int_operand)\n",
    "                        \n",
    "                            operand = new_operand + '0' * (8-len(new_operand))\n",
    "                           \n",
    "                            increase_instr += new_ins_len - len(instr)\n",
    "                            jump_dict[instr.ip] = new_ins_len - len(instr)\n",
    "                            \n",
    "                        new_ins = op_code+operand   \n",
    "                print(hex(instr.ip),hex(present_address),instr, present_instr.hex(), type(present_instr), instr.ip, present_address, type(instr.ip),code_to_string(instr.code),\"|\",increase_instr, type(present_instr))\n",
    "                print(\"  new_ins : \",new_ins,\"\\n\")\n",
    "                mc_code =  bytes.fromhex((new_ins))\n",
    "                new_text += mc_code\n",
    "                checking_target_address[present_address] = target_address\n",
    "                caller_callee_dict[instr.ip] = address\n",
    "\n",
    "                if should_add_nop(str(instr)):\n",
    "                    new_text += (b'\\x90'*number_of_nop)\n",
    "                    nop_cnt+=(1*number_of_nop)\n",
    "                    continue\n",
    "\n",
    "    return new_text, modified_address , caller_callee_dict, checking_target_address\n",
    "\n",
    "def calc_offset(target_address, address, ori_operand, op_code, size):\n",
    "    \n",
    "    if address > target_address:\n",
    "        print(\" up jump\")\n",
    "        new_operand = address - target_address - size #len(instr)\n",
    "        operand = negative_to_little_endian_hex(new_operand)\n",
    "\n",
    "    if address < target_address:\n",
    "        print(\" down jump\")\n",
    "        new_operand = target_address - address - size #len(instr)\n",
    "        operand = hex(new_operand).replace('x','0',1) # target_address affset\n",
    "        operand = operand.replace('00','',1)\n",
    "\n",
    "\n",
    "        if len(ori_operand) - len(operand) != 0:\n",
    "            new_operand = '0'* int(len(ori_operand) - len(operand))\n",
    "            new_operand+= operand\n",
    "            operand = new_operand\n",
    "\n",
    "        operand = to_little_endian(operand)\n",
    "        \n",
    "    new_ins = op_code+operand\n",
    "          \n",
    "    return new_ins, op_code, operand \n",
    "\n",
    "def unmatched_address_chacker(modified_address, caller_callee_dict, checking_target_address):\n",
    "    \n",
    "    new_address_to_ori_address = {v:k for k,v in modified_address.items()} # new address to original\n",
    "    modifying_address = {}\n",
    "\n",
    "    for caller,callee in checking_target_address.items():\n",
    "        \n",
    "        if caller in new_address_to_ori_address and callee in new_address_to_ori_address:\n",
    "            ori_caller = new_address_to_ori_address[caller]\n",
    "            ori_callee = new_address_to_ori_address[callee]\n",
    "            \n",
    "            if caller_callee_dict[ori_caller] != ori_callee:\n",
    "                modifying_address[caller] = modified_address[caller_callee_dict[ori_caller]]\n",
    "                continue\n",
    "\n",
    "        else:\n",
    "            if caller in new_address_to_ori_address:\n",
    "                ori_caller = new_address_to_ori_address[caller]\n",
    "                ori_callee = caller_callee_dict[ori_caller]                \n",
    "                new_callee = modified_address[ori_callee]\n",
    "                modifying_address[caller] = new_callee\n",
    "                continue\n",
    "\n",
    "            if callee in new_address_to_ori_address:\n",
    "                ori_callee = new_address_to_ori_address[callee]\n",
    "                ori_caller = caller_callee_dict[ori_callee]\n",
    "                new_caller = modified_address[ori_caller]\n",
    "                modifying_address[new_caller] = callee\n",
    "                continue\n",
    "\n",
    "    return modifying_address\n",
    "\n",
    "def modify_instruction_at_address(binary_data, text_section, target_address, new_ins):\n",
    "    relative_address = target_address - text_section.VirtualAddress\n",
    "    binary_data = bytearray(binary_data)\n",
    "    binary_data[text_section.PointerToRawData + relative_address : text_section.PointerToRawData + relative_address + len(new_ins)] = bytes.fromhex((new_ins))\n",
    "    return binary_data\n",
    "\n",
    "def is_direct_address(target, decoded_instructions):\n",
    "    # Check for immediate values (which could indicate direct addresses)\n",
    "    immediate_pattern = re.compile(r'\\b0x[0-9A-Fa-f]+\\b')\n",
    "    for (offset, size, instruction, hexdump) in decoded_instructions:\n",
    "        if offset == target:\n",
    "            \n",
    "            if bool(immediate_pattern.search(instruction)) and ('ff' not in hexdump):\n",
    "                return \"ABS\", offset, instruction, hexdump, size\n",
    "            else:\n",
    "                return \"REL\", offset, instruction, hexdump, size\n",
    "            \n",
    "def decode_instructions(binary_data, start_address, bitness):\n",
    "    if bitness == 64:\n",
    "        mode = distorm3.Decode64Bits\n",
    "    elif bitness == 32:\n",
    "        mode = distorm3.Decode32Bits\n",
    "    else:\n",
    "        raise ValueError(\"Unsupported bitness. Only 32 and 64 are supported.\")\n",
    "    \n",
    "    decoded_instructions = distorm3.Decode(start_address, binary_data, mode)\n",
    "    return decoded_instructions\n",
    "\n",
    "def valid_address_check(file_path, save_dir, caller_callee_dict, checking_target_address, modified_address, number_of_nop):\n",
    "\n",
    "    modifying_address = unmatched_address_chacker(modified_address, caller_callee_dict, checking_target_address)\n",
    "    print(modifying_address)\n",
    "    \n",
    "    if not modifying_address:\n",
    "        return\n",
    "\n",
    "    pe = pefile.PE(save_dir)\n",
    "    pe_data = open(save_dir, \"rb\").read()\n",
    "\n",
    "    prev_section = None   \n",
    "\n",
    "    for section in pe.sections:\n",
    "        if section.Name.strip(b'\\x00') == b'.text' or section.Name.strip(b'\\x00').upper() == b'CODE':\n",
    "            old_nextPointer = section.PointerToRawData\n",
    "            text_section = section\n",
    "            break\n",
    "\n",
    "        prev_section = section\n",
    "\n",
    "    if text_section is None or text_section.SizeOfRawData == 0:\n",
    "        print(\"Error: .text section not found\")\n",
    "        return\n",
    "\n",
    "    image_base = pe.OPTIONAL_HEADER.ImageBase\n",
    "\n",
    "    text_start = text_section.VirtualAddress + image_base\n",
    "    text_end = text_start + text_section.Misc_VirtualSize\n",
    "\n",
    "    binary_data = text_section.get_data()\n",
    "    ori_binary_data = binary_data\n",
    "\n",
    "    if pe.FILE_HEADER.Machine == 0x8664:\n",
    "        bitness = 64\n",
    "        address_pattern_short = re.compile(r'\\b0x[0-9A-Fa-f]{12}\\b|\\[0x[0-9A-Fa-f]{12}\\]')\n",
    "        address_pattern_long = re.compile(r'\\b0x[0-9A-Fa-f]{16}\\b|\\[0x[0-9A-Fa-f]{16}\\]')\n",
    "    else:\n",
    "        bitness = 32\n",
    "        address_pattern_short = re.compile(r'\\b0x[0-9A-Fa-f]{6}\\b|\\[0x[0-9A-Fa-f]{6}\\]')\n",
    "        address_pattern_long = re.compile(r'\\b0x[0-9A-Fa-f]{8}\\b|\\[0x[0-9A-Fa-f]{8}\\]')\n",
    "\n",
    "    decoded_instructions = decode_instructions(binary_data, text_start, bitness)\n",
    "\n",
    "    for target, destination in modifying_address.items():\n",
    "        checker_80 = 0\n",
    "        #print(\"target : \",target, decoded_instructions)\n",
    "        address_type, address, instrcution, hexdump, size = is_direct_address(target, decoded_instructions)\n",
    "\n",
    "        instr_str = str(instrcution)\n",
    "        present_instr = hexdump\n",
    "        \n",
    "        prefixes = None\n",
    "        \n",
    "        prefixes, present_instr = is_prefixes(present_instr.hex().upper())\n",
    "\n",
    "        if 'REL' not in address_type: # 절대주소\n",
    "            value = address_pattern_short.findall(instr_str)\n",
    "\n",
    "            if not value:\n",
    "                value = address_pattern_long.findall(instr_str)\n",
    "\n",
    "                if len(present_instr) == 14 and present_instr[-2:] == '80':\n",
    "                    checker_80 = 1\n",
    "\n",
    "            if value:\n",
    "                value, hex_value = value_int_convert(value)\n",
    "\n",
    "            else:\n",
    "                value = 0\n",
    "\n",
    "            if text_start <= value <= text_end:\n",
    "                caller_callee_dict[target] = value\n",
    "                target_address = to_little_endian(hex_value) + '00'\n",
    "                op_code = present_instr[:2]\n",
    "\n",
    "                operand = hex(destination).replace('x','0',1) # target_address affset\n",
    "                operand = to_little_endian(operand)\n",
    "\n",
    "                if checker_80 == 1:\n",
    "                    op_code = present_instr[:6]                    \n",
    "                    new_ins = op_code+operand+'80'\n",
    "\n",
    "                    if prefixes:\n",
    "                        new_ins = prefixes+op_code+operand+'80'\n",
    "\n",
    "                    new_ins = new_ins.replace('0080','80',1)\n",
    "\n",
    "                else: \n",
    "                    new_ins = op_code+operand\n",
    "\n",
    "        elif 'REL' in address_type: # 상대주소:\n",
    "            op_code = present_instr[:2]\n",
    "            operand = present_instr[2:]\n",
    "            ori_operand = operand\n",
    "\n",
    "            if len(operand)>8:\n",
    "                op_code = present_instr[:4]\n",
    "                operand = present_instr[4:]\n",
    "                ori_operand = operand\n",
    "\n",
    "            value = address_pattern_short.findall(instr_str)\n",
    "\n",
    "            if value: #상대주소\n",
    "                new_ins, op_code,operand = calc_offset(destination, address, ori_operand, op_code, size)\n",
    "\n",
    "            else:\n",
    "                value = address_pattern_long.findall(instr_str)\n",
    "                if value: #상대주소\n",
    "                    new_ins,op_code,operand  = calc_offset(destination, address, ori_operand, op_code, size)\n",
    "\n",
    "        binary_data = modify_instruction_at_address(binary_data, text_section, target, new_ins)\n",
    "\n",
    "    #new_text = binary_data\n",
    "    print(f\"[++] original .text section length : {text_section.Misc}\")\n",
    "    print(f\"[++] new .text section length : {len(binary_data)}\") \n",
    "    \n",
    "    #print(ori_binary_data == binary_data)\n",
    "    new_text = modify_headers(file_path, binary_data, fin = 1)\n",
    "    save_dir = modify_section(file_path, new_text, save_dir, str(number_of_nop), fin = 1)\n",
    "    modify_tramp(save_dir, modified_address, fin = 1)\n",
    "    modify_rdata(save_dir, modified_address, fin = 1)\n",
    "    \n",
    "if __name__ == '__main__':\n",
    "        \n",
    "    sample_dir = '../sample/section_move_sample/'\n",
    "    save_dir = '../sample/perturbated_sample/adding_nop/'\n",
    "    \n",
    "    samples = list_files_by_size(sample_dir)\n",
    "    create_directory(save_dir)\n",
    "    \n",
    "    number_of_nop = 1\n",
    "    for sample in samples:\n",
    "        save_dir = '../sample/perturbated_sample/adding_nop/'\n",
    "        if '.ipynb' in sample or '.pickle' in sample or '.txt' in sample or '.zip' in sample:\n",
    "            continue\n",
    "\n",
    "#         if 'PEview_new.exe' not in sample:\n",
    "        if '0c34ed46c75b33e392091d8fb7b4449b2fd78b6a56ae7d89f5e6441c48f10692_new.exe' in sample or 'PEview_new.exe' in sample or 'hello_32_new.exe' in sample:\n",
    "#         if 'hello_32_new.exe' not in sample:\n",
    "            continue\n",
    "\n",
    "        file_path = sample_dir+sample\n",
    "\n",
    "        print(file_path)\n",
    "                 \n",
    "        new_text, modified_address, caller_callee_dict, checking_target_address = make_new_text(file_path, number_of_nop)\n",
    "\n",
    "        if new_text is None:\n",
    "            print(f\"[+] Error : failed to make new_text section.\") \n",
    "        else:\n",
    "            print(\"len_new_text: \",len(new_text))\n",
    "            new_text = modify_headers(file_path, new_text)\n",
    "            save_dir = modify_section(file_path, new_text, save_dir,number_of_nop)\n",
    "            modify_tramp(save_dir, modified_address)\n",
    "            save_dir = modify_rdata(save_dir, modified_address)\n",
    "            valid_address_check(file_path, save_dir, caller_callee_dict, checking_target_address, modified_address, str(number_of_nop))\n",
    "            print(\"Done!!\",sample)"
   ]
  },
  {
   "cell_type": "code",
   "execution_count": 1,
   "id": "006893e7-3723-4750-9043-976414c19d74",
   "metadata": {},
   "outputs": [
    {
     "name": "stdout",
     "output_type": "stream",
     "text": [
      "<class 'frozenset'>\n",
      "frozenset({('key1', 'value1'), ('key2', 'value2')})\n"
     ]
    }
   ],
   "source": [
    "from functools import lru_cache\n",
    "\n",
    "# 딕셔너리를 frozenset으로 변환하는 함수\n",
    "def dict_to_frozenset(d):\n",
    "    return frozenset(d.items())\n",
    "\n",
    "@lru_cache(maxsize=None)\n",
    "def example_function(param_frozenset,parm1,param2):\n",
    "    # 필요한 작업 수행\n",
    "    fset = example_function2(param_frozenset,parm1,param2)\n",
    "    return param_frozenset\n",
    "\n",
    "@lru_cache(maxsize=None)\n",
    "def example_function2(param_frozenset,parm1,param2):\n",
    "    # 필요한 작업 수행\n",
    "    print(type(param_frozenset))\n",
    "    return param_frozenset\n",
    "# 함수 호출 예시\n",
    "\n",
    "e_dict = {'key1': 'value1', 'key2': 'value2'}\n",
    "# 딕셔너리를 frozenset으로 변환 후 함수에 전달\n",
    "result = example_function(dict_to_frozenset(e_dict), 'param1', 123)\n",
    "print(result)"
   ]
  },
  {
   "cell_type": "code",
   "execution_count": null,
   "id": "f27181d2-9ea0-4c84-abea-3a1cfde5cfe1",
   "metadata": {},
   "outputs": [],
   "source": []
  }
 ],
 "metadata": {
  "kernelspec": {
   "display_name": "ae",
   "language": "python",
   "name": "ae"
  },
  "language_info": {
   "codemirror_mode": {
    "name": "ipython",
    "version": 3
   },
   "file_extension": ".py",
   "mimetype": "text/x-python",
   "name": "python",
   "nbconvert_exporter": "python",
   "pygments_lexer": "ipython3",
   "version": "3.6.9"
  }
 },
 "nbformat": 4,
 "nbformat_minor": 5
}
