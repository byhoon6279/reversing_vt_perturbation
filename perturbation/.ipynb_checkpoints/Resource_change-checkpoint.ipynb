{
 "cells": [
  {
   "cell_type": "code",
   "execution_count": 1,
   "id": "96c36e43-7655-45c5-9ca0-d401bcd1fd5d",
   "metadata": {},
   "outputs": [
    {
     "name": "stdout",
     "output_type": "stream",
     "text": [
      "Directory '../sample/perturbated_sample/resource_change/' created successfully.\n",
      "Resource case changed for hello_32.exe \n",
      "\n",
      "Resource case changed for calc.exe \n",
      "\n",
      "Resource case changed for PEview.exe \n",
      "\n",
      "Resource case changed for 0c34ed46c75b33e392091d8fb7b4449b2fd78b6a56ae7d89f5e6441c48f10692.exe \n",
      "\n",
      "Resource case changed for Frombook.exe \n",
      "\n",
      "Resource case changed for 05ab5e2da3607795a37d8a9182f7f072a10a9bf3ee6e846f19dfb1c0db71be53.exe \n",
      "\n",
      "Resource case changed for RemcosRAT.exe \n",
      "\n",
      "Resource case changed for 20004cf75c3ffef4a7cb3784b631eb74b93e9abe27509169d96094904e40f66e.exe \n",
      "\n",
      "Resource case changed for 46bc59c333ac61690a6514b21b84a7a0d8a7f191f7ae91b9afd6957a2b8f7c29.exe \n",
      "\n",
      "Resource case changed for e2a24ab94f865caeacdf2c3ad015f31f23008ac6db8312c2cbfb32e4a5466ea2.dll \n",
      "\n",
      "Resource case changed for iexplore_32.exe \n",
      "\n",
      "Resource case changed for iexplore.exe \n",
      "\n",
      "Resource case changed for fe517edc4af057efe776a69465466504c72fb6a15177c25a3414360e08ca92dd.exe \n",
      "\n",
      "Resource case changed for sublime_text_32.exe \n",
      "\n",
      "Resource case changed for sublime_text_32-Copy1.exe \n",
      "\n",
      "Resource case changed for sublime_text_64-Copy1.exe \n",
      "\n",
      "Resource case changed for sublime_text_64.exe \n",
      "\n",
      "Resource case changed for moba.exe \n",
      "\n"
     ]
    }
   ],
   "source": [
    "from resource_change import *\n",
    "from common_function import *\n",
    "\n",
    "if __name__ == \"__main__\":\n",
    "    \n",
    "    sample_dir = '../sample/input_sample/'\n",
    "    save_dir = '../sample/perturbated_sample/resource_change/' \n",
    "    \n",
    "    samples = list_files_by_size(sample_dir)\n",
    "    create_directory(save_dir)\n",
    "\n",
    "    for sample in samples:\n",
    "\n",
    "        if '.ipynb_checkpoints' in sample or ('.exe' not in sample and '.dll' not in sample): #or 'calc' not in sample:)\n",
    "            continue\n",
    "            \n",
    "        change_resource_case(sample_dir+sample, save_dir)\n",
    "        print(f\"Resource case changed for {sample}\",\"\\n\")"
   ]
  },
  {
   "cell_type": "code",
   "execution_count": null,
   "id": "cf2182ba-3969-4037-990a-ae086187f543",
   "metadata": {},
   "outputs": [],
   "source": []
  }
 ],
 "metadata": {
  "kernelspec": {
   "display_name": "ae",
   "language": "python",
   "name": "ae"
  },
  "language_info": {
   "codemirror_mode": {
    "name": "ipython",
    "version": 3
   },
   "file_extension": ".py",
   "mimetype": "text/x-python",
   "name": "python",
   "nbconvert_exporter": "python",
   "pygments_lexer": "ipython3",
   "version": "3.6.9"
  }
 },
 "nbformat": 4,
 "nbformat_minor": 5
}
