{
 "cells": [
  {
   "cell_type": "code",
   "execution_count": 1,
   "id": "a151f81b-43e1-4081-9ecf-20b091290b70",
   "metadata": {
    "tags": []
   },
   "outputs": [
    {
     "name": "stdout",
     "output_type": "stream",
     "text": [
      "Directory '../sample/perturbated_sample/adding_nop/' created successfully.\n",
      "../sample/section_move_sample/PEview_new.exe\n",
      "32\n"
     ]
    },
    {
     "name": "stderr",
     "output_type": "stream",
     "text": [
      "10088it [08:29, 19.81it/s]"
     ]
    },
    {
     "name": "stdout",
     "output_type": "stream",
     "text": [
      "len_new_text:  145096\n",
      "modified_section_return save_dir :  ../sample/perturbated_sample/adding_nop/PEview_new_adding_15.exe\n",
      "Modified PE file saved as ../sample/perturbated_sample/adding_nop/PEview_new_adding_15.exe\n",
      "{}\n",
      "Done!! PEview_new.exe\n"
     ]
    },
    {
     "name": "stderr",
     "output_type": "stream",
     "text": [
      "\n"
     ]
    }
   ],
   "source": [
    "from adding_nop import *\n",
    "from common_function import *\n",
    "\n",
    "if __name__ == '__main__':\n",
    "        \n",
    "    sample_dir = '../sample/section_move_sample/'\n",
    "    save_dir = '../sample/perturbated_sample/adding_nop/'\n",
    "    \n",
    "    samples = list_files_by_size(sample_dir)\n",
    "    create_directory(save_dir)\n",
    "    \n",
    "    number_of_nop = 15\n",
    "    \n",
    "    for sample in samples:\n",
    "        save_dir = '../sample/perturbated_sample/adding_nop/'\n",
    "        if '.ipynb' in sample or '.pickle' in sample or '.txt' in sample or '.zip' in sample:\n",
    "            continue\n",
    "\n",
    "#         if 'PEview_new.exe' not in sample:\n",
    "#         if '0c34ed46c75b33e392091d8fb7b4449b2fd78b6a56ae7d89f5e6441c48f10692_new.exe' in sample or 'PEview_new.exe' in sample or 'hello_32_new.exe' in sample:\n",
    "#         if 'hello_32_new.exe' not in sample:\n",
    "#             continue\n",
    "\n",
    "        file_path = sample_dir+sample\n",
    "\n",
    "        print(file_path)\n",
    "                 \n",
    "        new_text, modified_address, caller_callee_dict, checking_target_address = make_new_text(file_path, number_of_nop)\n",
    "\n",
    "        if new_text is None:\n",
    "            print(f\"[+] Error : failed to make new_text section.\") \n",
    "        else:\n",
    "            print(\"len_new_text: \",len(new_text))\n",
    "            new_text = modify_headers(file_path, new_text)\n",
    "            save_dir = modify_section(file_path, new_text, save_dir,number_of_nop)\n",
    "            modify_tramp(save_dir, modified_address)\n",
    "            save_dir = modify_rdata(save_dir, modified_address)\n",
    "            #valid_address_check(file_path, save_dir, caller_callee_dict, checking_target_address, modified_address, str(number_of_nop))\n",
    "            print(\"Done!!\",sample)"
   ]
  },
  {
   "cell_type": "code",
   "execution_count": null,
   "id": "bd3d4576-0141-4a33-981c-ca5443c59abc",
   "metadata": {},
   "outputs": [],
   "source": []
  }
 ],
 "metadata": {
  "kernelspec": {
   "display_name": "ae",
   "language": "python",
   "name": "ae"
  },
  "language_info": {
   "codemirror_mode": {
    "name": "ipython",
    "version": 3
   },
   "file_extension": ".py",
   "mimetype": "text/x-python",
   "name": "python",
   "nbconvert_exporter": "python",
   "pygments_lexer": "ipython3",
   "version": "3.6.9"
  }
 },
 "nbformat": 4,
 "nbformat_minor": 5
}
