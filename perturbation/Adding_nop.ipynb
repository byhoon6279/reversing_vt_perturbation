{
 "cells": [
  {
   "cell_type": "code",
   "execution_count": 1,
   "id": "a151f81b-43e1-4081-9ecf-20b091290b70",
   "metadata": {
    "tags": []
   },
   "outputs": [
    {
     "name": "stdout",
     "output_type": "stream",
     "text": [
      "Directory '../sample/perturbated_sample/adding_nop/' created successfully.\n",
      "../sample/section_move_sample/PEview_new.exe\n",
      "32\n"
     ]
    },
    {
     "name": "stderr",
     "output_type": "stream",
     "text": [
      "10088it [08:29, 19.81it/s]"
     ]
    },
    {
     "name": "stdout",
     "output_type": "stream",
     "text": [
      "len_new_text:  145096\n",
      "modified_section_return save_dir :  ../sample/perturbated_sample/adding_nop/PEview_new_adding_15.exe\n",
      "Modified PE file saved as ../sample/perturbated_sample/adding_nop/PEview_new_adding_15.exe\n",
      "{}\n",
      "Done!! PEview_new.exe\n"
     ]
    },
    {
     "name": "stderr",
     "output_type": "stream",
     "text": [
      "\n"
     ]
    }
   ],
   "source": [
    "from adding_nop import *\n",
    "from common_function import *\n",
    "\n",
    "if __name__ == '__main__':\n",
    "        \n",
    "    sample_dir = '../sample/section_move_sample/'\n",
    "    save_dir = '../sample/perturbated_sample/adding_nop/'\n",
    "    \n",
    "    samples = list_files_by_size(sample_dir)\n",
    "    create_directory(save_dir)\n",
    "    \n",
    "    number_of_nop = 15\n",
    "    \n",
    "    for sample in samples:\n",
    "        save_dir = '../sample/perturbated_sample/adding_nop/'\n",
    "        if '.ipynb' in sample or '.pickle' in sample or '.txt' in sample or '.zip' in sample:\n",
    "            continue\n",
    "\n",
    "        if 'PEview_new.exe' not in sample:\n",
    "#         if '0c34ed46c75b33e392091d8fb7b4449b2fd78b6a56ae7d89f5e6441c48f10692_new.exe' in sample or 'PEview_new.exe' in sample or 'hello_32_new.exe' in sample:\n",
    "#         if 'hello_32_new.exe' not in sample:\n",
    "            continue\n",
    "\n",
    "        file_path = sample_dir+sample\n",
    "\n",
    "        print(file_path)\n",
    "                 \n",
    "        new_text, modified_address, caller_callee_dict, checking_target_address = make_new_text(file_path, number_of_nop)\n",
    "\n",
    "        if new_text is None:\n",
    "            print(f\"[+] Error : failed to make new_text section.\") \n",
    "        else:\n",
    "            print(\"len_new_text: \",len(new_text))\n",
    "            new_text = modify_headers(file_path, new_text)\n",
    "            save_dir = modify_section(file_path, new_text, save_dir,number_of_nop)\n",
    "            modify_tramp(save_dir, modified_address)\n",
    "            save_dir = modify_rdata(save_dir, modified_address)\n",
    "            valid_address_check(file_path, save_dir, caller_callee_dict, checking_target_address, modified_address, str(number_of_nop))\n",
    "            print(\"Done!!\",sample)"
   ]
  },
  {
   "cell_type": "code",
   "execution_count": null,
   "id": "13d9cfaf-2885-416e-be96-9f99b68cb498",
   "metadata": {
    "tags": []
   },
   "outputs": [
    {
     "name": "stdout",
     "output_type": "stream",
     "text": [
      "Directory '../sample/perturbated_sample/adding_nop/' created successfully.\n",
      "../sample/section_move_sample/05ab5e2da3607795a37d8a9182f7f072a10a9bf3ee6e846f19dfb1c0db71be53_new.exe\n",
      "Error: .text section not found\n",
      "[+] Error : failed to make new_text section.\n",
      "../sample/section_move_sample/Frombook_new.exe\n",
      "32\n"
     ]
    },
    {
     "name": "stderr",
     "output_type": "stream",
     "text": [
      "0it [00:00, ?it/s]"
     ]
    },
    {
     "name": "stdout",
     "output_type": "stream",
     "text": [
      "0xeff008 0xeff00c je short 00EFF021h 7417 <class 'bytes'> 15724552 15724556 <class 'int'> JE_REL8_32 | 0 <class 'bytes'>\n",
      "  new_ins :  7421 \n",
      "\n"
     ]
    },
    {
     "name": "stderr",
     "output_type": "stream",
     "text": [
      "182it [00:07, 33.31it/s]"
     ]
    },
    {
     "name": "stdout",
     "output_type": "stream",
     "text": [
      "0xeff014 0xeff01e call 00F19E50h e837ae0100 <class 'bytes'> 15724564 15724574 <class 'int'> CALL_REL32_32 | 0 <class 'bytes'>\n",
      "  new_ins :  e84c2b0200 \n",
      "\n",
      "0xeff027 0xeff038 jmp near ptr 0A9D6DDC8h e99cede6a8 <class 'bytes'> 15724583 15724600 <class 'int'> JMP_REL32_32 | 0 <class 'bytes'>\n",
      "  new_ins :  e98bede6a8 \n",
      "\n",
      "0xeff063 0xeff085 je short 00EFF06Bh 7406 <class 'bytes'> 15724643 15724677 <class 'int'> JE_REL8_32 | 0 <class 'bytes'>\n",
      "  new_ins :  7407 \n",
      "\n",
      "0xeff0ba 0xeff0f8 je short 00EFF0C2h 7406 <class 'bytes'> 15724730 15724792 <class 'int'> JE_REL8_32 | 0 <class 'bytes'>\n",
      "  new_ins :  7407 \n",
      "\n",
      "0xeff10f 0xeff167 je short 00EFF117h 7406 <class 'bytes'> 15724815 15724903 <class 'int'> JE_REL8_32 | 0 <class 'bytes'>\n",
      "  new_ins :  7407 \n",
      "\n",
      "0xeff1c4 0xeff25b je short 00EFF1DDh 7417 <class 'bytes'> 15724996 15725147 <class 'int'> JE_REL8_32 | 0 <class 'bytes'>\n",
      "  new_ins :  741f \n",
      "\n",
      "0xeff1e4 0xeff285 je short 00EFF1F1h 740b <class 'bytes'> 15725028 15725189 <class 'int'> JE_REL8_32 | 0 <class 'bytes'>\n",
      "  new_ins :  740c \n",
      "\n",
      "0xeff1e6 0xeff287 call 00EFF030h e845feffff <class 'bytes'> 15725030 15725191 <class 'int'> CALL_REL32_32 | 0 <class 'bytes'>\n",
      "  new_ins :  e8b8fdffff \n",
      "\n",
      "0xeff1ef 0xeff291 jmp short 00EFF1F6h eb05 <class 'bytes'> 15725039 15725201 <class 'int'> JMP_REL8_32 | 0 <class 'bytes'>\n",
      "  new_ins :  eb05 \n",
      "\n",
      "0xeff1f1 0xeff293 call 00EFF030h e83afeffff <class 'bytes'> 15725041 15725203 <class 'int'> CALL_REL32_32 | 0 <class 'bytes'>\n",
      "  new_ins :  e8acfdffff \n",
      "\n",
      "0xeff1fa 0xeff29e jg short 00EFF1B5h 7fb9 <class 'bytes'> 15725050 15725214 <class 'int'> JG_REL8_32 | 0 <class 'bytes'>\n",
      "  new_ins :  7fa7 \n",
      "\n",
      "0xeff200 0xeff2a6 jl short 00EFF1B0h 7cae <class 'bytes'> 15725056 15725222 <class 'int'> JL_REL8_32 | 0 <class 'bytes'>\n",
      "  new_ins :  7c99 \n",
      "\n",
      "0xeff227 0xeff2dd je short 00EFF282h 7459 <class 'bytes'> 15725095 15725277 <class 'int'> JE_REL8_32 | 0 <class 'bytes'>\n",
      "  new_ins :  7476 \n",
      "\n",
      "0xeff255 0xeff31b call 00EFF180h e826ffffff <class 'bytes'> 15725141 15725339 <class 'int'> CALL_REL32_32 | 0 <class 'bytes'>\n",
      "  new_ins :  e8defeffff \n",
      "\n",
      "0xeff27a 0xeff34b jne short 00EFF230h 75b4 <class 'bytes'> 15725178 15725387 <class 'int'> JNE_REL8_32 | 0 <class 'bytes'>\n",
      "  new_ins :  759b \n",
      "\n",
      "0xeff287 0xeff35c jbe short 00EFF2F5h 766c <class 'bytes'> 15725191 15725404 <class 'int'> JBE_REL8_32 | 4 <class 'bytes'>\n",
      "  new_ins :  0F868f000000 \n",
      "\n",
      "0xeff28f 0xeff36b jle short 00EFF29Fh 7e0e <class 'bytes'> 15725199 15725419 <class 'int'> JLE_REL8_32 | 4 <class 'bytes'>\n",
      "  new_ins :  7e13 \n",
      "\n"
     ]
    },
    {
     "name": "stderr",
     "output_type": "stream",
     "text": [
      "281it [00:11, 28.44it/s]"
     ]
    },
    {
     "name": "stdout",
     "output_type": "stream",
     "text": [
      "0xeff297 0xeff377 call 00F19E20h e884ab0100 <class 'bytes'> 15725207 15725431 <class 'int'> CALL_REL32_32 | 4 <class 'bytes'>\n",
      "  new_ins :  e8ae270200 \n",
      "\n",
      "0xeff2aa 0xeff38e je short 00EFF2B8h 740c <class 'bytes'> 15725226 15725454 <class 'int'> JE_REL8_32 | 4 <class 'bytes'>\n",
      "  new_ins :  7410 \n",
      "\n",
      "0xeff2b0 0xeff397 call 00F19E50h e89bab0100 <class 'bytes'> 15725232 15725463 <class 'int'> CALL_REL32_32 | 4 <class 'bytes'>\n",
      "  new_ins :  e8d3270200 \n",
      "\n",
      "0xeff2d6 0xeff3c9 call 00EFF180h e8a5feffff <class 'bytes'> 15725270 15725513 <class 'int'> CALL_REL32_32 | 4 <class 'bytes'>\n",
      "  new_ins :  e830feffff \n",
      "\n",
      "0xeff315 0xeff420 je near ptr 00EFF402h 0f84e7000000 <class 'bytes'> 15725333 15725600 <class 'int'> JE_REL32_32 | 4 <class 'bytes'>\n",
      "  new_ins :  0f843d010000 \n",
      "\n"
     ]
    },
    {
     "name": "stderr",
     "output_type": "stream",
     "text": [
      "369it [00:11, 43.29it/s]"
     ]
    },
    {
     "name": "stdout",
     "output_type": "stream",
     "text": [
      "0xeff338 0xeff44e je near ptr 00EFF3C9h 0f848b000000 <class 'bytes'> 15725368 15725646 <class 'int'> JE_REL32_32 | 4 <class 'bytes'>\n",
      "  new_ins :  0f84c0000000 \n",
      "\n",
      "0xeff34b 0xeff466 jmp short 00EFF350h eb03 <class 'bytes'> 15725387 15725670 <class 'int'> JMP_REL8_32 | 4 <class 'bytes'>\n",
      "  new_ins :  eb04 \n",
      "\n",
      "0xeff35d 0xeff480 call 00F01610h e8ae220000 <class 'bytes'> 15725405 15725696 <class 'int'> CALL_REL32_32 | 4 <class 'bytes'>\n",
      "  new_ins :  e8cf280000 \n",
      "\n",
      "0xeff3c4 0xeff50a jne short 00EFF350h 758a <class 'bytes'> 15725508 15725834 <class 'int'> JNE_REL8_32 | 8 <class 'bytes'>\n",
      "  new_ins :  0F855cffffff \n",
      "\n",
      "0xeff3d0 0xeff51e je short 00EFF401h 742f <class 'bytes'> 15725520 15725854 <class 'int'> JE_REL8_32 | 8 <class 'bytes'>\n",
      "  new_ins :  7441 \n",
      "\n",
      "0xeff3e2 0xeff538 call 00F01610h e829220000 <class 'bytes'> 15725538 15725880 <class 'int'> CALL_REL32_32 | 8 <class 'bytes'>\n",
      "  new_ins :  e817280000 \n",
      "\n",
      "0xeff3ee 0xeff547 je short 00EFF401h 7411 <class 'bytes'> 15725550 15725895 <class 'int'> JE_REL8_32 | 8 <class 'bytes'>\n",
      "  new_ins :  7418 \n",
      "\n",
      "0xeff3ff 0xeff55f jb short 00EFF3F2h 72f1 <class 'bytes'> 15725567 15725919 <class 'int'> JB_REL8_32 | 8 <class 'bytes'>\n",
      "  new_ins :  72eb \n",
      "\n",
      "0xeff408 0xeff56d ja short 00EFF43Eh 7734 <class 'bytes'> 15725576 15725933 <class 'int'> JA_REL8_32 | 8 <class 'bytes'>\n",
      "  new_ins :  774c \n",
      "\n",
      "0xeff423 0xeff595 jne short 00EFF449h 7524 <class 'bytes'> 15725603 15725973 <class 'int'> JNE_REL8_32 | 8 <class 'bytes'>\n",
      "  new_ins :  7535 \n",
      "\n",
      "0xeff439 0xeff5b5 jg short 00EFF430h 7ff5 <class 'bytes'> 15725625 15726005 <class 'int'> JG_REL8_32 | 8 <class 'bytes'>\n",
      "  new_ins :  7ff0 \n",
      "\n",
      "0xeff459 0xeff5e4 call 00EFF210h e8b2fdffff <class 'bytes'> 15725657 15726052 <class 'int'> CALL_REL32_32 | 8 <class 'bytes'>\n",
      "  new_ins :  e8d3fcffff \n",
      "\n",
      "0xeff497 0xeff637 call 00EFF210h e874fdffff <class 'bytes'> 15725719 15726135 <class 'int'> CALL_REL32_32 | 8 <class 'bytes'>\n",
      "  new_ins :  e880fcffff \n",
      "\n",
      "0xeff4ac 0xeff654 jnp short 00EFF434h 7b86 <class 'bytes'> 15725740 15726164 <class 'int'> JNP_REL8_32 | 12 <class 'bytes'>\n",
      "  new_ins :  0F8B54ffffff \n",
      "\n",
      "0xeff4b8 0xeff66b je short 00EFF527h 746d <class 'bytes'> 15725752 15726187 <class 'int'> JE_REL8_32 | 16 <class 'bytes'>\n",
      "  new_ins :  0F8495000000 \n",
      "\n"
     ]
    },
    {
     "name": "stderr",
     "output_type": "stream",
     "text": [
      "602it [00:12, 103.08it/s]"
     ]
    },
    {
     "name": "stdout",
     "output_type": "stream",
     "text": [
      "0xeff51f 0xeff6fd call 00EFF300h e8dcfdffff <class 'bytes'> 15725855 15726333 <class 'int'> CALL_REL32_32 | 16 <class 'bytes'>\n",
      "  new_ins :  e803fdffff \n",
      "\n",
      "0xeff52e 0xeff711 ja short 00EFF53Dh 770d <class 'bytes'> 15725870 15726353 <class 'int'> JA_REL8_32 | 16 <class 'bytes'>\n",
      "  new_ins :  7715 \n",
      "\n",
      "0xeff54f 0xeff742 call 00EFF210h e8bcfcffff <class 'bytes'> 15725903 15726402 <class 'int'> CALL_REL32_32 | 16 <class 'bytes'>\n",
      "  new_ins :  e879fbffff \n",
      "\n",
      "0xeff55a 0xeff751 call 00EFF210h e8b1fcffff <class 'bytes'> 15725914 15726417 <class 'int'> CALL_REL32_32 | 16 <class 'bytes'>\n",
      "  new_ins :  e86afbffff \n",
      "\n",
      "0xeff5c3 0xeff7db call 00EFF210h e848fcffff <class 'bytes'> 15726019 15726555 <class 'int'> CALL_REL32_32 | 16 <class 'bytes'>\n",
      "  new_ins :  e8e0faffff \n",
      "\n",
      "0xeff5f4 0xeff820 call 00F015D0h e8d71f0000 <class 'bytes'> 15726068 15726624 <class 'int'> CALL_REL32_32 | 16 <class 'bytes'>\n",
      "  new_ins :  e8dd240000 \n",
      "\n",
      "0xeff600 0xeff82f je near ptr 00EFF68Ah 0f8484000000 <class 'bytes'> 15726080 15726639 <class 'int'> JE_REL32_32 | 16 <class 'bytes'>\n",
      "  new_ins :  0f84b6000000 \n",
      "\n"
     ]
    },
    {
     "name": "stderr",
     "output_type": "stream",
     "text": [
      "679it [00:12, 129.04it/s]"
     ]
    },
    {
     "name": "stdout",
     "output_type": "stream",
     "text": [
      "0xeff61d 0xeff857 call 00F01610h e8ee1f0000 <class 'bytes'> 15726109 15726679 <class 'int'> CALL_REL32_32 | 16 <class 'bytes'>\n",
      "  new_ins :  e8fc240000 \n",
      "\n",
      "0xeff633 0xeff874 call 00EFF410h e8d8fdffff <class 'bytes'> 15726131 15726708 <class 'int'> CALL_REL32_32 | 16 <class 'bytes'>\n",
      "  new_ins :  e804fdffff \n",
      "\n",
      "0xeff648 0xeff891 call 00EFF4B0h e863feffff <class 'bytes'> 15726152 15726737 <class 'int'> CALL_REL32_32 | 16 <class 'bytes'>\n",
      "  new_ins :  e8c9fdffff \n",
      "\n",
      "0xeff65e 0xeff8ae call 00EFF530h e8cdfeffff <class 'bytes'> 15726174 15726766 <class 'int'> CALL_REL32_32 | 16 <class 'bytes'>\n",
      "  new_ins :  e860feffff \n",
      "\n",
      "0xeff672 0xeff8ca call 00EFF300h e889fcffff <class 'bytes'> 15726194 15726794 <class 'int'> CALL_REL32_32 | 16 <class 'bytes'>\n",
      "  new_ins :  e836fbffff \n",
      "\n",
      "0xeff679 0xeff8d3 call 00F01640h e8c21f0000 <class 'bytes'> 15726201 15726803 <class 'int'> CALL_REL32_32 | 16 <class 'bytes'>\n",
      "  new_ins :  e8c1240000 \n",
      "\n",
      "0xeff69b 0xeff903 jbe short 00EFF6D4h 7637 <class 'bytes'> 15726235 15726851 <class 'int'> JBE_REL8_32 | 16 <class 'bytes'>\n",
      "  new_ins :  7643 \n",
      "\n"
     ]
    },
    {
     "name": "stderr",
     "output_type": "stream",
     "text": [
      "1106it [00:12, 373.48it/s]"
     ]
    },
    {
     "name": "stdout",
     "output_type": "stream",
     "text": [
      "0xf00d0c 0xf011c8 call 00F19D30h e81f900100 <class 'bytes'> 15731980 15733192 <class 'int'> CALL_REL32_32 | 16 <class 'bytes'>\n",
      "  new_ins :  e813080200 \n",
      "\n",
      "0xf00d18 0xf011d7 jne short 00F00D20h 7506 <class 'bytes'> 15731992 15733207 <class 'int'> JNE_REL8_32 | 16 <class 'bytes'>\n",
      "  new_ins :  750a \n",
      "\n",
      "0xf00d32 0xf011fb call 00F19DD0h e899900100 <class 'bytes'> 15732018 15733243 <class 'int'> CALL_REL32_32 | 16 <class 'bytes'>\n",
      "  new_ins :  e8c1080200 \n",
      "\n"
     ]
    },
    {
     "name": "stderr",
     "output_type": "stream",
     "text": [
      "1287it [00:16, 112.71it/s]"
     ]
    },
    {
     "name": "stdout",
     "output_type": "stream",
     "text": [
      "0xf00d4a 0xf01218 call 00F19DD0h e881900100 <class 'bytes'> 15732042 15733272 <class 'int'> CALL_REL32_32 | 16 <class 'bytes'>\n",
      "  new_ins :  e8a4080200 \n",
      "\n",
      "0xf00d62 0xf01235 call 00F19DD0h e869900100 <class 'bytes'> 15732066 15733301 <class 'int'> CALL_REL32_32 | 16 <class 'bytes'>\n",
      "  new_ins :  e887080200 \n",
      "\n"
     ]
    },
    {
     "name": "stderr",
     "output_type": "stream",
     "text": [
      "1733it [00:17, 234.91it/s]"
     ]
    },
    {
     "name": "stdout",
     "output_type": "stream",
     "text": [
      "0xf00d77 0xf0124f call 00F19DD0h e854900100 <class 'bytes'> 15732087 15733327 <class 'int'> CALL_REL32_32 | 16 <class 'bytes'>\n",
      "  new_ins :  e86d080200 \n",
      "\n",
      "0xf00e83 0xf013ac jne near ptr 00F00F9Dh 0f8514010000 <class 'bytes'> 15732355 15733676 <class 'int'> JNE_REL32_32 | 16 <class 'bytes'>\n",
      "  new_ins :  0f8561010000 \n",
      "\n",
      "0xf00f16 0xf01468 je near ptr 00F00FA5h 0f8489000000 <class 'bytes'> 15732502 15733864 <class 'int'> JE_REL32_32 | 16 <class 'bytes'>\n",
      "  new_ins :  0f84b2000000 \n",
      "\n",
      "0xf00f97 0xf0150d jl near ptr 00F00E91h 0f8cf4feffff <class 'bytes'> 15732631 15734029 <class 'int'> JL_REL32_32 | 16 <class 'bytes'>\n",
      "  new_ins :  0f8caafeffff \n",
      "\n",
      "0xf01172 0xf01776 je near ptr 00F013F0h 0f8478020000 <class 'bytes'> 15733106 15734646 <class 'int'> JE_REL32_32 | 16 <class 'bytes'>\n",
      "  new_ins :  0f8425030000 \n",
      "\n",
      "0xf01178 0xf0177c jmp short 00F01180h eb06 <class 'bytes'> 15733112 15734652 <class 'int'> JMP_REL8_32 | 16 <class 'bytes'>\n",
      "  new_ins :  eb07 \n",
      "\n",
      "0xf013ea 0xf01a9b jne near ptr 00F01180h 0f8590fdffff <class 'bytes'> 15733738 15735451 <class 'int'> JNE_REL32_32 | 16 <class 'bytes'>\n",
      "  new_ins :  0f85e4fcffff \n",
      "\n",
      "0xf015df 0xf01d17 jne short 00F015E6h 7505 <class 'bytes'> 15734239 15736087 <class 'int'> JNE_REL8_32 | 16 <class 'bytes'>\n",
      "  new_ins :  7508 \n",
      "\n"
     ]
    },
    {
     "name": "stderr",
     "output_type": "stream",
     "text": [
      "1948it [00:17, 320.79it/s]"
     ]
    },
    {
     "name": "stdout",
     "output_type": "stream",
     "text": [
      "0xf015f7 0xf01d39 call 00F00D90h e894f7ffff <class 'bytes'> 15734263 15736121 <class 'int'> CALL_REL32_32 | 16 <class 'bytes'>\n",
      "  new_ins :  e834f5ffff \n",
      "\n",
      "0xf01601 0xf01d45 js short 00F015E1h 78de <class 'bytes'> 15734273 15736133 <class 'int'> JS_REL8_32 | 16 <class 'bytes'>\n",
      "  new_ins :  78d2 \n",
      "\n",
      "0xf01627 0xf01d78 call 00F00FB0h e884f9ffff <class 'bytes'> 15734311 15736184 <class 'int'> CALL_REL32_32 | 16 <class 'bytes'>\n",
      "  new_ins :  e8b3f7ffff \n",
      "\n",
      "0xf0164e 0xf01dac call 00EFF000h e8add9ffff <class 'bytes'> 15734350 15736236 <class 'int'> CALL_REL32_32 | 16 <class 'bytes'>\n",
      "  new_ins :  e853d2ffff \n",
      "\n",
      "0xf0166b 0xf01dd4 call 00F1A0C0h e8508a0100 <class 'bytes'> 15734379 15736276 <class 'int'> CALL_REL32_32 | 16 <class 'bytes'>\n",
      "  new_ins :  e809010200 \n",
      "\n",
      "0xf01675 0xf01de0 je short 00F01681h 740a <class 'bytes'> 15734389 15736288 <class 'int'> JE_REL8_32 | 16 <class 'bytes'>\n",
      "  new_ins :  740c \n",
      "\n",
      "0xf0167c 0xf01de8 je short 00F01681h 7403 <class 'bytes'> 15734396 15736296 <class 'int'> JE_REL8_32 | 16 <class 'bytes'>\n",
      "  new_ins :  7404 \n",
      "\n",
      "0xf0167f 0xf01dec jne short 00F01677h 75f6 <class 'bytes'> 15734399 15736300 <class 'int'> JNE_REL8_32 | 16 <class 'bytes'>\n",
      "  new_ins :  75f4 \n",
      "\n",
      "0xf01682 0xf01df0 je short 00F0168Fh 740b <class 'bytes'> 15734402 15736304 <class 'int'> JE_REL8_32 | 16 <class 'bytes'>\n",
      "  new_ins :  740e \n",
      "\n",
      "0xf01689 0xf01df8 je short 00F0168Fh 7404 <class 'bytes'> 15734409 15736312 <class 'int'> JE_REL8_32 | 16 <class 'bytes'>\n",
      "  new_ins :  7406 \n",
      "\n",
      "0xf0168d 0xf01dfe jne short 00F01684h 75f5 <class 'bytes'> 15734413 15736318 <class 'int'> JNE_REL8_32 | 16 <class 'bytes'>\n",
      "  new_ins :  75f2 \n",
      "\n",
      "0xf01691 0xf01e03 je short 00F016ACh 7419 <class 'bytes'> 15734417 15736323 <class 'int'> JE_REL8_32 | 16 <class 'bytes'>\n",
      "  new_ins :  7421 \n",
      "\n",
      "0xf01695 0xf01e08 je short 00F016ACh 7415 <class 'bytes'> 15734421 15736328 <class 'int'> JE_REL8_32 | 16 <class 'bytes'>\n",
      "  new_ins :  741c \n",
      "\n",
      "0xf016a4 0xf01e1d call 00F19DD0h e827870100 <class 'bytes'> 15734436 15736349 <class 'int'> CALL_REL32_32 | 16 <class 'bytes'>\n",
      "  new_ins :  e89ffc0100 \n",
      "\n",
      "0xf01708 0xf01e9b call 00F1A510h e8038e0100 <class 'bytes'> 15734536 15736475 <class 'int'> CALL_REL32_32 | 16 <class 'bytes'>\n",
      "  new_ins :  e82f060200 \n",
      "\n",
      "0xf01712 0xf01ea7 je short 00F0171Eh 740a <class 'bytes'> 15734546 15736487 <class 'int'> JE_REL8_32 | 16 <class 'bytes'>\n",
      "  new_ins :  740c \n",
      "\n",
      "0xf01725 0xf01ec0 call 00F1A510h e8e68d0100 <class 'bytes'> 15734565 15736512 <class 'int'> CALL_REL32_32 | 16 <class 'bytes'>\n",
      "  new_ins :  e80a060200 \n",
      "\n",
      "0xf0172f 0xf01ecc jne short 00F0179Fh 756e <class 'bytes'> 15734575 15736524 <class 'int'> JNE_REL8_32 | 20 <class 'bytes'>\n",
      "  new_ins :  0F8593000000 \n",
      "\n",
      "0xf01738 0xf01edd call 00F1A510h e8d38d0100 <class 'bytes'> 15734584 15736541 <class 'int'> CALL_REL32_32 | 20 <class 'bytes'>\n",
      "  new_ins :  e8ed050200 \n",
      "\n",
      "0xf01742 0xf01ee9 jne short 00F0179Fh 755b <class 'bytes'> 15734594 15736553 <class 'int'> JNE_REL8_32 | 20 <class 'bytes'>\n",
      "  new_ins :  757a \n",
      "\n",
      "0xf0174b 0xf01ef6 call 00F1A510h e8c08d0100 <class 'bytes'> 15734603 15736566 <class 'int'> CALL_REL32_32 | 20 <class 'bytes'>\n",
      "  new_ins :  e8d4050200 \n",
      "\n",
      "0xf01755 0xf01f02 jne short 00F01795h 753e <class 'bytes'> 15734613 15736578 <class 'int'> JNE_REL8_32 | 20 <class 'bytes'>\n",
      "  new_ins :  7553 \n",
      "\n",
      "0xf0175e 0xf01f0f call 00F1A510h e8ad8d0100 <class 'bytes'> 15734622 15736591 <class 'int'> CALL_REL32_32 | 20 <class 'bytes'>\n",
      "  new_ins :  e8bb050200 \n",
      "\n",
      "0xf01768 0xf01f1b jne short 00F01795h 752b <class 'bytes'> 15734632 15736603 <class 'int'> JNE_REL8_32 | 20 <class 'bytes'>\n",
      "  new_ins :  753a \n",
      "\n",
      "0xf01771 0xf01f28 call 00F1A510h e89a8d0100 <class 'bytes'> 15734641 15736616 <class 'int'> CALL_REL32_32 | 20 <class 'bytes'>\n",
      "  new_ins :  e8a2050200 \n",
      "\n",
      "0xf0177b 0xf01f34 jne short 00F01795h 7518 <class 'bytes'> 15734651 15736628 <class 'int'> JNE_REL8_32 | 20 <class 'bytes'>\n",
      "  new_ins :  7521 \n",
      "\n",
      "0xf01784 0xf01f41 call 00F1A510h e8878d0100 <class 'bytes'> 15734660 15736641 <class 'int'> CALL_REL32_32 | 20 <class 'bytes'>\n",
      "  new_ins :  e889050200 \n",
      "\n",
      "0xf0178e 0xf01f4d jne short 00F01795h 7505 <class 'bytes'> 15734670 15736653 <class 'int'> JNE_REL8_32 | 20 <class 'bytes'>\n",
      "  new_ins :  7508 \n",
      "\n",
      "0xf017bc 0xf01f91 je near ptr 00F01B0Eh 0f844c030000 <class 'bytes'> 15734716 15736721 <class 'int'> JE_REL32_32 | 20 <class 'bytes'>\n",
      "  new_ins :  0f8442040000 \n",
      "\n",
      "0xf017c8 0xf01f9e ja near ptr 00F01B0Eh 0f8740030000 <class 'bytes'> 15734728 15736734 <class 'int'> JA_REL32_32 | 20 <class 'bytes'>\n",
      "  new_ins :  0f8735040000 \n",
      "\n",
      "0xf017ef 0xf01fcf call 00F19E50h e85c860100 <class 'bytes'> 15734767 15736783 <class 'int'> CALL_REL32_32 | 20 <class 'bytes'>\n",
      "  new_ins :  e89ffb0100 \n",
      "\n"
     ]
    },
    {
     "name": "stderr",
     "output_type": "stream",
     "text": [
      "2129it [00:23, 85.13it/s] "
     ]
    },
    {
     "name": "stdout",
     "output_type": "stream",
     "text": [
      "0xf01801 0xf01fe6 call 00F1A0E0h e8da880100 <class 'bytes'> 15734785 15736806 <class 'int'> CALL_REL32_32 | 20 <class 'bytes'>\n",
      "  new_ins :  e822ff0100 \n",
      "\n",
      "0xf0180b 0xf01ff2 jne short 00F0181Dh 7510 <class 'bytes'> 15734795 15736818 <class 'int'> JNE_REL8_32 | 20 <class 'bytes'>\n",
      "  new_ins :  7511 \n",
      "\n",
      "0xf01817 0xf01fff jne near ptr 00F01A1Dh 0f8500020000 <class 'bytes'> 15734807 15736831 <class 'int'> JNE_REL32_32 | 20 <class 'bytes'>\n",
      "  new_ins :  0f858f020000 \n",
      "\n",
      "0xf01827 0xf02013 jbe near ptr 00F01A1Dh 0f86f0010000 <class 'bytes'> 15734823 15736851 <class 'int'> JBE_REL32_32 | 20 <class 'bytes'>\n",
      "  new_ins :  0f867b020000 \n",
      "\n",
      "0xf0183d 0xf0202c je short 00F01855h 7416 <class 'bytes'> 15734845 15736876 <class 'int'> JE_REL8_32 | 20 <class 'bytes'>\n",
      "  new_ins :  741f \n",
      "\n",
      "0xf01845 0xf02035 je short 00F01855h 740e <class 'bytes'> 15734853 15736885 <class 'int'> JE_REL8_32 | 20 <class 'bytes'>\n",
      "  new_ins :  7416 \n",
      "\n",
      "0xf0184a 0xf0203c jb short 00F01830h 72e4 <class 'bytes'> 15734858 15736892 <class 'int'> JB_REL8_32 | 20 <class 'bytes'>\n",
      "  new_ins :  72df \n",
      "\n",
      "0xf01861 0xf0205c je near ptr 00F01A1Dh 0f84b6010000 <class 'bytes'> 15734881 15736924 <class 'int'> JE_REL32_32 | 20 <class 'bytes'>\n",
      "  new_ins :  0f8432020000 \n",
      "\n",
      "0xf01873 0xf02071 jne short 00F01887h 7512 <class 'bytes'> 15734899 15736945 <class 'int'> JNE_REL8_32 | 20 <class 'bytes'>\n",
      "  new_ins :  751a \n",
      "\n",
      "0xf01876 0xf02075 call 00F02AD0h e855120000 <class 'bytes'> 15734902 15736949 <class 'int'> CALL_REL32_32 | 20 <class 'bytes'>\n",
      "  new_ins :  e853170000 \n",
      "\n",
      "0xf0188b 0xf02093 jb near ptr 00F01B02h 0f8271020000 <class 'bytes'> 15734923 15736979 <class 'int'> JB_REL32_32 | 20 <class 'bytes'>\n",
      "  new_ins :  0f822e030000 \n",
      "\n",
      "0xf01893 0xf0209c ja near ptr 00F01B02h 0f8769020000 <class 'bytes'> 15734931 15736988 <class 'int'> JA_REL32_32 | 20 <class 'bytes'>\n",
      "  new_ins :  0f8725030000 \n",
      "\n",
      "0xf018b6 0xf020c7 call 00F19E00h e845850100 <class 'bytes'> 15734966 15737031 <class 'int'> CALL_REL32_32 | 20 <class 'bytes'>\n",
      "  new_ins :  e838fa0100 \n",
      "\n",
      "0xf018c9 0xf020de jbe short 00F01928h 765d <class 'bytes'> 15734985 15737054 <class 'int'> JBE_REL8_32 | 20 <class 'bytes'>\n",
      "  new_ins :  7677 \n",
      "\n",
      "0xf018da 0xf020f4 jne short 00F01919h 753d <class 'bytes'> 15735002 15737076 <class 'int'> JNE_REL8_32 | 20 <class 'bytes'>\n",
      "  new_ins :  754c \n",
      "\n",
      "0xf018e1 0xf020fc jne short 00F01919h 7536 <class 'bytes'> 15735009 15737084 <class 'int'> JNE_REL8_32 | 20 <class 'bytes'>\n",
      "  new_ins :  7544 \n",
      "\n",
      "0xf018eb 0xf02108 jmp short 00F018F0h eb03 <class 'bytes'> 15735019 15737096 <class 'int'> JMP_REL8_32 | 20 <class 'bytes'>\n",
      "  new_ins :  eb04 \n",
      "\n",
      "0xf018f4 0xf02113 jne short 00F018FCh 7506 <class 'bytes'> 15735028 15737107 <class 'int'> JNE_REL8_32 | 20 <class 'bytes'>\n",
      "  new_ins :  7507 \n",
      "\n",
      "0xf018fa 0xf0211a je short 00F01910h 7414 <class 'bytes'> 15735034 15737114 <class 'int'> JE_REL8_32 | 20 <class 'bytes'>\n",
      "  new_ins :  741b \n",
      "\n",
      "0xf018ff 0xf02121 jb short 00F018F0h 72ef <class 'bytes'> 15735039 15737121 <class 'int'> JB_REL8_32 | 20 <class 'bytes'>\n",
      "  new_ins :  72eb \n",
      "\n",
      "0xf0190e 0xf02135 jmp short 00F01922h eb12 <class 'bytes'> 15735054 15737141 <class 'int'> JMP_REL8_32 | 20 <class 'bytes'>\n",
      "  new_ins :  eb18 \n",
      "\n",
      "0xf01917 0xf02140 jmp short 00F01923h eb0a <class 'bytes'> 15735063 15737152 <class 'int'> JMP_REL8_32 | 20 <class 'bytes'>\n",
      "  new_ins :  eb0f \n",
      "\n",
      "0xf01926 0xf02155 jb short 00F018D0h 72a8 <class 'bytes'> 15735078 15737173 <class 'int'> JB_REL8_32 | 20 <class 'bytes'>\n",
      "  new_ins :  7290 \n",
      "\n",
      "0xf0193a 0xf0216f call 00F08A00h e8c1700000 <class 'bytes'> 15735098 15737199 <class 'int'> CALL_REL32_32 | 20 <class 'bytes'>\n",
      "  new_ins :  e8f18f0000 \n",
      "\n",
      "0xf01947 0xf0217f jne short 00F0198Eh 7545 <class 'bytes'> 15735111 15737215 <class 'int'> JNE_REL8_32 | 20 <class 'bytes'>\n",
      "  new_ins :  7558 \n",
      "\n",
      "0xf01955 0xf0218f jne short 00F01985h 752e <class 'bytes'> 15735125 15737231 <class 'int'> JNE_REL8_32 | 20 <class 'bytes'>\n",
      "  new_ins :  7539 \n",
      "\n",
      "0xf01962 0xf0219e call 00F02470h e8090b0000 <class 'bytes'> 15735138 15737246 <class 'int'> CALL_REL32_32 | 20 <class 'bytes'>\n",
      "  new_ins :  e8ec0d0000 \n",
      "\n"
     ]
    },
    {
     "name": "stderr",
     "output_type": "stream",
     "text": [
      "2256it [00:24, 97.56it/s]"
     ]
    },
    {
     "name": "stdout",
     "output_type": "stream",
     "text": [
      "0xf01975 0xf021b7 call 00F0B140h e8c6970000 <class 'bytes'> 15735157 15737271 <class 'int'> CALL_REL32_32 | 20 <class 'bytes'>\n",
      "  new_ins :  e888c20000 \n",
      "\n",
      "0xf0197d 0xf021c1 call 00F186A0h e81e6d0100 <class 'bytes'> 15735165 15737281 <class 'int'> CALL_REL32_32 | 20 <class 'bytes'>\n",
      "  new_ins :  e8efd90100 \n",
      "\n",
      "0xf01991 0xf021dd jne short 00F019B3h 7520 <class 'bytes'> 15735185 15737309 <class 'int'> JNE_REL8_32 | 20 <class 'bytes'>\n",
      "  new_ins :  752e \n",
      "\n",
      "0xf0199f 0xf021ed jne short 00F01A1Dh 757c <class 'bytes'> 15735199 15737325 <class 'int'> JNE_REL8_32 | 24 <class 'bytes'>\n",
      "  new_ins :  0F85a1000000 \n",
      "\n"
     ]
    },
    {
     "name": "stderr",
     "output_type": "stream",
     "text": [
      "2352it [00:24, 112.66it/s]"
     ]
    },
    {
     "name": "stdout",
     "output_type": "stream",
     "text": [
      "0xf019a2 0xf021f5 call 00F02D40h e899130000 <class 'bytes'> 15735202 15737333 <class 'int'> CALL_REL32_32 | 24 <class 'bytes'>\n",
      "  new_ins :  e8fe180000 \n",
      "\n",
      "0xf019b6 0xf02211 jne short 00F019DAh 7522 <class 'bytes'> 15735222 15737361 <class 'int'> JNE_REL8_32 | 24 <class 'bytes'>\n",
      "  new_ins :  752d \n",
      "\n",
      "0xf019c4 0xf02221 jne short 00F019F8h 7532 <class 'bytes'> 15735236 15737377 <class 'int'> JNE_REL8_32 | 24 <class 'bytes'>\n",
      "  new_ins :  7541 \n",
      "\n",
      "0xf019c9 0xf02228 call 00F02580h e8b20b0000 <class 'bytes'> 15735241 15737384 <class 'int'> CALL_REL32_32 | 24 <class 'bytes'>\n",
      "  new_ins :  e8c50e0000 \n",
      "\n",
      "0xf019dd 0xf02244 jne short 00F01A01h 7522 <class 'bytes'> 15735261 15737412 <class 'int'> JNE_REL8_32 | 24 <class 'bytes'>\n",
      "  new_ins :  752d \n",
      "\n",
      "0xf019eb 0xf02254 jne short 00F019F8h 750b <class 'bytes'> 15735275 15737428 <class 'int'> JNE_REL8_32 | 24 <class 'bytes'>\n",
      "  new_ins :  750e \n",
      "\n",
      "0xf019f0 0xf0225b call 00F02580h e88b0b0000 <class 'bytes'> 15735280 15737435 <class 'int'> CALL_REL32_32 | 24 <class 'bytes'>\n",
      "  new_ins :  e8920e0000 \n",
      "\n",
      "0xf01a04 0xf02277 jne short 00F01A26h 7520 <class 'bytes'> 15735300 15737463 <class 'int'> JNE_REL8_32 | 24 <class 'bytes'>\n",
      "  new_ins :  752a \n",
      "\n",
      "0xf01a12 0xf02287 jne short 00F01A1Dh 7509 <class 'bytes'> 15735314 15737479 <class 'int'> JNE_REL8_32 | 24 <class 'bytes'>\n",
      "  new_ins :  750b \n",
      "\n",
      "0xf01a15 0xf0228b call 00F028C0h e8a60e0000 <class 'bytes'> 15735317 15737483 <class 'int'> CALL_REL32_32 | 24 <class 'bytes'>\n",
      "  new_ins :  e89a120000 \n",
      "\n",
      "0xf01a29 0xf022a7 je short 00F01A3Ah 740f <class 'bytes'> 15735337 15737511 <class 'int'> JE_REL8_32 | 24 <class 'bytes'>\n",
      "  new_ins :  7412 \n",
      "\n",
      "0xf01a2e 0xf022ad je short 00F01A3Ah 740a <class 'bytes'> 15735342 15737517 <class 'int'> JE_REL8_32 | 24 <class 'bytes'>\n",
      "  new_ins :  740c \n",
      "\n",
      "0xf01a33 0xf022b3 je short 00F01A3Ah 7405 <class 'bytes'> 15735347 15737523 <class 'int'> JE_REL8_32 | 24 <class 'bytes'>\n",
      "  new_ins :  7406 \n",
      "\n",
      "0xf01a38 0xf022b9 jne short 00F01A64h 752a <class 'bytes'> 15735352 15737529 <class 'int'> JNE_REL8_32 | 24 <class 'bytes'>\n",
      "  new_ins :  7534 \n",
      "\n",
      "0xf01a48 0xf022cd je short 00F01A64h 741a <class 'bytes'> 15735368 15737549 <class 'int'> JE_REL8_32 | 24 <class 'bytes'>\n",
      "  new_ins :  7420 \n",
      "\n",
      "0xf01a57 0xf022de jne short 00F01A5Fh 7506 <class 'bytes'> 15735383 15737566 <class 'int'> JNE_REL8_32 | 24 <class 'bytes'>\n",
      "  new_ins :  7508 \n",
      "\n",
      "0xf01a62 0xf022ed jb short 00F01A50h 72ec <class 'bytes'> 15735394 15737581 <class 'int'> JB_REL8_32 | 24 <class 'bytes'>\n",
      "  new_ins :  72e7 \n",
      "\n",
      "0xf01a67 0xf022f3 jne short 00F01A84h 751b <class 'bytes'> 15735399 15737587 <class 'int'> JNE_REL8_32 | 24 <class 'bytes'>\n",
      "  new_ins :  7526 \n",
      "\n",
      "0xf01a75 0xf02306 call 00F024C0h e8460a0000 <class 'bytes'> 15735413 15737606 <class 'int'> CALL_REL32_32 | 24 <class 'bytes'>\n",
      "  new_ins :  e8ef0c0000 \n",
      "\n",
      "0xf01a89 0xf02322 jne short 00F01A90h 7505 <class 'bytes'> 15735433 15737634 <class 'int'> JNE_REL8_32 | 24 <class 'bytes'>\n",
      "  new_ins :  750a \n",
      "\n",
      "0xf01a8e 0xf02328 jne short 00F01B02h 7572 <class 'bytes'> 15735438 15737640 <class 'int'> JNE_REL8_32 | 28 <class 'bytes'>\n",
      "  new_ins :  0F8599000000 \n",
      "\n",
      "0xf01a93 0xf02332 jne short 00F01AADh 7518 <class 'bytes'> 15735443 15737650 <class 'int'> JNE_REL8_32 | 28 <class 'bytes'>\n",
      "  new_ins :  7522 \n",
      "\n",
      "0xf01a9e 0xf02341 call 00F02270h e8cd070000 <class 'bytes'> 15735454 15737665 <class 'int'> CALL_REL32_32 | 28 <class 'bytes'>\n",
      "  new_ins :  e8bd090000 \n",
      "\n",
      "0xf01ab0 0xf0235a jne short 00F01AE1h 752f <class 'bytes'> 15735472 15737690 <class 'int'> JNE_REL8_32 | 28 <class 'bytes'>\n",
      "  new_ins :  753f \n",
      "\n"
     ]
    },
    {
     "name": "stderr",
     "output_type": "stream",
     "text": [
      "2430it [00:28, 61.89it/s] "
     ]
    },
    {
     "name": "stdout",
     "output_type": "stream",
     "text": [
      "0xf01abd 0xf0236b call 00F19B30h e86e800100 <class 'bytes'> 15735485 15737707 <class 'int'> CALL_REL32_32 | 28 <class 'bytes'>\n",
      "  new_ins :  e8c0f30100 \n",
      "\n",
      "0xf01ac7 0xf02377 je short 00F01AE1h 7418 <class 'bytes'> 15735495 15737719 <class 'int'> JE_REL8_32 | 28 <class 'bytes'>\n",
      "  new_ins :  7422 \n",
      "\n",
      "0xf01ad2 0xf02386 call 00F02B40h e869100000 <class 'bytes'> 15735506 15737734 <class 'int'> CALL_REL32_32 | 28 <class 'bytes'>\n",
      "  new_ins :  e8d5140000 \n",
      "\n",
      "0xf01ae4 0xf0239f jne near ptr 00F01A1Dh 0f8533ffffff <class 'bytes'> 15735524 15737759 <class 'int'> JNE_REL32_32 | 28 <class 'bytes'>\n",
      "  new_ins :  0f85effeffff \n",
      "\n",
      "0xf01af3 0xf023b2 call 00F02910h e8180e0000 <class 'bytes'> 15735539 15737778 <class 'int'> CALL_REL32_32 | 28 <class 'bytes'>\n",
      "  new_ins :  e8da110000 \n",
      "\n",
      "0xf01b38 0xf02412 je short 00F01B3Fh 7405 <class 'bytes'> 15735608 15737874 <class 'int'> JE_REL8_32 | 28 <class 'bytes'>\n",
      "  new_ins :  740a \n",
      "\n",
      "0xf01b3d 0xf02418 jne short 00F01BBEh 757f <class 'bytes'> 15735613 15737880 <class 'int'> JNE_REL8_32 | 32 <class 'bytes'>\n",
      "  new_ins :  0F859e000000 \n",
      "\n",
      "0xf01b6f 0xf02459 call 00F19DD0h e85c820100 <class 'bytes'> 15735663 15737945 <class 'int'> CALL_REL32_32 | 32 <class 'bytes'>\n",
      "  new_ins :  e863f60100 \n",
      "\n",
      "0xf01b80 0xf0246d jne short 00F01B87h 7505 <class 'bytes'> 15735680 15737965 <class 'int'> JNE_REL8_32 | 32 <class 'bytes'>\n",
      "  new_ins :  7506 \n",
      "\n",
      "0xf01b85 0xf02473 jmp short 00F01B8Fh eb08 <class 'bytes'> 15735685 15737971 <class 'int'> JMP_REL8_32 | 32 <class 'bytes'>\n",
      "  new_ins :  eb0a \n",
      "\n",
      "0xf01b8a 0xf02479 jne short 00F01BB3h 7527 <class 'bytes'> 15735690 15737977 <class 'int'> JNE_REL8_32 | 32 <class 'bytes'>\n",
      "  new_ins :  7534 \n",
      "\n"
     ]
    },
    {
     "name": "stderr",
     "output_type": "stream",
     "text": [
      "2485it [00:32, 38.91it/s]"
     ]
    },
    {
     "name": "stdout",
     "output_type": "stream",
     "text": [
      "0xf01b93 0xf02486 call 00F1A1D0h e838860100 <class 'bytes'> 15735699 15737990 <class 'int'> CALL_REL32_32 | 32 <class 'bytes'>\n",
      "  new_ins :  e8d9fb0100 \n",
      "\n",
      "0xf01bab 0xf024a6 call 00F143E0h e830280100 <class 'bytes'> 15735723 15738022 <class 'int'> CALL_REL32_32 | 32 <class 'bytes'>\n",
      "  new_ins :  e84d7e0100 \n",
      "\n",
      "0xf01bf1 0xf02501 call 00F19E50h e85a820100 <class 'bytes'> 15735793 15738113 <class 'int'> CALL_REL32_32 | 32 <class 'bytes'>\n",
      "  new_ins :  e86df60100 \n",
      "\n",
      "0xf01c0b 0xf02520 call 00F19E50h e840820100 <class 'bytes'> 15735819 15738144 <class 'int'> CALL_REL32_32 | 32 <class 'bytes'>\n",
      "  new_ins :  e84ef60100 \n",
      "\n"
     ]
    },
    {
     "name": "stderr",
     "output_type": "stream",
     "text": [
      "2524it [00:33, 41.08it/s]"
     ]
    },
    {
     "name": "stdout",
     "output_type": "stream",
     "text": [
      "0xf01c26 0xf02541 call 00F19E50h e825820100 <class 'bytes'> 15735846 15738177 <class 'int'> CALL_REL32_32 | 32 <class 'bytes'>\n",
      "  new_ins :  e82df60100 \n",
      "\n",
      "0xf01c48 0xf0256a call 00F19E50h e803820100 <class 'bytes'> 15735880 15738218 <class 'int'> CALL_REL32_32 | 32 <class 'bytes'>\n",
      "  new_ins :  e804f60100 \n",
      "\n"
     ]
    },
    {
     "name": "stderr",
     "output_type": "stream",
     "text": [
      "2556it [00:33, 45.57it/s]"
     ]
    },
    {
     "name": "stdout",
     "output_type": "stream",
     "text": [
      "0xf01cbc 0xf025f8 call 00F0AF10h e84f920000 <class 'bytes'> 15735996 15738360 <class 'int'> CALL_REL32_32 | 32 <class 'bytes'>\n",
      "  new_ins :  e873bb0000 \n",
      "\n",
      "0xf01cc6 0xf02604 jne short 00F01CCEh 7506 <class 'bytes'> 15736006 15738372 <class 'int'> JNE_REL8_32 | 32 <class 'bytes'>\n",
      "  new_ins :  750a \n",
      "\n",
      "0xf01cd6 0xf0261b call 00F1A0C0h e8e5830100 <class 'bytes'> 15736022 15738395 <class 'int'> CALL_REL32_32 | 32 <class 'bytes'>\n",
      "  new_ins :  e8c2f80100 \n",
      "\n",
      "0xf01ce5 0xf0262e call 00F07DA0h e8b6600000 <class 'bytes'> 15736037 15738414 <class 'int'> CALL_REL32_32 | 32 <class 'bytes'>\n",
      "  new_ins :  e8727b0000 \n",
      "\n",
      "0xf01cf7 0xf02644 call 00F1A0A0h e8a4830100 <class 'bytes'> 15736055 15738436 <class 'int'> CALL_REL32_32 | 32 <class 'bytes'>\n",
      "  new_ins :  e86ff80100 \n",
      "\n",
      "0xf01d02 0xf02653 call 00F19DD0h e8c9800100 <class 'bytes'> 15736066 15738451 <class 'int'> CALL_REL32_32 | 32 <class 'bytes'>\n",
      "  new_ins :  e869f40100 \n",
      "\n"
     ]
    },
    {
     "name": "stderr",
     "output_type": "stream",
     "text": [
      "2581it [00:34, 46.43it/s]"
     ]
    },
    {
     "name": "stdout",
     "output_type": "stream",
     "text": [
      "0xf01d08 0xf0265a call 00F1A0A0h e893830100 <class 'bytes'> 15736072 15738458 <class 'int'> CALL_REL32_32 | 32 <class 'bytes'>\n",
      "  new_ins :  e859f80100 \n",
      "\n",
      "0xf01d24 0xf0267f call 00F1A000h e8d7820100 <class 'bytes'> 15736100 15738495 <class 'int'> CALL_REL32_32 | 32 <class 'bytes'>\n",
      "  new_ins :  e85ef70100 \n",
      "\n"
     ]
    },
    {
     "name": "stderr",
     "output_type": "stream",
     "text": [
      "2600it [00:34, 46.15it/s]"
     ]
    },
    {
     "name": "stdout",
     "output_type": "stream",
     "text": [
      "0xf01d30 0xf0268f call 00F1A1D0h e89b840100 <class 'bytes'> 15736112 15738511 <class 'int'> CALL_REL32_32 | 32 <class 'bytes'>\n",
      "  new_ins :  e8d0f90100 \n",
      "\n",
      "0xf01d45 0xf026aa call 00F19DD0h e886800100 <class 'bytes'> 15736133 15738538 <class 'int'> CALL_REL32_32 | 32 <class 'bytes'>\n",
      "  new_ins :  e812f40100 \n",
      "\n",
      "0xf01d54 0xf026bb je short 00F01D6Fh 7419 <class 'bytes'> 15736148 15738555 <class 'int'> JE_REL8_32 | 32 <class 'bytes'>\n",
      "  new_ins :  741f \n",
      "\n"
     ]
    },
    {
     "name": "stderr",
     "output_type": "stream",
     "text": [
      "2615it [00:34, 46.83it/s]"
     ]
    },
    {
     "name": "stdout",
     "output_type": "stream",
     "text": [
      "0xf01d67 0xf026d3 call 00F1A1D0h e864840100 <class 'bytes'> 15736167 15738579 <class 'int'> CALL_REL32_32 | 32 <class 'bytes'>\n",
      "  new_ins :  e88cf90100 \n",
      "\n",
      "0xf01d76 0xf026e7 call 00F1A1D0h e855840100 <class 'bytes'> 15736182 15738599 <class 'int'> CALL_REL32_32 | 32 <class 'bytes'>\n",
      "  new_ins :  e878f90100 \n",
      "\n"
     ]
    },
    {
     "name": "stderr",
     "output_type": "stream",
     "text": [
      "2648it [00:35, 56.87it/s]"
     ]
    },
    {
     "name": "stdout",
     "output_type": "stream",
     "text": [
      "0xf01dd8 0xf02757 call 00F19E50h e873800100 <class 'bytes'> 15736280 15738711 <class 'int'> CALL_REL32_32 | 32 <class 'bytes'>\n",
      "  new_ins :  e817f40100 \n",
      "\n",
      "0xf01e2e 0xf027bd call 00F09030h e8fd710000 <class 'bytes'> 15736366 15738813 <class 'int'> CALL_REL32_32 | 32 <class 'bytes'>\n",
      "  new_ins :  e8c9910000 \n",
      "\n",
      "0xf01e41 0xf027d5 call 00F1A0C0h e87a820100 <class 'bytes'> 15736385 15738837 <class 'int'> CALL_REL32_32 | 32 <class 'bytes'>\n",
      "  new_ins :  e808f70100 \n",
      "\n"
     ]
    },
    {
     "name": "stderr",
     "output_type": "stream",
     "text": [
      "2659it [00:35, 57.03it/s]"
     ]
    },
    {
     "name": "stdout",
     "output_type": "stream",
     "text": [
      "0xf01e52 0xf027ea call 00F09030h e8d9710000 <class 'bytes'> 15736402 15738858 <class 'int'> CALL_REL32_32 | 32 <class 'bytes'>\n",
      "  new_ins :  e89c910000 \n",
      "\n",
      "0xf01e5b 0xf027f5 call 00F1A0C0h e860820100 <class 'bytes'> 15736411 15738869 <class 'int'> CALL_REL32_32 | 32 <class 'bytes'>\n",
      "  new_ins :  e8e8f60100 \n",
      "\n"
     ]
    },
    {
     "name": "stderr",
     "output_type": "stream",
     "text": [
      "2669it [00:35, 52.02it/s]"
     ]
    },
    {
     "name": "stdout",
     "output_type": "stream",
     "text": [
      "0xf01e71 0xf02812 call 00F1A0C0h e84a820100 <class 'bytes'> 15736433 15738898 <class 'int'> CALL_REL32_32 | 32 <class 'bytes'>\n",
      "  new_ins :  e8cbf60100 \n",
      "\n",
      "0xf01e81 0xf02825 call 00F19DD0h e84a7f0100 <class 'bytes'> 15736449 15738917 <class 'int'> CALL_REL32_32 | 32 <class 'bytes'>\n",
      "  new_ins :  e897f20100 \n",
      "\n"
     ]
    },
    {
     "name": "stderr",
     "output_type": "stream",
     "text": [
      "2677it [00:35, 51.14it/s]"
     ]
    },
    {
     "name": "stdout",
     "output_type": "stream",
     "text": [
      "0xf01e9b 0xf02845 call 00F1A0C0h e820820100 <class 'bytes'> 15736475 15738949 <class 'int'> CALL_REL32_32 | 32 <class 'bytes'>\n",
      "  new_ins :  e898f60100 \n",
      "\n",
      "0xf01eb7 0xf02869 call 00F0AFD0h e814910000 <class 'bytes'> 15736503 15738985 <class 'int'> CALL_REL32_32 | 32 <class 'bytes'>\n",
      "  new_ins :  e8fcb90000 \n",
      "\n",
      "0xf01ec1 0xf02875 je short 00F01F2Bh 7468 <class 'bytes'> 15736513 15738997 <class 'int'> JE_REL8_32 | 36 <class 'bytes'>\n",
      "  new_ins :  0F8482000000 \n",
      "\n"
     ]
    },
    {
     "name": "stderr",
     "output_type": "stream",
     "text": [
      "2699it [00:39, 13.91it/s]"
     ]
    },
    {
     "name": "stdout",
     "output_type": "stream",
     "text": [
      "0xf01ede 0xf028a1 call 00F18110h e82d620100 <class 'bytes'> 15736542 15739041 <class 'int'> CALL_REL32_32 | 36 <class 'bytes'>\n",
      "  new_ins :  e82ecb0100 \n",
      "\n",
      "0xf01ee8 0xf028ad jne short 00F01F2Bh 7541 <class 'bytes'> 15736552 15739053 <class 'int'> JNE_REL8_32 | 36 <class 'bytes'>\n",
      "  new_ins :  754e \n",
      "\n"
     ]
    },
    {
     "name": "stderr",
     "output_type": "stream",
     "text": [
      "2707it [00:39, 13.50it/s]"
     ]
    },
    {
     "name": "stdout",
     "output_type": "stream",
     "text": [
      "0xf01ef9 0xf028c2 call 00F1A0A0h e8a2810100 <class 'bytes'> 15736569 15739074 <class 'int'> CALL_REL32_32 | 36 <class 'bytes'>\n",
      "  new_ins :  e8f1f50100 \n",
      "\n"
     ]
    },
    {
     "name": "stderr",
     "output_type": "stream",
     "text": [
      "2717it [00:40, 15.23it/s]"
     ]
    },
    {
     "name": "stdout",
     "output_type": "stream",
     "text": [
      "0xf01f09 0xf028d5 call 00F1A470h e862850100 <class 'bytes'> 15736585 15739093 <class 'int'> CALL_REL32_32 | 36 <class 'bytes'>\n",
      "  new_ins :  e815fb0100 \n",
      "\n",
      "0xf01f23 0xf028f4 call 00F1A470h e848850100 <class 'bytes'> 15736611 15739124 <class 'int'> CALL_REL32_32 | 36 <class 'bytes'>\n",
      "  new_ins :  e8f6fa0100 \n",
      "\n",
      "0xf01f33 0xf02908 call 00F016B0h e878f7ffff <class 'bytes'> 15736627 15739144 <class 'int'> CALL_REL32_32 | 36 <class 'bytes'>\n",
      "  new_ins :  e820f5ffff \n",
      "\n",
      "0xf01f47 0xf02920 je short 00F01F4Fh 7406 <class 'bytes'> 15736647 15739168 <class 'int'> JE_REL8_32 | 36 <class 'bytes'>\n",
      "  new_ins :  7408 \n",
      "\n",
      "0xf01f4d 0xf02928 jmp short 00F01F53h eb04 <class 'bytes'> 15736653 15739176 <class 'int'> JMP_REL8_32 | 36 <class 'bytes'>\n",
      "  new_ins :  eb06 \n",
      "\n"
     ]
    },
    {
     "name": "stderr",
     "output_type": "stream",
     "text": [
      "2741it [00:40, 26.51it/s]"
     ]
    },
    {
     "name": "stdout",
     "output_type": "stream",
     "text": [
      "0xf01f54 0xf02932 call 00F1A1D0h e877820100 <class 'bytes'> 15736660 15739186 <class 'int'> CALL_REL32_32 | 36 <class 'bytes'>\n",
      "  new_ins :  e82df70100 \n",
      "\n",
      "0xf01f6b 0xf0294f call 00F19D30h e8c07d0100 <class 'bytes'> 15736683 15739215 <class 'int'> CALL_REL32_32 | 36 <class 'bytes'>\n",
      "  new_ins :  e88cf00100 \n",
      "\n"
     ]
    },
    {
     "name": "stderr",
     "output_type": "stream",
     "text": [
      "2748it [00:40, 29.60it/s]"
     ]
    },
    {
     "name": "stdout",
     "output_type": "stream",
     "text": [
      "0xf01f85 0xf0296f call 00F19D30h e8a67d0100 <class 'bytes'> 15736709 15739247 <class 'int'> CALL_REL32_32 | 36 <class 'bytes'>\n",
      "  new_ins :  e86cf00100 \n",
      "\n",
      "0xf01f9a 0xf02987 je near ptr 00F020F2h 0f8452010000 <class 'bytes'> 15736730 15739271 <class 'int'> JE_REL32_32 | 36 <class 'bytes'>\n",
      "  new_ins :  0f8499010000 \n",
      "\n",
      "0xf01fa2 0xf02990 je near ptr 00F020F2h 0f844a010000 <class 'bytes'> 15736738 15739280 <class 'int'> JE_REL32_32 | 36 <class 'bytes'>\n",
      "  new_ins :  0f8490010000 \n",
      "\n",
      "0xf01fb4 0xf029a7 call 00F09030h e877700000 <class 'bytes'> 15736756 15739303 <class 'int'> CALL_REL32_32 | 36 <class 'bytes'>\n",
      "  new_ins :  e8df8f0000 \n",
      "\n"
     ]
    },
    {
     "name": "stderr",
     "output_type": "stream",
     "text": [
      "2771it [00:41, 40.08it/s]"
     ]
    },
    {
     "name": "stdout",
     "output_type": "stream",
     "text": [
      "0xf01fc7 0xf029be call 00F1A300h e834830100 <class 'bytes'> 15736775 15739326 <class 'int'> CALL_REL32_32 | 36 <class 'bytes'>\n",
      "  new_ins :  e848f80100 \n",
      "\n",
      "0xf01fd4 0xf029ce call 00F01660h e887f6ffff <class 'bytes'> 15736788 15739342 <class 'int'> CALL_REL32_32 | 36 <class 'bytes'>\n",
      "  new_ins :  e8eff3ffff \n",
      "\n",
      "0xf01fda 0xf029d5 call 00F1A0C0h e8e1800100 <class 'bytes'> 15736794 15739349 <class 'int'> CALL_REL32_32 | 36 <class 'bytes'>\n",
      "  new_ins :  e808f50100 \n",
      "\n"
     ]
    },
    {
     "name": "stderr",
     "output_type": "stream",
     "text": [
      "2790it [00:41, 51.13it/s]"
     ]
    },
    {
     "name": "stdout",
     "output_type": "stream",
     "text": [
      "0xf01fec 0xf029ec call 00F19DD0h e8df7d0100 <class 'bytes'> 15736812 15739372 <class 'int'> CALL_REL32_32 | 36 <class 'bytes'>\n",
      "  new_ins :  e8d0f00100 \n",
      "\n",
      "0xf02040 0xf02a4c call 00F19E50h e80b7e0100 <class 'bytes'> 15736896 15739468 <class 'int'> CALL_REL32_32 | 36 <class 'bytes'>\n",
      "  new_ins :  e822f10100 \n",
      "\n",
      "0xf02054 0xf02a65 call 00F08F00h e8a76e0000 <class 'bytes'> 15736916 15739493 <class 'int'> CALL_REL32_32 | 36 <class 'bytes'>\n",
      "  new_ins :  e8988d0000 \n",
      "\n",
      "0xf0206f 0xf02a84 je short 00F0209Eh 742d <class 'bytes'> 15736943 15739524 <class 'int'> "
     ]
    },
    {
     "name": "stderr",
     "output_type": "stream",
     "text": [
      "2813it [00:41, 69.11it/s]"
     ]
    },
    {
     "name": "stdout",
     "output_type": "stream",
     "text": [
      "JE_REL8_32 | 36 <class 'bytes'>\n",
      "  new_ins :  7437 \n",
      "\n",
      "0xf02079 0xf02a90 je short 00F0209Eh 7423 <class 'bytes'> 15736953 15739536 <class 'int'> JE_REL8_32 | 36 <class 'bytes'>\n",
      "  new_ins :  742b \n",
      "\n",
      "0xf02082 0xf02a9a je short 00F0209Eh 741a <class 'bytes'> 15736962 15739546 <class 'int'> JE_REL8_32 | 36 <class 'bytes'>\n",
      "  new_ins :  7421 \n",
      "\n",
      "0xf02096 0xf02ab4 call 00F19DD0h e8357d0100 <class 'bytes'> 15736982 15739572 <class 'int'> CALL_REL32_32 | 36 <class 'bytes'>\n",
      "  new_ins :  e808f00100 \n",
      "\n"
     ]
    },
    {
     "name": "stderr",
     "output_type": "stream",
     "text": [
      "2821it [00:41, 61.71it/s]"
     ]
    },
    {
     "name": "stdout",
     "output_type": "stream",
     "text": [
      "0xf020a8 0xf02aca call 00F08470h e8c3630000 <class 'bytes'> 15737000 15739594 <class 'int'> CALL_REL32_32 | 36 <class 'bytes'>\n",
      "  new_ins :  e8b67f0000 \n",
      "\n",
      "0xf020b3 0xf02ad7 call 00F19380h e8c8720100 <class 'bytes'> 15737011 15739607 <class 'int'> CALL_REL32_32 | 36 <class 'bytes'>\n",
      "  new_ins :  e850e20100 \n",
      "\n"
     ]
    },
    {
     "name": "stderr",
     "output_type": "stream",
     "text": [
      "2834it [00:42, 53.54it/s]"
     ]
    },
    {
     "name": "stdout",
     "output_type": "stream",
     "text": [
      "0xf020cb 0xf02af5 call 00F1A1D0h e800810100 <class 'bytes'> 15737035 15739637 <class 'int'> CALL_REL32_32 | 36 <class 'bytes'>\n",
      "  new_ins :  e86af50100 \n",
      "\n",
      "0xf020d1 0xf02afc call 00F1A0A0h e8ca7f0100 <class 'bytes'> 15737041 15739644 <class 'int'> CALL_REL32_32 | 36 <class 'bytes'>\n",
      "  new_ins :  e8b7f30100 \n",
      "\n",
      "0xf02110 0xf02b55 je near ptr 00F021C4h 0f84ae000000 <class 'bytes'> 15737104 15739733 <class 'int'> JE_REL32_32 | 36 <class 'bytes'>\n",
      "  new_ins :  0f84d1000000 \n",
      "\n",
      "0xf02117 0xf02b5d call 00F01B20h e804faffff <class 'bytes'> 15737111 15739741 <class 'int'> CALL_REL32_32 | 36 <class 'bytes'>\n",
      "  new_ins :  e890f8ffff \n",
      "\n",
      "0xf02126 0xf02b6e je near ptr 00F021C4h 0f8498000000 <class 'bytes'> 15737126 15739758 <class 'int'> JE_REL32_32 | 36 <class 'bytes'>\n",
      "  new_ins :  0f84b8000000 \n",
      "\n",
      "0xf02133 0xf02b7c je near ptr 00F021C4h 0f848b000000 <class 'bytes'> 15737139 15739772 <class 'int'> JE_REL32_32 | 36 <class 'bytes'>\n",
      "  new_ins :  0f84aa000000 \n",
      "\n"
     ]
    },
    {
     "name": "stderr",
     "output_type": "stream",
     "text": [
      "2877it [00:42, 109.50it/s]"
     ]
    },
    {
     "name": "stdout",
     "output_type": "stream",
     "text": [
      "0xf02167 0xf02bba call 00F19DD0h e8647c0100 <class 'bytes'> 15737191 15739834 <class 'int'> CALL_REL32_32 | 36 <class 'bytes'>\n",
      "  new_ins :  e802ef0100 \n",
      "\n",
      "0xf02176 0xf02bcd call 00F1A1D0h e855800100 <class 'bytes'> 15737206 15739853 <class 'int'> CALL_REL32_32 | 36 <class 'bytes'>\n",
      "  new_ins :  e892f40100 \n",
      "\n",
      "0xf02185 0xf02bde jbe short 00F0219Ah 7613 <class 'bytes'> 15737221 15739870 <class 'int'> JBE_REL8_32 | 36 <class 'bytes'>\n",
      "  new_ins :  7616 \n",
      "\n"
     ]
    },
    {
     "name": "stderr",
     "output_type": "stream",
     "text": [
      "2900it [00:42, 88.79it/s] "
     ]
    },
    {
     "name": "stdout",
     "output_type": "stream",
     "text": [
      "0xf02192 0xf02bed call 00F15DC0h e8293c0100 <class 'bytes'> 15737234 15739885 <class 'int'> CALL_REL32_32 | 36 <class 'bytes'>\n",
      "  new_ins :  e8389a0100 \n",
      "\n",
      "0xf021bb 0xf02c21 call 00F143E0h e820220100 <class 'bytes'> 15737275 15739937 <class 'int'> CALL_REL32_32 | 36 <class 'bytes'>\n",
      "  new_ins :  e8d2760100 \n",
      "\n",
      "0xf021df 0xf02c55 je short 00F02214h 7433 <class 'bytes'> 15737311 15739989 <class 'int'> JE_REL8_32 | 36 <class 'bytes'>\n",
      "  new_ins :  743b \n",
      "\n",
      "0xf021ee 0xf02c66 je short 00F02214h 7424 <class 'bytes'> 15737326 15740006 <class 'int'> JE_REL8_32 | 36 <class 'bytes'>\n",
      "  new_ins :  742a \n",
      "\n",
      "0xf021f7 0xf02c70 jne short 00F02214h 751b <class 'bytes'> 15737335 15740016 <class 'int'> JNE_REL8_32 | 36 <class 'bytes'>\n",
      "  new_ins :  7520 \n",
      "\n",
      "0xf02200 0xf02c7a jne short 00F02232h 7530 <class 'bytes'> 15737344 15740026 <class 'int'> JNE_REL8_32 | 36 <class 'bytes'>\n",
      "  new_ins :  753c \n",
      "\n",
      "0xf0220b 0xf02c87 jge short 00F02219h 7d0c <class 'bytes'> 15737355 15740039 <class 'int'> JGE_REL8_32 | 36 <class 'bytes'>\n",
      "  new_ins :  7d11 \n",
      "\n",
      "0xf0223a 0xf02cc3 call 00F017B0h e871f5ffff <class 'bytes'> 15737402 15740099 <class 'int'> CALL_REL32_32 | 36 <class 'bytes'>\n",
      "  new_ins :  e8b7f2ffff \n",
      "\n",
      "0xf02280 0xf02d1a je near ptr 00F02458h 0f84d2010000 <class 'bytes'> 15737472 15740186 <class 'int'> JE_REL32_32 | 36 <class 'bytes'>\n",
      "  new_ins :  0f844e020000 \n",
      "\n",
      "0xf0228b 0xf02d27 je near ptr 00F02458h 0f84c7010000 <class 'bytes'> 15737483 15740199 <class 'int'> JE_REL32_32 | 36 <class 'bytes'>\n",
      "  new_ins :  0f8441020000 \n"
     ]
    },
    {
     "name": "stderr",
     "output_type": "stream",
     "text": [
      "2975it [00:43, 171.26it/s]"
     ]
    },
    {
     "name": "stdout",
     "output_type": "stream",
     "text": [
      "\n",
      "0xf022a4 0xf02d46 call 00F19E50h e8a77b0100 <class 'bytes'> 15737508 15740230 <class 'int'> CALL_REL32_32 | 36 <class 'bytes'>\n",
      "  new_ins :  e828ee0100 \n",
      "\n"
     ]
    },
    {
     "name": "stderr",
     "output_type": "stream",
     "text": [
      "3006it [00:43, 135.77it/s]"
     ]
    },
    {
     "name": "stdout",
     "output_type": "stream",
     "text": [
      "0xf022bf 0xf02d67 call 00F19E50h e88c7b0100 <class 'bytes'> 15737535 15740263 <class 'int'> CALL_REL32_32 | 36 <class 'bytes'>\n",
      "  new_ins :  e807ee0100 \n",
      "\n",
      "0xf022e6 0xf02d97 call 00F19E50h e8657b0100 <class 'bytes'> 15737574 15740311 <class 'int'> CALL_REL32_32 | 36 <class 'bytes'>\n",
      "  new_ins :  e8d7ed0100 \n",
      "\n",
      "0xf022f5 0xf02da9 jne short 00F02325h 752e <class 'bytes'> 15737589 15740329 <class 'int'> JNE_REL8_32 | 36 <class 'bytes'>\n",
      "  new_ins :  753c \n",
      "\n",
      "0xf02303 0xf02dba je short 00F0230Eh 7409 <class 'bytes'> 15737603 15740346 <class 'int'> JE_REL8_32 | 36 <class 'bytes'>\n",
      "  new_ins :  740c \n",
      "\n",
      "0xf0230a 0xf02dc4 jb short 00F02300h 72f4 <class 'bytes'> 15737610 15740356 <class 'int'> JB_REL8_32 | 36 <class 'bytes'>\n",
      "  new_ins :  72f0 \n",
      "\n",
      "0xf0230c 0xf02dc6 jmp short 00F0233Ah eb2c <class 'bytes'> 15737612 15740358 <class 'int'> JMP_REL8_32 | 36 <class 'bytes'>\n",
      "  new_ins :  eb39 \n",
      "\n"
     ]
    },
    {
     "name": "stderr",
     "output_type": "stream",
     "text": [
      "3019it [00:43, 116.25it/s]"
     ]
    },
    {
     "name": "stdout",
     "output_type": "stream",
     "text": [
      "0xf02319 0xf02dd9 call 00F1A4C0h e8a2810100 <class 'bytes'> 15737625 15740377 <class 'int'> CALL_REL32_32 | 36 <class 'bytes'>\n",
      "  new_ins :  e87ff60100 \n",
      "\n",
      "0xf02323 0xf02de5 jmp short 00F0233Ah eb15 <class 'bytes'> 15737635 15740389 <class 'int'> JMP_REL8_32 | 36 <class 'bytes'>\n",
      "  new_ins :  eb1a \n",
      "\n",
      "0xf0232a 0xf02def call 00F19B30h e801780100 <class 'bytes'> 15737642 15740399 <class 'int'> CALL_REL32_32 | 36 <class 'bytes'>\n",
      "  new_ins :  e83ce90100 \n",
      "\n",
      "0xf02334 0xf02dfb je near ptr 00F023CEh 0f8494000000 <class 'bytes'> 15737652 15740411 <class 'int'> JE_REL32_32 | 36 <class 'bytes'>\n",
      "  new_ins :  0f84b9000000 \n",
      "\n"
     ]
    },
    {
     "name": "stderr",
     "output_type": "stream",
     "text": [
      "3041it [00:44, 71.32it/s] "
     ]
    },
    {
     "name": "stdout",
     "output_type": "stream",
     "text": [
      "0xf02349 0xf02e16 call 00F09030h e8e26c0000 <class 'bytes'> 15737673 15740438 <class 'int'> CALL_REL32_32 | 36 <class 'bytes'>\n",
      "  new_ins :  e8708b0000 \n",
      "\n",
      "0xf02355 0xf02e24 call 00F1A0C0h e8667d0100 <class 'bytes'> 15737685 15740452 <class 'int'> CALL_REL32_32 | 36 <class 'bytes'>\n",
      "  new_ins :  e8b9f00100 \n",
      "\n",
      "0xf02367 0xf02e3b call 00F1A230h e8c47e0100 <class 'bytes'> 15737703 15740475 <class 'int'> CALL_REL32_32 | 36 <class 'bytes'>\n",
      "  new_ins :  e8adf20100 \n",
      "\n",
      "0xf02370 0xf02e46 call 00F08470h e8fb600000 <class 'bytes'> 15737712 15740486 <class 'int'> CALL_REL32_32 | 36 <class 'bytes'>\n",
      "  new_ins :  "
     ]
    },
    {
     "name": "stderr",
     "output_type": "stream",
     "text": [
      "3049it [00:44, 62.92it/s]"
     ]
    },
    {
     "name": "stdout",
     "output_type": "stream",
     "text": [
      "e83a7c0000 \n",
      "\n",
      "0xf02383 0xf02e5e call 00F1A0C0h e8387d0100 <class 'bytes'> 15737731 15740510 <class 'int'> CALL_REL32_32 | 36 <class 'bytes'>\n",
      "  new_ins :  e87ff00100 \n",
      "\n"
     ]
    },
    {
     "name": "stderr",
     "output_type": "stream",
     "text": [
      "3061it [00:45, 30.18it/s]"
     ]
    },
    {
     "name": "stdout",
     "output_type": "stream",
     "text": [
      "0xf02393 0xf02e71 call 00F1AD40h e8a8890100 <class 'bytes'> 15737747 15740529 <class 'int'> CALL_REL32_32 | 36 <class 'bytes'>\n",
      "  new_ins :  e80f010200 \n",
      "\n",
      "0xf023a5 0xf02e88 call 00F1A230h e8867e0100 <class 'bytes'> 15737765 15740552 <class 'int'> CALL_REL32_32 | 36 <class 'bytes'>\n",
      "  new_ins :  e860f20100 \n",
      "\n"
     ]
    },
    {
     "name": "stderr",
     "output_type": "stream",
     "text": [
      "3082it [00:45, 47.29it/s]"
     ]
    },
    {
     "name": "stdout",
     "output_type": "stream",
     "text": [
      "0xf023c2 0xf02eac call 00F12A40h e879060100 <class 'bytes'> 15737794 15740588 <class 'int'> CALL_REL32_32 | 36 <class 'bytes'>\n",
      "  new_ins :  e80b520100 \n",
      "\n",
      "0xf023cc 0xf02eb8 jne short 00F023DAh 750c <class 'bytes'> 15737804 15740600 <class 'int'> JNE_REL8_32 | 36 <class 'bytes'>\n",
      "  new_ins :  7512 \n",
      "\n",
      "0xf023ec 0xf02ee3 call 00F19E50h e85f7a0100 <class 'bytes'> 15737836 15740643 <class 'int'> CALL_REL32_32 | 36 <class 'bytes'>\n",
      "  new_ins :  e88bec0100 \n",
      "\n"
     ]
    },
    {
     "name": "stderr",
     "output_type": "stream",
     "text": [
      "3095it [00:45, 45.08it/s]"
     ]
    },
    {
     "name": "stdout",
     "output_type": "stream",
     "text": [
      "0xf023ff 0xf02efa call 00F1A470h e86c800100 <class 'bytes'> 15737855 15740666 <class 'int'> CALL_REL32_32 | 36 <class 'bytes'>\n",
      "  new_ins :  e8f0f40100 \n",
      "\n",
      "0xf0240d 0xf02f0b call 00F1A9F0h e8de850100 <class 'bytes'> 15737869 15740683 <class 'int'> CALL_REL32_32 | 36 <class 'bytes'>\n",
      "  new_ins :  e858fc0100 \n",
      "\n",
      "0xf0241d 0xf02f1f call 00F08CE0h e8be680000 <class 'bytes'> 15737885 15740703 <class 'int'> CALL_REL32_32 | 36 <class 'bytes'>\n",
      "  new_ins :  e808860000 \n",
      "\n"
     ]
    },
    {
     "name": "stderr",
     "output_type": "stream",
     "text": [
      "3139it [00:46, 108.27it/s]"
     ]
    },
    {
     "name": "stdout",
     "output_type": "stream",
     "text": [
      "0xf0242d 0xf02f34 call 00F12E40h e80e0a0100 <class 'bytes'> 15737901 15740724 <class 'int'> CALL_REL32_32 | 36 <class 'bytes'>\n",
      "  new_ins :  e8c8560100 \n",
      "\n",
      "0xf02437 0xf02f40 je short 00F0244Ch 7413 <class 'bytes'> 15737911 15740736 <class 'int'> JE_REL8_32 | 36 <class 'bytes'>\n",
      "  new_ins :  741a \n",
      "\n",
      "0xf0246b 0xf02f89 jg short 00F024A8h 7f3b <class 'bytes'> 15737963 15740809 <class 'int'> JG_REL8_32 | 36 <class 'bytes'>\n",
      "  new_ins :  7f4e \n",
      "\n",
      "0xf0247d 0xf02fa2 call 00F0D660h e8deb10000 <class 'bytes'> 15737981 15740834 <class 'int'> CALL_REL32_32 | 36 <class 'bytes'>\n",
      "  new_ins :  e88ae40000 \n",
      "\n",
      "0xf02489 0xf02fb2 call 00F067A0h e812430000 <class 'bytes'> 15737993 15740850 <class 'int'> CALL_REL32_32 | 36 <class 'bytes'>\n",
      "  new_ins :  e8c8550000 \n",
      "\n"
     ]
    },
    {
     "name": "stderr",
     "output_type": "stream",
     "text": [
      "3165it [00:46, 102.03it/s]"
     ]
    },
    {
     "name": "stdout",
     "output_type": "stream",
     "text": [
      "0xf02496 0xf02fc2 call 00F18480h e8e55f0100 <class 'bytes'> 15738006 15740866 <class 'int'> CALL_REL32_32 | 36 <class 'bytes'>\n",
      "  new_ins :  e8f1c80100 \n",
      "\n",
      "0xf024a7 0xf02fd8 call 00F12A40h e894050100 <class 'bytes'> 15738023 15740888 <class 'int'> CALL_REL32_32 | 36 <class 'bytes'>\n",
      "  new_ins :  e8df500100 \n",
      "\n",
      "0xf024cf 0xf0300e je near ptr 00F0256Fh 0f849a000000 <class 'bytes'> 15738063 15740942 <class 'int'> JE_REL32_32 | 36 <class 'bytes'>\n",
      "  new_ins :  0f84c3000000 \n",
      "\n",
      "0xf024db 0xf0301b jae near ptr 00F0256Fh 0f838e000000 <class 'bytes'> 15738075 15740955 <class 'int'> JAE_REL32_32 | 36 <class 'bytes'>\n",
      "  new_ins :  0f83b6000000 \n",
      "\n"
     ]
    },
    {
     "name": "stderr",
     "output_type": "stream",
     "text": [
      "3189it [00:46, 86.88it/s] "
     ]
    },
    {
     "name": "stdout",
     "output_type": "stream",
     "text": [
      "0xf024f6 0xf0303b call 00F19E50h e855790100 <class 'bytes'> 15738102 15740987 <class 'int'> CALL_REL32_32 | 36 <class 'bytes'>\n",
      "  new_ins :  e833eb0100 \n",
      "\n",
      "0xf02507 0xf03051 call 00F19DD0h e8c4780100 <class 'bytes'> 15738119 15741009 <class 'int'> CALL_REL32_32 | 36 <class 'bytes'>\n",
      "  new_ins :  e86bea0100 \n",
      "\n"
     ]
    },
    {
     "name": "stderr",
     "output_type": "stream",
     "text": [
      "3199it [00:46, 63.17it/s]"
     ]
    },
    {
     "name": "stdout",
     "output_type": "stream",
     "text": [
      "0xf02523 0xf03074 call 00F19E50h e828790100 <class 'bytes'> 15738147 15741044 <class 'int'> CALL_REL32_32 | 36 <class 'bytes'>\n",
      "  new_ins :  e8faea0100 \n",
      "\n",
      "0xf0252e 0xf03082 call 00F1A9F0h e8bd840100 <class 'bytes'> 15738158 15741058 <class 'int'> CALL_REL32_32 | 36 <class 'bytes'>\n",
      "  new_ins :  e8e1fa0100 \n",
      "\n",
      "0xf0253e 0xf03097 call 00F08CE0h e89d670000 <class 'bytes'> 15738174 15741079 <class 'int'> CALL_REL32_32 | 36 <class 'bytes'>\n",
      "  new_ins :  e890840000 \n",
      "\n"
     ]
    },
    {
     "name": "stderr",
     "output_type": "stream",
     "text": [
      "3242it [00:47, 105.24it/s]"
     ]
    },
    {
     "name": "stdout",
     "output_type": "stream",
     "text": [
      "0xf0254e 0xf030ac call 00F12E40h e8ed080100 <class 'bytes'> 15738190 15741100 <class 'int'> CALL_REL32_32 | 36 <class 'bytes'>\n",
      "  new_ins :  e850550100 \n",
      "\n",
      "0xf02558 0xf030b8 je short 00F0256Fh 7415 <class 'bytes'> 15738200 15741112 <class 'int'> JE_REL8_32 | 36 <class 'bytes'>\n",
      "  new_ins :  741d \n",
      "\n",
      "0xf02594 0xf03110 call 00F19E50h e8b7780100 <class 'bytes'> 15738260 15741200 <class 'int'> CALL_REL32_32 | 36 <class 'bytes'>\n",
      "  new_ins :  e85eea0100 \n",
      "\n"
     ]
    },
    {
     "name": "stderr",
     "output_type": "stream",
     "text": [
      "3264it [00:47, 90.99it/s] "
     ]
    },
    {
     "name": "stdout",
     "output_type": "stream",
     "text": [
      "0xf0259f 0xf0311e call 00F1A9F0h e84c840100 <class 'bytes'> 15738271 15741214 <class 'int'> CALL_REL32_32 | 36 <class 'bytes'>\n",
      "  new_ins :  e845fa0100 \n",
      "\n",
      "0xf025af 0xf03133 call 00F08CE0h e82c670000 <class 'bytes'> 15738287 15741235 <class 'int'> CALL_REL32_32 | 36 <class 'bytes'>\n",
      "  new_ins :  e8f4830000 \n",
      "\n",
      "0xf025bf 0xf03148 call 00F12E40h e87c080100 <class 'bytes'> 15738303 15741256 <class 'int'> CALL_REL32_32 | 36 <class 'bytes'>\n",
      "  new_ins :  e8b4540100 \n",
      "\n",
      "0xf025cb 0xf03157 je short 00F025E3h 7416 <class 'bytes'> 15738315 15741271 <class 'int'> JE_REL8_32 | 36 <class 'bytes'>\n",
      "  new_ins :  741c \n",
      "\n"
     ]
    },
    {
     "name": "stderr",
     "output_type": "stream",
     "text": [
      "3295it [00:47, 107.10it/s]"
     ]
    },
    {
     "name": "stdout",
     "output_type": "stream",
     "text": [
      "0xf025d0 0xf0315e call 00F0D170h e89bab0000 <class 'bytes'> 15738320 15741278 <class 'int'> CALL_REL32_32 | 36 <class 'bytes'>\n",
      "  new_ins :  e825dc0000 \n",
      "\n",
      "0xf02602 0xf031a2 je near ptr 00F026C0h 0f84b8000000 <class 'bytes'> 15738370 15741346 <class 'int'> JE_REL32_32 | 36 <class 'bytes'>\n",
      "  new_ins :  0f84ef000000 \n",
      "\n",
      "0xf0260b 0xf031ac je near ptr 00F026C0h 0f84af000000 <class 'bytes'> 15738379 15741356 <class 'int'> JE_REL32_32 | 36 <class 'bytes'>\n",
      "  new_ins :  0f84e5000000 \n",
      "\n",
      "0xf0261c 0xf031c3 call 00F19E50h e82f780100 <class 'bytes'> 15738396 15741379 <class 'int'> CALL_REL32_32 | 36 <class 'bytes'>\n",
      "  new_ins :  e8abe90100 \n",
      "\n"
     ]
    },
    {
     "name": "stderr",
     "output_type": "stream",
     "text": [
      "3316it [00:48, 92.04it/s] "
     ]
    },
    {
     "name": "stdout",
     "output_type": "stream",
     "text": [
      "0xf02627 0xf031d1 call 00F1A9F0h e8c4830100 <class 'bytes'> 15738407 15741393 <class 'int'> CALL_REL32_32 | 36 <class 'bytes'>\n",
      "  new_ins :  e892f90100 \n",
      "\n",
      "0xf02637 0xf031e6 call 00F08CE0h e8a4660000 <class 'bytes'> 15738423 15741414 <class 'int'> CALL_REL32_32 | 36 <class 'bytes'>\n",
      "  new_ins :  e841830000 \n",
      "\n",
      "0xf02645 0xf031f9 call 00F12E40h e8f6070100 <class 'bytes'> 15738437 15741433 <class 'int'> CALL_REL32_32 | 36 <class 'bytes'>\n",
      "  new_ins :  e803540100 \n",
      "\n",
      "0xf02651 0xf03208 je short 00F026BFh 746c <class 'bytes'> 15738449 15741448 <class 'int'> JE_REL8_32 | 40 <class 'bytes'>\n",
      "  new_ins :  0F8487000000 \n",
      "\n",
      "0xf02669 0xf0322a call 00F19E50h e8e2770100 <class 'bytes'> 15738473 15741482 <class 'int'> CALL_REL32_32 | 40 <class 'bytes'>\n",
      "  new_ins :  e844e90100 \n",
      "\n",
      "0xf0266f 0xf03231 call 00F1A0C0h e84c7a0100 <class 'bytes'> 15738479 15741489 <class 'int'> CALL_REL32_32 | 40 <class 'bytes'>\n",
      "  new_ins :  e8acec0100 \n",
      "\n"
     ]
    },
    {
     "name": "stderr",
     "output_type": "stream",
     "text": [
      "3333it [00:52, 11.78it/s]"
     ]
    },
    {
     "name": "stdout",
     "output_type": "stream",
     "text": [
      "0xf0267e 0xf03243 ja short 00F026BFh 773f <class 'bytes'> 15738494 15741507 <class 'int'> JA_REL8_32 | 40 <class 'bytes'>\n",
      "  new_ins :  7750 \n",
      "\n",
      "0xf02689 0xf03252 call 00F19DD0h e842770100 <class 'bytes'> 15738505 15741522 <class 'int'> CALL_REL32_32 | 40 <class 'bytes'>\n",
      "  new_ins :  e86ae80100 \n",
      "\n"
     ]
    },
    {
     "name": "stderr",
     "output_type": "stream",
     "text": [
      "3372it [00:52, 27.69it/s]"
     ]
    },
    {
     "name": "stdout",
     "output_type": "stream",
     "text": [
      "0xf026f5 0xf032e2 call 00F12E40h e846070100 <class 'bytes'> 15738613 15741666 <class 'int'> CALL_REL32_32 | 40 <class 'bytes'>\n",
      "  new_ins :  e81a530100 \n",
      "\n",
      "0xf02702 0xf032f2 jne short 00F0270Ch 7508 <class 'bytes'> 15738626 15741682 <class 'int'> JNE_REL8_32 | 40 <class 'bytes'>\n",
      "  new_ins :  750d \n",
      "\n",
      "0xf02712 0xf03308 jne short 00F0271Eh 750a <class 'bytes'> 15738642 15741704 <class 'int'> JNE_REL8_32 | 40 <class 'bytes'>\n",
      "  new_ins :  750b \n",
      "\n"
     ]
    },
    {
     "name": "stderr",
     "output_type": "stream",
     "text": [
      "3413it [00:53, 34.93it/s]"
     ]
    },
    {
     "name": "stdout",
     "output_type": "stream",
     "text": [
      "0xf02726 0xf03320 call 00F1AFA0h e875880100 <class 'bytes'> 15738662 15741728 <class 'int'> CALL_REL32_32 | 40 <class 'bytes'>\n",
      "  new_ins :  e876ff0100 \n",
      "\n",
      "0xf02737 0xf03334 jae short 00F0279Bh 7362 <class 'bytes'> 15738679 15741748 <class 'int'> JAE_REL8_32 | 40 <class 'bytes'>\n",
      "  new_ins :  737d \n",
      "\n",
      "0xf02776 0xf03386 call 00F17D00h e885550100 <class 'bytes'> 15738742 15741830 <class 'int'> CALL_REL32_32 | 40 <class 'bytes'>\n",
      "  new_ins :  e88bba0100 \n",
      "\n",
      "0xf02780 0xf03392 js short 00F0278Ah 7808 <class 'bytes'> 15738752 15741842 <class 'int'> JS_REL8_32 | 40 <class 'bytes'>\n",
      "  new_ins :  780b \n",
      "\n",
      "0xf02799 0xf033b1 jb short 00F02740h 72a5 <class 'bytes'> 15738777 15741873 <class 'int'> JB_REL8_32 | 40 <class 'bytes'>\n",
      "  new_ins :  728b \n",
      "\n",
      "0xf027af 0xf033cf jge short 00F02806h 7d55 <class 'bytes'> 15738799 15741903 <class 'int'> JGE_REL8_32 | 40 <class 'bytes'>\n",
      "  new_ins :  7d68 \n",
      "\n"
     ]
    },
    {
     "name": "stderr",
     "output_type": "stream",
     "text": [
      "3459it [00:53, 56.83it/s]"
     ]
    },
    {
     "name": "stdout",
     "output_type": "stream",
     "text": [
      "0xf027d0 0xf033f9 call 00F19E50h e87b760100 <class 'bytes'> 15738832 15741945 <class 'int'> CALL_REL32_32 | 40 <class 'bytes'>\n",
      "  new_ins :  e875e70100 \n",
      "\n",
      "0xf0280e 0xf03442 call 00F19E50h e83d760100 <class 'bytes'> 15738894 15742018 <class 'int'> CALL_REL32_32 | 40 <class 'bytes'>\n",
      "  new_ins :  e82ce70100 \n",
      "\n",
      "0xf02856 0xf0349b call 00F08F00h e8a5660000 <class 'bytes'> 15738966 15742107 <class 'int'> CALL_REL32_32 | 40 <class 'bytes'>\n",
      "  new_ins :  e862830000 \n",
      "\n"
     ]
    },
    {
     "name": "stderr",
     "output_type": "stream",
     "text": [
      "3493it [00:54, 72.09it/s]"
     ]
    },
    {
     "name": "stdout",
     "output_type": "stream",
     "text": [
      "0xf02868 0xf034b2 call 00F1A230h e8c3790100 <class 'bytes'> 15738984 15742130 <class 'int'> CALL_REL32_32 | 40 <class 'bytes'>\n",
      "  new_ins :  e836ec0100 \n",
      "\n",
      "0xf02881 0xf034d2 call 00F12E40h e8ba050100 <class 'bytes'> 15739009 15742162 <class 'int'> CALL_REL32_32 | 40 <class 'bytes'>\n",
      "  new_ins :  e82a510100 \n",
      "\n",
      "0xf0288c 0xf034e0 je short 00F028B5h 7427 <class 'bytes'> 15739020 15742176 <class 'int'> JE_REL8_32 | 40 <class 'bytes'>\n",
      "  new_ins :  7438 \n",
      "\n",
      "0xf028bb 0xf03523 jge short 00F02900h 7d43 <class 'bytes'> 15739067 15742243 <class 'int'> JGE_REL8_32 | 40 <class 'bytes'>\n",
      "  new_ins :  7d55 \n",
      "\n"
     ]
    },
    {
     "name": "stderr",
     "output_type": "stream",
     "text": [
      "3530it [00:54, 113.72it/s]"
     ]
    },
    {
     "name": "stdout",
     "output_type": "stream",
     "text": [
      "0xf028ca 0xf0353a call 00F0D070h e8a1a70000 <class 'bytes'> 15739082 15742266 <class 'int'> CALL_REL32_32 | 40 <class 'bytes'>\n",
      "  new_ins :  e807d70000 \n",
      "\n",
      "0xf028da 0xf0354d je short 00F028FDh 7421 <class 'bytes'> 15739098 15742285 <class 'int'> JE_REL8_32 | 40 <class 'bytes'>\n",
      "  new_ins :  7427 \n",
      "\n",
      "0xf028f5 0xf0356d call 00F0CF90h e896a60000 <class 'bytes'> 15739125 15742317 <class 'int'> CALL_REL32_32 | 40 <class 'bytes'>\n",
      "  new_ins :  e8c4d50000 \n",
      "\n",
      "0xf02920 0xf035a7 je near ptr 00F02A4Ch 0f8426010000 <class 'bytes'> 15739168 15742375 <class 'int'> JE_REL32_32 | 40 <class 'bytes'>\n",
      "  new_ins :  0f846e010000 \n",
      "\n",
      "0xf0292b 0xf035b4 je near ptr 00F02A4Ch 0f841b010000 <class 'bytes'> 15739179 15742388 <class 'int'> JE_REL32_32 | 40 <class 'bytes'>\n",
      "  new_ins :  0f8461010000 \n",
      "\n"
     ]
    },
    {
     "name": "stderr",
     "output_type": "stream",
     "text": [
      "3585it [00:54, 117.53it/s]"
     ]
    },
    {
     "name": "stdout",
     "output_type": "stream",
     "text": [
      "0xf0295c 0xf035f0 call 00F19E50h e8ef740100 <class 'bytes'> 15739228 15742448 <class 'int'> CALL_REL32_32 | 40 <class 'bytes'>\n",
      "  new_ins :  e87ee50100 \n",
      "\n",
      "0xf02977 0xf03611 call 00F19E50h e8d4740100 <class 'bytes'> 15739255 15742481 <class 'int'> CALL_REL32_32 | 40 <class 'bytes'>\n",
      "  new_ins :  e85de50100 \n",
      "\n",
      "0xf0298b 0xf0362b call 00F09030h e8a0660000 <class 'bytes'> 15739275 15742507 <class 'int'> CALL_REL32_32 | 40 <class 'bytes'>\n",
      "  new_ins :  e85b830000 \n",
      "\n",
      "0xf0299c 0xf03641 call 00F09030h e88f660000 <class 'bytes'> 15739292 15742529 <class 'int'> CALL_REL32_32 | 40 <class 'bytes'>\n",
      "  new_ins :  e845830000 \n",
      "\n",
      "0xf029a8 0xf0364f call 00F1A0C0h e813770100 <class 'bytes'> 15739304 15742543 <class 'int'> CALL_REL32_32 | 40 <class 'bytes'>\n",
      "  new_ins :  e88ee80100 \n",
      "\n"
     ]
    },
    {
     "name": "stderr",
     "output_type": "stream",
     "text": [
      "3601it [00:54, 84.14it/s] "
     ]
    },
    {
     "name": "stdout",
     "output_type": "stream",
     "text": [
      "0xf029be 0xf03669 call 00F08470h e8ad5a0000 <class 'bytes'> 15739326 15742569 <class 'int'> CALL_REL32_32 | 40 <class 'bytes'>\n",
      "  new_ins :  e817740000 \n",
      "\n",
      "0xf029d1 0xf03681 call 00F1A0C0h e8ea760100 <class 'bytes'> 15739345 15742593 <class 'int'> CALL_REL32_32 | 40 <class 'bytes'>\n",
      "  new_ins :  e85ce80100 \n",
      "\n"
     ]
    },
    {
     "name": "stderr",
     "output_type": "stream",
     "text": [
      "3613it [00:55, 70.43it/s]"
     ]
    },
    {
     "name": "stdout",
     "output_type": "stream",
     "text": [
      "0xf029e1 0xf03694 call 00F1AD40h e85a830100 <class 'bytes'> 15739361 15742612 <class 'int'> CALL_REL32_32 | 40 <class 'bytes'>\n",
      "  new_ins :  e8ecf80100 \n",
      "\n",
      "0xf029f3 0xf036ab call 00F1A230h e838780100 <class 'bytes'> 15739379 15742635 <class 'int'> CALL_REL32_32 | 40 <class 'bytes'>\n",
      "  new_ins :  e83dea0100 \n",
      "\n"
     ]
    },
    {
     "name": "stderr",
     "output_type": "stream",
     "text": [
      "3659it [00:55, 110.54it/s]"
     ]
    },
    {
     "name": "stdout",
     "output_type": "stream",
     "text": [
      "0xf02a10 0xf036cf call 00F12A40h e82b000100 <class 'bytes'> 15739408 15742671 <class 'int'> CALL_REL32_32 | 40 <class 'bytes'>\n",
      "  new_ins :  e8e8490100 \n",
      "\n",
      "0xf02a1a 0xf036db je short 00F02A43h 7427 <class 'bytes'> 15739418 15742683 <class 'int'> JE_REL8_32 | 40 <class 'bytes'>\n",
      "  new_ins :  742f \n",
      "\n",
      "0xf02a2b 0xf036f1 call 00F094D0h e8a06a0000 <class 'bytes'> 15739435 15742705 <class 'int'> CALL_REL32_32 | 40 <class 'bytes'>\n",
      "  new_ins :  e893880000 \n",
      "\n",
      "0xf02a75 0xf03756 call 00F12A40h e8c6ff0000 <class 'bytes'> 15739509 15742806 <class 'int'> CALL_REL32_32 | 40 <class 'bytes'>\n",
      "  new_ins :  e861490100 \n",
      "\n"
     ]
    },
    {
     "name": "stderr",
     "output_type": "stream",
     "text": [
      "3673it [00:55, 112.08it/s]"
     ]
    },
    {
     "name": "stdout",
     "output_type": "stream",
     "text": [
      "0xf02a80 0xf03765 call 00F12A40h e8bbff0000 <class 'bytes'> 15739520 15742821 <class 'int'> CALL_REL32_32 | 40 <class 'bytes'>\n",
      "  new_ins :  e852490100 \n",
      "\n",
      "0xf02a8d 0xf03775 je short 00F02AC5h 7436 <class 'bytes'> 15739533 15742837 <class 'int'> JE_REL8_32 | 40 <class 'bytes'>\n",
      "  new_ins :  7446 \n",
      "\n",
      "0xf02a94 0xf0377e je short 00F02ABBh 7425 <class 'bytes'> 15739540 15742846 <class 'int'> JE_REL8_32 | 40 <class 'bytes'>\n",
      "  new_ins :  7430 \n",
      "\n",
      "0xf02aa8 0xf03798 call 00F12A40h e893ff0000 <class 'bytes'> 15739560 15742872 <class 'int'> CALL_REL32_32 | 40 <class 'bytes'>\n",
      "  new_ins :  e81f490100 \n",
      "\n",
      "0xf02ab3 0xf037a7 call 00F12A40h e888ff0000 <class 'bytes'> 15739571 15742887 <class 'int'> CALL_REL32_32 | 40 <class 'bytes'>\n",
      "  new_ins :  e810490100 \n",
      "\n"
     ]
    },
    {
     "name": "stderr",
     "output_type": "stream",
     "text": [
      "3717it [00:56, 105.36it/s]"
     ]
    },
    {
     "name": "stdout",
     "output_type": "stream",
     "text": [
      "0xf02abd 0xf037b4 call 00F19DB0h e8ee720100 <class 'bytes'> 15739581 15742900 <class 'int'> CALL_REL32_32 | 40 <class 'bytes'>\n",
      "  new_ins :  e8dbe20100 \n",
      "\n",
      "0xf02ae0 0xf037e4 je short 00F02B2Dh 744b <class 'bytes'> 15739616 15742948 <class 'int'> JE_REL8_32 | 40 <class 'bytes'>\n",
      "  new_ins :  7460 \n",
      "\n",
      "0xf02ae9 0xf037ee jne short 00F02B2Dh 7542 <class 'bytes'> 15739625 15742958 <class 'int'> JNE_REL8_32 | 40 <class 'bytes'>\n",
      "  new_ins :  7556 \n",
      "\n",
      "0xf02b00 0xf0380d call 00F12E40h e83b030100 <class 'bytes'> 15739648 15742989 <class 'int'> CALL_REL32_32 | 40 <class 'bytes'>\n",
      "  new_ins :  e8ef4d0100 \n",
      "\n",
      "0xf02b0c 0xf0381c je short 00F02B2Ch 741e <class 'bytes'> 15739660 15743004 <class 'int'> JE_REL8_32 | 40 <class 'bytes'>\n",
      "  new_ins :  7426 \n",
      "\n"
     ]
    },
    {
     "name": "stderr",
     "output_type": "stream",
     "text": [
      "3754it [00:56, 87.90it/s] "
     ]
    },
    {
     "name": "stdout",
     "output_type": "stream",
     "text": [
      "0xf02b1d 0xf03831 call 00F1D18Bh e869a60100 <class 'bytes'> 15739677 15743025 <class 'int'> CALL_REL32_32 | 40 <class 'bytes'>\n",
      "  new_ins :  e851230200 \n",
      "\n",
      "0xf02b4d 0xf03871 je near ptr 00F02D2Ah 0f84d7010000 <class 'bytes'> 15739725 15743089 <class 'int'> JE_REL32_32 | 40 <class 'bytes'>\n",
      "  new_ins :  0f8463020000 \n",
      "\n",
      "0xf02b57 0xf0387c je near ptr 00F02D2Ah 0f84cd010000 <class 'bytes'> 15739735 15743100 <class 'int'> JE_REL32_32 | 40 <class 'bytes'>\n",
      "  new_ins :  0f8458020000 \n",
      "\n",
      "0xf02b76 0xf038a4 call 00F19E50h e8d5720100 <class 'bytes'> 15739766 15743140 <class 'int'> CALL_REL32_32 | 40 <class 'bytes'>\n",
      "  new_ins :  e8cae20100 \n",
      "\n"
     ]
    },
    {
     "name": "stderr",
     "output_type": "stream",
     "text": [
      "3775it [00:56, 93.15it/s]"
     ]
    },
    {
     "name": "stdout",
     "output_type": "stream",
     "text": [
      "0xf02bbe 0xf038fa call 00F09030h e86d640000 <class 'bytes'> 15739838 15743226 <class 'int'> CALL_REL32_32 | 40 <class 'bytes'>\n",
      "  new_ins :  e88c800000 \n",
      "\n",
      "0xf02bd0 0xf03911 call 00F1A230h e85b760100 <class 'bytes'> 15739856 15743249 <class 'int'> CALL_REL32_32 | 40 <class 'bytes'>\n",
      "  new_ins :  e8d7e70100 \n",
      "\n",
      "0xf02bd9 0xf0391c call 00F08470h e892580000 <class 'bytes'> 15739865 15743260 <class 'int'> CALL_REL32_32 | 40 <class 'bytes'>\n",
      "  new_ins :  e864710000 \n",
      "\n"
     ]
    },
    {
     "name": "stderr",
     "output_type": "stream",
     "text": [
      "3788it [00:57, 70.87it/s]"
     ]
    },
    {
     "name": "stdout",
     "output_type": "stream",
     "text": [
      "0xf02bec 0xf03934 call 00F1A0C0h e8cf740100 <class 'bytes'> 15739884 15743284 <class 'int'> CALL_REL32_32 | 40 <class 'bytes'>\n",
      "  new_ins :  e8a9e50100 \n",
      "\n",
      "0xf02bfc 0xf03947 call 00F1AD40h e83f810100 <class 'bytes'> 15739900 15743303 <class 'int'> CALL_REL32_32 | 40 <class 'bytes'>\n",
      "  new_ins :  e839f60100 \n",
      "\n"
     ]
    },
    {
     "name": "stderr",
     "output_type": "stream",
     "text": [
      "3807it [00:57, 63.61it/s]"
     ]
    },
    {
     "name": "stdout",
     "output_type": "stream",
     "text": [
      "0xf02c0e 0xf0395e call 00F1A230h e81d760100 <class 'bytes'> 15739918 15743326 <class 'int'> CALL_REL32_32 | 40 <class 'bytes'>\n",
      "  new_ins :  e88ae70100 \n",
      "\n",
      "0xf02c1f 0xf03974 call 00F12A40h e81cfe0000 <class 'bytes'> 15739935 15743348 <class 'int'> CALL_REL32_32 | 40 <class 'bytes'>\n",
      "  new_ins :  e843470100 \n",
      "\n",
      "0xf02c2c 0xf03986 call 00F12A40h e80ffe0000 <class 'bytes'> 15739948 15743366 <class 'int'> CALL_REL32_32 | 40 <class 'bytes'>\n",
      "  new_ins :  e831470100 \n",
      "\n"
     ]
    },
    {
     "name": "stderr",
     "output_type": "stream",
     "text": [
      "3817it [00:57, 60.39it/s]"
     ]
    },
    {
     "name": "stdout",
     "output_type": "stream",
     "text": [
      "0xf02c34 0xf03990 call 00F02470h e837f8ffff <class 'bytes'> 15739956 15743376 <class 'int'> CALL_REL32_32 | 40 <class 'bytes'>\n",
      "  new_ins :  e8faf5ffff \n",
      "\n",
      "0xf02c3e 0xf0399c jne short 00F02C5Ah 751a <class 'bytes'> 15739966 15743388 <class 'int'> JNE_REL8_32 | 40 <class 'bytes'>\n",
      "  new_ins :  7524 \n",
      "\n",
      "0xf02c42 0xf039a1 je short 00F02C4Eh 740a <class 'bytes'> 15739970 15743393 <class 'int'> JE_REL8_32 | 40 <class 'bytes'>\n",
      "  new_ins :  740d \n",
      "\n",
      "0xf02c46 0xf039a7 call 00F19DB0h e865710100 <class 'bytes'> 15739974 15743399 <class 'int'> CALL_REL32_32 | 40 <class 'bytes'>\n",
      "  new_ins :  e8e8e00100 \n",
      "\n"
     ]
    },
    {
     "name": "stderr",
     "output_type": "stream",
     "text": [
      "3845it [00:58, 75.14it/s]"
     ]
    },
    {
     "name": "stdout",
     "output_type": "stream",
     "text": [
      "0xf02c78 0xf039e9 call 00F12A40h e8c3fd0000 <class 'bytes'> 15740024 15743465 <class 'int'> CALL_REL32_32 | 40 <class 'bytes'>\n",
      "  new_ins :  e8ce460100 \n",
      "\n",
      "0xf02c82 0xf039f5 je short 00F02CCFh 744b <class 'bytes'> 15740034 15743477 <class 'int'> JE_REL8_32 | 40 <class 'bytes'>\n",
      "  new_ins :  7467 \n",
      "\n",
      "0xf02c8c 0xf03a03 call 00F19E50h e8bf710100 <class 'bytes'> 15740044 15743491 <class 'int'> CALL_REL32_32 | 40 <class 'bytes'>\n",
      "  new_ins :  e86be10100 \n",
      "\n"
     ]
    },
    {
     "name": "stderr",
     "output_type": "stream",
     "text": [
      "3886it [00:58, 103.77it/s]"
     ]
    },
    {
     "name": "stdout",
     "output_type": "stream",
     "text": [
      "0xf02cc3 0xf03a50 call 00F186D0h e8085a0100 <class 'bytes'> 15740099 15743568 <class 'int'> CALL_REL32_32 | 40 <class 'bytes'>\n",
      "  new_ins :  e8a3c10100 \n",
      "\n",
      "0xf02ccd 0xf03a5c jne short 00F02CE6h 7517 <class 'bytes'> 15740109 15743580 <class 'int'> JNE_REL8_32 | 40 <class 'bytes'>\n",
      "  new_ins :  7521 \n",
      "\n",
      "0xf02cd2 0xf03a64 call 00F02A60h e889fdffff <class 'bytes'> 15740114 15743588 <class 'int'> CALL_REL32_32 | 40 <class 'bytes'>\n",
      "  new_ins :  e8cefcffff \n",
      "\n",
      "0xf02ce8 0xf03a82 je short 00F02CF4h 740a <class 'bytes'> 15740136 15743618 <class 'int'> JE_REL8_32 | 40 <class 'bytes'>\n",
      "  new_ins :  740d \n",
      "\n",
      "0xf02cec 0xf03a88 call 00F19DB0h e8bf700100 <class 'bytes'> 15740140 15743624 <class 'int'> CALL_REL32_32 | 40 <class 'bytes'>\n",
      "  new_ins :  e807e00100 \n",
      "\n"
     ]
    },
    {
     "name": "stderr",
     "output_type": "stream",
     "text": [
      "3899it [00:58, 94.22it/s] "
     ]
    },
    {
     "name": "stdout",
     "output_type": "stream",
     "text": [
      "0xf02d02 0xf03aa5 call 00F0B140h e839840000 <class 'bytes'> 15740162 15743653 <class 'int'> CALL_REL32_32 | 40 <class 'bytes'>\n",
      "  new_ins :  e89aa90000 \n",
      "\n",
      "0xf02d0e 0xf03ab5 call 00F17E10h e8fd500100 <class 'bytes'> 15740174 15743669 <class 'int'> CALL_REL32_32 | 40 <class 'bytes'>\n",
      "  new_ins :  e8d9b40100 \n",
      "\n"
     ]
    },
    {
     "name": "stderr",
     "output_type": "stream",
     "text": [
      "3973it [00:58, 179.95it/s]"
     ]
    },
    {
     "name": "stdout",
     "output_type": "stream",
     "text": [
      "0xf02d16 0xf03abf call 00F186A0h e885590100 <class 'bytes'> 15740182 15743679 <class 'int'> CALL_REL32_32 | 40 <class 'bytes'>\n",
      "  new_ins :  e8f1c00100 \n",
      "\n",
      "0xf02d4e 0xf03b0c call 00F026D0h e87df9ffff <class 'bytes'> 15740238 15743756 <class 'int'> CALL_REL32_32 | 40 <class 'bytes'>\n",
      "  new_ins :  e89df7ffff \n",
      "\n",
      "0xf02e7a 0xf03c66 call 00F19E50h e8d16f0100 <class 'bytes'> 15740538 15744102 <class 'int'> CALL_REL32_32 | 40 <class 'bytes'>\n",
      "  new_ins :  e808df0100 \n",
      "\n"
     ]
    },
    {
     "name": "stderr",
     "output_type": "stream",
     "text": [
      "3991it [00:59, 147.51it/s]"
     ]
    },
    {
     "name": "stdout",
     "output_type": "stream",
     "text": [
      "0xf02e8b 0xf03c7c call 00F09030h e8a0610000 <class 'bytes'> 15740555 15744124 <class 'int'> CALL_REL32_32 | 40 <class 'bytes'>\n",
      "  new_ins :  e80a7d0000 \n",
      "\n",
      "0xf02e9d 0xf03c93 call 00F1A230h e88e730100 <class 'bytes'> 15740573 15744147 <class 'int'> CALL_REL32_32 | 40 <class 'bytes'>\n",
      "  new_ins :  e855e40100 \n",
      "\n",
      "0xf02eaa 0xf03ca3 call 00F025F0h e841f7ffff <class 'bytes'> 15740586 15744163 <class 'int'> CALL_REL32_32 | 40 <class 'bytes'>\n",
      "  new_ins :  e8e0f4ffff \n",
      "\n",
      "0xf02ebb 0xf03cb7 call 00F19E00h e8406f0100 <class 'bytes'> 15740603 15744183 <class 'int'> CALL_REL32_32 | 40 <class 'bytes'>\n",
      "  new_ins :  e848de0100 \n",
      "\n",
      "0xf02ecc 0xf03ccd call 00F09030h e85f610000 <class 'bytes'> 15740620 15744205 <class 'int'> CALL_REL32_32 | 40 <class 'bytes'>\n",
      "  new_ins :  e8b97c0000 \n",
      "\n"
     ]
    },
    {
     "name": "stderr",
     "output_type": "stream",
     "text": [
      "4020it [00:59, 95.75it/s] "
     ]
    },
    {
     "name": "stdout",
     "output_type": "stream",
     "text": [
      "0xf02ee1 0xf03ce8 call 00F1A230h e84a730100 <class 'bytes'> 15740641 15744232 <class 'int'> CALL_REL32_32 | 40 <class 'bytes'>\n",
      "  new_ins :  e800e40100 \n",
      "\n",
      "0xf02ef3 0xf03cff call 00F1A230h e838730100 <class 'bytes'> 15740659 15744255 <class 'int'> CALL_REL32_32 | 40 <class 'bytes'>\n",
      "  new_ins :  e8e9e30100 \n",
      "\n",
      "0xf02f00 0xf03d0f call 00F025F0h e8ebf6ffff <class 'bytes'> 15740672 15744271 <class 'int'> CALL_REL32_32 | 40 <class 'bytes'>\n",
      "  new_ins :  e874f4ffff \n",
      "\n"
     ]
    },
    {
     "name": "stderr",
     "output_type": "stream",
     "text": [
      "4031it [00:59, 73.07it/s]"
     ]
    },
    {
     "name": "stdout",
     "output_type": "stream",
     "text": [
      "0xf02f12 0xf03d26 call 00F1A230h e819730100 <class 'bytes'> 15740690 15744294 <class 'int'> CALL_REL32_32 | 40 <class 'bytes'>\n",
      "  new_ins :  e8c2e30100 \n",
      "\n",
      "0xf02f1f 0xf03d36 call 00F025F0h e8ccf6ffff <class 'bytes'> 15740703 15744310 <class 'int'> CALL_REL32_32 | 40 <class 'bytes'>\n",
      "  new_ins :  e84df4ffff \n",
      "\n",
      "0xf02f30 0xf03d4a call 00F19E00h e8cb6e0100 <class 'bytes'> 15740720 15744330 <class 'int'> CALL_REL32_32 | 40 <class 'bytes'>\n",
      "  new_ins :  e8b5dd0100 \n",
      "\n",
      "0xf02f41 0xf03d60 call 00F09030h e8ea600000 <class 'bytes'> 15740737 15744352 <class 'int'> CALL_REL32_32 | 40 <class 'bytes'>\n",
      "  new_ins :  e8267c0000 \n",
      "\n"
     ]
    },
    {
     "name": "stderr",
     "output_type": "stream",
     "text": [
      "4052it [01:00, 68.55it/s]"
     ]
    },
    {
     "name": "stdout",
     "output_type": "stream",
     "text": [
      "0xf02f56 0xf03d7b call 00F1A230h e8d5720100 <class 'bytes'> 15740758 15744379 <class 'int'> CALL_REL32_32 | 40 <class 'bytes'>\n",
      "  new_ins :  e86de30100 \n",
      "\n",
      "0xf02f68 0xf03d92 call 00F1A230h e8c3720100 <class 'bytes'> 15740776 15744402 <class 'int'> CALL_REL32_32 | 40 <class 'bytes'>\n",
      "  new_ins :  e856e30100 \n",
      "\n",
      "0xf02f75 0xf03da2 call 00F025F0h e876f6ffff <class 'bytes'> 15740789 15744418 <class 'int'> CALL_REL32_32 | 40 <class 'bytes'>\n",
      "  new_ins :  e8e1f3ffff \n",
      "\n"
     ]
    },
    {
     "name": "stderr",
     "output_type": "stream",
     "text": [
      "4067it [01:00, 58.20it/s]"
     ]
    },
    {
     "name": "stdout",
     "output_type": "stream",
     "text": [
      "0xf02f87 0xf03db9 call 00F1A230h e8a4720100 <class 'bytes'> 15740807 15744441 <class 'int'> CALL_REL32_32 | 40 <class 'bytes'>\n",
      "  new_ins :  e82fe30100 \n",
      "\n",
      "0xf02f94 0xf03dc9 call 00F025F0h e857f6ffff <class 'bytes'> 15740820 15744457 <class 'int'> CALL_REL32_32 | 40 <class 'bytes'>\n",
      "  new_ins :  e8baf3ffff \n",
      "\n",
      "0xf02fa5 0xf03ddd call 00F19E00h e8566e0100 <class 'bytes'> 15740837 15744477 <class 'int'> CALL_REL32_32 | 40 <class 'bytes'>\n",
      "  new_ins :  e822dd0100 \n",
      "\n"
     ]
    },
    {
     "name": "stderr",
     "output_type": "stream",
     "text": [
      "4076it [01:00, 53.04it/s]"
     ]
    },
    {
     "name": "stdout",
     "output_type": "stream",
     "text": [
      "0xf02fb4 0xf03df0 call 00F0F100h e847c10000 <class 'bytes'> 15740852 15744496 <class 'int'> CALL_REL32_32 | 40 <class 'bytes'>\n",
      "  new_ins :  e886f80000 \n",
      "\n",
      "0xf02fc3 0xf03e02 call 00F1A0C0h e8f8700100 <class 'bytes'> 15740867 15744514 <class 'int'> CALL_REL32_32 | 40 <class 'bytes'>\n",
      "  new_ins :  e8dbe00100 \n",
      "\n",
      "0xf02fce 0xf03e0f jbe short 00F03025h 7655 <class 'bytes'> 15740878 15744527 <class 'int'> JBE_REL8_32 | 40 <class 'bytes'>\n",
      "  new_ins :  766d \n",
      "\n"
     ]
    },
    {
     "name": "stderr",
     "output_type": "stream",
     "text": [
      "4101it [01:01, 62.90it/s]"
     ]
    },
    {
     "name": "stdout",
     "output_type": "stream",
     "text": [
      "0xf02fe9 0xf03e33 call 00F1A230h e842720100 <class 'bytes'> 15740905 15744563 <class 'int'> CALL_REL32_32 | 40 <class 'bytes'>\n",
      "  new_ins :  e8b5e20100 \n",
      "\n",
      "0xf02ff6 0xf03e43 call 00F025F0h e8f5f5ffff <class 'bytes'> 15740918 15744579 <class 'int'> CALL_REL32_32 | 40 <class 'bytes'>\n",
      "  new_ins :  e840f3ffff \n",
      "\n",
      "0xf0300f 0xf03e63 call 00F1A230h e81c720100 <class 'bytes'> 15740943 15744611 <class 'int'> CALL_REL32_32 | 40 <class 'bytes'>\n",
      "  new_ins :  e885e20100 \n",
      "\n",
      "0xf0301c 0xf03e73 call 00F025F0h e8cff5ffff <class 'bytes'> 15740956 15744627 <class 'int'> CALL_REL32_32 | 40 <class 'bytes'>\n",
      "  new_ins :  e810f3ffff \n",
      "\n"
     ]
    },
    {
     "name": "stderr",
     "output_type": "stream",
     "text": [
      "4119it [01:01, 60.57it/s]"
     ]
    },
    {
     "name": "stdout",
     "output_type": "stream",
     "text": [
      "0xf03031 0xf03e8d call 00F19E00h e8ca6d0100 <class 'bytes'> 15740977 15744653 <class 'int'> CALL_REL32_32 | 40 <class 'bytes'>\n",
      "  new_ins :  e872dc0100 \n",
      "\n",
      "0xf03041 0xf03ea0 je short 00F03068h 7425 <class 'bytes'> 15740993 15744672 <class 'int'> JE_REL8_32 | 40 <class 'bytes'>\n",
      "  new_ins :  742e \n",
      "\n",
      "0xf03047 0xf03ea7 je short 00F03068h 741f <class 'bytes'> 15740999 15744679 <class 'int'> JE_REL8_32 | 40 <class 'bytes'>\n",
      "  new_ins :  7427 \n",
      "\n",
      "0xf0304a 0xf03eab call 00F1A0C0h e871700100 <class 'bytes'> 15741002 15744683 <class 'int'> CALL_REL32_32 | 40 <class 'bytes'>\n",
      "  new_ins :  e832e00100 \n",
      "\n"
     ]
    },
    {
     "name": "stderr",
     "output_type": "stream",
     "text": [
      "4133it [01:01, 55.22it/s]"
     ]
    },
    {
     "name": "stdout",
     "output_type": "stream",
     "text": [
      "0xf03060 0xf03ec7 call 00F19DD0h e86b6d0100 <class 'bytes'> 15741024 15744711 <class 'int'> CALL_REL32_32 | 40 <class 'bytes'>\n",
      "  new_ins :  e8f5db0100 \n",
      "\n",
      "0xf03075 0xf03ee2 call 00F1A230h e8b6710100 <class 'bytes'> 15741045 15744738 <class 'int'> CALL_REL32_32 | 40 <class 'bytes'>\n",
      "  new_ins :  e806e20100 \n",
      "\n"
     ]
    },
    {
     "name": "stderr",
     "output_type": "stream",
     "text": [
      "4174it [01:01, 107.93it/s]"
     ]
    },
    {
     "name": "stdout",
     "output_type": "stream",
     "text": [
      "0xf03087 0xf03ef9 call 00F1A230h e8a4710100 <class 'bytes'> 15741063 15744761 <class 'int'> CALL_REL32_32 | 40 <class 'bytes'>\n",
      "  new_ins :  e8efe10100 \n",
      "\n",
      "0xf03094 0xf03f09 call 00F025F0h e857f5ffff <class 'bytes'> 15741076 15744777 <class 'int'> CALL_REL32_32 | 40 <class 'bytes'>\n",
      "  new_ins :  e87af2ffff \n",
      "\n",
      "0xf0309a 0xf03f10 call 00F027B0h e811f7ffff <class 'bytes'> 15741082 15744784 <class 'int'> CALL_REL32_32 | 40 <class 'bytes'>\n",
      "  new_ins :  e8bbf4ffff \n",
      "\n",
      "0xf030c2 0xf03f45 je near ptr 00F0316Ah 0f84a2000000 <class 'bytes'> 15741122 15744837 <class 'int'> JE_REL32_32 | 40 <class 'bytes'>\n",
      "  new_ins :  0f84c2000000 \n",
      "\n",
      "0xf030d5 0xf03f5b je short 00F030DFh 7408 <class 'bytes'> 15741141 15744859 <class 'int'> JE_REL8_32 | 40 <class 'bytes'>\n",
      "  new_ins :  7409 \n",
      "\n",
      "0xf030dd 0xf03f64 jne short 00F030F0h 7511 <class 'bytes'> 15741149 15744868 <class 'int'> JNE_REL8_32 | 40 <class 'bytes'>\n",
      "  new_ins :  7513 \n",
      "\n",
      "0xf030e6 0xf03f6e jbe short 00F03102h 761a <class 'bytes'> 15741158 15744878 <class 'int'> JBE_REL8_32 | 40 <class 'bytes'>\n",
      "  new_ins :  761f \n",
      "\n",
      "0xf030ee 0xf03f77 je short 00F03102h 7412 <class 'bytes'> 15741166 15744887 <class 'int'> JE_REL8_32 | 40 <class 'bytes'>\n",
      "  new_ins :  7416 \n",
      "\n",
      "0xf030f4 0xf03f7f call 00F0C270h e877910000 <class 'bytes'> 15741172 15744895 <class 'int'> CALL_REL32_32 | 40 <class 'bytes'>\n",
      "  new_ins :  e8c2ba0000 \n",
      "\n",
      "0xf03105 0xf03f93 jne short 00F03139h 7532 <class 'bytes'> 15741189 15744915 <class 'int'> JNE_REL8_32 | 40 <class 'bytes'>\n",
      "  new_ins :  753c \n",
      "\n",
      "0xf0310a 0xf03f99 jne short 00F03139h 752d <class 'bytes'> 15741194 15744921 <class 'int'> JNE_REL8_32 | 40 <class 'bytes'>\n",
      "  new_ins :  7536 \n",
      "\n",
      "0xf03116 0xf03fa6 jbe short 00F03139h 7621 <class 'bytes'> 15741206 15744934 <class 'int'> JBE_REL8_32 | 40 <class 'bytes'>\n",
      "  new_ins :  7629 \n",
      "\n",
      "0xf0312e 0xf03fc4 call 00F03E10h e8dd0c0000 <class 'bytes'> 15741230 15744964 <class 'int'> CALL_REL32_32 | 40 <class 'bytes'>\n",
      "  new_ins :  e848100000 \n",
      "\n",
      "0xf0313f 0xf03fd8 je short 00F03151h 7410 <class 'bytes'> 15741247 15744984 <class 'int'> JE_REL8_32 | 40 <class 'bytes'>\n",
      "  new_ins :  7414 \n",
      "\n",
      "0xf03149 0xf03fe5 call 00F03930h e8e2070000 <class 'bytes'> 15741257 15744997 <class 'int'> CALL_REL32_32 | 40 <class 'bytes'>\n",
      "  new_ins :  e8ef090000 \n",
      "\n",
      "0xf03155 0xf03ff3 jl short 00F03169h 7c12 <class 'bytes'> 15741269 15745011 <class 'int'> JL_REL8_32 | 40 <class 'bytes'>"
     ]
    },
    {
     "name": "stderr",
     "output_type": "stream",
     "text": [
      "4229it [01:02, 172.61it/s]"
     ]
    },
    {
     "name": "stdout",
     "output_type": "stream",
     "text": [
      "\n",
      "  new_ins :  7c16 \n",
      "\n",
      "0xf03161 0xf04002 call 00F02100h e89aefffff <class 'bytes'> 15741281 15745026 <class 'int'> CALL_REL32_32 | 40 <class 'bytes'>\n",
      "  new_ins :  e837ebffff \n",
      "\n",
      "0xf0318f 0xf04042 call 00F12E40h e8acfc0000 <class 'bytes'> 15741327 15745090 <class 'int'> CALL_REL32_32 | 40 <class 'bytes'>\n",
      "  new_ins :  e8ba450100 \n",
      "\n",
      "0xf0319c 0xf04052 je near ptr 00F0325Dh 0f84bb000000 <class 'bytes'> 15741340 15745106 <class 'int'> JE_REL32_32 | 40 <class 'bytes'>\n",
      "  new_ins :  0f84dc000000 \n",
      "\n",
      "0xf031b2 0xf0406b je short 00F031A2h 74ee <class 'bytes'> 15741362 15745131 <class 'int'> JE_REL8_32 | 40 <class 'bytes'>\n",
      "  new_ins :  74eb \n",
      "\n",
      "0xf031c0 0xf0407b je short 00F031CAh 7408 <class 'bytes'> 15741376 15745147 <class 'int'> JE_REL8_32 | 40 <class 'bytes'>\n",
      "  new_ins :  7409 \n",
      "\n",
      "0xf031c8 0xf04084 jne short 00F031DBh 7511 <class 'bytes'> 15741384 15745156 <class 'int'> JNE_REL8_32 | 40 <class 'bytes'>\n",
      "  new_ins :  7513 \n",
      "\n",
      "0xf031d1 0xf0408e jbe short 00F031EDh 761a <class 'bytes'> 15741393 15745166 <class 'int'> JBE_REL8_32 | 40 <class 'bytes'>\n",
      "  new_ins :  761f \n",
      "\n",
      "0xf031d9 0xf04097 je short 00F031EDh 7412 <class 'bytes'> 15741401 15745175 <class 'int'> JE_REL8_32 | 40 <class 'bytes'>\n",
      "  new_ins :  7416 \n",
      "\n"
     ]
    },
    {
     "name": "stderr",
     "output_type": "stream",
     "text": [
      "4298it [01:02, 260.82it/s]"
     ]
    },
    {
     "name": "stdout",
     "output_type": "stream",
     "text": [
      "0xf031df 0xf0409f call 00F0C270h e88c900000 <class 'bytes'> 15741407 15745183 <class 'int'> CALL_REL32_32 | 40 <class 'bytes'>\n",
      "  new_ins :  e8a2b90000 \n",
      "\n",
      "0xf031f0 0xf040b3 jne short 00F03224h 7532 <class 'bytes'> 15741424 15745203 <class 'int'> JNE_REL8_32 | 40 <class 'bytes'>\n",
      "  new_ins :  753c \n",
      "\n",
      "0xf031f5 0xf040b9 jne short 00F03224h 752d <class 'bytes'> 15741429 15745209 <class 'int'> JNE_REL8_32 | 40 <class 'bytes'>\n",
      "  new_ins :  7536 \n",
      "\n",
      "0xf03201 0xf040c6 jbe short 00F03224h 7621 <class 'bytes'> 15741441 15745222 <class 'int'> JBE_REL8_32 | 40 <class 'bytes'>\n",
      "  new_ins :  7629 \n",
      "\n",
      "0xf03219 0xf040e4 call 00F03E10h e8f20b0000 <class 'bytes'> 15741465 15745252 <class 'int'> CALL_REL32_32 | 40 <class 'bytes'>\n",
      "  new_ins :  e8280f0000 \n",
      "\n",
      "0xf0322a 0xf040f8 je short 00F0323Ch 7410 <class 'bytes'> 15741482 15745272 <class 'int'> JE_REL8_32 | 40 <class 'bytes'>\n",
      "  new_ins :  7414 \n",
      "\n",
      "0xf03234 0xf04105 call 00F03930h e8f7060000 <class 'bytes'> 15741492 15745285 <class 'int'> CALL_REL32_32 | 40 <class 'bytes'>\n",
      "  new_ins :  e8cf080000 \n",
      "\n",
      "0xf03240 0xf04113 jl near ptr 00F031A2h 0f8c5cffffff <class 'bytes'> 15741504 15745299 <class 'int'> JL_REL32_32 | 40 <class 'bytes'>\n",
      "  new_ins :  0f8c3fffffff \n",
      "\n",
      "0xf03250 0xf04126 call 00F02100h e8abeeffff <class 'bytes'> 15741520 15745318 <class 'int'> CALL_REL32_32 | 40 <class 'bytes'>\n",
      "  new_ins :  e813eaffff \n",
      "\n",
      "0xf03258 0xf0412f jmp near ptr 00F031A2h e945ffffff <class 'bytes'> 15741528 15745327 <class 'int'> JMP_REL32_32 | 40 <class 'bytes'>\n",
      "  new_ins :  e924ffffff \n",
      "\n",
      "0xf03263 0xf0413f jbe short 00F0322Fh 76ca <class 'bytes'> 15741539 15745343 <class 'int'> JBE_REL8_32 | 40 <class 'bytes'>\n",
      "  new_ins :  76bf \n",
      "\n",
      "0xf0327f 0xf04165 jne short 00F03289h 7508 <class 'bytes'> 15741567 15745381 <class 'int'> JNE_REL8_32 | 40 <class 'bytes'>\n",
      "  new_ins :  750b \n",
      "\n",
      "0xf03290 0xf0417a jne short 00F03281h 75ef <class 'bytes'> 15741584 15745402 <class 'int'> JNE_REL8_32 | 40 <class 'bytes'>\n",
      "  new_ins :  75eb \n",
      "\n"
     ]
    },
    {
     "name": "stderr",
     "output_type": "stream",
     "text": [
      "4326it [01:02, 177.93it/s]"
     ]
    },
    {
     "name": "stdout",
     "output_type": "stream",
     "text": [
      "0xf032aa 0xf0419c call 00F12E40h e891fb0000 <class 'bytes'> 15741610 15745436 <class 'int'> CALL_REL32_32 | 40 <class 'bytes'>\n",
      "  new_ins :  e860440100 \n",
      "\n",
      "0xf032b6 0xf041ab je short 00F032D5h 741d <class 'bytes'> 15741622 15745451 <class 'int'> JE_REL8_32 | 40 <class 'bytes'>\n",
      "  new_ins :  7428 \n",
      "\n",
      "0xf032bd 0xf041b5 call 00F1D1A5h e8e39e0100 <class 'bytes'> 15741629 15745461 <class 'int'> CALL_REL32_32 | 40 <class 'bytes'>\n",
      "  new_ins :  e8e9190200 \n",
      "\n",
      "0xf03301 0xf04216 je short 00F03356h 7453 <class 'bytes'> 15741697 15745558 <class 'int'> JE_REL8_32 | 40 <class 'bytes'>\n",
      "  new_ins :  746a \n",
      "\n",
      "0xf03306 0xf0421c je short 00F03356h 744e <class 'bytes'> 15741702 15745564 <class 'int'> JE_REL8_32 | 40 <class 'bytes'>\n",
      "  new_ins :  7464 \n",
      "\n",
      "0xf0330e 0xf04226 ja short 00F03321h 7711 <class 'bytes'> 15741710 15745574 <class 'int'> JA_REL8_32 | 40 <class 'bytes'>\n",
      "  new_ins :  7718 \n",
      "\n"
     ]
    },
    {
     "name": "stderr",
     "output_type": "stream",
     "text": [
      "4392it [01:02, 176.01it/s]"
     ]
    },
    {
     "name": "stdout",
     "output_type": "stream",
     "text": [
      "0xf03314 0xf0422f call 00F19DD0h e8b76a0100 <class 'bytes'> 15741716 15745583 <class 'int'> CALL_REL32_32 | 40 <class 'bytes'>\n",
      "  new_ins :  e88dd80100 \n",
      "\n",
      "0xf0331f 0xf0423e jmp short 00F0336Bh eb4a <class 'bytes'> 15741727 15745598 <class 'int'> JMP_REL8_32 | 40 <class 'bytes'>\n",
      "  new_ins :  eb5e \n",
      "\n",
      "0xf03324 0xf04244 jne short 00F0333Fh 7519 <class 'bytes'> 15741732 15745604 <class 'int'> JNE_REL8_32 | 40 <class 'bytes'>\n",
      "  new_ins :  7521 \n",
      "\n",
      "0xf03328 0xf04249 je near ptr 00F034D7h 0f84a9010000 <class 'bytes'> 15741736 15745609 <class 'int'> JE_REL32_32 | 40 <class 'bytes'>\n",
      "  new_ins :  0f84f9010000 \n",
      "\n",
      "0xf03330 0xf04252 je near ptr 00F034A6h 0f8470010000 <class 'bytes'> 15741744 15745618 <class 'int'> JE_REL32_32 | 40 <class 'bytes'>\n",
      "  new_ins :  0f84b5010000 \n",
      "\n",
      "0xf03342 0xf0426b je near ptr 00F03471h 0f8429010000 <class 'bytes'> 15741762 15745643 <class 'int'> JE_REL32_32 | 40 <class 'bytes'>\n",
      "  new_ins :  0f845c010000 \n",
      "\n",
      "0xf0334b 0xf04275 je short 00F03356h 7409 <class 'bytes'> 15741771 15745653 <class 'int'> JE_REL8_32 | 40 <class 'bytes'>\n",
      "  new_ins :  740b \n",
      "\n",
      "0xf03350 0xf0427b jne short 00F0337Ch 752a <class 'bytes'> 15741776 15745659 <class 'int'> JNE_REL8_32 | 40 <class 'bytes'>\n",
      "  new_ins :  7534 \n",
      "\n",
      "0xf03354 0xf04280 jne short 00F03336h 75e0 <class 'bytes'> 15741780 15745664 <class 'int'> JNE_REL8_32 | 40 <class 'bytes'>\n",
      "  new_ins :  75d6 \n",
      "\n",
      "0xf0335a 0xf04289 call 00F19DD0h e8716a0100 <class 'bytes'> 15741786 15745673 <class 'int'> CALL_REL32_32 | 40 <class 'bytes'>\n",
      "  new_ins :  e833d80100 \n",
      "\n"
     ]
    },
    {
     "name": "stderr",
     "output_type": "stream",
     "text": [
      "4413it [01:03, 157.13it/s]"
     ]
    },
    {
     "name": "stdout",
     "output_type": "stream",
     "text": [
      "0xf0336e 0xf042a2 jae near ptr 00F03550h 0f83dc010000 <class 'bytes'> 15741806 15745698 <class 'int'> JAE_REL32_32 | 40 <class 'bytes'>\n",
      "  new_ins :  0f8338020000 \n",
      "\n",
      "0xf03377 0xf042ac jmp near ptr 00F032F1h e975ffffff <class 'bytes'> 15741815 15745708 <class 'int'> JMP_REL32_32 | 40 <class 'bytes'>\n",
      "  new_ins :  e950ffffff \n",
      "\n",
      "0xf0337f 0xf042b5 jne short 00F0339Ch 751b <class 'bytes'> 15741823 15745717 <class 'int'> JNE_REL8_32 | 40 <class 'bytes'>\n",
      "  new_ins :  7523 \n",
      "\n",
      "0xf03383 0xf042ba jne short 00F03336h 75b1 <class 'bytes'> 15741827 15745722 <class 'int'> JNE_REL8_32 | 40 <class 'bytes'>\n",
      "  new_ins :  759c \n",
      "\n",
      "0xf03389 0xf042c3 call 00F19DD0h e8426a0100 <class 'bytes'> 15741833 15745731 <class 'int'> CALL_REL32_32 | 40 <class 'bytes'>\n",
      "  new_ins :  e8f9d70100 \n",
      "\n",
      "0xf0339a 0xf042d8 jmp short 00F0336Bh ebcf <class 'bytes'> 15741850 15745752 <class 'int'> JMP_REL8_32 | 40 <class 'bytes'>\n",
      "  new_ins :  ebc4 \n",
      "\n",
      "0xf0339f 0xf042de jne short 00F033B0h 750f <class 'bytes'> 15741855 15745758 <class 'int'> JNE_REL8_32 | 40 <class 'bytes'>\n",
      "  new_ins :  7511 \n",
      "\n",
      "0xf033a5 0xf042e6 ja near ptr 00F03517h 0f876c010000 <class 'bytes'> 15741861 15745766 <class 'int'> JA_REL32_32 | 40 <class 'bytes'>\n",
      "  new_ins :  0f87ac010000 \n",
      "\n",
      "0xf033ab 0xf042ec jmp near ptr 00F034F5h e945010000 <class 'bytes'> 15741867 15745772 <class 'int'> JMP_REL32_32 | 40 <class 'bytes'>\n",
      "  new_ins :  e97d010000 \n",
      "\n",
      "0xf033b3 0xf042f5 jne near ptr 00F0343Ah 0f8581000000 <class 'bytes'> 15741875 15745781 <class 'int'> JNE_REL32_32 | 40 <class 'bytes'>\n",
      "  new_ins :  0f8591000000 \n",
      "\n",
      "0xf033bb 0xf042fe je near ptr 00F03517h 0f8456010000 <class 'bytes'> 15741883 15745790 <class 'int'> JE_REL32_32 | 40 <class 'bytes'>\n",
      "  new_ins :  0f8494010000 \n",
      "\n"
     ]
    },
    {
     "name": "stderr",
     "output_type": "stream",
     "text": [
      "4467it [01:03, 196.17it/s]"
     ]
    },
    {
     "name": "stdout",
     "output_type": "stream",
     "text": [
      "0xf033c3 0xf04307 je near ptr 00F03517h 0f844e010000 <class 'bytes'> 15741891 15745799 <class 'int'> JE_REL32_32 | 40 <class 'bytes'>\n",
      "  new_ins :  0f848b010000 \n",
      "\n",
      "0xf033cb 0xf04310 je near ptr 00F03517h 0f8446010000 <class 'bytes'> 15741899 15745808 <class 'int'> JE_REL32_32 | 40 <class 'bytes'>\n",
      "  new_ins :  0f8482010000 \n",
      "\n",
      "0xf033d3 0xf04319 je near ptr 00F03517h 0f843e010000 <class 'bytes'> 15741907 15745817 <class 'int'> JE_REL32_32 | 40 <class 'bytes'>\n",
      "  new_ins :  0f8479010000 \n",
      "\n",
      "0xf033db 0xf04322 je near ptr 00F03517h 0f8436010000 <class 'bytes'> 15741915 15745826 <class 'int'> JE_REL32_32 | 40 <class 'bytes'>\n",
      "  new_ins :  0f8470010000 \n",
      "\n",
      "0xf033e3 0xf0432b je near ptr 00F03356h 0f846dffffff <class 'bytes'> 15741923 15745835 <class 'int'> JE_REL32_32 | 40 <class 'bytes'>\n",
      "  new_ins :  0f8451ffffff \n",
      "\n",
      "0xf033eb 0xf04334 je near ptr 00F03356h 0f8465ffffff <class 'bytes'> 15741931 15745844 <class 'int'> JE_REL32_32 | 40 <class 'bytes'>\n",
      "  new_ins :  0f8448ffffff \n",
      "\n",
      "0xf033f3 0xf0433d je near ptr 00F03356h 0f845dffffff <class 'bytes'> 15741939 15745853 <class 'int'> JE_REL32_32 | 40 <class 'bytes'>\n",
      "  new_ins :  0f843fffffff \n",
      "\n",
      "0xf033fb 0xf04346 je near ptr 00F03356h 0f8455ffffff <class 'bytes'> 15741947 15745862 <class 'int'> JE_REL32_32 | 40 <class 'bytes'>\n",
      "  new_ins :  0f8436ffffff \n",
      "\n",
      "0xf03403 0xf0434f je near ptr 00F03356h 0f844dffffff <class 'bytes'> 15741955 15745871 <class 'int'> JE_REL32_32 | 40 <class 'bytes'>\n",
      "  new_ins :  0f842dffffff \n",
      "\n",
      "0xf0340b 0xf04358 je near ptr 00F03356h 0f8445ffffff <class 'bytes'> 15741963 15745880 <class 'int'> JE_REL32_32 | 40 <class 'bytes'>\n",
      "  new_ins :  0f8424ffffff \n",
      "\n",
      "0xf03413 0xf04361 je near ptr 00F03356h 0f843dffffff <class 'bytes'> 15741971 15745889 <class 'int'> JE_REL32_32 | 40 <class 'bytes'>\n",
      "  new_ins :  0f841bffffff \n",
      "\n",
      "0xf0341b 0xf0436a je near ptr 00F03356h 0f8435ffffff <class 'bytes'> 15741979 15745898 <class 'int'> JE_REL32_32 | 40 <class 'bytes'>\n",
      "  new_ins :  0f8412ffffff \n",
      "\n",
      "0xf03423 0xf04373 je near ptr 00F03356h 0f842dffffff <class 'bytes'> 15741987 15745907 <class 'int'> JE_REL32_32 | 40 <class 'bytes'>\n",
      "  new_ins :  0f8409ffffff \n",
      "\n",
      "0xf0342b 0xf0437c je near ptr 00F03356h 0f8425ffffff <class 'bytes'> 15741995 15745916 <class 'int'> JE_REL32_32 | 40 <class 'bytes'>\n",
      "  new_ins :  0f8400ffffff \n",
      "\n",
      "0xf03433 0xf04385 jne short 00F03444h 750f <class 'bytes'> 15742003 15745925 <class 'int'> JNE_REL8_32 | 40 <class 'bytes'>\n",
      "  new_ins :  7511 \n",
      "\n",
      "0xf03435 0xf04387 jmp near ptr 00F03356h e91cffffff <class 'bytes'> 15742005 15745927 <class 'int'> JMP_REL32_32 | 40 <class 'bytes'>\n",
      "  new_ins :  e9f6feffff \n",
      "\n",
      "0xf0343d 0xf04390 je short 00F03444h 7405 <class 'bytes'> 15742013 15745936 <class 'int'> JE_REL8_32 | 40 <class 'bytes'>\n",
      "  new_ins :  7406 \n",
      "\n",
      "0xf03442 0xf04396 jne short 00F03456h 7512 <class 'bytes'> 15742018 15745942 <class 'int'> JNE_REL8_32 | 40 <class 'bytes'>\n",
      "  new_ins :  7515 \n",
      "\n",
      "0xf03446 0xf0439b je short 00F0344Ch 7404 <class 'bytes'> 15742022 15745947 <class 'int'> JE_REL8_32 | 40 <class 'bytes'>\n",
      "  new_ins :  7405 \n",
      "\n",
      "0xf0344a 0xf043a0 jne short 00F03456h 750a <class 'bytes'> 15742026 15745952 <class 'int'> JNE_REL8_32 | 40 <class 'bytes'>\n",
      "  new_ins :  750b \n",
      "\n",
      "0xf03450 0xf043a7 je near ptr 00F034F5h 0f849f000000 <class 'bytes'> 15742032 15745959 <class 'int'> JE_REL32_32 | 40 <class 'bytes'>\n",
      "  new_ins :  0f84c1000000 \n",
      "\n",
      "0xf03459 0xf043b1 jne short 00F03462h 7507 <class 'bytes'> 15742041 15745969 <class 'int'> JNE_REL8_32 | 40 <class 'bytes'>\n",
      "  new_ins :  7508 \n",
      "\n",
      "0xf0345d 0xf043b6 jmp near ptr 00F03511h e9af000000 <class 'bytes'> 15742045 15745974 <class 'int'> JMP_REL32_32 | 40 <class 'bytes'>\n",
      "  new_ins :  e9d7000000 \n",
      "\n",
      "0xf03465 0xf043bf je short 00F03471h 740a <class 'bytes'> 15742053 15745983 <class 'int'> JE_REL8_32 | 40 <class 'bytes'>\n",
      "  new_ins :  740c \n",
      "\n",
      "0xf0346a 0xf043c5 je short 00F03471h 7405 <class 'bytes'> 15742058 15745989 <class 'int'> JE_REL8_32 | 40 <class 'bytes'>\n",
      "  new_ins :  7406 \n",
      "\n"
     ]
    },
    {
     "name": "stderr",
     "output_type": "stream",
     "text": [
      "4489it [01:03, 160.25it/s]"
     ]
    },
    {
     "name": "stdout",
     "output_type": "stream",
     "text": [
      "0xf0346f 0xf043cb jne short 00F0348Bh 751a <class 'bytes'> 15742063 15745995 <class 'int'> JNE_REL8_32 | 40 <class 'bytes'>\n",
      "  new_ins :  7521 \n",
      "\n",
      "0xf03475 0xf043d4 call 00F19DD0h e856690100 <class 'bytes'> 15742069 15746004 <class 'int'> CALL_REL32_32 | 40 <class 'bytes'>\n",
      "  new_ins :  e8e8d60100 \n",
      "\n",
      "0xf03486 0xf043e9 jmp near ptr 00F0336Bh e9e0feffff <class 'bytes'> 15742086 15746025 <class 'int'> JMP_REL32_32 | 40 <class 'bytes'>\n",
      "  new_ins :  e9b0feffff \n",
      "\n",
      "0xf0348e 0xf043f2 je near ptr 00F03531h 0f849d000000 <class 'bytes'> 15742094 15746034 <class 'int'> JE_REL32_32 | 40 <class 'bytes'>\n",
      "  new_ins :  0f84c1000000 \n",
      "\n",
      "0xf03497 0xf043fc je near ptr 00F03586h 0f84e9000000 <class 'bytes'> 15742103 15746044 <class 'int'> JE_REL32_32 | 40 <class 'bytes'>\n",
      "  new_ins :  0f8429010000 \n",
      "\n",
      "0xf034a0 0xf04406 jne short 00F034CAh 7528 <class 'bytes'> 15742112 15746054 <class 'int'> JNE_REL8_32 | 40 <class 'bytes'>\n",
      "  new_ins :  7531 \n",
      "\n",
      "0xf034a4 0xf0440b jne short 00F034C0h 751a <class 'bytes'> 15742116 15746059 <class 'int'> JNE_REL8_32 | 40 <class 'bytes'>\n",
      "  new_ins :  7521 \n",
      "\n"
     ]
    },
    {
     "name": "stderr",
     "output_type": "stream",
     "text": [
      "4508it [01:03, 142.65it/s]"
     ]
    },
    {
     "name": "stdout",
     "output_type": "stream",
     "text": [
      "0xf034aa 0xf04414 call 00F19DD0h e821690100 <class 'bytes'> 15742122 15746068 <class 'int'> CALL_REL32_32 | 40 <class 'bytes'>\n",
      "  new_ins :  e8a8d60100 \n",
      "\n",
      "0xf034bb 0xf04429 jmp near ptr 00F0336Bh e9abfeffff <class 'bytes'> 15742139 15746089 <class 'int'> JMP_REL32_32 | 40 <class 'bytes'>\n",
      "  new_ins :  e970feffff \n",
      "\n",
      "0xf034c2 0xf04431 jne near ptr 00F03336h 0f856efeffff <class 'bytes'> 15742146 15746097 <class 'int'> JNE_REL32_32 | 40 <class 'bytes'>\n",
      "  new_ins :  0f8521feffff \n",
      "\n",
      "0xf034c8 0xf04437 jmp short 00F034F5h eb2b <class 'bytes'> 15742152 15746103 <class 'int'> JMP_REL8_32 | 40 <class 'bytes'>\n",
      "  new_ins :  eb35 \n",
      "\n",
      "0xf034cd 0xf0443d jne near ptr 00F03336h 0f8563feffff <class 'bytes'> 15742157 15746109 <class 'int'> JNE_REL32_32 | 40 <class 'bytes'>\n",
      "  new_ins :  0f8515feffff \n",
      "\n",
      "0xf034d5 0xf04446 jne short 00F034F1h 751a <class 'bytes'> 15742165 15746118 <class 'int'> JNE_REL8_32 | 40 <class 'bytes'>\n",
      "  new_ins :  7521 \n",
      "\n",
      "0xf034db 0xf0444f call 00F19DD0h e8f0680100 <class 'bytes'> 15742171 15746127 <class 'int'> CALL_REL32_32 | 40 <class 'bytes'>\n",
      "  new_ins :  e86dd60100 \n",
      "\n",
      "0xf034ec 0xf04464 jmp near ptr 00F0336Bh e97afeffff <class 'bytes'> 15742188 15746148 <class 'int'> JMP_REL32_32 | 40 <class 'bytes'>\n",
      "  new_ins :  e935feffff \n",
      "\n",
      "0xf034f3 0xf0446c jne short 00F0350Fh 751a <class 'bytes'> 15742195 15746156 <class 'int'> JNE_REL8_32 | 40 <class 'bytes'>\n",
      "  new_ins :  7521 \n",
      "\n"
     ]
    },
    {
     "name": "stderr",
     "output_type": "stream",
     "text": [
      "4538it [01:04, 99.71it/s] "
     ]
    },
    {
     "name": "stdout",
     "output_type": "stream",
     "text": [
      "0xf034f9 0xf04475 call 00F19DD0h e8d2680100 <class 'bytes'> 15742201 15746165 <class 'int'> CALL_REL32_32 | 40 <class 'bytes'>\n",
      "  new_ins :  e847d60100 \n",
      "\n",
      "0xf0350a 0xf0448a jmp near ptr 00F0336Bh e95cfeffff <class 'bytes'> 15742218 15746186 <class 'int'> JMP_REL32_32 | 40 <class 'bytes'>\n",
      "  new_ins :  e90ffeffff \n",
      "\n",
      "0xf03511 0xf04492 jne near ptr 00F03336h 0f851ffeffff <class 'bytes'> 15742225 15746194 <class 'int'> JNE_REL32_32 | 40 <class 'bytes'>\n",
      "  new_ins :  0f85c0fdffff \n",
      "\n",
      "0xf0351b 0xf0449f call 00F19DD0h e8b0680100 <class 'bytes'> 15742235 15746207 <class 'int'> CALL_REL32_32 | 40 <class 'bytes'>\n",
      "  new_ins :  e81dd60100 \n",
      "\n",
      "0xf0352c 0xf044b4 jmp near ptr 00F0336Bh e93afeffff <class 'bytes'> 15742252 15746228 <class 'int'> JMP_REL32_32 | 40 <class 'bytes'>\n",
      "  new_ins :  e9e5fdffff \n",
      "\n",
      "0xf03533 0xf044bc jne near ptr 00F03336h 0f85fdfdffff <class 'bytes'> 15742259 15746236 <class 'int'> JNE_REL32_32 | 40 <class 'bytes'>\n",
      "  new_ins :  0f8596fdffff \n",
      "\n"
     ]
    },
    {
     "name": "stderr",
     "output_type": "stream",
     "text": [
      "4550it [01:04, 95.05it/s]"
     ]
    },
    {
     "name": "stdout",
     "output_type": "stream",
     "text": [
      "0xf03543 0xf044d1 call 00F19DD0h e888680100 <class 'bytes'> 15742275 15746257 <class 'int'> CALL_REL32_32 | 40 <class 'bytes'>\n",
      "  new_ins :  e8ebd50100 \n",
      "\n",
      "0xf03557 0xf044ea je short 00F0356Eh 7415 <class 'bytes'> 15742295 15746282 <class 'int'> JE_REL8_32 | 40 <class 'bytes'>\n",
      "  new_ins :  741c \n",
      "\n",
      "0xf0356c 0xf04506 jb short 00F03561h 72f3 <class 'bytes'> 15742316 15746310 <class 'int'> JB_REL8_32 | 40 <class 'bytes'>\n",
      "  new_ins :  72ef \n",
      "\n",
      "0xf03588 0xf0452e jne near ptr 00F03336h 0f85a8fdffff <class 'bytes'> 15742344 15746350 <class 'int'> JNE_REL32_32 | 40 <class 'bytes'>\n",
      "  new_ins :  0f8524fdffff \n",
      "\n",
      "0xf03598 0xf04543 jmp short 00F03543h eba9 <class 'bytes'> 15742360 15746371 <class 'int'> JMP_REL8_32 | 40 <class 'bytes'>\n",
      "  new_ins :  eb8c \n",
      "\n",
      "0xf035c1 0xf04578 je short 00F035C8h 7405 <class 'bytes'> 15742401 15746424 <class 'int'> JE_REL8_32 | 40 <class 'bytes'>\n",
      "  new_ins :  7406 \n",
      "\n",
      "0xf035c6 0xf0457e jne short 00F035FCh 7534 <class 'bytes'> 15742406 15746430 <class 'int'> JNE_REL8_32 | 40 <class 'bytes'>\n",
      "  new_ins :  753f \n",
      "\n"
     ]
    },
    {
     "name": "stderr",
     "output_type": "stream",
     "text": [
      "4625it [01:04, 138.37it/s]"
     ]
    },
    {
     "name": "stdout",
     "output_type": "stream",
     "text": [
      "0xf035d2 0xf0458f call 00F1A0E0h e8096b0100 <class 'bytes'> 15742418 15746447 <class 'int'> CALL_REL32_32 | 40 <class 'bytes'>\n",
      "  new_ins :  e879d90100 \n",
      "\n",
      "0xf035dc 0xf0459b je short 00F035E7h 7409 <class 'bytes'> 15742428 15746459 <class 'int'> JE_REL8_32 | 40 <class 'bytes'>\n",
      "  new_ins :  740a \n",
      "\n",
      "0xf035e5 0xf045a5 jmp short 00F035FFh eb18 <class 'bytes'> 15742437 15746469 <class 'int'> JMP_REL8_32 | 40 <class 'bytes'>\n",
      "  new_ins :  eb1c \n",
      "\n",
      "0xf035ea 0xf045ab je near ptr 00F03781h 0f8491010000 <class 'bytes'> 15742442 15746475 <class 'int'> JE_REL32_32 | 40 <class 'bytes'>\n",
      "  new_ins :  0f8409020000 \n",
      "\n",
      "0xf035fa 0xf045bd jmp short 00F035FFh eb03 <class 'bytes'> 15742458 15746493 <class 'int'> JMP_REL8_32 | 40 <class 'bytes'>\n",
      "  new_ins :  eb04 \n",
      "\n",
      "0xf03602 0xf045c7 jne short 00F03633h 752f <class 'bytes'> 15742466 15746503 <class 'int'> JNE_REL8_32 | 40 <class 'bytes'>\n",
      "  new_ins :  7539 \n",
      "\n",
      "0xf0360b 0xf045d4 call 00F1A0E0h e8d06a0100 <class 'bytes'> 15742475 15746516 <class 'int'> CALL_REL32_32 | 40 <class 'bytes'>\n",
      "  new_ins :  e834d90100 \n",
      "\n",
      "0xf03615 0xf045e0 je short 00F03620h 7409 <class 'bytes'> 15742485 15746528 <class 'int'> JE_REL8_32 | 40 <class 'bytes'>\n",
      "  new_ins :  740a \n",
      "\n",
      "0xf0361e 0xf045ea jmp short 00F03633h eb13 <class 'bytes'> 15742494 15746538 <class 'int'> JMP_REL8_32 | 40 <class 'bytes'>\n",
      "  new_ins :  eb16 \n",
      "\n"
     ]
    },
    {
     "name": "stderr",
     "output_type": "stream",
     "text": [
      "4654it [01:04, 147.05it/s]"
     ]
    },
    {
     "name": "stdout",
     "output_type": "stream",
     "text": [
      "0xf03623 0xf045f0 je near ptr 00F03781h 0f8458010000 <class 'bytes'> 15742499 15746544 <class 'int'> JE_REL32_32 | 40 <class 'bytes'>\n",
      "  new_ins :  0f84c4010000 \n",
      "\n",
      "0xf03677 0xf04659 call 00F19E50h e8d4670100 <class 'bytes'> 15742583 15746649 <class 'int'> CALL_REL32_32 | 40 <class 'bytes'>\n",
      "  new_ins :  e815d50100 \n",
      "\n"
     ]
    },
    {
     "name": "stderr",
     "output_type": "stream",
     "text": [
      "4683it [01:05, 126.74it/s]"
     ]
    },
    {
     "name": "stdout",
     "output_type": "stream",
     "text": [
      "0xf03698 0xf04686 call 00F19DD0h e833670100 <class 'bytes'> 15742616 15746694 <class 'int'> CALL_REL32_32 | 40 <class 'bytes'>\n",
      "  new_ins :  e836d40100 \n",
      "\n",
      "0xf036b2 0xf046a9 call 00F19DD0h e819670100 <class 'bytes'> 15742642 15746729 <class 'int'> CALL_REL32_32 | 40 <class 'bytes'>\n",
      "  new_ins :  e813d40100 \n",
      "\n",
      "0xf036c8 0xf046c8 call 00F032E0h e813fcffff <class 'bytes'> 15742664 15746760 <class 'int'> CALL_REL32_32 | 40 <class 'bytes'>\n",
      "  new_ins :  e819fbffff \n",
      "\n",
      "0xf036d2 0xf046d4 je near ptr 00F03781h 0f84a9000000 <class 'bytes'> 15742674 15746772 <class 'int'> JE_REL32_32 | 40 <class 'bytes'>\n",
      "  new_ins :  0f84e0000000 \n",
      "\n"
     ]
    },
    {
     "name": "stderr",
     "output_type": "stream",
     "text": [
      "4713it [01:05, 112.15it/s]"
     ]
    },
    {
     "name": "stdout",
     "output_type": "stream",
     "text": [
      "0xf036f1 0xf046fc call 00F19DD0h e8da660100 <class 'bytes'> 15742705 15746812 <class 'int'> CALL_REL32_32 | 40 <class 'bytes'>\n",
      "  new_ins :  e8c0d30100 \n",
      "\n",
      "0xf03704 0xf04715 call 00F19DD0h e8c7660100 <class 'bytes'> 15742724 15746837 <class 'int'> CALL_REL32_32 | 40 <class 'bytes'>\n",
      "  new_ins :  e8a7d30100 \n",
      "\n",
      "0xf03710 0xf04724 je short 00F03716h 7404 <class 'bytes'> 15742736 15746852 <class 'int'> JE_REL8_32 | 40 <class 'bytes'>\n",
      "  new_ins :  7405 \n",
      "\n",
      "0xf03714 0xf04729 jne short 00F0373Dh 7527 <class 'bytes'> 15742740 15746857 <class 'int'> JNE_REL8_32 | 40 <class 'bytes'>\n",
      "  new_ins :  7534 \n",
      "\n"
     ]
    },
    {
     "name": "stderr",
     "output_type": "stream",
     "text": [
      "4737it [01:05, 97.85it/s] "
     ]
    },
    {
     "name": "stdout",
     "output_type": "stream",
     "text": [
      "0xf03733 0xf04754 call 00F19DD0h e898660100 <class 'bytes'> 15742771 15746900 <class 'int'> CALL_REL32_32 | 40 <class 'bytes'>\n",
      "  new_ins :  e868d30100 \n",
      "\n",
      "0xf0373b 0xf0475d jmp short 00F03740h eb03 <class 'bytes'> 15742779 15746909 <class 'int'> JMP_REL8_32 | 40 <class 'bytes'>\n",
      "  new_ins :  eb04 \n",
      "\n",
      "0xf03750 0xf0477a call 00F19D70h e81b660100 <class 'bytes'> 15742800 15746938 <class 'int'> CALL_REL32_32 | 40 <class 'bytes'>\n",
      "  new_ins :  e8bbd20100 \n",
      "\n",
      "0xf0375a 0xf04786 je short 00F03781h 7425 <class 'bytes'> 15742810 15746950 <class 'int'> JE_REL8_32 | 40 <class 'bytes'>\n",
      "  new_ins :  7432 \n",
      "\n"
     ]
    },
    {
     "name": "stderr",
     "output_type": "stream",
     "text": [
      "4756it [01:06, 82.95it/s]"
     ]
    },
    {
     "name": "stdout",
     "output_type": "stream",
     "text": [
      "0xf03765 0xf04796 call 00F19DD0h e866660100 <class 'bytes'> 15742821 15746966 <class 'int'> CALL_REL32_32 | 40 <class 'bytes'>\n",
      "  new_ins :  e826d30100 \n",
      "\n",
      "0xf03779 0xf047b1 call 00F19D70h e8f2650100 <class 'bytes'> 15742841 15746993 <class 'int'> CALL_REL32_32 | 40 <class 'bytes'>\n",
      "  new_ins :  e884d20100 \n",
      "\n",
      "0xf0378e 0xf047cd jno short 00F0373Ah 71aa <class 'bytes'> 15742862 15747021 <class 'int'> JNO_REL8_32 | 40 <class 'bytes'>\n",
      "  new_ins :  718d \n",
      "\n"
     ]
    },
    {
     "name": "stderr",
     "output_type": "stream",
     "text": [
      "4785it [01:06, 80.36it/s]"
     ]
    },
    {
     "name": "stdout",
     "output_type": "stream",
     "text": [
      "0xf037a8 0xf047f2 call 00F19E50h e8a3660100 <class 'bytes'> 15742888 15747058 <class 'int'> CALL_REL32_32 | 40 <class 'bytes'>\n",
      "  new_ins :  e87cd30100 \n",
      "\n",
      "0xf037b3 0xf04800 call 00F1A9F0h e838720100 <class 'bytes'> 15742899 15747072 <class 'int'> CALL_REL32_32 | 40 <class 'bytes'>\n",
      "  new_ins :  e863e30100 \n",
      "\n",
      "0xf037c6 0xf04818 call 00F08CE0h e815550000 <class 'bytes'> 15742918 15747096 <class 'int'> CALL_REL32_32 | 40 <class 'bytes'>\n",
      "  new_ins :  e80f6d0000 \n",
      "\n",
      "0xf037d2 0xf04827 je near ptr 00F0391Fh 0f8447010000 <class 'bytes'> 15742930 15747111 <class 'int'> JE_REL32_32 |"
     ]
    },
    {
     "name": "stderr",
     "output_type": "stream",
     "text": [
      "4795it [01:06, 75.94it/s]"
     ]
    },
    {
     "name": "stdout",
     "output_type": "stream",
     "text": [
      " 40 <class 'bytes'>\n",
      "  new_ins :  0f8492010000 \n",
      "\n",
      "0xf037ea 0xf04844 call 00F19E50h e861660100 <class 'bytes'> 15742954 15747140 <class 'int'> CALL_REL32_32 | 40 <class 'bytes'>\n",
      "  new_ins :  e82ad30100 \n",
      "\n"
     ]
    },
    {
     "name": "stderr",
     "output_type": "stream",
     "text": [
      "4813it [01:06, 71.36it/s]"
     ]
    },
    {
     "name": "stdout",
     "output_type": "stream",
     "text": [
      "0xf037f8 0xf04855 call 00F1A9F0h e8f3710100 <class 'bytes'> 15742968 15747157 <class 'int'> CALL_REL32_32 | 40 <class 'bytes'>\n",
      "  new_ins :  e80ee30100 \n",
      "\n",
      "0xf03805 0xf04865 call 00F08CE0h e8d6540000 <class 'bytes'> 15742981 15747173 <class 'int'> CALL_REL32_32 | 40 <class 'bytes'>\n",
      "  new_ins :  e8c26c0000 \n",
      "\n",
      "0xf03812 0xf04875 je near ptr 00F0391Fh 0f8407010000 <class 'bytes'> 15742994 15747189 <class 'int'> JE_REL32_32 | 40 <class 'bytes'>\n",
      "  new_ins :  0f8444010000 \n",
      "\n",
      "0xf03823 0xf0488b call 00F12E40h e818f60000 <class 'bytes'> 15743011 15747211 <class 'int'> CALL_REL32_32 | 40 <class 'bytes'>\n",
      "  new_ins :  e8713d0100 \n",
      "\n"
     ]
    },
    {
     "name": "stderr",
     "output_type": "stream",
     "text": [
      "4835it [01:07, 75.67it/s]"
     ]
    },
    {
     "name": "stdout",
     "output_type": "stream",
     "text": [
      "0xf03839 0xf048a7 call 00F12E40h e802f60000 <class 'bytes'> 15743033 15747239 <class 'int'> CALL_REL32_32 | 40 <class 'bytes'>\n",
      "  new_ins :  e8553d0100 \n",
      "\n",
      "0xf0384f 0xf048c3 call 00F12E40h e8ecf50000 <class 'bytes'> 15743055 15747267 <class 'int'> CALL_REL32_32 | 40 <class 'bytes'>\n",
      "  new_ins :  e8393d0100 \n",
      "\n",
      "0xf0386b 0xf048e6 call 00F12E40h e8d0f50000 <class 'bytes'> 15743083 15747302 <class 'int'> CALL_REL32_32 | 40 <class 'bytes'>\n",
      "  new_ins :  e8163d0100 \n",
      "\n"
     ]
    },
    {
     "name": "stderr",
     "output_type": "stream",
     "text": [
      "4863it [01:07, 94.89it/s]"
     ]
    },
    {
     "name": "stdout",
     "output_type": "stream",
     "text": [
      "0xf03887 0xf0490a call 00F12E40h e8b4f50000 <class 'bytes'> 15743111 15747338 <class 'int'> CALL_REL32_32 | 40 <class 'bytes'>\n",
      "  new_ins :  e8f23c0100 \n",
      "\n",
      "0xf038f3 0xf04988 call 00F19DD0h e8d8640100 <class 'bytes'> 15743219 15747464 <class 'int'> CALL_REL32_32 | 40 <class 'bytes'>\n",
      "  new_ins :  e834d10100 \n",
      "\n"
     ]
    },
    {
     "name": "stderr",
     "output_type": "stream",
     "text": [
      "4882it [01:07, 80.98it/s]"
     ]
    },
    {
     "name": "stdout",
     "output_type": "stream",
     "text": [
      "0xf03905 0xf0499f call 00F19DD0h e8c6640100 <class 'bytes'> 15743237 15747487 <class 'int'> CALL_REL32_32 | 40 <class 'bytes'>\n",
      "  new_ins :  e81dd10100 \n",
      "\n",
      "0xf03917 0xf049b6 call 00F19DD0h e8b4640100 <class 'bytes'> 15743255 15747510 <class 'int'> CALL_REL32_32 | 40 <class 'bytes'>\n",
      "  new_ins :  e806d10100 \n",
      "\n",
      "0xf0396d 0xf04a2c jne short 00F039D9h 756a <class 'bytes'> 15743341 15747628 <class 'int'> JNE_REL8_32 | 44 <class 'bytes'>\n",
      "  new_ins :  0F858e000000 \n",
      "\n",
      "0xf0399e 0xf04a70 jne short 00F039BFh 751f <class 'bytes'> 15743390 15747696 <class 'int'> JNE_REL8_32 | 44 <class 'bytes'>\n",
      "  new_ins :  752b \n",
      "\n",
      "0xf039b2 0xf04a8c jne short 00F039BFh 750b <class 'bytes'> 15743410 15747724 <class 'int'> JNE_REL8_32 | 44 <class 'bytes'>\n",
      "  new_ins :  750f \n",
      "\n",
      "0xf039c4 0xf04aa4 je short 00F039CEh 7408 <class 'bytes'> 15743428 15747748 <class 'int'> JE_REL8_32 | 44 <class 'bytes'>\n",
      "  new_ins :  740b \n",
      "\n",
      "0xf03a05 0xf04afc je near ptr 00F03ABDh 0f84b2000000 <class 'bytes'> 15743493 15747836 <class 'int'> JE_REL32_32 | 44 <class 'bytes'>\n",
      "  new_ins :  0f84e0000000 \n",
      "\n"
     ]
    },
    {
     "name": "stderr",
     "output_type": "stream",
     "text": [
      "4982it [01:11, 30.19it/s]"
     ]
    },
    {
     "name": "stdout",
     "output_type": "stream",
     "text": [
      "0xf03a21 0xf04b1f call 00F19E50h e82a640100 <class 'bytes'> 15743521 15747871 <class 'int'> CALL_REL32_32 | 44 <class 'bytes'>\n",
      "  new_ins :  e84fd00100 \n",
      "\n"
     ]
    },
    {
     "name": "stderr",
     "output_type": "stream",
     "text": [
      "4989it [01:11, 30.41it/s]"
     ]
    },
    {
     "name": "stdout",
     "output_type": "stream",
     "text": [
      "0xf03a30 0xf04b31 call 00F1A0C0h e88b660100 <class 'bytes'> 15743536 15747889 <class 'int'> CALL_REL32_32 | 44 <class 'bytes'>\n",
      "  new_ins :  e8acd30100 \n",
      "\n",
      "0xf03a40 0xf04b46 call 00F19DD0h e88b630100 <class 'bytes'> 15743552 15747910 <class 'int'> CALL_REL32_32 | 44 <class 'bytes'>\n",
      "  new_ins :  e876cf0100 \n",
      "\n"
     ]
    },
    {
     "name": "stderr",
     "output_type": "stream",
     "text": [
      "5000it [01:12, 30.16it/s]"
     ]
    },
    {
     "name": "stdout",
     "output_type": "stream",
     "text": [
      "0xf03a4c 0xf04b54 call 00F1A0C0h e86f660100 <class 'bytes'> 15743564 15747924 <class 'int'> CALL_REL32_32 | 44 <class 'bytes'>\n",
      "  new_ins :  e889d30100 \n",
      "\n",
      "0xf03a65 0xf04b71 call 00F1A0C0h e856660100 <class 'bytes'> 15743589 15747953 <class 'int'> CALL_REL32_32 | 44 <class 'bytes'>\n",
      "  new_ins :  e86cd30100 \n",
      "\n"
     ]
    },
    {
     "name": "stderr",
     "output_type": "stream",
     "text": [
      "5012it [01:12, 32.75it/s]"
     ]
    },
    {
     "name": "stdout",
     "output_type": "stream",
     "text": [
      "0xf03a78 0xf04b8a call 00F1A0C0h e843660100 <class 'bytes'> 15743608 15747978 <class 'int'> CALL_REL32_32 | 44 <class 'bytes'>\n",
      "  new_ins :  e853d30100 \n",
      "\n",
      "0xf03a88 0xf04b9d call 00F19DD0h e843630100 <class 'bytes'> 15743624 15747997 <class 'int'> CALL_REL32_32 | 44 <class 'bytes'>\n",
      "  new_ins :  e81fcf0100 \n",
      "\n"
     ]
    },
    {
     "name": "stderr",
     "output_type": "stream",
     "text": [
      "5025it [01:12, 43.44it/s]"
     ]
    },
    {
     "name": "stdout",
     "output_type": "stream",
     "text": [
      "0xf03aad 0xf04bcc call 00F12A40h e88eef0000 <class 'bytes'> 15743661 15748044 <class 'int'> CALL_REL32_32 | 44 <class 'bytes'>\n",
      "  new_ins :  e8eb340100 \n",
      "\n",
      "0xf03ae5 0xf04c18 je near ptr 00F03DF9h 0f840e030000 <class 'bytes'> 15743717 15748120 <class 'int'> JE_REL32_32 | 44 <class 'bytes'>\n",
      "  new_ins :  0f84d1030000 \n",
      "\n",
      "0xf03af2 0xf04c26 je near ptr 00F03DF9h 0f8401030000 <class 'bytes'> 15743730 15748134 <class 'int'> JE_REL32_32 | 44 <class 'bytes'>\n",
      "  new_ins :  0f84c3030000 \n",
      "\n",
      "0xf03aff 0xf04c34 je near ptr 00F03DF9h 0f84f4020000 <class 'bytes'> 15743743 15748148 <class 'int'> JE_REL32_32 | 44 <class 'bytes'>\n",
      "  new_ins :  0f84b5030000 \n",
      "\n",
      "0xf03b0c 0xf04c42 je near ptr 00F03DF9h 0f84e7020000 <class 'bytes'> 15743756 15748162 <class 'int'> JE_REL32_32 | 44 <class 'bytes'>\n",
      "  new_ins :  0f84a7030000 \n",
      "\n",
      "0xf03b19 0xf04c50 je near ptr 00F03DF9h 0f84da020000 <class 'bytes'> 15743769 15748176 <class 'int'> JE_REL32_32 | 44 <class 'bytes'>\n",
      "  new_ins :  0f8499030000 \n",
      "\n",
      "0xf03b29 0xf04c62 jne near ptr 00F03DF9h 0f85ca020000 <class 'bytes'> 15743785 15748194 <class 'int'> JNE_REL32_32 | 44 <class 'bytes'>\n",
      "  new_ins :  0f8587030000 \n",
      "\n"
     ]
    },
    {
     "name": "stderr",
     "output_type": "stream",
     "text": [
      "5064it [01:12, 80.15it/s]"
     ]
    },
    {
     "name": "stdout",
     "output_type": "stream",
     "text": [
      "0xf03b46 0xf04c86 call 00F19E50h e805630100 <class 'bytes'> 15743814 15748230 <class 'int'> CALL_REL32_32 | 44 <class 'bytes'>\n",
      "  new_ins :  e8e8ce0100 \n",
      "\n",
      "0xf03b52 0xf04c94 call 00F1A0C0h e869650100 <class 'bytes'> 15743826 15748244 <class 'int'> CALL_REL32_32 | 44 <class 'bytes'>\n",
      "  new_ins :  e849d20100 \n",
      "\n"
     ]
    },
    {
     "name": "stderr",
     "output_type": "stream",
     "text": [
      "5075it [01:12, 67.85it/s]"
     ]
    },
    {
     "name": "stdout",
     "output_type": "stream",
     "text": [
      "0xf03b62 0xf04ca9 call 00F19DD0h e869620100 <class 'bytes'> 15743842 15748265 <class 'int'> CALL_REL32_32 | 44 <class 'bytes'>\n",
      "  new_ins :  e813ce0100 \n",
      "\n",
      "0xf03b6e 0xf04cb7 call 00F1A0C0h e84d650100 <class 'bytes'> 15743854 15748279 <class 'int'> CALL_REL32_32 | 44 <class 'bytes'>\n",
      "  new_ins :  e826d20100 \n",
      "\n"
     ]
    },
    {
     "name": "stderr",
     "output_type": "stream",
     "text": [
      "5084it [01:13, 56.71it/s]"
     ]
    },
    {
     "name": "stdout",
     "output_type": "stream",
     "text": [
      "0xf03b87 0xf04cd4 call 00F1A0C0h e834650100 <class 'bytes'> 15743879 15748308 <class 'int'> CALL_REL32_32 | 44 <class 'bytes'>\n",
      "  new_ins :  e809d20100 \n",
      "\n",
      "0xf03b9a 0xf04ced call 00F1A0C0h e821650100 <class 'bytes'> 15743898 15748333 <class 'int'> CALL_REL32_32 | 44 <class 'bytes'>\n",
      "  new_ins :  e8f0d10100 \n",
      "\n"
     ]
    },
    {
     "name": "stderr",
     "output_type": "stream",
     "text": [
      "5098it [01:13, 47.96it/s]"
     ]
    },
    {
     "name": "stdout",
     "output_type": "stream",
     "text": [
      "0xf03baa 0xf04d00 call 00F19DD0h e821620100 <class 'bytes'> 15743914 15748352 <class 'int'> CALL_REL32_32 | 44 <class 'bytes'>\n",
      "  new_ins :  e8bccd0100 \n",
      "\n",
      "0xf03bb6 0xf04d0e call 00F1A0C0h e805650100 <class 'bytes'> 15743926 15748366 <class 'int'> CALL_REL32_32 | 44 <class 'bytes'>\n",
      "  new_ins :  e8cfd10100 \n",
      "\n"
     ]
    },
    {
     "name": "stderr",
     "output_type": "stream",
     "text": [
      "5111it [01:13, 48.22it/s]"
     ]
    },
    {
     "name": "stdout",
     "output_type": "stream",
     "text": [
      "0xf03bd9 0xf04d39 call 00F1A0C0h e8e2640100 <class 'bytes'> 15743961 15748409 <class 'int'> CALL_REL32_32 | 44 <class 'bytes'>\n",
      "  new_ins :  e8a4d10100 \n",
      "\n",
      "0xf03bf2 0xf04d56 call 00F1A0C0h e8c9640100 <class 'bytes'> 15743986 15748438 <class 'int'> CALL_REL32_32 | 44 <class 'bytes'>\n",
      "  new_ins :  e887d10100 \n",
      "\n"
     ]
    },
    {
     "name": "stderr",
     "output_type": "stream",
     "text": [
      "5122it [01:14, 44.96it/s]"
     ]
    },
    {
     "name": "stdout",
     "output_type": "stream",
     "text": [
      "0xf03c05 0xf04d6f call 00F1A0C0h e8b6640100 <class 'bytes'> 15744005 15748463 <class 'int'> CALL_REL32_32 | 44 <class 'bytes'>\n",
      "  new_ins :  e86ed10100 \n",
      "\n",
      "0xf03c15 0xf04d82 call 00F19DD0h e8b6610100 <class 'bytes'> 15744021 15748482 <class 'int'> CALL_REL32_32 | 44 <class 'bytes'>\n",
      "  new_ins :  e83acd0100 \n",
      "\n"
     ]
    },
    {
     "name": "stderr",
     "output_type": "stream",
     "text": [
      "5140it [01:14, 58.27it/s]"
     ]
    },
    {
     "name": "stdout",
     "output_type": "stream",
     "text": [
      "0xf03c26 0xf04d98 call 00F12A40h e815ee0000 <class 'bytes'> 15744038 15748504 <class 'int'> CALL_REL32_32 | 44 <class 'bytes'>\n",
      "  new_ins :  e81f330100 \n",
      "\n",
      "0xf03c30 0xf04da4 je near ptr 00F03DF0h 0f84ba010000 <class 'bytes'> 15744048 15748516 <class 'int'> JE_REL32_32 | 44 <class 'bytes'>\n",
      "  new_ins :  0f8436020000 \n",
      "\n",
      "0xf03c59 0xf04dd6 call 00F19E50h e8f2610100 <class 'bytes'> 15744089 15748566 <class 'int'> CALL_REL32_32 | 44 <class 'bytes'>\n",
      "  new_ins :  e898cd0100 \n",
      "\n"
     ]
    },
    {
     "name": "stderr",
     "output_type": "stream",
     "text": [
      "5153it [01:14, 52.93it/s]"
     ]
    },
    {
     "name": "stdout",
     "output_type": "stream",
     "text": [
      "0xf03c65 0xf04de4 call 00F1A0C0h e856640100 <class 'bytes'> 15744101 15748580 <class 'int'> CALL_REL32_32 | 44 <class 'bytes'>\n",
      "  new_ins :  e8f9d00100 \n",
      "\n",
      "0xf03c7b 0xf04e00 call 00F19DD0h e850610100 <class 'bytes'> 15744123 15748608 <class 'int'> CALL_REL32_32 | 44 <class 'bytes'>\n",
      "  new_ins :  e8bccc0100 \n",
      "\n",
      "0xf03cb9 0xf04e50 jne near ptr 00F03DF0h 0f8531010000 <class 'bytes'> 15744185 15748688 <class 'int'> JNE_REL32_32 | 44 <class 'bytes'>\n",
      "  new_ins :  0f858a010000 \n",
      "\n",
      "0xf03ced 0xf04e92 jne short 00F03D3Ah 754b <class 'bytes'> 15744237 15748754 <class 'int'> JNE_REL8_32 | 44 <class 'bytes'>\n",
      "  new_ins :  7564 \n",
      "\n",
      "0xf03d0d 0xf04ebb jne short 00F03D3Ah 752b <class 'bytes'> 15744269 15748795 <class 'int'> JNE_REL8_32 | 44 <class 'bytes'>\n",
      "  new_ins :  753b \n",
      "\n",
      "0xf03d2d 0xf04ee7 jne short 00F03D3Ah 750b <class 'bytes'> 15744301 15748839 <class 'int'> JNE_REL8_32 | 44 <class 'bytes'>\n",
      "  new_ins :  750f \n",
      "\n",
      "0xf03d3f 0xf04eff je short 00F03D49h 7408 <class 'bytes'> 15744319 15748863 <class 'int'> JE_REL8_32 | 44 <class 'bytes'>\n",
      "  new_ins :  740b \n",
      "\n",
      "0xf03d4e 0xf04f13 je short 00F03D58h 7408 <class 'bytes'> 15744334 15748883 <class 'int'> JE_REL8_32 | 44 <class 'bytes'>\n",
      "  new_ins :  740b \n",
      "\n"
     ]
    },
    {
     "name": "stderr",
     "output_type": "stream",
     "text": [
      "5240it [01:14, 196.28it/s]"
     ]
    },
    {
     "name": "stdout",
     "output_type": "stream",
     "text": [
      "0xf03d6a 0xf04f38 call 00F1A0C0h e851630100 <class 'bytes'> 15744362 15748920 <class 'int'> CALL_REL32_32 | 44 <class 'bytes'>\n",
      "  new_ins :  e8a5cf0100 \n",
      "\n",
      "0xf03d80 0xf04f52 call 00F1A0C0h e83b630100 <class 'bytes'> 15744384 15748946 <class 'int'> CALL_REL32_32 | 44 <class 'bytes'>\n",
      "  new_ins :  e88bcf0100 \n",
      "\n"
     ]
    },
    {
     "name": "stderr",
     "output_type": "stream",
     "text": [
      "5257it [01:15, 116.45it/s]"
     ]
    },
    {
     "name": "stdout",
     "output_type": "stream",
     "text": [
      "0xf03d93 0xf04f68 call 00F1A0C0h e828630100 <class 'bytes'> 15744403 15748968 <class 'int'> CALL_REL32_32 | 44 <class 'bytes'>\n",
      "  new_ins :  e875cf0100 \n",
      "\n",
      "0xf03da6 0xf04f81 call 00F1A0C0h e815630100 <class 'bytes'> 15744422 15748993 <class 'int'> CALL_REL32_32 | 44 <class 'bytes'>\n",
      "  new_ins :  e85ccf0100 \n",
      "\n"
     ]
    },
    {
     "name": "stderr",
     "output_type": "stream",
     "text": [
      "5281it [01:15, 100.15it/s]"
     ]
    },
    {
     "name": "stdout",
     "output_type": "stream",
     "text": [
      "0xf03db6 0xf04f94 call 00F19DD0h e815600100 <class 'bytes'> 15744438 15749012 <class 'int'> CALL_REL32_32 | 44 <class 'bytes'>\n",
      "  new_ins :  e828cb0100 \n",
      "\n",
      "0xf03dc7 0xf04faa call 00F12A40h e874ec0000 <class 'bytes'> 15744455 15749034 <class 'int'> CALL_REL32_32 | 44 <class 'bytes'>\n",
      "  new_ins :  e80d310100 \n",
      "\n",
      "0xf03dd8 0xf04fc0 call 00F12A40h e863ec0000 <class 'bytes'> 15744472 15749056 <class 'int'> CALL_REL32_32 | 44 <class 'bytes'>\n",
      "  new_ins :  e8f7300100 \n",
      "\n",
      "0xf03de2 0xf04fcc je short 00F03DF0h 740c <class 'bytes'> 15744482 15749068 <class 'int'> JE_REL8_32 | 44 <class 'bytes'>\n",
      "  new_ins :  7412 \n",
      "\n"
     ]
    },
    {
     "name": "stderr",
     "output_type": "stream",
     "text": [
      "5323it [01:15, 146.13it/s]"
     ]
    },
    {
     "name": "stdout",
     "output_type": "stream",
     "text": [
      "0xf03e21 0xf05028 jne near ptr 00F03F15h 0f85ee000000 <class 'bytes'> 15744545 15749160 <class 'int'> JNE_REL32_32 | 44 <class 'bytes'>\n",
      "  new_ins :  0f8538010000 \n",
      "\n",
      "0xf03e35 0xf0503f je near ptr 00F03F14h 0f84d9000000 <class 'bytes'> 15744565 15749183 <class 'int'> JE_REL32_32 | 44 <class 'bytes'>\n",
      "  new_ins :  0f841f010000 \n",
      "\n",
      "0xf03e3f 0xf0504a je near ptr 00F03F14h 0f84cf000000 <class 'bytes'> 15744575 15749194 <class 'int'> JE_REL32_32 | 44 <class 'bytes'>\n",
      "  new_ins :  0f8414010000 \n",
      "\n",
      "0xf03e49 0xf05055 je near ptr 00F03F14h 0f84c5000000 <class 'bytes'> 15744585 15749205 <class 'int'> JE_REL32_32 | 44 <class 'bytes'>\n",
      "  new_ins :  0f8409010000 \n",
      "\n",
      "0xf03e59 0xf0506b call 00F12A40h e8e2eb0000 <class 'bytes'> 15744601 15749227 <class 'int'> CALL_REL32_32 | 44 <class 'bytes'>\n",
      "  new_ins :  e84c300100 \n",
      "\n",
      "0xf03e63 0xf05077 jne short 00F03EA7h 7542 <class 'bytes'> 15744611 15749239 <class 'int'> JNE_REL8_32 | 44 <class 'bytes'>\n",
      "  new_ins :  7554 \n",
      "\n",
      "0xf03e7c 0xf05096 call 00F03AD0h e84ffcffff <class 'bytes'> 15744636 15749270 <class 'int'> CALL_REL32_32 | 44 <class 'bytes'>\n",
      "  new_ins :  e861fbffff \n",
      "\n",
      "0xf03e86 0xf050a2 jne short 00F03EA7h 751f <class 'bytes'> 15744646 15749282 <class 'int'> JNE_REL8_32 | 44 <class 'bytes'>\n",
      "  new_ins :  7529 \n",
      "\n",
      "0xf03e8a 0xf050a8 call 00F039F0h e861fbffff <class 'bytes'> 15744650 15749288 <class 'int'> CALL_REL32_32 | 44 <class 'bytes'>\n",
      "  new_ins :  e834faffff \n",
      "\n",
      "0xf03e94 0xf050b4 jne short 00F03EA7h 7511 <class 'bytes'> 15744660 15749300 <class 'int'> JNE_REL8_32 | 44 <class 'bytes'>\n",
      "  new_ins :  7517 \n",
      "\n"
     ]
    },
    {
     "name": "stderr",
     "output_type": "stream",
     "text": [
      "5373it [01:16, 153.02it/s]"
     ]
    },
    {
     "name": "stdout",
     "output_type": "stream",
     "text": [
      "0xf03eae 0xf050d9 call 00F12A40h e88deb0000 <class 'bytes'> 15744686 15749337 <class 'int'> CALL_REL32_32 | 44 <class 'bytes'>\n",
      "  new_ins :  e8de2f0100 \n",
      "\n",
      "0xf03eb8 0xf050e5 je short 00F03F13h 7459 <class 'bytes'> 15744696 15749349 <class 'int'> JE_REL8_32 | 44 <class 'bytes'>\n",
      "  new_ins :  747b \n",
      "\n",
      "0xf03ec1 0xf050f2 call 00F19E50h e88a5f0100 <class 'bytes'> 15744705 15749362 <class 'int'> CALL_REL32_32 | 44 <class 'bytes'>\n",
      "  new_ins :  e87cca0100 \n",
      "\n"
     ]
    },
    {
     "name": "stderr",
     "output_type": "stream",
     "text": [
      "5421it [01:16, 174.81it/s]"
     ]
    },
    {
     "name": "stdout",
     "output_type": "stream",
     "text": [
      "0xf03eed 0xf0512b call 00F12E40h e84eef0000 <class 'bytes'> 15744749 15749419 <class 'int'> CALL_REL32_32 | 44 <class 'bytes'>\n",
      "  new_ins :  e8d1340100 \n",
      "\n",
      "0xf03ef7 0xf05137 je short 00F03F13h 741a <class 'bytes'> 15744759 15749431 <class 'int'> JE_REL8_32 | 44 <class 'bytes'>\n",
      "  new_ins :  7429 \n",
      "\n",
      "0xf03f1f 0xf05174 loope 00F03F76h e155 <class 'bytes'> 15744799 15749492 <class 'int'> LOOPE_REL8_32_ECX | 44 <class 'bytes'>\n",
      "  new_ins :  e16b \n",
      "\n",
      "0xf03f28 0xf05180 je short 00F03F40h 7416 <class 'bytes'> 15744808 15749504 <class 'int'> JE_REL8_32 | 44 <class 'bytes'>\n",
      "  new_ins :  741a \n",
      "\n",
      "0xf03f2f 0xf05189 je short 00F03F40h 740f <class 'bytes'> 15744815 15749513 <class 'int'> JE_REL8_32 | 44 <class 'bytes'>\n",
      "  new_ins :  7411 \n",
      "\n",
      "0xf03f38 0xf05193 jne short 00F03F40h 7506 <class 'bytes'> 15744824 15749523 <class 'int'> JNE_REL8_32 | 44 <class 'bytes'>\n",
      "  new_ins :  7507 \n",
      "\n",
      "0xf03f48 0xf051a6 je short 00F03F5Ch 7412 <class 'bytes'> 15744840 15749542 <class 'int'> JE_REL8_32 | 44 <class 'bytes'>\n",
      "  new_ins :  7415 \n",
      "\n",
      "0xf03f51 0xf051b0 je short 00F03F5Ch 7409 <class 'bytes'> 15744849 15749552 <class 'int'> JE_REL8_32 | 44 <class 'bytes'>\n",
      "  new_ins :  740b \n",
      "\n",
      "0xf03f54 0xf051b4 call 00F030B0h e857f1ffff <class 'bytes'> 15744852 15749556 <class 'int'> CALL_REL32_32 | 44 <class 'bytes'>\n",
      "  new_ins :  e873edffff \n",
      "\n"
     ]
    },
    {
     "name": "stderr",
     "output_type": "stream",
     "text": [
      "5468it [01:16, 170.89it/s]"
     ]
    },
    {
     "name": "stdout",
     "output_type": "stream",
     "text": [
      "0xf03fa5 0xf0521d call 00F19E50h e8a65e0100 <class 'bytes'> 15744933 15749661 <class 'int'> CALL_REL32_32 | 44 <class 'bytes'>\n",
      "  new_ins :  e851c90100 \n",
      "\n",
      "0xf03fbf 0xf05240 call 00F17D00h e83c3d0100 <class 'bytes'> 15744959 15749696 <class 'int'> CALL_REL32_32 | 44 <class 'bytes'>\n",
      "  new_ins :  e8d19b0100 \n",
      "\n",
      "0xf03fc9 0xf0524c js near ptr 00F040C7h 0f88f8000000 <class 'bytes'> 15744969 15749708 <class 'int'> JS_REL32_32 | 44 <class 'bytes'>\n",
      "  new_ins :  0f8840010000 \n",
      "\n"
     ]
    },
    {
     "name": "stderr",
     "output_type": "stream",
     "text": [
      "5490it [01:16, 139.03it/s]"
     ]
    },
    {
     "name": "stdout",
     "output_type": "stream",
     "text": [
      "0xf04013 0xf052a5 call 00F12E40h e828ee0000 <class 'bytes'> 15745043 15749797 <class 'int'> CALL_REL32_32 | 44 <class 'bytes'>\n",
      "  new_ins :  e857330100 \n",
      "\n",
      "0xf0401d 0xf052b1 je short 00F04026h 7407 <class 'bytes'> 15745053 15749809 <class 'int'> JE_REL8_32 | 44 <class 'bytes'>\n",
      "  new_ins :  740a \n",
      "\n",
      "0xf04030 0xf052cb call 00F19E50h e81b5e0100 <class 'bytes'> 15745072 15749835 <class 'int'> CALL_REL32_32 | 44 <class 'bytes'>\n",
      "  new_ins :  e8a3c80100 \n",
      "\n",
      "0xf04072 0xf0531c call 00F08F00h e8894e0000 <class 'bytes'> 15745138 15749916 <class 'int'> CALL_REL32_32 | 44 <class 'bytes'>\n",
      "  new_ins :  e8e1640000 \n",
      "\n"
     ]
    },
    {
     "name": "stderr",
     "output_type": "stream",
     "text": [
      "5531it [01:17, 128.22it/s]"
     ]
    },
    {
     "name": "stdout",
     "output_type": "stream",
     "text": [
      "0xf04083 0xf05332 call 00F1A230h e8a8610100 <class 'bytes'> 15745155 15749938 <class 'int'> CALL_REL32_32 | 44 <class 'bytes'>\n",
      "  new_ins :  e8b6cd0100 \n",
      "\n",
      "0xf04097 0xf0534c call 00F12E40h e8a4ed0000 <class 'bytes'> 15745175 15749964 <class 'int'> CALL_REL32_32 | 44 <class 'bytes'>\n",
      "  new_ins :  e8b0320100 \n",
      "\n",
      "0xf040a2 0xf0535a je short 00F040C7h 7423 <class 'bytes'> 15745186 15749978 <class 'int'> JE_REL8_32 | 44 <class 'bytes'>\n",
      "  new_ins :  7436 \n",
      "\n",
      "0xf040db 0xf053b0 je short 00F040FCh 741f <class 'bytes'> 15745243 15750064 <class 'int'> JE_REL8_32 | 44 <class 'bytes'>\n",
      "  new_ins :  7428 \n",
      "\n",
      "0xf040e3 0xf053ba jb short 00F040FCh 7217 <class 'bytes'> 15745251 15750074 <class 'int'> JB_REL8_32 | 44 <class 'bytes'>\n",
      "  new_ins :  721e \n",
      "\n",
      "0xf040ea 0xf053c2 jae short 00F040FCh 7310 <class 'bytes'> 15745258 15750082 <class 'int'> JAE_REL8_32 | 44 <class 'bytes'>\n",
      "  new_ins :  7316 \n",
      "\n"
     ]
    },
    {
     "name": "stderr",
     "output_type": "stream",
     "text": [
      "5606it [01:17, 181.18it/s]"
     ]
    },
    {
     "name": "stdout",
     "output_type": "stream",
     "text": [
      "0xf040f4 0xf053d1 call 00F14FE0h e8e70e0100 <class 'bytes'> 15745268 15750097 <class 'int'> CALL_REL32_32 | 44 <class 'bytes'>\n",
      "  new_ins :  e8935f0100 \n",
      "\n",
      "0xf04119 0xf05404 je short 00F04129h 740e <class 'bytes'> 15745305 15750148 <class 'int'> JE_REL8_32 | 44 <class 'bytes'>\n",
      "  new_ins :  7411 \n",
      "\n",
      "0xf04122 0xf0540e jne short 00F04132h 750e <class 'bytes'> 15745314 15750158 <class 'int'> JNE_REL8_32 | 44 <class 'bytes'>\n",
      "  new_ins :  7511 \n",
      "\n",
      "0xf04130 0xf0541f je short 00F0413Ch 740a <class 'bytes'> 15745328 15750175 <class 'int'> JE_REL8_32 | 44 <class 'bytes'>\n",
      "  new_ins :  740d \n",
      "\n",
      "0xf04134 0xf05424 jne short 00F0413Ch 7506 <class 'bytes'> 15745332 15750180 <class 'int'> JNE_REL8_32 | 44 <class 'bytes'>\n",
      "  new_ins :  7508 \n",
      "\n",
      "0xf0413e 0xf05431 je short 00F04157h 7417 <class 'bytes'> 15745342 15750193 <class 'int'> JE_REL8_32 | 44 <class 'bytes'>\n",
      "  new_ins :  741e \n",
      "\n",
      "0xf04148 0xf0543d ja short 00F04157h 770d <class 'bytes'> 15745352 15750205 <class 'int'> JA_REL8_32 | 44 <class 'bytes'>\n",
      "  new_ins :  7712 \n",
      "\n",
      "0xf0414f 0xf05448 call 00F14FE0h e88c0e0100 <class 'bytes'> 15745359 15750216 <class 'int'> CALL_REL32_32 | 44 <class 'bytes'>\n",
      "  new_ins :  e81c5f0100 \n",
      "\n",
      "0xf04171 0xf05475 jne short 00F0417Fh 750c <class 'bytes'> 15745393 15750261 <class 'int'> JNE_REL8_32 | 44 <class 'bytes'>\n",
      "  new_ins :  7510 \n",
      "\n"
     ]
    },
    {
     "name": "stderr",
     "output_type": "stream",
     "text": [
      "5644it [01:17, 158.00it/s]"
     ]
    },
    {
     "name": "stdout",
     "output_type": "stream",
     "text": [
      "0xf04174 0xf05479 call 00F02100h e887dfffff <class 'bytes'> 15745396 15750265 <class 'int'> CALL_REL32_32 | 44 <class 'bytes'>\n",
      "  new_ins :  e8c0d6ffff \n",
      "\n",
      "0xf04186 0xf0548f je short 00F04194h 740c <class 'bytes'> 15745414 15750287 <class 'int'> JE_REL8_32 | 44 <class 'bytes'>\n",
      "  new_ins :  7410 \n",
      "\n",
      "0xf04189 0xf05493 call 00F16660h e8d2240100 <class 'bytes'> 15745417 15750291 <class 'int'> CALL_REL32_32 | 44 <class 'bytes'>\n",
      "  new_ins :  e87c7c0100 \n",
      "\n",
      "0xf0419a 0xf054aa jbe short 00F041E0h 7644 <class 'bytes'> 15745434 15750314 <class 'int'> JBE_REL8_32 | 44 <class 'bytes'>\n",
      "  new_ins :  7657 \n",
      "\n",
      "0xf041a5 0xf054b8 je short 00F041E0h 7439 <class 'bytes'> 15745445 15750328 <class 'int'> JE_REL8_32 | 44 <class 'bytes'>\n",
      "  new_ins :  7449 \n",
      "\n",
      "0xf041ac 0xf054c0 je short 00F041DAh 742c <class 'bytes'> 15745452 15750336 <class 'int'> JE_REL8_32 | 44 <class 'bytes'>\n",
      "  new_ins :  7439 \n",
      "\n",
      "0xf041b4 0xf054ca jbe short 00F041DAh 7624 <class 'bytes'> 15745460 15750346 <class 'int'> JBE_REL8_32 | 44 <class 'bytes'>\n",
      "  new_ins :  762f \n",
      "\n",
      "0xf041bb 0xf054d2 jae short 00F041DAh 731d <class 'bytes'> 15745467 15750354 <class 'int'> JAE_REL8_32 | 44 <class 'bytes'>\n",
      "  new_ins :  7327 \n",
      "\n"
     ]
    },
    {
     "name": "stderr",
     "output_type": "stream",
     "text": [
      "5680it [01:18, 144.67it/s]"
     ]
    },
    {
     "name": "stdout",
     "output_type": "stream",
     "text": [
      "0xf041d2 0xf054f2 call 00F14FE0h e8090e0100 <class 'bytes'> 15745490 15750386 <class 'int'> CALL_REL32_32 | 44 <class 'bytes'>\n",
      "  new_ins :  e8725e0100 \n",
      "\n",
      "0xf041de 0xf05501 jb short 00F041A0h 72c0 <class 'bytes'> 15745502 15750401 <class 'int'> JB_REL8_32 | 44 <class 'bytes'>\n",
      "  new_ins :  72ae \n",
      "\n",
      "0xf041fe 0xf05530 call 00F19DD0h e8cd5b0100 <class 'bytes'> 15745534 15750448 <class 'int'> CALL_REL32_32 | 44 <class 'bytes'>\n",
      "  new_ins :  e88cc50100 \n",
      "\n",
      "0xf04206 0xf05539 call 00F1B470h e865720100 <class 'bytes'> 15745542 15750457 <class 'int'> CALL_REL32_32 | 44 <class 'bytes'>\n",
      "  new_ins :  e8e3e30100 \n",
      "\n"
     ]
    },
    {
     "name": "stderr",
     "output_type": "stream",
     "text": [
      "5728it [01:35,  6.37it/s] "
     ]
    },
    {
     "name": "stdout",
     "output_type": "stream",
     "text": [
      "0xf04214 0xf0554b jmp near ptr 69AF2A0Eh e9f5e7be68 <class 'bytes'> 15745556 15750475 <class 'int'> JMP_REL32_32 | 44 <class 'bytes'>\n",
      "  new_ins :  e913b8bf68 \n",
      "\n",
      "0xf0422a 0xf05569 jne short 00F04277h 754b <class 'bytes'> 15745578 15750505 <class 'int'> JNE_REL8_32 | 44 <class 'bytes'>\n",
      "  new_ins :  7564 \n",
      "\n",
      "0xf04232 0xf05574 je short 00F04276h 7442 <class 'bytes'> 15745586 15750516 <class 'int'> JE_REL8_32 | 44 <class 'bytes'>\n",
      "  new_ins :  7457 \n",
      "\n",
      "0xf0423a 0xf0557e jb short 00F04276h 723a <class 'bytes'> 15745594 15750526 <class 'int'> JB_REL8_32 | 44 <class 'bytes'>\n",
      "  new_ins :  724d \n",
      "\n",
      "0xf04242 0xf05587 ja short 00F04276h 7732 <class 'bytes'> 15745602 15750535 <class 'int'> JA_REL8_32 | 44 <class 'bytes'>\n",
      "  new_ins :  7744 \n",
      "\n",
      "0xf0424b 0xf05593 je short 00F04276h 7429 <class 'bytes'> 15745611 15750547 <class 'int'> JE_REL8_32 | 44 <class 'bytes'>\n",
      "  new_ins :  7438 \n",
      "\n",
      "0xf04257 0xf055a1 je short 00F04262h 7409 <class 'bytes'> 15745623 15750561 <class 'int'> JE_REL8_32 | 44 <class 'bytes'>\n",
      "  new_ins :  740e \n",
      "\n",
      "0xf0425c 0xf055a8 jb short 00F04250h 72f2 <class 'bytes'> 15745628 15750568 <class 'int'> JB_REL8_32 | 44 <class 'bytes'>\n",
      "  new_ins :  72ef \n",
      "\n",
      "0xf0426e 0xf055c4 call 00F14FE0h e86d0d0100 <class 'bytes'> 15745646 15750596 <class 'int'> CALL_REL32_32 | 44 <class 'bytes'>\n",
      "  new_ins :  e8a05d0100 \n",
      "\n",
      "0xf04294 0xf055f5 je short 00F0429Dh 7407 <class 'bytes'> 15745684 15750645 <class 'int'> JE_REL8_32 | 44 <class 'bytes'>\n",
      "  new_ins :  740b \n",
      "\n"
     ]
    },
    {
     "name": "stderr",
     "output_type": "stream",
     "text": [
      "5773it [01:35, 11.88it/s]"
     ]
    },
    {
     "name": "stdout",
     "output_type": "stream",
     "text": [
      "0xf042bb 0xf05628 call 00F19E50h e8905b0100 <class 'bytes'> 15745723 15750696 <class 'int'> CALL_REL32_32 | 44 <class 'bytes'>\n",
      "  new_ins :  e846c50100 \n",
      "\n",
      "0xf042e0 0xf05654 call 00F08CE0h e8fb490000 <class 'bytes'> 15745760 15750740 <class 'int'> CALL_REL32_32 | 44 <class 'bytes'>\n",
      "  new_ins :  e8d35e0000 \n",
      "\n",
      "0xf042f5 0xf05670 call 00F12E40h e846eb0000 <class 'bytes'> 15745781 15750768 <class 'int'> CALL_REL32_32 | 44 <class 'bytes'>\n",
      "  new_ins :  e88c2f0100 \n",
      "\n"
     ]
    },
    {
     "name": "stderr",
     "output_type": "stream",
     "text": [
      "5790it [01:36, 15.07it/s]"
     ]
    },
    {
     "name": "stdout",
     "output_type": "stream",
     "text": [
      "0xf04308 0xf05689 call 00F12E40h e833eb0000 <class 'bytes'> 15745800 15750793 <class 'int'> CALL_REL32_32 | 44 <class 'bytes'>\n",
      "  new_ins :  e8732f0100 \n",
      "\n",
      "0xf0431b 0xf056a2 call 00F12E40h e820eb0000 <class 'bytes'> 15745819 15750818 <class 'int'> CALL_REL32_32 | 44 <class 'bytes'>\n",
      "  new_ins :  e85a2f0100 \n",
      "\n",
      "0xf0432a 0xf056b5 je near ptr 00F043CEh 0f849e000000 <class 'bytes'> 15745834 15750837 <class 'int'> JE_REL32_32 | 44 <class 'bytes'>\n",
      "  new_ins :  0f84cb000000 \n",
      "\n",
      "0xf04334 0xf056c0 je near ptr 00F043CEh 0f8494000000 <class 'bytes'> 15745844 15750848 <class 'int'> JE_REL32_32 | 44 <class 'bytes'>\n",
      "  new_ins :  0f84c0000000 \n",
      "\n",
      "0xf0433c 0xf056c9 je near ptr 00F043CEh 0f848c000000 <class 'bytes'> 15745852 15750857 <class 'int'> JE_REL32_32 | 44 <class 'bytes'>\n",
      "  new_ins :  0f84b7000000 \n",
      "\n",
      "0xf04342 0xf056cf call 00F193E0h e899500100 <class 'bytes'> 15745858 15750863 <class 'int'> CALL_REL32_32 | 44 <class 'bytes'>\n",
      "  new_ins :  e8dab60100 \n",
      "\n",
      "0xf0434a 0xf056d9 call 00F19400h e8b1500100 <class 'bytes'> 15745866 15750873 <class 'int'> CALL_REL32_32 | 44 <class 'bytes'>\n",
      "  new_ins :  e8fbb60100 \n",
      "\n"
     ]
    },
    {
     "name": "stderr",
     "output_type": "stream",
     "text": [
      "5880it [01:36, 44.93it/s]"
     ]
    },
    {
     "name": "stdout",
     "output_type": "stream",
     "text": [
      "0xf0435a 0xf056ed call 00F1A470h e811610100 <class 'bytes'> 15745882 15750893 <class 'int'> CALL_REL32_32 | 44 <class 'bytes'>\n",
      "  new_ins :  e8fdcc0100 \n",
      "\n",
      "0xf04374 0xf0570e je short 00F043CEh 7458 <class 'bytes'> 15745908 15750926 <class 'int'> JE_REL8_32 | 44 <class 'bytes'>\n",
      "  new_ins :  7476 \n",
      "\n",
      "0xf0438e 0xf05730 je short 00F043CEh 743e <class 'bytes'> 15745934 15750960 <class 'int'> JE_REL8_32 | 44 <class 'bytes'>\n",
      "  new_ins :  7454 \n",
      "\n",
      "0xf043ae 0xf0575a je short 00F043CEh 741e <class 'bytes'> 15745966 15751002 <class 'int'> JE_REL8_32 | 44 <class 'bytes'>\n",
      "  new_ins :  742a \n",
      "\n",
      "0xf043d7 0xf05795 jne short 00F043CEh 75f5 <class 'bytes'> 15746007 15751061 <class 'int'> JNE_REL8_32 | 44 <class 'bytes'>\n",
      "  new_ins :  75ef \n",
      "\n",
      "0xf043de 0xf0579d je short 00F04379h 7499 <class 'bytes'> 15746014 15751069 <class 'int'> JE_REL8_32 | 48 <class 'bytes'>\n",
      "  new_ins :  0F8471ffffff \n",
      "\n",
      "0xf043f2 0xf057be je short 00F043F6h 7402 <class 'bytes'> 15746034 15751102 <class 'int'> JE_REL8_32 | 48 <class 'bytes'>\n",
      "  new_ins :  7403 \n",
      "\n",
      "0xf043f9 0xf057c7 je short 00F043FEh 7403 <class 'bytes'> 15746041 15751111 <class 'int'> JE_REL8_32 | 48 <class 'bytes'>\n",
      "  new_ins :  7404 \n",
      "\n",
      "0xf04401 0xf057d1 je short 00F04406h 7403 <class 'bytes'> 15746049 15751121 <class 'int'> JE_REL8_32 | 48 <class 'bytes'>\n",
      "  new_ins :  7404 \n",
      "\n",
      "0xf04409 0xf057db je short 00F0440Eh 7403 <class 'bytes'> 15746057 15751131 <class 'int'> JE_REL8_32 | 48 <class 'bytes'>\n",
      "  new_ins :  7404 \n",
      "\n",
      "0xf04410 0xf057e4 jne short 00F04427h 7515 <class 'bytes'> 15746064 15751140 <class 'int'> JNE_REL8_32 | 48 <class 'bytes'>\n",
      "  new_ins :  751c \n",
      "\n",
      "0xf04415 0xf057ea jne short 00F04427h 7510 <class 'bytes'> 15746069 15751146 <class 'int'> JNE_REL8_32 | 48 <class 'bytes'>\n",
      "  new_ins :  7516 \n",
      "\n",
      "0xf0441a 0xf057f0 jne short 00F04427h 750b <class 'bytes'> 15746074 15751152 <class 'int'> JNE_REL8_32 | 48 <class 'bytes'>\n",
      "  new_ins :  7510 \n",
      "\n",
      "0xf0441f 0xf057f6 jne short 00F04427h 7506 <class 'bytes'> 15746079 15751158 <class 'int'> JNE_REL8_32 | 48 <class 'bytes'>\n",
      "  new_ins :  750a \n",
      "\n",
      "0xf0442d 0xf0580a je short 00F04431h 7402 <class 'bytes'> 15746093 15751178 <class 'int'> JE_REL8_32 | 48 <class 'bytes'>\n",
      "  new_ins :  7403 \n",
      "\n",
      "0xf04434 0xf05813 je short 00F04439h 7403 <class 'bytes'> 15746100 15751187 <class 'int'> JE_REL8_32 | 48 <class 'bytes'>\n",
      "  new_ins :  7404 \n",
      "\n",
      "0xf0443c 0xf0581d je short 00F04441h 7403 <class 'bytes'> 15746108 15751197 <class 'int'> JE_REL8_32 | 48 <class 'bytes'>\n",
      "  new_ins :  7404 \n",
      "\n",
      "0xf04444 0xf05827 je short 00F04449h 7403 <class 'bytes'> 15746116 15751207 <class 'int'> JE_REL8_32 | 48 <class 'bytes'>\n",
      "  new_ins :  7404 \n",
      "\n",
      "0xf0444b 0xf05830 jne short 00F0445Ch 750f <class 'bytes'> 15746123 15751216 <class 'int'> JNE_REL8_32 | 48 <class 'bytes'>\n",
      "  new_ins :  7512 \n",
      "\n",
      "0xf04450 0xf05836 jne short 00F0445Ch 750a <class 'bytes'> 15746128"
     ]
    },
    {
     "name": "stderr",
     "output_type": "stream",
     "text": [
      "5940it [01:36, 73.08it/s]"
     ]
    },
    {
     "name": "stdout",
     "output_type": "stream",
     "text": [
      " 15751222 <class 'int'> JNE_REL8_32 | 48 <class 'bytes'>\n",
      "  new_ins :  750c \n",
      "\n",
      "0xf04455 0xf0583c jne short 00F0445Ch 7505 <class 'bytes'> 15746133 15751228 <class 'int'> JNE_REL8_32 | 48 <class 'bytes'>\n",
      "  new_ins :  7506 \n",
      "\n",
      "0xf0445a 0xf05842 je short 00F04421h 74c5 <class 'bytes'> 15746138 15751234 <class 'int'> JE_REL8_32 | 48 <class 'bytes'>\n",
      "  new_ins :  74b4 \n",
      "\n",
      "0xf04462 0xf0584c je short 00F04466h 7402 <class 'bytes'> 15746146 15751244 <class 'int'> JE_REL8_32 | 48 <class 'bytes'>\n",
      "  new_ins :  7403 \n",
      "\n",
      "0xf04469 0xf05855 je short 00F0446Eh 7403 <class 'bytes'> 15746153 15751253 <class 'int'> JE_REL8_32 | 48 <class 'bytes'>\n",
      "  new_ins :  7404 \n",
      "\n",
      "0xf04471 0xf0585f je short 00F04476h 7403 <class 'bytes'> 15746161 15751263 <class 'int'> JE_REL8_32 | 48 <class 'bytes'>\n",
      "  new_ins :  7404 \n",
      "\n",
      "0xf04479 0xf05869 je short 00F0447Eh 7403 <class 'bytes'> 15746169 15751273 <class 'int'> JE_REL8_32 | 48 <class 'bytes'>\n",
      "  new_ins :  7404 \n",
      "\n",
      "0xf04480 0xf05872 jne short 00F04491h 750f <class 'bytes'> 15746176 15751282 <class 'int'> JNE_REL8_32 | 48 <class 'bytes'>\n",
      "  new_ins :  7516 \n",
      "\n",
      "0xf04485 0xf05878 jne short 00F04491h 750a <class 'bytes'> 15746181 15751288 <class 'int'> JNE_REL8_32 | 48 <class 'bytes'>\n",
      "  new_ins :  7510 \n",
      "\n",
      "0xf0448a 0xf0587e jne short 00F04491h 7505 <class 'bytes'> 15746186 15751294 <class 'int'> JNE_REL8_32 | 48 <class 'bytes'>\n",
      "  new_ins :  750a \n",
      "\n",
      "0xf0448f 0xf05884 je short 00F04421h 7490 <class 'bytes'> 15746191 15751300 <class 'int'> JE_REL8_32 | 52 <class 'bytes'>\n",
      "  new_ins :  0F846effffff \n",
      "\n",
      "0xf04497 0xf05892 je short 00F0449Bh 7402 <class 'bytes'> 15746199 15751314 <class 'int'> JE_REL8_32 | 52 <class 'bytes'>\n",
      "  new_ins :  7403 \n",
      "\n",
      "0xf0449e 0xf0589b je short 00F044A3h 7403 <class 'bytes'> 15746206 15751323 <class 'int'> JE_REL8_32 | 52 <class 'bytes'>\n",
      "  new_ins :  7404 \n",
      "\n",
      "0xf044a6 0xf058a5 je short 00F044ABh 7403 <class 'bytes'> 15746214 15751333 <class 'int'> JE_REL8_32 | 52 <class 'bytes'>\n",
      "  new_ins :  7404 \n",
      "\n",
      "0xf044ae 0xf058af je short 00F044B3h 7403 <class 'bytes'> 15746222 15751343 <class 'int'> JE_REL8_32 | 52 <class 'bytes'>\n",
      "  new_ins :  7404 \n",
      "\n",
      "0xf044b5 0xf058b8 jne short 00F044CAh 7513 <class 'bytes'> 15746229 15751352 <class 'int'> JNE_REL8_32 | 52 <class 'bytes'>\n",
      "  new_ins :  7516 \n",
      "\n",
      "0xf044ba 0xf058be jne short 00F044CAh 750e <class 'bytes'> 15746234 15751358 <class 'int'> JNE_REL8_32 | 52 <class 'bytes'>\n",
      "  new_ins :  7510 \n",
      "\n",
      "0xf044bf 0xf058c4 jne short 00F044CAh 7509 <class 'bytes'> 15746239 15751364 <class 'int'> JNE_REL8_32 | 52 <class 'bytes'>\n",
      "  new_ins :  750a \n",
      "\n"
     ]
    },
    {
     "name": "stderr",
     "output_type": "stream",
     "text": [
      "5995it [01:37, 102.57it/s]"
     ]
    },
    {
     "name": "stdout",
     "output_type": "stream",
     "text": [
      "0xf044c4 0xf058ca je near ptr 00F04421h 0f8457ffffff <class 'bytes'> 15746244 15751370 <class 'int'> JE_REL32_32 | 52 <class 'bytes'>\n",
      "  new_ins :  0f8428ffffff \n",
      "\n",
      "0xf044d0 0xf058d8 je short 00F044D4h 7402 <class 'bytes'> 15746256 15751384 <class 'int'> JE_REL8_32 | 52 <class 'bytes'>\n",
      "  new_ins :  7403 \n",
      "\n",
      "0xf044d7 0xf058e1 je short 00F044DCh 7403 <class 'bytes'> 15746263 15751393 <class 'int'> JE_REL8_32 | 52 <class 'bytes'>\n",
      "  new_ins :  7404 \n",
      "\n",
      "0xf044df 0xf058eb je short 00F044E4h 7403 <class 'bytes'> 15746271 15751403 <class 'int'> JE_REL8_32 | 52 <class 'bytes'>\n",
      "  new_ins :  7404 \n",
      "\n",
      "0xf044e7 0xf058f5 je short 00F044ECh 7403 <class 'bytes'> 15746279 15751413 <class 'int'> JE_REL8_32 | 52 <class 'bytes'>\n",
      "  new_ins :  7404 \n",
      "\n",
      "0xf044ee 0xf058fe jne short 00F04503h 7513 <class 'bytes'> 15746286 15751422 <class 'int'> JNE_REL8_32 | 52 <class 'bytes'>\n",
      "  new_ins :  7516 \n",
      "\n",
      "0xf044f3 0xf05904 jne short 00F04503h 750e <class 'bytes'> 15746291 15751428 <class 'int'> JNE_REL8_32 | 52 <class 'bytes'>\n",
      "  new_ins :  7510 \n",
      "\n",
      "0xf044f8 0xf0590a jne short 00F04503h 7509 <class 'bytes'> 15746296 15751434 <class 'int'> JNE_REL8_32 | 52 <class 'bytes'>\n",
      "  new_ins :  750a \n",
      "\n",
      "0xf044fd 0xf05910 je near ptr 00F04421h 0f841effffff <class 'bytes'> 15746301 15751440 <class 'int'> JE_REL32_32 | 52 <class 'bytes'>\n",
      "  new_ins :  0f84e2feffff \n",
      "\n",
      "0xf04509 0xf0591e je short 00F0450Dh 7402 <class 'bytes'> 15746313 15751454 <class 'int'> JE_REL8_32 | 52 <class 'bytes'>\n",
      "  new_ins :  7403 \n",
      "\n",
      "0xf04510 0xf05927 je short 00F04515h 7403 <class 'bytes'> 15746320 15751463 <class 'int'> JE_REL8_32 | 52 <class 'bytes'>\n",
      "  new_ins :  7404 \n",
      "\n",
      "0xf04518 0xf05931 je short 00F0451Dh 7403 <class 'bytes'> 15746328 15751473 <class 'int'> JE_REL8_32 | 52 <class 'bytes'>\n",
      "  new_ins :  7404 \n",
      "\n",
      "0xf04520 0xf0593b je short 00F04525h 7403 <class 'bytes'> 15746336 15751483 <class 'int'> JE_REL8_32 | 52 <class 'bytes'>\n",
      "  new_ins :  7404 \n",
      "\n",
      "0xf04527 0xf05944 jne short 00F0453Ch 7513 <class 'bytes'> 15746343 15751492 <class 'int'> JNE_REL8_32 | 52 <class 'bytes'>\n",
      "  new_ins :  7516 \n",
      "\n",
      "0xf0452c 0xf0594a jne short 00F0453Ch 750e <class 'bytes'> 15746348 15751498 <class 'int'> JNE_REL8_32 | 52 <class 'bytes'>\n",
      "  new_ins :  7510 \n",
      "\n",
      "0xf04531 0xf05950 jne short 00F0453Ch 7509 <class 'bytes'> 15746353 15751504 <class 'int'> JNE_REL8_32 | 52 <class 'bytes'>\n",
      "  new_ins :  750a \n",
      "\n",
      "0xf04536 0xf05956 je near ptr 00F04421h 0f84e5feffff <class 'bytes'> 15746358 15751510 <class 'int'> JE_REL32_32 | 52 <class 'bytes'>\n",
      "  new_ins :  0f849cfeffff \n",
      "\n",
      "0xf04542 0xf05964 je short 00F04546h 7402 <class 'bytes'> 15746370 15751524 <class 'int'> JE_REL8_32 | 52 <class 'bytes'>\n",
      "  new_ins :  7403 \n",
      "\n"
     ]
    },
    {
     "name": "stderr",
     "output_type": "stream",
     "text": [
      "6021it [01:37, 121.93it/s]"
     ]
    },
    {
     "name": "stdout",
     "output_type": "stream",
     "text": [
      "0xf04549 0xf0596d je short 00F0454Eh 7403 <class 'bytes'> 15746377 15751533 <class 'int'> JE_REL8_32 | 52 <class 'bytes'>\n",
      "  new_ins :  7404 \n",
      "\n",
      "0xf04551 0xf05977 je short 00F04556h 7403 <class 'bytes'> 15746385 15751543 <class 'int'> JE_REL8_32 | 52 <class 'bytes'>\n",
      "  new_ins :  7404 \n",
      "\n",
      "0xf04558 0xf05980 jne short 00F0456Dh 7513 <class 'bytes'> 15746392 15751552 <class 'int'> JNE_REL8_32 | 52 <class 'bytes'>\n",
      "  new_ins :  7516 \n",
      "\n",
      "0xf0455d 0xf05986 jne short 00F0456Dh 750e <class 'bytes'> 15746397 15751558 <class 'int'> JNE_REL8_32 | 52 <class 'bytes'>\n",
      "  new_ins :  7510 \n",
      "\n",
      "0xf04562 0xf0598c jne short 00F0456Dh 7509 <class 'bytes'> 15746402 15751564 <class 'int'> JNE_REL8_32 | 52 <class 'bytes'>\n",
      "  new_ins :  750a \n",
      "\n",
      "0xf04567 0xf05992 je near ptr 00F04421h 0f84b4feffff <class 'bytes'> 15746407 15751570 <class 'int'> JE_REL32_32 | 52 <class 'bytes'>\n",
      "  new_ins :  0f8460feffff \n",
      "\n",
      "0xf04573 0xf059a0 je short 00F0457Ah 7405 <class 'bytes'> 15746419 15751584 <class 'int'> JE_REL8_32 | 52 <class 'bytes'>\n",
      "  new_ins :  7407 \n",
      "\n",
      "0xf0457d 0xf059ad je short 00F04582h 7403 <class 'bytes'> 15746429 15751597 <class 'int'> JE_REL8_32 | 52 <class 'bytes'>\n",
      "  new_ins :  7404 \n",
      "\n",
      "0xf04584 0xf059b6 jne short 00F04599h 7513 <class 'bytes'> 15746436 15751606 <class 'int'> JNE_REL8_32 | 52 <class 'bytes'>\n",
      "  new_ins :  7516 \n",
      "\n",
      "0xf04589 0xf059bc jne short 00F04599h 750e <class 'bytes'> 15746441 15751612 <class 'int'> JNE_REL8_32 | 52 <class 'bytes'>\n",
      "  new_ins :  7510 \n",
      "\n",
      "0xf0458e 0xf059c2 jne short 00F04599h 7509 <class 'bytes'> 15746446 15751618 <class 'int'> JNE_REL8_32 | 52 <class 'bytes'>\n",
      "  new_ins :  750a \n",
      "\n",
      "0xf04593 0xf059c8 je near ptr 00F04421h 0f8488feffff <class 'bytes'> 15746451 15751624 <class 'int'> JE_REL32_32 | 52 <class 'bytes'>\n",
      "  new_ins :  0f842afeffff \n",
      "\n",
      "0xf0459f 0xf059d6 je short 00F045A3h 7402 <class 'bytes'> 15746463 15751638 <class 'int'> JE_REL8_32 | 52 <class 'bytes'>\n",
      "  new_ins :  7403 \n",
      "\n",
      "0xf045a6 0xf059df je short 00F045ABh 7403 <class 'bytes'> 15746470 15751647 <class 'int'> JE_REL8_32 | 52 <class 'bytes'>\n",
      "  new_ins :  7404 \n",
      "\n",
      "0xf045ae 0xf059e9 je short 00F045B3h 7403 <class 'bytes'> 15746478 15751657 <class 'int'> JE_REL8_32 | 52 <class 'bytes'>\n",
      "  new_ins :  7404 \n",
      "\n",
      "0xf045b6 0xf059f3 je short 00F045BBh 7403 <class 'bytes'> 15746486 15751667 <class 'int'> JE_REL8_32 | 52 <class 'bytes'>\n",
      "  new_ins :  7404 \n",
      "\n",
      "0xf045bd 0xf059fc jne short 00F045D2h 7513 <class 'bytes'> 15746493 15751676 <class 'int'> JNE_REL8_32 | 52 <class 'bytes'>\n",
      "  new_ins :  7516 \n",
      "\n"
     ]
    },
    {
     "name": "stderr",
     "output_type": "stream",
     "text": [
      "6069it [01:37, 152.90it/s]"
     ]
    },
    {
     "name": "stdout",
     "output_type": "stream",
     "text": [
      "0xf045c2 0xf05a02 jne short 00F045D2h 750e <class 'bytes'> 15746498 15751682 <class 'int'> JNE_REL8_32 | 52 <class 'bytes'>\n",
      "  new_ins :  7510 \n",
      "\n",
      "0xf045c7 0xf05a08 jne short 00F045D2h 7509 <class 'bytes'> 15746503 15751688 <class 'int'> JNE_REL8_32 | 52 <class 'bytes'>\n",
      "  new_ins :  750a \n",
      "\n",
      "0xf045cc 0xf05a0e je near ptr 00F04421h 0f844ffeffff <class 'bytes'> 15746508 15751694 <class 'int'> JE_REL32_32 | 52 <class 'bytes'>\n",
      "  new_ins :  0f84e4fdffff \n",
      "\n",
      "0xf045d8 0xf05a1c je short 00F045DCh 7402 <class 'bytes'> 15746520 15751708 <class 'int'> JE_REL8_32 | 52 <class 'bytes'>\n",
      "  new_ins :  7403 \n",
      "\n",
      "0xf045df 0xf05a25 je short 00F045E4h 7403 <class 'bytes'> 15746527 15751717 <class 'int'> JE_REL8_32 | 52 <class 'bytes'>\n",
      "  new_ins :  7404 \n",
      "\n",
      "0xf045e7 0xf05a2f je short 00F045ECh 7403 <class 'bytes'> 15746535 15751727 <class 'int'> JE_REL8_32 | 52 <class 'bytes'>\n",
      "  new_ins :  7404 \n",
      "\n",
      "0xf045ef 0xf05a39 je short 00F045F4h 7403 <class 'bytes'> 15746543 15751737 <class 'int'> JE_REL8_32 | 52 <class 'bytes'>\n",
      "  new_ins :  7404 \n",
      "\n",
      "0xf045f6 0xf05a42 jne short 00F0460Bh 7513 <class 'bytes'> 15746550 15751746 <class 'int'> JNE_REL8_32 | 52 <class 'bytes'>\n",
      "  new_ins :  7516 \n",
      "\n",
      "0xf045fb 0xf05a48 jne short 00F0460Bh 750e <class 'bytes'> 15746555 15751752 <class 'int'> JNE_REL8_32 | 52 <class 'bytes'>\n",
      "  new_ins :  7510 \n",
      "\n",
      "0xf04600 0xf05a4e jne short 00F0460Bh 7509 <class 'bytes'> 15746560 15751758 <class 'int'> JNE_REL8_32 | 52 <class 'bytes'>\n",
      "  new_ins :  750a \n",
      "\n",
      "0xf04605 0xf05a54 je near ptr 00F04421h 0f8416feffff <class 'bytes'> 15746565 15751764 <class 'int'> JE_REL32_32 | 52 <class 'bytes'>\n",
      "  new_ins :  0f849efdffff \n",
      "\n",
      "0xf04611 0xf05a62 je short 00F04615h 7402 <class 'bytes'> 15746577 15751778 <class 'int'> JE_REL8_32 | 52 <class 'bytes'>\n",
      "  new_ins :  7403 \n",
      "\n",
      "0xf04618 0xf05a6b je short 00F0461Dh 7403 <class 'bytes'> 15746584 15751787 <class 'int'> JE_REL8_32 | 52 <class 'bytes'>\n",
      "  new_ins :  7404 \n",
      "\n",
      "0xf04620 0xf05a75 je short 00F04625h 7403 <class 'bytes'> 15746592 15751797 <class 'int'> JE_REL8_32 | 52 <class 'bytes'>\n",
      "  new_ins :  7404 \n",
      "\n",
      "0xf04628 0xf05a7f je short 00F0462Dh 7403 <class 'bytes'> 15746600 15751807 <class 'int'> JE_REL8_32 | 52 <class 'bytes'>\n",
      "  new_ins :  7404 \n",
      "\n",
      "0xf0462f 0xf05a88 jne short 00F04644h 7513 <class 'bytes'> 15746607 15751816 <class 'int'> JNE_REL8_32 | 52 <class 'bytes'>\n",
      "  new_ins :  7516 \n",
      "\n",
      "0xf04634 0xf05a8e jne short 00F04644h 750e <class 'bytes'> 15746612 15751822 <class 'int'> JNE_REL8_32 | 52 <class 'bytes'>\n",
      "  new_ins :  7510 \n",
      "\n"
     ]
    },
    {
     "name": "stderr",
     "output_type": "stream",
     "text": [
      "6116it [01:37, 175.68it/s]"
     ]
    },
    {
     "name": "stdout",
     "output_type": "stream",
     "text": [
      "0xf04639 0xf05a94 jne short 00F04644h 7509 <class 'bytes'> 15746617 15751828 <class 'int'> JNE_REL8_32 | 52 <class 'bytes'>\n",
      "  new_ins :  750a \n",
      "\n",
      "0xf0463e 0xf05a9a je near ptr 00F04421h 0f84ddfdffff <class 'bytes'> 15746622 15751834 <class 'int'> JE_REL32_32 | 52 <class 'bytes'>\n",
      "  new_ins :  0f8458fdffff \n",
      "\n",
      "0xf0464a 0xf05aa8 je short 00F0464Eh 7402 <class 'bytes'> 15746634 15751848 <class 'int'> JE_REL8_32 | 52 <class 'bytes'>\n",
      "  new_ins :  7403 \n",
      "\n",
      "0xf04651 0xf05ab1 je short 00F04656h 7403 <class 'bytes'> 15746641 15751857 <class 'int'> JE_REL8_32 | 52 <class 'bytes'>\n",
      "  new_ins :  7404 \n",
      "\n",
      "0xf04659 0xf05abb je short 00F0465Eh 7403 <class 'bytes'> 15746649 15751867 <class 'int'> JE_REL8_32 | 52 <class 'bytes'>\n",
      "  new_ins :  7404 \n",
      "\n",
      "0xf04661 0xf05ac5 je short 00F04666h 7403 <class 'bytes'> 15746657 15751877 <class 'int'> JE_REL8_32 | 52 <class 'bytes'>\n",
      "  new_ins :  7404 \n",
      "\n",
      "0xf04668 0xf05ace jne short 00F0467Dh 7513 <class 'bytes'> 15746664 15751886 <class 'int'> JNE_REL8_32 | 52 <class 'bytes'>\n",
      "  new_ins :  7516 \n",
      "\n",
      "0xf0466d 0xf05ad4 jne short 00F0467Dh 750e <class 'bytes'> 15746669 15751892 <class 'int'> JNE_REL8_32 | 52 <class 'bytes'>\n",
      "  new_ins :  7510 \n",
      "\n",
      "0xf04672 0xf05ada jne short 00F0467Dh 7509 <class 'bytes'> 15746674 15751898 <class 'int'> JNE_REL8_32 | 52 <class 'bytes'>\n",
      "  new_ins :  750a \n",
      "\n",
      "0xf04677 0xf05ae0 je near ptr 00F04421h 0f84a4fdffff <class 'bytes'> 15746679 15751904 <class 'int'> JE_REL32_32 | 52 <class 'bytes'>\n",
      "  new_ins :  0f8412fdffff \n",
      "\n",
      "0xf04683 0xf05aee je short 00F04687h 7402 <class 'bytes'> 15746691 15751918 <class 'int'> JE_REL8_32 | 52 <class 'bytes'>\n",
      "  new_ins :  7403 \n",
      "\n",
      "0xf0468a 0xf05af7 je short 00F0468Fh 7403 <class 'bytes'> 15746698 15751927 <class 'int'> JE_REL8_32 | 52 <class 'bytes'>\n",
      "  new_ins :  7404 \n",
      "\n",
      "0xf04693 0xf05b03 jne short 00F046E0h 754b <class 'bytes'> 15746707 15751939 <class 'int'> JNE_REL8_32 | 52 <class 'bytes'>\n",
      "  new_ins :  7558 \n",
      "\n",
      "0xf0469a 0xf05b0c jne short 00F046E0h 7544 <class 'bytes'> 15746714 15751948 <class 'int'> JNE_REL8_32 | 52 <class 'bytes'>\n",
      "  new_ins :  754f \n",
      "\n",
      "0xf0469f 0xf05b12 jne short 00F046AAh 7509 <class 'bytes'> 15746719 15751954 <class 'int'> JNE_REL8_32 | 52 <class 'bytes'>\n",
      "  new_ins :  750a \n",
      "\n"
     ]
    },
    {
     "name": "stderr",
     "output_type": "stream",
     "text": [
      "6159it [01:37, 171.72it/s]"
     ]
    },
    {
     "name": "stdout",
     "output_type": "stream",
     "text": [
      "0xf046a4 0xf05b18 je near ptr 00F04421h 0f8477fdffff <class 'bytes'> 15746724 15751960 <class 'int'> JE_REL32_32 | 52 <class 'bytes'>\n",
      "  new_ins :  0f84dafcffff \n",
      "\n",
      "0xf046ac 0xf05b21 jne short 00F046E0h 7532 <class 'bytes'> 15746732 15751969 <class 'int'> JNE_REL8_32 | 52 <class 'bytes'>\n",
      "  new_ins :  753a \n",
      "\n",
      "0xf046b1 0xf05b27 jne short 00F046BCh 7509 <class 'bytes'> 15746737 15751975 <class 'int'> JNE_REL8_32 | 52 <class 'bytes'>\n",
      "  new_ins :  750a \n",
      "\n",
      "0xf046b6 0xf05b2d je near ptr 00F04421h 0f8465fdffff <class 'bytes'> 15746742 15751981 <class 'int'> JE_REL32_32 | 52 <class 'bytes'>\n",
      "  new_ins :  0f84c5fcffff \n",
      "\n",
      "0xf046be 0xf05b36 jne short 00F046E0h 7520 <class 'bytes'> 15746750 15751990 <class 'int'> JNE_REL8_32 | 52 <class 'bytes'>\n",
      "  new_ins :  7525 \n",
      "\n",
      "0xf046c3 0xf05b3c jne short 00F046CEh 7509 <class 'bytes'> 15746755 15751996 <class 'int'> JNE_REL8_32 | 52 <class 'bytes'>\n",
      "  new_ins :  750a \n",
      "\n",
      "0xf046c8 0xf05b42 je near ptr 00F04421h 0f8453fdffff <class 'bytes'> 15746760 15752002 <class 'int'> JE_REL32_32 | 52 <class 'bytes'>\n",
      "  new_ins :  0f84b0fcffff \n",
      "\n",
      "0xf046d0 0xf05b4b jne short 00F046E0h 750e <class 'bytes'> 15746768 15752011 <class 'int'> JNE_REL8_32 | 52 <class 'bytes'>\n",
      "  new_ins :  7510 \n",
      "\n",
      "0xf046d5 0xf05b51 jne short 00F046E0h 7509 <class 'bytes'> 15746773 15752017 <class 'int'> JNE_REL8_32 | 52 <class 'bytes'>\n",
      "  new_ins :  750a \n",
      "\n",
      "0xf046da 0xf05b57 je near ptr 00F04421h 0f8441fdffff <class 'bytes'> 15746778 15752023 <class 'int'> JE_REL32_32 | 52 <class 'bytes'>\n",
      "  new_ins :  0f849bfcffff \n",
      "\n",
      "0xf046e4 0xf05b62 je short 00F046E9h 7403 <class 'bytes'> 15746788 15752034 <class 'int'> JE_REL8_32 | 52 <class 'bytes'>\n",
      "  new_ins :  7404 \n",
      "\n",
      "0xf046eb 0xf05b6b jne short 00F04700h 7513 <class 'bytes'> 15746795 15752043 <class 'int'> JNE_REL8_32 | 52 <class 'bytes'>\n",
      "  new_ins :  7516 \n",
      "\n",
      "0xf046f0 0xf05b71 jne short 00F04700h 750e <class 'bytes'> 15746800 15752049 <class 'int'> JNE_REL8_32 | 52 <class 'bytes'>\n",
      "  new_ins :  7510 \n",
      "\n",
      "0xf046f5 0xf05b77 jne short 00F04700h 7509 <class 'bytes'> 15746805 15752055 <class 'int'> JNE_REL8_32 | 52 <class 'bytes'>\n",
      "  new_ins :  750a \n",
      "\n",
      "0xf046fa 0xf05b7d je near ptr 00F04421h 0f8421fdffff <class 'bytes'> 15746810 15752061 <class 'int'> JE_REL32_32 | 52 <class 'bytes'>\n",
      "  new_ins :  0f8475fcffff \n",
      "\n",
      "0xf04704 0xf05b88 je short 00F0470Ah 7404 <class 'bytes'> 15746820 15752072 <class 'int'> JE_REL8_32 | 52 <class 'bytes'>\n",
      "  new_ins :  7405 \n",
      "\n",
      "0xf04708 0xf05b8d jmp short 00F0470Eh eb04 <class 'bytes'> 15746824 15752077 <class 'int'> JMP_REL8_32 | 52 <class 'bytes'>\n",
      "  new_ins :  eb05 \n",
      "\n"
     ]
    },
    {
     "name": "stderr",
     "output_type": "stream",
     "text": [
      "6212it [01:38, 209.83it/s]"
     ]
    },
    {
     "name": "stdout",
     "output_type": "stream",
     "text": [
      "0xf0470c 0xf05b92 jne short 00F04721h 7513 <class 'bytes'> 15746828 15752082 <class 'int'> JNE_REL8_32 | 52 <class 'bytes'>\n",
      "  new_ins :  7516 \n",
      "\n",
      "0xf04711 0xf05b98 jne short 00F04721h 750e <class 'bytes'> 15746833 15752088 <class 'int'> JNE_REL8_32 | 52 <class 'bytes'>\n",
      "  new_ins :  7510 \n",
      "\n",
      "0xf04716 0xf05b9e jne short 00F04721h 7509 <class 'bytes'> 15746838 15752094 <class 'int'> JNE_REL8_32 | 52 <class 'bytes'>\n",
      "  new_ins :  750a \n",
      "\n",
      "0xf0471b 0xf05ba4 je near ptr 00F04421h 0f8400fdffff <class 'bytes'> 15746843 15752100 <class 'int'> JE_REL32_32 | 52 <class 'bytes'>\n",
      "  new_ins :  0f844efcffff \n",
      "\n",
      "0xf04725 0xf05baf je short 00F0472Bh 7404 <class 'bytes'> 15746853 15752111 <class 'int'> JE_REL8_32 | 52 <class 'bytes'>\n",
      "  new_ins :  7405 \n",
      "\n",
      "0xf04729 0xf05bb4 jmp short 00F0472Fh eb04 <class 'bytes'> 15746857 15752116 <class 'int'> JMP_REL8_32 | 52 <class 'bytes'>\n",
      "  new_ins :  eb05 \n",
      "\n",
      "0xf0472d 0xf05bb9 jne short 00F04742h 7513 <class 'bytes'> 15746861 15752121 <class 'int'> JNE_REL8_32 | 52 <class 'bytes'>\n",
      "  new_ins :  7516 \n",
      "\n",
      "0xf04732 0xf05bbf jne short 00F04742h 750e <class 'bytes'> 15746866 15752127 <class 'int'> JNE_REL8_32 | 52 <class 'bytes'>\n",
      "  new_ins :  7510 \n",
      "\n",
      "0xf04737 0xf05bc5 jne short 00F04742h 7509 <class 'bytes'> 15746871 15752133 <class 'int'> JNE_REL8_32 | 52 <class 'bytes'>\n",
      "  new_ins :  750a \n",
      "\n",
      "0xf0473c 0xf05bcb je near ptr 00F04421h 0f84dffcffff <class 'bytes'> 15746876 15752139 <class 'int'> JE_REL32_32 | 52 <class 'bytes'>\n",
      "  new_ins :  0f8427fcffff \n",
      "\n",
      "0xf0474e 0xf05be4 jno short 00F046D3h 7183 <class 'bytes'> 15746894 15752164 <class 'int'> JNO_REL8_32 | 56 <class 'bytes'>\n",
      "  new_ins :  0F8165ffffff \n",
      "\n",
      "0xf04761 0xf05c03 je short 00F04765h 7402 <class 'bytes'> 15746913 15752195 <class 'int'> JE_REL8_32 | 56 <class 'bytes'>\n",
      "  new_ins :  7403 \n",
      "\n",
      "0xf04768 0xf05c0c je short 00F0476Dh 7403 <class 'bytes'> 15746920 15752204 <class 'int'> JE_REL8_32 | 56 <class 'bytes'>\n",
      "  new_ins :  7404 \n",
      "\n",
      "0xf04770 0xf05c16 je short 00F04778h 7406 <class 'bytes'> 15746928 15752214 <class 'int'> JE_REL8_32 | 56 <class 'bytes'>\n",
      "  new_ins :  7408 \n",
      "\n",
      "0xf0477a 0xf05c23 jne short 00F04790h 7514 <class 'bytes'> 15746938 15752227 <class 'int'> JNE_REL8_32 | 56 <class 'bytes'>\n",
      "  new_ins :  751a \n",
      "\n",
      "0xf0477f 0xf05c29 jne short 00F04790h 750f <class 'bytes'> 15746943 15752233 <class 'int'> JNE_REL8_32 | 56 <class 'bytes'>\n",
      "  new_ins :  7514 \n",
      "\n",
      "0xf04784 0xf05c2f jne short 00F04790h 750a <class 'bytes'> 15746948 15752239 <class 'int'> JNE_REL8_32 | 56 <class 'bytes'>\n",
      "  new_ins :  750e \n",
      "\n"
     ]
    },
    {
     "name": "stderr",
     "output_type": "stream",
     "text": [
      "6267it [01:38, 235.06it/s]"
     ]
    },
    {
     "name": "stdout",
     "output_type": "stream",
     "text": [
      "0xf04789 0xf05c35 jne short 00F04790h 7505 <class 'bytes'> 15746953 15752245 <class 'int'> JNE_REL8_32 | 56 <class 'bytes'>\n",
      "  new_ins :  7508 \n",
      "\n",
      "0xf04796 0xf05c47 je short 00F0479Dh 7405 <class 'bytes'> 15746966 15752263 <class 'int'> JE_REL8_32 | 56 <class 'bytes'>\n",
      "  new_ins :  7407 \n",
      "\n",
      "0xf047a0 0xf05c54 je short 00F047A8h 7406 <class 'bytes'> 15746976 15752276 <class 'int'> JE_REL8_32 | 56 <class 'bytes'>\n",
      "  new_ins :  7408 \n",
      "\n",
      "0xf047aa 0xf05c61 jne short 00F047BBh 750f <class 'bytes'> 15746986 15752289 <class 'int'> JNE_REL8_32 | 56 <class 'bytes'>\n",
      "  new_ins :  7512 \n",
      "\n",
      "0xf047af 0xf05c67 jne short 00F047BBh 750a <class 'bytes'> 15746991 15752295 <class 'int'> JNE_REL8_32 | 56 <class 'bytes'>\n",
      "  new_ins :  750c \n",
      "\n",
      "0xf047b4 0xf05c6d jne short 00F047BBh 7505 <class 'bytes'> 15746996 15752301 <class 'int'> JNE_REL8_32 | 56 <class 'bytes'>\n",
      "  new_ins :  7506 \n",
      "\n",
      "0xf047b9 0xf05c73 je short 00F0478Bh 74d0 <class 'bytes'> 15747001 15752307 <class 'int'> JE_REL8_32 | 56 <class 'bytes'>\n",
      "  new_ins :  74c2 \n",
      "\n",
      "0xf047c1 0xf05c7d je short 00F047C5h 7402 <class 'bytes'> 15747009 15752317 <class 'int'> JE_REL8_32 | 56 <class 'bytes'>\n",
      "  new_ins :  7403 \n",
      "\n",
      "0xf047c8 0xf05c86 je short 00F047CDh 7403 <class 'bytes'> 15747016 15752326 <class 'int'> JE_REL8_32 | 56 <class 'bytes'>\n",
      "  new_ins :  7404 \n",
      "\n",
      "0xf047d0 0xf05c90 je short 00F047D8h 7406 <class 'bytes'> 15747024 15752336 <class 'int'> JE_REL8_32 | 56 <class 'bytes'>\n",
      "  new_ins :  7408 \n",
      "\n",
      "0xf047da 0xf05c9d jne short 00F047EBh 750f <class 'bytes'> 15747034 15752349 <class 'int'> JNE_REL8_32 | 56 <class 'bytes'>\n",
      "  new_ins :  7512 \n",
      "\n",
      "0xf047df 0xf05ca3 jne short 00F047EBh 750a <class 'bytes'> 15747039 15752355 <class 'int'> JNE_REL8_32 | 56 <class 'bytes'>\n",
      "  new_ins :  750c \n",
      "\n",
      "0xf047e4 0xf05ca9 jne short 00F047EBh 7505 <class 'bytes'> 15747044 15752361 <class 'int'> JNE_REL8_32 | 56 <class 'bytes'>\n",
      "  new_ins :  7506 \n",
      "\n",
      "0xf047e9 0xf05caf je short 00F0478Bh 74a0 <class 'bytes'> 15747049 15752367 <class 'int'> JE_REL8_32 | 56 <class 'bytes'>\n",
      "  new_ins :  7486 \n",
      "\n",
      "0xf047f1 0xf05cb9 je short 00F047F5h 7402 <class 'bytes'> 15747057 15752377 <class 'int'> JE_REL8_32 | 56 <class 'bytes'>\n",
      "  new_ins :  7403 \n",
      "\n",
      "0xf047f8 0xf05cc2 je short 00F047FDh 7403 <class 'bytes'> 15747064 15752386 <class 'int'> JE_REL8_32 | 56 <class 'bytes'>\n",
      "  new_ins :  7404 \n",
      "\n",
      "0xf04800 0xf05ccc je short 00F04808h 7406 <class 'bytes'> 15747072 15752396 <class 'int'> JE_REL8_32 | 56 <class 'bytes'>\n",
      "  new_ins :  7408 \n",
      "\n",
      "0xf0480a 0xf05cd9 jne short 00F0481Fh 7513 <class 'bytes'> 15747082 15752409 <class 'int'> JNE_REL8_32 | 56 <class 'bytes'>\n",
      "  new_ins :  7516 \n",
      "\n"
     ]
    },
    {
     "name": "stderr",
     "output_type": "stream",
     "text": [
      "6317it [01:38, 233.57it/s]"
     ]
    },
    {
     "name": "stdout",
     "output_type": "stream",
     "text": [
      "0xf0480f 0xf05cdf jne short 00F0481Fh 750e <class 'bytes'> 15747087 15752415 <class 'int'> JNE_REL8_32 | 56 <class 'bytes'>\n",
      "  new_ins :  7510 \n",
      "\n",
      "0xf04814 0xf05ce5 jne short 00F0481Fh 7509 <class 'bytes'> 15747092 15752421 <class 'int'> JNE_REL8_32 | 56 <class 'bytes'>\n",
      "  new_ins :  750a \n",
      "\n",
      "0xf04819 0xf05ceb je near ptr 00F0478Bh 0f846cffffff <class 'bytes'> 15747097 15752427 <class 'int'> JE_REL32_32 | 56 <class 'bytes'>\n",
      "  new_ins :  0f8446ffffff \n",
      "\n",
      "0xf04825 0xf05cf9 je short 00F04829h 7402 <class 'bytes'> 15747109 15752441 <class 'int'> JE_REL8_32 | 56 <class 'bytes'>\n",
      "  new_ins :  7403 \n",
      "\n",
      "0xf0482c 0xf05d02 je short 00F04831h 7403 <class 'bytes'> 15747116 15752450 <class 'int'> JE_REL8_32 | 56 <class 'bytes'>\n",
      "  new_ins :  7404 \n",
      "\n",
      "0xf04834 0xf05d0c je short 00F0483Ch 7406 <class 'bytes'> 15747124 15752460 <class 'int'> JE_REL8_32 | 56 <class 'bytes'>\n",
      "  new_ins :  7408 \n",
      "\n",
      "0xf0483e 0xf05d19 jne short 00F04853h 7513 <class 'bytes'> 15747134 15752473 <class 'int'> JNE_REL8_32 | 56 <class 'bytes'>\n",
      "  new_ins :  7516 \n",
      "\n",
      "0xf04843 0xf05d1f jne short 00F04853h 750e <class 'bytes'> 15747139 15752479 <class 'int'> JNE_REL8_32 | 56 <class 'bytes'>\n",
      "  new_ins :  7510 \n",
      "\n",
      "0xf04848 0xf05d25 jne short 00F04853h 7509 <class 'bytes'> 15747144 15752485 <class 'int'> JNE_REL8_32 | 56 <class 'bytes'>\n",
      "  new_ins :  750a \n",
      "\n",
      "0xf0484d 0xf05d2b je near ptr 00F0478Bh 0f8438ffffff <class 'bytes'> 15747149 15752491 <class 'int'> JE_REL32_32 | 56 <class 'bytes'>\n",
      "  new_ins :  0f8406ffffff \n",
      "\n",
      "0xf04859 0xf05d39 je short 00F0485Dh 7402 <class 'bytes'> 15747161 15752505 <class 'int'> JE_REL8_32 | 56 <class 'bytes'>\n",
      "  new_ins :  7403 \n",
      "\n",
      "0xf04860 0xf05d42 je short 00F04865h 7403 <class 'bytes'> 15747168 15752514 <class 'int'> JE_REL8_32 | 56 <class 'bytes'>\n",
      "  new_ins :  7404 \n",
      "\n",
      "0xf04868 0xf05d4c je short 00F0486Dh 7403 <class 'bytes'> 15747176 15752524 <class 'int'> JE_REL8_32 | 56 <class 'bytes'>\n",
      "  new_ins :  7404 \n",
      "\n",
      "0xf04870 0xf05d56 je short 00F04875h 7403 <class 'bytes'> 15747184 15752534 <class 'int'> JE_REL8_32 | 56 <class 'bytes'>\n",
      "  new_ins :  7404 \n",
      "\n",
      "0xf04877 0xf05d5f jne short 00F0488Ch 7513 <class 'bytes'> 15747191 15752543 <class 'int'> JNE_REL8_32 | 56 <class 'bytes'>\n",
      "  new_ins :  7516 \n",
      "\n",
      "0xf0487c 0xf05d65 jne short 00F0488Ch 750e <class 'bytes'> 15747196 15752549 <class 'int'> JNE_REL8_32 | 56 <class 'bytes'>\n",
      "  new_ins :  7510 \n",
      "\n",
      "0xf04881 0xf05d6b jne short 00F0488Ch 7509 <class 'bytes'> 15747201 15752555 <class 'int'> JNE_REL8_32 | 56 <class 'bytes'>\n",
      "  new_ins :  750a \n",
      "\n",
      "0xf04886 0xf05d71 je near ptr 00F0478Bh 0f84fffeffff <class 'bytes'> 15747206 15752561 <class 'int'> JE_REL32_32 | 56 <class 'bytes'>\n",
      "  new_ins :  0f84c0feffff \n",
      "\n"
     ]
    },
    {
     "name": "stderr",
     "output_type": "stream",
     "text": [
      "6365it [01:38, 234.18it/s]"
     ]
    },
    {
     "name": "stdout",
     "output_type": "stream",
     "text": [
      "0xf04892 0xf05d7f je short 00F04896h 7402 <class 'bytes'> 15747218 15752575 <class 'int'> JE_REL8_32 | 56 <class 'bytes'>\n",
      "  new_ins :  7403 \n",
      "\n",
      "0xf04899 0xf05d88 je short 00F0489Eh 7403 <class 'bytes'> 15747225 15752584 <class 'int'> JE_REL8_32 | 56 <class 'bytes'>\n",
      "  new_ins :  7404 \n",
      "\n",
      "0xf048a1 0xf05d92 je short 00F048A6h 7403 <class 'bytes'> 15747233 15752594 <class 'int'> JE_REL8_32 | 56 <class 'bytes'>\n",
      "  new_ins :  7404 \n",
      "\n",
      "0xf048a9 0xf05d9c je short 00F048AEh 7403 <class 'bytes'> 15747241 15752604 <class 'int'> JE_REL8_32 | 56 <class 'bytes'>\n",
      "  new_ins :  7404 \n",
      "\n",
      "0xf048b0 0xf05da5 jne short 00F048C5h 7513 <class 'bytes'> 15747248 15752613 <class 'int'> JNE_REL8_32 | 56 <class 'bytes'>\n",
      "  new_ins :  7516 \n",
      "\n",
      "0xf048b5 0xf05dab jne short 00F048C5h 750e <class 'bytes'> 15747253 15752619 <class 'int'> JNE_REL8_32 | 56 <class 'bytes'>\n",
      "  new_ins :  7510 \n",
      "\n",
      "0xf048ba 0xf05db1 jne short 00F048C5h 7509 <class 'bytes'> 15747258 15752625 <class 'int'> JNE_REL8_32 | 56 <class 'bytes'>\n",
      "  new_ins :  750a \n",
      "\n",
      "0xf048bf 0xf05db7 je near ptr 00F0478Bh 0f84c6feffff <class 'bytes'> 15747263 15752631 <class 'int'> JE_REL32_32 | 56 <class 'bytes'>\n",
      "  new_ins :  0f847afeffff \n",
      "\n",
      "0xf048cb 0xf05dc5 je short 00F048CFh 7402 <class 'bytes'> 15747275 15752645 <class 'int'> JE_REL8_32 | 56 <class 'bytes'>\n",
      "  new_ins :  7403 \n",
      "\n",
      "0xf048d2 0xf05dce je short 00F048D7h 7403 <class 'bytes'> 15747282 15752654 <class 'int'> JE_REL8_32 | 56 <class 'bytes'>\n",
      "  new_ins :  7404 \n",
      "\n",
      "0xf048da 0xf05dd8 je short 00F048DFh 7403 <class 'bytes'> 15747290 15752664 <class 'int'> JE_REL8_32 | 56 <class 'bytes'>\n",
      "  new_ins :  7404 \n",
      "\n",
      "0xf048e1 0xf05de1 jne short 00F048F6h 7513 <class 'bytes'> 15747297 15752673 <class 'int'> JNE_REL8_32 | 56 <class 'bytes'>\n",
      "  new_ins :  7516 \n",
      "\n",
      "0xf048e6 0xf05de7 jne short 00F048F6h 750e <class 'bytes'> 15747302 15752679 <class 'int'> JNE_REL8_32 | 56 <class 'bytes'>\n",
      "  new_ins :  7510 \n",
      "\n",
      "0xf048eb 0xf05ded jne short 00F048F6h 7509 <class 'bytes'> 15747307 15752685 <class 'int'> JNE_REL8_32 | 56 <class 'bytes'>\n",
      "  new_ins :  750a \n",
      "\n",
      "0xf048f0 0xf05df3 je near ptr 00F0478Bh 0f8495feffff <class 'bytes'> 15747312 15752691 <class 'int'> JE_REL32_32 | 56 <class 'bytes'>\n",
      "  new_ins :  0f843efeffff \n",
      "\n",
      "0xf048fc 0xf05e01 je short 00F04900h 7402 <class 'bytes'> 15747324 15752705 <class 'int'> JE_REL8_32 | 56 <class 'bytes'>\n",
      "  new_ins :  7403 \n",
      "\n",
      "0xf04903 0xf05e0a je short 00F04908h 7403 <class 'bytes'> 15747331 15752714 <class 'int'> JE_REL8_32 | 56 <class 'bytes'>\n",
      "  new_ins :  7404 \n",
      "\n",
      "0xf0490b 0xf05e14 je short 00F04910h 7403 <class 'bytes'> 15747339 15752724 <class 'int'> JE_REL8_32 | 56 <class 'bytes'>\n",
      "  new_ins :  7404 \n",
      "\n"
     ]
    },
    {
     "name": "stderr",
     "output_type": "stream",
     "text": [
      "6413it [01:38, 230.54it/s]"
     ]
    },
    {
     "name": "stdout",
     "output_type": "stream",
     "text": [
      "0xf04913 0xf05e1e je short 00F04918h 7403 <class 'bytes'> 15747347 15752734 <class 'int'> JE_REL8_32 | 56 <class 'bytes'>\n",
      "  new_ins :  7404 \n",
      "\n",
      "0xf0491a 0xf05e27 jne short 00F0492Fh 7513 <class 'bytes'> 15747354 15752743 <class 'int'> JNE_REL8_32 | 56 <class 'bytes'>\n",
      "  new_ins :  7516 \n",
      "\n",
      "0xf0491f 0xf05e2d jne short 00F0492Fh 750e <class 'bytes'> 15747359 15752749 <class 'int'> JNE_REL8_32 | 56 <class 'bytes'>\n",
      "  new_ins :  7510 \n",
      "\n",
      "0xf04924 0xf05e33 jne short 00F0492Fh 7509 <class 'bytes'> 15747364 15752755 <class 'int'> JNE_REL8_32 | 56 <class 'bytes'>\n",
      "  new_ins :  750a \n",
      "\n",
      "0xf04929 0xf05e39 je near ptr 00F0478Bh 0f845cfeffff <class 'bytes'> 15747369 15752761 <class 'int'> JE_REL32_32 | 56 <class 'bytes'>\n",
      "  new_ins :  0f84f8fdffff \n",
      "\n",
      "0xf04935 0xf05e47 je short 00F04939h 7402 <class 'bytes'> 15747381 15752775 <class 'int'> JE_REL8_32 | 56 <class 'bytes'>\n",
      "  new_ins :  7403 \n",
      "\n",
      "0xf0493c 0xf05e50 je short 00F04941h 7403 <class 'bytes'> 15747388 15752784 <class 'int'> JE_REL8_32 | 56 <class 'bytes'>\n",
      "  new_ins :  7404 \n",
      "\n",
      "0xf04944 0xf05e5a je short 00F04949h 7403 <class 'bytes'> 15747396 15752794 <class 'int'> JE_REL8_32 | 56 <class 'bytes'>\n",
      "  new_ins :  7404 \n",
      "\n",
      "0xf0494c 0xf05e64 je short 00F04951h 7403 <class 'bytes'> 15747404 15752804 <class 'int'> JE_REL8_32 | 56 <class 'bytes'>\n",
      "  new_ins :  7404 \n",
      "\n",
      "0xf04953 0xf05e6d jne short 00F04968h 7513 <class 'bytes'> 15747411 15752813 <class 'int'> JNE_REL8_32 | 56 <class 'bytes'>\n",
      "  new_ins :  7516 \n",
      "\n",
      "0xf04958 0xf05e73 jne short 00F04968h 750e <class 'bytes'> 15747416 15752819 <class 'int'> JNE_REL8_32 | 56 <class 'bytes'>\n",
      "  new_ins :  7510 \n",
      "\n",
      "0xf0495d 0xf05e79 jne short 00F04968h 7509 <class 'bytes'> 15747421 15752825 <class 'int'> JNE_REL8_32 | 56 <class 'bytes'>\n",
      "  new_ins :  750a \n",
      "\n",
      "0xf04962 0xf05e7f je near ptr 00F0478Bh 0f8423feffff <class 'bytes'> 15747426 15752831 <class 'int'> JE_REL32_32 | 56 <class 'bytes'>\n",
      "  new_ins :  0f84b2fdffff \n",
      "\n",
      "0xf0496e 0xf05e8d je short 00F04972h 7402 <class 'bytes'> 15747438 15752845 <class 'int'> JE_REL8_32 | 56 <class 'bytes'>\n",
      "  new_ins :  7403 \n",
      "\n",
      "0xf04975 0xf05e96 je short 00F0497Ah 7403 <class 'bytes'> 15747445 15752854 <class 'int'> JE_REL8_32 | 56 <class 'bytes'>\n",
      "  new_ins :  7404 \n",
      "\n",
      "0xf0497d 0xf05ea0 je short 00F04982h 7403 <class 'bytes'> 15747453 15752864 <class 'int'> JE_REL8_32 | 56 <class 'bytes'>\n",
      "  new_ins :  7404 \n",
      "\n",
      "0xf04985 0xf05eaa je short 00F0498Ah 7403 <class 'bytes'> 15747461 15752874 <class 'int'> JE_REL8_32 | 56 <class 'bytes'>\n",
      "  new_ins :  7404 \n",
      "\n",
      "0xf0498c 0xf05eb3 jne short 00F049A1h 7513 <class 'bytes'> 15747468 15752883 <class 'int'> JNE_REL8_32 | 56 <class 'bytes'>\n",
      "  new_ins :  7516 \n",
      "\n",
      "0xf04991 0xf05eb9 jne short 00F049A1h 750e <class 'bytes'> 15747473 15752889 <class 'int'> JNE_REL8_32 | 56 <class 'bytes'>\n",
      "  new_ins :  7510 \n",
      "\n",
      "0xf04996 0xf05ebf jne short 00F049A1h 7509 <class 'bytes'> 15747478 15752895 <class 'int'> JNE_REL8_32 | 56 <class 'bytes'>\n",
      "  new_ins :  750a \n",
      "\n"
     ]
    },
    {
     "name": "stderr",
     "output_type": "stream",
     "text": [
      "6460it [01:39, 223.43it/s]"
     ]
    },
    {
     "name": "stdout",
     "output_type": "stream",
     "text": [
      "0xf0499b 0xf05ec5 je near ptr 00F0478Bh 0f84eafdffff <class 'bytes'> 15747483 15752901 <class 'int'> JE_REL32_32 | 56 <class 'bytes'>\n",
      "  new_ins :  0f846cfdffff \n",
      "\n",
      "0xf049a7 0xf05ed3 je short 00F049ABh 7402 <class 'bytes'> 15747495 15752915 <class 'int'> JE_REL8_32 | 56 <class 'bytes'>\n",
      "  new_ins :  7403 \n",
      "\n",
      "0xf049ae 0xf05edc je short 00F049B3h 7403 <class 'bytes'> 15747502 15752924 <class 'int'> JE_REL8_32 | 56 <class 'bytes'>\n",
      "  new_ins :  7404 \n",
      "\n",
      "0xf049b6 0xf05ee6 je short 00F049BBh 7403 <class 'bytes'> 15747510 15752934 <class 'int'> JE_REL8_32 | 56 <class 'bytes'>\n",
      "  new_ins :  7404 \n",
      "\n",
      "0xf049be 0xf05ef0 je short 00F049C3h 7403 <class 'bytes'> 15747518 15752944 <class 'int'> JE_REL8_32 | 56 <class 'bytes'>\n",
      "  new_ins :  7404 \n",
      "\n",
      "0xf049c5 0xf05ef9 jne short 00F049DAh 7513 <class 'bytes'> 15747525 15752953 <class 'int'> JNE_REL8_32 | 56 <class 'bytes'>\n",
      "  new_ins :  7516 \n",
      "\n",
      "0xf049ca 0xf05eff jne short 00F049DAh 750e <class 'bytes'> 15747530 15752959 <class 'int'> JNE_REL8_32 | 56 <class 'bytes'>\n",
      "  new_ins :  7510 \n",
      "\n",
      "0xf049cf 0xf05f05 jne short 00F049DAh 7509 <class 'bytes'> 15747535 15752965 <class 'int'> JNE_REL8_32 | 56 <class 'bytes'>\n",
      "  new_ins :  750a \n",
      "\n",
      "0xf049d4 0xf05f0b je near ptr 00F0478Bh 0f84b1fdffff <class 'bytes'> 15747540 15752971 <class 'int'> JE_REL32_32 | 56 <class 'bytes'>\n",
      "  new_ins :  0f8426fdffff \n",
      "\n",
      "0xf049e0 0xf05f19 je short 00F049E4h 7402 <class 'bytes'> 15747552 15752985 <class 'int'> JE_REL8_32 | 56 <class 'bytes'>\n",
      "  new_ins :  7403 \n",
      "\n",
      "0xf049e7 0xf05f22 je short 00F049ECh 7403 <class 'bytes'> 15747559 15752994 <class 'int'> JE_REL8_32 | 56 <class 'bytes'>\n",
      "  new_ins :  7404 \n",
      "\n",
      "0xf049ef 0xf05f2c je short 00F049F4h 7403 <class 'bytes'> 15747567 15753004 <class 'int'> JE_REL8_32 | 56 <class 'bytes'>\n",
      "  new_ins :  7404 \n",
      "\n",
      "0xf049f6 0xf05f35 jne short 00F04A0Bh 7513 <class 'bytes'> 15747574 15753013 <class 'int'> JNE_REL8_32 | 56 <class 'bytes'>\n",
      "  new_ins :  7516 \n",
      "\n",
      "0xf049fb 0xf05f3b jne short 00F04A0Bh 750e <class 'bytes'> 15747579 15753019 <class 'int'> JNE_REL8_32 | 56 <class 'bytes'>\n",
      "  new_ins :  7510 \n",
      "\n",
      "0xf04a00 0xf05f41 jne short 00F04A0Bh 7509 <class 'bytes'> 15747584 15753025 <class 'int'> JNE_REL8_32 | 56 <class 'bytes'>\n",
      "  new_ins :  750a \n",
      "\n",
      "0xf04a05 0xf05f47 je near ptr 00F0478Bh 0f8480fdffff <class 'bytes'> 15747589 15753031 <class 'int'> JE_REL32_32 | 56 <class 'bytes'>\n",
      "  new_ins :  0f84eafcffff \n",
      "\n",
      "0xf04a11 0xf05f55 je short 00F04A15h 7402 <class 'bytes'> 15747601 15753045 <class 'int'> JE_REL8_32 | 56 <class 'bytes'>\n",
      "  new_ins :  7403 \n",
      "\n"
     ]
    },
    {
     "name": "stderr",
     "output_type": "stream",
     "text": [
      "6505it [01:39, 215.79it/s]"
     ]
    },
    {
     "name": "stdout",
     "output_type": "stream",
     "text": [
      "0xf04a18 0xf05f5e je short 00F04A1Dh 7403 <class 'bytes'> 15747608 15753054 <class 'int'> JE_REL8_32 | 56 <class 'bytes'>\n",
      "  new_ins :  7404 \n",
      "\n",
      "0xf04a1f 0xf05f67 jne short 00F04A34h 7513 <class 'bytes'> 15747615 15753063 <class 'int'> JNE_REL8_32 | 56 <class 'bytes'>\n",
      "  new_ins :  7516 \n",
      "\n",
      "0xf04a24 0xf05f6d jne short 00F04A34h 750e <class 'bytes'> 15747620 15753069 <class 'int'> JNE_REL8_32 | 56 <class 'bytes'>\n",
      "  new_ins :  7510 \n",
      "\n",
      "0xf04a29 0xf05f73 jne short 00F04A34h 7509 <class 'bytes'> 15747625 15753075 <class 'int'> JNE_REL8_32 | 56 <class 'bytes'>\n",
      "  new_ins :  750a \n",
      "\n",
      "0xf04a2e 0xf05f79 je near ptr 00F0478Bh 0f8457fdffff <class 'bytes'> 15747630 15753081 <class 'int'> JE_REL32_32 | 56 <class 'bytes'>\n",
      "  new_ins :  0f84b8fcffff \n",
      "\n",
      "0xf04a3a 0xf05f87 je short 00F04A3Eh 7402 <class 'bytes'> 15747642 15753095 <class 'int'> JE_REL8_32 | 56 <class 'bytes'>\n",
      "  new_ins :  7403 \n",
      "\n",
      "0xf04a41 0xf05f90 je short 00F04A46h 7403 <class 'bytes'> 15747649 15753104 <class 'int'> JE_REL8_32 | 56 <class 'bytes'>\n",
      "  new_ins :  7404 \n",
      "\n",
      "0xf04a48 0xf05f99 jne short 00F04A5Dh 7513 <class 'bytes'> 15747656 15753113 <class 'int'> JNE_REL8_32 | 56 <class 'bytes'>\n",
      "  new_ins :  7516 \n",
      "\n",
      "0xf04a4d 0xf05f9f jne short 00F04A5Dh 750e <class 'bytes'> 15747661 15753119 <class 'int'> JNE_REL8_32 | 56 <class 'bytes'>\n",
      "  new_ins :  7510 \n",
      "\n",
      "0xf04a52 0xf05fa5 jne short 00F04A5Dh 7509 <class 'bytes'> 15747666 15753125 <class 'int'> JNE_REL8_32 | 56 <class 'bytes'>\n",
      "  new_ins :  750a \n",
      "\n",
      "0xf04a57 0xf05fab je near ptr 00F0478Bh 0f842efdffff <class 'bytes'> 15747671 15753131 <class 'int'> JE_REL32_32 | 56 <class 'bytes'>\n",
      "  new_ins :  0f8486fcffff \n",
      "\n",
      "0xf04a63 0xf05fb9 je short 00F04A67h 7402 <class 'bytes'> 15747683 15753145 <class 'int'> JE_REL8_32 | 56 <class 'bytes'>\n",
      "  new_ins :  7403 \n",
      "\n",
      "0xf04a6a 0xf05fc2 je short 00F04A6Fh 7403 <class 'bytes'> 15747690 15753154 <class 'int'> JE_REL8_32 | 56 <class 'bytes'>\n",
      "  new_ins :  7404 \n",
      "\n",
      "0xf04a71 0xf05fcb jne short 00F04A86h 7513 <class 'bytes'> 15747697 15753163 <class 'int'> JNE_REL8_32 | 56 <class 'bytes'>\n",
      "  new_ins :  7516 \n",
      "\n",
      "0xf04a76 0xf05fd1 jne short 00F04A86h 750e <class 'bytes'> 15747702 15753169 <class 'int'> JNE_REL8_32 | 56 <class 'bytes'>\n",
      "  new_ins :  7510 \n",
      "\n",
      "0xf04a7b 0xf05fd7 jne short 00F04A86h 7509 <class 'bytes'> 15747707 15753175 <class 'int'> JNE_REL8_32 | 56 <class 'bytes'>\n",
      "  new_ins :  750a \n",
      "\n",
      "0xf04a80 0xf05fdd je near ptr 00F0478Bh 0f8405fdffff <class 'bytes'> 15747712 15753181 <class 'int'> JE_REL32_32 | 56 <class 'bytes'>\n",
      "  new_ins :  0f8454fcffff \n",
      "\n",
      "0xf04a8c 0xf05feb je short 00F04A90h 7402 <class 'bytes'> 15747724 15753195 <class 'int'> JE_REL8_32 | 56 <class 'bytes'>\n",
      "  new_ins :  7403 \n",
      "\n"
     ]
    },
    {
     "name": "stderr",
     "output_type": "stream",
     "text": [
      "6551it [01:39, 220.13it/s]"
     ]
    },
    {
     "name": "stdout",
     "output_type": "stream",
     "text": [
      "0xf04a93 0xf05ff4 je short 00F04A98h 7403 <class 'bytes'> 15747731 15753204 <class 'int'> JE_REL8_32 | 56 <class 'bytes'>\n",
      "  new_ins :  7404 \n",
      "\n",
      "0xf04a9b 0xf05ffe je short 00F04AA0h 7403 <class 'bytes'> 15747739 15753214 <class 'int'> JE_REL8_32 | 56 <class 'bytes'>\n",
      "  new_ins :  7404 \n",
      "\n",
      "0xf04aa4 0xf0600a jne short 00F04AB9h 7513 <class 'bytes'> 15747748 15753226 <class 'int'> JNE_REL8_32 | 56 <class 'bytes'>\n",
      "  new_ins :  7516 \n",
      "\n",
      "0xf04aa9 0xf06010 jne short 00F04AB9h 750e <class 'bytes'> 15747753 15753232 <class 'int'> JNE_REL8_32 | 56 <class 'bytes'>\n",
      "  new_ins :  7510 \n",
      "\n",
      "0xf04aae 0xf06016 jne short 00F04AB9h 7509 <class 'bytes'> 15747758 15753238 <class 'int'> JNE_REL8_32 | 56 <class 'bytes'>\n",
      "  new_ins :  750a \n",
      "\n",
      "0xf04ab3 0xf0601c je near ptr 00F0478Bh 0f84d2fcffff <class 'bytes'> 15747763 15753244 <class 'int'> JE_REL32_32 | 56 <class 'bytes'>\n",
      "  new_ins :  0f8415fcffff \n",
      "\n",
      "0xf04abd 0xf06027 je short 00F04AC2h 7403 <class 'bytes'> 15747773 15753255 <class 'int'> JE_REL8_32 | 56 <class 'bytes'>\n",
      "  new_ins :  7404 \n",
      "\n",
      "0xf04ac4 0xf06030 jne short 00F04AD9h 7513 <class 'bytes'> 15747780 15753264 <class 'int'> JNE_REL8_32 | 56 <class 'bytes'>\n",
      "  new_ins :  7516 \n",
      "\n",
      "0xf04ac9 0xf06036 jne short 00F04AD9h 750e <class 'bytes'> 15747785 15753270 <class 'int'> JNE_REL8_32 | 56 <class 'bytes'>\n",
      "  new_ins :  7510 \n",
      "\n",
      "0xf04ace 0xf0603c jne short 00F04AD9h 7509 <class 'bytes'> 15747790 15753276 <class 'int'> JNE_REL8_32 | 56 <class 'bytes'>\n",
      "  new_ins :  750a \n",
      "\n",
      "0xf04ad3 0xf06042 je near ptr 00F0478Bh 0f84b2fcffff <class 'bytes'> 15747795 15753282 <class 'int'> JE_REL32_32 | 56 <class 'bytes'>\n",
      "  new_ins :  0f84effbffff \n",
      "\n",
      "0xf04add 0xf0604d je short 00F04AE2h 7403 <class 'bytes'> 15747805 15753293 <class 'int'> JE_REL8_32 | 56 <class 'bytes'>\n",
      "  new_ins :  7404 \n",
      "\n",
      "0xf04ae4 0xf06056 jne short 00F04AF9h 7513 <class 'bytes'> 15747812 15753302 <class 'int'> JNE_REL8_32 | 56 <class 'bytes'>\n",
      "  new_ins :  7516 \n",
      "\n",
      "0xf04ae9 0xf0605c jne short 00F04AF9h 750e <class 'bytes'> 15747817 15753308 <class 'int'> JNE_REL8_32 | 56 <class 'bytes'>\n",
      "  new_ins :  7510 \n",
      "\n",
      "0xf04aee 0xf06062 jne short 00F04AF9h 7509 <class 'bytes'> 15747822 15753314 <class 'int'> JNE_REL8_32 | 56 <class 'bytes'>\n",
      "  new_ins :  750a \n",
      "\n",
      "0xf04af3 0xf06068 je near ptr 00F0478Bh 0f8492fcffff <class 'bytes'> 15747827 15753320 <class 'int'> JE_REL32_32 | 56 <class 'bytes'>\n",
      "  new_ins :  0f84c9fbffff \n",
      "\n",
      "0xf04b03 0xf0607c jl short 00F04AD4h 7ccf <class 'bytes'> 15747843 15753340 <class 'int'> JL_REL8_32 | 56 <class 'bytes'>\n",
      "  new_ins :  7cc5 \n",
      "\n",
      "0xf04b23 0xf060a5 call 00F04280h e858f7ffff <class 'bytes'> 15747875 15753381 <class 'int'> CALL_REL32_32 | 56 <class 'bytes'>\n",
      "  new_ins :  e833f5ffff \n",
      "\n"
     ]
    },
    {
     "name": "stderr",
     "output_type": "stream",
     "text": [
      "6574it [01:43, 19.72it/s] "
     ]
    },
    {
     "name": "stdout",
     "output_type": "stream",
     "text": [
      "0xf04b36 0xf060bd call 00F19B30h e8f54f0100 <class 'bytes'> 15747894 15753405 <class 'int'> CALL_REL32_32 | 56 <class 'bytes'>\n",
      "  new_ins :  e86eb60100 \n",
      "\n",
      "0xf04b40 0xf060c9 jne short 00F04B48h 7506 <class 'bytes'> 15747904 15753417 <class 'int'> JNE_REL8_32 | 56 <class 'bytes'>\n",
      "  new_ins :  750a \n",
      "\n",
      "0xf04b5e 0xf060f2 je short 00F04BBAh 745a <class 'bytes'> 15747934 15753458 <class 'int'> JE_REL8_32 | 56 <class 'bytes'>\n",
      "  new_ins :  7474 \n",
      "\n",
      "0xf04b64 0xf060fa je near ptr 00F04C5Ch 0f84f2000000 <class 'bytes'> 15747940 15753466 <class 'int'> JE_REL32_32 | 56 <class 'bytes'>\n",
      "  new_ins :  0f843a010000 \n",
      "\n",
      "0xf04b74 0xf0610d jne short 00F04BAAh 7534 <class 'bytes'> 15747956 15753485 <class 'int'> JNE_REL8_32 | 56 <class 'bytes'>\n",
      "  new_ins :  7541 \n",
      "\n",
      "0xf04b80 0xf0611b jne short 00F04BAAh 7528 <class 'bytes'> 15747968 15753499 <class 'int'> JNE_REL8_32 | 56 <class 'bytes'>\n",
      "  new_ins :  7533 \n",
      "\n",
      "0xf04b97 0xf0613a call 00F04750h e8b4fbffff <class 'bytes'> 15747991 15753530 <class 'int'> CALL_REL32_32 | 56 <class 'bytes'>\n",
      "  new_ins :  e8abfaffff \n",
      "\n",
      "0xf04ba1 0xf06146 jne near ptr 00F04C57h 0f85b0000000 <class 'bytes'> 15748001 15753542 <class 'int'> JNE_REL32_32 | 56 <class 'bytes'>\n",
      "  new_ins :  0f85e7000000 \n",
      "\n",
      "0xf04bae 0xf06156 jb short 00F04B70h 72c0 <class 'bytes'> 15748014 15753558 <class 'int'> JB_REL8_32 | 56 <class 'bytes'>\n",
      "  new_ins :  72b0 \n",
      "\n",
      "0xf04bc1 0xf06172 je short 00F04C0Bh 7448 <class 'bytes'> 15748033 15753586 <class 'int'> JE_REL8_32 | 56 <class 'bytes'>\n",
      "  new_ins :  745b \n",
      "\n",
      "0xf04bc7 0xf06179 jne short 00F04BF9h 7530 <class 'bytes'> 15748039 15753593 <class 'int'> JNE_REL8_32 | 56 <class 'bytes'>\n",
      "  new_ins :  753d \n",
      "\n",
      "0xf04bd3 0xf06187 jne short 00F04BF9h 7524 <class 'bytes'> 15748051 15753607 <class 'int'> JNE_REL8_32 | 56 <class 'bytes'>\n",
      "  new_ins :  752f \n",
      "\n"
     ]
    },
    {
     "name": "stderr",
     "output_type": "stream",
     "text": [
      "6633it [01:43, 37.93it/s]"
     ]
    },
    {
     "name": "stdout",
     "output_type": "stream",
     "text": [
      "0xf04bea 0xf061a6 call 00F043E0h e8f1f7ffff <class 'bytes'> 15748074 15753638 <class 'int'> CALL_REL32_32 | 56 <class 'bytes'>\n",
      "  new_ins :  e8f8f5ffff \n",
      "\n",
      "0xf04bf4 0xf061b2 jne short 00F04C01h 750b <class 'bytes'> 15748084 15753650 <class 'int'> JNE_REL8_32 | 56 <class 'bytes'>\n",
      "  new_ins :  750e \n",
      "\n",
      "0xf04bfd 0xf061be jb short 00F04BC3h 72c4 <class 'bytes'> 15748093 15753662 <class 'int'> JB_REL8_32 | 56 <class 'bytes'>\n",
      "  new_ins :  72b4 \n",
      "\n",
      "0xf04bff 0xf061c0 jmp short 00F04C0Bh eb0a <class 'bytes'> 15748095 15753664 <class 'int'> JMP_REL8_32 | 56 <class 'bytes'>\n",
      "  new_ins :  eb0d \n",
      "\n",
      "0xf04c06 0xf061c9 jne short 00F04C5Ch 7554 <class 'bytes'> 15748102 15753673 <class 'int'> JNE_REL8_32 | 56 <class 'bytes'>\n",
      "  new_ins :  756f \n",
      "\n",
      "0xf04c0f 0xf061d5 je short 00F04C5Ch 744b <class 'bytes'> 15748111 15753685 <class 'int'> JE_REL8_32 | 56 <class 'bytes'>\n",
      "  new_ins :  7463 \n",
      "\n",
      "0xf04c15 0xf061dc jne short 00F04C47h 7530 <class 'bytes'> 15748117 15753692 <class 'int'> JNE_REL8_32 | 56 <class 'bytes'>\n",
      "  new_ins :  753d \n",
      "\n",
      "0xf04c21 0xf061ea jne short 00F04C47h 7524 <class 'bytes'> 15748129 15753706 <class 'int'> JNE_REL8_32 | 56 <class 'bytes'>\n",
      "  new_ins :  752f \n",
      "\n",
      "0xf04c38 0xf06209 call 00F04750h e813fbffff <class 'bytes'> 15748152 15753737 <class 'int'> CALL_REL32_32 | 56 <class 'bytes'>\n",
      "  new_ins :  e8dcf9ffff \n",
      "\n",
      "0xf04c42 0xf06215 jne short 00F04C57h 7513 <class 'bytes'> 15748162 15753749 <class 'int'> JNE_REL8_32 | 56 <class 'bytes'>\n",
      "  new_ins :  751c \n",
      "\n",
      "0xf04c4b 0xf06221 jb short 00F04C11h 72c4 <class 'bytes'> 15748171 15753761 <class 'int'> JB_REL8_32 | 56 <class 'bytes'>\n",
      "  new_ins :  72b4 \n",
      "\n"
     ]
    },
    {
     "name": "stderr",
     "output_type": "stream",
     "text": [
      "6686it [01:43, 52.70it/s]"
     ]
    },
    {
     "name": "stdout",
     "output_type": "stream",
     "text": [
      "0xf04c66 0xf0624a call 0B5CBF64Fh e8e4a9dbb4 <class 'bytes'> 15748198 15753802 <class 'int'> CALL_REL32_32 | 56 <class 'bytes'>\n",
      "  new_ins :  e80494dbb4 \n",
      "\n",
      "0xf04c6e 0xf06254 je short 00F04C10h 74a0 <class 'bytes'> 15748206 15753812 <class 'int'> JE_REL8_32 | 60 <class 'bytes'>\n",
      "  new_ins :  0F847cffffff \n",
      "\n",
      "0xf04c87 0xf06278 jne short 00F04C97h 750e <class 'bytes'> 15748231 15753848 <class 'int'> JNE_REL8_32 | 60 <class 'bytes'>\n",
      "  new_ins :  7513 \n",
      "\n"
     ]
    },
    {
     "name": "stderr",
     "output_type": "stream",
     "text": [
      "6703it [01:44, 49.22it/s]"
     ]
    },
    {
     "name": "stdout",
     "output_type": "stream",
     "text": [
      "0xf04c8a 0xf0627c call 00F02100h e871d4ffff <class 'bytes'> 15748234 15753852 <class 'int'> CALL_REL32_32 | 60 <class 'bytes'>\n",
      "  new_ins :  e8bdc8ffff \n",
      "\n",
      "0xf04c9e 0xf06295 je short 00F04CAEh 740e <class 'bytes'> 15748254 15753877 <class 'int'> JE_REL8_32 | 60 <class 'bytes'>\n",
      "  new_ins :  7413 \n",
      "\n"
     ]
    },
    {
     "name": "stderr",
     "output_type": "stream",
     "text": [
      "6735it [01:47, 25.54it/s]"
     ]
    },
    {
     "name": "stdout",
     "output_type": "stream",
     "text": [
      "0xf04ca1 0xf06299 call 00F166C0h e81a1a0100 <class 'bytes'> 15748257 15753881 <class 'int'> CALL_REL32_32 | 60 <class 'bytes'>\n",
      "  new_ins :  e8f46e0100 \n",
      "\n",
      "0xf04cc0 0xf062c3 je short 00F04CCFh 740d <class 'bytes'> 15748288 15753923 <class 'int'> JE_REL8_32 | 60 <class 'bytes'>\n",
      "  new_ins :  7412 \n",
      "\n",
      "0xf04cd1 0xf062da je near ptr 00F04DBAh 0f84e3000000 <class 'bytes'> 15748305 15753946 <class 'int'> JE_REL32_32 | 60 <class 'bytes'>\n",
      "  new_ins :  0f8423010000 \n",
      "\n",
      "0xf04ce0 0xf062eb ja near ptr 00F04DBAh 0f87d4000000 <class 'bytes'> 15748320 15753963 <class 'int'> JA_REL32_32 | 60 <class 'bytes'>\n",
      "  new_ins :  0f8712010000 \n",
      "\n",
      "0xf04ce9 0xf062f7 call 00F14E50h e862010100 <class 'bytes'> 15748329 15753975 <class 'int'> CALL_REL32_32 | 60 <class 'bytes'>\n",
      "  new_ins :  e8574e0100 \n",
      "\n",
      "0xf04cf3 0xf06303 je near ptr 00F04DBAh 0f84c1000000 <class 'bytes'> 15748339 15753987 <class 'int'> JE_REL32_32 | 60 <class 'bytes'>\n",
      "  new_ins :  0f84fa000000 \n",
      "\n"
     ]
    },
    {
     "name": "stderr",
     "output_type": "stream",
     "text": [
      "6746it [01:48, 21.52it/s]"
     ]
    },
    {
     "name": "stdout",
     "output_type": "stream",
     "text": [
      "0xf04d16 0xf0632d call 00F19E50h e835510100 <class 'bytes'> 15748374 15754029 <class 'int'> CALL_REL32_32 | 60 <class 'bytes'>\n",
      "  new_ins :  e841b80100 \n",
      "\n",
      "0xf04d39 0xf0635a je short 00F04DBAh 747f <class 'bytes'> 15748409 15754074 <class 'int'> JE_REL8_32 | 64 <class 'bytes'>\n",
      "  new_ins :  0F84a3000000 \n",
      "\n"
     ]
    },
    {
     "name": "stderr",
     "output_type": "stream",
     "text": [
      "6770it [01:51, 12.34it/s]"
     ]
    },
    {
     "name": "stdout",
     "output_type": "stream",
     "text": [
      "0xf04d67 0xf06397 call 00F19DD0h e864500100 <class 'bytes'> 15748455 15754135 <class 'int'> CALL_REL32_32 | 64 <class 'bytes'>\n",
      "  new_ins :  e825b70100 \n",
      "\n"
     ]
    },
    {
     "name": "stderr",
     "output_type": "stream",
     "text": [
      "6781it [01:52, 13.65it/s]"
     ]
    },
    {
     "name": "stdout",
     "output_type": "stream",
     "text": [
      "0xf04d77 0xf063ab call 00F1A470h e8f4560100 <class 'bytes'> 15748471 15754155 <class 'int'> CALL_REL32_32 | 64 <class 'bytes'>\n",
      "  new_ins :  e83fc00100 \n",
      "\n",
      "0xf04d83 0xf063bb call 00F1A1D0h e848540100 <class 'bytes'> 15748483 15754171 <class 'int'> CALL_REL32_32 | 64 <class 'bytes'>\n",
      "  new_ins :  e8a4bc0100 \n",
      "\n"
     ]
    },
    {
     "name": "stderr",
     "output_type": "stream",
     "text": [
      "6791it [01:52, 16.69it/s]"
     ]
    },
    {
     "name": "stdout",
     "output_type": "stream",
     "text": [
      "0xf04d89 0xf063c2 call 00F1A0A0h e812530100 <class 'bytes'> 15748489 15754178 <class 'int'> CALL_REL32_32 | 64 <class 'bytes'>\n",
      "  new_ins :  e8f1ba0100 \n",
      "\n",
      "0xf04d99 0xf063d8 call 00F19DD0h e832500100 <class 'bytes'> 15748505 15754200 <class 'int'> CALL_REL32_32 | 64 <class 'bytes'>\n",
      "  new_ins :  e8e4b60100 \n",
      "\n"
     ]
    },
    {
     "name": "stderr",
     "output_type": "stream",
     "text": [
      "6827it [01:52, 39.60it/s]"
     ]
    },
    {
     "name": "stdout",
     "output_type": "stream",
     "text": [
      "0xf04db2 0xf063fa call 00F143E0h e829f60000 <class 'bytes'> 15748530 15754234 <class 'int'> CALL_REL32_32 | 64 <class 'bytes'>\n",
      "  new_ins :  e8f93e0100 \n",
      "\n",
      "0xf04dd8 0xf0642c js short 00F04DF8h 781e <class 'bytes'> 15748568 15754284 <class 'int'> JS_REL8_32 | 64 <class 'bytes'>\n",
      "  new_ins :  7826 \n",
      "\n",
      "0xf04df3 0xf0644e jo short 00F04E4Ch 7057 <class 'bytes'> 15748595 15754318 <class 'int'> JO_REL8_32 | 64 <class 'bytes'>\n",
      "  new_ins :  7070 \n",
      "\n",
      "0xf04dff 0xf0645c je short 00F04E0Dh 740c <class 'bytes'> 15748607 15754332 <class 'int'> JE_REL8_32 | 64 <class 'bytes'>\n",
      "  new_ins :  7410 \n",
      "\n",
      "0xf04e02 0xf06460 call 00F16700h e8f9180100 <class 'bytes'> 15748610 15754336 <class 'int'> CALL_REL32_32 | 64 <class 'bytes'>\n",
      "  new_ins :  e8846d0100 \n",
      "\n",
      "0xf04e1b 0xf06482 je short 00F04E35h 7418 <class 'bytes'> 15748635 15754370 <class 'int'> JE_REL8_32 | 64 <class 'bytes'>\n",
      "  new_ins :  741f \n",
      "\n",
      "0xf04e23 0xf0648c je short 00F04E2Fh 740a <class 'bytes'> 15748643 15754380 <class 'int'> JE_REL8_32 | 64 <class 'bytes'>\n",
      "  new_ins :  740d \n",
      "\n",
      "0xf04e2b 0xf06497 jb short 00F04E20h 72f3 <class 'bytes'> 15748651 15754391 <class 'int'> JB_REL8_32 | 64 <class 'bytes'>\n",
      "  new_ins :  72ef \n",
      "\n",
      "0xf04e2d 0xf06499 jmp short 00F04E35h eb06 <class 'bytes'> 15748653 15754393 <class 'int'> JMP_REL8_32 | 64 <class 'bytes'>\n",
      "  new_ins :  eb08 \n",
      "\n",
      "0xf04e39 0xf064a8 jne short 00F04E62h 7527 <class 'bytes'> 15748665 15754408 <class 'int'> JNE_REL8_32 | 64 <class 'bytes'>\n",
      "  new_ins :  7532 \n",
      "\n",
      "0xf04e40 0xf064b1 jb short 00F04E62h 7220 <class 'bytes'> 15748672 15754417 <class 'int'> JB_REL8_32 | 64 <class 'bytes'>\n",
      "  new_ins :  7229 \n",
      "\n"
     ]
    },
    {
     "name": "stderr",
     "output_type": "stream",
     "text": [
      "6863it [01:53, 71.08it/s]"
     ]
    },
    {
     "name": "stdout",
     "output_type": "stream",
     "text": [
      "0xf04e50 0xf064c4 jae short 00F04E62h 7310 <class 'bytes'> 15748688 15754436 <class 'int'> JAE_REL8_32 | 64 <class 'bytes'>\n",
      "  new_ins :  7316 \n",
      "\n",
      "0xf04e5a 0xf064d3 call 00F14FE0h e881010100 <class 'bytes'> 15748698 15754451 <class 'int'> CALL_REL32_32 | 64 <class 'bytes'>\n",
      "  new_ins :  e8914e0100 \n",
      "\n",
      "0xf04e7b 0xf064ff je short 00F04E9Ch 741f <class 'bytes'> 15748731 15754495 <class 'int'> JE_REL8_32 | 64 <class 'bytes'>\n",
      "  new_ins :  7428 \n",
      "\n",
      "0xf04e83 0xf06509 jb short 00F04E9Ch 7217 <class 'bytes'> 15748739 15754505 <class 'int'> JB_REL8_32 | 64 <class 'bytes'>\n",
      "  new_ins :  721e \n",
      "\n",
      "0xf04e8a 0xf06511 jae short 00F04E9Ch 7310 <class 'bytes'> 15748746 15754513 <class 'int'> JAE_REL8_32 | 64 <class 'bytes'>\n",
      "  new_ins :  7316 \n",
      "\n"
     ]
    },
    {
     "name": "stderr",
     "output_type": "stream",
     "text": [
      "6943it [01:53, 160.67it/s]"
     ]
    },
    {
     "name": "stdout",
     "output_type": "stream",
     "text": [
      "0xf04e94 0xf06520 call 00F14FE0h e847010100 <class 'bytes'> 15748756 15754528 <class 'int'> CALL_REL32_32 | 64 <class 'bytes'>\n",
      "  new_ins :  e8444e0100 \n",
      "\n",
      "0xf04eb1 0xf06547 je short 00F04EBBh 7408 <class 'bytes'> 15748785 15754567 <class 'int'> JE_REL8_32 | 64 <class 'bytes'>\n",
      "  new_ins :  740b \n",
      "\n",
      "0xf04ebe 0xf06558 je short 00F04EC9h 7409 <class 'bytes'> 15748798 15754584 <class 'int'> JE_REL8_32 | 64 <class 'bytes'>\n",
      "  new_ins :  740c \n",
      "\n",
      "0xf04ecb 0xf06569 jne short 00F04EEBh 751e <class 'bytes'> 15748811 15754601 <class 'int'> JNE_REL8_32 | 64 <class 'bytes'>\n",
      "  new_ins :  7526 \n",
      "\n",
      "0xf04ed0 0xf0656f jne short 00F04EEBh 7519 <class 'bytes'> 15748816 15754607 <class 'int'> JNE_REL8_32 | 64 <class 'bytes'>\n",
      "  new_ins :  7520 \n",
      "\n",
      "0xf04ed5 0xf06575 jne short 00F04EEBh 7514 <class 'bytes'> 15748821 15754613 <class 'int'> JNE_REL8_32 | 64 <class 'bytes'>\n",
      "  new_ins :  751a \n",
      "\n",
      "0xf04eda 0xf0657b jne short 00F04EEBh 750f <class 'bytes'> 15748826 15754619 <class 'int'> JNE_REL8_32 | 64 <class 'bytes'>\n",
      "  new_ins :  7514 \n",
      "\n",
      "0xf04edf 0xf06581 jne short 00F04EEBh 750a <class 'bytes'> 15748831 15754625 <class 'int'> JNE_REL8_32 | 64 <class 'bytes'>\n",
      "  new_ins :  750e \n",
      "\n",
      "0xf04ee4 0xf06587 jne short 00F04EEBh 7505 <class 'bytes'> 15748836 15754631 <class 'int'> JNE_REL8_32 | 64 <class 'bytes'>\n",
      "  new_ins :  7508 \n",
      "\n",
      "0xf04ef1 0xf06599 je short 00F04EF8h 7405 <class 'bytes'> 15748849 15754649 <class 'int'> JE_REL8_32 | 64 <class 'bytes'>\n",
      "  new_ins :  7407 \n",
      "\n",
      "0xf04efb 0xf065a6 je short 00F04F00h 7403 <class 'bytes'> 15748859 15754662 <class 'int'> JE_REL8_32 | 64 <class 'bytes'>\n",
      "  new_ins :  7404 \n",
      "\n",
      "0xf04f03 0xf065b0 je short 00F04F0Eh 7409 <class 'bytes'> 15748867 15754672 <class 'int'> JE_REL8_32 | 64 <class 'bytes'>\n",
      "  new_ins :  740c \n",
      "\n",
      "0xf04f10 0xf065c1 jne short 00F04F2Bh 7519 <class 'bytes'> 15748880 15754689 <class 'int'> JNE_REL8_32 | 64 <class 'bytes'>\n",
      "  new_ins :  751e \n",
      "\n",
      "0xf04f15 0xf065c7 jne short 00F04F2Bh 7514 <class 'bytes'> 15748885 15754695 <class 'int'> JNE_REL8_32 | 64 <class 'bytes'>\n",
      "  new_ins :  7518 \n",
      "\n",
      "0xf04f1a 0xf065cd jne short 00F04F2Bh 750f <class 'bytes'> 15748890 15754701 <class 'int'> JNE_REL8_32 | 64 <class 'bytes'>\n",
      "  new_ins :  7512 \n",
      "\n",
      "0xf04f1f 0xf065d3 jne short 00F04F2Bh 750a <class 'bytes'> 15748895 15754707 <class 'int'> JNE_REL8_32 | 64 <class 'bytes'>\n",
      "  new_ins :  750c \n",
      "\n",
      "0xf04f24 0xf065d9 jne short 00F04F2Bh 7505 <class 'bytes'> 15748900 15754713 <class 'int'> JNE_REL8_32 | 64 <class 'bytes'>\n",
      "  new_ins :  7506 \n",
      "\n",
      "0xf04f29 0xf065df je short 00F04EE6h 74bb <class 'bytes'> 15748905 15754719 <class 'int'> JE_REL8_32 | 64 <class 'bytes'>\n",
      "  new_ins :  74a8 \n",
      "\n",
      "0xf04f31 0xf065e9 je short 00F04F38h 7405 <class 'bytes'> 15748913 15754729 <class 'int'> JE_REL8_32 | 64 <class 'bytes'>\n",
      "  new_ins :  7407 \n",
      "\n",
      "0xf04f3b 0xf065f6 je short 00F04F40h 7403 <class 'bytes'> 15748923 15754742 <class 'int'> JE_REL8_32 | 64 <class 'bytes'>\n",
      "  new_ins :  7404 \n",
      "\n",
      "0xf04f43 0xf06600 je short 00F04F4Eh 7409 <class 'bytes'> 15748931 15754752 <class 'int'> JE_REL8_32 | 64 <class 'bytes'>\n",
      "  new_ins :  740c \n",
      "\n",
      "0xf04f50 0xf06611 jne short 00F04F6Fh 751d <class 'bytes'> 15748944 15754769 <class 'int'> JNE_REL8_32 | 64 <class 'bytes'>\n",
      "  new_ins :  7522 \n",
      "\n",
      "0xf04f55 0xf06617 jne short 00F04F6Fh 7518 <class 'bytes'> 15748949 15754775 <class 'int'> JNE_REL8_32 | 64 <class 'bytes'>\n",
      "  new_ins :  751c \n",
      "\n",
      "0xf04f5a 0xf0661d jne short 00F04F6Fh 7513 <class 'bytes'> 15748954 15754781 <class 'int'> JNE_REL8_32 | 64 <class 'bytes'>\n",
      "  new_ins :  7516 \n",
      "\n",
      "0xf04f5f 0xf06623 jne short 00F04F6Fh 750e <class 'bytes'> 15748959 15754787 <class 'int'> JNE_REL8_32 | 64 <class 'bytes'>\n",
      "  new_ins :  7510 \n",
      "\n"
     ]
    },
    {
     "name": "stderr",
     "output_type": "stream",
     "text": [
      "7001it [01:53, 202.67it/s]"
     ]
    },
    {
     "name": "stdout",
     "output_type": "stream",
     "text": [
      "0xf04f64 0xf06629 jne short 00F04F6Fh 7509 <class 'bytes'> 15748964 15754793 <class 'int'> JNE_REL8_32 | 64 <class 'bytes'>\n",
      "  new_ins :  750a \n",
      "\n",
      "0xf04f69 0xf0662f je near ptr 00F04EE6h 0f8477ffffff <class 'bytes'> 15748969 15754799 <class 'int'> JE_REL32_32 | 64 <class 'bytes'>\n",
      "  new_ins :  0f8454ffffff \n",
      "\n",
      "0xf04f75 0xf0663d je short 00F04F7Ch 7405 <class 'bytes'> 15748981 15754813 <class 'int'> JE_REL8_32 | 64 <class 'bytes'>\n",
      "  new_ins :  7407 \n",
      "\n",
      "0xf04f7f 0xf0664a je short 00F04F84h 7403 <class 'bytes'> 15748991 15754826 <class 'int'> JE_REL8_32 | 64 <class 'bytes'>\n",
      "  new_ins :  7404 \n",
      "\n",
      "0xf04f87 0xf06654 je short 00F04F92h 7409 <class 'bytes'> 15748999 15754836 <class 'int'> JE_REL8_32 | 64 <class 'bytes'>\n",
      "  new_ins :  740c \n",
      "\n",
      "0xf04f94 0xf06665 jne short 00F04FB3h 751d <class 'bytes'> 15749012 15754853 <class 'int'> JNE_REL8_32 | 64 <class 'bytes'>\n",
      "  new_ins :  7522 \n",
      "\n",
      "0xf04f99 0xf0666b jne short 00F04FB3h 7518 <class 'bytes'> 15749017 15754859 <class 'int'> JNE_REL8_32 | 64 <class 'bytes'>\n",
      "  new_ins :  751c \n",
      "\n",
      "0xf04f9e 0xf06671 jne short 00F04FB3h 7513 <class 'bytes'> 15749022 15754865 <class 'int'> JNE_REL8_32 | 64 <class 'bytes'>\n",
      "  new_ins :  7516 \n",
      "\n",
      "0xf04fa3 0xf06677 jne short 00F04FB3h 750e <class 'bytes'> 15749027 15754871 <class 'int'> JNE_REL8_32 | 64 <class 'bytes'>\n",
      "  new_ins :  7510 \n",
      "\n",
      "0xf04fa8 0xf0667d jne short 00F04FB3h 7509 <class 'bytes'> 15749032 15754877 <class 'int'> JNE_REL8_32 | 64 <class 'bytes'>\n",
      "  new_ins :  750a \n",
      "\n",
      "0xf04fad 0xf06683 je near ptr 00F04EE6h 0f8433ffffff <class 'bytes'> 15749037 15754883 <class 'int'> JE_REL32_32 | 64 <class 'bytes'>\n",
      "  new_ins :  0f8400ffffff \n",
      "\n",
      "0xf04fb9 0xf06691 je short 00F04FC0h 7405 <class 'bytes'> 15749049 15754897 <class 'int'> JE_REL8_32 | 64 <class 'bytes'>\n",
      "  new_ins :  7407 \n",
      "\n",
      "0xf04fc3 0xf0669e je short 00F04FC8h 7403 <class 'bytes'> 15749059 15754910 <class 'int'> JE_REL8_32 | 64 <class 'bytes'>\n",
      "  new_ins :  7404 \n",
      "\n",
      "0xf04fcb 0xf066a8 je short 00F04FD3h 7406 <class 'bytes'> 15749067 15754920 <class 'int'> JE_REL8_32 | 64 <class 'bytes'>\n",
      "  new_ins :  7408 \n",
      "\n",
      "0xf04fd6 0xf066b6 je short 00F04FDBh 7403 <class 'bytes'> 15749078 15754934 <class 'int'> JE_REL8_32 | 64 <class 'bytes'>\n",
      "  new_ins :  7404 \n",
      "\n",
      "0xf04fdd 0xf066bf jne short 00F04FFCh 751d <class 'bytes'> 15749085 15754943 <class 'int'> JNE_REL8_32 | 64 <class 'bytes'>\n",
      "  new_ins :  7522 \n",
      "\n",
      "0xf04fe2 0xf066c5 jne short 00F04FFCh 7518 <class 'bytes'> 15749090 15754949 <class 'int'> JNE_REL8_32 | 64 <class 'bytes'>\n",
      "  new_ins :  751c \n",
      "\n",
      "0xf04fe7 0xf066cb jne short 00F04FFCh 7513 <class 'bytes'> 15749095 15754955 <class 'int'> JNE_REL8_32 | 64 <class 'bytes'>\n",
      "  new_ins :  7516 \n",
      "\n",
      "0xf04fec 0xf066d1 jne short 00F04FFCh 750e <class 'bytes'> 15749100 15754961 <class 'int'> JNE_REL8_32 | 64 <class 'bytes'>\n",
      "  new_ins :  7510 \n",
      "\n",
      "0xf04ff1 0xf066d7 jne short 00F04FFCh 7509 <class 'bytes'> 15749105 15754967 <class 'int'> JNE_REL8_32 | 64 <class 'bytes'>\n",
      "  new_ins :  750a \n",
      "\n",
      "0xf04ff6 0xf066dd je near ptr 00F04EE6h 0f84eafeffff <class 'bytes'> 15749110 15754973 <class 'int'> JE_REL32_32 | 64 <class 'bytes'>\n",
      "  new_ins :  0f84a6feffff \n",
      "\n"
     ]
    },
    {
     "name": "stderr",
     "output_type": "stream",
     "text": [
      "7065it [01:53, 246.27it/s]"
     ]
    },
    {
     "name": "stdout",
     "output_type": "stream",
     "text": [
      "0xf05002 0xf066eb je short 00F05009h 7405 <class 'bytes'> 15749122 15754987 <class 'int'> JE_REL8_32 | 64 <class 'bytes'>\n",
      "  new_ins :  7407 \n",
      "\n",
      "0xf0500c 0xf066f8 je short 00F05011h 7403 <class 'bytes'> 15749132 15755000 <class 'int'> JE_REL8_32 | 64 <class 'bytes'>\n",
      "  new_ins :  7404 \n",
      "\n",
      "0xf05014 0xf06702 je short 00F0501Fh 7409 <class 'bytes'> 15749140 15755010 <class 'int'> JE_REL8_32 | 64 <class 'bytes'>\n",
      "  new_ins :  740c \n",
      "\n",
      "0xf05021 0xf06713 jne short 00F05040h 751d <class 'bytes'> 15749153 15755027 <class 'int'> JNE_REL8_32 | 64 <class 'bytes'>\n",
      "  new_ins :  7522 \n",
      "\n",
      "0xf05026 0xf06719 jne short 00F05040h 7518 <class 'bytes'> 15749158 15755033 <class 'int'> JNE_REL8_32 | 64 <class 'bytes'>\n",
      "  new_ins :  751c \n",
      "\n",
      "0xf0502b 0xf0671f jne short 00F05040h 7513 <class 'bytes'> 15749163 15755039 <class 'int'> JNE_REL8_32 | 64 <class 'bytes'>\n",
      "  new_ins :  7516 \n",
      "\n",
      "0xf05030 0xf06725 jne short 00F05040h 750e <class 'bytes'> 15749168 15755045 <class 'int'> JNE_REL8_32 | 64 <class 'bytes'>\n",
      "  new_ins :  7510 \n",
      "\n",
      "0xf05035 0xf0672b jne short 00F05040h 7509 <class 'bytes'> 15749173 15755051 <class 'int'> JNE_REL8_32 | 64 <class 'bytes'>\n",
      "  new_ins :  750a \n",
      "\n",
      "0xf0503a 0xf06731 je near ptr 00F04EE6h 0f84a6feffff <class 'bytes'> 15749178 15755057 <class 'int'> JE_REL32_32 | 64 <class 'bytes'>\n",
      "  new_ins :  0f8452feffff \n",
      "\n",
      "0xf05046 0xf0673f je short 00F0504Dh 7405 <class 'bytes'> 15749190 15755071 <class 'int'> JE_REL8_32 | 64 <class 'bytes'>\n",
      "  new_ins :  7407 \n",
      "\n",
      "0xf05050 0xf0674c je short 00F0505Bh 7409 <class 'bytes'> 15749200 15755084 <class 'int'> JE_REL8_32 | 64 <class 'bytes'>\n",
      "  new_ins :  740c \n",
      "\n",
      "0xf0505d 0xf0675d jne short 00F0507Ch 751d <class 'bytes'> 15749213 15755101 <class 'int'> JNE_REL8_32 | 64 <class 'bytes'>\n",
      "  new_ins :  7522 \n",
      "\n",
      "0xf05062 0xf06763 jne short 00F0507Ch 7518 <class 'bytes'> 15749218 15755107 <class 'int'> JNE_REL8_32 | 64 <class 'bytes'>\n",
      "  new_ins :  751c \n",
      "\n",
      "0xf05067 0xf06769 jne short 00F0507Ch 7513 <class 'bytes'> 15749223 15755113 <class 'int'> JNE_REL8_32 | 64 <class 'bytes'>\n",
      "  new_ins :  7516 \n",
      "\n",
      "0xf0506c 0xf0676f jne short 00F0507Ch 750e <class 'bytes'> 15749228 15755119 <class 'int'> JNE_REL8_32 | 64 <class 'bytes'>\n",
      "  new_ins :  7510 \n",
      "\n",
      "0xf05071 0xf06775 jne short 00F0507Ch 7509 <class 'bytes'> 15749233 15755125 <class 'int'> JNE_REL8_32 | 64 <class 'bytes'>\n",
      "  new_ins :  750a \n",
      "\n",
      "0xf05076 0xf0677b je near ptr 00F04EE6h 0f846afeffff <class 'bytes'> 15749238 15755131 <class 'int'> JE_REL32_32 | 64 <class 'bytes'>\n",
      "  new_ins :  0f8408feffff \n",
      "\n",
      "0xf05082 0xf06789 je short 00F05086h 7402 <class 'bytes'> 15749250 15755145 <class 'int'> JE_REL8_32 | 64 <class 'bytes'>\n",
      "  new_ins :  7403 \n",
      "\n",
      "0xf05089 0xf06792 je short 00F0508Eh 7403 <class 'bytes'> 15749257 15755154 <class 'int'> JE_REL8_32 | 64 <class 'bytes'>\n",
      "  new_ins :  7404 \n",
      "\n",
      "0xf05092 0xf0679e jne short 00F050B1h 751d <class 'bytes'> 15749266 15755166 <class 'int'> JNE_REL8_32 | 64 <class 'bytes'>\n",
      "  new_ins :  7522 \n",
      "\n",
      "0xf05097 0xf067a4 jne short 00F050B1h 7518 <class 'bytes'> 15749271 15755172 <class 'int'> JNE_REL8_32 | 64 <class 'bytes'>\n",
      "  new_ins :  751c \n",
      "\n"
     ]
    },
    {
     "name": "stderr",
     "output_type": "stream",
     "text": [
      "7122it [01:53, 244.10it/s]"
     ]
    },
    {
     "name": "stdout",
     "output_type": "stream",
     "text": [
      "0xf0509c 0xf067aa jne short 00F050B1h 7513 <class 'bytes'> 15749276 15755178 <class 'int'> JNE_REL8_32 | 64 <class 'bytes'>\n",
      "  new_ins :  7516 \n",
      "\n",
      "0xf050a1 0xf067b0 jne short 00F050B1h 750e <class 'bytes'> 15749281 15755184 <class 'int'> JNE_REL8_32 | 64 <class 'bytes'>\n",
      "  new_ins :  7510 \n",
      "\n",
      "0xf050a6 0xf067b6 jne short 00F050B1h 7509 <class 'bytes'> 15749286 15755190 <class 'int'> JNE_REL8_32 | 64 <class 'bytes'>\n",
      "  new_ins :  750a \n",
      "\n",
      "0xf050ab 0xf067bc je near ptr 00F04EE6h 0f8435feffff <class 'bytes'> 15749291 15755196 <class 'int'> JE_REL32_32 | 64 <class 'bytes'>\n",
      "  new_ins :  0f84c7fdffff \n",
      "\n",
      "0xf050b5 0xf067c7 je short 00F050BBh 7404 <class 'bytes'> 15749301 15755207 <class 'int'> JE_REL8_32 | 64 <class 'bytes'>\n",
      "  new_ins :  7405 \n",
      "\n",
      "0xf050b9 0xf067cc jmp short 00F050BFh eb04 <class 'bytes'> 15749305 15755212 <class 'int'> JMP_REL8_32 | 64 <class 'bytes'>\n",
      "  new_ins :  eb05 \n",
      "\n",
      "0xf050bd 0xf067d1 jne short 00F050DCh 751d <class 'bytes'> 15749309 15755217 <class 'int'> JNE_REL8_32 | 64 <class 'bytes'>\n",
      "  new_ins :  7522 \n",
      "\n",
      "0xf050c2 0xf067d7 jne short 00F050DCh 7518 <class 'bytes'> 15749314 15755223 <class 'int'> JNE_REL8_32 | 64 <class 'bytes'>\n",
      "  new_ins :  751c \n",
      "\n",
      "0xf050c7 0xf067dd jne short 00F050DCh 7513 <class 'bytes'> 15749319 15755229 <class 'int'> JNE_REL8_32 | 64 <class 'bytes'>\n",
      "  new_ins :  7516 \n",
      "\n",
      "0xf050cc 0xf067e3 jne short 00F050DCh 750e <class 'bytes'> 15749324 15755235 <class 'int'> JNE_REL8_32 | 64 <class 'bytes'>\n",
      "  new_ins :  7510 \n",
      "\n",
      "0xf050d1 0xf067e9 jne short 00F050DCh 7509 <class 'bytes'> 15749329 15755241 <class 'int'> JNE_REL8_32 | 64 <class 'bytes'>\n",
      "  new_ins :  750a \n",
      "\n",
      "0xf050d6 0xf067ef je near ptr 00F04EE6h 0f840afeffff <class 'bytes'> 15749334 15755247 <class 'int'> JE_REL32_32 | 64 <class 'bytes'>\n",
      "  new_ins :  0f8494fdffff \n",
      "\n",
      "0xf050e2 0xf067fd je short 00F050E7h 7403 <class 'bytes'> 15749346 15755261 <class 'int'> JE_REL8_32 | 64 <class 'bytes'>\n",
      "  new_ins :  7404 \n",
      "\n",
      "0xf050ec 0xf0680b jne short 00F0510Bh 751d <class 'bytes'> 15749356 15755275 <class 'int'> JNE_REL8_32 | 64 <class 'bytes'>\n",
      "  new_ins :  7522 \n",
      "\n",
      "0xf050f1 0xf06811 jne short 00F0510Bh 7518 <class 'bytes'> 15749361 15755281 <class 'int'> JNE_REL8_32 | 64 <class 'bytes'>\n",
      "  new_ins :  751c \n",
      "\n",
      "0xf050f6 0xf06817 jne short 00F0510Bh 7513 <class 'bytes'> 15749366 15755287 <class 'int'> JNE_REL8_32 | 64 <class 'bytes'>\n",
      "  new_ins :  7516 \n",
      "\n",
      "0xf050fb 0xf0681d jne short 00F0510Bh 750e <class 'bytes'> 15749371 15755293 <class 'int'> JNE_REL8_32 | 64 <class 'bytes'>\n",
      "  new_ins :  7510 \n",
      "\n",
      "0xf05100 0xf06823 jne short 00F0510Bh 7509 <class 'bytes'> 15749376 15755299 <class 'int'> JNE_REL8_32 | 64 <class 'bytes'>\n",
      "  new_ins :  750a \n",
      "\n",
      "0xf05105 0xf06829 je near ptr 00F0532Fh 0f8424020000 <class 'bytes'> 15749381 15755305 <class 'int'> JE_REL32_32 | 64 <class 'bytes'>\n",
      "  new_ins :  0f849f020000 \n",
      "\n",
      "0xf05111 0xf06837 je short 00F05116h 7403 <class 'bytes'> 15749393 15755319 <class 'int'> JE_REL8_32 | 64 <class 'bytes'>\n",
      "  new_ins :  7404 \n",
      "\n",
      "0xf05119 0xf06841 je short 00F0511Eh 7403 <class 'bytes'> 15749401 15755329 <class 'int'> JE_REL8_32 | 64 <class 'bytes'>\n",
      "  new_ins :  7404 \n",
      "\n"
     ]
    },
    {
     "name": "stderr",
     "output_type": "stream",
     "text": [
      "7178it [01:54, 251.28it/s]"
     ]
    },
    {
     "name": "stdout",
     "output_type": "stream",
     "text": [
      "0xf05120 0xf0684a jne short 00F0513Fh 751d <class 'bytes'> 15749408 15755338 <class 'int'> JNE_REL8_32 | 64 <class 'bytes'>\n",
      "  new_ins :  7522 \n",
      "\n",
      "0xf05125 0xf06850 jne short 00F0513Fh 7518 <class 'bytes'> 15749413 15755344 <class 'int'> JNE_REL8_32 | 64 <class 'bytes'>\n",
      "  new_ins :  751c \n",
      "\n",
      "0xf0512a 0xf06856 jne short 00F0513Fh 7513 <class 'bytes'> 15749418 15755350 <class 'int'> JNE_REL8_32 | 64 <class 'bytes'>\n",
      "  new_ins :  7516 \n",
      "\n",
      "0xf0512f 0xf0685c jne short 00F0513Fh 750e <class 'bytes'> 15749423 15755356 <class 'int'> JNE_REL8_32 | 64 <class 'bytes'>\n",
      "  new_ins :  7510 \n",
      "\n",
      "0xf05134 0xf06862 jne short 00F0513Fh 7509 <class 'bytes'> 15749428 15755362 <class 'int'> JNE_REL8_32 | 64 <class 'bytes'>\n",
      "  new_ins :  750a \n",
      "\n",
      "0xf05139 0xf06868 je near ptr 00F0532Fh 0f84f0010000 <class 'bytes'> 15749433 15755368 <class 'int'> JE_REL32_32 | 64 <class 'bytes'>\n",
      "  new_ins :  0f8460020000 \n",
      "\n",
      "0xf05145 0xf06876 je short 00F0514Ah 7403 <class 'bytes'> 15749445 15755382 <class 'int'> JE_REL8_32 | 64 <class 'bytes'>\n",
      "  new_ins :  7404 \n",
      "\n",
      "0xf0514d 0xf06880 je short 00F05158h 7409 <class 'bytes'> 15749453 15755392 <class 'int'> JE_REL8_32 | 64 <class 'bytes'>\n",
      "  new_ins :  740c \n",
      "\n",
      "0xf0515a 0xf06891 jne short 00F05179h 751d <class 'bytes'> 15749466 15755409 <class 'int'> JNE_REL8_32 | 64 <class 'bytes'>\n",
      "  new_ins :  7522 \n",
      "\n",
      "0xf0515f 0xf06897 jne short 00F05179h 7518 <class 'bytes'> 15749471 15755415 <class 'int'> JNE_REL8_32 | 64 <class 'bytes'>\n",
      "  new_ins :  751c \n",
      "\n",
      "0xf05164 0xf0689d jne short 00F05179h 7513 <class 'bytes'> 15749476 15755421 <class 'int'> JNE_REL8_32 | 64 <class 'bytes'>\n",
      "  new_ins :  7516 \n",
      "\n",
      "0xf05169 0xf068a3 jne short 00F05179h 750e <class 'bytes'> 15749481 15755427 <class 'int'> JNE_REL8_32 | 64 <class 'bytes'>\n",
      "  new_ins :  7510 \n",
      "\n",
      "0xf0516e 0xf068a9 jne short 00F05179h 7509 <class 'bytes'> 15749486 15755433 <class 'int'> JNE_REL8_32 | 64 <class 'bytes'>\n",
      "  new_ins :  750a \n",
      "\n",
      "0xf05173 0xf068af je near ptr 00F0532Fh 0f84b6010000 <class 'bytes'> 15749491 15755439 <class 'int'> JE_REL32_32 | 64 <class 'bytes'>\n",
      "  new_ins :  0f8419020000 \n",
      "\n",
      "0xf0517f 0xf068bd je short 00F05187h 7406 <class 'bytes'> 15749503 15755453 <class 'int'> JE_REL8_32 | 64 <class 'bytes'>\n",
      "  new_ins :  7408 \n",
      "\n",
      "0xf0518a 0xf068cb je short 00F0518Fh 7403 <class 'bytes'> 15749514 15755467 <class 'int'> JE_REL8_32 | 64 <class 'bytes'>\n",
      "  new_ins :  7404 \n",
      "\n",
      "0xf05191 0xf068d4 jne short 00F051B0h 751d <class 'bytes'> 15749521 15755476 <class 'int'> JNE_REL8_32 | 64 <class 'bytes'>\n",
      "  new_ins :  7522 \n",
      "\n",
      "0xf05196 0xf068da jne short 00F051B0h 7518 <class 'bytes'> 15749526 15755482 <class 'int'> JNE_REL8_32 | 64 <class 'bytes'>\n",
      "  new_ins :  751c \n",
      "\n",
      "0xf0519b 0xf068e0 jne short 00F051B0h 7513 <class 'bytes'> 15749531 15755488 <class 'int'> JNE_REL8_32 | 64 <class 'bytes'>\n",
      "  new_ins :  7516 \n",
      "\n",
      "0xf051a0 0xf068e6 jne short 00F051B0h 750e <class 'bytes'> 15749536 15755494 <class 'int'> JNE_REL8_32 | 64 <class 'bytes'>\n",
      "  new_ins :  7510 \n",
      "\n",
      "0xf051a5 0xf068ec jne short 00F051B0h 7509 <class 'bytes'> 15749541 15755500 <class 'int'> JNE_REL8_32 | 64 <class 'bytes'>\n",
      "  new_ins :  750a \n",
      "\n"
     ]
    },
    {
     "name": "stderr",
     "output_type": "stream",
     "text": [
      "7232it [01:54, 254.00it/s]"
     ]
    },
    {
     "name": "stdout",
     "output_type": "stream",
     "text": [
      "0xf051aa 0xf068f2 je near ptr 00F0532Fh 0f847f010000 <class 'bytes'> 15749546 15755506 <class 'int'> JE_REL32_32 | 64 <class 'bytes'>\n",
      "  new_ins :  0f84d6010000 \n",
      "\n",
      "0xf051b6 0xf06900 je short 00F051BAh 7402 <class 'bytes'> 15749558 15755520 <class 'int'> JE_REL8_32 | 64 <class 'bytes'>\n",
      "  new_ins :  7403 \n",
      "\n",
      "0xf051bd 0xf06909 je short 00F051C5h 7406 <class 'bytes'> 15749565 15755529 <class 'int'> JE_REL8_32 | 64 <class 'bytes'>\n",
      "  new_ins :  7408 \n",
      "\n",
      "0xf051c8 0xf06917 je short 00F051CDh 7403 <class 'bytes'> 15749576 15755543 <class 'int'> JE_REL8_32 | 64 <class 'bytes'>\n",
      "  new_ins :  7404 \n",
      "\n",
      "0xf051cf 0xf06920 jne short 00F051EEh 751d <class 'bytes'> 15749583 15755552 <class 'int'> JNE_REL8_32 | 64 <class 'bytes'>\n",
      "  new_ins :  7522 \n",
      "\n",
      "0xf051d4 0xf06926 jne short 00F051EEh 7518 <class 'bytes'> 15749588 15755558 <class 'int'> JNE_REL8_32 | 64 <class 'bytes'>\n",
      "  new_ins :  751c \n",
      "\n",
      "0xf051d9 0xf0692c jne short 00F051EEh 7513 <class 'bytes'> 15749593 15755564 <class 'int'> JNE_REL8_32 | 64 <class 'bytes'>\n",
      "  new_ins :  7516 \n",
      "\n",
      "0xf051de 0xf06932 jne short 00F051EEh 750e <class 'bytes'> 15749598 15755570 <class 'int'> JNE_REL8_32 | 64 <class 'bytes'>\n",
      "  new_ins :  7510 \n",
      "\n",
      "0xf051e3 0xf06938 jne short 00F051EEh 7509 <class 'bytes'> 15749603 15755576 <class 'int'> JNE_REL8_32 | 64 <class 'bytes'>\n",
      "  new_ins :  750a \n",
      "\n",
      "0xf051e8 0xf0693e je near ptr 00F0532Fh 0f8441010000 <class 'bytes'> 15749608 15755582 <class 'int'> JE_REL32_32 | 64 <class 'bytes'>\n",
      "  new_ins :  0f848a010000 \n",
      "\n",
      "0xf051f4 0xf0694c je short 00F051F8h 7402 <class 'bytes'> 15749620 15755596 <class 'int'> JE_REL8_32 | 64 <class 'bytes'>\n",
      "  new_ins :  7403 \n",
      "\n",
      "0xf051fb 0xf06955 je short 00F05200h 7403 <class 'bytes'> 15749627 15755605 <class 'int'> JE_REL8_32 | 64 <class 'bytes'>\n",
      "  new_ins :  7404 \n",
      "\n",
      "0xf05203 0xf0695f je short 00F0520Bh 7406 <class 'bytes'> 15749635 15755615 <class 'int'> JE_REL8_32 | 64 <class 'bytes'>\n",
      "  new_ins :  7408 \n",
      "\n",
      "0xf0520f 0xf0696f jne short 00F0522Eh 751d <class 'bytes'> 15749647 15755631 <class 'int'> JNE_REL8_32 | 64 <class 'bytes'>\n",
      "  new_ins :  7522 \n",
      "\n",
      "0xf05214 0xf06975 jne short 00F0522Eh 7518 <class 'bytes'> 15749652 15755637 <class 'int'> JNE_REL8_32 | 64 <class 'bytes'>\n",
      "  new_ins :  751c \n",
      "\n",
      "0xf05219 0xf0697b jne short 00F0522Eh 7513 <class 'bytes'> 15749657 15755643 <class 'int'> JNE_REL8_32 | 64 <class 'bytes'>\n",
      "  new_ins :  7516 \n",
      "\n",
      "0xf0521e 0xf06981 jne short 00F0522Eh 750e <class 'bytes'> 15749662 15755649 <class 'int'> JNE_REL8_32 | 64 <class 'bytes'>\n",
      "  new_ins :  7510 \n",
      "\n",
      "0xf05223 0xf06987 jne short 00F0522Eh 7509 <class 'bytes'> 15749667 15755655 <class 'int'> JNE_REL8_32 | 64 <class 'bytes'>\n",
      "  new_ins :  750a \n",
      "\n",
      "0xf05228 0xf0698d je near ptr 00F0532Fh 0f8401010000 <class 'bytes'> 15749672 15755661 <class 'int'> JE_REL32_32 | 64 <class 'bytes'>\n",
      "  new_ins :  0f843b010000 \n",
      "\n",
      "0xf05234 0xf0699b je short 00F05239h 7403 <class 'bytes'> 15749684 15755675 <class 'int'> JE_REL8_32 | 64 <class 'bytes'>\n",
      "  new_ins :  7404 \n",
      "\n",
      "0xf0523c 0xf069a5 je short 00F05241h 7403 <class 'bytes'> 15749692 15755685 <class 'int'> JE_REL8_32 | 64 <class 'bytes'>\n",
      "  new_ins :  7404 \n",
      "\n"
     ]
    },
    {
     "name": "stderr",
     "output_type": "stream",
     "text": [
      "7286it [01:54, 256.40it/s]"
     ]
    },
    {
     "name": "stdout",
     "output_type": "stream",
     "text": [
      "0xf05243 0xf069ae jne short 00F05262h 751d <class 'bytes'> 15749699 15755694 <class 'int'> JNE_REL8_32 | 64 <class 'bytes'>\n",
      "  new_ins :  7522 \n",
      "\n",
      "0xf05248 0xf069b4 jne short 00F05262h 7518 <class 'bytes'> 15749704 15755700 <class 'int'> JNE_REL8_32 | 64 <class 'bytes'>\n",
      "  new_ins :  751c \n",
      "\n",
      "0xf0524d 0xf069ba jne short 00F05262h 7513 <class 'bytes'> 15749709 15755706 <class 'int'> JNE_REL8_32 | 64 <class 'bytes'>\n",
      "  new_ins :  7516 \n",
      "\n",
      "0xf05252 0xf069c0 jne short 00F05262h 750e <class 'bytes'> 15749714 15755712 <class 'int'> JNE_REL8_32 | 64 <class 'bytes'>\n",
      "  new_ins :  7510 \n",
      "\n",
      "0xf05257 0xf069c6 jne short 00F05262h 7509 <class 'bytes'> 15749719 15755718 <class 'int'> JNE_REL8_32 | 64 <class 'bytes'>\n",
      "  new_ins :  750a \n",
      "\n",
      "0xf0525c 0xf069cc je near ptr 00F0532Fh 0f84cd000000 <class 'bytes'> 15749724 15755724 <class 'int'> JE_REL32_32 | 64 <class 'bytes'>\n",
      "  new_ins :  0f84fc000000 \n",
      "\n",
      "0xf05268 0xf069da je short 00F0526Dh 7403 <class 'bytes'> 15749736 15755738 <class 'int'> JE_REL8_32 | 64 <class 'bytes'>\n",
      "  new_ins :  7404 \n",
      "\n",
      "0xf05270 0xf069e4 je short 00F05275h 7403 <class 'bytes'> 15749744 15755748 <class 'int'> JE_REL8_32 | 64 <class 'bytes'>\n",
      "  new_ins :  7404 \n",
      "\n",
      "0xf05278 0xf069ee je short 00F0527Dh 7403 <class 'bytes'> 15749752 15755758 <class 'int'> JE_REL8_32 | 64 <class 'bytes'>\n",
      "  new_ins :  7404 \n",
      "\n",
      "0xf0527f 0xf069f7 jne short 00F0529Eh 751d <class 'bytes'> 15749759 15755767 <class 'int'> JNE_REL8_32 | 64 <class 'bytes'>\n",
      "  new_ins :  7522 \n",
      "\n",
      "0xf05284 0xf069fd jne short 00F0529Eh 7518 <class 'bytes'> 15749764 15755773 <class 'int'> JNE_REL8_32 | 64 <class 'bytes'>\n",
      "  new_ins :  751c \n",
      "\n",
      "0xf05289 0xf06a03 jne short 00F0529Eh 7513 <class 'bytes'> 15749769 15755779 <class 'int'> JNE_REL8_32 | 64 <class 'bytes'>\n",
      "  new_ins :  7516 \n",
      "\n",
      "0xf0528e 0xf06a09 jne short 00F0529Eh 750e <class 'bytes'> 15749774 15755785 <class 'int'> JNE_REL8_32 | 64 <class 'bytes'>\n",
      "  new_ins :  7510 \n",
      "\n",
      "0xf05293 0xf06a0f jne short 00F0529Eh 7509 <class 'bytes'> 15749779 15755791 <class 'int'> JNE_REL8_32 | 64 <class 'bytes'>\n",
      "  new_ins :  750a \n",
      "\n",
      "0xf05298 0xf06a15 je near ptr 00F0532Fh 0f8491000000 <class 'bytes'> 15749784 15755797 <class 'int'> JE_REL32_32 | 64 <class 'bytes'>\n",
      "  new_ins :  0f84b3000000 \n",
      "\n",
      "0xf052a4 0xf06a23 je short 00F052A9h 7403 <class 'bytes'> 15749796 15755811 <class 'int'> JE_REL8_32 | 64 <class 'bytes'>\n",
      "  new_ins :  7404 \n",
      "\n",
      "0xf052ac 0xf06a2d je short 00F052B1h 7403 <class 'bytes'> 15749804 15755821 <class 'int'> JE_REL8_32 | 64 <class 'bytes'>\n",
      "  new_ins :  7404 \n",
      "\n",
      "0xf052b3 0xf06a36 jne short 00F052CEh 7519 <class 'bytes'> 15749811 15755830 <class 'int'> JNE_REL8_32 | 64 <class 'bytes'>\n",
      "  new_ins :  751e \n",
      "\n",
      "0xf052b8 0xf06a3c jne short 00F052CEh 7514 <class 'bytes'> 15749816 15755836 <class 'int'> JNE_REL8_32 | 64 <class 'bytes'>\n",
      "  new_ins :  7518 \n",
      "\n",
      "0xf052bd 0xf06a42 jne short 00F052CEh 750f <class 'bytes'> 15749821 15755842 <class 'int'> JNE_REL8_32 | 64 <class 'bytes'>\n",
      "  new_ins :  7512 \n",
      "\n",
      "0xf052c2 0xf06a48 jne short 00F052CEh 750a <class 'bytes'> 15749826 15755848 <class 'int'> JNE_REL8_32 | 64 <class 'bytes'>\n",
      "  new_ins :  750c \n",
      "\n",
      "0xf052c7 0xf06a4e jne short 00F052CEh 7505 <class 'bytes'> 15749831 15755854 <class 'int'> JNE_REL8_32 | 64 <class 'bytes'>\n",
      "  new_ins :  7506 \n",
      "\n"
     ]
    },
    {
     "name": "stderr",
     "output_type": "stream",
     "text": [
      "7312it [01:54, 253.69it/s]"
     ]
    },
    {
     "name": "stdout",
     "output_type": "stream",
     "text": [
      "0xf052cc 0xf06a54 je short 00F0532Fh 7461 <class 'bytes'> 15749836 15755860 <class 'int'> JE_REL8_32 | 64 <class 'bytes'>\n",
      "  new_ins :  7478 \n",
      "\n",
      "0xf052d4 0xf06a5e je short 00F052D8h 7402 <class 'bytes'> 15749844 15755870 <class 'int'> JE_REL8_32 | 64 <class 'bytes'>\n",
      "  new_ins :  7403 \n",
      "\n",
      "0xf052db 0xf06a67 je short 00F052E0h 7403 <class 'bytes'> 15749851 15755879 <class 'int'> JE_REL8_32 | 64 <class 'bytes'>\n",
      "  new_ins :  7404 \n",
      "\n",
      "0xf052e4 0xf06a73 jne short 00F052FFh 7519 <class 'bytes'> 15749860 15755891 <class 'int'> JNE_REL8_32 | 64 <class 'bytes'>\n",
      "  new_ins :  751e \n",
      "\n",
      "0xf052e9 0xf06a79 jne short 00F052FFh 7514 <class 'bytes'> 15749865 15755897 <class 'int'> JNE_REL8_32 | 64 <class 'bytes'>\n",
      "  new_ins :  7518 \n",
      "\n",
      "0xf052ee 0xf06a7f jne short 00F052FFh 750f <class 'bytes'> 15749870 15755903 <class 'int'> JNE_REL8_32 | 64 <class 'bytes'>\n",
      "  new_ins :  7512 \n",
      "\n",
      "0xf052f3 0xf06a85 jne short 00F052FFh 750a <class 'bytes'> 15749875 15755909 <class 'int'> JNE_REL8_32 | 64 <class 'bytes'>\n",
      "  new_ins :  750c \n",
      "\n",
      "0xf052f8 0xf06a8b jne short 00F052FFh 7505 <class 'bytes'> 15749880 15755915 <class 'int'> JNE_REL8_32 | 64 <class 'bytes'>\n",
      "  new_ins :  7506 \n",
      "\n",
      "0xf052fd 0xf06a91 je short 00F0532Fh 7430 <class 'bytes'> 15749885 15755921 <class 'int'> JE_REL8_32 | 64 <class 'bytes'>\n",
      "  new_ins :  743b \n",
      "\n",
      "0xf05305 0xf06a9b je short 00F0530Ah 7403 <class 'bytes'> 15749893 15755931 <class 'int'> JE_REL8_32 | 64 <class 'bytes'>\n",
      "  new_ins :  7404 \n",
      "\n",
      "0xf0530d 0xf06aa5 je short 00F05312h 7403 <class 'bytes'> 15749901 15755941 <class 'int'> JE_REL8_32 | 64 <class 'bytes'>\n",
      "  new_ins :  7404 \n",
      "\n",
      "0xf05314 0xf06aae jne short 00F05335h 751f <class 'bytes'> 15749908 15755950 <class 'int'> JNE_REL8_32 | 64 <class 'bytes'>\n",
      "  new_ins :  7528 \n",
      "\n",
      "0xf05319 0xf06ab4 jne short 00F05335h 751a <class 'bytes'> 15749913 15755956 <class 'int'> JNE_REL8_32 | 64 <class 'bytes'>\n",
      "  new_ins :  7522 \n",
      "\n",
      "0xf0531e 0xf06aba jne short 00F05335h 7515 <class 'bytes'> 15749918 15755962 <class 'int'> JNE_REL8_32 | 64 <class 'bytes'>\n",
      "  new_ins :  751c \n",
      "\n",
      "0xf05323 0xf06ac0 jne short 00F05335h 7510 <class 'bytes'> 15749923 15755968 <class 'int'> JNE_REL8_32 | 64 <class 'bytes'>\n",
      "  new_ins :  7516 \n",
      "\n",
      "0xf05328 0xf06ac6 jne short 00F05335h 750b <class 'bytes'> 15749928 15755974 <class 'int'> JNE_REL8_32 | 64 <class 'bytes'>\n",
      "  new_ins :  7510 \n",
      "\n",
      "0xf0532d 0xf06acc jne short 00F05335h 7506 <class 'bytes'> 15749933 15755980 <class 'int'> JNE_REL8_32 | 64 <class 'bytes'>\n",
      "  new_ins :  750a \n",
      "\n"
     ]
    },
    {
     "name": "stderr",
     "output_type": "stream",
     "text": [
      "7395it [01:55, 216.82it/s]"
     ]
    },
    {
     "name": "stdout",
     "output_type": "stream",
     "text": [
      "0xf05356 0xf06b06 call 00F19B30h e8d5470100 <class 'bytes'> 15749974 15756038 <class 'int'> CALL_REL32_32 | 64 <class 'bytes'>\n",
      "  new_ins :  e825ac0100 \n",
      "\n",
      "0xf05360 0xf06b12 jne short 00F05367h 7505 <class 'bytes'> 15749984 15756050 <class 'int'> JNE_REL8_32 | 64 <class 'bytes'>\n",
      "  new_ins :  7508 \n",
      "\n",
      "0xf0537a 0xf06b37 je short 00F053E2h 7466 <class 'bytes'> 15750010 15756087 <class 'int'> JE_REL8_32 | 68 <class 'bytes'>\n",
      "  new_ins :  0F8485000000 \n",
      "\n",
      "0xf05384 0xf06b48 jne short 00F053CCh 7546 <class 'bytes'> 15750020 15756104 <class 'int'> JNE_REL8_32 | 68 <class 'bytes'>\n",
      "  new_ins :  7557 \n",
      "\n",
      "0xf0538b 0xf06b50 jne short 00F053CCh 753f <class 'bytes'> 15750027 15756112 <class 'int'> JNE_REL8_32 | 68 <class 'bytes'>\n",
      "  new_ins :  754f \n",
      "\n",
      "0xf05392 0xf06b58 jne short 00F053CCh 7538 <class 'bytes'> 15750034 15756120 <class 'int'> JNE_REL8_32 | 68 <class 'bytes'>\n",
      "  new_ins :  7547 \n",
      "\n",
      "0xf05399 0xf06b60 jne short 00F053CCh 7531 <class 'bytes'> 15750041 15756128 <class 'int'> JNE_REL8_32 | 68 <class 'bytes'>\n",
      "  new_ins :  753f \n",
      "\n",
      "0xf053a0 0xf06b68 jne short 00F053CCh 752a <class 'bytes'> 15750048 15756136 <class 'int'> JNE_REL8_32 | 68 <class 'bytes'>\n",
      "  new_ins :  7537 \n",
      "\n",
      "0xf053bd 0xf06b8f call 00F04EA0h e8defaffff <class 'bytes'> 15750077 15756175 <class 'int'> CALL_REL32_32 | 68 <class 'bytes'>\n",
      "  new_ins :  e89af9ffff \n",
      "\n",
      "0xf053c7 0xf06b9b jne short 00F053DCh 7513 <class 'bytes'> 15750087 15756187 <class 'int'> JNE_REL8_32 | 68 <class 'bytes'>\n",
      "  new_ins :  751c \n",
      "\n",
      "0xf053d0 0xf06ba7 jb short 00F05380h 72ae <class 'bytes'> 15750096 15756199 <class 'int'> JB_REL8_32 | 68 <class 'bytes'>\n",
      "  new_ins :  729a \n",
      "\n"
     ]
    },
    {
     "name": "stderr",
     "output_type": "stream",
     "text": [
      "7429it [01:58, 28.92it/s] "
     ]
    },
    {
     "name": "stdout",
     "output_type": "stream",
     "text": [
      "0xf0540e 0xf06bfd call 00F19E50h e83d4a0100 <class 'bytes'> 15750158 15756285 <class 'int'> CALL_REL32_32 | 68 <class 'bytes'>\n",
      "  new_ins :  e871af0100 \n",
      "\n"
     ]
    },
    {
     "name": "stderr",
     "output_type": "stream",
     "text": [
      "7446it [01:59, 24.62it/s]"
     ]
    },
    {
     "name": "stdout",
     "output_type": "stream",
     "text": [
      "0xf0541b 0xf06c0c call 00F1B58Ch e86c610100 <class 'bytes'> 15750171 15756300 <class 'int'> CALL_REL32_32 | 68 <class 'bytes'>\n",
      "  new_ins :  e87dce0100 \n",
      "\n",
      "0xf0542b 0xf06c20 call 00F13C90h e860e80000 <class 'bytes'> 15750187 15756320 <class 'int'> CALL_REL32_32 | 68 <class 'bytes'>\n",
      "  new_ins :  e84e2d0100 \n",
      "\n",
      "0xf05434 0xf06c2b call 00F07E10h e8d7290000 <class 'bytes'> 15750196 15756331 <class 'int'> CALL_REL32_32 | 68 <class 'bytes'>\n",
      "  new_ins :  e806360000 \n",
      "\n",
      "0xf05449 0xf06c45 call 00F08B60h e812370000 <class 'bytes'> 15750217 15756357 <class 'int'> CALL_REL32_32 | 68 <class 'bytes'>\n",
      "  new_ins :  e8e2460000 \n",
      "\n",
      "0xf05452 0xf06c50 call 00F08B30h e8d9360000 <class 'bytes'> 15750226 15756368 <class 'int'> CALL_REL32_32 | 68 <class 'bytes'>\n",
      "  new_ins :  e898460000 \n",
      "\n",
      "0xf05464 0xf06c67 call 00F08BE0h e877370000 <class 'bytes'> 15750244 15756391 <class 'int'> CALL_REL32_32 | 68 <class 'bytes'>\n",
      "  new_ins :  e867470000 \n",
      "\n"
     ]
    },
    {
     "name": "stderr",
     "output_type": "stream",
     "text": [
      "7471it [02:00, 31.55it/s]"
     ]
    },
    {
     "name": "stdout",
     "output_type": "stream",
     "text": [
      "0xf05490 0xf06ca1 call 00F19E50h e8bb490100 <class 'bytes'> 15750288 15756449 <class 'int'> CALL_REL32_32 | 68 <class 'bytes'>\n",
      "  new_ins :  e8cdae0100 \n",
      "\n",
      "0xf054a8 0xf06cbe call 00F19E50h e8a3490100 <class 'bytes'> 15750312 15756478 <class 'int'> CALL_REL32_32 | 68 <class 'bytes'>\n",
      "  new_ins :  e8b0ae0100 \n",
      "\n"
     ]
    },
    {
     "name": "stderr",
     "output_type": "stream",
     "text": [
      "7484it [02:00, 32.20it/s]"
     ]
    },
    {
     "name": "stdout",
     "output_type": "stream",
     "text": [
      "0xf054ad 0xf06cc3 call 00F193E0h e82e3f0100 <class 'bytes'> 15750317 15756483 <class 'int'> CALL_REL32_32 | 68 <class 'bytes'>\n",
      "  new_ins :  e8e6a00100 \n",
      "\n",
      "0xf054b4 0xf06ccc call 00F19400h e8473f0100 <class 'bytes'> 15750324 15756492 <class 'int'> CALL_REL32_32 | 68 <class 'bytes'>\n",
      "  new_ins :  e808a10100 \n",
      "\n"
     ]
    },
    {
     "name": "stderr",
     "output_type": "stream",
     "text": [
      "7494it [02:00, 33.09it/s]"
     ]
    },
    {
     "name": "stdout",
     "output_type": "stream",
     "text": [
      "0xf054c4 0xf06ce0 call 00F1A470h e8a74f0100 <class 'bytes'> 15750340 15756512 <class 'int'> CALL_REL32_32 | 68 <class 'bytes'>\n",
      "  new_ins :  e80ab70100 \n",
      "\n",
      "0xf054d0 0xf06cee call 00F1A0A0h e8cb4b0100 <class 'bytes'> 15750352 15756526 <class 'int'> CALL_REL32_32 | 68 <class 'bytes'>\n",
      "  new_ins :  e8c5b10100 \n",
      "\n"
     ]
    },
    {
     "name": "stderr",
     "output_type": "stream",
     "text": [
      "7510it [02:01, 37.06it/s]"
     ]
    },
    {
     "name": "stdout",
     "output_type": "stream",
     "text": [
      "0xf054e7 0xf06d0b call 00F1A760h e874520100 <class 'bytes'> 15750375 15756555 <class 'int'> CALL_REL32_32 | 68 <class 'bytes'>\n",
      "  new_ins :  e8f9ba0100 \n",
      "\n",
      "0xf054fc 0xf06d26 call 00F12D80h e87fd80000 <class 'bytes'> 15750396 15756582 <class 'int'> CALL_REL32_32 | 68 <class 'bytes'>\n",
      "  new_ins :  e8dc170100 \n",
      "\n",
      "0xf05505 0xf06d31 call 00F12DE0h e8d6d80000 <class 'bytes'> 15750405 15756593 <class 'int'> CALL_REL32_32 | 68 <class 'bytes'>\n",
      "  new_ins :  e84e180100 \n",
      "\n",
      "0xf0550f 0xf06d3d je short 00F0553Bh 742a <class 'bytes'> 15750415 15756605 <class 'int'> JE_REL8_32 | 68 <class 'bytes'>\n",
      "  new_ins :  7436 \n",
      "\n"
     ]
    },
    {
     "name": "stderr",
     "output_type": "stream",
     "text": [
      "7529it [02:01, 44.64it/s]"
     ]
    },
    {
     "name": "stdout",
     "output_type": "stream",
     "text": [
      "0xf0551d 0xf06d4e call 00F1C981h e85f740100 <class 'bytes'> 15750429 15756622 <class 'int'> CALL_REL32_32 | 68 <class 'bytes'>\n",
      "  new_ins :  e8c3e40100 \n",
      "\n",
      "0xf0552d 0xf06d62 call 00F13C90h e85ee70000 <class 'bytes'> 15750445 15756642 <class 'int'> CALL_REL32_32 | 68 <class 'bytes'>\n",
      "  new_ins :  e80c2c0100 \n",
      "\n",
      "0xf05545 0xf06d83 call 00F12D80h e836d80000 <class 'bytes'> 15750469 15756675 <class 'int'> CALL_REL32_32 | 68 <class 'bytes'>\n",
      "  new_ins :  e87f170100 \n",
      "\n"
     ]
    },
    {
     "name": "stderr",
     "output_type": "stream",
     "text": [
      "7539it [02:01, 44.38it/s]"
     ]
    },
    {
     "name": "stdout",
     "output_type": "stream",
     "text": [
      "0xf0554e 0xf06d8e call 00F12DE0h e88dd80000 <class 'bytes'> 15750478 15756686 <class 'int'> CALL_REL32_32 | 68 <class 'bytes'>\n",
      "  new_ins :  e8f1170100 \n",
      "\n",
      "0xf05558 0xf06d9a je short 00F0556Dh 7413 <class 'bytes'> 15750488 15756698 <class 'int'> JE_REL8_32 | 68 <class 'bytes'>\n",
      "  new_ins :  7416 \n",
      "\n",
      "0xf05566 0xf06dab call 00F1C958h e8ed730100 <class 'bytes'> 15750502 15756715 <class 'int'> CALL_REL32_32 | 68 <class 'bytes'>\n",
      "  new_ins :  e834e40100 \n",
      "\n",
      "0xf0556b 0xf06db0 jmp short 00F05522h ebb5 <class 'bytes'> 15750507 15756720 <class 'int'> JMP_REL8_32 | 68 <class 'bytes'>\n",
      "  new_ins :  eba1 \n",
      "\n"
     ]
    },
    {
     "name": "stderr",
     "output_type": "stream",
     "text": [
      "7547it [02:01, 49.51it/s]"
     ]
    },
    {
     "name": "stdout",
     "output_type": "stream",
     "text": [
      "0xf05577 0xf06dc0 call 00F12D80h e804d80000 <class 'bytes'> 15750519 15756736 <class 'int'> CALL_REL32_32 | 68 <class 'bytes'>\n",
      "  new_ins :  e842170100 \n",
      "\n",
      "0xf05580 0xf06dcb call 00F12DE0h e85bd80000 <class 'bytes'> 15750528 15756747 <class 'int'> CALL_REL32_32 | 68 <class 'bytes'>\n",
      "  new_ins :  e8b4170100 \n",
      "\n",
      "0xf0558a 0xf06dd7 je short 00F0559Fh 7413 <class 'bytes'> 15750538 15756759 <class 'int'> JE_REL8_32 | 68 <class 'bytes'>\n",
      "  new_ins :  7419 \n",
      "\n"
     ]
    },
    {
     "name": "stderr",
     "output_type": "stream",
     "text": [
      "7555it [02:01, 45.11it/s]"
     ]
    },
    {
     "name": "stdout",
     "output_type": "stream",
     "text": [
      "0xf05598 0xf06de8 call 00F1C92Dh e890730100 <class 'bytes'> 15750552 15756776 <class 'int'> CALL_REL32_32 | 68 <class 'bytes'>\n",
      "  new_ins :  e8c3e30100 \n",
      "\n",
      "0xf0559d 0xf06ded jmp short 00F05522h eb83 <class 'bytes'> 15750557 15756781 <class 'int'> JMP_REL8_32 | 71 <class 'bytes'>\n",
      "  new_ins :  E961ffffff \n",
      "\n"
     ]
    },
    {
     "name": "stderr",
     "output_type": "stream",
     "text": [
      "7561it [02:03, 13.66it/s]"
     ]
    },
    {
     "name": "stdout",
     "output_type": "stream",
     "text": [
      "0xf055a9 0xf06e00 call 00F12D80h e8d2d70000 <class 'bytes'> 15750569 15756800 <class 'int'> CALL_REL32_32 | 71 <class 'bytes'>\n",
      "  new_ins :  e802170100 \n",
      "\n",
      "0xf055b2 0xf06e0b call 00F12DE0h e829d80000 <class 'bytes'> 15750578 15756811 <class 'int'> CALL_REL32_32 | 71 <class 'bytes'>\n",
      "  new_ins :  e874170100 \n",
      "\n",
      "0xf055bc 0xf06e17 je short 00F055D4h 7416 <class 'bytes'> 15750588 15756823 <class 'int'> JE_REL8_32 | 71 <class 'bytes'>\n",
      "  new_ins :  7419 \n",
      "\n"
     ]
    },
    {
     "name": "stderr",
     "output_type": "stream",
     "text": [
      "7579it [02:06,  9.19it/s]"
     ]
    },
    {
     "name": "stdout",
     "output_type": "stream",
     "text": [
      "0xf055ca 0xf06e28 call 00F1C900h e831730100 <class 'bytes'> 15750602 15756840 <class 'int'> CALL_REL32_32 | 71 <class 'bytes'>\n",
      "  new_ins :  e84be30100 \n",
      "\n",
      "0xf055cf 0xf06e2d jmp near ptr 00F05522h e94effffff <class 'bytes'> 15750607 15756845 <class 'int'> JMP_REL32_32 | 71 <class 'bytes'>\n",
      "  new_ins :  e921ffffff \n",
      "\n",
      "0xf055de 0xf06e40 call 00F12D80h e89dd70000 <class 'bytes'> 15750622 15756864 <class 'int'> CALL_REL32_32 | 71 <class 'bytes'>\n",
      "  new_ins :  e8c2160100 \n",
      "\n",
      "0xf055e7 0xf06e4b call 00F12DE0h e8f4d70000 <class 'bytes'> 15750631 15756875 <class 'int'> CALL_REL32_32 | 71 <class 'bytes'>\n",
      "  new_ins :  e834170100 \n",
      "\n",
      "0xf055f1 0xf06e57 je short 00F05609h 7416 <class 'bytes'> 15750641 15756887 <class 'int'> JE_REL8_32 | 71 <class 'bytes'>\n",
      "  new_ins :  7419 \n",
      "\n"
     ]
    },
    {
     "name": "stderr",
     "output_type": "stream",
     "text": [
      "7599it [02:06, 16.93it/s]"
     ]
    },
    {
     "name": "stdout",
     "output_type": "stream",
     "text": [
      "0xf055ff 0xf06e68 call 00F1C8D4h e8d0720100 <class 'bytes'> 15750655 15756904 <class 'int'> CALL_REL32_32 | 71 <class 'bytes'>\n",
      "  new_ins :  e8d4e20100 \n",
      "\n",
      "0xf05604 0xf06e6d jmp near ptr 00F05522h e919ffffff <class 'bytes'> 15750660 15756909 <class 'int'> JMP_REL32_32 | 71 <class 'bytes'>\n",
      "  new_ins :  e9e1feffff \n",
      "\n",
      "0xf0561d 0xf06e8d call 00F12D80h e85ed70000 <class 'bytes'> 15750685 15756941 <class 'int'> CALL_REL32_32 | 71 <class 'bytes'>\n",
      "  new_ins :  e875160100 \n",
      "\n",
      "0xf05626 0xf06e98 call 00F12DE0h e8b5d70000 <class 'bytes'> 15750694 15756952 <class 'int'> CALL_REL32_32 | 71 <class 'bytes'>\n",
      "  new_ins :  e8e7160100 \n",
      "\n",
      "0xf05630 0xf06ea4 jne near ptr 00F056BEh 0f8588000000 <class 'bytes'> 15750704 15756964 <class 'int'> JNE_REL32_32 | 71 <class 'bytes'>\n",
      "  new_ins :  0f85ac000000 \n",
      "\n",
      "0xf0563e 0xf06eb5 jbe short 00F05614h 76d4 <class 'bytes'> 15750718 15756981 <class 'int'> JBE_REL8_32 | 71 <class 'bytes'>\n",
      "  new_ins :  76c9 \n",
      "\n"
     ]
    },
    {
     "name": "stderr",
     "output_type": "stream",
     "text": [
      "7624it [02:07, 33.41it/s]"
     ]
    },
    {
     "name": "stdout",
     "output_type": "stream",
     "text": [
      "0xf0564e 0xf06eca call 00F12D80h e82dd70000 <class 'bytes'> 15750734 15757002 <class 'int'> CALL_REL32_32 | 71 <class 'bytes'>\n",
      "  new_ins :  e838160100 \n",
      "\n",
      "0xf05657 0xf06ed5 call 00F12DE0h e884d70000 <class 'bytes'> 15750743 15757013 <class 'int'> CALL_REL32_32 | 71 <class 'bytes'>\n",
      "  new_ins :  e8aa160100 \n",
      "\n",
      "0xf05661 0xf06ee1 jne short 00F056C6h 7563 <class 'bytes'> 15750753 15757025 <class 'int'> JNE_REL8_32 | 71 <class 'bytes'>\n",
      "  new_ins :  757d \n",
      "\n",
      "0xf0566a 0xf06eec jbe short 00F05645h 76d9 <class 'bytes'> 15750762 15757036 <class 'int'> JBE_REL8_32 | 71 <class 'bytes'>\n",
      "  new_ins :  76cf \n",
      "\n"
     ]
    },
    {
     "name": "stderr",
     "output_type": "stream",
     "text": [
      "7633it [02:07, 38.82it/s]"
     ]
    },
    {
     "name": "stdout",
     "output_type": "stream",
     "text": [
      "0xf05695 0xf06f21 call 00F19DD0h e836470100 <class 'bytes'> 15750805 15757089 <class 'int'> CALL_REL32_32 | 71 <class 'bytes'>\n",
      "  new_ins :  e89bab0100 \n",
      "\n",
      "0xf0569f 0xf06f2d call 00F1C8AAh e806720100 <class 'bytes'> 15750815 15757101 <class 'int'> CALL_REL32_32 | 71 <class 'bytes'>\n",
      "  new_ins :  e8dde10100 \n",
      "\n"
     ]
    },
    {
     "name": "stderr",
     "output_type": "stream",
     "text": [
      "7731it [02:07, 159.84it/s]"
     ]
    },
    {
     "name": "stdout",
     "output_type": "stream",
     "text": [
      "0xf056af 0xf06f41 call 00F13C90h e8dce50000 <class 'bytes'> 15750831 15757121 <class 'int'> CALL_REL32_32 | 71 <class 'bytes'>\n",
      "  new_ins :  e82d2a0100 \n",
      "\n",
      "0xf056c4 0xf06f5e jmp short 00F0569Dh ebd7 <class 'bytes'> 15750852 15757150 <class 'int'> JMP_REL8_32 | 71 <class 'bytes'>\n",
      "  new_ins :  ebca \n",
      "\n",
      "0xf056d0 0xf06f6c jmp short 00F0569Dh ebcb <class 'bytes'> 15750864 15757164 <class 'int'> JMP_REL8_32 | 71 <class 'bytes'>\n",
      "  new_ins :  ebbc \n",
      "\n",
      "0xf0570f 0xf06fbe jae short 00F05768h 7357 <class 'bytes'> 15750927 15757246 <class 'int'> JAE_REL8_32 | 71 <class 'bytes'>\n",
      "  new_ins :  7373 \n",
      "\n",
      "0xf0574b 0xf0700e jne short 00F056F3h 75a6 <class 'bytes'> 15750987 15757326 <class 'int'> JNE_REL8_32 | 71 <class 'bytes'>\n",
      "  new_ins :  7587 \n",
      "\n",
      "0xf05770 0xf0703c jp short 00F057B9h 7a47 <class 'bytes'> 15751024 15757372 <class 'int'> JP_REL8_32 | 71 <class 'bytes'>\n",
      "  new_ins :  7a6d \n",
      "\n",
      "0xf05774 0xf07042 js short 00F05763h 78ed <class 'bytes'> 15751028 15757378 <class 'int'> JS_REL8_32 | 71 <class 'bytes'>\n",
      "  new_ins :  78e9 \n",
      "\n",
      "0xf05785 0xf07057 jb short 00F057EFh 7268 <class 'bytes'> 15751045 15757399 <class 'int'> JB_REL8_32 | 75 <class 'bytes'>\n",
      "  new_ins :  0F8296000000 \n",
      "\n",
      "0xf05787 0xf0705d jb short 00F05713h 728a <class 'bytes'> 15751047 15757405 <class 'int'> JB_REL8_32 | 79 <class 'bytes'>\n",
      "  new_ins :  0F8260ffffff \n",
      "\n",
      "0xf05789 0xf07063 jle short 00F0572Eh 7ea3 <class 'bytes'> 15751049 15757411 <class 'int'> JLE_REL8_32 | 79 <class 'bytes'>\n",
      "  new_ins :  7e84 \n",
      "\n",
      "0xf057a4 0xf0708a jp short 00F05806h 7a60 <class 'bytes'> 15751076 15757450 <class 'int'> JP_REL8_32 | 83 <class 'bytes'>\n",
      "  new_ins :  0F8A82000000 \n",
      "\n"
     ]
    },
    {
     "name": "stderr",
     "output_type": "stream",
     "text": [
      "7761it [02:07, 170.77it/s]"
     ]
    },
    {
     "name": "stdout",
     "output_type": "stream",
     "text": [
      "0xf057ac 0xf07099 js short 00F057C8h 781a <class 'bytes'> 15751084 15757465 <class 'int'> JS_REL8_32 | 83 <class 'bytes'>\n",
      "  new_ins :  7829 \n",
      "\n",
      "0xf057b8 0xf070aa jae short 00F05839h 737f <class 'bytes'> 15751096 15757482 <class 'int'> JAE_REL8_32 | 87 <class 'bytes'>\n",
      "  new_ins :  0F83b2000000 \n",
      "\n",
      "0xf057c3 0xf070bd jge short 00F057A9h 7de4 <class 'bytes'> 15751107 15757501 <class 'int'> JGE_REL8_32 | 87 <class 'bytes'>\n",
      "  new_ins :  7dd6 \n",
      "\n"
     ]
    },
    {
     "name": "stderr",
     "output_type": "stream",
     "text": [
      "7883it [02:20, 20.65it/s] "
     ]
    },
    {
     "name": "stdout",
     "output_type": "stream",
     "text": [
      "0xf057cb 0xf070c9 jmp near ptr 4C562D91h e9c1d5654b <class 'bytes'> 15751115 15757513 <class 'int'> JMP_REL32_32 | 87 <class 'bytes'>\n",
      "  new_ins :  e91ca0664b \n",
      "\n",
      "0xf05811 0xf07124 jge short 00F0581Eh 7d0b <class 'bytes'> 15751185 15757604 <class 'int'> JGE_REL8_32 | 87 <class 'bytes'>\n",
      "  new_ins :  7d0f \n",
      "\n",
      "0xf05827 0xf07142 ja short 00F057DEh 77b5 <class 'bytes'> 15751207 15757634 <class 'int'> JA_REL8_32 | 87 <class 'bytes'>\n",
      "  new_ins :  779b \n",
      "\n",
      "0xf0582d 0xf0714b jae short 00F057C2h 7393 <class 'bytes'> 15751213 15757643 <class 'int'> JAE_REL8_32 | 91 <class 'bytes'>\n",
      "  new_ins :  0F836affffff \n",
      "\n",
      "0xf0584d 0xf0717d jne short 00F058BCh 756d <class 'bytes'> 15751245 15757693 <class 'int'> JNE_REL8_32 | 95 <class 'bytes'>\n",
      "  new_ins :  0F858f000000 \n",
      "\n",
      "0xf0585e 0xf07197 jg short 00F058B4h 7f54 <class 'bytes'> 15751262 15757719 <class 'int'> JG_REL8_32 | 95 <class 'bytes'>\n",
      "  new_ins :  7f71 \n",
      "\n",
      "0xf058c9 0xf07222 jle short 00F0585Eh 7e93 <class 'bytes'> 15751369 15757858 <class 'int'> JLE_REL8_32 | 99 <class 'bytes'>\n",
      "  new_ins :  0F8E6fffffff \n",
      "\n",
      "0xf058ea 0xf07252 jg short 00F058B8h 7fcc <class 'bytes'> 15751402 15757906 <class 'int'> JG_REL8_32 | 99 <class 'bytes'>\n",
      "  new_ins :  7fba \n",
      "\n",
      "0xf058f5 0xf07261 jg short 00F058F4h 7ffd <class 'bytes'> 15751413 15757921 <class 'int'> JG_REL8_32 | 99 <class 'bytes'>\n",
      "  new_ins :  7ffd \n",
      "\n",
      "0xf058f9 0xf07267 loop 00F058A9h e2ae <class 'bytes'> 15751417 15757927 <class 'int'> LOOP_REL8_32_ECX | 99 <class 'bytes'>\n",
      "  new_ins :  e293 \n",
      "\n",
      "0xf05906 0xf07277 js short 00F058B5h 78ad <class 'bytes'> 15751430 15757943 <class 'int'> JS_REL8_32 | 99 <class 'bytes'>\n",
      "  new_ins :  7892 \n",
      "\n"
     ]
    },
    {
     "name": "stderr",
     "output_type": "stream",
     "text": [
      "7984it [02:21, 44.40it/s]"
     ]
    },
    {
     "name": "stdout",
     "output_type": "stream",
     "text": [
      "0xf05931 0xf072ae loop 00F05982h e24f <class 'bytes'> 15751473 15757998 <class 'int'> LOOP_REL8_32_ECX | 99 <class 'bytes'>\n",
      "  new_ins :  e26e \n",
      "\n",
      "0xf0595e 0xf072ed jg short 00F058E8h 7f88 <class 'bytes'> 15751518 15758061 <class 'int'> JG_REL8_32 | 103 <class 'bytes'>\n",
      "  new_ins :  0F8F5dffffff \n",
      "\n",
      "0xf05978 0xf07311 je short 00F059AAh 7430 <class 'bytes'> 15751544 15758097 <class 'int'> JE_REL8_32 | 103 <class 'bytes'>\n",
      "  new_ins :  743f \n",
      "\n",
      "0xf0598d 0xf0732c jg short 00F05942h 7fb3 <class 'bytes'> 15751565 15758124 <class 'int'> JG_REL8_32 | 103 <class 'bytes'>\n",
      "  new_ins :  7f97 \n",
      "\n",
      "0xf0599a 0xf0733c je short 00F05947h 74ab <class 'bytes'> 15751578 15758140 <class 'int'> JE_REL8_32 | 103 <class 'bytes'>\n",
      "  new_ins :  748d \n",
      "\n",
      "0xf059bf 0xf07371 jns short 00F05949h 7988 <class 'bytes'> 15751615 15758193 <class 'int'> JNS_REL8_32 | 107 <class 'bytes'>\n",
      "  new_ins :  0F8957ffffff \n",
      "\n",
      "0xf059e8 0xf073ab loope 00F0598Eh e1a4 <class 'bytes'> 15751656 15758251 <class 'int'> LOOPE_REL8_32_ECX | 111 <class 'bytes'>\n",
      "  new_ins :  0F827cffffff \n",
      "\n",
      "0xf05a0a 0xf073dc loope 00F05A1Ah e10e <class 'bytes'> 15751690 15758300 <class 'int'> LOOPE_REL8_32_ECX | 111 <class 'bytes'>\n",
      "  new_ins :  e111 \n",
      "\n",
      "0xf05a19 0xf073ee loopne 00F05A25h e00a <class 'bytes'> 15751705 15758318 <class 'int'> LOOPNE_REL8_32_ECX | 111 <class 'bytes'>\n",
      "  new_ins :  e00d \n",
      "\n"
     ]
    },
    {
     "name": "stderr",
     "output_type": "stream",
     "text": [
      "8050it [02:21, 68.38it/s]"
     ]
    },
    {
     "name": "stdout",
     "output_type": "stream",
     "text": [
      "0xf05a30 0xf0740c loop 00F059C8h e296 <class 'bytes'> 15751728 15758348 <class 'int'> LOOP_REL8_32_ECX | 115 <class 'bytes'>\n",
      "  new_ins :  0F8570ffffff \n",
      "\n",
      "0xf05a3b 0xf0741f je short 00F059DCh 749f <class 'bytes'> 15751739 15758367 <class 'int'> JE_REL8_32 | 119 <class 'bytes'>\n",
      "  new_ins :  0F8475ffffff \n",
      "\n",
      "0xf05a44 0xf0742f jo short 00F05ABCh 7076 <class 'bytes'> 15751748 15758383 <class 'int'> JO_REL8_32 | 123 <class 'bytes'>\n",
      "  new_ins :  0F80a2000000 \n",
      "\n",
      "0xf05a85 0xf07494 jl short 00F05A81h 7cfa <class 'bytes'> 15751813 15758484 <class 'int'> JL_REL8_32 | 123 <class 'bytes'>\n",
      "  new_ins :  7cf8 \n",
      "\n",
      "0xf05a9a 0xf074ae jo short 00F05A4Dh 70b1 <class 'bytes'> 15751834 15758510 <class 'int'> JO_REL8_32 | 123 <class 'bytes'>\n",
      "  new_ins :  708e \n",
      "\n",
      "0xf05abc 0xf074d7 jbe short 00F05AFBh 763d <class 'bytes'> 15751868 15758551 <class 'int'> JBE_REL8_32 | 123 <class 'bytes'>\n",
      "  new_ins :  764e \n",
      "\n",
      "0xf05acc 0xf074eb jae short 00F05B29h 735b <class 'bytes'> 15751884 15758571 <class 'int'> JAE_REL8_32 | 123 <class 'bytes'>\n",
      "  new_ins :  7376 \n",
      "\n",
      "0xf05ad8 0xf074f8 jnp short 00F05B09h 7b2f <class 'bytes'> 15751896 15758584 <class 'int'> JNP_REL8_32 | 123 <class 'bytes'>\n",
      "  new_ins :  7b3f \n",
      "\n",
      "0xf05adb 0xf074fd jp short 00F05A7Eh 7aa1 <class 'bytes'> 15751899 15758589 <class 'int'> JP_REL8_32 | 123 <class 'bytes'>\n",
      "  new_ins :  7a8c \n",
      "\n"
     ]
    },
    {
     "name": "stderr",
     "output_type": "stream",
     "text": [
      "8101it [02:21, 69.46it/s]"
     ]
    },
    {
     "name": "stdout",
     "output_type": "stream",
     "text": [
      "0xf05add 0xf07500 call 921DF038h e856952d91 <class 'bytes'> 15751901 15758592 <class 'int'> CALL_REL32_32 | 123 <class 'bytes'>\n",
      "  new_ins :  e83b7b2d91 \n",
      "\n",
      "0xf05ae8 0xf0750e jp short 00F05AF7h 7a0d <class 'bytes'> 15751912 15758606 <class 'int'> JP_REL8_32 | 123 <class 'bytes'>\n",
      "  new_ins :  7a12 \n",
      "\n"
     ]
    },
    {
     "name": "stderr",
     "output_type": "stream",
     "text": [
      "8139it [02:25, 29.40it/s]"
     ]
    },
    {
     "name": "stdout",
     "output_type": "stream",
     "text": [
      "0xf05b5a 0xf075a9 call 00F1A0C0h e861450100 <class 'bytes'> 15752026 15758761 <class 'int'> CALL_REL32_32 | 123 <class 'bytes'>\n",
      "  new_ins :  e838a90100 \n",
      "\n",
      "0xf05b67 0xf075b8 ja near ptr 00F05CCDh 0f8760010000 <class 'bytes'> 15752039 15758776 <class 'int'> JA_REL32_32 | 123 <class 'bytes'>\n",
      "  new_ins :  0f87b9010000 \n",
      "\n",
      "0xf05b7d 0xf075d4 je near ptr 00F05CCBh 0f8448010000 <class 'bytes'> 15752061 15758804 <class 'int'> JE_REL32_32 | 123 <class 'bytes'>\n",
      "  new_ins :  0f8499010000 \n",
      "\n",
      "0xf05b93 0xf075f1 call 00F1A0E0h e848450100 <class 'bytes'> 15752083 15758833 <class 'int'> CALL_REL32_32 | 123 <class 'bytes'>\n",
      "  new_ins :  e81ba90100 \n",
      "\n",
      "0xf05b9d 0xf075fd jne near ptr 00F05CCAh 0f8527010000 <class 'bytes'> 15752093 15758845 <class 'int'> JNE_REL32_32 | 123 <class 'bytes'>\n",
      "  new_ins :  0f856e010000 \n",
      "\n"
     ]
    },
    {
     "name": "stderr",
     "output_type": "stream",
     "text": [
      "8191it [02:25, 41.90it/s]"
     ]
    },
    {
     "name": "stdout",
     "output_type": "stream",
     "text": [
      "0xf05ba9 0xf0760d call 00F19DD0h e822420100 <class 'bytes'> 15752105 15758861 <class 'int'> CALL_REL32_32 | 123 <class 'bytes'>\n",
      "  new_ins :  e8b3a40100 \n",
      "\n",
      "0xf05c18 0xf07692 jbe short 00F05C25h 760b <class 'bytes'> 15752216 15758994 <class 'int'> JBE_REL8_32 | 123 <class 'bytes'>\n",
      "  new_ins :  760d \n",
      "\n",
      "0xf05c23 0xf0769f jmp short 00F05C54h eb2f <class 'bytes'> 15752227 15759007 <class 'int'> JMP_REL8_32 | 123 <class 'bytes'>\n",
      "  new_ins :  eb39 \n",
      "\n",
      "0xf05c27 0xf076a4 jne short 00F05C54h 752b <class 'bytes'> 15752231 15759012 <class 'int'> JNE_REL8_32 | 123 <class 'bytes'>\n",
      "  new_ins :  7534 \n",
      "\n",
      "0xf05c4c 0xf076d1 call 00F19DD0h e87f410100 <class 'bytes'> 15752268 15759057 <class 'int'> CALL_REL32_32 | 123 <class 'bytes'>\n",
      "  new_ins :  e8efa30100 \n",
      "\n",
      "0xf05c61 0xf076ec call 00F19DD0h e86a410100 <class 'bytes'> 15752289 15759084 <class 'int'> CALL_REL32_32 | 123 <class 'bytes'>\n",
      "  new_ins :  e8d4a30100 \n",
      "\n",
      "0xf05c6d 0xf076fc call 00F1A230h e8be450100 <class 'bytes'> 15752301 15759100 <class 'int'> CALL_REL32_32 | 123 <class 'bytes'>\n",
      "  new_ins :  e8f0a90100 \n",
      "\n",
      "0xf05c76 0xf07708 call 00F1A230h e8b5450100 <class 'bytes'> 15752310 15759112 <class 'int'> CALL_REL32_32 | 123 <class 'bytes'>\n",
      "  new_ins :  e8e4a90100 \n",
      "\n",
      "0xf05c82 0xf07718 call 00F1A230h e8a9450100 <class 'bytes'> 15752322 15759128 <class 'int'> CALL_REL32_32 | 123 <class 'bytes'>\n",
      "  new_ins :  e8d4a90100 \n",
      "\n",
      "0xf05c8e 0xf07728 call 00F1A230h e89d450100 <class 'bytes'> 15752334 15759144 <class 'int'> CALL_REL32_32 | 123 <class 'bytes'>\n",
      "  new_ins :  e8c4a90100 \n",
      "\n"
     ]
    },
    {
     "name": "stderr",
     "output_type": "stream",
     "text": [
      "8213it [02:26, 37.45it/s]"
     ]
    },
    {
     "name": "stdout",
     "output_type": "stream",
     "text": [
      "0xf05c94 0xf0772f call 00F1A0C0h e827440100 <class 'bytes'> 15752340 15759151 <class 'int'> CALL_REL32_32 | 123 <class 'bytes'>\n",
      "  new_ins :  e8b2a70100 \n",
      "\n",
      "0xf05ca8 0xf07748 call 00F1A0C0h e813440100 <class 'bytes'> 15752360 15759176 <class 'int'> CALL_REL32_32 | 123 <class 'bytes'>\n",
      "  new_ins :  e899a70100 \n",
      "\n"
     ]
    },
    {
     "name": "stderr",
     "output_type": "stream",
     "text": [
      "8273it [02:27, 62.93it/s]"
     ]
    },
    {
     "name": "stdout",
     "output_type": "stream",
     "text": [
      "0xf05cb8 0xf0775d call 00F19DD0h e813410100 <class 'bytes'> 15752376 15759197 <class 'int'> CALL_REL32_32 | 123 <class 'bytes'>\n",
      "  new_ins :  e863a30100 \n",
      "\n",
      "0xf05cd1 0xf0777d jle short 00F05C53h 7e80 <class 'bytes'> 15752401 15759229 <class 'int'> JLE_REL8_32 | 127 <class 'bytes'>\n",
      "  new_ins :  0F8E56ffffff \n",
      "\n",
      "0xf05cef 0xf077a8 je short 00F05D62h 7471 <class 'bytes'> 15752431 15759272 <class 'int'> JE_REL8_32 | 131 <class 'bytes'>\n",
      "  new_ins :  0F848d000000 \n",
      "\n",
      "0xf05cf8 0xf077b6 je short 00F05D62h 7468 <class 'bytes'> 15752440 15759286 <class 'int'> JE_REL8_32 | 135 <class 'bytes'>\n",
      "  new_ins :  0F847f000000 \n",
      "\n",
      "0xf05d01 0xf077c4 je short 00F05D62h 745f <class 'bytes'> 15752449 15759300 <class 'int'> JE_REL8_32 | 135 <class 'bytes'>\n",
      "  new_ins :  7475 \n",
      "\n",
      "0xf05d0a 0xf077ce je short 00F05D62h 7456 <class 'bytes'> 15752458 15759310 <class 'int'> JE_REL8_32 | 135 <class 'bytes'>\n",
      "  new_ins :  746b \n",
      "\n",
      "0xf05d13 0xf077d8 je short 00F05D62h 744d <class 'bytes'> 15752467 15759320 <class 'int'> JE_REL8_32 | 135 <class 'bytes'>\n",
      "  new_ins :  7461 \n",
      "\n",
      "0xf05d1c 0xf077e2 je short 00F05D62h 7444 <class 'bytes'> 15752476 15759330 <class 'int'> JE_REL8_32 | 135 <class 'bytes'>\n",
      "  new_ins :  7457 \n",
      "\n",
      "0xf05d24 0xf077ec je short 00F05D62h 743c <class 'bytes'> 15752484 15759340 <class 'int'> JE_REL8_32 | 135 <class 'bytes'>\n",
      "  new_ins :  744d \n",
      "\n",
      "0xf05d35 0xf07802 je short 00F05D57h 7420 <class 'bytes'> 15752501 15759362 <class 'int'> JE_REL8_32 | 135 <class 'bytes'>\n",
      "  new_ins :  7428 \n",
      "\n",
      "0xf05d42 0xf07812 je short 00F05D57h 7413 <class 'bytes'> 15752514 15759378 <class 'int'> JE_REL8_32 | 135 <class 'bytes'>\n",
      "  new_ins :  7418 \n",
      "\n",
      "0xf05d46 0xf07818 call 00F05B50h e805feffff <class 'bytes'> 15752518 15759384 <class 'int'> CALL_REL32_32 | 135 <class 'bytes'>\n",
      "  new_ins :  e87dfdffff \n",
      "\n",
      "0xf05d7a 0xf0785b jne short 00F05DBFh 7543 <class 'bytes'> 15752570 15759451 <class 'int'> JNE_REL8_32 | 135 <class 'bytes'>\n",
      "  new_ins :  754f \n",
      "\n",
      "0xf05d80 0xf07862 je short 00F05DBFh 743d <class 'bytes'> 15752576 15759458 <class 'int'> JE_REL8_32 | 135 <class 'bytes'>\n",
      "  new_ins :  7448 \n",
      "\n",
      "0xf05d86 0xf07869 je short 00F05DBFh 7437 <class 'bytes'> 15752582 15759465 <class 'int'> JE_REL8_32 | 135 <class 'bytes'>\n",
      "  new_ins :  7441 \n",
      "\n",
      "0xf05d8c 0xf07870 jne short 00F05DBFh 7531 <class 'bytes'> 15752588 15759472 <class 'int'> JNE_REL8_32 | 135 <class 'bytes'>\n",
      "  new_ins :  753a \n",
      "\n",
      "0xf05d92 0xf07877 jne short 00F05DBFh 752b <class 'bytes'> 15752594 15759479 <class 'int'> JNE_REL8_32 | 135 <class 'bytes'>\n",
      "  new_ins :  7533 \n",
      "\n",
      "0xf05d98 0xf0787e je short 00F05DBFh 7425 <class 'bytes'> 15752600 15759486 <class 'int'> JE_REL8_32 | 135 <class 'bytes'>\n",
      "  new_ins :  742c \n",
      "\n",
      "0xf05d9e 0xf07885 jne short 00F05DBFh 751f <class 'bytes'> 15752606 15759493 <class 'int'> JNE_REL8_32 | 135 <class 'bytes'>\n",
      "  new_ins :  7525 \n",
      "\n",
      "0xf05da4 0xf0788c je short 00F05DBFh 7419 <class 'bytes'> 15752612 15759500 <class 'int'> JE_REL8_32 | 135 <class 'bytes'>\n",
      "  new_ins :  741e \n",
      "\n",
      "0xf05daa 0xf07893 jne short 00F05DBFh 7513 <class 'bytes'> 15752618 15759507 <class 'int'> JNE_REL8_32 | 135 <class 'bytes'>\n",
      "  new_ins :  7517 \n",
      "\n",
      "0xf05db0 0xf0789a je short 00F05DBFh 740d <class 'bytes'> 15752624 15759514 <class 'int'> JE_REL8_32 | 135 <class 'bytes'>\n",
      "  new_ins :  7410 \n",
      "\n",
      "0xf05db6 0xf078a1 jne short 00F05DBFh 7507 <class 'bytes'> 15752630 15759521 <class 'int'> JNE_REL8_32 | 135 <class 'bytes'>\n",
      "  new_ins :  7509 \n",
      "\n"
     ]
    },
    {
     "name": "stderr",
     "output_type": "stream",
     "text": [
      "8346it [02:30, 32.23it/s]"
     ]
    },
    {
     "name": "stdout",
     "output_type": "stream",
     "text": [
      "0xf05df4 0xf078ef call 00F19E50h e857400100 <class 'bytes'> 15752692 15759599 <class 'int'> CALL_REL32_32 | 135 <class 'bytes'>\n",
      "  new_ins :  e883a20100 \n",
      "\n",
      "0xf05e02 0xf07900 call 00F197A0h e899390100 <class 'bytes'> 15752706 15759616 <class 'int'> CALL_REL32_32 | 135 <class 'bytes'>\n",
      "  new_ins :  e89d990100 \n",
      "\n",
      "0xf05e0a 0xf07909 jne short 00F05E18h 750c <class 'bytes'> 15752714 15759625 <class 'int'> JNE_REL8_32 | 135 <class 'bytes'>\n",
      "  new_ins :  7512 \n",
      "\n",
      "0xf05e1b 0xf07922 call 00F07C00h e8e01d0000 <class 'bytes'> 15752731 15759650 <class 'int'> CALL_REL32_32 | 135 <class 'bytes'>\n",
      "  new_ins :  e85f260000 \n",
      "\n"
     ]
    },
    {
     "name": "stderr",
     "output_type": "stream",
     "text": [
      "8360it [02:30, 34.60it/s]"
     ]
    },
    {
     "name": "stdout",
     "output_type": "stream",
     "text": [
      "0xf05e23 0xf0792c call 00F19400h e8d8350100 <class 'bytes'> 15752739 15759660 <class 'int'> CALL_REL32_32 | 135 <class 'bytes'>\n",
      "  new_ins :  e8ac940100 \n",
      "\n",
      "0xf05e31 0xf0793f call 00F12A40h e80acc0000 <class 'bytes'> 15752753 15759679 <class 'int'> CALL_REL32_32 | 135 <class 'bytes'>\n",
      "  new_ins :  e87c070100 \n",
      "\n",
      "0xf05e3d 0xf0794e je short 00F05E96h 7457 <class 'bytes'> 15752765 15759694 <class 'int'> JE_REL8_32 | 135 <class 'bytes'>\n",
      "  new_ins :  746d \n",
      "\n"
     ]
    },
    {
     "name": "stderr",
     "output_type": "stream",
     "text": [
      "8372it [02:31, 37.04it/s]"
     ]
    },
    {
     "name": "stdout",
     "output_type": "stream",
     "text": [
      "0xf05e40 0xf07952 call 00F19C50h e80b3e0100 <class 'bytes'> 15752768 15759698 <class 'int'> CALL_REL32_32 | 135 <class 'bytes'>\n",
      "  new_ins :  e8649f0100 \n",
      "\n",
      "0xf05e4f 0xf07965 call 00F12360h e80cc50000 <class 'bytes'> 15752783 15759717 <class 'int'> CALL_REL32_32 | 135 <class 'bytes'>\n",
      "  new_ins :  e808fe0000 \n",
      "\n",
      "0xf05e59 0xf07971 je short 00F05E96h 743b <class 'bytes'> 15752793 15759729 <class 'int'> JE_REL8_32 | 135 <class 'bytes'>\n",
      "  new_ins :  744a \n",
      "\n"
     ]
    },
    {
     "name": "stderr",
     "output_type": "stream",
     "text": [
      "8382it [02:31, 37.56it/s]"
     ]
    },
    {
     "name": "stdout",
     "output_type": "stream",
     "text": [
      "0xf05e5d 0xf07977 call 00F19E90h e82e400100 <class 'bytes'> 15752797 15759735 <class 'int'> CALL_REL32_32 | 135 <class 'bytes'>\n",
      "  new_ins :  e858a20100 \n",
      "\n",
      "0xf05e67 0xf07983 je short 00F05E96h 742d <class 'bytes'> 15752807 15759747 <class 'int'> JE_REL8_32 | 135 <class 'bytes'>\n",
      "  new_ins :  7438 \n",
      "\n",
      "0xf05e72 0xf07993 call 00F19DD0h e8593f0100 <class 'bytes'> 15752818 15759763 <class 'int'> CALL_REL32_32 | 135 <class 'bytes'>\n",
      "  new_ins :  e82da10100 \n",
      "\n",
      "0xf05e7a 0xf0799c call 00F197A0h e821390100 <class 'bytes'> 15752826 15759772 <class 'int'> CALL_REL32_32 | 135 <class 'bytes'>\n",
      "  new_ins :  e801990100 \n",
      "\n"
     ]
    },
    {
     "name": "stderr",
     "output_type": "stream",
     "text": [
      "8419it [02:32, 38.35it/s]"
     ]
    },
    {
     "name": "stdout",
     "output_type": "stream",
     "text": [
      "0xf05e82 0xf079a5 call 00F1D0A3h e81c720100 <class 'bytes'> 15752834 15759781 <class 'int'> CALL_REL32_32 | 135 <class 'bytes'>\n",
      "  new_ins :  e8e1e00100 \n",
      "\n",
      "0xf05ea9 0xf079db jne short 00F05EB0h 7505 <class 'bytes'> 15752873 15759835 <class 'int'> JNE_REL8_32 | 135 <class 'bytes'>\n",
      "  new_ins :  7508 \n",
      "\n",
      "0xf05ed0 0xf07a0e call 00F19D30h e85b3e0100 <class 'bytes'> 15752912 15759886 <class 'int'> CALL_REL32_32 | 135 <class 'bytes'>\n",
      "  new_ins :  e8d19f0100 \n",
      "\n",
      "0xf05edc 0xf07a1d je short 00F05F38h 745a <class 'bytes'> 15752924 15759901 <class 'int'> JE_REL8_32 | 135 <class 'bytes'>\n",
      "  new_ins :  7477 \n",
      "\n"
     ]
    },
    {
     "name": "stderr",
     "output_type": "stream",
     "text": [
      "8443it [02:32, 49.80it/s]"
     ]
    },
    {
     "name": "stdout",
     "output_type": "stream",
     "text": [
      "0xf05eec 0xf07a35 call 00F17EB0h e8bf1f0100 <class 'bytes'> 15752940 15759925 <class 'int'> CALL_REL32_32 | 135 <class 'bytes'>\n",
      "  new_ins :  e83d760100 \n",
      "\n",
      "0xf05ef9 0xf07a44 jne short 00F05F3Eh 7543 <class 'bytes'> 15752953 15759940 <class 'int'> JNE_REL8_32 | 135 <class 'bytes'>\n",
      "  new_ins :  755a \n",
      "\n",
      "0xf05f09 0xf07a5b call 00F185B0h e8a2260100 <class 'bytes'> 15752969 15759963 <class 'int'> CALL_REL32_32 | 135 <class 'bytes'>\n",
      "  new_ins :  e80d800100 \n",
      "\n"
     ]
    },
    {
     "name": "stderr",
     "output_type": "stream",
     "text": [
      "8472it [02:33, 70.07it/s]"
     ]
    },
    {
     "name": "stdout",
     "output_type": "stream",
     "text": [
      "0xf05f2a 0xf07a85 call 00F19D30h e8013e0100 <class 'bytes'> 15753002 15760005 <class 'int'> CALL_REL32_32 | 135 <class 'bytes'>\n",
      "  new_ins :  e85a9f0100 \n",
      "\n",
      "0xf05f36 0xf07a94 jne short 00F05EE0h 75a8 <class 'bytes'> 15753014 15760020 <class 'int'> JNE_REL8_32 | 135 <class 'bytes'>\n",
      "  new_ins :  758c \n",
      "\n",
      "0xf05f40 0xf07aa3 jns short 00F05F64h 7922 <class 'bytes'> 15753024 15760035 <class 'int'> JNS_REL8_32 | 135 <class 'bytes'>\n",
      "  new_ins :  792f \n",
      "\n",
      "0xf05f50 0xf07aba call 00F185B0h e85b260100 <class 'bytes'> 15753040 15760058 <class 'int'> CALL_REL32_32 | 135 <class 'bytes'>\n",
      "  new_ins :  e8ae7f0100 \n",
      "\n"
     ]
    },
    {
     "name": "stderr",
     "output_type": "stream",
     "text": [
      "8537it [02:33, 129.66it/s]"
     ]
    },
    {
     "name": "stdout",
     "output_type": "stream",
     "text": [
      "0xf05fb2 0xf07b3b call 00F19E00h e8493e0100 <class 'bytes'> 15753138 15760187 <class 'int'> CALL_REL32_32 | 135 <class 'bytes'>\n",
      "  new_ins :  e8c89f0100 \n",
      "\n",
      "0xf05fee 0xf07b89 je short 00F06025h 7435 <class 'bytes'> 15753198 15760265 <class 'int'> JE_REL8_32 | 135 <class 'bytes'>\n",
      "  new_ins :  7448 \n",
      "\n",
      "0xf05fff 0xf07b9f jb short 00F06003h 7202 <class 'bytes'> 15753215 15760287 <class 'int'> JB_REL8_32 | 135 <class 'bytes'>\n",
      "  new_ins :  7203 \n",
      "\n",
      "0xf06009 0xf07bae call 00F19DD0h e8c23d0100 <class 'bytes'> 15753225 15760302 <class 'int'> CALL_REL32_32 | 135 <class 'bytes'>\n",
      "  new_ins :  e8129f0100 \n",
      "\n"
     ]
    },
    {
     "name": "stderr",
     "output_type": "stream",
     "text": [
      "8570it [02:33, 130.19it/s]"
     ]
    },
    {
     "name": "stdout",
     "output_type": "stream",
     "text": [
      "0xf06029 0xf07bd9 call 00F1A0C0h e892400100 <class 'bytes'> 15753257 15760345 <class 'int'> CALL_REL32_32 | 135 <class 'bytes'>\n",
      "  new_ins :  e808a30100 \n",
      "\n",
      "0xf0603a 0xf07bf0 call 00F19DD0h e8913d0100 <class 'bytes'> 15753274 15760368 <class 'int'> CALL_REL32_32 | 135 <class 'bytes'>\n",
      "  new_ins :  e8d09e0100 \n",
      "\n"
     ]
    },
    {
     "name": "stderr",
     "output_type": "stream",
     "text": [
      "8585it [02:33, 128.00it/s]"
     ]
    },
    {
     "name": "stdout",
     "output_type": "stream",
     "text": [
      "0xf0606b 0xf07c33 call 00F19E00h e8903d0100 <class 'bytes'> 15753323 15760435 <class 'int'> CALL_REL32_32 | 135 <class 'bytes'>\n",
      "  new_ins :  e8d09e0100 \n",
      "\n",
      "0xf060b8 0xf07c9a je short 00F060D9h 741f <class 'bytes'> 15753400 15760538 <class 'int'> JE_REL8_32 | 135 <class 'bytes'>\n",
      "  new_ins :  7428 \n",
      "\n",
      "0xf060bf 0xf07ca3 je short 00F060D9h 7418 <class 'bytes'> 15753407 15760547 <class 'int'> JE_REL8_32 | 135 <class 'bytes'>\n",
      "  new_ins :  741f \n",
      "\n",
      "0xf060cf 0xf07cb8 call 00F05F80h e8acfeffff <class 'bytes'> 15753423 15760568 <class 'int'> CALL_REL32_32 | 135 <class 'bytes'>\n",
      "  new_ins :  e840feffff \n",
      "\n"
     ]
    },
    {
     "name": "stderr",
     "output_type": "stream",
     "text": [
      "8621it [02:34, 82.01it/s] "
     ]
    },
    {
     "name": "stdout",
     "output_type": "stream",
     "text": [
      "0xf060dd 0xf07cca call 8C45775Eh e87c16558b <class 'bytes'> 15753437 15760586 <class 'int'> CALL_REL32_32 | 135 <class 'bytes'>\n",
      "  new_ins :  e897fa548b \n",
      "\n",
      "0xf060e8 0xf07cd8 je short 00F06113h 7429 <class 'bytes'> 15753448 15760600 <class 'int'> JE_REL8_32 | 135 <class 'bytes'>\n",
      "  new_ins :  7435 \n",
      "\n",
      "0xf060ef 0xf07ce1 je short 00F06113h 7422 <class 'bytes'> 15753455 15760609 <class 'int'> JE_REL8_32 | 135 <class 'bytes'>\n",
      "  new_ins :  742c \n",
      "\n",
      "0xf060f8 0xf07ced je short 00F06113h 7419 <class 'bytes'> 15753464 15760621 <class 'int'> JE_REL8_32 | 135 <class 'bytes'>\n",
      "  new_ins :  7420 \n",
      "\n",
      "0xf06109 0xf07d03 call 00F05F80h e872feffff <class 'bytes'> 15753481 15760643 <class 'int'> CALL_REL32_32 | 135 <class 'bytes'>\n",
      "  new_ins :  e8f5fdffff \n",
      "\n",
      "0xf06129 0xf07d2e je short 00F06153h 7428 <class 'bytes'> 15753513 15760686 <class 'int'> JE_REL8_32 | 135 <class 'bytes'>\n",
      "  new_ins :  7437 \n",
      "\n",
      "0xf06130 0xf07d37 je short 00F06153h 7421 <class 'bytes'> 15753520 15760695 <class 'int'> JE_REL8_32 | 135 <class 'bytes'>\n",
      "  new_ins :  742e \n",
      "\n",
      "0xf0613b 0xf07d45 jae short 00F06153h 7316 <class 'bytes'> 15753531 15760709 <class 'int'> JAE_REL8_32 | 135 <class 'bytes'>\n",
      "  new_ins :  7320 \n",
      "\n",
      "0xf06147 0xf07d57 call 00F06050h e804ffffff <class 'bytes'> 15753543 15760727 <class 'int'> CALL_REL32_32 | 135 <class 'bytes'>\n",
      "  new_ins :  e8b1feffff \n",
      "\n"
     ]
    },
    {
     "name": "stderr",
     "output_type": "stream",
     "text": [
      "8726it [02:34, 156.15it/s]"
     ]
    },
    {
     "name": "stdout",
     "output_type": "stream",
     "text": [
      "0xf06179 0xf07da2 call 00F185B0h e832240100 <class 'bytes'> 15753593 15760802 <class 'int'> CALL_REL32_32 | 135 <class 'bytes'>\n",
      "  new_ins :  e8c67c0100 \n",
      "\n",
      "0xf061af 0xf07de8 je near ptr 00F0629Fh 0f84ea000000 <class 'bytes'> 15753647 15760872 <class 'int'> JE_REL32_32 | 135 <class 'bytes'>\n",
      "  new_ins :  0f842e010000 \n",
      "\n",
      "0xf061b9 0xf07df3 je near ptr 00F0629Fh 0f84e0000000 <class 'bytes'> 15753657 15760883 <class 'int'> JE_REL32_32 | 135 <class 'bytes'>\n",
      "  new_ins :  0f8423010000 \n",
      "\n",
      "0xf061c3 0xf07dfe je near ptr 00F0629Fh 0f84d6000000 <class 'bytes'> 15753667 15760894 <class 'int'> JE_REL32_32 | 135 <class 'bytes'>\n",
      "  new_ins :  0f8418010000 \n",
      "\n",
      "0xf061e3 0xf07e27 call 00F19E50h e8683c0100 <class 'bytes'> 15753699 15760935 <class 'int'> CALL_REL32_32 | 135 <class 'bytes'>\n",
      "  new_ins :  e84b9d0100 \n",
      "\n"
     ]
    },
    {
     "name": "stderr",
     "output_type": "stream",
     "text": [
      "8745it [02:34, 150.20it/s]"
     ]
    },
    {
     "name": "stdout",
     "output_type": "stream",
     "text": [
      "0xf061e9 0xf07e2e call 00F1A0C0h e8d23e0100 <class 'bytes'> 15753705 15760942 <class 'int'> CALL_REL32_32 | 135 <class 'bytes'>\n",
      "  new_ins :  e8b3a00100 \n",
      "\n",
      "0xf061f3 0xf07e3a je short 00F06214h 741f <class 'bytes'> 15753715 15760954 <class 'int'> JE_REL8_32 | 135 <class 'bytes'>\n",
      "  new_ins :  7428 \n",
      "\n",
      "0xf06206 0xf07e52 je short 00F06214h 740c <class 'bytes'> 15753734 15760978 <class 'int'> JE_REL8_32 | 135 <class 'bytes'>\n",
      "  new_ins :  7410 \n",
      "\n",
      "0xf06212 0xf07e62 jb short 00F06200h 72ec <class 'bytes'> 15753746 15760994 <class 'int'> JB_REL8_32 | 135 <class 'bytes'>\n",
      "  new_ins :  72e6 \n",
      "\n",
      "0xf0621d 0xf07e72 call 00F12A40h e81ec80000 <class 'bytes'> 15753757 15761010 <class 'int'> CALL_REL32_32 | 135 <class 'bytes'>\n",
      "  new_ins :  e849020100 \n",
      "\n",
      "0xf06229 0xf07e81 je short 00F06296h 746b <class 'bytes'> 15753769 15761025 <class 'int'> JE_REL8_32 | 139 <class 'bytes'>\n",
      "  new_ins :  0F8486000000 \n",
      "\n"
     ]
    },
    {
     "name": "stderr",
     "output_type": "stream",
     "text": [
      "8763it [02:38, 20.43it/s] "
     ]
    },
    {
     "name": "stdout",
     "output_type": "stream",
     "text": [
      "0xf0622c 0xf07e89 call 00F1A0C0h e88f3e0100 <class 'bytes'> 15753772 15761033 <class 'int'> CALL_REL32_32 | 139 <class 'bytes'>\n",
      "  new_ins :  e858a00100 \n",
      "\n",
      "0xf0623d 0xf07e9f call 00F19DD0h e88e3b0100 <class 'bytes'> 15753789 15761055 <class 'int'> CALL_REL32_32 | 139 <class 'bytes'>\n",
      "  new_ins :  e8219c0100 \n",
      "\n"
     ]
    },
    {
     "name": "stderr",
     "output_type": "stream",
     "text": [
      "8776it [02:39, 22.73it/s]"
     ]
    },
    {
     "name": "stdout",
     "output_type": "stream",
     "text": [
      "0xf06244 0xf07ea8 call 00F19DB0h e8673b0100 <class 'bytes'> 15753796 15761064 <class 'int'> CALL_REL32_32 | 139 <class 'bytes'>\n",
      "  new_ins :  e8eb9b0100 \n",
      "\n",
      "0xf06250 0xf07eb6 call 00F1A0C0h e86b3e0100 <class 'bytes'> 15753808 15761078 <class 'int'> CALL_REL32_32 | 139 <class 'bytes'>\n",
      "  new_ins :  e82ba00100 \n",
      "\n",
      "0xf0625a 0xf07ec2 je short 00F06274h 7418 <class 'bytes'> 15753818 15761090 <class 'int'> JE_REL8_32 | 139 <class 'bytes'>\n",
      "  new_ins :  741e \n",
      "\n",
      "0xf06267 0xf07ed1 je short 00F06274h 740b <class 'bytes'> 15753831 15761105 <class 'int'> JE_REL8_32 | 139 <class 'bytes'>\n",
      "  new_ins :  740f \n",
      "\n",
      "0xf06272 0xf07ee0 jne short 00F06263h 75ef <class 'bytes'> 15753842 15761120 <class 'int'> JNE_REL8_32 | 139 <class 'bytes'>\n",
      "  new_ins :  75ea \n",
      "\n"
     ]
    },
    {
     "name": "stderr",
     "output_type": "stream",
     "text": [
      "8797it [02:39, 29.66it/s]"
     ]
    },
    {
     "name": "stdout",
     "output_type": "stream",
     "text": [
      "0xf0627b 0xf07eeb call 00F1A0C0h e8403e0100 <class 'bytes'> 15753851 15761131 <class 'int'> CALL_REL32_32 | 139 <class 'bytes'>\n",
      "  new_ins :  e8f69f0100 \n",
      "\n",
      "0xf0628e 0xf07f04 call 00F19DD0h e83d3b0100 <class 'bytes'> 15753870 15761156 <class 'int'> CALL_REL32_32 | 139 <class 'bytes'>\n",
      "  new_ins :  e8bc9b0100 \n",
      "\n"
     ]
    },
    {
     "name": "stderr",
     "output_type": "stream",
     "text": [
      "8831it [02:39, 50.71it/s]"
     ]
    },
    {
     "name": "stdout",
     "output_type": "stream",
     "text": [
      "0xf062b3 0xf07f38 call 00F19760h e8a8340100 <class 'bytes'> 15753907 15761208 <class 'int'> CALL_REL32_32 | 139 <class 'bytes'>\n",
      "  new_ins :  e813930100 \n",
      "\n",
      "0xf062bc 0xf07f43 je short 00F062CFh 7411 <class 'bytes'> 15753916 15761219 <class 'int'> JE_REL8_32 | 139 <class 'bytes'>\n",
      "  new_ins :  7416 \n",
      "\n",
      "0xf062c4 0xf07f4c je short 00F062CFh 7409 <class 'bytes'> 15753924 15761228 <class 'int'> JE_REL8_32 | 139 <class 'bytes'>\n",
      "  new_ins :  740d \n",
      "\n",
      "0xf062e6 0xf07f7d call 00F19890h e8a5350100 <class 'bytes'> 15753958 15761277 <class 'int'> CALL_REL32_32 | 139 <class 'bytes'>\n",
      "  new_ins :  e85d940100 \n",
      "\n"
     ]
    },
    {
     "name": "stderr",
     "output_type": "stream",
     "text": [
      "8857it [02:39, 65.82it/s]"
     ]
    },
    {
     "name": "stdout",
     "output_type": "stream",
     "text": [
      "0xf062f0 0xf07f89 call 00F19740h e84b340100 <class 'bytes'> 15753968 15761289 <class 'int'> CALL_REL32_32 | 139 <class 'bytes'>\n",
      "  new_ins :  e89a920100 \n",
      "\n",
      "0xf06323 0xf07fce call 00F19E50h e8283b0100 <class 'bytes'> 15754019 15761358 <class 'int'> CALL_REL32_32 | 139 <class 'bytes'>\n",
      "  new_ins :  e8a49b0100 \n",
      "\n"
     ]
    },
    {
     "name": "stderr",
     "output_type": "stream",
     "text": [
      "8890it [02:40, 58.67it/s]"
     ]
    },
    {
     "name": "stdout",
     "output_type": "stream",
     "text": [
      "0xf0632e 0xf07fdc call 00F1A9F0h e8bd460100 <class 'bytes'> 15754030 15761372 <class 'int'> CALL_REL32_32 | 139 <class 'bytes'>\n",
      "  new_ins :  e88bab0100 \n",
      "\n",
      "0xf0633e 0xf07ff1 call 00F08CE0h e89d290000 <class 'bytes'> 15754046 15761393 <class 'int'> CALL_REL32_32 | 139 <class 'bytes'>\n",
      "  new_ins :  e83a350000 \n",
      "\n",
      "0xf0634e 0xf08006 call 00F12E40h e8edca0000 <class 'bytes'> 15754062 15761414 <class 'int'> CALL_REL32_32 | 139 <class 'bytes'>\n",
      "  new_ins :  e8fa050100 \n",
      "\n",
      "0xf0635a 0xf08015 je short 00F0638Eh 7432 <class 'bytes'> 15754074 15761429 <class 'int'> JE_REL8_32 | 139 <class 'bytes'>\n",
      "  new_ins :  7443 \n",
      "\n",
      "0xf0636e 0xf08030 jne short 00F0638Dh 751d <class 'bytes'> 15754094 15761456 <class 'int'> JNE_REL8_32 | 139 <class 'bytes'>\n",
      "  new_ins :  7526 \n",
      "\n",
      "0xf06375 0xf0803a call 00F08470h e8f6200000 <class 'bytes'> 15754101 15761466 <class 'int'> CALL_REL32_32 | 139 <class 'bytes'>\n",
      "  new_ins :  e84a2a0000 \n",
      "\n"
     ]
    },
    {
     "name": "stderr",
     "output_type": "stream",
     "text": [
      "8932it [02:40, 85.72it/s]"
     ]
    },
    {
     "name": "stdout",
     "output_type": "stream",
     "text": [
      "0xf063c4 0xf080a2 call 00F19E50h e8873a0100 <class 'bytes'> 15754180 15761570 <class 'int'> CALL_REL32_32 | 139 <class 'bytes'>\n",
      "  new_ins :  e8d09a0100 \n",
      "\n",
      "0xf063d7 0xf080ba call 00F06310h e834ffffff <class 'bytes'> 15754199 15761594 <class 'int'> CALL_REL32_32 | 139 <class 'bytes'>\n",
      "  new_ins :  e8f5feffff \n",
      "\n",
      "0xf063df 0xf080c3 call 00F19740h e85c330100 <class 'bytes'> 15754207 15761603 <class 'int'> CALL_REL32_32 | 139 <class 'bytes'>\n",
      "  new_ins :  e860910100 \n",
      "\n",
      "0xf063f8 0xf080df jmp short 00F06400h eb06 <class 'bytes'> 15754232 15761631 <class 'int'> JMP_REL8_32 | 139 <class 'bytes'>\n",
      "  new_ins :  eb07 \n",
      "\n",
      "0xf06406 0xf080f0 call 00F0D660h e855720000 <class 'bytes'> 15754246 15761648 <class 'int'> CALL_REL32_32 | 139 <class 'bytes'>\n",
      "  new_ins :  e840930000 \n",
      "\n"
     ]
    },
    {
     "name": "stderr",
     "output_type": "stream",
     "text": [
      "8976it [02:41, 110.95it/s]"
     ]
    },
    {
     "name": "stdout",
     "output_type": "stream",
     "text": [
      "0xf06422 0xf08114 call 00F184F0h e8c9200100 <class 'bytes'> 15754274 15761684 <class 'int'> CALL_REL32_32 | 139 <class 'bytes'>\n",
      "  new_ins :  e842780100 \n",
      "\n",
      "0xf06432 0xf08127 js short 00F06467h 7833 <class 'bytes'> 15754290 15761703 <class 'int'> JS_REL8_32 | 139 <class 'bytes'>\n",
      "  new_ins :  783c \n",
      "\n",
      "0xf0643c 0xf08132 je short 00F06456h 7418 <class 'bytes'> 15754300 15761714 <class 'int'> JE_REL8_32 | 139 <class 'bytes'>\n",
      "  new_ins :  741b \n",
      "\n",
      "0xf06445 0xf0813c je short 00F06456h 740f <class 'bytes'> 15754309 15761724 <class 'int'> JE_REL8_32 | 139 <class 'bytes'>\n",
      "  new_ins :  7411 \n",
      "\n",
      "0xf0644e 0xf08146 je short 00F06456h 7406 <class 'bytes'> 15754318 15761734 <class 'int'> JE_REL8_32 | 139 <class 'bytes'>\n",
      "  new_ins :  7407 \n",
      "\n",
      "0xf06454 0xf0814d jne short 00F06470h 751a <class 'bytes'> 15754324 15761741 <class 'int'> JNE_REL8_32 | 139 <class 'bytes'>\n",
      "  new_ins :  7525 \n",
      "\n",
      "0xf06460 0xf0815d jb short 00F06400h 729e <class 'bytes'> 15754336 15761757 <class 'int'> JB_REL8_32 | 139 <class 'bytes'>\n",
      "  new_ins :  7289 \n",
      "\n",
      "0xf06465 0xf08163 jmp short 00F0648Dh eb26 <class 'bytes'> 15754341 15761763 <class 'int'> JMP_REL8_32 | 139 <class 'bytes'>\n",
      "  new_ins :  eb33 \n",
      "\n",
      "0xf06485 0xf0818f call 00F19DD0h e846390100 <class 'bytes'> 15754373 15761807 <class 'int'> CALL_REL32_32 | 139 <class 'bytes'>\n",
      "  new_ins :  e831990100 \n",
      "\n"
     ]
    },
    {
     "name": "stderr",
     "output_type": "stream",
     "text": [
      "9007it [02:41, 122.51it/s]"
     ]
    },
    {
     "name": "stdout",
     "output_type": "stream",
     "text": [
      "0xf06495 0xf081a3 call 00F18480h e8e61f0100 <class 'bytes'> 15754389 15761827 <class 'int'> CALL_REL32_32 | 139 <class 'bytes'>\n",
      "  new_ins :  e814770100 \n",
      "\n",
      "0xf0649f 0xf081af je short 00F06467h 74c6 <class 'bytes'> 15754399 15761839 <class 'int'> JE_REL8_32 | 139 <class 'bytes'>\n",
      "  new_ins :  74b4 \n",
      "\n",
      "0xf064fa 0xf08220 call 00F17D00h e801180100 <class 'bytes'> 15754490 15761952 <class 'int'> CALL_REL32_32 | 139 <class 'bytes'>\n",
      "  new_ins :  e8f56b0100 \n",
      "\n",
      "0xf0650c 0xf08236 jl near ptr 00F06467h 0f8c55ffffff <class 'bytes'> 15754508 15761974 <class 'int'> JL_REL32_32 | 139 <class 'bytes'>\n",
      "  new_ins :  0f8c29ffffff \n",
      "\n"
     ]
    },
    {
     "name": "stderr",
     "output_type": "stream",
     "text": [
      "9030it [02:41, 138.38it/s]"
     ]
    },
    {
     "name": "stdout",
     "output_type": "stream",
     "text": [
      "0xf0655e 0xf08299 call 00F17D40h e8dd170100 <class 'bytes'> 15754590 15762073 <class 'int'> CALL_REL32_32 | 139 <class 'bytes'>\n",
      "  new_ins :  e8d66b0100 \n",
      "\n",
      "0xf0656e 0xf082ac js near ptr 00F06467h 0f88f3feffff <class 'bytes'> 15754606 15762092 <class 'int'> JS_REL32_32 | 139 <class 'bytes'>\n",
      "  new_ins :  0f88b3feffff \n",
      "\n",
      "0xf06580 0xf082c1 call 00F193E0h e85b2e0100 <class 'bytes'> 15754624 15762113 <class 'int'> CALL_REL32_32 | 139 <class 'bytes'>\n",
      "  new_ins :  e8ec8a0100 \n",
      "\n"
     ]
    },
    {
     "name": "stderr",
     "output_type": "stream",
     "text": [
      "9046it [02:41, 90.68it/s] "
     ]
    },
    {
     "name": "stdout",
     "output_type": "stream",
     "text": [
      "0xf06588 0xf082cb call 00F19400h e8732e0100 <class 'bytes'> 15754632 15762123 <class 'int'> CALL_REL32_32 | 139 <class 'bytes'>\n",
      "  new_ins :  e80d8b0100 \n",
      "\n",
      "0xf06593 0xf082d9 call 00F1A0C0h e8283b0100 <class 'bytes'> 15754643 15762137 <class 'int'> CALL_REL32_32 | 139 <class 'bytes'>\n",
      "  new_ins :  e8089c0100 \n",
      "\n"
     ]
    },
    {
     "name": "stderr",
     "output_type": "stream",
     "text": [
      "9058it [02:42, 81.12it/s]"
     ]
    },
    {
     "name": "stdout",
     "output_type": "stream",
     "text": [
      "0xf065a2 0xf082ed call 00F19DD0h e829380100 <class 'bytes'> 15754658 15762157 <class 'int'> CALL_REL32_32 | 139 <class 'bytes'>\n",
      "  new_ins :  e8d3970100 \n",
      "\n",
      "0xf065b3 0xf08303 call 00F12A40h e888c40000 <class 'bytes'> 15754675 15762179 <class 'int'> CALL_REL32_32 | 139 <class 'bytes'>\n",
      "  new_ins :  e8b8fd0000 \n",
      "\n"
     ]
    },
    {
     "name": "stderr",
     "output_type": "stream",
     "text": [
      "9094it [02:42, 101.74it/s]"
     ]
    },
    {
     "name": "stdout",
     "output_type": "stream",
     "text": [
      "0xf065e1 0xf08348 call 00F19E50h e86a380100 <class 'bytes'> 15754721 15762248 <class 'int'> CALL_REL32_32 | 139 <class 'bytes'>\n",
      "  new_ins :  e82a980100 \n",
      "\n",
      "0xf065fa 0xf0836a call 00F17870h e871120100 <class 'bytes'> 15754746 15762282 <class 'int'> CALL_REL32_32 | 139 <class 'bytes'>\n",
      "  new_ins :  e8db640100 \n",
      "\n",
      "0xf06606 0xf08378 je near ptr 00F0678Ah 0f847e010000 <class 'bytes'> 15754758 15762296 <class 'int'> JE_REL32_32 | 139 <class 'bytes'>\n",
      "  new_ins :  0f84e4010000 \n",
      "\n",
      "0xf0661a 0xf08391 call 00F06120h e801fbffff <class 'bytes'> 15754778 15762321 <class 'int'> CALL_REL32_32 | 139 <class 'bytes'>\n",
      "  new_ins :  e88bf9ffff \n",
      "\n",
      "0xf06626 0xf0839f je near ptr 00F0678Ah 0f845e010000 <class 'bytes'> 15754790 15762335 <class 'int'> JE_REL32_32 | 139 <class 'bytes'>\n",
      "  new_ins :  0f84bd010000 \n",
      "\n",
      "0xf06630 0xf083aa je near ptr 00F0678Ah 0f8454010000 <class 'bytes'> 15754800 15762346 <class 'int'> JE_REL32_32 | 139 <class 'bytes'>\n",
      "  new_ins :  0f84b2010000 \n",
      "\n",
      "0xf0663b 0xf083b7 je near ptr 00F0678Ah 0f8449010000 <class 'bytes'> 15754811 15762359 <class 'int'> JE_REL32_32 | 139 <class 'bytes'>\n",
      "  new_ins :  0f84a5010000 \n",
      "\n",
      "0xf06645 0xf083c2 je near ptr 00F0678Ah 0f843f010000 <class 'bytes'> 15754821 15762370 <class 'int'> JE_REL32_32 | 139 <class 'bytes'>\n",
      "  new_ins :  0f849a010000 \n",
      "\n"
     ]
    },
    {
     "name": "stderr",
     "output_type": "stream",
     "text": [
      "9138it [02:42, 113.37it/s]"
     ]
    },
    {
     "name": "stdout",
     "output_type": "stream",
     "text": [
      "0xf0667e 0xf08408 call 00F19740h e8bd300100 <class 'bytes'> 15754878 15762440 <class 'int'> CALL_REL32_32 | 139 <class 'bytes'>\n",
      "  new_ins :  e81b8e0100 \n",
      "\n",
      "0xf0669f 0xf08430 call 00F07C00h e85c150000 <class 'bytes'> 15754911 15762480 <class 'int'> CALL_REL32_32 | 139 <class 'bytes'>\n",
      "  new_ins :  e8511b0000 \n",
      "\n",
      "0xf066a7 0xf0843a call 00F19400h e8542d0100 <class 'bytes'> 15754919 15762490 <class 'int'> CALL_REL32_32 | 139 <class 'bytes'>\n",
      "  new_ins :  e89e890100 \n",
      "\n"
     ]
    },
    {
     "name": "stderr",
     "output_type": "stream",
     "text": [
      "9150it [02:43, 61.94it/s] "
     ]
    },
    {
     "name": "stdout",
     "output_type": "stream",
     "text": [
      "0xf066c5 0xf0845e call 00F1C537h e86d5e0100 <class 'bytes'> 15754949 15762526 <class 'int'> CALL_REL32_32 | 139 <class 'bytes'>\n",
      "  new_ins :  e8a1c80100 \n",
      "\n",
      "0xf066d2 0xf0846f call 00F13C90h e8b9d50000 <class 'bytes'> 15754962 15762543 <class 'int'> CALL_REL32_32 | 139 <class 'bytes'>\n",
      "  new_ins :  e803150100 \n",
      "\n",
      "0xf066e0 0xf08482 call 00F061A0h e8bbfaffff <class 'bytes'> 15754976 15762562 <class 'int'> CALL_REL32_32 | 139 <class 'bytes'>\n",
      "  new_ins :  e84df9ffff \n",
      "\n",
      "0xf066ec 0xf08490 je near ptr 00F0678Ah 0f8498000000 <class 'bytes'> 15754988 15762576 <class 'int'> JE_REL32_32 | 139 <class 'bytes'>\n",
      "  new_ins :  0f84cc000000 \n",
      "\n"
     ]
    },
    {
     "name": "stderr",
     "output_type": "stream",
     "text": [
      "9191it [02:43, 92.20it/s]"
     ]
    },
    {
     "name": "stdout",
     "output_type": "stream",
     "text": [
      "0xf066f2 0xf08496 call 00F1D1BFh e8c86a0100 <class 'bytes'> 15754994 15762582 <class 'int'> CALL_REL32_32 | 139 <class 'bytes'>\n",
      "  new_ins :  e828d70100 \n",
      "\n",
      "0xf0670e 0xf084bc call 00F063A0h e88dfcffff <class 'bytes'> 15755022 15762620 <class 'int'> CALL_REL32_32 | 139 <class 'bytes'>\n",
      "  new_ins :  e8b1fbffff \n",
      "\n",
      "0xf06731 0xf084ea je short 00F06781h 744e <class 'bytes'> 15755057 15762666 <class 'int'> JE_REL8_32 | 139 <class 'bytes'>\n",
      "  new_ins :  7467 \n",
      "\n",
      "0xf06743 0xf08504 call 00F17EF0h e8a8170100 <class 'bytes'> 15755075 15762692 <class 'int'> CALL_REL32_32 | 139 <class 'bytes'>\n",
      "  new_ins :  e8cc6b0100 \n",
      "\n",
      "0xf06753 0xf08517 js short 00F0678Ah 7835 <class 'bytes'> 15755091 15762711 <class 'int'> JS_REL8_32 | 139 <class 'bytes'>\n",
      "  new_ins :  7849 \n",
      "\n"
     ]
    },
    {
     "name": "stderr",
     "output_type": "stream",
     "text": [
      "9255it [02:43, 146.39it/s]"
     ]
    },
    {
     "name": "stdout",
     "output_type": "stream",
     "text": [
      "0xf0676c 0xf0853a call 00F184F0h e87f1d0100 <class 'bytes'> 15755116 15762746 <class 'int'> CALL_REL32_32 | 139 <class 'bytes'>\n",
      "  new_ins :  e81c740100 \n",
      "\n",
      "0xf0677c 0xf0854d js short 00F0678Ah 780c <class 'bytes'> 15755132 15762765 <class 'int'> JS_REL8_32 | 139 <class 'bytes'>\n",
      "  new_ins :  7813 \n",
      "\n",
      "0xf067b5 0xf085a0 call 00F05EA0h e8e6f6ffff <class 'bytes'> 15755189 15762848 <class 'int'> CALL_REL32_32 | 139 <class 'bytes'>\n",
      "  new_ins :  e828f4ffff \n",
      "\n",
      "0xf067bf 0xf085ac je near ptr 00F06A4Dh 0f8488020000 <class 'bytes'> 15755199 15762860 <class 'int'> JE_REL32_32 | 139 <class 'bytes'>\n",
      "  new_ins :  0f843d030000 \n",
      "\n",
      "0xf067d1 0xf085c3 call 00F060B0h e8daf8ffff <class 'bytes'> 15755217 15762883 <class 'int'> CALL_REL32_32 | 139 <class 'bytes'>\n",
      "  new_ins :  e8c7f6ffff \n",
      "\n",
      "0xf067ec 0xf085e4 call 00F19E00h e80f360100 <class 'bytes'> 15755244 15762916 <class 'int'> CALL_REL32_32 | 139 <class 'bytes'>\n",
      "  new_ins :  e81f950100 \n",
      "\n"
     ]
    },
    {
     "name": "stderr",
     "output_type": "stream",
     "text": [
      "9272it [02:44, 119.71it/s]"
     ]
    },
    {
     "name": "stdout",
     "output_type": "stream",
     "text": [
      "0xf067ff 0xf085fb call 00F1A470h e86c3c0100 <class 'bytes'> 15755263 15762939 <class 'int'> CALL_REL32_32 | 139 <class 'bytes'>\n",
      "  new_ins :  e8f39d0100 \n",
      "\n",
      "0xf06810 0xf0860f call 00F12DE0h e8cbc50000 <class 'bytes'> 15755280 15762959 <class 'int'> CALL_REL32_32 | 139 <class 'bytes'>\n",
      "  new_ins :  e874ff0000 \n",
      "\n",
      "0xf0681a 0xf0861b je near ptr 00F06A20h 0f8400020000 <class 'bytes'> 15755290 15762971 <class 'int'> JE_REL32_32 | 139 <class 'bytes'>\n",
      "  new_ins :  0f8495020000 \n",
      "\n",
      "0xf06826 0xf08629 jne near ptr 00F06A0Bh 0f85df010000 <class 'bytes'> 15755302 15762985 <class 'int'> JNE_REL32_32 | 139 <class 'bytes'>\n",
      "  new_ins :  0f856d020000 \n",
      "\n"
     ]
    },
    {
     "name": "stderr",
     "output_type": "stream",
     "text": [
      "9299it [02:44, 116.16it/s]"
     ]
    },
    {
     "name": "stdout",
     "output_type": "stream",
     "text": [
      "0xf06841 0xf0864a call 00F19E50h e80a360100 <class 'bytes'> 15755329 15763018 <class 'int'> CALL_REL32_32 | 139 <class 'bytes'>\n",
      "  new_ins :  e828950100 \n",
      "\n",
      "0xf06888 0xf086a3 call 00F17D00h e873140100 <class 'bytes'> 15755400 15763107 <class 'int'> CALL_REL32_32 | 139 <class 'bytes'>\n",
      "  new_ins :  e872670100 \n",
      "\n",
      "0xf06895 0xf086b3 jl near ptr 00F06A24h 0f8c89010000 <class 'bytes'> 15755413 15763123 <class 'int'> JL_REL32_32 | 139 <class 'bytes'>\n",
      "  new_ins :  0f8c02020000 \n",
      "\n",
      "0xf0689e 0xf086bd je short 00F06915h 7475 <class 'bytes'> 15755422 15763133 <class 'int'> JE_REL8_32 | 143 <class 'bytes'>\n",
      "  new_ins :  0F8498000000 \n",
      "\n"
     ]
    },
    {
     "name": "stderr",
     "output_type": "stream",
     "text": [
      "9341it [02:47, 28.70it/s] "
     ]
    },
    {
     "name": "stdout",
     "output_type": "stream",
     "text": [
      "0xf068b1 0xf086dc call 00F17EF0h e83a160100 <class 'bytes'> 15755441 15763164 <class 'int'> CALL_REL32_32 | 143 <class 'bytes'>\n",
      "  new_ins :  e8f4690100 \n",
      "\n",
      "0xf068bf 0xf086ec jne short 00F06915h 7554 <class 'bytes'> 15755455 15763180 <class 'int'> JNE_REL8_32 | 143 <class 'bytes'>\n",
      "  new_ins :  756d \n",
      "\n",
      "0xf068cd 0xf08701 call 00F0A4B0h e8de3b0000 <class 'bytes'> 15755469 15763201 <class 'int'> CALL_REL32_32 | 143 <class 'bytes'>\n",
      "  new_ins :  e8084d0000 \n",
      "\n",
      "0xf068e0 0xf08719 je near ptr 00F06A24h 0f843e010000 <class 'bytes'> 15755488 15763225 <class 'int'> JE_REL32_32 | 143 <class 'bytes'>\n",
      "  new_ins :  0f849c010000 \n",
      "\n",
      "0xf068e8 0xf08722 je near ptr 00F06A24h 0f8436010000 <class 'bytes'> 15755496 15763234 <class 'int'> JE_REL32_32 | 143 <class 'bytes'>\n",
      "  new_ins :  0f8493010000 \n",
      "\n",
      "0xf06906 0xf0874a call 00F065D0h e8c5fcffff <class 'bytes'> 15755526 15763274 <class 'int'> CALL_REL32_32 | 143 <class 'bytes'>\n",
      "  new_ins :  e8defbffff \n",
      "\n",
      "0xf06910 0xf08756 jmp near ptr 00F06A20h e90b010000 <class 'bytes'> 15755536 15763286 <class 'int'> JMP_REL32_32 | 143 <class 'bytes'>\n",
      "  new_ins :  e95b010000 \n",
      "\n",
      "0xf0691d 0xf08767 call 00F06120h e8fef7ffff <class 'bytes'> 15755549 15763303 <class 'int'> CALL_REL32_32 | 143 <class 'bytes'>\n",
      "  new_ins :  e8b5f5ffff \n",
      "\n",
      "0xf0692b 0xf0877a call 00F0D5E0h e8b06c0000 <class 'bytes'> 15755563 15763322 <class 'int'> CALL_REL32_32 | 143 <class 'bytes'>\n",
      "  new_ins :  e8038c0000 \n",
      "\n"
     ]
    },
    {
     "name": "stderr",
     "output_type": "stream",
     "text": [
      "9358it [02:47, 36.51it/s]"
     ]
    },
    {
     "name": "stdout",
     "output_type": "stream",
     "text": [
      "0xf06935 0xf08786 jne short 00F06949h 7512 <class 'bytes'> 15755573 15763334 <class 'int'> JNE_REL8_32 | 143 <class 'bytes'>\n",
      "  new_ins :  7516 \n",
      "\n",
      "0xf0693c 0xf08790 call 00F18480h e83f1b0100 <class 'bytes'> 15755580 15763344 <class 'int'> CALL_REL32_32 | 143 <class 'bytes'>\n",
      "  new_ins :  e827710100 \n",
      "\n",
      "0xf06944 0xf08799 jmp near ptr 00F06A24h e9db000000 <class 'bytes'> 15755588 15763353 <class 'int'> JMP_REL32_32 | 143 <class 'bytes'>\n",
      "  new_ins :  e91d010000 \n",
      "\n"
     ]
    },
    {
     "name": "stderr",
     "output_type": "stream",
     "text": [
      "9385it [02:48, 39.93it/s]"
     ]
    },
    {
     "name": "stdout",
     "output_type": "stream",
     "text": [
      "0xf06949 0xf0879e call 00F19720h e8d22d0100 <class 'bytes'> 15755593 15763358 <class 'int'> CALL_REL32_32 | 143 <class 'bytes'>\n",
      "  new_ins :  e85d8a0100 \n",
      "\n",
      "0xf0696c 0xf087cc call 00F17D80h e80f140100 <class 'bytes'> 15755628 15763404 <class 'int'> CALL_REL32_32 | 143 <class 'bytes'>\n",
      "  new_ins :  e8fd660100 \n",
      "\n",
      "0xf0698c 0xf087f7 call 00F0A4B0h e81f3b0000 <class 'bytes'> 15755660 15763447 <class 'int'> CALL_REL32_32 | 143 <class 'bytes'>\n",
      "  new_ins :  e8124c0000 \n",
      "\n",
      "0xf06996 0xf08803 jne short 00F0699Fh 7507 <class 'bytes'> 15755670 15763459 <class 'int'> JNE_REL8_32 | 143 <class 'bytes'>\n",
      "  new_ins :  7508 \n",
      "\n",
      "0xf0699a 0xf08808 jmp near ptr 00F06A24h e985000000 <class 'bytes'> 15755674 15763464 <class 'int'> JMP_REL32_32 | 143 <class 'bytes'>\n",
      "  new_ins :  e9ae000000 \n",
      "\n"
     ]
    },
    {
     "name": "stderr",
     "output_type": "stream",
     "text": [
      "9416it [02:48, 58.49it/s]"
     ]
    },
    {
     "name": "stdout",
     "output_type": "stream",
     "text": [
      "0xf069b8 0xf0882f call 00F17DB0h e8f3130100 <class 'bytes'> 15755704 15763503 <class 'int'> CALL_REL32_32 | 143 <class 'bytes'>\n",
      "  new_ins :  e8dd660100 \n",
      "\n",
      "0xf069d2 0xf08852 call 00F17E40h e869140100 <class 'bytes'> 15755730 15763538 <class 'int'> CALL_REL32_32 | 143 <class 'bytes'>\n",
      "  new_ins :  e883670100 \n",
      "\n"
     ]
    },
    {
     "name": "stderr",
     "output_type": "stream",
     "text": [
      "9428it [02:48, 58.32it/s]"
     ]
    },
    {
     "name": "stdout",
     "output_type": "stream",
     "text": [
      "0xf069e1 0xf08866 call 00F17E10h e82a140100 <class 'bytes'> 15755745 15763558 <class 'int'> CALL_REL32_32 | 143 <class 'bytes'>\n",
      "  new_ins :  e82c670100 \n",
      "\n",
      "0xf069eb 0xf08873 call 00F18480h e8901a0100 <class 'bytes'> 15755755 15763571 <class 'int'> CALL_REL32_32 | 143 <class 'bytes'>\n",
      "  new_ins :  e844700100 \n",
      "\n",
      "0xf069ff 0xf0888e call 00F063A0h e89cf9ffff <class 'bytes'> 15755775 15763598 <class 'int'> CALL_REL32_32 | 143 <class 'bytes'>\n",
      "  new_ins :  e8dff7ffff \n",
      "\n",
      "0xf06a09 0xf0889a jmp short 00F06A20h eb15 <class 'bytes'> 15755785 15763610 <class 'int'> JMP_REL8_32 | 143 <class 'bytes'>\n",
      "  new_ins :  eb1a \n",
      "\n",
      "0xf06a0e 0xf088a0 jne short 00F06A20h 7510 <class 'bytes'> 15755790 15763616 <class 'int'> JNE_REL8_32 | 143 <class 'bytes'>\n",
      "  new_ins :  7514 \n",
      "\n"
     ]
    },
    {
     "name": "stderr",
     "output_type": "stream",
     "text": [
      "9483it [02:49, 84.52it/s]"
     ]
    },
    {
     "name": "stdout",
     "output_type": "stream",
     "text": [
      "0xf06a18 0xf088ad call 00F03F60h e843d5ffff <class 'bytes'> 15755800 15763629 <class 'int'> CALL_REL32_32 | 143 <class 'bytes'>\n",
      "  new_ins :  e814c9ffff \n",
      "\n",
      "0xf06a22 0xf088b9 jne short 00F06A3Fh 751b <class 'bytes'> 15755810 15763641 <class 'int'> JNE_REL8_32 | 143 <class 'bytes'>\n",
      "  new_ins :  7521 \n",
      "\n",
      "0xf06a2f 0xf088ca call 00F060E0h e8acf6ffff <class 'bytes'> 15755823 15763658 <class 'int'> CALL_REL32_32 | 143 <class 'bytes'>\n",
      "  new_ins :  e8fef3ffff \n",
      "\n",
      "0xf06a39 0xf088d6 jne near ptr 00F067E0h 0f85a1fdffff <class 'bytes'> 15755833 15763670 <class 'int'> JNE_REL32_32 | 143 <class 'bytes'>\n",
      "  new_ins :  0f85f9fcffff \n",
      "\n",
      "0xf06a44 0xf088e4 call 00F06160h e817f7ffff <class 'bytes'> 15755844 15763684 <class 'int'> CALL_REL32_32 | 143 <class 'bytes'>\n",
      "  new_ins :  e894f4ffff \n",
      "\n",
      "0xf06a58 0xf08900 jae short 00F06ABCh 7362 <class 'bytes'> 15755864 15763712 <class 'int'> JAE_REL8_32 | 147 <class 'bytes'>\n",
      "  new_ins :  0F838b000000 \n",
      "\n",
      "0xf06a74 0xf0892d call 00F067A0h e827fdffff <class 'bytes'> 15755892 15763757 <class 'int'> CALL_REL32_32 | 147 <class 'bytes'>\n",
      "  new_ins :  e851fcffff \n",
      "\n",
      "0xf06a7e 0xf08939 jne short 00F06AA0h 7520 <class 'bytes'> 15755902 15763769 <class 'int'> JNE_REL8_32 | 147 <class 'bytes'>\n",
      "  new_ins :  752c \n",
      "\n",
      "0xf06a85 0xf08944 call 00F067A0h e816fdffff <class 'bytes'> 15755909 15763780 <class 'int'> CALL_REL32_32 | 147 <class 'bytes'>\n",
      "  new_ins :  e83afcffff \n",
      "\n",
      "0xf06a8f 0xf08950 jne short 00F06AA0h 750f <class 'bytes'> 15755919 15763792 <class 'int'> JNE_REL8_32 | 147 <class 'bytes'>\n",
      "  new_ins :  7515 \n",
      "\n"
     ]
    },
    {
     "name": "stderr",
     "output_type": "stream",
     "text": [
      "9500it [02:50, 48.53it/s]"
     ]
    },
    {
     "name": "stdout",
     "output_type": "stream",
     "text": [
      "0xf06a98 0xf0895e call 00F0D700h e8636c0000 <class 'bytes'> 15755928 15763806 <class 'int'> CALL_REL32_32 | 147 <class 'bytes'>\n",
      "  new_ins :  e8a58b0000 \n",
      "\n"
     ]
    },
    {
     "name": "stderr",
     "output_type": "stream",
     "text": [
      "9530it [02:52, 22.16it/s]"
     ]
    },
    {
     "name": "stdout",
     "output_type": "stream",
     "text": [
      "0xf06ad0 0xf089ac call 00F19D30h e85b320100 <class 'bytes'> 15755984 15763884 <class 'int'> CALL_REL32_32 | 147 <class 'bytes'>\n",
      "  new_ins :  e833900100 \n",
      "\n",
      "0xf06ae6 0xf089c9 call 00F19DD0h e8e5320100 <class 'bytes'> 15756006 15763913 <class 'int'> CALL_REL32_32 | 147 <class 'bytes'>\n",
      "  new_ins :  e8f7900100 \n",
      "\n"
     ]
    },
    {
     "name": "stderr",
     "output_type": "stream",
     "text": [
      "9578it [02:53, 35.35it/s]"
     ]
    },
    {
     "name": "stdout",
     "output_type": "stream",
     "text": [
      "0xf06afe 0xf089e9 call 00F1B57Bh e8784a0100 <class 'bytes'> 15756030 15763945 <class 'int'> CALL_REL32_32 | 147 <class 'bytes'>\n",
      "  new_ins :  e88fb00100 \n",
      "\n",
      "0xf06b23 0xf08a17 je near ptr 00F06CD4h 0f84ab010000 <class 'bytes'> 15756067 15763991 <class 'int'> JE_REL32_32 | 147 <class 'bytes'>\n",
      "  new_ins :  0f8416020000 \n",
      "\n",
      "0xf06b2b 0xf08a20 jmp short 00F06B30h eb03 <class 'bytes'> 15756075 15764000 <class 'int'> JMP_REL8_32 | 147 <class 'bytes'>\n",
      "  new_ins :  eb04 \n",
      "\n",
      "0xf06b3b 0xf08a34 jne short 00F06B8Bh 754e <class 'bytes'> 15756091 15764020 <class 'int'> JNE_REL8_32 | 147 <class 'bytes'>\n",
      "  new_ins :  7562 \n",
      "\n",
      "0xf06b43 0xf08a3d jne short 00F06B8Bh 7546 <class 'bytes'> 15756099 15764029 <class 'int'> JNE_REL8_32 | 147 <class 'bytes'>\n",
      "  new_ins :  7559 \n",
      "\n",
      "0xf06b4b 0xf08a47 jmp short 00F06B50h eb03 <class 'bytes'> 15756107 15764039 <class 'int'> JMP_REL8_32 | 147 <class 'bytes'>\n",
      "  new_ins :  eb04 \n",
      "\n",
      "0xf06b53 0xf08a51 jne short 00F06B67h 7512 <class 'bytes'> 15756115 15764049 <class 'int'> JNE_REL8_32 | 147 <class 'bytes'>\n",
      "  new_ins :  7515 \n",
      "\n",
      "0xf06b59 0xf08a58 jne short 00F06B67h 750c <class 'bytes'> 15756121 15764056 <class 'int'> JNE_REL8_32 | 147 <class 'bytes'>\n",
      "  new_ins :  750e \n",
      "\n",
      "0xf06b5f 0xf08a5f jne short 00F06B67h 7506 <class 'bytes'> 15756127 15764063 <class 'int'> JNE_REL8_32 | 147 <class 'bytes'>\n",
      "  new_ins :  7507 \n",
      "\n",
      "0xf06b65 0xf08a66 je short 00F06B6Ch 7405 <class 'bytes'> 15756133 15764070 <class 'int'> JE_REL8_32 | 147 <class 'bytes'>\n",
      "  new_ins :  7407 \n",
      "\n",
      "0xf06b6a 0xf08a6d jb short 00F06B50h 72e4 <class 'bytes'> 15756138 15764077 <class 'int'> JB_REL8_32 | 147 <class 'bytes'>\n",
      "  new_ins :  72de \n",
      "\n",
      "0xf06b78 0xf08a80 call 00F08BE0h e863200000 <class 'bytes'> 15756152 15764096 <class 'int'> CALL_REL32_32 | 147 <class 'bytes'>\n",
      "  new_ins :  e852290000 \n",
      "\n",
      "0xf06b8f 0xf08a9d jne short 00F06BDBh 754a <class 'bytes'> 15756175 15764125 <class 'int'> JNE_REL8_32 | 147 <class 'bytes'>\n",
      "  new_ins :  755d \n",
      "\n",
      "0xf06b97 0xf08aa6 jne short 00F06BDBh 7542 <class 'bytes'> 15756183 15764134 <class 'int'> JNE_REL8_32 | 147 <class 'bytes'>\n",
      "  new_ins :  7554 \n",
      "\n",
      "0xf06ba3 0xf08ab5 jne short 00F06BB7h 7512 <class 'bytes'> 15756195 15764149 <class 'int'> JNE_REL8_32 | 147 <class 'bytes'>\n",
      "  new_ins :  7515 \n",
      "\n",
      "0xf06ba9 0xf08abc jne short 00F06BB7h 750c <class 'bytes'> 15756201 15764156 <class 'int'> JNE_REL8_32 | 147 <class 'bytes'>\n",
      "  new_ins :  750e \n",
      "\n",
      "0xf06baf 0xf08ac3 jne short 00F06BB7h 7506 <class 'bytes'> 15756207 15764163 <class 'int'> JNE_REL8_32 | 147 <class 'bytes'>\n",
      "  new_ins :  7507 \n",
      "\n",
      "0xf06bb5 0xf08aca je short 00F06BBCh 7405 <class 'bytes'> 15756213 15764170 <class 'int'> JE_REL8_32 | 147 <class 'bytes'>\n",
      "  new_ins :  7407 \n",
      "\n",
      "0xf06bba 0xf08ad1 jb short 00F06BA0h 72e4 <class 'bytes'> 15756218 15764177 <class 'int'> JB_REL8_32 | 147 <class 'bytes'>\n",
      "  new_ins :  72de \n",
      "\n"
     ]
    },
    {
     "name": "stderr",
     "output_type": "stream",
     "text": [
      "9645it [02:54, 78.43it/s]"
     ]
    },
    {
     "name": "stdout",
     "output_type": "stream",
     "text": [
      "0xf06bc8 0xf08ae4 call 00F08BE0h e813200000 <class 'bytes'> 15756232 15764196 <class 'int'> CALL_REL32_32 | 147 <class 'bytes'>\n",
      "  new_ins :  e8ee280000 \n",
      "\n",
      "0xf06bdf 0xf08b01 jne short 00F06C2Bh 754a <class 'bytes'> 15756255 15764225 <class 'int'> JNE_REL8_32 | 147 <class 'bytes'>\n",
      "  new_ins :  755d \n",
      "\n",
      "0xf06be7 0xf08b0a jne short 00F06C2Bh 7542 <class 'bytes'> 15756263 15764234 <class 'int'> JNE_REL8_32 | 147 <class 'bytes'>\n",
      "  new_ins :  7554 \n",
      "\n",
      "0xf06bf3 0xf08b19 jne short 00F06C07h 7512 <class 'bytes'> 15756275 15764249 <class 'int'> JNE_REL8_32 | 147 <class 'bytes'>\n",
      "  new_ins :  7515 \n",
      "\n",
      "0xf06bf9 0xf08b20 jne short 00F06C07h 750c <class 'bytes'> 15756281 15764256 <class 'int'> JNE_REL8_32 | 147 <class 'bytes'>\n",
      "  new_ins :  750e \n",
      "\n",
      "0xf06bff 0xf08b27 jne short 00F06C07h 7506 <class 'bytes'> 15756287 15764263 <class 'int'> JNE_REL8_32 | 147 <class 'bytes'>\n",
      "  new_ins :  7507 \n",
      "\n",
      "0xf06c05 0xf08b2e je short 00F06C0Ch 7405 <class 'bytes'> 15756293 15764270 <class 'int'> JE_REL8_32 | 147 <class 'bytes'>\n",
      "  new_ins :  7407 \n",
      "\n",
      "0xf06c0a 0xf08b35 jb short 00F06BF0h 72e4 <class 'bytes'> 15756298 15764277 <class 'int'> JB_REL8_32 | 147 <class 'bytes'>\n",
      "  new_ins :  72de \n",
      "\n",
      "0xf06c18 0xf08b48 call 00F08BE0h e8c31f0000 <class 'bytes'> 15756312 15764296 <class 'int'> CALL_REL32_32 | 147 <class 'bytes'>\n",
      "  new_ins :  e88a280000 \n",
      "\n",
      "0xf06c2f 0xf08b65 jne short 00F06C7Bh 754a <class 'bytes'> 15756335 15764325 <class 'int'> JNE_REL8_32 | 147 <class 'bytes'>\n",
      "  new_ins :  755d \n",
      "\n",
      "0xf06c37 0xf08b6e jne short 00F06C7Bh 7542 <class 'bytes'> 15756343 15764334 <class 'int'> JNE_REL8_32 | 147 <class 'bytes'>\n",
      "  new_ins :  7554 \n",
      "\n",
      "0xf06c43 0xf08b7d jne short 00F06C57h 7512 <class 'bytes'> 15756355 15764349 <class 'int'> JNE_REL8_32 | 147 <class 'bytes'>\n",
      "  new_ins :  7515 \n",
      "\n",
      "0xf06c49 0xf08b84 jne short 00F06C57h 750c <class 'bytes'> 15756361 15764356 <class 'int'> JNE_REL8_32 | 147 <class 'bytes'>\n",
      "  new_ins :  750e \n",
      "\n",
      "0xf06c4f 0xf08b8b jne short 00F06C57h 7506 <class 'bytes'> 15756367 15764363 <class 'int'> JNE_REL8_32 | 147 <class 'bytes'>\n",
      "  new_ins :  7507 \n",
      "\n",
      "0xf06c55 0xf08b92 je short 00F06C5Ch 7405 <class 'bytes'> 15756373 15764370 <class 'int'> JE_REL8_32 | 147 <class 'bytes'>\n",
      "  new_ins :  7407 \n",
      "\n",
      "0xf06c5a 0xf08b99 jb short 00F06C40h 72e4 <class 'bytes'> 15756378 15764377 <class 'int'> JB_REL8_32 | 147 <class 'bytes'>\n",
      "  new_ins :  72de \n",
      "\n",
      "0xf06c68 0xf08bac call 00F08BE0h e8731f0000 <class 'bytes'> 15756392 15764396 <class 'int'> CALL_REL32_32 | 147 <class 'bytes'>\n",
      "  new_ins :  e826280000 \n",
      "\n",
      "0xf06c7f 0xf08bc9 jne short 00F06CC8h "
     ]
    },
    {
     "name": "stderr",
     "output_type": "stream",
     "text": [
      "9705it [02:54, 127.85it/s]"
     ]
    },
    {
     "name": "stdout",
     "output_type": "stream",
     "text": [
      "7547 <class 'bytes'> 15756415 15764425 <class 'int'> JNE_REL8_32 | 147 <class 'bytes'>\n",
      "  new_ins :  7559 \n",
      "\n",
      "0xf06c87 0xf08bd2 jne short 00F06CC8h 753f <class 'bytes'> 15756423 15764434 <class 'int'> JNE_REL8_32 | 147 <class 'bytes'>\n",
      "  new_ins :  7550 \n",
      "\n",
      "0xf06c93 0xf08be1 jne short 00F06CA7h 7512 <class 'bytes'> 15756435 15764449 <class 'int'> JNE_REL8_32 | 147 <class 'bytes'>\n",
      "  new_ins :  7515 \n",
      "\n",
      "0xf06c99 0xf08be8 jne short 00F06CA7h 750c <class 'bytes'> 15756441 15764456 <class 'int'> JNE_REL8_32 | 147 <class 'bytes'>\n",
      "  new_ins :  750e \n",
      "\n",
      "0xf06c9f 0xf08bef jne short 00F06CA7h 7506 <class 'bytes'> 15756447 15764463 <class 'int'> JNE_REL8_32 | 147 <class 'bytes'>\n",
      "  new_ins :  7507 \n",
      "\n",
      "0xf06ca5 0xf08bf6 je short 00F06CACh 7405 <class 'bytes'> 15756453 15764470 <class 'int'> JE_REL8_32 | 147 <class 'bytes'>\n",
      "  new_ins :  7407 \n",
      "\n",
      "0xf06caa 0xf08bfd jb short 00F06C90h 72e4 <class 'bytes'> 15756458 15764477 <class 'int'> JB_REL8_32 | 147 <class 'bytes'>\n",
      "  new_ins :  72de \n",
      "\n",
      "0xf06cb8 0xf08c10 call 00F08BE0h e8231f0000 <class 'bytes'> 15756472 15764496 <class 'int'> CALL_REL32_32 | 147 <class 'bytes'>\n",
      "  new_ins :  e8c2270000 \n",
      "\n",
      "0xf06ccb 0xf08c29 jb near ptr 00F06B30h 0f825ffeffff <class 'bytes'> 15756491 15764521 <class 'int'> JB_REL32_32 | 147 <class 'bytes'>\n",
      "  new_ins :  0f82f7fdffff \n",
      "\n",
      "0xf06cdb 0xf08c3c je short 00F06CEDh 7410 <class 'bytes'> 15756507 15764540 <class 'int'> JE_REL8_32 | 147 <class 'bytes'>\n",
      "  new_ins :  7416 \n",
      "\n"
     ]
    },
    {
     "name": "stderr",
     "output_type": "stream",
     "text": [
      "9732it [02:54, 126.28it/s]"
     ]
    },
    {
     "name": "stdout",
     "output_type": "stream",
     "text": [
      "0xf06ce5 0xf08c4b call 00F17870h e8860b0100 <class 'bytes'> 15756517 15764555 <class 'int'> CALL_REL32_32 | 147 <class 'bytes'>\n",
      "  new_ins :  e8fa5b0100 \n",
      "\n",
      "0xf06cfc 0xf08c6e jns short 00F06D45h 7947 <class 'bytes'> 15756540 15764590 <class 'int'> JNS_REL8_32 | 147 <class 'bytes'>\n",
      "  new_ins :  7959 \n",
      "\n",
      "0xf06d0f 0xf08c87 call 00F0D6C0h e8ac690000 <class 'bytes'> 15756559 15764615 <class 'int'> CALL_REL32_32 | 147 <class 'bytes'>\n",
      "  new_ins :  e828880000 \n",
      "\n"
     ]
    },
    {
     "name": "stderr",
     "output_type": "stream",
     "text": [
      "9754it [02:54, 105.35it/s]"
     ]
    },
    {
     "name": "stdout",
     "output_type": "stream",
     "text": [
      "0xf06d29 0xf08ca7 call 00F19E50h e822310100 <class 'bytes'> 15756585 15764647 <class 'int'> CALL_REL32_32 | 147 <class 'bytes'>\n",
      "  new_ins :  e8cb8e0100 \n",
      "\n",
      "0xf06d3e 0xf08cc1 call 00F12360h e81db60000 <class 'bytes'> 15756606 15764673 <class 'int'> CALL_REL32_32 | 147 <class 'bytes'>\n",
      "  new_ins :  e8acea0000 \n",
      "\n",
      "0xf06d48 0xf08ccd je near ptr 00F06F26h 0f84d8010000 <class 'bytes'> 15756616 15764685 <class 'int'> JE_REL32_32 | 147 <class 'bytes'>\n",
      "  new_ins :  0f8450020000 \n",
      "\n",
      "0xf06d4e 0xf08cd3 call 00F19700h e8ad290100 <class 'bytes'> 15756622 15764691 <class 'int'> CALL_REL32_32 | 147 <class 'bytes'>\n",
      "  new_ins :  e8fe840100 \n",
      "\n"
     ]
    },
    {
     "name": "stderr",
     "output_type": "stream",
     "text": [
      "9772it [02:55, 101.16it/s]"
     ]
    },
    {
     "name": "stdout",
     "output_type": "stream",
     "text": [
      "0xf06d6b 0xf08cf7 call 00F12390h e820b60000 <class 'bytes'> 15756651 15764727 <class 'int'> CALL_REL32_32 | 147 <class 'bytes'>\n",
      "  new_ins :  e8b6ea0000 \n",
      "\n",
      "0xf06d75 0xf08d03 je near ptr 00F06F26h 0f84ab010000 <class 'bytes'> 15756661 15764739 <class 'int'> JE_REL32_32 | 147 <class 'bytes'>\n",
      "  new_ins :  0f841a020000 \n",
      "\n",
      "0xf06d86 0xf08d1a call 00F19E50h e8c5300100 <class 'bytes'> 15756678 15764762 <class 'int'> CALL_REL32_32 | 147 <class 'bytes'>\n",
      "  new_ins :  e8588e0100 \n",
      "\n",
      "0xf06d9f 0xf08d3a call 00F06AB0h e80cfdffff <class 'bytes'> 15756703 15764794 <class 'int'> CALL_REL32_32 | 147 <class 'bytes'>\n",
      "  new_ins :  e83ffcffff \n",
      "\n",
      "0xf06dad 0xf08d4b call 00F1AF20h e86e410100 <class 'bytes'> 15756717 15764811 <class 'int'> CALL_REL32_32 | 147 <class 'bytes'>\n",
      "  new_ins :  e8a9a40100 \n",
      "\n",
      "0xf06db4 0xf08d53 call 00F19380h e8c7250100 <class 'bytes'> 15756724 15764819 <class 'int'> CALL_REL32_32 | 147 <class 'bytes'>\n",
      "  new_ins :  e8d87f0100 \n",
      "\n"
     ]
    },
    {
     "name": "stderr",
     "output_type": "stream",
     "text": [
      "9787it [02:55, 76.34it/s] "
     ]
    },
    {
     "name": "stdout",
     "output_type": "stream",
     "text": [
      "0xf06dc2 0xf08d66 call 00F1B050h e889420100 <class 'bytes'> 15756738 15764838 <class 'int'> CALL_REL32_32 | 147 <class 'bytes'>\n",
      "  new_ins :  e825a60100 \n",
      "\n",
      "0xf06dca 0xf08d6f call 00F19360h e891250100 <class 'bytes'> 15756746 15764847 <class 'int'> CALL_REL32_32 | 147 <class 'bytes'>\n",
      "  new_ins :  e8917f0100 \n",
      "\n"
     ]
    },
    {
     "name": "stderr",
     "output_type": "stream",
     "text": [
      "9809it [02:55, 71.70it/s]"
     ]
    },
    {
     "name": "stdout",
     "output_type": "stream",
     "text": [
      "0xf06dd6 0xf08d7f call 00F05EA0h e8c5f0ffff <class 'bytes'> 15756758 15764863 <class 'int'> CALL_REL32_32 | 147 <class 'bytes'>\n",
      "  new_ins :  e849ecffff \n",
      "\n",
      "0xf06de0 0xf08d8b je near ptr 00F06EEFh 0f8409010000 <class 'bytes'> 15756768 15764875 <class 'int'> JE_REL32_32 | 147 <class 'bytes'>\n",
      "  new_ins :  0f8451010000 \n",
      "\n",
      "0xf06df1 0xf08da0 call 00F060B0h e8baf2ffff <class 'bytes'> 15756785 15764896 <class 'int'> CALL_REL32_32 | 147 <class 'bytes'>\n",
      "  new_ins :  e8eaeeffff \n",
      "\n",
      "0xf06e0c 0xf08dc0 call 00F19E00h e8ef2f0100 <class 'bytes'> 15756812 15764928 <class 'int'> CALL_REL32_32 | 147 <class 'bytes'>\n",
      "  new_ins :  e8438d0100 \n",
      "\n"
     ]
    },
    {
     "name": "stderr",
     "output_type": "stream",
     "text": [
      "9828it [02:56, 67.82it/s]"
     ]
    },
    {
     "name": "stdout",
     "output_type": "stream",
     "text": [
      "0xf06e1f 0xf08dd7 call 00F1A470h e84c360100 <class 'bytes'> 15756831 15764951 <class 'int'> CALL_REL32_32 | 147 <class 'bytes'>\n",
      "  new_ins :  e817960100 \n",
      "\n",
      "0xf06e2e 0xf08de8 je short 00F06E72h 7442 <class 'bytes'> 15756846 15764968 <class 'int'> JE_REL8_32 | 147 <class 'bytes'>\n",
      "  new_ins :  7459 \n",
      "\n",
      "0xf06e3a 0xf08df8 call 00F12D80h e841bf0000 <class 'bytes'> 15756858 15764984 <class 'int'> CALL_REL32_32 | 147 <class 'bytes'>\n",
      "  new_ins :  e80ef70000 \n",
      "\n",
      "0xf06e43 0xf08e03 call 00F12DE0h e898bf0000 <class 'bytes'> 15756867 15764995 <class 'int'> CALL_REL32_32 | 147 <class 'bytes'>\n",
      "  new_ins :  e880f70000 \n",
      "\n",
      "0xf06e4d 0xf08e0f je short 00F06EC1h 7472 <class 'bytes'> 15756877 15765007 <class 'int'> JE_REL8_32 | 151 <class 'bytes'>\n",
      "  new_ins :  0F8494000000 \n",
      "\n"
     ]
    },
    {
     "name": "stderr",
     "output_type": "stream",
     "text": [
      "9838it [02:56, 52.76it/s]"
     ]
    },
    {
     "name": "stdout",
     "output_type": "stream",
     "text": [
      "0xf06e68 0xf08e38 call 00F0A7A0h e833390000 <class 'bytes'> 15756904 15765048 <class 'int'> CALL_REL32_32 | 151 <class 'bytes'>\n",
      "  new_ins :  e8c6490000 \n",
      "\n",
      "0xf06e70 0xf08e41 jmp short 00F06EC1h eb4f <class 'bytes'> 15756912 15765057 <class 'int'> JMP_REL8_32 | 151 <class 'bytes'>\n",
      "  new_ins :  eb66 \n",
      "\n"
     ]
    },
    {
     "name": "stderr",
     "output_type": "stream",
     "text": [
      "9864it [02:57, 35.07it/s]"
     ]
    },
    {
     "name": "stdout",
     "output_type": "stream",
     "text": [
      "0xf06e80 0xf08e56 call 00F12D80h e8fbbe0000 <class 'bytes'> 15756928 15765078 <class 'int'> CALL_REL32_32 | 151 <class 'bytes'>\n",
      "  new_ins :  e8b0f60000 \n",
      "\n",
      "0xf06e89 0xf08e61 call 00F12DE0h e852bf0000 <class 'bytes'> 15756937 15765089 <class 'int'> CALL_REL32_32 | 151 <class 'bytes'>\n",
      "  new_ins :  e822f70000 \n",
      "\n",
      "0xf06e93 0xf08e6d je short 00F06EB8h 7423 <class 'bytes'> 15756947 15765101 <class 'int'> JE_REL8_32 | 151 <class 'bytes'>\n",
      "  new_ins :  742f \n",
      "\n",
      "0xf06eb0 0xf08e95 call 00F0A7A0h e8eb380000 <class 'bytes'> 15756976 15765141 <class 'int'> CALL_REL32_32 | 151 <class 'bytes'>\n",
      "  new_ins :  e869490000 \n",
      "\n",
      "0xf06ebf 0xf08ea7 jbe short 00F06E77h 76b6 <class 'bytes'> 15756991 15765159 <class 'int'> JBE_REL8_32 | 151 <class 'bytes'>\n",
      "  new_ins :  76a0 \n",
      "\n",
      "0xf06ec5 0xf08eae jne short 00F06EE2h 751b <class 'bytes'> 15756997 15765166 <class 'int'> JNE_REL8_32 | 151 <class 'bytes'>\n",
      "  new_ins :  7521 \n",
      "\n"
     ]
    },
    {
     "name": "stderr",
     "output_type": "stream",
     "text": [
      "9893it [02:57, 57.86it/s]"
     ]
    },
    {
     "name": "stdout",
     "output_type": "stream",
     "text": [
      "0xf06ed2 0xf08ebf call 00F060E0h e809f2ffff <class 'bytes'> 15757010 15765183 <class 'int'> CALL_REL32_32 | 151 <class 'bytes'>\n",
      "  new_ins :  e809eeffff \n",
      "\n",
      "0xf06edc 0xf08ecb jne near ptr 00F06E00h 0f851effffff <class 'bytes'> 15757020 15765195 <class 'int'> JNE_REL32_32 | 151 <class 'bytes'>\n",
      "  new_ins :  0f85e0feffff \n",
      "\n",
      "0xf06ee7 0xf08ed9 call 00F06160h e874f2ffff <class 'bytes'> 15757031 15765209 <class 'int'> CALL_REL32_32 | 151 <class 'bytes'>\n",
      "  new_ins :  e89feeffff \n",
      "\n",
      "0xf06eff 0xf08ef5 call 00F0D660h e85c670000 <class 'bytes'> 15757055 15765237 <class 'int'> CALL_REL32_32 | 151 <class 'bytes'>\n",
      "  new_ins :  e83b850000 \n",
      "\n",
      "0xf06f0e 0xf08f06 je short 00F06F1Bh 740b <class 'bytes'> 15757070 15765254 <class 'int'> JE_REL8_32 | 151 <class 'bytes'>\n",
      "  new_ins :  740e \n",
      "\n",
      "0xf06f13 0xf08f0d call 00F0D070h e858610000 <class 'bytes'> 15757075 15765261 <class 'int'> CALL_REL32_32 | 151 <class 'bytes'>\n",
      "  new_ins :  e8387d0000 \n",
      "\n",
      "0xf06f1f 0xf08f1b je near ptr 00F06DD1h 0f84acfeffff <class 'bytes'> 15757087 15765275 <class 'int'> JE_REL32_32 | 151 <class 'bytes'>\n",
      "  new_ins :  0f8456feffff \n",
      "\n"
     ]
    },
    {
     "name": "stderr",
     "output_type": "stream",
     "text": [
      "9917it [02:59, 21.89it/s]"
     ]
    },
    {
     "name": "stdout",
     "output_type": "stream",
     "text": [
      "0xf06f52 0xf08f61 call 00F19E50h e8f92e0100 <class 'bytes'> 15757138 15765345 <class 'int'> CALL_REL32_32 | 151 <class 'bytes'>\n",
      "  new_ins :  e8118c0100 \n",
      "\n",
      "0xf06f64 0xf08f78 call 00F091B0h e847220000 <class 'bytes'> 15757156 15765368 <class 'int'> CALL_REL32_32 | 151 <class 'bytes'>\n",
      "  new_ins :  e8ff2b0000 \n",
      "\n",
      "0xf06f81 0xf08f9c call 00F08F00h e87a1f0000 <class 'bytes'> 15757185 15765404 <class 'int'> CALL_REL32_32 | 151 <class 'bytes'>\n",
      "  new_ins :  e865280000 \n",
      "\n",
      "0xf06f8b 0xf08fa8 jne short 00F06FE2h 7555 <class 'bytes'> 15757195 15765416 <class 'int'> JNE_REL8_32 | 151 <class 'bytes'>\n",
      "  new_ins :  756a \n",
      "\n"
     ]
    },
    {
     "name": "stderr",
     "output_type": "stream",
     "text": [
      "9947it [03:00, 32.66it/s]"
     ]
    },
    {
     "name": "stdout",
     "output_type": "stream",
     "text": [
      "0xf06f9a 0xf08fbb call 00F1A0C0h e821310100 <class 'bytes'> 15757210 15765435 <class 'int'> CALL_REL32_32 | 151 <class 'bytes'>\n",
      "  new_ins :  e8268f0100 \n",
      "\n",
      "0xf06fa7 0xf08fca ja near ptr 00F070F5h 0f8748010000 <class 'bytes'> 15757223 15765450 <class 'int'> JA_REL32_32 | 151 <class 'bytes'>\n",
      "  new_ins :  0f879a010000 \n",
      "\n",
      "0xf06fae 0xf08fd2 call 00F1A0C0h e80d310100 <class 'bytes'> 15757230 15765458 <class 'int'> CALL_REL32_32 | 151 <class 'bytes'>\n",
      "  new_ins :  e80f8f0100 \n",
      "\n",
      "0xf06fba 0xf08fe2 call 00F19DD0h e8112e0100 <class 'bytes'> 15757242 15765474 <class 'int'> CALL_REL32_32 | 151 <class 'bytes'>\n",
      "  new_ins :  e8de8a0100 \n",
      "\n"
     ]
    },
    {
     "name": "stderr",
     "output_type": "stream",
     "text": [
      "9974it [03:00, 43.51it/s]"
     ]
    },
    {
     "name": "stdout",
     "output_type": "stream",
     "text": [
      "0xf06fcb 0xf08ff8 call 00F1A3E0h e810340100 <class 'bytes'> 15757259 15765496 <class 'int'> CALL_REL32_32 | 151 <class 'bytes'>\n",
      "  new_ins :  e834930100 \n",
      "\n",
      "0xf06fde 0xf09010 jb short 00F06FC4h 72e4 <class 'bytes'> 15757278 15765520 <class 'int'> JB_REL8_32 | 151 <class 'bytes'>\n",
      "  new_ins :  72dc \n",
      "\n",
      "0xf06fe0 0xf09012 jmp short 00F06FF4h eb12 <class 'bytes'> 15757280 15765522 <class 'int'> JMP_REL8_32 | 151 <class 'bytes'>\n",
      "  new_ins :  eb17 \n",
      "\n",
      "0xf06fec 0xf09022 call 00F08E30h e83f1e0000 <class 'bytes'> 15757292 15765538 <class 'int'> CALL_REL32_32 | 151 <class 'bytes'>\n",
      "  new_ins :  e8c1260000 \n",
      "\n",
      "0xf06ff7 0xf09030 call 00F0D370h e874630000 <class 'bytes'> 15757303 15765552 <class 'int'> CALL_REL32_32 | 151 <class 'bytes'>\n",
      "  new_ins :  e806800000 \n",
      "\n",
      "0xf07001 0xf0903d call 00F0D400h e8fa630000 <class 'bytes'> 15757313 15765565 <class 'int'> CALL_REL32_32 | 151 <class 'bytes'>\n",
      "  new_ins :  e8b4800000 \n",
      "\n",
      "0xf0700b 0xf09049 je short 00F0701Fh 7412 <class 'bytes'> 15757323 15765577 <class 'int'> JE_REL8_32 | 151 <class 'bytes'>\n",
      "  new_ins :  7414 \n",
      "\n",
      "0xf0700f 0xf0904e jne near ptr 00F070F5h 0f85e0000000 <class 'bytes'> 15757327 15765582 <class 'int'> JNE_REL32_32 | 151 <class 'bytes'>\n",
      "  new_ins :  0f8516010000 \n",
      "\n"
     ]
    },
    {
     "name": "stderr",
     "output_type": "stream",
     "text": [
      "9984it [03:00, 45.65it/s]"
     ]
    },
    {
     "name": "stdout",
     "output_type": "stream",
     "text": [
      "0xf07025 0xf09067 call 00F19F80h e8562f0100 <class 'bytes'> 15757349 15765607 <class 'int'> CALL_REL32_32 | 151 <class 'bytes'>\n",
      "  new_ins :  e8c78c0100 \n",
      "\n",
      "0xf07036 0xf0907b call 00F19F80h e8452f0100 <class 'bytes'> 15757366 15765627 <class 'int'> CALL_REL32_32 | 151 <class 'bytes'>\n",
      "  new_ins :  e8b38c0100 \n",
      "\n"
     ]
    },
    {
     "name": "stderr",
     "output_type": "stream",
     "text": [
      "10002it [03:01, 49.99it/s]"
     ]
    },
    {
     "name": "stdout",
     "output_type": "stream",
     "text": [
      "0xf07047 0xf0908f call 00F19F80h e8342f0100 <class 'bytes'> 15757383 15765647 <class 'int'> CALL_REL32_32 | 151 <class 'bytes'>\n",
      "  new_ins :  e89f8c0100 \n",
      "\n",
      "0xf07054 0xf0909f call 00F0AA80h e8273a0000 <class 'bytes'> 15757396 15765663 <class 'int'> CALL_REL32_32 | 151 <class 'bytes'>\n",
      "  new_ins :  e81e4b0000 \n",
      "\n",
      "0xf07061 0xf090b1 call 00F12A40h e8dab90000 <class 'bytes'> 15757409 15765681 <class 'int'> CALL_REL32_32 | 151 <class 'bytes'>\n",
      "  new_ins :  e80af00000 \n",
      "\n",
      "0xf07072 0xf090c7 call 00F12A40h e8c9b90000 <class 'bytes'> 15757426 15765703 <class 'int'> CALL_REL32_32 | 151 <class 'bytes'>\n",
      "  new_ins :  e8f4ef0000 \n",
      "\n",
      "0xf07082 0xf090da jne short 00F070A5h 7521 <class 'bytes'> 15757442 15765722 <class 'int'> JNE_REL8_32 | 151 <class 'bytes'>\n",
      "  new_ins :  752d \n",
      "\n"
     ]
    },
    {
     "name": "stderr",
     "output_type": "stream",
     "text": [
      "10036it [03:01, 86.07it/s]"
     ]
    },
    {
     "name": "stdout",
     "output_type": "stream",
     "text": [
      "0xf07086 0xf090e0 call 00F0B610h e885450000 <class 'bytes'> 15757446 15765728 <class 'int'> CALL_REL32_32 | 151 <class 'bytes'>\n",
      "  new_ins :  e89d590000 \n",
      "\n",
      "0xf0708d 0xf090e9 call 00F0ABF0h e85e3b0000 <class 'bytes'> 15757453 15765737 <class 'int'> CALL_REL32_32 | 151 <class 'bytes'>\n",
      "  new_ins :  e8a94c0000 \n",
      "\n",
      "0xf07096 0xf090f4 call 00F06D00h e865fcffff <class 'bytes'> 15757462 15765748 <class 'int'> CALL_REL32_32 | 151 <class 'bytes'>\n",
      "  new_ins :  e87afbffff \n",
      "\n",
      "0xf070bc 0xf09127 call 00F12A40h e87fb90000 <class 'bytes'> 15757500 15765799 <class 'int'> CALL_REL32_32 | 151 <class 'bytes'>\n",
      "  new_ins :  e894ef0000 \n",
      "\n",
      "0xf070d2 0xf09141 je short 00F070ECh 7418 <class 'bytes'> 15757522 15765825 <class 'int'> JE_REL8_32 | 151 <class 'bytes'>\n",
      "  new_ins :  741c \n",
      "\n",
      "0xf070db 0xf0914b je short 00F070ECh 740f <class 'bytes'> 15757531 15765835 <class 'int'> JE_REL8_32 | 151 <class 'bytes'>\n",
      "  new_ins :  7412 \n",
      "\n",
      "0xf070e1 0xf09152 jne short 00F070ECh 7509 <class 'bytes'> 15757537 15765842 <class 'int'> JNE_REL8_32 | 151 <class 'bytes'>\n",
      "  new_ins :  750b \n",
      "\n",
      "0xf070e4 0xf09156 call 00F0B6B0h e8c7450000 <class 'bytes'> 15757540 15765846 <class 'int'> CALL_REL32_32 | 151 <class 'bytes'>\n",
      "  new_ins :  e8f2590000 \n",
      "\n",
      "0xf070ed 0xf09161 call 00F06D00h e80efcffff <class 'bytes'> 15757549 15765857 <class 'int'> CALL_REL32_32 | 151 <class 'bytes'>\n",
      "  new_ins :  e80dfbffff \n",
      "\n"
     ]
    },
    {
     "name": "stderr",
     "output_type": "stream",
     "text": [
      "10060it [03:01, 104.96it/s]"
     ]
    },
    {
     "name": "stdout",
     "output_type": "stream",
     "text": [
      "0xf07101 0xf0917d call 00F062E0h e8daf1ffff <class 'bytes'> 15757569 15765885 <class 'int'> CALL_REL32_32 | 151 <class 'bytes'>\n",
      "  new_ins :  e8f4edffff \n",
      "\n",
      "0xf0710f 0xf0918d jne short 00F07115h 7504 <class 'bytes'> 15757583 15765901 <class 'int'> JNE_REL8_32 | 151 <class 'bytes'>\n",
      "  new_ins :  7506 \n",
      "\n",
      "0xf0711b 0xf0919d call 00F19E00h e8e02c0100 <class 'bytes'> 15757595 15765917 <class 'int'> CALL_REL32_32 | 151 <class 'bytes'>\n",
      "  new_ins :  e866890100 \n",
      "\n"
     ]
    },
    {
     "name": "stderr",
     "output_type": "stream",
     "text": [
      "10090it [03:01, 103.75it/s]"
     ]
    },
    {
     "name": "stdout",
     "output_type": "stream",
     "text": [
      "0xf07131 0xf091b6 call 00F16BB0h e87afa0000 <class 'bytes'> 15757617 15765942 <class 'int'> CALL_REL32_32 | 151 <class 'bytes'>\n",
      "  new_ins :  e847460100 \n",
      "\n",
      "0xf0713a 0xf091c1 call 00F16A60h e821f90000 <class 'bytes'> 15757626 15765953 <class 'int'> CALL_REL32_32 | 151 <class 'bytes'>\n",
      "  new_ins :  e88e440100 \n",
      "\n"
     ]
    },
    {
     "name": "stderr",
     "output_type": "stream",
     "text": [
      "10103it [03:02, 82.37it/s] "
     ]
    },
    {
     "name": "stdout",
     "output_type": "stream",
     "text": [
      "0xf07167 0xf091ff call 00F19E50h e8e42c0100 <class 'bytes'> 15757671 15766015 <class 'int'> CALL_REL32_32 | 151 <class 'bytes'>\n",
      "  new_ins :  e873890100 \n",
      "\n",
      "0xf07182 0xf09220 call 00F19E50h e8c92c0100 <class 'bytes'> 15757698 15766048 <class 'int'> CALL_REL32_32 | 151 <class 'bytes'>\n",
      "  new_ins :  e852890100 \n",
      "\n",
      "0xf071a7 0xf0924c call 00F19E50h e8a42c0100 <class 'bytes'> 15757735 15766092 <class 'int'> CALL_REL32_32 | 151 <class 'bytes'>\n",
      "  new_ins :  e826890100 \n",
      "\n"
     ]
    },
    {
     "name": "stderr",
     "output_type": "stream",
     "text": [
      "10140it [03:02, 68.16it/s]"
     ]
    },
    {
     "name": "stdout",
     "output_type": "stream",
     "text": [
      "0xf071b5 0xf0925d call 00F1A9F0h e836380100 <class 'bytes'> 15757749 15766109 <class 'int'> CALL_REL32_32 | 151 <class 'bytes'>\n",
      "  new_ins :  e80a990100 \n",
      "\n",
      "0xf071c8 0xf09275 call 00F08CE0h e8131b0000 <class 'bytes'> 15757768 15766133 <class 'int'> CALL_REL32_32 | 151 <class 'bytes'>\n",
      "  new_ins :  e8b6220000 \n",
      "\n",
      "0xf071d8 0xf09288 je short 00F071F5h 741b <class 'bytes'> 15757784 15766152 <class 'int'> JE_REL8_32 | 151 <class 'bytes'>\n",
      "  new_ins :  7422 \n",
      "\n",
      "0xf071ed 0xf092a3 call 00F0AF10h e81e3d0000 <class 'bytes'> 15757805 15766179 <class 'int'> CALL_REL32_32 | 151 <class 'bytes'>\n",
      "  new_ins :  e8cc4e0000 \n",
      "\n",
      "0xf0720a 0xf092c8 call 00F1A230h e821300100 <class 'bytes'> 15757834 15766216 <class 'int'> CALL_REL32_32 | 151 <class 'bytes'>\n",
      "  new_ins :  e8248e0100 \n",
      "\n",
      "0xf07216 0xf092d6 je short 00F0725Ch 7444 <class 'bytes'> 15757846 15766230 <class 'int'> JE_REL8_32 | 151 <class 'bytes'>\n",
      "  new_ins :  7457 \n",
      "\n",
      "0xf0721d 0xf092df je short 00F07254h 7435 <class 'bytes'> 15757853 15766239 <class 'int'> JE_REL8_32"
     ]
    },
    {
     "name": "stderr",
     "output_type": "stream",
     "text": [
      "10150it [03:03, 68.91it/s]"
     ]
    },
    {
     "name": "stdout",
     "output_type": "stream",
     "text": [
      " | 151 <class 'bytes'>\n",
      "  new_ins :  7441 \n",
      "\n",
      "0xf07226 0xf092ea call 00F1A0C0h e8952e0100 <class 'bytes'> 15757862 15766250 <class 'int'> CALL_REL32_32 | 151 <class 'bytes'>\n",
      "  new_ins :  e8f78b0100 \n",
      "\n",
      "0xf07231 0xf092f7 ja short 00F07254h 7721 <class 'bytes'> 15757873 15766263 <class 'int'> JA_REL8_32 | 151 <class 'bytes'>\n",
      "  new_ins :  7729 \n",
      "\n"
     ]
    },
    {
     "name": "stderr",
     "output_type": "stream",
     "text": [
      "10168it [03:03, 71.42it/s]"
     ]
    },
    {
     "name": "stdout",
     "output_type": "stream",
     "text": [
      "0xf0723a 0xf09302 call 00F1A0C0h e8812e0100 <class 'bytes'> 15757882 15766274 <class 'int'> CALL_REL32_32 | 151 <class 'bytes'>\n",
      "  new_ins :  e8df8b0100 \n",
      "\n",
      "0xf0724c 0xf09319 call 00F19DD0h e87f2b0100 <class 'bytes'> 15757900 15766297 <class 'int'> CALL_REL32_32 | 151 <class 'bytes'>\n",
      "  new_ins :  e8a7870100 \n",
      "\n"
     ]
    },
    {
     "name": "stderr",
     "output_type": "stream",
     "text": [
      "10177it [03:03, 60.37it/s]"
     ]
    },
    {
     "name": "stdout",
     "output_type": "stream",
     "text": [
      "0xf0725c 0xf0932f call 00F19380h e81f210100 <class 'bytes'> 15757916 15766319 <class 'int'> CALL_REL32_32 | 151 <class 'bytes'>\n",
      "  new_ins :  e8fc790100 \n",
      "\n",
      "0xf0726b 0xf09344 call 00F1A000h e8902d0100 <class 'bytes'> 15757931 15766340 <class 'int'> CALL_REL32_32 | 151 <class 'bytes'>\n",
      "  new_ins :  e89d8a0100 \n",
      "\n"
     ]
    },
    {
     "name": "stderr",
     "output_type": "stream",
     "text": [
      "10192it [03:03, 60.39it/s]"
     ]
    },
    {
     "name": "stdout",
     "output_type": "stream",
     "text": [
      "0xf0727e 0xf0935c call 00F1A0C0h e83d2e0100 <class 'bytes'> 15757950 15766364 <class 'int'> CALL_REL32_32 | 151 <class 'bytes'>\n",
      "  new_ins :  e8858b0100 \n",
      "\n",
      "0xf0728e 0xf0936f call 00F1A4C0h e82d320100 <class 'bytes'> 15757966 15766383 <class 'int'> CALL_REL32_32 | 151 <class 'bytes'>\n",
      "  new_ins :  e8ed900100 \n",
      "\n"
     ]
    },
    {
     "name": "stderr",
     "output_type": "stream",
     "text": [
      "10199it [03:03, 60.32it/s]"
     ]
    },
    {
     "name": "stdout",
     "output_type": "stream",
     "text": [
      "0xf072a3 0xf0938b call 00F1A000h e8582d0100 <class 'bytes'> 15757987 15766411 <class 'int'> CALL_REL32_32 | 151 <class 'bytes'>\n",
      "  new_ins :  e8568a0100 \n",
      "\n",
      "0xf072b6 0xf093a3 call 00F1A0C0h e8052e0100 <class 'bytes'> 15758006 15766435 <class 'int'> CALL_REL32_32 | 151 <class 'bytes'>\n",
      "  new_ins :  e83e8b0100 \n",
      "\n"
     ]
    },
    {
     "name": "stderr",
     "output_type": "stream",
     "text": [
      "10219it [03:04, 58.36it/s]"
     ]
    },
    {
     "name": "stdout",
     "output_type": "stream",
     "text": [
      "0xf072c6 0xf093b6 call 00F1A4C0h e8f5310100 <class 'bytes'> 15758022 15766454 <class 'int'> CALL_REL32_32 | 151 <class 'bytes'>\n",
      "  new_ins :  e8a6900100 \n",
      "\n",
      "0xf072d7 0xf093cc call 00F0D280h e8a45f0000 <class 'bytes'> 15758039 15766476 <class 'int'> CALL_REL32_32 | 151 <class 'bytes'>\n",
      "  new_ins :  e82f7b0000 \n",
      "\n",
      "0xf072e1 0xf093d8 je near ptr 00F07254h 0f846dffffff <class 'bytes'> 15758049 15766488 <class 'int'> JE_REL32_32 | 151 <class 'bytes'>\n",
      "  new_ins :  0f8444ffffff \n",
      "\n",
      "0xf072ec 0xf093e5 je short 00F072F8h 740a <class 'bytes'> 15758060 15766501 <class 'int'> JE_REL8_32 | 151 <class 'bytes'>\n",
      "  new_ins :  740d \n",
      "\n",
      "0xf072f0 0xf093eb call 00F18480h e88b110100 <class 'bytes'> 15758064 15766507 <class 'int'> CALL_REL32_32 | 151 <class 'bytes'>\n",
      "  new_ins :  e8cc640100 \n",
      "\n"
     ]
    },
    {
     "name": "stderr",
     "output_type": "stream",
     "text": [
      "10254it [03:04, 87.05it/s]"
     ]
    },
    {
     "name": "stdout",
     "output_type": "stream",
     "text": [
      "0xf07330 0xf09441 call 00F19E50h e81b2b0100 <class 'bytes'> 15758128 15766593 <class 'int'> CALL_REL32_32 | 151 <class 'bytes'>\n",
      "  new_ins :  e831870100 \n",
      "\n",
      "0xf07348 0xf0945f call 00F19E50h e8032b0100 <class 'bytes'> 15758152 15766623 <class 'int'> CALL_REL32_32 | 151 <class 'bytes'>\n",
      "  new_ins :  e813870100 \n",
      "\n"
     ]
    },
    {
     "name": "stderr",
     "output_type": "stream",
     "text": [
      "10264it [03:04, 81.00it/s]"
     ]
    },
    {
     "name": "stdout",
     "output_type": "stream",
     "text": [
      "0xf07353 0xf0946d call 00F1A9F0h e898360100 <class 'bytes'> 15758163 15766637 <class 'int'> CALL_REL32_32 | 151 <class 'bytes'>\n",
      "  new_ins :  e8fa960100 \n",
      "\n",
      "0xf07363 0xf09482 call 00F08CE0h e878190000 <class 'bytes'> 15758179 15766658 <class 'int'> CALL_REL32_32 | 151 <class 'bytes'>\n",
      "  new_ins :  e8a9200000 \n",
      "\n",
      "0xf07373 0xf09495 je short 00F07390h 741b <class 'bytes'> 15758195 15766677 <class 'int'> JE_REL8_32 | 151 <class 'bytes'>\n",
      "  new_ins :  7422 \n",
      "\n",
      "0xf07388 0xf094b0 call 00F0AF10h e8833b0000 <class 'bytes'> 15758216 15766704 <class 'int'> CALL_REL32_32 | 151 <class 'bytes'>\n",
      "  new_ins :  e8bf4c0000 \n",
      "\n"
     ]
    },
    {
     "name": "stderr",
     "output_type": "stream",
     "text": [
      "10290it [03:04, 81.55it/s]"
     ]
    },
    {
     "name": "stdout",
     "output_type": "stream",
     "text": [
      "0xf073a5 0xf094d5 call 00F1A230h e8862e0100 <class 'bytes'> 15758245 15766741 <class 'int'> CALL_REL32_32 | 151 <class 'bytes'>\n",
      "  new_ins :  e8178c0100 \n",
      "\n",
      "0xf073b1 0xf094e3 je short 00F073EFh 743c <class 'bytes'> 15758257 15766755 <class 'int'> JE_REL8_32 | 151 <class 'bytes'>\n",
      "  new_ins :  744a \n",
      "\n",
      "0xf073b8 0xf094ec je short 00F073EFh 7435 <class 'bytes'> 15758264 15766764 <class 'int'> JE_REL8_32 | 151 <class 'bytes'>\n",
      "  new_ins :  7441 \n",
      "\n",
      "0xf073c1 0xf094f7 call 00F1A0C0h e8fa2c0100 <class 'bytes'> 15758273 15766775 <class 'int'> CALL_REL32_32 | 151 <class 'bytes'>\n",
      "  new_ins :  e8ea890100 \n",
      "\n",
      "0xf073cc 0xf09504 ja short 00F073EFh 7721 <class 'bytes'> 15758284 15766788 <class 'int'> JA_REL8_32 | 151 <class 'bytes'>\n",
      "  new_ins :  7729 \n",
      "\n"
     ]
    },
    {
     "name": "stderr",
     "output_type": "stream",
     "text": [
      "10307it [03:05, 76.69it/s]"
     ]
    },
    {
     "name": "stdout",
     "output_type": "stream",
     "text": [
      "0xf073d5 0xf0950f call 00F1A0C0h e8e62c0100 <class 'bytes'> 15758293 15766799 <class 'int'> CALL_REL32_32 | 151 <class 'bytes'>\n",
      "  new_ins :  e8d2890100 \n",
      "\n",
      "0xf073e7 0xf09526 call 00F19DD0h e8e4290100 <class 'bytes'> 15758311 15766822 <class 'int'> CALL_REL32_32 | 151 <class 'bytes'>\n",
      "  new_ins :  e89a850100 \n",
      "\n",
      "0xf07408 0xf09556 call 00F05DD0h e8c3e9ffff <class 'bytes'> 15758344 15766870 <class 'int'> CALL_REL32_32 | 151 <class 'bytes'>\n",
      "  new_ins :  e866e3ffff \n",
      "\n",
      "0xf07412 0xf09562 je near ptr 00F07544h 0f842c010000 <class 'bytes'> 15758354 15766882 <class 'int'> JE_REL32_32 | 151 <class 'bytes'>\n",
      "  new_ins :  0f8467010000 \n",
      "\n"
     ]
    },
    {
     "name": "stderr",
     "output_type": "stream",
     "text": [
      "10344it [03:05, 87.97it/s]"
     ]
    },
    {
     "name": "stdout",
     "output_type": "stream",
     "text": [
      "0xf07419 0xf0956a call 00F056E0h e8c2e2ffff <class 'bytes'> 15758361 15766890 <class 'int'> CALL_REL32_32 | 151 <class 'bytes'>\n",
      "  new_ins :  e811daffff \n",
      "\n",
      "0xf07423 0xf09576 je near ptr 00F07544h 0f841b010000 <class 'bytes'> 15758371 15766902 <class 'int'> JE_REL32_32 | 151 <class 'bytes'>\n",
      "  new_ins :  0f8453010000 \n",
      "\n",
      "0xf0742e 0xf09584 call 00F07150h e81dfdffff <class 'bytes'> 15758382 15766916 <class 'int'> CALL_REL32_32 | 151 <class 'bytes'>\n",
      "  new_ins :  e855fcffff \n",
      "\n",
      "0xf07438 0xf09590 jne near ptr 00F07544h 0f8506010000 <class 'bytes'> 15758392 15766928 <class 'int'> JNE_REL32_32 | 151 <class 'bytes'>\n",
      "  new_ins :  0f8539010000 \n",
      "\n",
      "0xf0743f 0xf09598 call 00F0C960h e81c550000 <class 'bytes'> 15758399 15766936 <class 'int'> CALL_REL32_32 | 151 <class 'bytes'>\n",
      "  new_ins :  e8cc6d0000 \n",
      "\n",
      "0xf07449 0xf095a4 jne near ptr 00F07544h 0f85f5000000 <class 'bytes'> 15758409 15766948 <class 'int'> JNE_REL32_32 | 151 <class 'bytes'>\n",
      "  new_ins :  0f8525010000 \n",
      "\n",
      "0xf07458 0xf095b5 jne short 00F0746Bh 7511 <class 'bytes'> 15758424 15766965 <class 'int'> JNE_REL8_32 | 151 <class 'bytes'>\n",
      "  new_ins :  7513 \n",
      "\n",
      "0xf0745b 0xf095b9 call 00F0BA90h e830460000 <class 'bytes'> 15758427 15766969 <class 'int'> CALL_REL32_32 | 151 <class 'bytes'>\n",
      "  new_ins :  e88d5a0000 \n",
      "\n",
      "0xf07461 0xf095c0 call 00F09A30h e8ca250000 <class 'bytes'> 15758433 15766976 <class 'int'> CALL_REL32_32 | 151 <class 'bytes'>\n",
      "  new_ins :  e8c0300000 \n",
      "\n",
      "0xf07466 0xf095c5 jmp near ptr 00F074EDh e982000000 <class 'bytes'> 15758438 15766981 <class 'int'> JMP_REL32_32 | 151 <class 'bytes'>\n",
      "  new_ins :  e99b000000 \n",
      "\n",
      "0xf0746e 0xf095ce jne short 00F0747Eh 750e <class 'bytes'> 15758446 15766990 <class 'int'> JNE_REL8_32 | 151 <class 'bytes'>\n",
      "  new_ins :  7513 \n",
      "\n",
      "0xf07471 0xf095d2 call 00F0BA90h e81a460000 <class 'bytes'> 15758449 15766994 <class 'int'> CALL_REL32_32 | 151 <class 'bytes'>\n",
      "  new_ins :  e8745a0000 \n",
      "\n"
     ]
    },
    {
     "name": "stderr",
     "output_type": "stream",
     "text": [
      "10354it [03:05, 90.10it/s]"
     ]
    },
    {
     "name": "stdout",
     "output_type": "stream",
     "text": [
      "0xf07477 0xf095d9 call 00F09800h e884230000 <class 'bytes'> 15758455 15767001 <class 'int'> CALL_REL32_32 | 151 <class 'bytes'>\n",
      "  new_ins :  e8d82d0000 \n",
      "\n",
      "0xf0747c 0xf095de jmp short 00F074EDh eb6f <class 'bytes'> 15758460 15767006 <class 'int'> JMP_REL8_32 | 154 <class 'bytes'>\n",
      "  new_ins :  E982000000 \n",
      "\n",
      "0xf07481 0xf095e7 jne short 00F07491h 750e <class 'bytes'> 15758465 15767015 <class 'int'> JNE_REL8_32 | 154 <class 'bytes'>\n",
      "  new_ins :  7510 \n",
      "\n"
     ]
    },
    {
     "name": "stderr",
     "output_type": "stream",
     "text": [
      "10364it [03:06, 50.49it/s]"
     ]
    },
    {
     "name": "stdout",
     "output_type": "stream",
     "text": [
      "0xf07484 0xf095eb call 00F0BA90h e807460000 <class 'bytes'> 15758468 15767019 <class 'int'> CALL_REL32_32 | 154 <class 'bytes'>\n",
      "  new_ins :  e85b5a0000 \n",
      "\n",
      "0xf0748a 0xf095f2 call 00F09930h e8a1240000 <class 'bytes'> 15758474 15767026 <class 'int'> CALL_REL32_32 | 154 <class 'bytes'>\n",
      "  new_ins :  e8492f0000 \n",
      "\n",
      "0xf0748f 0xf095f7 jmp short 00F074EDh eb5c <class 'bytes'> 15758479 15767031 <class 'int'> JMP_REL8_32 | 154 <class 'bytes'>\n",
      "  new_ins :  eb6c \n",
      "\n",
      "0xf07494 0xf095fd jne short 00F074A4h 750e <class 'bytes'> 15758484 15767037 <class 'int'> JNE_REL8_32 | 154 <class 'bytes'>\n",
      "  new_ins :  7510 \n",
      "\n",
      "0xf07497 0xf09601 call 00F0BA90h e8f4450000 <class 'bytes'> 15758487 15767041 <class 'int'> CALL_REL32_32 | 154 <class 'bytes'>\n",
      "  new_ins :  e8455a0000 \n",
      "\n",
      "0xf0749d 0xf09608 call 00F09A30h e88e250000 <class 'bytes'> 15758493 15767048 <class 'int'> CALL_REL32_32 | 154 <class 'bytes'>\n",
      "  new_ins :  e878300000 \n",
      "\n",
      "0xf074a2 0xf0960d jmp short 00F074EDh eb49 <class 'bytes'> 15758498 15767053 <class 'int'> JMP_REL8_32 | 154 <class 'bytes'>\n",
      "  new_ins :  eb56 \n",
      "\n",
      "0xf074a7 0xf09613 jne short 00F074C6h 751d <class 'bytes'> 15758503 15767059 <class 'int'> JNE_REL8_32 | 154 <class 'bytes'>\n",
      "  new_ins :  7522 \n",
      "\n"
     ]
    },
    {
     "name": "stderr",
     "output_type": "stream",
     "text": [
      "10378it [03:06, 33.33it/s]"
     ]
    },
    {
     "name": "stdout",
     "output_type": "stream",
     "text": [
      "0xf074aa 0xf09617 call 00F03790h e8e1c2ffff <class 'bytes'> 15758506 15767063 <class 'int'> CALL_REL32_32 | 154 <class 'bytes'>\n",
      "  new_ins :  e8b7b1ffff \n",
      "\n",
      "0xf074b0 0xf0961e call 00F0BA90h e8db450000 <class 'bytes'> 15758512 15767070 <class 'int'> CALL_REL32_32 | 154 <class 'bytes'>\n",
      "  new_ins :  e8285a0000 \n",
      "\n",
      "0xf074b6 0xf09625 call 00F09750h e895220000 <class 'bytes'> 15758518 15767077 <class 'int'> CALL_REL32_32 | 154 <class 'bytes'>\n",
      "  new_ins :  e8ac2c0000 \n",
      "\n",
      "0xf074bc 0xf0962c call 00F03270h e8afbdffff <class 'bytes'> 15758524 15767084 <class 'int'> CALL_REL32_32 | 154 <class 'bytes'>\n",
      "  new_ins :  e823abffff \n",
      "\n",
      "0xf074c4 0xf09635 jmp short 00F074F0h eb2a <class 'bytes'> 15758532 15767093 <class 'int'> JMP_REL8_32 | 154 <class 'bytes'>\n",
      "  new_ins :  eb32 \n",
      "\n",
      "0xf074c8 0xf0963a je short 00F074F0h 7426 <class 'bytes'> 15758536 15767098 <class 'int'> JE_REL8_32 | 154 <class 'bytes'>\n",
      "  new_ins :  742d \n",
      "\n",
      "0xf074cd 0xf09640 jae short 00F074DDh 730e <class 'bytes'> 15758541 15767104 <class 'int'> JAE_REL8_32 | 154 <class 'bytes'>\n",
      "  new_ins :  7310 \n",
      "\n",
      "0xf074d0 0xf09644 call 00F0BA90h e8bb450000 <class 'bytes'> 15758544 15767108 <class 'int'> CALL_REL32_32 | 154 <class 'bytes'>\n",
      "  new_ins :  e8025a0000 \n",
      "\n",
      "0xf074d6 0xf0964b call 00F09BE0h e805270000 <class 'bytes'> 15758550 15767115 <class 'int'> CALL_REL32_32 | 154 <class 'bytes'>\n",
      "  new_ins :  e861320000 \n",
      "\n",
      "0xf074db 0xf09650 jmp short 00F074EDh eb10 <class 'bytes'> 15758555 15767120 <class 'int'> JMP_REL8_32 | 154 <class 'bytes'>\n",
      "  new_ins :  eb13 \n",
      "\n",
      "0xf074df 0xf09655 je short 00F074F0h 740f <class 'bytes'> 15758559 15767125 <class 'int'> JE_REL8_32 | 154 <class 'bytes'>\n",
      "  new_ins :  7412 \n",
      "\n"
     ]
    },
    {
     "name": "stderr",
     "output_type": "stream",
     "text": [
      "10392it [03:07, 47.24it/s]"
     ]
    },
    {
     "name": "stdout",
     "output_type": "stream",
     "text": [
      "0xf074e2 0xf09659 call 00F0BA90h e8a9450000 <class 'bytes'> 15758562 15767129 <class 'int'> CALL_REL32_32 | 154 <class 'bytes'>\n",
      "  new_ins :  e8ed590000 \n",
      "\n",
      "0xf074e8 0xf09660 call 00F09F40h e8532a0000 <class 'bytes'> 15758568 15767136 <class 'int'> CALL_REL32_32 | 154 <class 'bytes'>\n",
      "  new_ins :  e8a4360000 \n",
      "\n",
      "0xf074f7 0xf09671 je short 00F07544h 744b <class 'bytes'> 15758583 15767153 <class 'int'> JE_REL8_32 | 154 <class 'bytes'>\n",
      "  new_ins :  745c \n",
      "\n"
     ]
    },
    {
     "name": "stderr",
     "output_type": "stream",
     "text": [
      "10407it [03:09, 12.81it/s]"
     ]
    },
    {
     "name": "stdout",
     "output_type": "stream",
     "text": [
      "0xf074f9 0xf09673 call 00F19380h e8821e0100 <class 'bytes'> 15758585 15767155 <class 'int'> CALL_REL32_32 | 154 <class 'bytes'>\n",
      "  new_ins :  e8b8760100 \n",
      "\n",
      "0xf07500 0xf0967b je short 00F07544h 7442 <class 'bytes'> 15758592 15767163 <class 'int'> JE_REL8_32 | 154 <class 'bytes'>\n",
      "  new_ins :  7452 \n",
      "\n",
      "0xf07509 0xf09686 call 00F19380h e8721e0100 <class 'bytes'> 15758601 15767174 <class 'int'> CALL_REL32_32 | 154 <class 'bytes'>\n",
      "  new_ins :  e8a5760100 \n",
      "\n",
      "0xf07514 0xf09692 jne short 00F07543h 752d <class 'bytes'> 15758612 15767186 <class 'int'> JNE_REL8_32 | 154 <class 'bytes'>\n",
      "  new_ins :  7539 \n",
      "\n",
      "0xf0751e 0xf0969f call 00F0D860h e83d630000 <class 'bytes'> 15758622 15767199 <class 'int'> CALL_REL32_32 | 154 <class 'bytes'>\n",
      "  new_ins :  e837800000 \n",
      "\n"
     ]
    },
    {
     "name": "stderr",
     "output_type": "stream",
     "text": [
      "10418it [03:09, 18.01it/s]"
     ]
    },
    {
     "name": "stdout",
     "output_type": "stream",
     "text": [
      "0xf07537 0xf096bf call 00F12E40h e804b90000 <class 'bytes'> 15758647 15767231 <class 'int'> CALL_REL32_32 | 154 <class 'bytes'>\n",
      "  new_ins :  e841ef0000 \n",
      "\n"
     ]
    },
    {
     "name": "stderr",
     "output_type": "stream",
     "text": [
      "10441it [03:10, 27.57it/s]"
     ]
    },
    {
     "name": "stdout",
     "output_type": "stream",
     "text": [
      "0xf07570 0xf0970c call 00F19E50h e8db280100 <class 'bytes'> 15758704 15767308 <class 'int'> CALL_REL32_32 | 154 <class 'bytes'>\n",
      "  new_ins :  e866840100 \n",
      "\n",
      "0xf07577 0xf09714 call 00F193E0h e8641e0100 <class 'bytes'> 15758711 15767316 <class 'int'> CALL_REL32_32 | 154 <class 'bytes'>\n",
      "  new_ins :  e899760100 \n",
      "\n"
     ]
    },
    {
     "name": "stderr",
     "output_type": "stream",
     "text": [
      "10448it [03:10, 28.37it/s]"
     ]
    },
    {
     "name": "stdout",
     "output_type": "stream",
     "text": [
      "0xf0757f 0xf0971e call 00F19400h e87c1e0100 <class 'bytes'> 15758719 15767326 <class 'int'> CALL_REL32_32 | 154 <class 'bytes'>\n",
      "  new_ins :  e8ba760100 \n",
      "\n"
     ]
    },
    {
     "name": "stderr",
     "output_type": "stream",
     "text": [
      "10454it [03:11, 23.24it/s]"
     ]
    },
    {
     "name": "stdout",
     "output_type": "stream",
     "text": [
      "0xf0758f 0xf09732 call 00F1A470h e8dc2e0100 <class 'bytes'> 15758735 15767346 <class 'int'> CALL_REL32_32 | 154 <class 'bytes'>\n",
      "  new_ins :  e8bc8c0100 \n",
      "\n",
      "0xf0759b 0xf09740 call 00F1A0A0h e8002b0100 <class 'bytes'> 15758747 15767360 <class 'int'> CALL_REL32_32 | 154 <class 'bytes'>\n",
      "  new_ins :  e877870100 \n",
      "\n",
      "0xf075a9 0xf09751 jbe short 00F075CCh 7621 <class 'bytes'> 15758761 15767377 <class 'int'> JBE_REL8_32 | 154 <class 'bytes'>\n",
      "  new_ins :  762a \n",
      "\n",
      "0xf075af 0xf09759 je short 00F075C1h 7410 <class 'bytes'> 15758767 15767385 <class 'int'> JE_REL8_32 | 154 <class 'bytes'>\n",
      "  new_ins :  7414 \n",
      "\n",
      "0xf075ba 0xf09766 je short 00F075CCh 7410 <class 'bytes'> 15758778 15767398 <class 'int'> JE_REL8_32 | 154 <class 'bytes'>\n",
      "  new_ins :  7415 \n",
      "\n",
      "0xf075bf 0xf0976d jb short 00F075B3h 72f2 <class 'bytes'> 15758783 15767405 <class 'int'> JB_REL8_32 | 154 <class 'bytes'>\n",
      "  new_ins :  72ef \n",
      "\n",
      "0xf075cf 0xf09781 jb short 00F075FFh 722e <class 'bytes'> 15758799 15767425 <class 'int'> JB_REL8_32 | 154 <class 'bytes'>\n",
      "  new_ins :  7239 \n",
      "\n"
     ]
    },
    {
     "name": "stderr",
     "output_type": "stream",
     "text": [
      "10477it [03:11, 41.01it/s]"
     ]
    },
    {
     "name": "stdout",
     "output_type": "stream",
     "text": [
      "0xf075df 0xf09795 call 00F12D80h e89cb70000 <class 'bytes'> 15758815 15767445 <class 'int'> CALL_REL32_32 | 154 <class 'bytes'>\n",
      "  new_ins :  e871ed0000 \n",
      "\n",
      "0xf075e8 0xf097a0 call 00F12DE0h e8f3b70000 <class 'bytes'> 15758824 15767456 <class 'int'> CALL_REL32_32 | 154 <class 'bytes'>\n",
      "  new_ins :  e8e3ed0000 \n",
      "\n",
      "0xf075f2 0xf097ac je short 00F075FFh 740b <class 'bytes'> 15758834 15767468 <class 'int'> JE_REL8_32 | 154 <class 'bytes'>\n",
      "  new_ins :  740e \n",
      "\n",
      "0xf07609 0xf097c9 jne short 00F07612h 7507 <class 'bytes'> 15758857 15767497 <class 'int'> JNE_REL8_32 | 154 <class 'bytes'>\n",
      "  new_ins :  7508 \n",
      "\n"
     ]
    },
    {
     "name": "stderr",
     "output_type": "stream",
     "text": [
      "10511it [03:11, 65.07it/s]"
     ]
    },
    {
     "name": "stdout",
     "output_type": "stream",
     "text": [
      "0xf07643 0xf09816 call 00F19E50h e808280100 <class 'bytes'> 15758915 15767574 <class 'int'> CALL_REL32_32 | 154 <class 'bytes'>\n",
      "  new_ins :  e85c830100 \n",
      "\n",
      "0xf07679 0xf09858 call 00F08F00h e882180000 <class 'bytes'> 15758969 15767640 <class 'int'> CALL_REL32_32 | 154 <class 'bytes'>\n",
      "  new_ins :  e8a91f0000 \n",
      "\n",
      "0xf0768f 0xf09875 call 00F12D80h e8ecb60000 <class 'bytes'> 15758991 15767669 <class 'int'> CALL_REL32_32 | 154 <class 'bytes'>\n",
      "  new_ins :  e891ec0000 \n",
      "\n"
     ]
    },
    {
     "name": "stderr",
     "output_type": "stream",
     "text": [
      "10535it [03:11, 59.73it/s]"
     ]
    },
    {
     "name": "stdout",
     "output_type": "stream",
     "text": [
      "0xf07698 0xf09880 call 00F1A880h e8e3310100 <class 'bytes'> 15759000 15767680 <class 'int'> CALL_REL32_32 | 154 <class 'bytes'>\n",
      "  new_ins :  e80b910100 \n",
      "\n",
      "0xf076a2 0xf0988c jne near ptr 00F07782h 0f85da000000 <class 'bytes'> 15759010 15767692 <class 'int'> JNE_REL32_32 | 154 <class 'bytes'>\n",
      "  new_ins :  0f851a010000 \n",
      "\n",
      "0xf076b6 0xf098a6 call 00F12D80h e8c5b60000 <class 'bytes'> 15759030 15767718 <class 'int'> CALL_REL32_32 | 154 <class 'bytes'>\n",
      "  new_ins :  e860ec0000 \n",
      "\n"
     ]
    },
    {
     "name": "stderr",
     "output_type": "stream",
     "text": [
      "10561it [03:12, 61.35it/s]"
     ]
    },
    {
     "name": "stdout",
     "output_type": "stream",
     "text": [
      "0xf076bf 0xf098b1 call 00F1A880h e8bc310100 <class 'bytes'> 15759039 15767729 <class 'int'> CALL_REL32_32 | 154 <class 'bytes'>\n",
      "  new_ins :  e8da900100 \n",
      "\n",
      "0xf076c9 0xf098bd jne near ptr 00F07782h 0f85b3000000 <class 'bytes'> 15759049 15767741 <class 'int'> JNE_REL32_32 | 154 <class 'bytes'>\n",
      "  new_ins :  0f85e9000000 \n",
      "\n",
      "0xf076dd 0xf098d7 call 00F12D80h e89eb60000 <class 'bytes'> 15759069 15767767 <class 'int'> CALL_REL32_32 | 154 <class 'bytes'>\n",
      "  new_ins :  e82fec0000 \n",
      "\n",
      "0xf076e6 0xf098e2 call 00F1A880h e895310100 <class 'bytes'> 15759078 15767778 <class 'int'> CALL_REL32_32 | 154 <class 'bytes'>\n",
      "  new_ins :  e8a9900100 \n",
      "\n",
      "0xf076f0 0xf098ee jne near ptr 00F07782h 0f858c000000 <class 'bytes'> 15759088 15767790 <class 'int'> JNE_REL32_32 | 154 <class 'bytes'>\n",
      "  new_ins :  0f85b8000000 \n",
      "\n",
      "0xf07704 0xf09908 call 00F12D80h e877b60000 <class 'bytes'> 15759108 15767816 <class 'int'> CALL_REL32_32 | 154 <class 'bytes'>\n",
      "  new_ins :  e8feeb0000 \n",
      "\n"
     ]
    },
    {
     "name": "stderr",
     "output_type": "stream",
     "text": [
      "10574it [03:12, 61.57it/s]"
     ]
    },
    {
     "name": "stdout",
     "output_type": "stream",
     "text": [
      "0xf0770d 0xf09913 call 00F1A880h e86e310100 <class 'bytes'> 15759117 15767827 <class 'int'> CALL_REL32_32 | 154 <class 'bytes'>\n",
      "  new_ins :  e878900100 \n",
      "\n",
      "0xf07717 0xf0991f jne short 00F07782h 7569 <class 'bytes'> 15759127 15767839 <class 'int'> JNE_REL8_32 | 158 <class 'bytes'>\n",
      "  new_ins :  0F8587000000 \n",
      "\n"
     ]
    },
    {
     "name": "stderr",
     "output_type": "stream",
     "text": [
      "10584it [03:13, 24.84it/s]"
     ]
    },
    {
     "name": "stdout",
     "output_type": "stream",
     "text": [
      "0xf07727 0xf09939 call 00F12D80h e854b60000 <class 'bytes'> 15759143 15767865 <class 'int'> CALL_REL32_32 | 158 <class 'bytes'>\n",
      "  new_ins :  e8cdeb0000 \n",
      "\n"
     ]
    },
    {
     "name": "stderr",
     "output_type": "stream",
     "text": [
      "10590it [03:16, 10.26it/s]"
     ]
    },
    {
     "name": "stdout",
     "output_type": "stream",
     "text": [
      "0xf07730 0xf09944 call 00F1A880h e84b310100 <class 'bytes'> 15759152 15767876 <class 'int'> CALL_REL32_32 | 158 <class 'bytes'>\n",
      "  new_ins :  e847900100 \n",
      "\n",
      "0xf0773a 0xf09950 jne short 00F07782h 7546 <class 'bytes'> 15759162 15767888 <class 'int'> JNE_REL8_32 | 158 <class 'bytes'>\n",
      "  new_ins :  755a \n",
      "\n",
      "0xf0774a 0xf09966 call 00F12D80h e831b60000 <class 'bytes'> 15759178 15767910 <class 'int'> CALL_REL32_32 | 158 <class 'bytes'>\n",
      "  new_ins :  e8a0eb0000 \n",
      "\n"
     ]
    },
    {
     "name": "stderr",
     "output_type": "stream",
     "text": [
      "10600it [03:16, 13.07it/s]"
     ]
    },
    {
     "name": "stdout",
     "output_type": "stream",
     "text": [
      "0xf07753 0xf09971 call 00F1A880h e828310100 <class 'bytes'> 15759187 15767921 <class 'int'> CALL_REL32_32 | 158 <class 'bytes'>\n",
      "  new_ins :  e81a900100 \n",
      "\n",
      "0xf0775d 0xf0997d jne short 00F07782h 7523 <class 'bytes'> 15759197 15767933 <class 'int'> JNE_REL8_32 | 158 <class 'bytes'>\n",
      "  new_ins :  752d \n",
      "\n",
      "0xf0776d 0xf09993 call 00F12D80h e80eb60000 <class 'bytes'> 15759213 15767955 <class 'int'> CALL_REL32_32 | 158 <class 'bytes'>\n",
      "  new_ins :  e873eb0000 \n",
      "\n"
     ]
    },
    {
     "name": "stderr",
     "output_type": "stream",
     "text": [
      "10640it [03:16, 32.50it/s]"
     ]
    },
    {
     "name": "stdout",
     "output_type": "stream",
     "text": [
      "0xf07776 0xf0999e call 00F1A880h e805310100 <class 'bytes'> 15759222 15767966 <class 'int'> CALL_REL32_32 | 158 <class 'bytes'>\n",
      "  new_ins :  e8ed8f0100 \n",
      "\n",
      "0xf07780 0xf099aa je short 00F0778Fh 740d <class 'bytes'> 15759232 15767978 <class 'int'> JE_REL8_32 | 158 <class 'bytes'>\n",
      "  new_ins :  7410 \n",
      "\n",
      "0xf0778d 0xf099ba jmp short 00F07796h eb07 <class 'bytes'> 15759245 15767994 <class 'int'> JMP_REL8_32 | 158 <class 'bytes'>\n",
      "  new_ins :  eb08 \n",
      "\n",
      "0xf077ba 0xf099f9 call 00F19610h e8511e0100 <class 'bytes'> 15759290 15768057 <class 'int'> CALL_REL32_32 | 158 <class 'bytes'>\n",
      "  new_ins :  e89d760100 \n",
      "\n",
      "0xf077cb 0xf09a0e je near ptr 00F078CCh 0f84fb000000 <class 'bytes'> 15759307 15768078 <class 'int'> JE_REL32_32 | 158 <class 'bytes'>\n",
      "  new_ins :  0f8447010000 \n",
      "\n"
     ]
    },
    {
     "name": "stderr",
     "output_type": "stream",
     "text": [
      "10655it [03:16, 38.58it/s]"
     ]
    },
    {
     "name": "stdout",
     "output_type": "stream",
     "text": [
      "0xf077dc 0xf09a25 call 00F12D80h e89fb50000 <class 'bytes'> 15759324 15768101 <class 'int'> CALL_REL32_32 | 158 <class 'bytes'>\n",
      "  new_ins :  e8e1ea0000 \n",
      "\n",
      "0xf077e5 0xf09a30 call 00F1A880h e896300100 <class 'bytes'> 15759333 15768112 <class 'int'> CALL_REL32_32 | 158 <class 'bytes'>\n",
      "  new_ins :  e85b8f0100 \n",
      "\n",
      "0xf077ef 0xf09a3c jne near ptr 00F078E8h 0f85f3000000 <class 'bytes'> 15759343 15768124 <class 'int'> JNE_REL32_32 | 158 <class 'bytes'>\n",
      "  new_ins :  0f853f010000 \n",
      "\n"
     ]
    },
    {
     "name": "stderr",
     "output_type": "stream",
     "text": [
      "10668it [03:17, 42.80it/s]"
     ]
    },
    {
     "name": "stdout",
     "output_type": "stream",
     "text": [
      "0xf07800 0xf09a53 call 00F12D80h e87bb50000 <class 'bytes'> 15759360 15768147 <class 'int'> CALL_REL32_32 | 158 <class 'bytes'>\n",
      "  new_ins :  e8b3ea0000 \n",
      "\n",
      "0xf07809 0xf09a5e call 00F1A880h e872300100 <class 'bytes'> 15759369 15768158 <class 'int'> CALL_REL32_32 | 158 <class 'bytes'>\n",
      "  new_ins :  e82d8f0100 \n",
      "\n",
      "0xf07813 0xf09a6a jne near ptr 00F078E8h 0f85cf000000 <class 'bytes'> 15759379 15768170 <class 'int'> JNE_REL32_32 | 158 <class 'bytes'>\n",
      "  new_ins :  0f8511010000 \n",
      "\n"
     ]
    },
    {
     "name": "stderr",
     "output_type": "stream",
     "text": [
      "10681it [03:17, 46.91it/s]"
     ]
    },
    {
     "name": "stdout",
     "output_type": "stream",
     "text": [
      "0xf07824 0xf09a81 call 00F12D80h e857b50000 <class 'bytes'> 15759396 15768193 <class 'int'> CALL_REL32_32 | 158 <class 'bytes'>\n",
      "  new_ins :  e885ea0000 \n",
      "\n",
      "0xf0782d 0xf09a8c call 00F1A880h e84e300100 <class 'bytes'> 15759405 15768204 <class 'int'> CALL_REL32_32 | 158 <class 'bytes'>\n",
      "  new_ins :  e8ff8e0100 \n",
      "\n",
      "0xf07837 0xf09a98 jne near ptr 00F078E8h 0f85ab000000 <class 'bytes'> 15759415 15768216 <class 'int'> JNE_REL32_32 | 158 <class 'bytes'>\n",
      "  new_ins :  0f85e3000000 \n",
      "\n"
     ]
    },
    {
     "name": "stderr",
     "output_type": "stream",
     "text": [
      "10694it [03:17, 50.17it/s]"
     ]
    },
    {
     "name": "stdout",
     "output_type": "stream",
     "text": [
      "0xf07848 0xf09aaf call 00F12D80h e833b50000 <class 'bytes'> 15759432 15768239 <class 'int'> CALL_REL32_32 | 158 <class 'bytes'>\n",
      "  new_ins :  e857ea0000 \n",
      "\n",
      "0xf07851 0xf09aba call 00F1A880h e82a300100 <class 'bytes'> 15759441 15768250 <class 'int'> CALL_REL32_32 | 158 <class 'bytes'>\n",
      "  new_ins :  e8d18e0100 \n",
      "\n",
      "0xf0785b 0xf09ac6 jne near ptr 00F078E8h 0f8587000000 <class 'bytes'> 15759451 15768262 <class 'int'> JNE_REL32_32 | 158 <class 'bytes'>\n",
      "  new_ins :  0f85b5000000 \n",
      "\n"
     ]
    },
    {
     "name": "stderr",
     "output_type": "stream",
     "text": [
      "10707it [03:17, 52.92it/s]"
     ]
    },
    {
     "name": "stdout",
     "output_type": "stream",
     "text": [
      "0xf0786c 0xf09add call 00F12D80h e80fb50000 <class 'bytes'> 15759468 15768285 <class 'int'> CALL_REL32_32 | 158 <class 'bytes'>\n",
      "  new_ins :  e829ea0000 \n",
      "\n",
      "0xf07875 0xf09ae8 call 00F1A880h e806300100 <class 'bytes'> 15759477 15768296 <class 'int'> CALL_REL32_32 | 158 <class 'bytes'>\n",
      "  new_ins :  e8a38e0100 \n",
      "\n",
      "0xf0787f 0xf09af4 jne short 00F078E8h 7567 <class 'bytes'> 15759487 15768308 <class 'int'> JNE_REL8_32 | 162 <class 'bytes'>\n",
      "  new_ins :  0F8587000000 \n",
      "\n"
     ]
    },
    {
     "name": "stderr",
     "output_type": "stream",
     "text": [
      "10717it [03:19, 22.16it/s]"
     ]
    },
    {
     "name": "stdout",
     "output_type": "stream",
     "text": [
      "0xf0788c 0xf09b0b call 00F12D80h e8efb40000 <class 'bytes'> 15759500 15768331 <class 'int'> CALL_REL32_32 | 162 <class 'bytes'>\n",
      "  new_ins :  e8fbe90000 \n",
      "\n"
     ]
    },
    {
     "name": "stderr",
     "output_type": "stream",
     "text": [
      "10722it [03:21,  9.12it/s]"
     ]
    },
    {
     "name": "stdout",
     "output_type": "stream",
     "text": [
      "0xf07895 0xf09b16 call 00F1A880h e8e62f0100 <class 'bytes'> 15759509 15768342 <class 'int'> CALL_REL32_32 | 162 <class 'bytes'>\n",
      "  new_ins :  e8758e0100 \n",
      "\n",
      "0xf0789f 0xf09b22 jne short 00F078E8h 7547 <class 'bytes'> 15759519 15768354 <class 'int'> JNE_REL8_32 | 162 <class 'bytes'>\n",
      "  new_ins :  755d \n",
      "\n",
      "0xf078ac 0xf09b35 call 00F12D80h e8cfb40000 <class 'bytes'> 15759532 15768373 <class 'int'> CALL_REL32_32 | 162 <class 'bytes'>\n",
      "  new_ins :  e8d1e90000 \n",
      "\n"
     ]
    },
    {
     "name": "stderr",
     "output_type": "stream",
     "text": [
      "10733it [03:21, 12.34it/s]"
     ]
    },
    {
     "name": "stdout",
     "output_type": "stream",
     "text": [
      "0xf078b5 0xf09b40 call 00F1A880h e8c62f0100 <class 'bytes'> 15759541 15768384 <class 'int'> CALL_REL32_32 | 162 <class 'bytes'>\n",
      "  new_ins :  e84b8e0100 \n",
      "\n",
      "0xf078bf 0xf09b4c jne short 00F078E8h 7527 <class 'bytes'> 15759551 15768396 <class 'int'> JNE_REL8_32 | 162 <class 'bytes'>\n",
      "  new_ins :  7533 \n",
      "\n",
      "0xf078c6 0xf09b55 jne near ptr 00F077D1h 0f8505ffffff <class 'bytes'> 15759558 15768405 <class 'int'> JNE_REL32_32 | 162 <class 'bytes'>\n",
      "  new_ins :  0f85b9feffff \n",
      "\n",
      "0xf078f3 0xf09b8f jmp short 00F078D3h ebde <class 'bytes'> 15759603 15768463 <class 'int'> JMP_REL8_32 | 162 <class 'bytes'>\n",
      "  new_ins :  ebd2 \n",
      "\n"
     ]
    },
    {
     "name": "stderr",
     "output_type": "stream",
     "text": [
      "10784it [03:22, 31.54it/s]"
     ]
    },
    {
     "name": "stdout",
     "output_type": "stream",
     "text": [
      "0xf0792e 0xf09bda call 00F1AFA0h e86d360100 <class 'bytes'> 15759662 15768538 <class 'int'> CALL_REL32_32 | 162 <class 'bytes'>\n",
      "  new_ins :  e8c0960100 \n",
      "\n",
      "0xf0793a 0xf09be9 je short 00F0794Dh 7411 <class 'bytes'> 15759674 15768553 <class 'int'> JE_REL8_32 | 162 <class 'bytes'>\n",
      "  new_ins :  7417 \n",
      "\n",
      "0xf07943 0xf09bf5 je short 00F07952h 740d <class 'bytes'> 15759683 15768565 <class 'int'> JE_REL8_32 | 162 <class 'bytes'>\n",
      "  new_ins :  7413 \n",
      "\n",
      "0xf0794b 0xf09c00 jb short 00F07941h 72f4 <class 'bytes'> 15759691 15768576 <class 'int'> JB_REL8_32 | 162 <class 'bytes'>\n",
      "  new_ins :  72f0 \n",
      "\n"
     ]
    },
    {
     "name": "stderr",
     "output_type": "stream",
     "text": [
      "10846it [03:23, 50.25it/s]"
     ]
    },
    {
     "name": "stdout",
     "output_type": "stream",
     "text": [
      "0xf0795a 0xf09c15 call 99E9CFD9h e87a56f998 <class 'bytes'> 15759706 15768597 <class 'int'> CALL_REL32_32 | 162 <class 'bytes'>\n",
      "  new_ins :  e8c733f998 \n",
      "\n",
      "0xf07974 0xf09c39 je near ptr 00F07A99h 0f841f010000 <class 'bytes'> 15759732 15768633 <class 'int'> JE_REL32_32 | 162 <class 'bytes'>\n",
      "  new_ins :  0f846d010000 \n",
      "\n",
      "0xf079d7 0xf09cb9 call 00F19E50h e874240100 <class 'bytes'> 15759831 15768761 <class 'int'> CALL_REL32_32 | 162 <class 'bytes'>\n",
      "  new_ins :  e8b97e0100 \n",
      "\n"
     ]
    },
    {
     "name": "stderr",
     "output_type": "stream",
     "text": [
      "10859it [03:23, 45.50it/s]"
     ]
    },
    {
     "name": "stdout",
     "output_type": "stream",
     "text": [
      "0xf079e1 0xf09cc5 call 00F1C8AAh e8c44e0100 <class 'bytes'> 15759841 15768773 <class 'int'> CALL_REL32_32 | 162 <class 'bytes'>\n",
      "  new_ins :  e849b40100 \n",
      "\n",
      "0xf079ee 0xf09cd6 call 00F13C90h e89dc20000 <class 'bytes'> 15759854 15768790 <class 'int'> CALL_REL32_32 | 162 <class 'bytes'>\n",
      "  new_ins :  e89cfc0000 \n",
      "\n",
      "0xf079f8 0xf09ce2 call 00F1C50Dh e8104b0100 <class 'bytes'> 15759864 15768802 <class 'int'> CALL_REL32_32 | 162 <class 'bytes'>\n",
      "  new_ins :  e8eaaf0100 \n",
      "\n"
     ]
    },
    {
     "name": "stderr",
     "output_type": "stream",
     "text": [
      "10869it [03:23, 46.08it/s]"
     ]
    },
    {
     "name": "stdout",
     "output_type": "stream",
     "text": [
      "0xf07a05 0xf09cf3 call 00F13C90h e886c20000 <class 'bytes'> 15759877 15768819 <class 'int'> CALL_REL32_32 | 162 <class 'bytes'>\n",
      "  new_ins :  e87ffc0000 \n",
      "\n",
      "0xf07a12 0xf09d02 call 00F1C9ACh e8954f0100 <class 'bytes'> 15759890 15768834 <class 'int'> CALL_REL32_32 | 162 <class 'bytes'>\n",
      "  new_ins :  e846b50100 \n",
      "\n",
      "0xf07a22 0xf09d16 call 00F13C90h e869c20000 <class 'bytes'> 15759906 15768854 <class 'int'> CALL_REL32_32 | 162 <class 'bytes'>\n",
      "  new_ins :  e85cfc0000 \n",
      "\n"
     ]
    },
    {
     "name": "stderr",
     "output_type": "stream",
     "text": [
      "10885it [03:24, 39.71it/s]"
     ]
    },
    {
     "name": "stdout",
     "output_type": "stream",
     "text": [
      "0xf07a2e 0xf09d24 call 00F053F0h e8bdd9ffff <class 'bytes'> 15759918 15768868 <class 'int'> CALL_REL32_32 | 162 <class 'bytes'>\n",
      "  new_ins :  e8b3ceffff \n",
      "\n",
      "0xf07a40 0xf09d3b call 00F19DD0h e88b230100 <class 'bytes'> 15759936 15768891 <class 'int'> CALL_REL32_32 | 162 <class 'bytes'>\n",
      "  new_ins :  e8857d0100 \n",
      "\n",
      "0xf07a4f 0xf09d4f call 00F08BE0h e88c110000 <class 'bytes'> 15759951 15768911 <class 'int'> CALL_REL32_32 | 162 <class 'bytes'>\n",
      "  new_ins :  e883160000 \n",
      "\n"
     ]
    },
    {
     "name": "stderr",
     "output_type": "stream",
     "text": [
      "10902it [03:24, 51.06it/s]"
     ]
    },
    {
     "name": "stdout",
     "output_type": "stream",
     "text": [
      "0xf07a5e 0xf09d63 call 00F08BE0h e87d110000 <class 'bytes'> 15759966 15768931 <class 'int'> CALL_REL32_32 | 162 <class 'bytes'>\n",
      "  new_ins :  e86f160000 \n",
      "\n",
      "0xf07a69 0xf09d70 jne short 00F07A6Fh 7504 <class 'bytes'> 15759977 15768944 <class 'int'> JNE_REL8_32 | 162 <class 'bytes'>\n",
      "  new_ins :  7505 \n",
      "\n",
      "0xf07a76 0xf09d7f jne short 00F07A7Dh 7505 <class 'bytes'> 15759990 15768959 <class 'int'> JNE_REL8_32 | 162 <class 'bytes'>\n",
      "  new_ins :  7506 \n",
      "\n",
      "0xf07a83 0xf09d90 call 00F1A0A0h e818260100 <class 'bytes'> 15760003 15768976 <class 'int'> CALL_REL32_32 | 162 <class 'bytes'>\n",
      "  new_ins :  e827810100 \n",
      "\n"
     ]
    },
    {
     "name": "stderr",
     "output_type": "stream",
     "text": [
      "10926it [03:24, 65.00it/s]"
     ]
    },
    {
     "name": "stdout",
     "output_type": "stream",
     "text": [
      "0xf07a8b 0xf09d9b call 00F19DD0h e840230100 <class 'bytes'> 15760011 15768987 <class 'int'> CALL_REL32_32 | 162 <class 'bytes'>\n",
      "  new_ins :  e8257d0100 \n",
      "\n",
      "0xf07ab5 0xf09dd6 call 00F05EA0h e8e6e3ffff <class 'bytes'> 15760053 15769046 <class 'int'> CALL_REL32_32 | 162 <class 'bytes'>\n",
      "  new_ins :  e8f2dbffff \n",
      "\n",
      "0xf07abf 0xf09de2 jne short 00F07AC7h 7506 <class 'bytes'> 15760063 15769058 <class 'int'> JNE_REL8_32 | 162 <class 'bytes'>\n",
      "  new_ins :  750a \n",
      "\n",
      "0xf07ad2 0xf09dfd call 00F060B0h e8d9e5ffff <class 'bytes'> 15760082 15769085 <class 'int'> CALL_REL32_32 | 162 <class 'bytes'>\n",
      "  new_ins :  e88ddeffff \n",
      "\n",
      "0xf07adb 0xf09e08 jmp short 00F07AE0h eb03 <class 'bytes'> 15760091 15769096 <class 'int'> JMP_REL8_32 | 162 <class 'bytes'>\n",
      "  new_ins :  eb04 \n",
      "\n"
     ]
    },
    {
     "name": "stderr",
     "output_type": "stream",
     "text": [
      "10957it [03:24, 81.40it/s]"
     ]
    },
    {
     "name": "stdout",
     "output_type": "stream",
     "text": [
      "0xf07aec 0xf09e1d call 00F19E00h e80f230100 <class 'bytes'> 15760108 15769117 <class 'int'> CALL_REL32_32 | 162 <class 'bytes'>\n",
      "  new_ins :  e8e67c0100 \n",
      "\n",
      "0xf07aff 0xf09e34 call 00F1A470h e86c290100 <class 'bytes'> 15760127 15769140 <class 'int'> CALL_REL32_32 | 162 <class 'bytes'>\n",
      "  new_ins :  e8ba850100 \n",
      "\n",
      "0xf07b19 0xf09e55 call 00F12D80h e862b20000 <class 'bytes'> 15760153 15769173 <class 'int'> CALL_REL32_32 | 162 <class 'bytes'>\n",
      "  new_ins :  e8b1e60000 \n",
      "\n"
     ]
    },
    {
     "name": "stderr",
     "output_type": "stream",
     "text": [
      "10967it [03:25, 77.39it/s]"
     ]
    },
    {
     "name": "stdout",
     "output_type": "stream",
     "text": [
      "0xf07b22 0xf09e60 call 00F12DE0h e8b9b20000 <class 'bytes'> 15760162 15769184 <class 'int'> CALL_REL32_32 | 162 <class 'bytes'>\n",
      "  new_ins :  e823e70000 \n",
      "\n",
      "0xf07b2c 0xf09e6c jne short 00F07B36h 7508 <class 'bytes'> 15760172 15769196 <class 'int'> JNE_REL8_32 | 162 <class 'bytes'>\n",
      "  new_ins :  750a \n",
      "\n",
      "0xf07b32 0xf09e74 jbe short 00F07B10h 76dc <class 'bytes'> 15760178 15769204 <class 'int'> JBE_REL8_32 | 162 <class 'bytes'>\n",
      "  new_ins :  76d2 \n",
      "\n",
      "0xf07b34 0xf09e76 jmp short 00F07B41h eb0b <class 'bytes'> 15760180 15769206 <class 'int'> JMP_REL8_32 | 162 <class 'bytes'>\n",
      "  new_ins :  eb0e \n",
      "\n",
      "0xf07b4c 0xf09e95 call 00F060E0h e88fe5ffff <class 'bytes'> 15760204 15769237 <class 'int'> CALL_REL32_32 | 162 <class 'bytes'>\n",
      "  new_ins :  e833deffff \n",
      "\n",
      "0xf07b56 0xf09ea1 je short 00F07B5Ch 7404 <class 'bytes'> 15760214 15769249 <class 'int'> JE_REL8_32 | 162 <class 'bytes'>\n",
      "  new_ins :  7409 \n",
      "\n",
      "0xf07b5a 0xf09ea6 je short 00F07AE0h 7484 <class 'bytes'> 15760218 15769254 <class 'int'> JE_REL8_32 | 166 <class 'bytes'>\n",
      "  new_ins :  0F8462ffffff \n",
      "\n"
     ]
    },
    {
     "name": "stderr",
     "output_type": "stream",
     "text": [
      "10987it [03:25, 83.63it/s]"
     ]
    },
    {
     "name": "stdout",
     "output_type": "stream",
     "text": [
      "0xf07b61 0xf09eb4 call 00F06160h e8fae5ffff <class 'bytes'> 15760225 15769268 <class 'int'> CALL_REL32_32 | 166 <class 'bytes'>\n",
      "  new_ins :  e8c4deffff \n",
      "\n",
      "0xf07b6c 0xf09ec2 jne short 00F07B82h 7514 <class 'bytes'> 15760236 15769282 <class 'int'> JNE_REL8_32 | 166 <class 'bytes'>\n",
      "  new_ins :  751b \n",
      "\n"
     ]
    },
    {
     "name": "stderr",
     "output_type": "stream",
     "text": [
      "11035it [03:26, 48.38it/s]"
     ]
    },
    {
     "name": "stdout",
     "output_type": "stream",
     "text": [
      "0xf07bbc 0xf09f2d call 00F12D80h e8bfb10000 <class 'bytes'> 15760316 15769389 <class 'int'> CALL_REL32_32 | 166 <class 'bytes'>\n",
      "  new_ins :  e8d9e50000 \n",
      "\n"
     ]
    },
    {
     "name": "stderr",
     "output_type": "stream",
     "text": [
      "11056it [03:28, 26.65it/s]"
     ]
    },
    {
     "name": "stdout",
     "output_type": "stream",
     "text": [
      "0xf07bc2 0xf09f34 call 00F19890h e8c91c0100 <class 'bytes'> 15760322 15769396 <class 'int'> CALL_REL32_32 | 166 <class 'bytes'>\n",
      "  new_ins :  e8a6740100 \n",
      "\n",
      "0xf07be9 0xf09f6a call 00F19590h e8a2190100 <class 'bytes'> 15760361 15769450 <class 'int'> CALL_REL32_32 | 166 <class 'bytes'>\n",
      "  new_ins :  e88a700100 \n",
      "\n",
      "0xf07bf9 0xf09f7e jge short 00F07C23h 7d28 <class 'bytes'> 15760377 15769470 <class 'int'> JGE_REL8_32 | 166 <class 'bytes'>\n",
      "  new_ins :  7d36 \n",
      "\n",
      "0xf07bfe 0xf09f84 jo short 00F07C50h 7050 <class 'bytes'> 15760382 15769476 <class 'int'> JO_REL8_32 | 166 <class 'bytes'>\n",
      "  new_ins :  706f \n",
      "\n"
     ]
    },
    {
     "name": "stderr",
     "output_type": "stream",
     "text": [
      "11082it [03:28, 39.31it/s]"
     ]
    },
    {
     "name": "stdout",
     "output_type": "stream",
     "text": [
      "0xf07c0b 0xf09f97 call 00F12D80h e870b10000 <class 'bytes'> 15760395 15769495 <class 'int'> CALL_REL32_32 | 166 <class 'bytes'>\n",
      "  new_ins :  e86fe50000 \n",
      "\n",
      "0xf07c11 0xf09f9e call 00F19660h e84a1a0100 <class 'bytes'> 15760401 15769502 <class 'int'> CALL_REL32_32 | 166 <class 'bytes'>\n",
      "  new_ins :  e863710100 \n",
      "\n"
     ]
    },
    {
     "name": "stderr",
     "output_type": "stream",
     "text": [
      "11101it [03:28, 49.15it/s]"
     ]
    },
    {
     "name": "stdout",
     "output_type": "stream",
     "text": [
      "0xf07c35 0xf09fd2 call 00F19590h e856190100 <class 'bytes'> 15760437 15769554 <class 'int'> CALL_REL32_32 | 166 <class 'bytes'>\n",
      "  new_ins :  e822700100 \n",
      "\n",
      "0xf07c46 0xf09fe8 call 00F19590h e845190100 <class 'bytes'> 15760454 15769576 <class 'int'> CALL_REL32_32 | 166 <class 'bytes'>\n",
      "  new_ins :  e80c700100 \n",
      "\n"
     ]
    },
    {
     "name": "stderr",
     "output_type": "stream",
     "text": [
      "11131it [03:29, 71.65it/s]"
     ]
    },
    {
     "name": "stdout",
     "output_type": "stream",
     "text": [
      "0xf07c5c 0xf0a005 call 00F19590h e82f190100 <class 'bytes'> 15760476 15769605 <class 'int'> CALL_REL32_32 | 166 <class 'bytes'>\n",
      "  new_ins :  e8ef6f0100 \n",
      "\n",
      "0xf07c8e 0xf0a04b call 00F16BB0h e81def0000 <class 'bytes'> 15760526 15769675 <class 'int'> CALL_REL32_32 | 166 <class 'bytes'>\n",
      "  new_ins :  e8b2370100 \n",
      "\n",
      "0xf07c97 0xf0a056 call 00F16A60h e8c4ed0000 <class 'bytes'> 15760535 15769686 <class 'int'> CALL_REL32_32 | 166 <class 'bytes'>\n",
      "  new_ins :  e8f9350100 \n",
      "\n",
      "0xf07ca4 0xf0a066 jne short 00F07CABh 7505 <class 'bytes'> 15760548 15769702 <class 'int'> JNE_REL8_32 | 166 <class 'bytes'>\n",
      "  new_ins :  7508 \n",
      "\n"
     ]
    },
    {
     "name": "stderr",
     "output_type": "stream",
     "text": [
      "11146it [03:29, 83.07it/s]"
     ]
    },
    {
     "name": "stdout",
     "output_type": "stream",
     "text": [
      "0xf07cab 0xf0a070 call 00F07900h e850fcffff <class 'bytes'> 15760555 15769712 <class 'int'> CALL_REL32_32 | 166 <class 'bytes'>\n",
      "  new_ins :  e827fbffff \n",
      "\n",
      "0xf07cbe 0xf0a088 call 00F12D80h e8bdb00000 <class 'bytes'> 15760574 15769736 <class 'int'> CALL_REL32_32 | 166 <class 'bytes'>\n",
      "  new_ins :  e87ee40000 \n",
      "\n",
      "0xf07cc4 0xf0a08f call 00F19660h e897190100 <class 'bytes'> 15760580 15769743 <class 'int'> CALL_REL32_32 | 166 <class 'bytes'>\n",
      "  new_ins :  e872700100 \n",
      "\n",
      "0xf07cce 0xf0a09b je short 00F07CDDh 740d <class 'bytes'> 15760590 15769755 <class 'int'> JE_REL8_32 | 166 <class 'bytes'>\n",
      "  new_ins :  7410 \n",
      "\n"
     ]
    },
    {
     "name": "stderr",
     "output_type": "stream",
     "text": [
      "11170it [03:29, 77.88it/s]"
     ]
    },
    {
     "name": "stdout",
     "output_type": "stream",
     "text": [
      "0xf07cde 0xf0a0af call 00F192A0h e8bd150100 <class 'bytes'> 15760606 15769775 <class 'int'> CALL_REL32_32 | 166 <class 'bytes'>\n",
      "  new_ins :  e8496b0100 \n",
      "\n",
      "0xf07ceb 0xf0a0bf je short 00F07CA6h 74b9 <class 'bytes'> 15760619 15769791 <class 'int'> JE_REL8_32 | 166 <class 'bytes'>\n",
      "  new_ins :  74a7 \n",
      "\n",
      "0xf07ced 0xf0a0c1 call 00F07900h e80efcffff <class 'bytes'> 15760621 15769793 <class 'int'> CALL_REL32_32 | 166 <class 'bytes'>\n",
      "  new_ins :  e8d6faffff \n",
      "\n",
      "0xf07cfe 0xf0a0d6 call 00F07AA0h e89dfdffff <class 'bytes'> 15760638 15769814 <class 'int'> CALL_REL32_32 | 166 <class 'bytes'>\n",
      "  new_ins :  e8dcfcffff \n",
      "\n",
      "0xf07d04 0xf0a0dd call 00F07550h e847f8ffff <class 'bytes'> 15760644 15769821 <class 'int'> CALL_REL32_32 | 166 <class 'bytes'>\n",
      "  new_ins :  e800f6ffff \n",
      "\n",
      "0xf07d0a 0xf0a0e4 call 00F077B0h e8a1faffff <class 'bytes'> 15760650 15769828 <class 'int'> CALL_REL32_32 | 166 <class 'bytes'>\n",
      "  new_ins :  e800f9ffff \n",
      "\n",
      "0xf07d10 0xf0a0eb call 00F07620h e80bf9ffff <class 'bytes'> 15760656 15769835 <class 'int'> CALL_REL32_32 | 166 <class 'bytes'>\n",
      "  new_ins :  e8f8f6ffff \n",
      "\n",
      "0xf07d16 0xf0a0f2 call 00F05D70h e855e0ffff <class 'bytes'> 15760662 15769842 <class 'int'> CALL_REL32_32 | 166 <class 'bytes'>\n",
      "  new_ins :  e857d7ffff \n",
      "\n"
     ]
    },
    {
     "name": "stderr",
     "output_type": "stream",
     "text": [
      "11230it [03:29, 165.47it/s]"
     ]
    },
    {
     "name": "stdout",
     "output_type": "stream",
     "text": [
      "0xf07d22 0xf0a102 jne short 00F07D30h 750c <class 'bytes'> 15760674 15769858 <class 'int'> JNE_REL8_32 | 166 <class 'bytes'>\n",
      "  new_ins :  7511 \n",
      "\n",
      "0xf07d38 0xf0a11f call 00F07C80h e843ffffff <class 'bytes'> 15760696 15769887 <class 'int'> CALL_REL32_32 | 166 <class 'bytes'>\n",
      "  new_ins :  e813ffffff \n",
      "\n",
      "0xf07d42 0xf0a12b jne short 00F07D47h 7503 <class 'bytes'> 15760706 15769899 <class 'int'> JNE_REL8_32 | 166 <class 'bytes'>\n",
      "  new_ins :  7505 \n",
      "\n",
      "0xf07d48 0xf0a134 call 00F07C20h e8d3feffff <class 'bytes'> 15760712 15769908 <class 'int'> CALL_REL32_32 | 166 <class 'bytes'>\n",
      "  new_ins :  e879feffff \n",
      "\n",
      "0xf07d50 0xf0a13e call 00F0D170h e81b540000 <class 'bytes'> 15760720 15769918 <class 'int'> CALL_REL32_32 | 166 <class 'bytes'>\n",
      "  new_ins :  e8496c0000 \n",
      "\n",
      "0xf07d82 0xf0a180 jns short 00F07D8Dh 7909 <class 'bytes'> 15760770 15769984 <class 'int'> JNS_REL8_32 | 166 <class 'bytes'>\n",
      "  new_ins :  790b \n",
      "\n",
      "0xf07d8b 0xf0a18b jmp short 00F07D8Fh eb02 <class 'bytes'> 15760779 15769995 <class 'int'> JMP_REL8_32 | 166 <class 'bytes'>\n",
      "  new_ins :  eb03 \n",
      "\n",
      "0xf07d90 0xf0a192 jne short 00F07D80h 75ee <class 'bytes'> 15760784 15770002 <class 'int'> JNE_REL8_32 | 166 <class 'bytes'>\n",
      "  new_ins :  75e9 \n",
      "\n",
      "0xf07d99 0xf0a19f jne short 00F07D70h 75d5 <class 'bytes'> 15760793 15770015 <class 'int'> JNE_REL8_32 | 166 <class 'bytes'>\n",
      "  new_ins :  75c8 \n",
      "\n"
     ]
    },
    {
     "name": "stderr",
     "output_type": "stream",
     "text": [
      "11507it [03:30, 569.26it/s]"
     ]
    },
    {
     "name": "stdout",
     "output_type": "stream",
     "text": [
      "0xf07dc2 0xf0a1d4 call 00F19E50h e889200100 <class 'bytes'> 15760834 15770068 <class 'int'> CALL_REL32_32 | 166 <class 'bytes'>\n",
      "  new_ins :  e89e790100 \n",
      "\n",
      "0xf07dce 0xf0a1e2 call 00F07D60h e88dffffff <class 'bytes'> 15760846 15770082 <class 'int'> CALL_REL32_32 | 166 <class 'bytes'>\n",
      "  new_ins :  e86dffffff \n",
      "\n",
      "0xf07dde 0xf0a1f6 je short 00F07E03h 7423 <class 'bytes'> 15760862 15770102 <class 'int'> JE_REL8_32 | 166 <class 'bytes'>\n",
      "  new_ins :  742f \n",
      "\n",
      "0xf07e00 0xf0a223 jne short 00F07DE4h 75e2 <class 'bytes'> 15760896 15770147 <class 'int'> JNE_REL8_32 | 166 <class 'bytes'>\n",
      "  new_ins :  75d9 \n",
      "\n",
      "0xf07f04 0xf0a376 jl near ptr 00F07E64h 0f8c5affffff <class 'bytes'> 15761156 15770486 <class 'int'> JL_REL32_32 | 166 <class 'bytes'>\n",
      "  new_ins :  0f8c2bffffff \n",
      "\n",
      "0xf07f61 0xf0a3f1 jne short 00F07F17h 75b4 <class 'bytes'> 15761249 15770609 <class 'int'> JNE_REL8_32 | 166 <class 'bytes'>\n",
      "  new_ins :  7598 \n",
      "\n",
      "0xf08088 0xf0a577 jl near ptr 00F07F80h 0f8cf2feffff <class 'bytes'> 15761544 15770999 <class 'int'> JL_REL32_32 | 166 <class 'bytes'>\n",
      "  new_ins :  0f8c9cfeffff \n",
      "\n",
      "0xf08166 0xf0a695 jl near ptr 00F08093h 0f8c27ffffff <class 'bytes'> 15761766 15771285 <class 'int'> JL_REL32_32 | 166 <class 'bytes'>\n",
      "  new_ins :  0f8ce8feffff \n",
      "\n",
      "0xf08274 0xf0a7f7 jl near ptr 00F08173h 0f8cf9feffff <class 'bytes'> 15762036 15771639 <class 'int'> JL_REL32_32 | 166 <class 'bytes'>\n",
      "  new_ins :  0f8ca6feffff \n",
      "\n",
      "0xf08357 0xf0a91b jl near ptr 00F08282h 0f8c25ffffff <class 'bytes'> 15762263 15771931 <class 'int'> JL_REL32_32 | 166 <class 'bytes'>\n",
      "  new_ins :  0f8ce6feffff \n",
      "\n"
     ]
    },
    {
     "name": "stderr",
     "output_type": "stream",
     "text": [
      "11731it [03:30, 910.35it/s]"
     ]
    },
    {
     "name": "stdout",
     "output_type": "stream",
     "text": [
      "0xf083bf 0xf0a9a7 jle short 00F08402h 7e41 <class 'bytes'> 15762367 15772071 <class 'int'> JLE_REL8_32 | 166 <class 'bytes'>\n",
      "  new_ins :  7e51 \n",
      "\n",
      "0xf083ca 0xf0a9b5 jge short 00F083DEh 7d12 <class 'bytes'> 15762378 15772085 <class 'int'> JGE_REL8_32 | 166 <class 'bytes'>\n",
      "  new_ins :  7d17 \n",
      "\n",
      "0xf083dc 0xf0a9cc jl short 00F083D0h 7cf2 <class 'bytes'> 15762396 15772108 <class 'int'> JL_REL8_32 | 166 <class 'bytes'>\n",
      "  new_ins :  7cee \n",
      "\n",
      "0xf083df 0xf0a9d0 call 00F07E50h e86cfaffff <class 'bytes'> 15762399 15772112 <class 'int'> CALL_REL32_32 | 166 <class 'bytes'>\n",
      "  new_ins :  e8b6f8ffff \n",
      "\n",
      "0xf083ef 0xf0a9e3 jge short 00F0841Eh 7d2d <class 'bytes'> 15762415 15772131 <class 'int'> JGE_REL8_32 | 166 <class 'bytes'>\n",
      "  new_ins :  7d39 \n",
      "\n",
      "0xf083fe 0xf0a9f6 jl short 00F083F1h 7cf1 <class 'bytes'> 15762430 15772150 <class 'int'> JL_REL8_32 | 166 <class 'bytes'>\n",
      "  new_ins :  7ced \n",
      "\n",
      "0xf08400 0xf0a9f8 jmp short 00F0841Eh eb1c <class 'bytes'> 15762432 15772152 <class 'int'> JMP_REL8_32 | 166 <class 'bytes'>\n",
      "  new_ins :  eb24 \n",
      "\n",
      "0xf08409 0xf0aa03 jge short 00F0841Eh 7d13 <class 'bytes'> 15762441 15772163 <class 'int'> JGE_REL8_32 | 166 <class 'bytes'>\n",
      "  new_ins :  7d19 \n",
      "\n",
      "0xf0841c 0xf0aa1c jl short 00F08410h 7cf2 <class 'bytes'> 15762460 15772188 <class 'int'> JL_REL8_32 | 166 <class 'bytes'>\n",
      "  new_ins :  7cee \n",
      "\n",
      "0xf08457 0xf0aa68 call 00F07E50h e8f4f9ffff <class 'bytes'> 15762519 15772264 <class 'int'> CALL_REL32_32 | 166 <class 'bytes'>\n",
      "  new_ins :  e81ef8ffff \n",
      "\n",
      "0xf08477 0xf0aa94 call 00F1A3E0h e8641f0100 <class 'bytes'> 15762551 15772308 <class 'int'> CALL_REL32_32 | 166 <class 'bytes'>\n",
      "  new_ins :  e898780100 \n",
      "\n",
      "0xf0848a 0xf0aaac jb short 00F08490h 7204 <class 'bytes'> 15762570 15772332 <class 'int'> JB_REL8_32 | 166 <class 'bytes'>\n",
      "  new_ins :  7205 \n",
      "\n",
      "0xf0848e 0xf0aab1 jbe short 00F08498h 7608 <class 'bytes'> 15762574 15772337 <class 'int'> JBE_REL8_32 | 166 <class 'bytes'>\n",
      "  new_ins :  7609 \n",
      "\n",
      "0xf08491 0xf0aab5 call 00F1A3E0h e84a1f0100 <class 'bytes'> 15762577 15772341 <class 'int'> CALL_REL32_32 | 166 <class 'bytes'>\n",
      "  new_ins :  e877780100 \n",
      "\n",
      "0xf08496 0xf0aaba jmp short 00F08482h ebea <class 'bytes'> 15762582 15772346 <class 'int'> JMP_REL8_32 | 166 <class 'bytes'>\n",
      "  new_ins :  ebe5 \n",
      "\n",
      "0xf0849c 0xf0aac3 call 5684B32Ch e88b2e9455 <class 'bytes'> 15762588 15772355 <class 'int'> CALL_REL32_32 | 166 <class 'bytes'>\n",
      "  new_ins :  e8bdeb9455 \n",
      "\n",
      "0xf084a5 0xf0aacf call 00F1A430h e8861f0100 <class 'bytes'> 15762597 15772367 <class 'int'> CALL_REL32_32 | 166 <class 'bytes'>\n",
      "  new_ins :  e8ca780100 \n",
      "\n",
      "0xf084b5 0xf0aae3 jb short 00F084BBh 7204 <class 'bytes'> 15762613 15772387 <class 'int'> JB_REL8_32 | 166 <class 'bytes'>\n",
      "  new_ins :  7205 \n",
      "\n",
      "0xf084b9 0xf0aae8 jbe short 00F084C2h 7607 <class 'bytes'> 15762617 15772392 <class 'int'> JBE_REL8_32 | 166 <class 'bytes'>\n",
      "  new_ins :  7607 \n",
      "\n"
     ]
    },
    {
     "name": "stderr",
     "output_type": "stream",
     "text": [
      "12010it [03:40, 61.77it/s] "
     ]
    },
    {
     "name": "stdout",
     "output_type": "stream",
     "text": [
      "0xf084bb 0xf0aaea call 00F1A430h e8701f0100 <class 'bytes'> 15762619 15772394 <class 'int'> CALL_REL32_32 | 166 <class 'bytes'>\n",
      "  new_ins :  e8af780100 \n",
      "\n",
      "0xf084c0 0xf0aaef jmp short 00F084B0h ebee <class 'bytes'> 15762624 15772399 <class 'int'> JMP_REL8_32 | 166 <class 'bytes'>\n",
      "  new_ins :  ebeb \n",
      "\n",
      "0xf084cf 0xf0ab05 loope 00F08526h e155 <class 'bytes'> 15762639 15772421 <class 'int'> LOOPE_REL8_32_ECX | 166 <class 'bytes'>\n",
      "  new_ins :  e168 \n",
      "\n",
      "0xf08559 0xf0abaa jle short 00F085C5h 7e6a <class 'bytes'> 15762777 15772586 <class 'int'> JLE_REL8_32 | 170 <class 'bytes'>\n",
      "  new_ins :  0F8E88000000 \n",
      "\n",
      "0xf0855b 0xf0abb0 jmp short 00F08560h eb03 <class 'bytes'> 15762779 15772592 <class 'int'> JMP_REL8_32 | 170 <class 'bytes'>\n",
      "  new_ins :  eb04 \n",
      "\n",
      "0xf085c0 0xf0ac32 jl short 00F08560h 7c9e <class 'bytes'> 15762880 15772722 <class 'int'> JL_REL8_32 | 170 <class 'bytes'>\n",
      "  new_ins :  7c82 \n",
      "\n",
      "0xf085c7 0xf0ac3b jge short 00F08624h 7d5b <class 'bytes'> 15762887 15772731 <class 'int'> JGE_REL8_32 | 170 <class 'bytes'>\n",
      "  new_ins :  7d76 \n",
      "\n",
      "0xf085d9 0xf0ac53 jne short 00F085F1h 7516 <class 'bytes'> 15762905 15772755 <class 'int'> JNE_REL8_32 | 170 <class 'bytes'>\n",
      "  new_ins :  751c \n",
      "\n",
      "0xf085ef 0xf0ac6f jmp short 00F0861Dh eb2c <class 'bytes'> 15762927 15772783 <class 'int'> JMP_REL8_32 | 170 <class 'bytes'>\n",
      "  new_ins :  eb38 \n",
      "\n",
      "0xf08634 0xf0accc loope 00F085C9h e193 <class 'bytes'> 15762996 15772876 <class 'int'> LOOPE_REL8_32_ECX | 174 <class 'bytes'>\n",
      "  new_ins :  0F826bffffff \n",
      "\n",
      "0xf0887d 0xf0af67 jbe short 00F08872h 76f3 <class 'bytes'> 15763581 15773543 <class 'int'> JBE_REL8_32 | 174 <class 'bytes'>\n",
      "  new_ins :  76f0 \n",
      "\n",
      "0xf0889c 0xf0af91 jle short 00F0891Ch 7e7e <class 'bytes'> 15763612 15773585 <class 'int'> JLE_REL8_32 | 178 <class 'bytes'>\n",
      "  new_ins :  0F8Ea5000000 \n",
      "\n",
      "0xf08919 0xf0b034 jne short 00F088B0h 7595 <class 'bytes'> 15763737 15773748 <class 'int'> JNE_REL8_32 | 182 <class 'bytes'>\n",
      "  new_ins :  0F8577ffffff \n",
      "\n",
      "0xf0891f 0xf0b040 jle short 00F08942h 7e21 <class 'bytes'> 15763743 15773760 <class 'int'> JLE_REL8_32 | 182 <class 'bytes'>\n",
      "  new_ins :  7e2b \n",
      "\n"
     ]
    },
    {
     "name": "stderr",
     "output_type": "stream",
     "text": [
      "12144it [03:40, 84.38it/s]"
     ]
    },
    {
     "name": "stdout",
     "output_type": "stream",
     "text": [
      "0xf08945 0xf0b071 jle short 00F08968h 7e21 <class 'bytes'> 15763781 15773809 <class 'int'> JLE_REL8_32 | 182 <class 'bytes'>\n",
      "  new_ins :  7e2a \n",
      "\n",
      "0xf0896b 0xf0b0a1 jle short 00F0898Ah 7e1d <class 'bytes'> 15763819 15773857 <class 'int'> JLE_REL8_32 | 182 <class 'bytes'>\n",
      "  new_ins :  7e24 \n",
      "\n",
      "0xf089ab 0xf0b0f8 je short 00F089FBh 744e <class 'bytes'> 15763883 15773944 <class 'int'> JE_REL8_32 | 182 <class 'bytes'>\n",
      "  new_ins :  7468 \n",
      "\n",
      "0xf089b6 0xf0b106 jne short 00F089C9h 7511 <class 'bytes'> 15763894 15773958 <class 'int'> JNE_REL8_32 | 182 <class 'bytes'>\n",
      "  new_ins :  7517 \n",
      "\n",
      "0xf089c7 0xf0b11d jmp short 00F089F3h eb2a <class 'bytes'> 15763911 15773981 <class 'int'> JMP_REL8_32 | 182 <class 'bytes'>\n",
      "  new_ins :  eb38 \n",
      "\n",
      "0xf089cc 0xf0b123 jne short 00F089DFh 7511 <class 'bytes'> 15763916 15773987 <class 'int'> JNE_REL8_32 | 182 <class 'bytes'>\n",
      "  new_ins :  7517 \n",
      "\n",
      "0xf089dd 0xf0b13a jmp short 00F089F3h eb14 <class 'bytes'> 15763933 15774010 <class 'int'> JMP_REL8_32 | 182 <class 'bytes'>\n",
      "  new_ins :  eb1b \n",
      "\n",
      "0xf089e2 0xf0b140 jne short 00F089F6h 7512 <class 'bytes'> 15763938 15774016 <class 'int'> JNE_REL8_32 | 182 <class 'bytes'>\n",
      "  new_ins :  7519 \n",
      "\n",
      "0xf089f9 0xf0b160 jb short 00F089B0h 72b5 <class 'bytes'> 15763961 15774048 <class 'int'> JB_REL8_32 | 182 <class 'bytes'>\n",
      "  new_ins :  729c \n",
      "\n",
      "0xf08a46 0xf0b1c7 jl short 00F08A12h 7cca <class 'bytes'> 15764038 15774151 <class 'int'> JL_REL8_32 | 182 <class 'bytes'>\n",
      "  new_ins :  7cba \n",
      "\n",
      "0xf08a6b 0xf0b1f3 jns short 00F08A75h 7908 <class 'bytes'> 15764075 15774195 <class 'int'> JNS_REL8_32 | 182 <class 'bytes'>\n",
      "  new_ins :  790b \n",
      "\n",
      "0xf08a97 0xf0b228 jl short 00F08A50h 7cb7 <class 'bytes'> 15764119 15774248 <class 'int'> JL_REL8_32 | 182 <class 'bytes'>\n",
      "  new_ins :  7ca9 \n",
      "\n",
      "0xf08aa7 0xf0b23c jbe short 00F08B21h 7678 <class 'bytes'> 15764135 15774268 <class 'int'> JBE_REL8_32 | 186 <class 'bytes'>\n",
      "  new_ins :  0F8698000000 \n",
      "\n"
     ]
    },
    {
     "name": "stderr",
     "output_type": "stream",
     "text": [
      "12258it [03:41, 107.77it/s]"
     ]
    },
    {
     "name": "stdout",
     "output_type": "stream",
     "text": [
      "0xf08aad 0xf0b248 jmp short 00F08AB6h eb07 <class 'bytes'> 15764141 15774280 <class 'int'> JMP_REL8_32 | 186 <class 'bytes'>\n",
      "  new_ins :  eb08 \n",
      "\n",
      "0xf08b1e 0xf0b2d2 jb short 00F08AB0h 7290 <class 'bytes'> 15764254 15774418 <class 'int'> JB_REL8_32 | 190 <class 'bytes'>\n",
      "  new_ins :  0F8273ffffff \n",
      "\n",
      "0xf08b3b 0xf0b301 je short 00F08B42h 7405 <class 'bytes'> 15764283 15774465 <class 'int'> JE_REL8_32 | 190 <class 'bytes'>\n",
      "  new_ins :  7408 \n",
      "\n",
      "0xf08b46 0xf0b310 jne short 00F08B58h 7510 <class 'bytes'> 15764294 15774480 <class 'int'> JNE_REL8_32 | 190 <class 'bytes'>\n",
      "  new_ins :  7513 \n",
      "\n",
      "0xf08b49 0xf0b314 call 00F083A0h e852f8ffff <class 'bytes'> 15764297 15774484 <class 'int'> CALL_REL32_32 | 190 <class 'bytes'>\n",
      "  new_ins :  e863f6ffff \n",
      "\n",
      "0xf08b67 0xf0b33a je short 00F08BC2h 7459 <class 'bytes'> 15764327 15774522 <class 'int'> JE_REL8_32 | 190 <class 'bytes'>\n",
      "  new_ins :  7473 \n",
      "\n",
      "0xf08b71 0xf0b347 jne short 00F08BC4h 7551 <class 'bytes'> 15764337 15774535 <class 'int'> JNE_REL8_32 | 190 <class 'bytes'>\n",
      "  new_ins :  7569 \n",
      "\n",
      "0xf08b77 0xf0b34e jne short 00F08BC4h 754b <class 'bytes'> 15764343 15774542 <class 'int'> JNE_REL8_32 | 190 <class 'bytes'>\n",
      "  new_ins :  7562 \n",
      "\n",
      "0xf08b8a 0xf0b367 jne short 00F08BBFh 7533 <class 'bytes'> 15764362 15774567 <class 'int'> JNE_REL8_32 | 190 <class 'bytes'>\n",
      "  new_ins :  7540 \n",
      "\n",
      "0xf08b9f 0xf0b382 jne short 00F08BA9h 7508 <class 'bytes'> 15764383 15774594 <class 'int'> JNE_REL8_32 | 190 <class 'bytes'>\n",
      "  new_ins :  750a \n",
      "\n",
      "0xf08ba4 0xf0b388 jne short 00F08BA9h 7503 <class 'bytes'> 15764388 15774600 <class 'int'> JNE_REL8_32 | 190 <class 'bytes'>\n",
      "  new_ins :  7504 \n",
      "\n"
     ]
    },
    {
     "name": "stderr",
     "output_type": "stream",
     "text": [
      "12352it [03:41, 129.72it/s]"
     ]
    },
    {
     "name": "stdout",
     "output_type": "stream",
     "text": [
      "0xf08bac 0xf0b392 jne short 00F08BB7h 7509 <class 'bytes'> 15764396 15774610 <class 'int'> JNE_REL8_32 | 190 <class 'bytes'>\n",
      "  new_ins :  750b \n",
      "\n",
      "0xf08baf 0xf0b396 call 00F07E50h e89cf2ffff <class 'bytes'> 15764399 15774614 <class 'int'> CALL_REL32_32 | 190 <class 'bytes'>\n",
      "  new_ins :  e8f0eeffff \n",
      "\n",
      "0xf08bbd 0xf0b3a7 jne short 00F08B83h 75c4 <class 'bytes'> 15764413 15774631 <class 'int'> JNE_REL8_32 | 190 <class 'bytes'>\n",
      "  new_ins :  75b5 \n",
      "\n",
      "0xf08bd4 0xf0b3c8 jmp near ptr 00F08A00h e927feffff <class 'bytes'> 15764436 15774664 <class 'int'> JMP_REL32_32 | 190 <class 'bytes'>\n",
      "  new_ins :  e99cfdffff \n",
      "\n",
      "0xf08bee 0xf0b3eb jbe short 00F08C19h 7629 <class 'bytes'> 15764462 15774699 <class 'int'> JBE_REL8_32 | 190 <class 'bytes'>\n",
      "  new_ins :  7637 \n",
      "\n",
      "0xf08bfe 0xf0b401 jne short 00F08BF7h 75f7 <class 'bytes'> 15764478 15774721 <class 'int'> JNE_REL8_32 | 190 <class 'bytes'>\n",
      "  new_ins :  75f3 \n",
      "\n",
      "0xf08c03 0xf0b407 jbe short 00F08C19h 7614 <class 'bytes'> 15764483 15774727 <class 'int'> JBE_REL8_32 | 190 <class 'bytes'>\n",
      "  new_ins :  761b \n",
      "\n",
      "0xf08c17 0xf0b422 jne short 00F08C10h 75f7 <class 'bytes'> 15764503 15774754 <class 'int'> JNE_REL8_32 | 190 <class 'bytes'>\n",
      "  new_ins :  75f3 \n",
      "\n",
      "0xf08c1f 0xf0b42e call 00F08A00h e8dcfdffff <class 'bytes'> 15764511 15774766 <class 'int'> CALL_REL32_32 | 190 <class 'bytes'>\n",
      "  new_ins :  e836fdffff \n",
      "\n",
      "0xf08c2a 0xf0b43b jbe short 00F08C4Fh 7623 <class 'bytes'> 15764522 15774779 <class 'int'> JBE_REL8_32 | 190 <class 'bytes'>\n",
      "  new_ins :  7630 \n",
      "\n",
      "0xf08c3a 0xf0b451 jne short 00F08C33h 75f7 <class 'bytes'> 15764538 15774801 <class 'int'> JNE_REL8_32 | 190 <class 'bytes'>\n",
      "  new_ins :  75f3 \n",
      "\n",
      "0xf08c3f 0xf0b457 jbe short 00F08C4Fh 760e <class 'bytes'> 15764543 15774807 <class 'int'> JBE_REL8_32 | 190 <class 'bytes'>\n",
      "  new_ins :  7614 \n",
      "\n",
      "0xf08c4d 0xf0b46b jne short 00F08C46h 75f7 <class 'bytes'> 15764557 15774827 <class 'int'> JNE_REL8_32 | 190 <class 'bytes'>\n",
      "  new_ins :  75f3 \n",
      "\n",
      "0xf08c6e 0xf0b496 jbe short 00F08C99h 7629 <class 'bytes'> 15764590 15774870 <class 'int'> JBE_REL8_32 | 190 <class 'bytes'>\n",
      "  new_ins :  7637 \n",
      "\n",
      "0xf08c7e 0xf0b4ac jne short 00F08C77h 75f7 <class 'bytes'> 15764606 15774892 <class 'int'> JNE_REL8_32 | 190 <class 'bytes'>\n",
      "  new_ins :  75f3 \n",
      "\n",
      "0xf08c83 0xf0b4b2 jbe short 00F08C99h 7614 <class 'bytes'> 15764611 15774898 <class 'int'> JBE_REL8_32 | 190 <class 'bytes'>\n",
      "  new_ins :  761b \n",
      "\n",
      "0xf08c97 0xf0b4cd jne short 00F08C90h 75f7 <class 'bytes'> 15764631 15774925 <class 'int'> JNE_REL8_32 | 190 <class 'bytes'>\n",
      "  new_ins :  75f3 \n",
      "\n",
      "0xf08c9f 0xf0b4d9 call 00F08A00h e85cfdffff <class 'bytes'> 15764639 15774937 <class 'int'> CALL_REL32_32 | 190 <class 'bytes'>\n",
      "  new_ins :  e88bfcffff \n",
      "\n",
      "0xf08caa 0xf0b4e6 jbe short 00F08CCFh 7623 <class 'bytes'> 15764650 15774950 <class 'int'> JBE_REL8_32 | 190 <class 'bytes'>\n",
      "  new_ins :  7630 \n",
      "\n",
      "0xf08cba 0xf0b4fc jne short 00F08CB3h 75f7 <class 'bytes'> 15764666 15774972 <class 'int'> JNE_REL8_32 | 190 <class 'bytes'>\n",
      "  new_ins :  75f3 \n",
      "\n",
      "0xf08cbf 0xf0b502 jbe short 00F08CCFh 760e <class 'bytes'> 15764671 15774978 <class 'int'> JBE_REL8_32 | 190 <class 'bytes'>\n",
      "  new_ins :  7614 \n",
      "\n",
      "0xf08ccd 0xf0b516 jne short 00F08CC6h 75f7 <class 'bytes'> 15764685 15774998 <class 'int'> JNE_REL8_32 | 190 <class 'bytes'>\n",
      "  new_ins :  75f3 \n",
      "\n"
     ]
    },
    {
     "name": "stderr",
     "output_type": "stream",
     "text": [
      "12429it [03:45, 59.36it/s] "
     ]
    },
    {
     "name": "stdout",
     "output_type": "stream",
     "text": [
      "0xf08cff 0xf0b558 call 00F1AC40h e83c1f0100 <class 'bytes'> 15764735 15775064 <class 'int'> CALL_REL32_32 | 190 <class 'bytes'>\n",
      "  new_ins :  e8d3780100 \n",
      "\n",
      "0xf08d09 0xf0b564 jne short 00F08D0Fh 7504 <class 'bytes'> 15764745 15775076 <class 'int'> JNE_REL8_32 | 190 <class 'bytes'>\n",
      "  new_ins :  7506 \n",
      "\n",
      "0xf08d13 0xf0b572 call 00F1B060h e848230100 <class 'bytes'> 15764755 15775090 <class 'int'> CALL_REL32_32 | 190 <class 'bytes'>\n",
      "  new_ins :  e82e7e0100 \n",
      "\n",
      "0xf08d1d 0xf0b57e je short 00F08D2Dh 740e <class 'bytes'> 15764765 15775102 <class 'int'> JE_REL8_32 | 190 <class 'bytes'>\n",
      "  new_ins :  7412 \n",
      "\n",
      "0xf08d25 0xf0b589 call 00F1B2E0h e8b6250100 <class 'bytes'> 15764773 15775113 <class 'int'> CALL_REL32_32 | 190 <class 'bytes'>\n",
      "  new_ins :  e880810100 \n",
      "\n"
     ]
    },
    {
     "name": "stderr",
     "output_type": "stream",
     "text": [
      "12484it [03:45, 62.10it/s]"
     ]
    },
    {
     "name": "stdout",
     "output_type": "stream",
     "text": [
      "0xf08d31 0xf0b598 call 00F19490h e85a070100 <class 'bytes'> 15764785 15775128 <class 'int'> CALL_REL32_32 | 190 <class 'bytes'>\n",
      "  new_ins :  e803590100 \n",
      "\n",
      "0xf08d3e 0xf0b5a8 jne short 00F08D57h 7517 <class 'bytes'> 15764798 15775144 <class 'int'> JNE_REL8_32 | 190 <class 'bytes'>\n",
      "  new_ins :  7520 \n",
      "\n",
      "0xf08d70 0xf0b5f1 call 00F1A0C0h e84b130100 <class 'bytes'> 15764848 15775217 <class 'int'> CALL_REL32_32 | 190 <class 'bytes'>\n",
      "  new_ins :  e8f0680100 \n",
      "\n",
      "0xf08d9a 0xf0b624 jne short 00F08DB5h 7519 <class 'bytes'> 15764890 15775268 <class 'int'> JNE_REL8_32 | 190 <class 'bytes'>\n",
      "  new_ins :  7520 \n",
      "\n",
      "0xf08d9e 0xf0b629 je short 00F08DACh 740c <class 'bytes'> 15764894 15775273 <class 'int'> JE_REL8_32 | 190 <class 'bytes'>\n",
      "  new_ins :  740f \n",
      "\n",
      "0xf08da4 0xf0b630 jne short 00F08DACh 7506 <class 'bytes'> 15764900 15775280 <class 'int'> JNE_REL8_32 | 190 <class 'bytes'>\n",
      "  new_ins :  7508 \n",
      "\n",
      "0xf08daa 0xf0b638 jne short 00F08DA0h 75f4 <class 'bytes'> 15764906 15775288 <class 'int'> JNE_REL8_32 | 190 <class 'bytes'>\n",
      "  new_ins :  75f1 \n",
      "\n",
      "0xf08dc1 0xf0b656 jb short 00F08DF6h 7233 <class 'bytes'> 15764929 15775318 <class 'int'> JB_REL8_32 | 190 <class 'bytes'>\n",
      "  new_ins :  7240 \n",
      "\n",
      "0xf08dcc 0xf0b664 jne short 00F08DD2h 7504 <class 'bytes'> 15764940 15775332 <class 'int'> JNE_REL8_32 | 190 <class 'bytes'>\n",
      "  new_ins :  7505 \n",
      "\n",
      "0xf08dd0 0xf0b669 jmp short 00F08DD7h eb05 <class 'bytes'> 15764944 15775337 <class 'int'> JMP_REL8_32 | 190 <class 'bytes'>\n",
      "  new_ins :  eb06 \n",
      "\n",
      "0xf08dd5 0xf0b66f je short 00F08DDEh 7407 <class 'bytes'> 15764949 15775343 <class 'int'> JE_REL8_32 | 190 <class 'bytes'>\n",
      "  new_ins :  7408 \n",
      "\n",
      "0xf08dda 0xf0b675 jae short 00F08DC3h 73e7 <class 'bytes'> 15764954 15775349 <class 'int'> JAE_REL8_32 | 190 <class 'bytes'>\n",
      "  new_ins :  73e1 \n",
      "\n"
     ]
    },
    {
     "name": "stderr",
     "output_type": "stream",
     "text": [
      "12525it [03:46, 69.63it/s]"
     ]
    },
    {
     "name": "stdout",
     "output_type": "stream",
     "text": [
      "0xf08ddc 0xf0b677 jmp short 00F08DF2h eb14 <class 'bytes'> 15764956 15775351 <class 'int'> JMP_REL8_32 | 190 <class 'bytes'>\n",
      "  new_ins :  eb1a \n",
      "\n",
      "0xf08de5 0xf0b683 call 00F1A0C0h e8d6120100 <class 'bytes'> 15764965 15775363 <class 'int'> CALL_REL32_32 | 190 <class 'bytes'>\n",
      "  new_ins :  e85e680100 \n",
      "\n",
      "0xf08df4 0xf0b696 jne short 00F08E25h 752f <class 'bytes'> 15764980 15775382 <class 'int'> JNE_REL8_32 | 190 <class 'bytes'>\n",
      "  new_ins :  753d \n",
      "\n",
      "0xf08e00 0xf0b6a7 call 00F1A0C0h e8bb120100 <class 'bytes'> 15764992 15775399 <class 'int'> CALL_REL32_32 | 190 <class 'bytes'>\n",
      "  new_ins :  e83a680100 \n",
      "\n",
      "0xf08e0f 0xf0b6ba call 00F19DD0h e8bc0f0100 <class 'bytes'> 15765007 15775418 <class 'int'> CALL_REL32_32 | 190 <class 'bytes'>\n",
      "  new_ins :  e806640100 \n",
      "\n"
     ]
    },
    {
     "name": "stderr",
     "output_type": "stream",
     "text": [
      "12559it [03:46, 70.88it/s]"
     ]
    },
    {
     "name": "stdout",
     "output_type": "stream",
     "text": [
      "0xf08e18 0xf0b6c5 call 00F1A0C0h e8a3120100 <class 'bytes'> 15765016 15775429 <class 'int'> CALL_REL32_32 | 190 <class 'bytes'>\n",
      "  new_ins :  e81c680100 \n",
      "\n",
      "0xf08e3b 0xf0b6f6 jne short 00F08E41h 7504 <class 'bytes'> 15765051 15775478 <class 'int'> JNE_REL8_32 | 190 <class 'bytes'>\n",
      "  new_ins :  7506 \n",
      "\n",
      "0xf08e4b 0xf0b70c call 00F1ACA0h e8501e0100 <class 'bytes'> 15765067 15775500 <class 'int'> CALL_REL32_32 | 190 <class 'bytes'>\n",
      "  new_ins :  e8a3770100 \n",
      "\n",
      "0xf08e58 0xf0b71c je short 00F08E8Ch 7432 <class 'bytes'> 15765080 15775516 <class 'int'> JE_REL8_32 | 190 <class 'bytes'>\n",
      "  new_ins :  7444 \n",
      "\n"
     ]
    },
    {
     "name": "stderr",
     "output_type": "stream",
     "text": [
      "12586it [03:46, 75.39it/s]"
     ]
    },
    {
     "name": "stdout",
     "output_type": "stream",
     "text": [
      "0xf08e64 0xf0b72c call 00F1ACA0h e8371e0100 <class 'bytes'> 15765092 15775532 <class 'int'> CALL_REL32_32 | 190 <class 'bytes'>\n",
      "  new_ins :  e883770100 \n",
      "\n",
      "0xf08e77 0xf0b746 call 00F17CC0h e844ee0000 <class 'bytes'> 15765111 15775558 <class 'int'> CALL_REL32_32 | 190 <class 'bytes'>\n",
      "  new_ins :  e878360100 \n",
      "\n",
      "0xf08e98 0xf0b774 call 00F17CC0h e823ee0000 <class 'bytes'> 15765144 15775604 <class 'int'> CALL_REL32_32 | 190 <class 'bytes'>\n",
      "  new_ins :  e84a360100 \n",
      "\n"
     ]
    },
    {
     "name": "stderr",
     "output_type": "stream",
     "text": [
      "12608it [03:46, 83.75it/s]"
     ]
    },
    {
     "name": "stdout",
     "output_type": "stream",
     "text": [
      "0xf08ec3 0xf0b7b0 call 00F1ACA0h e8d81d0100 <class 'bytes'> 15765187 15775664 <class 'int'> CALL_REL32_32 | 190 <class 'bytes'>\n",
      "  new_ins :  e8ff760100 \n",
      "\n",
      "0xf08ed1 0xf0b7c3 call 00F1ACA0h e8ca1d0100 <class 'bytes'> 15765201 15775683 <class 'int'> CALL_REL32_32 | 190 <class 'bytes'>\n",
      "  new_ins :  e8ec760100 \n",
      "\n"
     ]
    },
    {
     "name": "stderr",
     "output_type": "stream",
     "text": [
      "12648it [03:47, 87.71it/s]"
     ]
    },
    {
     "name": "stdout",
     "output_type": "stream",
     "text": [
      "0xf08ee4 0xf0b7dd call 00F17C80h e897ed0000 <class 'bytes'> 15765220 15775709 <class 'int'> CALL_REL32_32 | 190 <class 'bytes'>\n",
      "  new_ins :  e886350100 \n",
      "\n",
      "0xf08f1f 0xf0b82e call 00F19E50h e82c0f0100 <class 'bytes'> 15765279 15775790 <class 'int'> CALL_REL32_32 | 190 <class 'bytes'>\n",
      "  new_ins :  e844630100 \n",
      "\n"
     ]
    },
    {
     "name": "stderr",
     "output_type": "stream",
     "text": [
      "12666it [03:47, 84.51it/s]"
     ]
    },
    {
     "name": "stdout",
     "output_type": "stream",
     "text": [
      "0xf08f31 0xf0b845 call 00F1ACA0h e86a1d0100 <class 'bytes'> 15765297 15775813 <class 'int'> CALL_REL32_32 | 190 <class 'bytes'>\n",
      "  new_ins :  e86a760100 \n",
      "\n",
      "0xf08f46 0xf0b85f call 00F1ACA0h e8551d0100 <class 'bytes'> 15765318 15775839 <class 'int'> CALL_REL32_32 | 190 <class 'bytes'>\n",
      "  new_ins :  e850760100 \n",
      "\n",
      "0xf08f59 0xf0b879 call 00F17C80h e822ed0000 <class 'bytes'> 15765337 15775865 <class 'int'> CALL_REL32_32 | 190 <class 'bytes'>\n",
      "  new_ins :  e8ea340100 \n",
      "\n",
      "0xf08f63 0xf0b885 js short 00F08F8Ch 7827 <class 'bytes'> 15765347 15775877 <class 'int'> JS_REL8_32 | 190 <class 'bytes'>\n",
      "  new_ins :  7833 \n",
      "\n",
      "0xf08f69 0xf0b88d call 00F1A0C0h e852110100 <class 'bytes'> 15765353 15775885 <class 'int'> CALL_REL32_32 | 190 <class 'bytes'>\n",
      "  new_ins :  e854660100 \n",
      "\n"
     ]
    },
    {
     "name": "stderr",
     "output_type": "stream",
     "text": [
      "12705it [03:47, 92.58it/s]"
     ]
    },
    {
     "name": "stdout",
     "output_type": "stream",
     "text": [
      "0xf08f7b 0xf0b8a5 call 00F19DD0h e8500e0100 <class 'bytes'> 15765371 15775909 <class 'int'> CALL_REL32_32 | 190 <class 'bytes'>\n",
      "  new_ins :  e81b620100 \n",
      "\n",
      "0xf08fbe 0xf0b8fd call 00F19E50h e88d0e0100 <class 'bytes'> 15765438 15775997 <class 'int'> CALL_REL32_32 | 190 <class 'bytes'>\n",
      "  new_ins :  e875620100 \n",
      "\n"
     ]
    },
    {
     "name": "stderr",
     "output_type": "stream",
     "text": [
      "12720it [03:48, 86.94it/s]"
     ]
    },
    {
     "name": "stdout",
     "output_type": "stream",
     "text": [
      "0xf08fcb 0xf0b90c call 00F1B58Ch e8bc250100 <class 'bytes'> 15765451 15776012 <class 'int'> CALL_REL32_32 | 190 <class 'bytes'>\n",
      "  new_ins :  e881810100 \n",
      "\n",
      "0xf08fdb 0xf0b920 call 00F13C90h e8b0ac0000 <class 'bytes'> 15765467 15776032 <class 'int'> CALL_REL32_32 | 190 <class 'bytes'>\n",
      "  new_ins :  e852e00000 \n",
      "\n",
      "0xf08fee 0xf0b937 je short 00F08FFAh 740a <class 'bytes'> 15765486 15776055 <class 'int'> JE_REL8_32 | 190 <class 'bytes'>\n",
      "  new_ins :  740d \n",
      "\n",
      "0xf08ff8 0xf0b944 jne short 00F08FF0h 75f6 <class 'bytes'> 15765496 15776068 <class 'int'> JNE_REL8_32 | 190 <class 'bytes'>\n",
      "  new_ins :  75f3 \n",
      "\n",
      "0xf0900d 0xf0b961 call 00F08BE0h e8cefbffff <class 'bytes'> 15765517 15776097 <class 'int'> CALL_REL32_32 | 190 <class 'bytes'>\n",
      "  new_ins :  e871faffff \n",
      "\n"
     ]
    },
    {
     "name": "stderr",
     "output_type": "stream",
     "text": [
      "12745it [03:48, 92.64it/s]"
     ]
    },
    {
     "name": "stdout",
     "output_type": "stream",
     "text": [
      "0xf09013 0xf0b968 call 00F1A0A0h e888100100 <class 'bytes'> 15765523 15776104 <class 'int'> CALL_REL32_32 | 190 <class 'bytes'>\n",
      "  new_ins :  e84f650100 \n",
      "\n",
      "0xf0901f 0xf0b979 call 00F19DD0h e8ac0d0100 <class 'bytes'> 15765535 15776121 <class 'int'> CALL_REL32_32 | 190 <class 'bytes'>\n",
      "  new_ins :  e847610100 \n",
      "\n"
     ]
    },
    {
     "name": "stderr",
     "output_type": "stream",
     "text": [
      "12757it [03:48, 95.31it/s]"
     ]
    },
    {
     "name": "stdout",
     "output_type": "stream",
     "text": [
      "0xf0904e 0xf0b9b5 call 00F19E50h e8fd0d0100 <class 'bytes'> 15765582 15776181 <class 'int'> CALL_REL32_32 | 190 <class 'bytes'>\n",
      "  new_ins :  e8bd610100 \n",
      "\n",
      "0xf09069 0xf0b9d6 call 00F19E50h e8e20d0100 <class 'bytes'> 15765609 15776214 <class 'int'> CALL_REL32_32 | 190 <class 'bytes'>\n",
      "  new_ins :  e89c610100 \n",
      "\n"
     ]
    },
    {
     "name": "stderr",
     "output_type": "stream",
     "text": [
      "12769it [03:48, 72.11it/s]"
     ]
    },
    {
     "name": "stdout",
     "output_type": "stream",
     "text": [
      "0xf09076 0xf0b9e5 call 00F1B58Ch e811250100 <class 'bytes'> 15765622 15776229 <class 'int'> CALL_REL32_32 | 190 <class 'bytes'>\n",
      "  new_ins :  e8a8800100 \n",
      "\n",
      "0xf09086 0xf0b9f9 call 00F13C90h e805ac0000 <class 'bytes'> 15765638 15776249 <class 'int'> CALL_REL32_32 | 190 <class 'bytes'>\n",
      "  new_ins :  e879df0000 \n",
      "\n",
      "0xf09099 0xf0ba10 je short 00F090AAh 740f <class 'bytes'> 15765657 15776272 <class 'int'> JE_REL8_32 | 190 <class 'bytes'>\n",
      "  new_ins :  7413 \n",
      "\n",
      "0xf0909b 0xf0ba12 jmp short 00F090A0h eb03 <class 'bytes'> 15765659 15776274 <class 'int'> JMP_REL8_32 | 190 <class 'bytes'>\n",
      "  new_ins :  eb04 \n",
      "\n",
      "0xf090a8 0xf0ba23 jne short 00F090A0h 75f6 <class 'bytes'> 15765672 15776291 <class 'int'> JNE_REL8_32 | 190 <class 'bytes'>\n",
      "  new_ins :  75f3 \n",
      "\n",
      "0xf090bf 0xf0ba44 call 00F08BE0h e81cfbffff <class 'bytes'> 15765695 15776324 <class 'int'> CALL_REL32_32 | 190 <class 'bytes'>\n",
      "  new_ins :  e88ef9ffff \n",
      "\n",
      "0xf090ce 0xf0ba57 jne short 00F090EBh 751b <class 'bytes'> 15765710 15776343 <class 'int'> JNE_REL8_32 | 190 <class 'bytes'>\n",
      "  new_ins :  7526 \n",
      "\n"
     ]
    },
    {
     "name": "stderr",
     "output_type": "stream",
     "text": [
      "12809it [03:49, 100.76it/s]"
     ]
    },
    {
     "name": "stdout",
     "output_type": "stream",
     "text": [
      "0xf090d0 0xf0ba59 call 00F1A0A0h e8cb0f0100 <class 'bytes'> 15765712 15776345 <class 'int'> CALL_REL32_32 | 190 <class 'bytes'>\n",
      "  new_ins :  e85e640100 \n",
      "\n",
      "0xf090dc 0xf0ba6a call 00F19DD0h e8ef0c0100 <class 'bytes'> 15765724 15776362 <class 'int'> CALL_REL32_32 | 190 <class 'bytes'>\n",
      "  new_ins :  e856600100 \n",
      "\n"
     ]
    },
    {
     "name": "stderr",
     "output_type": "stream",
     "text": [
      "12821it [03:49, 99.77it/s] "
     ]
    },
    {
     "name": "stdout",
     "output_type": "stream",
     "text": [
      "0xf090f2 0xf0ba88 call 00F1A4C0h e8c9130100 <class 'bytes'> 15765746 15776392 <class 'int'> CALL_REL32_32 | 190 <class 'bytes'>\n",
      "  new_ins :  e8d4690100 \n",
      "\n",
      "0xf090fc 0xf0ba94 jne near ptr 00F09182h 0f8580000000 <class 'bytes'> 15765756 15776404 <class 'int'> JNE_REL32_32 | 190 <class 'bytes'>\n",
      "  new_ins :  0f85a6000000 \n",
      "\n",
      "0xf09118 0xf0bab6 call 00F19E50h e8330d0100 <class 'bytes'> 15765784 15776438 <class 'int'> CALL_REL32_32 | 190 <class 'bytes'>\n",
      "  new_ins :  e8bc600100 \n",
      "\n"
     ]
    },
    {
     "name": "stderr",
     "output_type": "stream",
     "text": [
      "12841it [03:49, 78.17it/s]"
     ]
    },
    {
     "name": "stdout",
     "output_type": "stream",
     "text": [
      "0xf0912d 0xf0bad0 call 00F1ACA0h e86e1b0100 <class 'bytes'> 15765805 15776464 <class 'int'> CALL_REL32_32 | 190 <class 'bytes'>\n",
      "  new_ins :  e8df730100 \n",
      "\n",
      "0xf09142 0xf0baea call 00F1ACA0h e8591b0100 <class 'bytes'> 15765826 15776490 <class 'int'> CALL_REL32_32 | 190 <class 'bytes'>\n",
      "  new_ins :  e8c5730100 \n",
      "\n"
     ]
    },
    {
     "name": "stderr",
     "output_type": "stream",
     "text": [
      "12850it [03:49, 63.25it/s]"
     ]
    },
    {
     "name": "stdout",
     "output_type": "stream",
     "text": [
      "0xf09151 0xf0baff call 00F17C80h e82aeb0000 <class 'bytes'> 15765841 15776511 <class 'int'> CALL_REL32_32 | 190 <class 'bytes'>\n",
      "  new_ins :  e864320100 \n",
      "\n",
      "0xf0915b 0xf0bb0b js short 00F091A6h 7849 <class 'bytes'> 15765851 15776523 <class 'int'> JS_REL8_32 | 190 <class 'bytes'>\n",
      "  new_ins :  7860 \n",
      "\n",
      "0xf09161 0xf0bb13 call 00F1A0C0h e85a0f0100 <class 'bytes'> 15765857 15776531 <class 'int'> CALL_REL32_32 | 190 <class 'bytes'>\n",
      "  new_ins :  e8ce630100 \n",
      "\n"
     ]
    },
    {
     "name": "stderr",
     "output_type": "stream",
     "text": [
      "12867it [03:49, 70.39it/s]"
     ]
    },
    {
     "name": "stdout",
     "output_type": "stream",
     "text": [
      "0xf09173 0xf0bb2b call 00F19DD0h e8580c0100 <class 'bytes'> 15765875 15776555 <class 'int'> CALL_REL32_32 | 190 <class 'bytes'>\n",
      "  new_ins :  e8955f0100 \n",
      "\n",
      "0xf09189 0xf0bb49 call 00F1A0C0h e8320f0100 <class 'bytes'> 15765897 15776585 <class 'int'> CALL_REL32_32 | 190 <class 'bytes'>\n",
      "  new_ins :  e898630100 \n",
      "\n"
     ]
    },
    {
     "name": "stderr",
     "output_type": "stream",
     "text": [
      "12896it [03:50, 100.44it/s]"
     ]
    },
    {
     "name": "stdout",
     "output_type": "stream",
     "text": [
      "0xf0919e 0xf0bb64 call 00F19DD0h e82d0c0100 <class 'bytes'> 15765918 15776612 <class 'int'> CALL_REL32_32 | 190 <class 'bytes'>\n",
      "  new_ins :  e85c5f0100 \n",
      "\n",
      "0xf091b5 0xf0bb82 je short 00F091B9h 7402 <class 'bytes'> 15765941 15776642 <class 'int'> JE_REL8_32 | 190 <class 'bytes'>\n",
      "  new_ins :  7403 \n",
      "\n",
      "0xf091db 0xf0bbb5 call 00F19E50h e8700c0100 <class 'bytes'> 15765979 15776693 <class 'int'> CALL_REL32_32 | 190 <class 'bytes'>\n",
      "  new_ins :  e8bd5f0100 \n",
      "\n",
      "0xf091ef 0xf0bbcf call 00F09030h e83cfeffff <class 'bytes'> 15765999 15776719 <class 'int'> CALL_REL32_32 | 190 <class 'bytes'>\n",
      "  new_ins :  e8bbfdffff \n",
      "\n",
      "0xf091f8 0xf0bbda call 00F07E10h e813ecffff <class 'bytes'> 15766008 15776730 <class 'int'> CALL_REL32_32 | 190 <class 'bytes'>\n",
      "  new_ins :  e85be6ffff \n",
      "\n"
     ]
    },
    {
     "name": "stderr",
     "output_type": "stream",
     "text": [
      "12936it [03:50, 128.88it/s]"
     ]
    },
    {
     "name": "stdout",
     "output_type": "stream",
     "text": [
      "0xf09209 0xf0bbf0 call 00F08B60h e852f9ffff <class 'bytes'> 15766025 15776752 <class 'int'> CALL_REL32_32 | 190 <class 'bytes'>\n",
      "  new_ins :  e83bf7ffff \n",
      "\n",
      "0xf09212 0xf0bbfb call 00F08B30h e819f9ffff <class 'bytes'> 15766034 15776763 <class 'int'> CALL_REL32_32 | 190 <class 'bytes'>\n",
      "  new_ins :  e8f1f6ffff \n",
      "\n",
      "0xf09223 0xf0bc11 call 00F08C60h e838faffff <class 'bytes'> 15766051 15776785 <class 'int'> CALL_REL32_32 | 190 <class 'bytes'>\n",
      "  new_ins :  e86ef8ffff \n",
      "\n",
      "0xf0922f 0xf0bc20 je short 00F0928Ch 745b <class 'bytes'> 15766063 15776800 <class 'int'> JE_REL8_32 | 190 <class 'bytes'>\n",
      "  new_ins :  7479 \n",
      "\n",
      "0xf09245 0xf0bc3d call 00F1A6B0h e866140100 <class 'bytes'> 15766085 15776829 <class 'int'> CALL_REL32_32 | 190 <class 'bytes'>\n",
      "  new_ins :  e8e66a0100 \n",
      "\n",
      "0xf0924f 0xf0bc49 jne short 00F09267h 7516 <class 'bytes'> 15766095 15776841 <class 'int'> JNE_REL8_32 | 190 <class 'bytes'>\n",
      "  new_ins :  751c \n",
      "\n"
     ]
    },
    {
     "name": "stderr",
     "output_type": "stream",
     "text": [
      "12983it [03:50, 158.66it/s]"
     ]
    },
    {
     "name": "stdout",
     "output_type": "stream",
     "text": [
      "0xf0925b 0xf0bc59 call 00F1A6B0h e850140100 <class 'bytes'> 15766107 15776857 <class 'int'> CALL_REL32_32 | 190 <class 'bytes'>\n",
      "  new_ins :  e8ca6a0100 \n",
      "\n",
      "0xf09265 0xf0bc65 je short 00F09251h 74ea <class 'bytes'> 15766117 15776869 <class 'int'> JE_REL8_32 | 190 <class 'bytes'>\n",
      "  new_ins :  74e4 \n",
      "\n",
      "0xf09277 0xf0bc7d jb short 00F09241h 72c8 <class 'bytes'> 15766135 15776893 <class 'int'> JB_REL8_32 | 190 <class 'bytes'>\n",
      "  new_ins :  72b8 \n",
      "\n",
      "0xf0929c 0xf0bcb3 jecxz 00F092B0h e312 <class 'bytes'> 15766172 15776947 <class 'int'> JECXZ_REL8_32 | 190 <class 'bytes'>\n",
      "  new_ins :  e319000000 \n",
      "\n",
      "0xf092c2 0xf0bce5 call 00F19E50h e8890b0100 <class 'bytes'> 15766210 15776997 <class 'int'> CALL_REL32_32 | 190 <class 'bytes'>\n",
      "  new_ins :  e88d5e0100 \n",
      "\n"
     ]
    },
    {
     "name": "stderr",
     "output_type": "stream",
     "text": [
      "12999it [03:50, 111.38it/s]"
     ]
    },
    {
     "name": "stdout",
     "output_type": "stream",
     "text": [
      "0xf092dd 0xf0bd06 call 00F19E50h e86e0b0100 <class 'bytes'> 15766237 15777030 <class 'int'> CALL_REL32_32 | 190 <class 'bytes'>\n",
      "  new_ins :  e86c5e0100 \n",
      "\n",
      "0xf092ef 0xf0bd1d call 00F07960h e86ce6ffff <class 'bytes'> 15766255 15777053 <class 'int'> CALL_REL32_32 | 190 <class 'bytes'>\n",
      "  new_ins :  e8fadeffff \n",
      "\n",
      "0xf092fe 0xf0bd31 call 00F09030h e82dfdffff <class 'bytes'> 15766270 15777073 <class 'int'> CALL_REL32_32 | 190 <class 'bytes'>\n",
      "  new_ins :  e859fcffff \n",
      "\n",
      "0xf0930e 0xf0bd44 je short 00F09320h 7410 <class 'bytes'> 15766286 15777092 <class 'int'> JE_REL8_32 | 190 <class 'bytes'>\n",
      "  new_ins :  7414 \n",
      "\n",
      "0xf09312 0xf0bd49 je short 00F09320h 740c <class 'bytes'> 15766290 15777097 <class 'int'> JE_REL8_32 | 190 <class 'bytes'>\n",
      "  new_ins :  740f \n",
      "\n",
      "0xf0931e 0xf0bd58 jne short 00F09310h 75f0 <class 'bytes'> 15766302 15777112 <class 'int'> JNE_REL8_32 | 190 <class 'bytes'>\n",
      "  new_ins :  75ec \n",
      "\n"
     ]
    },
    {
     "name": "stderr",
     "output_type": "stream",
     "text": [
      "13015it [03:51, 109.41it/s]"
     ]
    },
    {
     "name": "stdout",
     "output_type": "stream",
     "text": [
      "0xf09328 0xf0bd64 call 00F1A0A0h e8730d0100 <class 'bytes'> 15766312 15777124 <class 'int'> CALL_REL32_32 | 190 <class 'bytes'>\n",
      "  new_ins :  e853610100 \n",
      "\n",
      "0xf09339 0xf0bd7a call 00F1A0C0h e8820d0100 <class 'bytes'> 15766329 15777146 <class 'int'> CALL_REL32_32 | 190 <class 'bytes'>\n",
      "  new_ins :  e867610100 \n",
      "\n"
     ]
    },
    {
     "name": "stderr",
     "output_type": "stream",
     "text": [
      "13062it [03:51, 106.62it/s]"
     ]
    },
    {
     "name": "stdout",
     "output_type": "stream",
     "text": [
      "0xf09349 0xf0bd8d call 00F19DD0h e8820a0100 <class 'bytes'> 15766345 15777165 <class 'int'> CALL_REL32_32 | 190 <class 'bytes'>\n",
      "  new_ins :  e8335d0100 \n",
      "\n",
      "0xf09355 0xf0bd9b call 00F1A0C0h e8660d0100 <class 'bytes'> 15766357 15777179 <class 'int'> CALL_REL32_32 | 190 <class 'bytes'>\n",
      "  new_ins :  e846610100 \n",
      "\n",
      "0xf09362 0xf0bdac call 00F07E10h e8a9eaffff <class 'bytes'> 15766370 15777196 <class 'int'> CALL_REL32_32 | 190 <class 'bytes'>\n",
      "  new_ins :  e889e4ffff \n",
      "\n",
      "0xf09373 0xf0bdc2 call 00F08B60h e8e8f7ffff <class 'bytes'> 15766387 15777218 <class 'int'> CALL_REL32_32 | 190 <class 'bytes'>\n",
      "  new_ins :  e869f5ffff \n",
      "\n",
      "0xf0937c 0xf0bdcd call 00F08B30h e8aff7ffff <class 'bytes'> 15766396 15777229 <class 'int'> CALL_REL32_32 | 190 <class 'bytes'>\n",
      "  new_ins :  e81ff5ffff \n",
      "\n",
      "0xf0938d 0xf0bde3 call 00F08C60h e8cef8ffff <class 'bytes'> 15766413 15777251 <class 'int'> CALL_REL32_32 | 190 <class 'bytes'>\n",
      "  new_ins :  e89cf6ffff \n",
      "\n",
      "0xf0939c 0xf0bdf6 je short 00F093F8h 745a <class 'bytes'> 15766428 15777270 <class 'int'> JE_REL8_32 | 190 <class 'bytes'>\n",
      "  new_ins :  7478 \n",
      "\n",
      "0xf093b4 0xf0be16 call 00F1A6B0h e8f7120100 <class 'bytes'> 15766452 15777302 <class 'int'> CALL_REL32_32 | 190 <class 'bytes'>\n",
      "  new_ins :  e80d690100 \n",
      "\n"
     ]
    },
    {
     "name": "stderr",
     "output_type": "stream",
     "text": [
      "13074it [03:51, 104.04it/s]"
     ]
    },
    {
     "name": "stdout",
     "output_type": "stream",
     "text": [
      "0xf093be 0xf0be22 jne short 00F093D6h 7516 <class 'bytes'> 15766462 15777314 <class 'int'> JNE_REL8_32 | 190 <class 'bytes'>\n",
      "  new_ins :  751c \n",
      "\n",
      "0xf093ca 0xf0be32 call 00F1A6B0h e8e1120100 <class 'bytes'> 15766474 15777330 <class 'int'> CALL_REL32_32 | 190 <class 'bytes'>\n",
      "  new_ins :  e8f1680100 \n",
      "\n",
      "0xf093d4 0xf0be3e je short 00F093C0h 74ea <class 'bytes'> 15766484 15777342 <class 'int'> JE_REL8_32 | 190 <class 'bytes'>\n",
      "  new_ins :  74e4 \n",
      "\n",
      "0xf093e6 0xf0be56 jb short 00F093B0h 72c8 <class 'bytes'> 15766502 15777366 <class 'int'> JB_REL8_32 | 190 <class 'bytes'>\n",
      "  new_ins :  72b8 \n",
      "\n",
      "0xf09424 0xf0beb3 call 00F09030h e807fcffff <class 'bytes'> 15766564 15777459 <class 'int'> CALL_REL32_32 | 190 <class 'bytes'>\n",
      "  new_ins :  e8d7faffff \n",
      "\n"
     ]
    },
    {
     "name": "stderr",
     "output_type": "stream",
     "text": [
      "13116it [03:51, 152.44it/s]"
     ]
    },
    {
     "name": "stdout",
     "output_type": "stream",
     "text": [
      "0xf0942a 0xf0beba call 00F1A0C0h e8910c0100 <class 'bytes'> 15766570 15777466 <class 'int'> CALL_REL32_32 | 190 <class 'bytes'>\n",
      "  new_ins :  e827600100 \n",
      "\n",
      "0xf0943a 0xf0becd call 00F1A0C0h e8810c0100 <class 'bytes'> 15766586 15777485 <class 'int'> CALL_REL32_32 | 190 <class 'bytes'>\n",
      "  new_ins :  e814600100 \n",
      "\n"
     ]
    },
    {
     "name": "stderr",
     "output_type": "stream",
     "text": [
      "13133it [03:52, 109.59it/s]"
     ]
    },
    {
     "name": "stdout",
     "output_type": "stream",
     "text": [
      "0xf09447 0xf0bedf call 00F1A0C0h e8740c0100 <class 'bytes'> 15766599 15777503 <class 'int'> CALL_REL32_32 | 190 <class 'bytes'>\n",
      "  new_ins :  e802600100 \n",
      "\n",
      "0xf09453 0xf0beee call 00F19DD0h e878090100 <class 'bytes'> 15766611 15777518 <class 'int'> CALL_REL32_32 | 190 <class 'bytes'>\n",
      "  new_ins :  e8d25b0100 \n",
      "\n",
      "0xf09460 0xf0befe je short 00F094C1h 745f <class 'bytes'> 15766624 15777534 <class 'int'> JE_REL8_32 | 190 <class 'bytes'>\n",
      "  new_ins :  7476 \n",
      "\n",
      "0xf0948f 0xf0bf37 jne short 00F0949Ah 7509 <class 'bytes'> 15766671 15777591 <class 'int'> JNE_REL8_32 | 190 <class 'bytes'>\n",
      "  new_ins :  750b \n",
      "\n"
     ]
    },
    {
     "name": "stderr",
     "output_type": "stream",
     "text": [
      "13149it [03:52, 113.18it/s]"
     ]
    },
    {
     "name": "stdout",
     "output_type": "stream",
     "text": [
      "0xf0949b 0xf0bf46 call 00F1A0C0h e8200c0100 <class 'bytes'> 15766683 15777606 <class 'int'> CALL_REL32_32 | 190 <class 'bytes'>\n",
      "  new_ins :  e89b5f0100 \n",
      "\n",
      "0xf094ad 0xf0bf5d call 00F1A230h e87e0d0100 <class 'bytes'> 15766701 15777629 <class 'int'> CALL_REL32_32 | 190 <class 'bytes'>\n",
      "  new_ins :  e88f610100 \n",
      "\n"
     ]
    },
    {
     "name": "stderr",
     "output_type": "stream",
     "text": [
      "13247it [03:52, 226.77it/s]"
     ]
    },
    {
     "name": "stdout",
     "output_type": "stream",
     "text": [
      "0xf094b9 0xf0bf6d call 00F1A230h e8720d0100 <class 'bytes'> 15766713 15777645 <class 'int'> CALL_REL32_32 | 190 <class 'bytes'>\n",
      "  new_ins :  e87f610100 \n",
      "\n",
      "0xf0951b 0xf0bff3 call 00F10860h e840730000 <class 'bytes'> 15766811 15777779 <class 'int'> CALL_REL32_32 | 190 <class 'bytes'>\n",
      "  new_ins :  e8e5940000 \n",
      "\n",
      "0xf09525 0xf0bfff je near ptr 00F09651h 0f8426010000 <class 'bytes'> 15766821 15777791 <class 'int'> JE_REL32_32 | 190 <class 'bytes'>\n",
      "  new_ins :  0f847e010000 \n",
      "\n",
      "0xf09581 0xf0c06f jne near ptr 00F09651h 0f85ca000000 <class 'bytes'> 15766913 15777903 <class 'int'> JNE_REL32_32 | 190 <class 'bytes'>\n",
      "  new_ins :  0f850e010000 \n",
      "\n",
      "0xf095be 0xf0c0bf je near ptr 00F09646h 0f8482000000 <class 'bytes'> 15766974 15777983 <class 'int'> JE_REL32_32 | 190 <class 'bytes'>\n",
      "  new_ins :  0f84af000000 \n",
      "\n",
      "0xf09600 0xf0c116 je short 00F09640h 743e <class 'bytes'> 15767040 15778070 <class 'int'> JE_REL8_32 | 190 <class 'bytes'>\n",
      "  new_ins :  7454 \n",
      "\n",
      "0xf09611 0xf0c12d je short 00F09630h 741d <class 'bytes'> 15767057 15778093 <class 'int'> JE_REL8_32 | 190 <class 'bytes'>\n",
      "  new_ins :  7427 \n",
      "\n",
      "0xf09623 0xf0c145 jge short 00F0965Ah 7d35 <class 'bytes'> 15767075 15778117 <class 'int'> JGE_REL8_32 | 190 <class 'bytes'>\n",
      "  new_ins :  7d4b \n",
      "\n"
     ]
    },
    {
     "name": "stderr",
     "output_type": "stream",
     "text": [
      "13402it [03:52, 410.50it/s]"
     ]
    },
    {
     "name": "stdout",
     "output_type": "stream",
     "text": [
      "0xf09753 0xf0c2db call 00F1B57Bh e8231e0100 <class 'bytes'> 15767379 15778523 <class 'int'> CALL_REL32_32 | 190 <class 'bytes'>\n",
      "  new_ins :  e89d770100 \n",
      "\n",
      "0xf0975d 0xf0c2e7 je near ptr 00F097F1h 0f848e000000 <class 'bytes'> 15767389 15778535 <class 'int'> JE_REL32_32 | 190 <class 'bytes'>\n",
      "  new_ins :  0f84b5000000 \n",
      "\n",
      "0xf09768 0xf0c2f3 je near ptr 00F097F1h 0f8483000000 <class 'bytes'> 15767400 15778547 <class 'int'> JE_REL32_32 | 190 <class 'bytes'>\n",
      "  new_ins :  0f84a9000000 \n",
      "\n",
      "0xf09787 0xf0c31a call 00F07C00h e874e4ffff <class 'bytes'> 15767431 15778586 <class 'int'> CALL_REL32_32 | 190 <class 'bytes'>\n",
      "  new_ins :  e867dcffff \n",
      "\n",
      "0xf097a5 0xf0c340 call 00F12E40h e896960000 <class 'bytes'> 15767461 15778624 <class 'int'> CALL_REL32_32 | 190 <class 'bytes'>\n",
      "  new_ins :  e8c0c20000 \n",
      "\n",
      "0xf097ad 0xf0c34a call 00F12D80h e8ce950000 <class 'bytes'> 15767469 15778634 <class 'int'> CALL_REL32_32 | 190 <class 'bytes'>\n",
      "  new_ins :  e8bcc10000 \n",
      "\n",
      "0xf097b9 0xf0c35b call 00F12E40h e882960000 <class 'bytes'> 15767481 15778651 <class 'int'> CALL_REL32_32 | 190 <class 'bytes'>\n",
      "  new_ins :  e8a5c20000 \n",
      "\n",
      "0xf097c1 0xf0c365 call 00F12D80h e8ba950000 <class 'bytes'> 15767489 15778661 <class 'int'> CALL_REL32_32 | 190 <class 'bytes'>\n",
      "  new_ins :  e8a1c10000 \n",
      "\n",
      "0xf097d0 0xf0c37a call 00F12E40h e86b960000 <class 'bytes'> 15767504 15778682 <class 'int'> CALL_REL32_32 | 190 <class 'bytes'>\n",
      "  new_ins :  e886c20000 \n",
      "\n"
     ]
    },
    {
     "name": "stderr",
     "output_type": "stream",
     "text": [
      "13448it [03:53, 207.42it/s]"
     ]
    },
    {
     "name": "stdout",
     "output_type": "stream",
     "text": [
      "0xf097d5 0xf0c37f call 00F1D0B0h e8d6380100 <class 'bytes'> 15767509 15778687 <class 'int'> CALL_REL32_32 | 190 <class 'bytes'>\n",
      "  new_ins :  e815970100 \n",
      "\n",
      "0xf097dd 0xf0c388 call 00F1D11Ch e83a390100 <class 'bytes'> 15767517 15778696 <class 'int'> CALL_REL32_32 | 190 <class 'bytes'>\n",
      "  new_ins :  e884970100 \n",
      "\n",
      "0xf097e6 0xf0c393 call 00F155D0h e8e5bd0000 <class 'bytes'> 15767526 15778707 <class 'int'> CALL_REL32_32 | 190 <class 'bytes'>\n",
      "  new_ins :  e8b7f70000 \n",
      "\n",
      "0xf09831 0xf0c3f4 call 00F19E50h e81a060100 <class 'bytes'> 15767601 15778804 <class 'int'> CALL_REL32_32 | 190 <class 'bytes'>\n",
      "  new_ins :  e87e570100 \n",
      "\n"
     ]
    },
    {
     "name": "stderr",
     "output_type": "stream",
     "text": [
      "13483it [03:53, 178.66it/s]"
     ]
    },
    {
     "name": "stdout",
     "output_type": "stream",
     "text": [
      "0xf0983c 0xf0c402 call 00F1A9F0h e8af110100 <class 'bytes'> 15767612 15778818 <class 'int'> CALL_REL32_32 | 190 <class 'bytes'>\n",
      "  new_ins :  e865670100 \n",
      "\n",
      "0xf09847 0xf0c410 call 00F07C00h e8b4e3ffff <class 'bytes'> 15767623 15778832 <class 'int'> CALL_REL32_32 | 190 <class 'bytes'>\n",
      "  new_ins :  e871dbffff \n",
      "\n",
      "0xf09868 0xf0c43a call 00F12E40h e8d3950000 <class 'bytes'> 15767656 15778874 <class 'int'> CALL_REL32_32 | 190 <class 'bytes'>\n",
      "  new_ins :  e8c6c10000 \n",
      "\n",
      "0xf09870 0xf0c444 call 00F12D80h e80b950000 <class 'bytes'> 15767664 15778884 <class 'int'> CALL_REL32_32 | 190 <class 'bytes'>\n",
      "  new_ins :  e8c2c00000 \n",
      "\n",
      "0xf0987c 0xf0c455 call 00F12E40h e8bf950000 <class 'bytes'> 15767676 15778901 <class 'int'> CALL_REL32_32 | 190 <class 'bytes'>\n",
      "  new_ins :  e8abc10000 \n",
      "\n"
     ]
    },
    {
     "name": "stderr",
     "output_type": "stream",
     "text": [
      "13511it [03:54, 170.16it/s]"
     ]
    },
    {
     "name": "stdout",
     "output_type": "stream",
     "text": [
      "0xf09888 0xf0c464 jne short 00F098B6h 752c <class 'bytes'> 15767688 15778916 <class 'int'> JNE_REL8_32 | 190 <class 'bytes'>\n",
      "  new_ins :  753f \n",
      "\n",
      "0xf0988f 0xf0c46e call 00F08CE0h e84cf4ffff <class 'bytes'> 15767695 15778926 <class 'int'> CALL_REL32_32 | 190 <class 'bytes'>\n",
      "  new_ins :  e8bdf0ffff \n",
      "\n",
      "0xf0989c 0xf0c47f call 00F12D80h e8df940000 <class 'bytes'> 15767708 15778943 <class 'int'> CALL_REL32_32 | 190 <class 'bytes'>\n",
      "  new_ins :  e887c00000 \n",
      "\n",
      "0xf098a8 0xf0c490 call 00F12E40h e893950000 <class 'bytes'> 15767720 15778960 <class 'int'> CALL_REL32_32 | 190 <class 'bytes'>\n",
      "  new_ins :  e870c10000 \n",
      "\n",
      "0xf098b4 0xf0c49f je short 00F09923h 746d <class 'bytes'> 15767732 15778975 <class 'int'> JE_REL8_32 | 194 <class 'bytes'>\n",
      "  new_ins :  0F8488000000 \n",
      "\n"
     ]
    },
    {
     "name": "stderr",
     "output_type": "stream",
     "text": [
      "13535it [03:56, 38.60it/s] "
     ]
    },
    {
     "name": "stdout",
     "output_type": "stream",
     "text": [
      "0xf098bc 0xf0c4ae call 00F19400h e83ffb0000 <class 'bytes'> 15767740 15778990 <class 'int'> CALL_REL32_32 | 194 <class 'bytes'>\n",
      "  new_ins :  e82a490100 \n",
      "\n",
      "0xf098c6 0xf0c4ba je short 00F098E8h 7420 <class 'bytes'> 15767750 15779002 <class 'int'> JE_REL8_32 | 194 <class 'bytes'>\n",
      "  new_ins :  7428 \n",
      "\n",
      "0xf098d2 0xf0c4cb call 00F1A5A0h e8c90c0100 <class 'bytes'> 15767762 15779019 <class 'int'> CALL_REL32_32 | 194 <class 'bytes'>\n",
      "  new_ins :  e8d3600100 \n",
      "\n",
      "0xf098dc 0xf0c4d7 je short 00F098E8h 740a <class 'bytes'> 15767772 15779031 <class 'int'> JE_REL8_32 | 194 <class 'bytes'>\n",
      "  new_ins :  740b \n",
      "\n",
      "0xf098e8 0xf0c4e4 call 00F1D0F8h e80b380100 <class 'bytes'> 15767784 15779044 <class 'int'> CALL_REL32_32 | 194 <class 'bytes'>\n",
      "  new_ins :  e800960100 \n",
      "\n",
      "0xf098f0 0xf0c4ed call 00F1D11Ch e827380100 <class 'bytes'> 15767792 15779053 <class 'int'> CALL_REL32_32 | 194 <class 'bytes'>\n",
      "  new_ins :  e81f960100 \n",
      "\n",
      "0xf098fa 0xf0c4f9 je short 00F0991Ah 741e <class 'bytes'> 15767802 15779065 <class 'int'> JE_REL8_32 | 194 <class 'bytes'>\n",
      "  new_ins :  7427 \n",
      "\n"
     ]
    },
    {
     "name": "stderr",
     "output_type": "stream",
     "text": [
      "13552it [03:58, 27.71it/s]"
     ]
    },
    {
     "name": "stdout",
     "output_type": "stream",
     "text": [
      "0xf09900 0xf0c501 call 00F1D0F8h e8f3370100 <class 'bytes'> 15767808 15779073 <class 'int'> CALL_REL32_32 | 194 <class 'bytes'>\n",
      "  new_ins :  e8e3950100 \n",
      "\n"
     ]
    }
   ],
   "source": [
    "import distorm3\n",
    "import pefile\n",
    "from pe_library import *\n",
    "from iced_x86 import *\n",
    "from typing import Union, Dict, Sequence \n",
    "from types import ModuleType\n",
    "from keystone import *\n",
    "import pickle\n",
    "import shutil\n",
    "import r2pipe\n",
    "from tqdm import tqdm\n",
    "from common_function import *\n",
    "from functools import lru_cache\n",
    "\n",
    "old_rawPointer = 0\n",
    "old_nextPointer = 0\n",
    "\n",
    "def modify_headers(file_path, new_text, fin = None):\n",
    "    pe = pefile.PE(file_path)\n",
    "    file_format = '.'+file_path.split('.')[-1]\n",
    "\n",
    "    # Find the .text section\n",
    "    text_section = None\n",
    "    for section in pe.sections:\n",
    "        if section.Name.strip(b'\\x00').lower() == b'.text' or section.Name.strip(b'\\x00').upper() == b'CODE':\n",
    "            text_section = section\n",
    "            break\n",
    "\n",
    "    if text_section is None:\n",
    "        print(\"Error: .text section not found\")\n",
    "        return\n",
    "\n",
    "    text_section.Misc = len(new_text)\n",
    "    new_size = int((len(new_text) + pe.OPTIONAL_HEADER.FileAlignment - 1) / pe.OPTIONAL_HEADER.FileAlignment) * pe.OPTIONAL_HEADER.FileAlignment\n",
    "    new_text = new_text + b'\\x00' * (new_size - len(new_text))\n",
    "\n",
    "    size_diff = new_size - text_section.SizeOfRawData\n",
    "    \n",
    "    if fin:\n",
    "        print(f\"[+] new Size of Raw Data: {hex(new_size)}\")\n",
    "        print(f\"[+] size diff: {hex(size_diff)}\")\n",
    "\n",
    "    text_section.SizeOfRawData = new_size\n",
    "    pe.OPTIONAL_HEADER.SizeOfImage = max(pe.OPTIONAL_HEADER.SizeOfImage, text_section.VirtualAddress + new_size)\n",
    "\n",
    "    prev_section = text_section\n",
    "    for section in pe.sections:\n",
    "        if section.VirtualAddress > text_section.VirtualAddress:\n",
    "            section.VirtualAddress = (prev_section.VirtualAddress + \n",
    "                                      (prev_section.Misc + pe.OPTIONAL_HEADER.SectionAlignment - 1) // pe.OPTIONAL_HEADER.SectionAlignment * pe.OPTIONAL_HEADER.SectionAlignment)\n",
    "            section.PointerToRawData += size_diff\n",
    "            prev_section = section\n",
    "\n",
    "    pe.write(filename=file_path.replace(file_format, \"_tmp\"+file_format))\n",
    "    pe.close()\n",
    "    return new_text\n",
    "\n",
    "def modify_section(file_path, new_text, save_dir, number_of_nop, fin = None):\n",
    "    global old_rawPointer\n",
    "    global old_nextPointer\n",
    "    number_of_nop = str(number_of_nop)\n",
    "    file_format = '.'+file_path.split('.')[-1]\n",
    "    \n",
    "    pe = pefile.PE(file_path)\n",
    "        \n",
    "    for section in pe.sections:\n",
    "        if section.Name.strip(b'\\x00').lower() == b'.text' or section.Name.strip(b'\\x00').upper() == b'CODE':\n",
    "            text_section = section\n",
    "            break\n",
    "    \n",
    "    tmp_file = file_path.replace(file_format, \"_tmp\"+file_format)\n",
    "    \n",
    "    with open(tmp_file, \"rb\") as tmp:\n",
    "        tmp_binary = tmp.read()\n",
    "\n",
    "    new_binary = tmp_binary[:old_rawPointer]\n",
    "    new_binary += new_text\n",
    "    new_binary += tmp_binary[text_section.PointerToRawData+text_section.SizeOfRawData:]\n",
    "\n",
    "    with open(file_path.replace(file_format, \"_adding_\"+number_of_nop+file_format), \"wb\") as f: \n",
    "        f.write(new_binary)\n",
    "        \n",
    "    os.remove(tmp_file)\n",
    "    \n",
    "    file_name = file_path.split('/')[-1].replace(file_format, \"_adding_\"+number_of_nop+file_format)\n",
    "    \n",
    "    if fin:\n",
    "        print(f\"[+] new size of binary : {len(new_binary)}\")\n",
    "        file_name = file_name.replace('_adding_'+number_of_nop+file_format,'_nop_fin_'+number_of_nop+file_format)\n",
    "        \n",
    "        directory, old_filename = os.path.split(save_dir)\n",
    "        new_path = os.path.join(directory, file_name)\n",
    "        \n",
    "        os.rename(file_path.replace(file_format, \"_adding_\"+number_of_nop+file_format), new_path)\n",
    "        #os.system('rm -rf ./'+save_dir)\n",
    "        print(\"modified_section_return save_dir : \",new_path)\n",
    "        return new_path\n",
    "\n",
    "    else:\n",
    "\n",
    "        os.rename(file_path.replace(file_format, \"_adding_\"+number_of_nop+file_format), save_dir+file_name)\n",
    "        print(\"modified_section_return save_dir : \",save_dir+file_name)\n",
    "        return save_dir+file_name\n",
    "\n",
    "def modify_tramp(save_dir,modified_address, fin = None):\n",
    "    file_path = save_dir\n",
    "    pe = pefile.PE(file_path)\n",
    "    pe_data = open(file_path, \"rb\").read()\n",
    "\n",
    "    # .tramp 섹션 찾기\n",
    "    section = next(section for section in pe.sections if section.Name.rstrip(b'\\x00') == b'.Tram')\n",
    "\n",
    "    virtual_address = section.VirtualAddress\n",
    "    image_base = pe.OPTIONAL_HEADER.ImageBase\n",
    "    \n",
    "    section_start = section.PointerToRawData\n",
    "    section_size = section.SizeOfRawData\n",
    "    \n",
    "    data = bytearray(pe.get_memory_mapped_image()[section_start:section_start + section_size])\n",
    "\n",
    "    old_value = None\n",
    "    new_value = None\n",
    "\n",
    "    for i in range(0, len(data)):\n",
    "        if '0x90' not in str(hex(data[i])):\n",
    "\n",
    "            old_value = data[i:i+5]\n",
    "            index = data.find(data[i:i+5])\n",
    "            instruction =  data[i:i+5].hex()\n",
    "            \n",
    "            present_address = hex(image_base+virtual_address+i)\n",
    "            instruction_len = int(len(data[i:i+5].hex())/2)\n",
    "            \n",
    "            offset = to_little_endian(instruction[2:])\n",
    "            int_operand = hex_to_signed_int(offset)\n",
    "\n",
    "            target_address = instruction_len + int(present_address,16) + int_operand\n",
    "            new_address = modified_address[target_address]\n",
    "            \n",
    "            new_offset = new_address - instruction_len - int(present_address,16)\n",
    "            \n",
    "            operand = hex(new_offset).replace('x','0',1)\n",
    "            \n",
    "            if len(operand)%2 !=0:\n",
    "                new_operand = '0'+operand\n",
    "                operand = new_operand\n",
    "            \n",
    "            operand = to_little_endian(operand)\n",
    "            operand += '0' * (8-len(operand))\n",
    "            \n",
    "            if fin:\n",
    "                print(\"Trampoline Address : \",hex(target_address),\"-->\",hex(new_address))\n",
    "                print(\".Tramp operand : \",operand,len(operand))\n",
    "                \n",
    "            new_value =  bytes.fromhex(('e9'+operand))\n",
    "\n",
    "            break\n",
    "\n",
    "    # 변경된 데이터를 PE 파일에 반영\n",
    "    pe.set_bytes_at_offset(section_start + index, new_value)\n",
    "\n",
    "    output_file_path = file_path \n",
    "    pe.write(output_file_path)\n",
    "    #print(f\"Modified PE file saved as {output_file_path}\")\n",
    "    \n",
    "def modify_rdata(save_dir, modified_address, fin = None):\n",
    "    # PE 파일 로드\n",
    "    file_path = save_dir\n",
    "    pe = pefile.PE(file_path)\n",
    "\n",
    "    # .rdata 섹션 찾기\n",
    "    for section in pe.sections:\n",
    "        if section.Name.decode().strip('\\x00').lower() in ['.data', '.rdata', 'data', 'const']: # add malware's custom section name if you want\n",
    "            section = section\n",
    "            rdata_start = section.VirtualAddress\n",
    "            rdata_end = rdata_start + section.Misc_VirtualSize\n",
    "            section_size = section.SizeOfRawData\n",
    "            section_start = section.PointerToRawData\n",
    "\n",
    "            data = bytearray(pe.get_memory_mapped_image()[rdata_start:rdata_start + section_size])\n",
    "            #print(data)\n",
    "\n",
    "            # 절대 주소 필터링을 위한 범위 설정\n",
    "            image_base = pe.OPTIONAL_HEADER.ImageBase\n",
    "            text_section = next(section for section in pe.sections if section.Name.rstrip(b'\\x00').lower() == b'.text' or section.Name.strip(b'\\x00').upper() == b'CODE')\n",
    "            text_start = text_section.VirtualAddress + image_base\n",
    "            text_end = text_start + text_section.Misc_VirtualSize\n",
    "\n",
    "            for i in range(0, section.Misc_VirtualSize, 4):\n",
    "                value = int.from_bytes(pe.get_data(rdata_start + i, 4), byteorder='little')\n",
    "\n",
    "                if text_start <= value < text_end:\n",
    "                    # 절대 주소 수정\n",
    "                    #try:\n",
    "                    if value in modified_address:\n",
    "                        #if modified_address[value]:\n",
    "                        new_address = modified_address[value]\n",
    "                        index = data.find(pe.get_data(rdata_start + i, 4))\n",
    "\n",
    "                        if fin:\n",
    "                            print(\"Modified Address : \", hex(value),\" --> \",hex(new_address))\n",
    "\n",
    "                        new_address = hex(new_address).replace('x','0',1)\n",
    "                        new_address = to_little_endian(new_address)\n",
    "                        pe.set_bytes_at_offset(section_start + index, bytes.fromhex(new_address))\n",
    "                   # except:\n",
    "                    else:\n",
    "                        continue\n",
    "\n",
    "    # 수정된 PE 파일 저장\n",
    "    output_file_path = save_dir\n",
    "    pe.write(output_file_path)\n",
    "    print(f\"Modified PE file saved as {output_file_path}\")\n",
    "    \n",
    "    return output_file_path\n",
    "\n",
    "\n",
    "def to_little_endian(hex_str):\n",
    "    # 2자리씩 끊어서 리스트로 만듭니다.\n",
    "    bytes_list = [hex_str[i:i+2] for i in range(0, len(hex_str), 2)]\n",
    "    # 리스트를 역순으로 뒤집습니다.\n",
    "    bytes_list.reverse()\n",
    "    # 다시 문자열로 결합합니다.\n",
    "    little_endian_str = ''.join(bytes_list)\n",
    "    return little_endian_str\n",
    "    \n",
    "    \n",
    "def should_add_nop(instruction):\n",
    "    control_flow_instructions = [\n",
    "        # 분기 명령어\n",
    "        'jmp', 'jz', 'je', 'jnz', 'jne', 'ja', 'jnbe', 'jb', 'jnae', 'jc', 'jae', 'jnb', 'jnc',\n",
    "        'jbe', 'jna', 'jg', 'jnle', 'jl', 'jnge', 'jge', 'jnl', 'jle', 'jng', 'jo', 'jno', 'js', 'jns',\n",
    "        # 호출 및 리턴 명령어\n",
    "        'call', 'ret', 'retf', 'iret', 'iretd', 'iretq',\n",
    "        # 인터럽트 명령어\n",
    "        'int', 'int3', 'into',\n",
    "        # 제어 흐름 변경 명령어\n",
    "        'loop', 'loope', 'loopne', 'syscall', 'sysret'\n",
    "    ]\n",
    "\n",
    "    opcode = instruction.split()[0].lower()\n",
    "    return opcode not in control_flow_instructions\n",
    "\n",
    "def negative_to_little_endian_hex(negative_integer):\n",
    "    # 음수를 32비트 2의 보수 16진수로 변환\n",
    "    hex_string = hex(negative_integer & 0xFFFFFFFF)[2:]\n",
    "\n",
    "    # 16진수 문자열을 8자리로 맞추기 위해 앞에 0을 추가\n",
    "    hex_string = hex_string.zfill(8)\n",
    "\n",
    "    # 16진수 문자열을 2자리씩 끊어서 리스트에 저장\n",
    "    hex_bytes = [hex_string[i:i+2] for i in range(0, len(hex_string), 2)]\n",
    "\n",
    "    # 바이트 순서를 반전하여 리틀 엔디안으로 변환\n",
    "    little_endian_hex = ''.join(reversed(hex_bytes))\n",
    "\n",
    "    return little_endian_hex\n",
    "\n",
    "def hex_to_signed_int(hex_str):\n",
    "    value = int(hex_str, 16)\n",
    "    if value & (1 << (len(hex_str) * 4 - 1)):\n",
    "        value -= 1 << (len(hex_str) * 4)\n",
    "    return value\n",
    "\n",
    "\n",
    "def dict_to_frozenset(d):\n",
    "    return frozenset(d.items())\n",
    "\n",
    "@lru_cache(maxsize=None)\n",
    "def decode_section_data(bit, section_data, addr):\n",
    "    return list(Decoder(bit, section_data, ip=addr))\n",
    "\n",
    "@lru_cache(maxsize=None)\n",
    "def count_instructions(first_address, second_address, section_data, bit, number_of_nop, jump_dict, nop_cnt, increase_instr, pe_data, text_section, image_base, virtual_address):\n",
    "    addr = image_base+virtual_address\n",
    "    #decoder = Decoder(bit, section_data, ip=addr)\n",
    "    decoder = decode_section_data(bit, section_data, addr)\n",
    "    jump_dict = dict(jump_dict)\n",
    "    \n",
    "    instruction_count = 0\n",
    "    increace_instruction =0\n",
    "    increase_address = {}\n",
    "    \n",
    "    start_address = min(first_address, second_address)\n",
    "    end_address = max(first_address, second_address)\n",
    "            \n",
    "    for instr in decoder:\n",
    "        \n",
    "        if (instr.ip < start_address):\n",
    "            continue\n",
    "            \n",
    "        #else:\n",
    "        if start_address <= instr.ip <= end_address:\n",
    "            if instr.ip == end_address:\n",
    "                break\n",
    "            else:\n",
    "                instr_str = str(instr)\n",
    "                if any(x in instr_str for x in ('ret', 'int 3', 'nop')):\n",
    "                    continue\n",
    "\n",
    "                if not should_add_nop(str(instr)):\n",
    "                    if len(instr)==2 and 'REL' in code_to_string(instr.code):\n",
    "                       \n",
    "                        present_instr = pe_data[text_section.PointerToRawData + (instr.ip-(image_base+virtual_address)):text_section.PointerToRawData + ((instr.next_ip)-(image_base+virtual_address))]\n",
    " \n",
    "                        operand = present_instr.hex()[2:]\n",
    "\n",
    "                        if 'ptr' in str(instr) and len(operand)>8:\n",
    "                            operand = present_instr.hex()[4:]\n",
    "\n",
    "                        address = hex(instr.ip+len(instr)+hex_to_signed_int(to_little_endian(operand))).replace('0x','',1).upper()   \n",
    "\n",
    "                        anc = count_instructions_between_addresses(instr.ip, int(address,16), section_data, bit, (image_base+virtual_address), number_of_nop)\n",
    "                        \n",
    "                       # frozen_dict = dict_to_frozenset(jump_dict)\n",
    "                        #print(type(jump_dict))\n",
    "\n",
    "                        total_increase = calculate_instruction_length_increase(instr.ip, int(address,16), section_data, bit, dict_to_frozenset(jump_dict), dict_to_frozenset(increase_address), number_of_nop, pe_data, text_section, image_base, virtual_address)\n",
    "\n",
    "                        offset = int(address,16) - instr.ip - len(instr)\n",
    "\n",
    "                        operand = offset + anc + total_increase\n",
    "\n",
    "                        if 0>offset:\n",
    "                            operand = offset - anc - total_increase\n",
    "\n",
    "                        #print(\"  \",hex(instr.ip), instr, operand, offset, anc, total_increase)\n",
    "                        if operand<=(-128) or operand>=127:\n",
    "                            increace_instruction+=1\n",
    "                            op_code = str(instr).split(' ')[0]\n",
    "\n",
    "                            new_ins_len = 5 if 'jmp' in op_code else 6\n",
    "                           # print(\"  \",hex(instr.ip), instr, operand, offset, anc, total_increase)\n",
    "                            increase_address[instr.ip] = int(new_ins_len - len(instr))\n",
    "                    continue\n",
    "\n",
    "                if instr.ip == end_address:\n",
    "                    break\n",
    "\n",
    "                if instr.ip == start_address:\n",
    "                    instruction_count += (1*number_of_nop)\n",
    "                    continue\n",
    "\n",
    "                instruction_count += (1*number_of_nop)\n",
    "                \n",
    "    return instruction_count, increace_instruction, increase_address\n",
    "\n",
    "@lru_cache(maxsize=None)\n",
    "def count_instructions_between_addresses(first_address, second_address, section_data, bit, addr, number_of_nop):\n",
    "    #decoder = Decoder(bit, section_data, ip=addr)\n",
    "    decoder = decode_section_data(bit, section_data, addr)\n",
    "         \n",
    "    instruction_count_num = 0\n",
    "    jump_counter = {}\n",
    "    \n",
    "    start_address = min(first_address, second_address)\n",
    "    end_address = max(first_address, second_address)\n",
    "\n",
    "    for instr in decoder:\n",
    "        \n",
    "        if (instr.ip < start_address):\n",
    "            continue\n",
    "            \n",
    "        if start_address <= instr.ip <= end_address:\n",
    "            if instr.ip == end_address:\n",
    "                break\n",
    "\n",
    "            else:\n",
    "                instr_str = str(instr)\n",
    "                if any(x in instr_str for x in ('ret', 'int 3', 'nop')):\n",
    "                    continue\n",
    "\n",
    "                if not should_add_nop(str(instr)):\n",
    "                    op_code = str(instr).split(' ')[0]\n",
    "                    new_ins_len = 5 if 'jmp' in op_code else 6\n",
    "                    continue\n",
    "\n",
    "                if instr.ip == end_address:\n",
    "                    break\n",
    "\n",
    "                if instr.ip == start_address:\n",
    "                    instruction_count_num += (1*number_of_nop)\n",
    "                    continue\n",
    "\n",
    "                instruction_count_num += (1*number_of_nop)\n",
    "    \n",
    "    return instruction_count_num\n",
    "\n",
    "@lru_cache(maxsize=None)\n",
    "def calculate_instruction_length_increase(first_address, second_address, section_data, bit, jump_dict, increase_address, number_of_nop, pe_data, text_section, image_base, virtual_address):\n",
    "    addr = image_base+virtual_address\n",
    "    #decoder = Decoder(bit, section_data, ip=addr)\n",
    "    decoder = decode_section_data(bit, section_data, addr)\n",
    "    jump_dict = dict(jump_dict)\n",
    "    increase_address = dict(increase_address)\n",
    "    total_increase = 0\n",
    "    \n",
    "    start_address = min(first_address, second_address)\n",
    "    end_address = max(first_address, second_address)\n",
    "\n",
    "    for instr in decoder:\n",
    "        \n",
    "        if (instr.ip < start_address):\n",
    "            continue\n",
    "            \n",
    "        if start_address <= instr.ip <= end_address:\n",
    "            if instr.ip == end_address:\n",
    "                break\n",
    "\n",
    "            else:\n",
    "                instr_str = str(instr)\n",
    "                if any(x in instr_str for x in ('ret', 'int 3', 'nop')):\n",
    "                    continue\n",
    "\n",
    "                if not should_add_nop(str(instr)):\n",
    "\n",
    "\n",
    "                    if len(instr)==2 and 'REL' in code_to_string(instr.code):\n",
    "                       \n",
    "                        present_instr = pe_data[text_section.PointerToRawData + (instr.ip-(image_base+virtual_address)):text_section.PointerToRawData + ((instr.next_ip)-(image_base+virtual_address))]\n",
    " \n",
    "                        operand = present_instr.hex()[2:]\n",
    "\n",
    "                        if 'ptr' in str(instr) and len(operand)>8:\n",
    "                            operand = present_instr.hex()[4:]\n",
    "\n",
    "                        address = hex(instr.ip+len(instr)+hex_to_signed_int(to_little_endian(operand))).replace('0x','',1).upper()   \n",
    "\n",
    "                        offset = int(address,16) - instr.ip - len(instr)\n",
    "\n",
    "                        anc = count_instructions_between_addresses(instr.ip, int(address,16), section_data, bit, addr, number_of_nop)\n",
    "\n",
    "                        if number_of_nop ==1:\n",
    "                            jmp_calibration = 0\n",
    "                            calibration = 0\n",
    "                        else:\n",
    "                            jmp_calibration = sum(value for i, value in increase_address.items() if instr.ip <= i <= int(address,16))\n",
    "                            calibration = sum(value for i, value in jump_dict.items() if start_address <= i <= end_address)\n",
    "\n",
    "                        operand = offset+anc+calibration+jmp_calibration\n",
    "\n",
    "                        if 0>offset:\n",
    "                            operand = offset-anc-calibration-jmp_calibration\n",
    "\n",
    "                        if operand<=(-128) or operand>=127:\n",
    "                            op_code = str(instr).split(' ')[0]\n",
    "\n",
    "                            new_ins_len = 5 if 'jmp' in op_code else 6\n",
    "\n",
    "                            total_increase += int(new_ins_len - len(instr))\n",
    "                    continue\n",
    "\n",
    "                if instr.ip == end_address:\n",
    "                    break\n",
    "\n",
    "                if instr.ip == start_address:\n",
    "                    continue\n",
    "                   \n",
    "    return total_increase\n",
    "\n",
    "def assemble_asm(asm_code, arch, mode, big_endian=False):\n",
    "    # 아키텍처와 모드에 맞게 Keystone 인스턴스 생성\n",
    "    ks = Ks(arch, mode)\n",
    "    \n",
    "    # 어셈블리 코드를 머신 코드로 변환\n",
    "    encoding, count = ks.asm(asm_code)\n",
    "    \n",
    "    # 변환된 머신 코드를 반환\n",
    "    return encoding\n",
    "\n",
    "def create_enum_dict(module: ModuleType) -> Dict[int, str]:\n",
    "    return {module.__dict__[key]:key for key in module.__dict__ if isinstance(module.__dict__[key], int)}\n",
    "\n",
    "CODE_TO_STRING: Dict[Code_, str] = create_enum_dict(Code)\n",
    "def code_to_string(value: Code_) -> str:\n",
    "    s = CODE_TO_STRING.get(value)\n",
    "    if s is None:\n",
    "        return str(value) + \" /*Code enum*/\"\n",
    "    return s\n",
    "\n",
    "def value_int_convert(value):\n",
    "    value = value[0].replace('h','',1)\n",
    "    value = value.replace(',','',1)\n",
    "    hex_value = value.replace('[','',1).replace(']','',1)\n",
    "    \n",
    "    if '80' in hex_value:\n",
    "        hex_value = value.replace('[','',1).replace(']','',1). replace('80','',1)\n",
    "        \n",
    "    value = int(hex_value,16)\n",
    "    return value, hex_value\n",
    "    \n",
    "def calc_offset(target_address, instr, ori_operand, op_code):\n",
    "    if instr.ip > target_address:\n",
    "        new_operand = target_address - instr.ip - len(instr)\n",
    "        operand = negative_to_little_endian_hex(new_operand)\n",
    "\n",
    "    if instr.ip < target_address:\n",
    "        new_operand = target_address - instr.ip - len(instr)\n",
    "        operand = hex(new_operand).replace('x','0',1) # target_address affset\n",
    "        operand = operand.replace('00','',1)\n",
    "\n",
    "        if len(ori_operand) - len(operand) != 0:\n",
    "            new_operand = '0'* int(len(ori_operand) - len(operand))\n",
    "            new_operand+= operand\n",
    "            operand = new_operand\n",
    "\n",
    "        operand = to_little_endian(operand)\n",
    "\n",
    "    new_ins = op_code+operand\n",
    "\n",
    "    return new_ins, op_code, operand \n",
    "\n",
    "def hex_string_to_bytes(hex_string):\n",
    "    # 입력 문자열에서 공백 제거 및 소문자 처리\n",
    "    hex_string = hex_string.strip().upper()\n",
    "    \n",
    "    # 16진수 문자열을 바이트로 변환\n",
    "    bytes_result = bytes.fromhex(hex_string)\n",
    "    \n",
    "    # 바이트 문자열을 반환\n",
    "    return bytes_result\n",
    "\n",
    "\n",
    "def is_prefixes(hex_string):\n",
    "    # 프리픽스 집합 정의\n",
    "    prefixes = {\n",
    "        '26', '2E', '36', '3E', '64', '65',  # Segment prefixes\n",
    "        '66',  # Operand size override prefix\n",
    "        '67',  # Address size override prefix\n",
    "        'F0',  # Lock prefix\n",
    "        'F2', 'F3'  # Repeat prefixes\n",
    "    }\n",
    "    \n",
    "    # 입력된 문자열을 대문자로 변환\n",
    "    hex_string = hex_string.upper()\n",
    "    \n",
    "    # 결과를 저장할 문자열\n",
    "    result = hex_string\n",
    "    removed_prefixes = []\n",
    "    \n",
    "    # 프리픽스를 제거할 때 사용할 변수\n",
    "    while len(result) > 2:\n",
    "        # 앞의 2바이트 추출\n",
    "        first_two_bytes = result[:2]\n",
    "        remaining_bytes = result[2:]\n",
    "        \n",
    "        # 2바이트를 검사하여 프리픽스인지 확인\n",
    "        if first_two_bytes in prefixes:\n",
    "            # 프리픽스가 포함된 경우 제거\n",
    "            removed_prefixes.append(first_two_bytes)\n",
    "            result = remaining_bytes\n",
    "        else:\n",
    "            # 프리픽스가 없으면 반복 종료\n",
    "            break\n",
    "            \n",
    "    removed_prefixes_str = ''.join(removed_prefixes)\n",
    "    \n",
    "    # 결과 반환: 지워진 프리픽스와 프리픽스가 지워진 문자열\n",
    "    return hex_string_to_bytes(removed_prefixes_str), hex_string_to_bytes(result)\n",
    "\n",
    "def make_new_text(file_path ,number_of_nop):\n",
    "    \n",
    "    global old_rawPointer\n",
    "    global old_nextPointer\n",
    "        \n",
    "    pe = pefile.PE(file_path)\n",
    "    pe_data = open(file_path, \"rb\").read()\n",
    "        \n",
    "    prev_section = None   \n",
    "    \n",
    "    for section in pe.sections:\n",
    "        if section.Name.strip(b'\\x00') == b'.text' or section.Name.strip(b'\\x00').upper() == b'CODE':\n",
    "            old_nextPointer = section.PointerToRawData\n",
    "            text_section = section\n",
    "            break\n",
    "        prev_section = section\n",
    "\n",
    "    if text_section is None or text_section.SizeOfRawData == 0:\n",
    "        print(\"Error: .text section not found\")\n",
    "        return None, None, None, None\n",
    "\n",
    "    old_rawPointer = text_section.PointerToRawData\n",
    "    old_size = text_section.Misc\n",
    "    virtual_address = text_section.VirtualAddress\n",
    "    image_base = pe.OPTIONAL_HEADER.ImageBase\n",
    "    section_text = pe_data[text_section.PointerToRawData: text_section.PointerToRawData + text_section.Misc]\n",
    "          \n",
    "    #bitness = 64 if pe.FILE_HEADER.Machine == 0x8664 else 32\n",
    "    \n",
    "    if pe.FILE_HEADER.Machine == 0x8664:\n",
    "        decoder = Decoder(64, section_text, ip = image_base+virtual_address)\n",
    "        bit = 64\n",
    "        address_pattern_short = re.compile(r'\\b,?[0-9A-Fa-f]{12}h\\b|,?\\[\\b[0-9A-Fa-f]{12}h\\b\\]')\n",
    "        \n",
    "    else:\n",
    "        decoder = Decoder(32, section_text, ip = image_base+virtual_address)\n",
    "        bit = 32\n",
    "        address_pattern_short = re.compile(r'\\b,?[0-9A-Fa-f]{6}h\\b|,?\\[\\b[0-9A-Fa-f]{6}h\\b\\]')\n",
    "    \n",
    "    print(bit)\n",
    "        \n",
    "    info_factory = InstructionInfoFactory()\n",
    "    formatter = Formatter(FormatterSyntax.NASM)\n",
    "    \n",
    "    new_text = b''\n",
    "    \n",
    "    text_start = text_section.VirtualAddress + image_base\n",
    "    text_end = text_start + text_section.Misc_VirtualSize\n",
    "     \n",
    "    jump_mappings = {\n",
    "    '70': '0F80',  # JO -> JNO\n",
    "    '71': '0F81',  # JNO -> JNO\n",
    "    '72': '0F82',  # JB/JNAE -> JB/JNAE\n",
    "    '73': '0F83',  # JAE/JNB -> JAE/JNB\n",
    "    '74': '0F84',  # JE/JZ -> JE/JZ\n",
    "    '75': '0F85',  # JNE/JNZ -> JNE/JNZ\n",
    "    '76': '0F86',  # JBE/JNA -> JBE/JNA\n",
    "    '77': '0F87',  # JA/JNBE -> JA/JNBE\n",
    "    '78': '0F88',  # JS -> JS\n",
    "    '79': '0F89',  # JNS -> JNS\n",
    "    '7A': '0F8A',  # JP/JPE -> JP/JPE\n",
    "    '7B': '0F8B',  # JNP/JPO -> JNP/JPO\n",
    "    '7C': '0F8C',  # JL/JNGE -> JL/JNGE\n",
    "    '7D': '0F8D',  # JGE/JNL -> JGE/JNL\n",
    "    '7E': '0F8E',  # JLE/JNG -> JLE/JNG\n",
    "    '7F': '0F8F',  # JG/JNLE -> JG/JNLE\n",
    "    'EB': 'E9',    # JMP -> JMP\n",
    "    'E2': '0F85',  # loop\n",
    "    'E0': '0F8A',  #loopne    \n",
    "    'E1': '0F82'  #loope   \n",
    "    }\n",
    "    \n",
    "    nop_cnt = 0\n",
    "    increase_instr = 0\n",
    "    \n",
    "    jump_dict={}\n",
    "    caller_callee_dict={}\n",
    "    checking_target_address={}\n",
    "    modified_address={}\n",
    "    \n",
    "    for instr in tqdm(decoder):\n",
    "        time.sleep(0.0001)\n",
    "        \n",
    "        checker_80 = 0\n",
    "        \n",
    "        disasm = formatter.format(instr)\n",
    "        op_code = instr.op_code()\n",
    "        \n",
    "        offsets = decoder.get_constant_offsets(instr)      \n",
    "        \n",
    "        present_instr = pe_data[text_section.PointerToRawData + (instr.ip-(image_base+virtual_address)):text_section.PointerToRawData + ((instr.next_ip)-(image_base+virtual_address))]\n",
    "        present_address = (instr.ip+nop_cnt+increase_instr)\n",
    "        \n",
    "        modified_address[instr.ip] = present_address\n",
    "        \n",
    "        if any(x in disasm for x in ('ret', 'int 3', 'nop')):\n",
    "            new_text += present_instr\n",
    "            continue\n",
    "        \n",
    "        op = disasm.split(' ')[0]\n",
    "        \n",
    "        if ('push' in op) or ('pop' in op) or ('test' in op) or ('xor' in op):\n",
    "            new_text += present_instr\n",
    "            new_text += (b'\\x90'*number_of_nop)\n",
    "            nop_cnt+=(1*number_of_nop) \n",
    "            continue \n",
    "            \n",
    "        prefixes = None\n",
    "        \n",
    "        prefixes, present_instr = is_prefixes(present_instr.hex().upper())\n",
    "        \n",
    "        #print(hex(instr.ip),hex(present_address),instr, present_instr.hex(), type(present_instr), instr.ip, present_address, type(instr.ip),code_to_string(instr.code),\"|\",increase_instr, type(present_instr))\n",
    "        \n",
    "        if 'REL' not in code_to_string(instr.code): # 절대주소\n",
    "            value = address_pattern_short.findall(str(instr))\n",
    "            \n",
    "            if value:\n",
    "                value, hex_value = value_int_convert(value)\n",
    "                \n",
    "            else:\n",
    "                saperator = [present_instr.hex()[i:i+2] for i in range(0, len(present_instr.hex()), 2)]\n",
    "                \n",
    "                if 'MOV_RM32_IMM32' in code_to_string(instr.code) and saperator[-1] =='80' and len(present_instr.hex()) == 14:\n",
    "                    value = present_instr[3:6].hex()\n",
    "                    hex_value =  to_little_endian(value)\n",
    "                    value = int(hex_value,16)\n",
    "                    checker_80 = 1\n",
    "                    \n",
    "                else:\n",
    "                    value = 0\n",
    "            \n",
    "            if text_start <= value <= text_end:\n",
    "                caller_callee_dict[instr.ip] = value\n",
    "                target_address = to_little_endian(hex_value)\n",
    "                target_address +='00'\n",
    "                op_code = present_instr.hex().replace(target_address.lower(),'')\n",
    "\n",
    "                adding_nop_cnt, increace_instruction, increase_address = count_instructions(instr.ip, value, section_text, bit, number_of_nop, dict_to_frozenset(jump_dict), nop_cnt, increase_instr, pe_data, text_section, image_base, virtual_address) \n",
    "                #adding_nop_cnt, increace_instruction, increase_address = count_instructions(instr.ip, value, section_text, bit, image_base,virtual_address,number_of_nop, jump_dict, nop_cnt, increase_instr, pe_data, text_section)\n",
    "                \n",
    "                i_cnt = sum(increase_address.values())\n",
    "                \n",
    "                if instr.ip < value:\n",
    "                    target_address = value + (nop_cnt + adding_nop_cnt + (increase_instr))+(i_cnt)\n",
    "\n",
    "                if instr.ip > value:\n",
    "                    if (len(increase_address) and (list(increase_address.keys())[0] == instr.ip)):\n",
    "                        i_cnt = 0\n",
    "                    \n",
    "                    target_address = value + (nop_cnt - adding_nop_cnt - (i_cnt)) + increase_instr\n",
    "                    \n",
    "                operand = hex(target_address).replace('x','0',1) # target_address affset\n",
    "                \n",
    "                if len(operand)>8:\n",
    "                    operand = operand[1:]\n",
    "                    #print(\"operand : \",operand, len(operand))\n",
    "                    \n",
    "                if len(operand)<8:\n",
    "                    operand = '0'+operand\n",
    "                    \n",
    "                operand = to_little_endian(operand)\n",
    "                \n",
    "                if checker_80 ==1:\n",
    "                    op_code = present_instr.hex()[:6]\n",
    "                    new_ins = op_code+operand+'80'\n",
    "                    new_ins = new_ins.replace('0080','80',1)\n",
    "                    \n",
    "                else: \n",
    "                    new_ins = op_code+operand\n",
    "\n",
    "                mc_code =  bytes.fromhex((new_ins))\n",
    "                new_text+= mc_code\n",
    "\n",
    "                checking_target_address[present_address] = target_address\n",
    "\n",
    "                if should_add_nop(str(instr)):\n",
    "                    new_text += (b'\\x90'*number_of_nop)\n",
    "                    nop_cnt+=(1*number_of_nop)\n",
    "                    continue\n",
    "                    \n",
    "            else:                \n",
    "                if prefixes:\n",
    "                    ins = prefixes+present_instr\n",
    "                    present_instr = ins\n",
    "                \n",
    "                new_text += present_instr\n",
    "                \n",
    "                if should_add_nop(str(instr)):\n",
    "                    new_text += (b'\\x90'*number_of_nop)\n",
    "                    nop_cnt+=(1*number_of_nop) \n",
    "                    continue           \n",
    "\n",
    "        if 'REL' in code_to_string(instr.code):\n",
    "                        \n",
    "            op_code = present_instr.hex()[:2]\n",
    "            operand = present_instr.hex()[2:]\n",
    "            \n",
    "            if 'ptr' in str(instr) and len(operand)>8:\n",
    "                op_code = present_instr.hex()[:4]\n",
    "                operand = present_instr.hex()[4:]\n",
    "            \n",
    "            ori_operand = operand\n",
    "            present_address = (instr.ip+nop_cnt+increase_instr) \n",
    "\n",
    "            address = instr.ip+len(instr)+hex_to_signed_int(to_little_endian(operand))\n",
    "\n",
    "            if instr.ip < address:\n",
    "\n",
    "                operand = to_little_endian(operand)\n",
    "                int_operand = hex_to_signed_int(operand)\n",
    "                \n",
    "                adding_nop_cnt, increace_instruction, increase_address = count_instructions(instr.ip, address, section_text, bit, number_of_nop, dict_to_frozenset(jump_dict), nop_cnt, increase_instr, pe_data, text_section, image_base, virtual_address) \n",
    "                #adding_nop_cnt, increace_instruction, increase_address = count_instructions(instr.ip, address, section_text, bit, image_base,virtual_address,number_of_nop, jump_dict, nop_cnt, increase_instr, pe_data, text_section)\n",
    "    \n",
    "                i_cnt=0\n",
    "                i_cnt = sum(increase_address.values())\n",
    "            \n",
    "                target_address = len(instr) + present_address + (int_operand + adding_nop_cnt + (i_cnt))\n",
    "                offset = target_address - present_address - len(instr)\n",
    "                \n",
    "                operand = hex(offset).replace('x','0',1)                                \n",
    "                operand = operand.replace('00','',1)\n",
    "\n",
    "                \n",
    "                if len(operand)%2 !=0:\n",
    "                    new_operand = '0'+operand\n",
    "                    operand = new_operand\n",
    "\n",
    "                operand = to_little_endian(operand)\n",
    "\n",
    "                if len(operand) != 8:\n",
    "                    operand += '0' * (8-len(operand))    \n",
    "                    \n",
    "                if offset<0:\n",
    "                    operand = negative_to_little_endian_hex(offset)\n",
    "                    operand = operand.replace('x','0',1)\n",
    "                    \n",
    "                    while 1:\n",
    "                        if len(ori_operand) == len(operand):\n",
    "                            break\n",
    "                        else:\n",
    "                            operand = operand.replace('ff','',1)\n",
    "                \n",
    "                new_ins = op_code+operand\n",
    "                \n",
    "                if prefixes:\n",
    "                    new_ins = prefixes.hex()+op_code+operand\n",
    "                                \n",
    "                if len(present_instr.hex()) != len(new_ins):\n",
    "                    if 'short' in str(instr) or 'loop' in str(instr):\n",
    "                        ori_operand = present_instr.hex()[2:]\n",
    "                        operand = to_little_endian(ori_operand)\n",
    "                        int_operand = hex_to_signed_int(operand)\n",
    "\n",
    "                        i_cnt = 0\n",
    "                        i_cnt = sum(increase_address.values())\n",
    "                        \n",
    "                        target_address = len(instr) + present_address + (int_operand + adding_nop_cnt + (i_cnt))\n",
    "\n",
    "                        offset = target_address - present_address - len(instr)\n",
    "\n",
    "                        operand = hex(offset).replace('x','0',1)\n",
    "                        \n",
    "                        if len(operand)%2 !=0:\n",
    "                            operand = operand.replace('0','',1)\n",
    " \n",
    "                        int_operand = int(operand,16)\n",
    "        \n",
    "                        if int_operand>=127:\n",
    "                            op_code = present_instr.hex()[:2]\n",
    "                            operand = present_instr.hex()[2:]\n",
    "                            op_code = jump_mappings[op_code.upper()]\n",
    "\n",
    "                            new_ins_len = 6\n",
    "                            \n",
    "                            if 'E9' in op_code:\n",
    "                                new_ins_len = 5\n",
    "                            \n",
    "                            if 'E2' in op_code:\n",
    "                                preprocessing_code = '4883C9FF' # dec cex\n",
    "                                op_code = preprocessing_code+op_code\n",
    "                                new_ins_len = 10\n",
    "                                \n",
    "                            int_operand = target_address - present_address - new_ins_len\n",
    "\n",
    "                            parm_operand = hex(int_operand).replace('0x','',1)\n",
    "                            \n",
    "                            if len(parm_operand)%2 !=0:\n",
    "                                new_parm_operand = '0'+ parm_operand\n",
    "                                parm_operand = new_parm_operand\n",
    "  \n",
    "                            new_operand = to_little_endian(parm_operand)\n",
    "\n",
    "                            operand = new_operand + '0' * (8-len(new_operand))\n",
    "\n",
    "                            increase_instr += new_ins_len - len(instr)\n",
    "                            jump_dict[instr.ip] = int(new_ins_len - len(instr))\n",
    "                            \n",
    "                        else:                            \n",
    "                            while 1:\n",
    "                                if len(ori_operand) == len(operand):\n",
    "                                    break\n",
    "                                else:\n",
    "                                    operand = operand.replace('0','',1)\n",
    "        \n",
    "                    new_ins = op_code+operand\n",
    "            \n",
    "                print(hex(instr.ip),hex(present_address),instr, present_instr.hex(), type(present_instr), instr.ip, present_address, type(instr.ip),code_to_string(instr.code),\"|\",increase_instr, type(present_instr))\n",
    "                print(\"  new_ins : \",new_ins,\"\\n\")\n",
    "                mc_code =  bytes.fromhex((new_ins))\n",
    "\n",
    "                new_text += mc_code  \n",
    "                checking_target_address[present_address] = target_address\n",
    "                caller_callee_dict[instr.ip] = address  \n",
    "\n",
    "                if should_add_nop(str(instr)):\n",
    "                    new_text += (b'\\x90'*number_of_nop)\n",
    "                    nop_cnt+=(1*number_of_nop)\n",
    "                    continue\n",
    "\n",
    "\n",
    "            elif instr.ip > address:\n",
    "                #print(\"    위로 뛸꺼고\")\n",
    "                                    \n",
    "                address = instr.ip+len(instr)+hex_to_signed_int(to_little_endian(operand))\n",
    "\n",
    "                operand = to_little_endian(operand)\n",
    "                int_operand = hex_to_signed_int(operand)\n",
    "\n",
    "                adding_nop_cnt, increace_instruction, increase_address = count_instructions(instr.ip, address, section_text, bit, number_of_nop, dict_to_frozenset(jump_dict), nop_cnt, increase_instr, pe_data, text_section, image_base, virtual_address) \n",
    "                #adding_nop_cnt, increace_instruction, increase_address = count_instructions(instr.ip, address, section_text, bit, image_base,virtual_address,number_of_nop, jump_dict, nop_cnt, increase_instr, pe_data, text_section)\n",
    "                \n",
    "                present_address = (instr.ip  + nop_cnt + increase_instr)\n",
    "\n",
    "                i_cnt = 0     \n",
    "                i_cnt = sum(increase_address.values())\n",
    "                \n",
    "                if (len(increase_address) and (list(increase_address.keys())[0] == instr.ip)):\n",
    "                    i_cnt = 0\n",
    "                \n",
    "                target_address = len(instr) + present_address + (int_operand - adding_nop_cnt - (i_cnt))\n",
    "                \n",
    "                offset = target_address - present_address - len(instr) \n",
    "                operand = negative_to_little_endian_hex(offset)\n",
    "                \n",
    "                new_ins = op_code+operand\n",
    "                \n",
    "                if prefixes:\n",
    "                    new_ins = prefixes.hex()+op_code+operand\n",
    "      \n",
    "                if len(present_instr.hex()) != len(new_ins):\n",
    "                    if 'ff' in new_ins:\n",
    "                        operand = operand.replace('ff','',)\n",
    "                        new_ins = op_code+operand\n",
    "                        \n",
    "                    if 'short' in str(instr) or 'loop' in str(instr):    \n",
    "                        i_cnt = 0                               \n",
    "                        i_cnt = sum(increase_address[i] for i in list(increase_address.keys()) if address <= i < instr.ip)\n",
    "                        \n",
    "                        target_address = len(instr) + present_address + (int_operand - adding_nop_cnt - (i_cnt))\n",
    "                        \n",
    "                        int_operand = target_address - present_address - len(instr)\n",
    "                        operand = negative_to_little_endian_hex(int_operand)      \n",
    "                        operand = operand.replace('ff','')\n",
    "\n",
    "                        if int_operand<=(-128): \n",
    "                            op_code = present_instr.hex()[:2]\n",
    "                            operand = present_instr.hex()[2:]\n",
    "                            op_code = jump_mappings[op_code.upper()]\n",
    "                            \n",
    "                            new_ins_len = 6\n",
    "                            \n",
    "                            if 'E9' in op_code:\n",
    "                                new_ins_len = 5\n",
    "                                \n",
    "                            if 'E2' in op_code:\n",
    "                                preprocessing_code = '4883C9FF' # dec ecx\n",
    "                                op_code = preprocessing_code+op_code\n",
    "                                new_ins_len = 10\n",
    "\n",
    "                            int_operand = target_address - present_address - new_ins_len\n",
    "                            new_operand = negative_to_little_endian_hex(int_operand)\n",
    "                        \n",
    "                            operand = new_operand + '0' * (8-len(new_operand))\n",
    "                           \n",
    "                            increase_instr += new_ins_len - len(instr)\n",
    "                            jump_dict[instr.ip] = new_ins_len - len(instr)\n",
    "                            \n",
    "                        new_ins = op_code+operand   \n",
    "                print(hex(instr.ip),hex(present_address),instr, present_instr.hex(), type(present_instr), instr.ip, present_address, type(instr.ip),code_to_string(instr.code),\"|\",increase_instr, type(present_instr))\n",
    "                print(\"  new_ins : \",new_ins,\"\\n\")\n",
    "                mc_code =  bytes.fromhex((new_ins))\n",
    "                new_text += mc_code\n",
    "                checking_target_address[present_address] = target_address\n",
    "                caller_callee_dict[instr.ip] = address\n",
    "\n",
    "                if should_add_nop(str(instr)):\n",
    "                    new_text += (b'\\x90'*number_of_nop)\n",
    "                    nop_cnt+=(1*number_of_nop)\n",
    "                    continue\n",
    "\n",
    "    return new_text, modified_address , caller_callee_dict, checking_target_address\n",
    "\n",
    "def calc_offset(target_address, address, ori_operand, op_code, size):\n",
    "    \n",
    "    if address > target_address:\n",
    "        print(\" up jump\")\n",
    "        new_operand = address - target_address - size #len(instr)\n",
    "        operand = negative_to_little_endian_hex(new_operand)\n",
    "\n",
    "    if address < target_address:\n",
    "        print(\" down jump\")\n",
    "        new_operand = target_address - address - size #len(instr)\n",
    "        operand = hex(new_operand).replace('x','0',1) # target_address affset\n",
    "        operand = operand.replace('00','',1)\n",
    "\n",
    "\n",
    "        if len(ori_operand) - len(operand) != 0:\n",
    "            new_operand = '0'* int(len(ori_operand) - len(operand))\n",
    "            new_operand+= operand\n",
    "            operand = new_operand\n",
    "\n",
    "        operand = to_little_endian(operand)\n",
    "        \n",
    "    new_ins = op_code+operand\n",
    "          \n",
    "    return new_ins, op_code, operand \n",
    "\n",
    "def unmatched_address_chacker(modified_address, caller_callee_dict, checking_target_address):\n",
    "    \n",
    "    new_address_to_ori_address = {v:k for k,v in modified_address.items()} # new address to original\n",
    "    modifying_address = {}\n",
    "\n",
    "    for caller,callee in checking_target_address.items():\n",
    "        \n",
    "        if caller in new_address_to_ori_address and callee in new_address_to_ori_address:\n",
    "            ori_caller = new_address_to_ori_address[caller]\n",
    "            ori_callee = new_address_to_ori_address[callee]\n",
    "            \n",
    "            if caller_callee_dict[ori_caller] != ori_callee:\n",
    "                modifying_address[caller] = modified_address[caller_callee_dict[ori_caller]]\n",
    "                continue\n",
    "\n",
    "        else:\n",
    "            if caller in new_address_to_ori_address:\n",
    "                ori_caller = new_address_to_ori_address[caller]\n",
    "                ori_callee = caller_callee_dict[ori_caller]                \n",
    "                new_callee = modified_address[ori_callee]\n",
    "                modifying_address[caller] = new_callee\n",
    "                continue\n",
    "\n",
    "            if callee in new_address_to_ori_address:\n",
    "                ori_callee = new_address_to_ori_address[callee]\n",
    "                ori_caller = caller_callee_dict[ori_callee]\n",
    "                new_caller = modified_address[ori_caller]\n",
    "                modifying_address[new_caller] = callee\n",
    "                continue\n",
    "\n",
    "    return modifying_address\n",
    "\n",
    "def modify_instruction_at_address(binary_data, text_section, target_address, new_ins):\n",
    "    relative_address = target_address - text_section.VirtualAddress\n",
    "    binary_data = bytearray(binary_data)\n",
    "    binary_data[text_section.PointerToRawData + relative_address : text_section.PointerToRawData + relative_address + len(new_ins)] = bytes.fromhex((new_ins))\n",
    "    return binary_data\n",
    "\n",
    "def is_direct_address(target, decoded_instructions):\n",
    "    # Check for immediate values (which could indicate direct addresses)\n",
    "    immediate_pattern = re.compile(r'\\b0x[0-9A-Fa-f]+\\b')\n",
    "    for (offset, size, instruction, hexdump) in decoded_instructions:\n",
    "        if offset == target:\n",
    "            \n",
    "            if bool(immediate_pattern.search(instruction)) and ('ff' not in hexdump):\n",
    "                return \"ABS\", offset, instruction, hexdump, size\n",
    "            else:\n",
    "                return \"REL\", offset, instruction, hexdump, size\n",
    "            \n",
    "def decode_instructions(binary_data, start_address, bitness):\n",
    "    if bitness == 64:\n",
    "        mode = distorm3.Decode64Bits\n",
    "    elif bitness == 32:\n",
    "        mode = distorm3.Decode32Bits\n",
    "    else:\n",
    "        raise ValueError(\"Unsupported bitness. Only 32 and 64 are supported.\")\n",
    "    \n",
    "    decoded_instructions = distorm3.Decode(start_address, binary_data, mode)\n",
    "    return decoded_instructions\n",
    "\n",
    "def valid_address_check(file_path, save_dir, caller_callee_dict, checking_target_address, modified_address, number_of_nop):\n",
    "\n",
    "    modifying_address = unmatched_address_chacker(modified_address, caller_callee_dict, checking_target_address)\n",
    "    print(modifying_address)\n",
    "    \n",
    "    if not modifying_address:\n",
    "        return\n",
    "\n",
    "    pe = pefile.PE(save_dir)\n",
    "    pe_data = open(save_dir, \"rb\").read()\n",
    "\n",
    "    prev_section = None   \n",
    "\n",
    "    for section in pe.sections:\n",
    "        if section.Name.strip(b'\\x00') == b'.text' or section.Name.strip(b'\\x00').upper() == b'CODE':\n",
    "            old_nextPointer = section.PointerToRawData\n",
    "            text_section = section\n",
    "            break\n",
    "\n",
    "        prev_section = section\n",
    "\n",
    "    if text_section is None or text_section.SizeOfRawData == 0:\n",
    "        print(\"Error: .text section not found\")\n",
    "        return\n",
    "\n",
    "    image_base = pe.OPTIONAL_HEADER.ImageBase\n",
    "\n",
    "    text_start = text_section.VirtualAddress + image_base\n",
    "    text_end = text_start + text_section.Misc_VirtualSize\n",
    "\n",
    "    binary_data = text_section.get_data()\n",
    "    ori_binary_data = binary_data\n",
    "\n",
    "    if pe.FILE_HEADER.Machine == 0x8664:\n",
    "        bitness = 64\n",
    "        address_pattern_short = re.compile(r'\\b0x[0-9A-Fa-f]{12}\\b|\\[0x[0-9A-Fa-f]{12}\\]')\n",
    "        address_pattern_long = re.compile(r'\\b0x[0-9A-Fa-f]{16}\\b|\\[0x[0-9A-Fa-f]{16}\\]')\n",
    "    else:\n",
    "        bitness = 32\n",
    "        address_pattern_short = re.compile(r'\\b0x[0-9A-Fa-f]{6}\\b|\\[0x[0-9A-Fa-f]{6}\\]')\n",
    "        address_pattern_long = re.compile(r'\\b0x[0-9A-Fa-f]{8}\\b|\\[0x[0-9A-Fa-f]{8}\\]')\n",
    "\n",
    "    decoded_instructions = decode_instructions(binary_data, text_start, bitness)\n",
    "\n",
    "    for target, destination in modifying_address.items():\n",
    "        checker_80 = 0\n",
    "        #print(\"target : \",target, decoded_instructions)\n",
    "        address_type, address, instrcution, hexdump, size = is_direct_address(target, decoded_instructions)\n",
    "\n",
    "        instr_str = str(instrcution)\n",
    "        present_instr = hexdump\n",
    "        \n",
    "        prefixes = None\n",
    "        \n",
    "        prefixes, present_instr = is_prefixes(present_instr.hex().upper())\n",
    "\n",
    "        if 'REL' not in address_type: # 절대주소\n",
    "            value = address_pattern_short.findall(instr_str)\n",
    "\n",
    "            if not value:\n",
    "                value = address_pattern_long.findall(instr_str)\n",
    "\n",
    "                if len(present_instr) == 14 and present_instr[-2:] == '80':\n",
    "                    checker_80 = 1\n",
    "\n",
    "            if value:\n",
    "                value, hex_value = value_int_convert(value)\n",
    "\n",
    "            else:\n",
    "                value = 0\n",
    "\n",
    "            if text_start <= value <= text_end:\n",
    "                caller_callee_dict[target] = value\n",
    "                target_address = to_little_endian(hex_value) + '00'\n",
    "                op_code = present_instr[:2]\n",
    "\n",
    "                operand = hex(destination).replace('x','0',1) # target_address affset\n",
    "                operand = to_little_endian(operand)\n",
    "\n",
    "                if checker_80 == 1:\n",
    "                    op_code = present_instr[:6]                    \n",
    "                    new_ins = op_code+operand+'80'\n",
    "\n",
    "                    if prefixes:\n",
    "                        new_ins = prefixes+op_code+operand+'80'\n",
    "\n",
    "                    new_ins = new_ins.replace('0080','80',1)\n",
    "\n",
    "                else: \n",
    "                    new_ins = op_code+operand\n",
    "\n",
    "        elif 'REL' in address_type: # 상대주소:\n",
    "            op_code = present_instr[:2]\n",
    "            operand = present_instr[2:]\n",
    "            ori_operand = operand\n",
    "\n",
    "            if len(operand)>8:\n",
    "                op_code = present_instr[:4]\n",
    "                operand = present_instr[4:]\n",
    "                ori_operand = operand\n",
    "\n",
    "            value = address_pattern_short.findall(instr_str)\n",
    "\n",
    "            if value: #상대주소\n",
    "                new_ins, op_code,operand = calc_offset(destination, address, ori_operand, op_code, size)\n",
    "\n",
    "            else:\n",
    "                value = address_pattern_long.findall(instr_str)\n",
    "                if value: #상대주소\n",
    "                    new_ins,op_code,operand  = calc_offset(destination, address, ori_operand, op_code, size)\n",
    "\n",
    "        binary_data = modify_instruction_at_address(binary_data, text_section, target, new_ins)\n",
    "\n",
    "    #new_text = binary_data\n",
    "    print(f\"[++] original .text section length : {text_section.Misc}\")\n",
    "    print(f\"[++] new .text section length : {len(binary_data)}\") \n",
    "    \n",
    "    #print(ori_binary_data == binary_data)\n",
    "    new_text = modify_headers(file_path, binary_data, fin = 1)\n",
    "    save_dir = modify_section(file_path, new_text, save_dir, str(number_of_nop), fin = 1)\n",
    "    modify_tramp(save_dir, modified_address, fin = 1)\n",
    "    modify_rdata(save_dir, modified_address, fin = 1)\n",
    "    \n",
    "if __name__ == '__main__':\n",
    "        \n",
    "    sample_dir = '../sample/section_move_sample/'\n",
    "    save_dir = '../sample/perturbated_sample/adding_nop/'\n",
    "    \n",
    "    samples = list_files_by_size(sample_dir)\n",
    "    create_directory(save_dir)\n",
    "    \n",
    "    number_of_nop = 1\n",
    "    for sample in samples:\n",
    "        save_dir = '../sample/perturbated_sample/adding_nop/'\n",
    "        if '.ipynb' in sample or '.pickle' in sample or '.txt' in sample or '.zip' in sample:\n",
    "            continue\n",
    "\n",
    "#         if 'PEview_new.exe' not in sample:\n",
    "        if '0c34ed46c75b33e392091d8fb7b4449b2fd78b6a56ae7d89f5e6441c48f10692_new.exe' in sample or 'PEview_new.exe' in sample or 'hello_32_new.exe' in sample:\n",
    "#         if 'hello_32_new.exe' not in sample:\n",
    "            continue\n",
    "\n",
    "        file_path = sample_dir+sample\n",
    "\n",
    "        print(file_path)\n",
    "                 \n",
    "        new_text, modified_address, caller_callee_dict, checking_target_address = make_new_text(file_path, number_of_nop)\n",
    "\n",
    "        if new_text is None:\n",
    "            print(f\"[+] Error : failed to make new_text section.\") \n",
    "        else:\n",
    "            print(\"len_new_text: \",len(new_text))\n",
    "            new_text = modify_headers(file_path, new_text)\n",
    "            save_dir = modify_section(file_path, new_text, save_dir,number_of_nop)\n",
    "            modify_tramp(save_dir, modified_address)\n",
    "            save_dir = modify_rdata(save_dir, modified_address)\n",
    "            valid_address_check(file_path, save_dir, caller_callee_dict, checking_target_address, modified_address, str(number_of_nop))\n",
    "            print(\"Done!!\",sample)"
   ]
  },
  {
   "cell_type": "code",
   "execution_count": 1,
   "id": "006893e7-3723-4750-9043-976414c19d74",
   "metadata": {},
   "outputs": [
    {
     "name": "stdout",
     "output_type": "stream",
     "text": [
      "<class 'frozenset'>\n",
      "frozenset({('key1', 'value1'), ('key2', 'value2')})\n"
     ]
    }
   ],
   "source": [
    "from functools import lru_cache\n",
    "\n",
    "# 딕셔너리를 frozenset으로 변환하는 함수\n",
    "def dict_to_frozenset(d):\n",
    "    return frozenset(d.items())\n",
    "\n",
    "@lru_cache(maxsize=None)\n",
    "def example_function(param_frozenset,parm1,param2):\n",
    "    # 필요한 작업 수행\n",
    "    fset = example_function2(param_frozenset,parm1,param2)\n",
    "    return param_frozenset\n",
    "\n",
    "@lru_cache(maxsize=None)\n",
    "def example_function2(param_frozenset,parm1,param2):\n",
    "    # 필요한 작업 수행\n",
    "    print(type(param_frozenset))\n",
    "    return param_frozenset\n",
    "# 함수 호출 예시\n",
    "\n",
    "e_dict = {'key1': 'value1', 'key2': 'value2'}\n",
    "# 딕셔너리를 frozenset으로 변환 후 함수에 전달\n",
    "result = example_function(dict_to_frozenset(e_dict), 'param1', 123)\n",
    "print(result)"
   ]
  },
  {
   "cell_type": "code",
   "execution_count": null,
   "id": "f27181d2-9ea0-4c84-abea-3a1cfde5cfe1",
   "metadata": {},
   "outputs": [],
   "source": []
  }
 ],
 "metadata": {
  "kernelspec": {
   "display_name": "ae",
   "language": "python",
   "name": "ae"
  },
  "language_info": {
   "codemirror_mode": {
    "name": "ipython",
    "version": 3
   },
   "file_extension": ".py",
   "mimetype": "text/x-python",
   "name": "python",
   "nbconvert_exporter": "python",
   "pygments_lexer": "ipython3",
   "version": "3.6.9"
  }
 },
 "nbformat": 4,
 "nbformat_minor": 5
}
